{
  "nbformat": 4,
  "nbformat_minor": 0,
  "metadata": {
    "colab": {
      "provenance": [],
      "include_colab_link": true
    },
    "kernelspec": {
      "name": "python3",
      "display_name": "Python 3"
    },
    "language_info": {
      "name": "python"
    }
  },
  "cells": [
    {
      "cell_type": "markdown",
      "metadata": {
        "id": "view-in-github",
        "colab_type": "text"
      },
      "source": [
        "<a href=\"https://colab.research.google.com/github/tlacloc/analisis-defunciones-nacimientos-2022/blob/main/2019_nacimientos.ipynb\" target=\"_parent\"><img src=\"https://colab.research.google.com/assets/colab-badge.svg\" alt=\"Open In Colab\"/></a>"
      ]
    },
    {
      "cell_type": "code",
      "execution_count": 1,
      "metadata": {
        "id": "XEFiPVYg8n_c",
        "colab": {
          "base_uri": "https://localhost:8080/"
        },
        "outputId": "b30ebe6e-bace-48c9-d341-c8165285e63f"
      },
      "outputs": [
        {
          "output_type": "stream",
          "name": "stdout",
          "text": [
            "Mounted at /content/drive\n"
          ]
        }
      ],
      "source": [
        " # Libreria para cargar nuestro drive\n",
        "from google.colab import drive\n",
        "\n",
        "# Cargamos nuestro drive en nuestro notebook\n",
        "drive.mount('/content/drive')"
      ]
    },
    {
      "cell_type": "code",
      "source": [
        "!ls \"/content/drive/MyDrive/Colab Notebooks\""
      ],
      "metadata": {
        "id": "s0_2p8W7m6YK",
        "colab": {
          "base_uri": "https://localhost:8080/"
        },
        "outputId": "be33b7df-3356-4d4b-dfc8-141032acca39"
      },
      "execution_count": 2,
      "outputs": [
        {
          "output_type": "stream",
          "name": "stdout",
          "text": [
            "'Copy of SDC11_actividad1_Badillo_Casanova.ipynb'   SDC_12\t\t test.ipynb\n",
            "'EVC Hackathon Files'\t\t\t\t    SDC_13\t\t Untitled0.ipynb\n",
            " Image\t\t\t\t\t\t    SDC_14\t\t Untitled1.ipynb\n",
            " miriam\t\t\t\t\t\t    SDC_15\t\t Vero\n",
            " SCD_12_Erick_Casanova.ipynb\t\t\t    test-forvero.ipynb\t Visualizacion\n"
          ]
        }
      ]
    },
    {
      "cell_type": "code",
      "source": [
        "# Librerias de ayuda\n",
        "import numpy as np\n",
        "import pandas as pd\n",
        "from scipy.stats import ttest_ind\n",
        "import matplotlib.pyplot as plt\n",
        "import seaborn as sns\n",
        "\n",
        "year = '2019'\n",
        "year_key = {\n",
        "    '2022': 5,\n",
        "    '2021': 4,\n",
        "    '2020': 3,\n",
        "    '2019': 2,\n",
        "    '2018': 1\n",
        "}"
      ],
      "metadata": {
        "id": "Ke_GCaginBra"
      },
      "execution_count": 3,
      "outputs": []
    },
    {
      "cell_type": "code",
      "source": [
        "fileName = '/content/drive/My Drive/Colab Notebooks/miriam/nacimientos_' + year + '.csv'\n",
        "df = pd.read_csv(fileName, low_memory=False)\n",
        "df.head(10)"
      ],
      "metadata": {
        "colab": {
          "base_uri": "https://localhost:8080/",
          "height": 412
        },
        "id": "E1NbIP53nD3y",
        "outputId": "87906469-2d4a-45d5-bb6e-e0eefdf79a96"
      },
      "execution_count": 4,
      "outputs": [
        {
          "output_type": "execute_result",
          "data": {
            "text/plain": [
              "   CEDOCVE  ENT_NACM  MPO_NACM   FECH_NACM  EDADM  CON_INDM  HABLA_INDM  \\\n",
              "0        1         1       1.0  20/12/1993     25       2.0         2.0   \n",
              "1        1         1       1.0  04/09/2000     18       2.0         2.0   \n",
              "2        1         1       1.0  09/11/1997     21       2.0         2.0   \n",
              "3        1        32      56.0  27/11/2001     17       2.0         2.0   \n",
              "4        1        14      64.0  26/06/1991     27       2.0         2.0   \n",
              "5        1         1       1.0  25/10/2001     17       2.0         2.0   \n",
              "6        1         1       1.0  03/09/1996     22       2.0         2.0   \n",
              "7        1        14      39.0  14/06/1983     35       2.0         2.0   \n",
              "8        1         1       1.0  20/09/1999     19       2.0         2.0   \n",
              "9        1         1       1.0  05/11/1988     30       2.0         2.0   \n",
              "\n",
              "  CUAL_LENGM  EDOCIVIL  TIPOVIAL_RES  ...  TIPOVIAL_CERT  TIPOASEN_CERT  \\\n",
              "0       0000        11           5.0  ...           99.0           16.0   \n",
              "1       0000        11           5.0  ...           99.0           16.0   \n",
              "2       0000        11           5.0  ...           99.0           16.0   \n",
              "3       0000        15           5.0  ...           99.0           16.0   \n",
              "4       0000        15           5.0  ...           99.0           99.0   \n",
              "5       0000        12           2.0  ...           99.0           99.0   \n",
              "6       0000        15           5.0  ...           99.0           99.0   \n",
              "7       0000        11           5.0  ...           99.0           99.0   \n",
              "8       0000        15           5.0  ...           99.0           99.0   \n",
              "9       0000        15           5.0  ...           99.0           16.0   \n",
              "\n",
              "   ENT_CERT  MPO_CERT  LOC_CERT   FECH_CERT  FECH_ALTA  FECH_CAMB  IDCAPTURA  \\\n",
              "0         1         1         1  06/01/2019   06/01/19        NaN        1.0   \n",
              "1         1         1         1  06/01/2019   06/01/19        NaN        1.0   \n",
              "2         1         1         1  06/01/2019   06/01/19        NaN        1.0   \n",
              "3         1         1         1  06/01/2019   06/01/19        NaN        1.0   \n",
              "4         1         1         1  09/01/2019   09/01/19        NaN        1.0   \n",
              "5         1         1         1  09/01/2019   09/01/19        NaN        1.0   \n",
              "6         1         1         1  10/01/2019   10/01/19        NaN        1.0   \n",
              "7         1         1         1  10/01/2019   10/01/19        NaN        1.0   \n",
              "8         1         1         1  10/01/2019   10/01/19        NaN        1.0   \n",
              "9         1         1         1  10/01/2019   10/01/19        NaN        1.0   \n",
              "\n",
              "   TIPO_FORMATO  \n",
              "0        2015.0  \n",
              "1        2015.0  \n",
              "2        2015.0  \n",
              "3        2015.0  \n",
              "4        2015.0  \n",
              "5        2015.0  \n",
              "6        2015.0  \n",
              "7        2015.0  \n",
              "8        2015.0  \n",
              "9        2015.0  \n",
              "\n",
              "[10 rows x 76 columns]"
            ],
            "text/html": [
              "\n",
              "  <div id=\"df-b0ad0265-7cd3-4e1a-a112-c11ace6b9d50\" class=\"colab-df-container\">\n",
              "    <div>\n",
              "<style scoped>\n",
              "    .dataframe tbody tr th:only-of-type {\n",
              "        vertical-align: middle;\n",
              "    }\n",
              "\n",
              "    .dataframe tbody tr th {\n",
              "        vertical-align: top;\n",
              "    }\n",
              "\n",
              "    .dataframe thead th {\n",
              "        text-align: right;\n",
              "    }\n",
              "</style>\n",
              "<table border=\"1\" class=\"dataframe\">\n",
              "  <thead>\n",
              "    <tr style=\"text-align: right;\">\n",
              "      <th></th>\n",
              "      <th>CEDOCVE</th>\n",
              "      <th>ENT_NACM</th>\n",
              "      <th>MPO_NACM</th>\n",
              "      <th>FECH_NACM</th>\n",
              "      <th>EDADM</th>\n",
              "      <th>CON_INDM</th>\n",
              "      <th>HABLA_INDM</th>\n",
              "      <th>CUAL_LENGM</th>\n",
              "      <th>EDOCIVIL</th>\n",
              "      <th>TIPOVIAL_RES</th>\n",
              "      <th>...</th>\n",
              "      <th>TIPOVIAL_CERT</th>\n",
              "      <th>TIPOASEN_CERT</th>\n",
              "      <th>ENT_CERT</th>\n",
              "      <th>MPO_CERT</th>\n",
              "      <th>LOC_CERT</th>\n",
              "      <th>FECH_CERT</th>\n",
              "      <th>FECH_ALTA</th>\n",
              "      <th>FECH_CAMB</th>\n",
              "      <th>IDCAPTURA</th>\n",
              "      <th>TIPO_FORMATO</th>\n",
              "    </tr>\n",
              "  </thead>\n",
              "  <tbody>\n",
              "    <tr>\n",
              "      <th>0</th>\n",
              "      <td>1</td>\n",
              "      <td>1</td>\n",
              "      <td>1.0</td>\n",
              "      <td>20/12/1993</td>\n",
              "      <td>25</td>\n",
              "      <td>2.0</td>\n",
              "      <td>2.0</td>\n",
              "      <td>0000</td>\n",
              "      <td>11</td>\n",
              "      <td>5.0</td>\n",
              "      <td>...</td>\n",
              "      <td>99.0</td>\n",
              "      <td>16.0</td>\n",
              "      <td>1</td>\n",
              "      <td>1</td>\n",
              "      <td>1</td>\n",
              "      <td>06/01/2019</td>\n",
              "      <td>06/01/19</td>\n",
              "      <td>NaN</td>\n",
              "      <td>1.0</td>\n",
              "      <td>2015.0</td>\n",
              "    </tr>\n",
              "    <tr>\n",
              "      <th>1</th>\n",
              "      <td>1</td>\n",
              "      <td>1</td>\n",
              "      <td>1.0</td>\n",
              "      <td>04/09/2000</td>\n",
              "      <td>18</td>\n",
              "      <td>2.0</td>\n",
              "      <td>2.0</td>\n",
              "      <td>0000</td>\n",
              "      <td>11</td>\n",
              "      <td>5.0</td>\n",
              "      <td>...</td>\n",
              "      <td>99.0</td>\n",
              "      <td>16.0</td>\n",
              "      <td>1</td>\n",
              "      <td>1</td>\n",
              "      <td>1</td>\n",
              "      <td>06/01/2019</td>\n",
              "      <td>06/01/19</td>\n",
              "      <td>NaN</td>\n",
              "      <td>1.0</td>\n",
              "      <td>2015.0</td>\n",
              "    </tr>\n",
              "    <tr>\n",
              "      <th>2</th>\n",
              "      <td>1</td>\n",
              "      <td>1</td>\n",
              "      <td>1.0</td>\n",
              "      <td>09/11/1997</td>\n",
              "      <td>21</td>\n",
              "      <td>2.0</td>\n",
              "      <td>2.0</td>\n",
              "      <td>0000</td>\n",
              "      <td>11</td>\n",
              "      <td>5.0</td>\n",
              "      <td>...</td>\n",
              "      <td>99.0</td>\n",
              "      <td>16.0</td>\n",
              "      <td>1</td>\n",
              "      <td>1</td>\n",
              "      <td>1</td>\n",
              "      <td>06/01/2019</td>\n",
              "      <td>06/01/19</td>\n",
              "      <td>NaN</td>\n",
              "      <td>1.0</td>\n",
              "      <td>2015.0</td>\n",
              "    </tr>\n",
              "    <tr>\n",
              "      <th>3</th>\n",
              "      <td>1</td>\n",
              "      <td>32</td>\n",
              "      <td>56.0</td>\n",
              "      <td>27/11/2001</td>\n",
              "      <td>17</td>\n",
              "      <td>2.0</td>\n",
              "      <td>2.0</td>\n",
              "      <td>0000</td>\n",
              "      <td>15</td>\n",
              "      <td>5.0</td>\n",
              "      <td>...</td>\n",
              "      <td>99.0</td>\n",
              "      <td>16.0</td>\n",
              "      <td>1</td>\n",
              "      <td>1</td>\n",
              "      <td>1</td>\n",
              "      <td>06/01/2019</td>\n",
              "      <td>06/01/19</td>\n",
              "      <td>NaN</td>\n",
              "      <td>1.0</td>\n",
              "      <td>2015.0</td>\n",
              "    </tr>\n",
              "    <tr>\n",
              "      <th>4</th>\n",
              "      <td>1</td>\n",
              "      <td>14</td>\n",
              "      <td>64.0</td>\n",
              "      <td>26/06/1991</td>\n",
              "      <td>27</td>\n",
              "      <td>2.0</td>\n",
              "      <td>2.0</td>\n",
              "      <td>0000</td>\n",
              "      <td>15</td>\n",
              "      <td>5.0</td>\n",
              "      <td>...</td>\n",
              "      <td>99.0</td>\n",
              "      <td>99.0</td>\n",
              "      <td>1</td>\n",
              "      <td>1</td>\n",
              "      <td>1</td>\n",
              "      <td>09/01/2019</td>\n",
              "      <td>09/01/19</td>\n",
              "      <td>NaN</td>\n",
              "      <td>1.0</td>\n",
              "      <td>2015.0</td>\n",
              "    </tr>\n",
              "    <tr>\n",
              "      <th>5</th>\n",
              "      <td>1</td>\n",
              "      <td>1</td>\n",
              "      <td>1.0</td>\n",
              "      <td>25/10/2001</td>\n",
              "      <td>17</td>\n",
              "      <td>2.0</td>\n",
              "      <td>2.0</td>\n",
              "      <td>0000</td>\n",
              "      <td>12</td>\n",
              "      <td>2.0</td>\n",
              "      <td>...</td>\n",
              "      <td>99.0</td>\n",
              "      <td>99.0</td>\n",
              "      <td>1</td>\n",
              "      <td>1</td>\n",
              "      <td>1</td>\n",
              "      <td>09/01/2019</td>\n",
              "      <td>09/01/19</td>\n",
              "      <td>NaN</td>\n",
              "      <td>1.0</td>\n",
              "      <td>2015.0</td>\n",
              "    </tr>\n",
              "    <tr>\n",
              "      <th>6</th>\n",
              "      <td>1</td>\n",
              "      <td>1</td>\n",
              "      <td>1.0</td>\n",
              "      <td>03/09/1996</td>\n",
              "      <td>22</td>\n",
              "      <td>2.0</td>\n",
              "      <td>2.0</td>\n",
              "      <td>0000</td>\n",
              "      <td>15</td>\n",
              "      <td>5.0</td>\n",
              "      <td>...</td>\n",
              "      <td>99.0</td>\n",
              "      <td>99.0</td>\n",
              "      <td>1</td>\n",
              "      <td>1</td>\n",
              "      <td>1</td>\n",
              "      <td>10/01/2019</td>\n",
              "      <td>10/01/19</td>\n",
              "      <td>NaN</td>\n",
              "      <td>1.0</td>\n",
              "      <td>2015.0</td>\n",
              "    </tr>\n",
              "    <tr>\n",
              "      <th>7</th>\n",
              "      <td>1</td>\n",
              "      <td>14</td>\n",
              "      <td>39.0</td>\n",
              "      <td>14/06/1983</td>\n",
              "      <td>35</td>\n",
              "      <td>2.0</td>\n",
              "      <td>2.0</td>\n",
              "      <td>0000</td>\n",
              "      <td>11</td>\n",
              "      <td>5.0</td>\n",
              "      <td>...</td>\n",
              "      <td>99.0</td>\n",
              "      <td>99.0</td>\n",
              "      <td>1</td>\n",
              "      <td>1</td>\n",
              "      <td>1</td>\n",
              "      <td>10/01/2019</td>\n",
              "      <td>10/01/19</td>\n",
              "      <td>NaN</td>\n",
              "      <td>1.0</td>\n",
              "      <td>2015.0</td>\n",
              "    </tr>\n",
              "    <tr>\n",
              "      <th>8</th>\n",
              "      <td>1</td>\n",
              "      <td>1</td>\n",
              "      <td>1.0</td>\n",
              "      <td>20/09/1999</td>\n",
              "      <td>19</td>\n",
              "      <td>2.0</td>\n",
              "      <td>2.0</td>\n",
              "      <td>0000</td>\n",
              "      <td>15</td>\n",
              "      <td>5.0</td>\n",
              "      <td>...</td>\n",
              "      <td>99.0</td>\n",
              "      <td>99.0</td>\n",
              "      <td>1</td>\n",
              "      <td>1</td>\n",
              "      <td>1</td>\n",
              "      <td>10/01/2019</td>\n",
              "      <td>10/01/19</td>\n",
              "      <td>NaN</td>\n",
              "      <td>1.0</td>\n",
              "      <td>2015.0</td>\n",
              "    </tr>\n",
              "    <tr>\n",
              "      <th>9</th>\n",
              "      <td>1</td>\n",
              "      <td>1</td>\n",
              "      <td>1.0</td>\n",
              "      <td>05/11/1988</td>\n",
              "      <td>30</td>\n",
              "      <td>2.0</td>\n",
              "      <td>2.0</td>\n",
              "      <td>0000</td>\n",
              "      <td>15</td>\n",
              "      <td>5.0</td>\n",
              "      <td>...</td>\n",
              "      <td>99.0</td>\n",
              "      <td>16.0</td>\n",
              "      <td>1</td>\n",
              "      <td>1</td>\n",
              "      <td>1</td>\n",
              "      <td>10/01/2019</td>\n",
              "      <td>10/01/19</td>\n",
              "      <td>NaN</td>\n",
              "      <td>1.0</td>\n",
              "      <td>2015.0</td>\n",
              "    </tr>\n",
              "  </tbody>\n",
              "</table>\n",
              "<p>10 rows × 76 columns</p>\n",
              "</div>\n",
              "    <div class=\"colab-df-buttons\">\n",
              "\n",
              "  <div class=\"colab-df-container\">\n",
              "    <button class=\"colab-df-convert\" onclick=\"convertToInteractive('df-b0ad0265-7cd3-4e1a-a112-c11ace6b9d50')\"\n",
              "            title=\"Convert this dataframe to an interactive table.\"\n",
              "            style=\"display:none;\">\n",
              "\n",
              "  <svg xmlns=\"http://www.w3.org/2000/svg\" height=\"24px\" viewBox=\"0 -960 960 960\">\n",
              "    <path d=\"M120-120v-720h720v720H120Zm60-500h600v-160H180v160Zm220 220h160v-160H400v160Zm0 220h160v-160H400v160ZM180-400h160v-160H180v160Zm440 0h160v-160H620v160ZM180-180h160v-160H180v160Zm440 0h160v-160H620v160Z\"/>\n",
              "  </svg>\n",
              "    </button>\n",
              "\n",
              "  <style>\n",
              "    .colab-df-container {\n",
              "      display:flex;\n",
              "      gap: 12px;\n",
              "    }\n",
              "\n",
              "    .colab-df-convert {\n",
              "      background-color: #E8F0FE;\n",
              "      border: none;\n",
              "      border-radius: 50%;\n",
              "      cursor: pointer;\n",
              "      display: none;\n",
              "      fill: #1967D2;\n",
              "      height: 32px;\n",
              "      padding: 0 0 0 0;\n",
              "      width: 32px;\n",
              "    }\n",
              "\n",
              "    .colab-df-convert:hover {\n",
              "      background-color: #E2EBFA;\n",
              "      box-shadow: 0px 1px 2px rgba(60, 64, 67, 0.3), 0px 1px 3px 1px rgba(60, 64, 67, 0.15);\n",
              "      fill: #174EA6;\n",
              "    }\n",
              "\n",
              "    .colab-df-buttons div {\n",
              "      margin-bottom: 4px;\n",
              "    }\n",
              "\n",
              "    [theme=dark] .colab-df-convert {\n",
              "      background-color: #3B4455;\n",
              "      fill: #D2E3FC;\n",
              "    }\n",
              "\n",
              "    [theme=dark] .colab-df-convert:hover {\n",
              "      background-color: #434B5C;\n",
              "      box-shadow: 0px 1px 3px 1px rgba(0, 0, 0, 0.15);\n",
              "      filter: drop-shadow(0px 1px 2px rgba(0, 0, 0, 0.3));\n",
              "      fill: #FFFFFF;\n",
              "    }\n",
              "  </style>\n",
              "\n",
              "    <script>\n",
              "      const buttonEl =\n",
              "        document.querySelector('#df-b0ad0265-7cd3-4e1a-a112-c11ace6b9d50 button.colab-df-convert');\n",
              "      buttonEl.style.display =\n",
              "        google.colab.kernel.accessAllowed ? 'block' : 'none';\n",
              "\n",
              "      async function convertToInteractive(key) {\n",
              "        const element = document.querySelector('#df-b0ad0265-7cd3-4e1a-a112-c11ace6b9d50');\n",
              "        const dataTable =\n",
              "          await google.colab.kernel.invokeFunction('convertToInteractive',\n",
              "                                                    [key], {});\n",
              "        if (!dataTable) return;\n",
              "\n",
              "        const docLinkHtml = 'Like what you see? Visit the ' +\n",
              "          '<a target=\"_blank\" href=https://colab.research.google.com/notebooks/data_table.ipynb>data table notebook</a>'\n",
              "          + ' to learn more about interactive tables.';\n",
              "        element.innerHTML = '';\n",
              "        dataTable['output_type'] = 'display_data';\n",
              "        await google.colab.output.renderOutput(dataTable, element);\n",
              "        const docLink = document.createElement('div');\n",
              "        docLink.innerHTML = docLinkHtml;\n",
              "        element.appendChild(docLink);\n",
              "      }\n",
              "    </script>\n",
              "  </div>\n",
              "\n",
              "\n",
              "<div id=\"df-0d2092a8-8e9d-401e-a1be-b703b1567650\">\n",
              "  <button class=\"colab-df-quickchart\" onclick=\"quickchart('df-0d2092a8-8e9d-401e-a1be-b703b1567650')\"\n",
              "            title=\"Suggest charts\"\n",
              "            style=\"display:none;\">\n",
              "\n",
              "<svg xmlns=\"http://www.w3.org/2000/svg\" height=\"24px\"viewBox=\"0 0 24 24\"\n",
              "     width=\"24px\">\n",
              "    <g>\n",
              "        <path d=\"M19 3H5c-1.1 0-2 .9-2 2v14c0 1.1.9 2 2 2h14c1.1 0 2-.9 2-2V5c0-1.1-.9-2-2-2zM9 17H7v-7h2v7zm4 0h-2V7h2v10zm4 0h-2v-4h2v4z\"/>\n",
              "    </g>\n",
              "</svg>\n",
              "  </button>\n",
              "\n",
              "<style>\n",
              "  .colab-df-quickchart {\n",
              "      --bg-color: #E8F0FE;\n",
              "      --fill-color: #1967D2;\n",
              "      --hover-bg-color: #E2EBFA;\n",
              "      --hover-fill-color: #174EA6;\n",
              "      --disabled-fill-color: #AAA;\n",
              "      --disabled-bg-color: #DDD;\n",
              "  }\n",
              "\n",
              "  [theme=dark] .colab-df-quickchart {\n",
              "      --bg-color: #3B4455;\n",
              "      --fill-color: #D2E3FC;\n",
              "      --hover-bg-color: #434B5C;\n",
              "      --hover-fill-color: #FFFFFF;\n",
              "      --disabled-bg-color: #3B4455;\n",
              "      --disabled-fill-color: #666;\n",
              "  }\n",
              "\n",
              "  .colab-df-quickchart {\n",
              "    background-color: var(--bg-color);\n",
              "    border: none;\n",
              "    border-radius: 50%;\n",
              "    cursor: pointer;\n",
              "    display: none;\n",
              "    fill: var(--fill-color);\n",
              "    height: 32px;\n",
              "    padding: 0;\n",
              "    width: 32px;\n",
              "  }\n",
              "\n",
              "  .colab-df-quickchart:hover {\n",
              "    background-color: var(--hover-bg-color);\n",
              "    box-shadow: 0 1px 2px rgba(60, 64, 67, 0.3), 0 1px 3px 1px rgba(60, 64, 67, 0.15);\n",
              "    fill: var(--button-hover-fill-color);\n",
              "  }\n",
              "\n",
              "  .colab-df-quickchart-complete:disabled,\n",
              "  .colab-df-quickchart-complete:disabled:hover {\n",
              "    background-color: var(--disabled-bg-color);\n",
              "    fill: var(--disabled-fill-color);\n",
              "    box-shadow: none;\n",
              "  }\n",
              "\n",
              "  .colab-df-spinner {\n",
              "    border: 2px solid var(--fill-color);\n",
              "    border-color: transparent;\n",
              "    border-bottom-color: var(--fill-color);\n",
              "    animation:\n",
              "      spin 1s steps(1) infinite;\n",
              "  }\n",
              "\n",
              "  @keyframes spin {\n",
              "    0% {\n",
              "      border-color: transparent;\n",
              "      border-bottom-color: var(--fill-color);\n",
              "      border-left-color: var(--fill-color);\n",
              "    }\n",
              "    20% {\n",
              "      border-color: transparent;\n",
              "      border-left-color: var(--fill-color);\n",
              "      border-top-color: var(--fill-color);\n",
              "    }\n",
              "    30% {\n",
              "      border-color: transparent;\n",
              "      border-left-color: var(--fill-color);\n",
              "      border-top-color: var(--fill-color);\n",
              "      border-right-color: var(--fill-color);\n",
              "    }\n",
              "    40% {\n",
              "      border-color: transparent;\n",
              "      border-right-color: var(--fill-color);\n",
              "      border-top-color: var(--fill-color);\n",
              "    }\n",
              "    60% {\n",
              "      border-color: transparent;\n",
              "      border-right-color: var(--fill-color);\n",
              "    }\n",
              "    80% {\n",
              "      border-color: transparent;\n",
              "      border-right-color: var(--fill-color);\n",
              "      border-bottom-color: var(--fill-color);\n",
              "    }\n",
              "    90% {\n",
              "      border-color: transparent;\n",
              "      border-bottom-color: var(--fill-color);\n",
              "    }\n",
              "  }\n",
              "</style>\n",
              "\n",
              "  <script>\n",
              "    async function quickchart(key) {\n",
              "      const quickchartButtonEl =\n",
              "        document.querySelector('#' + key + ' button');\n",
              "      quickchartButtonEl.disabled = true;  // To prevent multiple clicks.\n",
              "      quickchartButtonEl.classList.add('colab-df-spinner');\n",
              "      try {\n",
              "        const charts = await google.colab.kernel.invokeFunction(\n",
              "            'suggestCharts', [key], {});\n",
              "      } catch (error) {\n",
              "        console.error('Error during call to suggestCharts:', error);\n",
              "      }\n",
              "      quickchartButtonEl.classList.remove('colab-df-spinner');\n",
              "      quickchartButtonEl.classList.add('colab-df-quickchart-complete');\n",
              "    }\n",
              "    (() => {\n",
              "      let quickchartButtonEl =\n",
              "        document.querySelector('#df-0d2092a8-8e9d-401e-a1be-b703b1567650 button');\n",
              "      quickchartButtonEl.style.display =\n",
              "        google.colab.kernel.accessAllowed ? 'block' : 'none';\n",
              "    })();\n",
              "  </script>\n",
              "</div>\n",
              "\n",
              "    </div>\n",
              "  </div>\n"
            ]
          },
          "metadata": {},
          "execution_count": 4
        }
      ]
    },
    {
      "cell_type": "code",
      "source": [
        "oldColumns = df.columns\n",
        "oldColumns"
      ],
      "metadata": {
        "colab": {
          "base_uri": "https://localhost:8080/"
        },
        "id": "zZO-pG3Tu82u",
        "outputId": "f3c3cd39-6882-43f9-c0a1-3545997e4680"
      },
      "execution_count": 5,
      "outputs": [
        {
          "output_type": "execute_result",
          "data": {
            "text/plain": [
              "Index(['CEDOCVE', 'ENT_NACM', 'MPO_NACM', 'FECH_NACM', 'EDADM', 'CON_INDM',\n",
              "       'HABLA_INDM', 'CUAL_LENGM', 'EDOCIVIL', 'TIPOVIAL_RES', 'TIPOASEN_RES',\n",
              "       'ENT_RES', 'MPO_RES', 'LOC_RES', 'NUM_EMB', 'NUM_NACMTO', 'NUM_NACVIVO',\n",
              "       'HIJO_SOBV', 'HIJO_ANTE', 'VIVE_AUN', 'ORDEN_NAC', 'ATEN_PREN',\n",
              "       'TRIM_CONS', 'TOT_CONS', 'SOB_PARTO', 'DERHAB', 'DERHAB2', 'NIV_ESCOL',\n",
              "       'OCUPHAB', 'CVEOCUPHAB', 'TRAB_ACT', 'FECH_NACH', 'HORA_NACH', 'SEXOH',\n",
              "       'GESTACH', 'TALLAH', 'PESOH', 'APGARH', 'SILVERMAN', 'BCG', 'HEP_B',\n",
              "       'VIT_A', 'VIT_K', 'TAM_AUD', 'PRODUCTO', 'ACELRN', 'CVE_CIE', 'ACELRN2',\n",
              "       'CVE_CIE2', 'PROCNAC', 'FORCEPS', 'ESPECIFIQUE', 'INST_NAC', 'UNIMED',\n",
              "       'CLUES', 'ATENDIO', 'ATEN_OTRO', 'TIPOVIAL_NAC', 'TIPOASEN_NAC',\n",
              "       'ENT_NAC', 'MPO_NAC', 'LOC_NAC', 'CERT_POR', 'OTROMEDICO',\n",
              "       'UNIMED_33_1', 'CLUES_33_2', 'TIPOVIAL_CERT', 'TIPOASEN_CERT',\n",
              "       'ENT_CERT', 'MPO_CERT', 'LOC_CERT', 'FECH_CERT', 'FECH_ALTA',\n",
              "       'FECH_CAMB', 'IDCAPTURA', 'TIPO_FORMATO'],\n",
              "      dtype='object')"
            ]
          },
          "metadata": {},
          "execution_count": 5
        }
      ]
    },
    {
      "cell_type": "markdown",
      "source": [
        "Renombrando columnas para relacionarlas con los a~os mas actuales"
      ],
      "metadata": {
        "id": "RpVj6WSheAbF"
      }
    },
    {
      "cell_type": "code",
      "source": [
        "df.rename(columns = {'TAM_AUD':'TAMIZAUDITIVO'}, inplace = True)\n",
        "df.rename(columns = {'HIJO_SOBV':'HIJOSSOBREVIVIENTES'}, inplace = True)\n",
        "df.rename(columns = {'FECH_NACH':'FECHANACIMIENTO'}, inplace = True)\n",
        "df.rename(columns = {'ORDEN_NAC':'ORDENNACIMIENTO'}, inplace = True)\n",
        "df.rename(columns = {'ENT_NAC':'ENTIDADNACIMIENTO'}, inplace = True)\n",
        "df.rename(columns = {'MPO_NACM':'MUNICIPIONACIMIENTO'}, inplace = True)\n",
        "df.rename(columns = {'CON_INDM':'SECONSIDERAINDIGENA'}, inplace = True)\n",
        "df.rename(columns = {'HABLA_INDM':'HABLALENGUAINDIGENA'}, inplace = True)\n",
        "df.rename(columns = {'FECH_NACM':'FECHANACIMIENTOMADRE'}, inplace = True)\n",
        "df.rename(columns = {'EDOCIVIL':'ESTADOCONYUGAL'}, inplace = True)\n",
        "df.rename(columns = {'ENT_RES':'ENTIDADRESIDENCIA'}, inplace = True)\n",
        "df.rename(columns = {'MPO_RES':'MUNICIPIORESIDENCIA'}, inplace = True)\n",
        "df.rename(columns = {'LOC_RES':'LOCALIDADRESIDENCIA'}, inplace = True)\n",
        "df.rename(columns = {'NUM_NACVIVO':'HIJOSNACIDOSVIVOS'}, inplace = True)\n",
        "df.rename(columns = {'HIJO_ANTE':'CONDICIONHIJOANTERIOR'}, inplace = True)\n",
        "df.rename(columns = {'VIVE_AUN':'VIVEHIJOANTERIOR'}, inplace = True)\n",
        "df.rename(columns = {'CVEOCUPHAB':'CLAVEOCUPACIONHABITUAL'}, inplace = True)\n",
        "df.rename(columns = {'TRAB_ACT':'TRABAJAACTUALMENTE'}, inplace = True)\n",
        "df.rename(columns = {'HORA_NACH':'HORANACIMIENTO'}, inplace = True)\n",
        "df.rename(columns = {'BCG':'VACUNA_BCG'}, inplace = True)\n",
        "df.rename(columns = {'HEP_B':'VACUNAHEPATITIS_B'}, inplace = True)\n",
        "df.rename(columns = {'VIT_A':'VITAMINA_A'}, inplace = True)\n",
        "df.rename(columns = {'VIT_K':'VITAMINA_K'}, inplace = True)\n",
        "df.rename(columns = {'PRODUCTO':'PRODUCTOEMBARAZO'}, inplace = True)\n",
        "df.rename(columns = {'CLUES':'CLUES'}, inplace = True)\n",
        "df.rename(columns = {'FORCEPS':'UTILIZOFORCEPS'}, inplace = True)\n",
        "df.rename(columns = {'FORCEPS':'TIPOCESAREA'}, inplace = True)\n",
        "df.rename(columns = {'ATENDIO':'PERSONALATENDIO'}, inplace = True)\n",
        "df.rename(columns = {'MPO_NAC':'MUNICIPIOPARTO'}, inplace = True)\n",
        "df.rename(columns = {'LOC_NAC':'LOCALIDADPARTO'}, inplace = True)\n",
        "df.rename(columns = {'CERT_POR':'CERTIFICADOPOR'}, inplace = True)\n",
        "df.rename(columns = {'CLUES_33_2':'CLUESCERTIFICA'}, inplace = True)\n",
        "df.rename(columns = {'ENT_CERT':'ENTIDADFEDERATIVACERTIFICA'}, inplace = True)\n",
        "df.rename(columns = {'MPO_CERT':'MUNICIPIOCERTIFICA'}, inplace = True)\n",
        "df.rename(columns = {'LOC_CERT':'LOCALIDADCERTIFICA'}, inplace = True)\n",
        "df.rename(columns = {'FECH_CERT':'FECHACERTIFICADO'}, inplace = True)\n",
        "df.rename(columns = {'INST_NAC':'LUGARNACIMIENTO'}, inplace = True)"
      ],
      "metadata": {
        "id": "2PNYYTpFeGz9"
      },
      "execution_count": 6,
      "outputs": []
    },
    {
      "cell_type": "code",
      "source": [
        "oldColumns = df.columns\n",
        "oldColumns"
      ],
      "metadata": {
        "colab": {
          "base_uri": "https://localhost:8080/"
        },
        "id": "gMEUPBBJeJYr",
        "outputId": "e07fa83a-6c27-47ce-cf28-376f71efb4f5"
      },
      "execution_count": 7,
      "outputs": [
        {
          "output_type": "execute_result",
          "data": {
            "text/plain": [
              "Index(['CEDOCVE', 'ENT_NACM', 'MUNICIPIONACIMIENTO', 'FECHANACIMIENTOMADRE',\n",
              "       'EDADM', 'SECONSIDERAINDIGENA', 'HABLALENGUAINDIGENA', 'CUAL_LENGM',\n",
              "       'ESTADOCONYUGAL', 'TIPOVIAL_RES', 'TIPOASEN_RES', 'ENTIDADRESIDENCIA',\n",
              "       'MUNICIPIORESIDENCIA', 'LOCALIDADRESIDENCIA', 'NUM_EMB', 'NUM_NACMTO',\n",
              "       'HIJOSNACIDOSVIVOS', 'HIJOSSOBREVIVIENTES', 'CONDICIONHIJOANTERIOR',\n",
              "       'VIVEHIJOANTERIOR', 'ORDENNACIMIENTO', 'ATEN_PREN', 'TRIM_CONS',\n",
              "       'TOT_CONS', 'SOB_PARTO', 'DERHAB', 'DERHAB2', 'NIV_ESCOL', 'OCUPHAB',\n",
              "       'CLAVEOCUPACIONHABITUAL', 'TRABAJAACTUALMENTE', 'FECHANACIMIENTO',\n",
              "       'HORANACIMIENTO', 'SEXOH', 'GESTACH', 'TALLAH', 'PESOH', 'APGARH',\n",
              "       'SILVERMAN', 'VACUNA_BCG', 'VACUNAHEPATITIS_B', 'VITAMINA_A',\n",
              "       'VITAMINA_K', 'TAMIZAUDITIVO', 'PRODUCTOEMBARAZO', 'ACELRN', 'CVE_CIE',\n",
              "       'ACELRN2', 'CVE_CIE2', 'PROCNAC', 'UTILIZOFORCEPS', 'ESPECIFIQUE',\n",
              "       'LUGARNACIMIENTO', 'UNIMED', 'CLUES', 'PERSONALATENDIO', 'ATEN_OTRO',\n",
              "       'TIPOVIAL_NAC', 'TIPOASEN_NAC', 'ENTIDADNACIMIENTO', 'MUNICIPIOPARTO',\n",
              "       'LOCALIDADPARTO', 'CERTIFICADOPOR', 'OTROMEDICO', 'UNIMED_33_1',\n",
              "       'CLUESCERTIFICA', 'TIPOVIAL_CERT', 'TIPOASEN_CERT',\n",
              "       'ENTIDADFEDERATIVACERTIFICA', 'MUNICIPIOCERTIFICA',\n",
              "       'LOCALIDADCERTIFICA', 'FECHACERTIFICADO', 'FECH_ALTA', 'FECH_CAMB',\n",
              "       'IDCAPTURA', 'TIPO_FORMATO'],\n",
              "      dtype='object')"
            ]
          },
          "metadata": {},
          "execution_count": 7
        }
      ]
    },
    {
      "cell_type": "code",
      "source": [
        "df.rename(columns = {'EDADM':'EDAD'}, inplace = True)\n",
        "df.rename(columns = {'NUM_EMB':'NUMEROEMBARAZOS'}, inplace = True)\n",
        "df.rename(columns = {'NUM_NACMTO':'HIJOSNACIDOSMUERTOS'}, inplace = True)\n",
        "df.rename(columns = {'ATEN_PREN':'ATENCIONPRENATAL'}, inplace = True)\n",
        "df.rename(columns = {'TRIM_CONS':'TRIMESTREPRIMERCONSULTA'}, inplace = True)\n",
        "df.rename(columns = {'TOT_CONS':'TOTALCONSULTAS'}, inplace = True)\n",
        "df.rename(columns = {'SOB_PARTO':'SOBREVIVIOPARTO'}, inplace = True)\n",
        "df.rename(columns = {'NIV_ESCOL':'ESCOLARIDAD'}, inplace = True)\n",
        "df.rename(columns = {'SEXOH':'SEXO'}, inplace = True)\n",
        "df.rename(columns = {'GESTACH':'EDADGESTACIONAL'}, inplace = True)\n",
        "df.rename(columns = {'TALLAH':'TALLA'}, inplace = True)\n",
        "df.rename(columns = {'PESOH':'PESO'}, inplace = True)\n",
        "df.rename(columns = {'APGARH':'APGAR'}, inplace = True)\n",
        "df.rename(columns = {'PRODUCTO':'PRODUCTOEMBARAZO'}, inplace = True)\n",
        "df.rename(columns = {'CVE_CIE':'CODIGOCIEANOMALIA1'}, inplace = True)\n",
        "df.rename(columns = {'CVE_CIE2':'CODIGOCIEANOMALIA2'}, inplace = True)\n",
        "df.rename(columns = {'PROCNAC':'RESOLUCIONEMBARAZO'}, inplace = True)\n",
        "df.rename(columns = {'ENT_NACM':'ENTIDADFEDERATIVAPARTO'}, inplace = True)"
      ],
      "metadata": {
        "id": "5dVmwh5-eNA7"
      },
      "execution_count": 8,
      "outputs": []
    },
    {
      "cell_type": "markdown",
      "source": [
        "Variables que sd van a utilizar"
      ],
      "metadata": {
        "id": "8bYl99CXwYNU"
      }
    },
    {
      "cell_type": "code",
      "source": [
        "# Limpieza de datos\n",
        "# Se eliminaran las columnas que no se utilizaran\n",
        "['ENTIDADFEDERATIVAPARTO', 'EDAD',\n",
        "       'TIPOVIAL_RES', 'TIPOASEN_RES', 'NUMEROEMBARAZOS',\n",
        "       'HIJOSNACIDOSMUERTOS', 'ATENCIONPRENATAL', 'TRIMESTREPRIMERCONSULTA',\n",
        "       'TOTALCONSULTAS', 'SOBREVIVIOPARTO', 'DERHAB', 'DERHAB2', 'ESCOLARIDAD',\n",
        "       'OCUPHAB', 'FECHANACIMIENTO', 'SEXO', 'EDADGESTACIONAL', 'TALLA',\n",
        "       'PESO', 'APGAR', 'SILVERMAN', 'ACELRN', 'CODIGOCIEANOMALIA1', 'ACELRN2',\n",
        "       'CODIGOCIEANOMALIA2', 'RESOLUCIONEMBARAZO', 'ESPECIFIQUE', 'UNIMED',\n",
        "       'ATEN_OTRO', 'TIPOVIAL_NAC', 'TIPOASEN_NAC', 'OTROMEDICO',\n",
        "       'UNIMED_33_1', 'TIPOVIAL_CERT', 'TIPOASEN_CERT', 'FECH_ALTA',\n",
        "       'FECH_CAMB', 'IDCAPTURA', 'TIPO_FORMATO']\n",
        "columnsToRemove = [\n",
        "    \"TAMIZAUDITIVO\",\n",
        "    \"HIJOSSOBREVIVIENTES\",\n",
        "    # \"FECHANACIMIENTO\",\n",
        "    \"ENTIDADNACIMIENTO\",\n",
        "    \"MUNICIPIONACIMIENTO\",\n",
        "    \"SECONSIDERAINDIGENA\",\n",
        "    \"HABLALENGUAINDIGENA\",\n",
        "    \"FECHANACIMIENTOMADRE\",\n",
        "    \"ESTADOCONYUGAL\",\n",
        "    \"ENTIDADRESIDENCIA\",\n",
        "    \"MUNICIPIORESIDENCIA\",\n",
        "    \"LOCALIDADRESIDENCIA\",\n",
        "    \"HIJOSNACIDOSVIVOS\",\n",
        "    \"CONDICIONHIJOANTERIOR\",\n",
        "    \"VIVEHIJOANTERIOR\",\n",
        "    \"ORDENNACIMIENTO\",\n",
        "    \"CLAVEOCUPACIONHABITUAL\",\n",
        "    \"TRABAJAACTUALMENTE\",\n",
        "    \"HORANACIMIENTO\",\n",
        "    \"VACUNA_BCG\",\n",
        "    \"VACUNAHEPATITIS_B\",\n",
        "    \"VITAMINA_A\",\n",
        "    \"VITAMINA_K\",\n",
        "    # Relacionado a gemelos\n",
        "    # \"PRODUCTOEMBARAZO\",\n",
        "    \"CLUES\",\n",
        "    \"UTILIZOFORCEPS\",\n",
        "    \"PERSONALATENDIO\",\n",
        "    \"MUNICIPIOPARTO\",\n",
        "    \"LOCALIDADPARTO\",\n",
        "    \"CERTIFICADOPOR\",\n",
        "    \"CLUESCERTIFICA\",\n",
        "    \"ENTIDADFEDERATIVACERTIFICA\",\n",
        "    \"MUNICIPIOCERTIFICA\",\n",
        "    \"LOCALIDADCERTIFICA\",\n",
        "    \"FECHACERTIFICADO\",\n",
        "    \"LUGARNACIMIENTO\",\n",
        "    'CEDOCVE',\n",
        "    'CUAL_LENGM',\n",
        "    'TIPOASEN_RES',\n",
        "    'TIPOVIAL_RES',\n",
        "    'DERHAB',\n",
        "    'DERHAB2',\n",
        "    'ATEN_OTRO', 'TIPOVIAL_NAC', 'TIPOASEN_NAC', 'OTROMEDICO',\n",
        "    'UNIMED_33_1', 'TIPOVIAL_CERT', 'TIPOASEN_CERT', 'FECH_ALTA',\n",
        "    'FECH_CAMB', 'IDCAPTURA', 'TIPO_FORMATO',\n",
        "    'ESPECIFIQUE', 'UNIMED', 'ACELRN', 'ACELRN2'\n",
        "]\n",
        "\n",
        "df.drop(columnsToRemove, inplace=True, axis=1)"
      ],
      "metadata": {
        "id": "nLfnlRvgu9_s"
      },
      "execution_count": 9,
      "outputs": []
    },
    {
      "cell_type": "code",
      "source": [
        "columnsToReview = df.columns\n",
        "columnsToReview"
      ],
      "metadata": {
        "colab": {
          "base_uri": "https://localhost:8080/"
        },
        "id": "fSKzeDtFvBMI",
        "outputId": "a26597ab-4ea7-458a-c122-b8c3041e424c"
      },
      "execution_count": 10,
      "outputs": [
        {
          "output_type": "execute_result",
          "data": {
            "text/plain": [
              "Index(['ENTIDADFEDERATIVAPARTO', 'EDAD', 'NUMEROEMBARAZOS',\n",
              "       'HIJOSNACIDOSMUERTOS', 'ATENCIONPRENATAL', 'TRIMESTREPRIMERCONSULTA',\n",
              "       'TOTALCONSULTAS', 'SOBREVIVIOPARTO', 'ESCOLARIDAD', 'OCUPHAB',\n",
              "       'FECHANACIMIENTO', 'SEXO', 'EDADGESTACIONAL', 'TALLA', 'PESO', 'APGAR',\n",
              "       'SILVERMAN', 'PRODUCTOEMBARAZO', 'CODIGOCIEANOMALIA1',\n",
              "       'CODIGOCIEANOMALIA2', 'RESOLUCIONEMBARAZO'],\n",
              "      dtype='object')"
            ]
          },
          "metadata": {},
          "execution_count": 10
        }
      ]
    },
    {
      "cell_type": "code",
      "source": [
        "#df=df.drop(df[df['EDAD']==999].index)\n",
        "#df=df.drop(df[df['EDAD']==888].index)\n",
        "#df=df.drop(df[df['NUMEROEMBARAZOS']==99].index)\n",
        "#df=df.drop(df[df['HIJOSNACIDOSMUERTOS']==99].index)\n",
        "#df=df.drop(df[df['ATENCIONPRENATAL']==9].index)\n",
        "#df=df.drop(df[df['TRIMESTREPRIMERCONSULTA']==9].index)\n",
        "#df=df.drop(df[df['TOTALCONSULTAS']==99].index)\n",
        "#df=df.drop(df[df['SOBREVIVIOPARTO']==9].index)\n",
        "#df=df.drop(df[df['ESCOLARIDAD']==999].index)\n",
        "#df=df.drop(df[df['EDADPADRE']==999].index)\n",
        "#df=df.drop(df[df['SEXO']==99].index)\n",
        "#df=df.drop(df[df['EDADGESTACIONAL']==99].index)\n",
        "#df=df.drop(df[df['TALLA']==99].index)\n",
        "#df=df.drop(df[df['PESO']==9999].index)\n",
        "#df=df.drop(df[df['TALLA']==9].index)\n",
        "#df=df.drop(df[df['APGAR']==99].index)\n",
        "#df=df.drop(df[df['SILVERMAN']==99].index)\n",
        "#df=df.drop(df[df['UTILIZOFORCEPS']==9].index)"
      ],
      "metadata": {
        "id": "AHqUQLo72KRM"
      },
      "execution_count": 11,
      "outputs": []
    },
    {
      "cell_type": "code",
      "source": [
        "df.head(10)"
      ],
      "metadata": {
        "colab": {
          "base_uri": "https://localhost:8080/",
          "height": 412
        },
        "id": "JTqF4vUIvDPR",
        "outputId": "e8fd5224-abcb-4efe-a2a5-90f6d306cd7e"
      },
      "execution_count": 12,
      "outputs": [
        {
          "output_type": "execute_result",
          "data": {
            "text/plain": [
              "   ENTIDADFEDERATIVAPARTO  EDAD  NUMEROEMBARAZOS  HIJOSNACIDOSMUERTOS  \\\n",
              "0                       1    25                3                    1   \n",
              "1                       1    18                1                    0   \n",
              "2                       1    21                2                    0   \n",
              "3                      32    17                2                    0   \n",
              "4                      14    27                1                    0   \n",
              "5                       1    17                1                    0   \n",
              "6                       1    22                1                    0   \n",
              "7                      14    35                3                    0   \n",
              "8                       1    19                2                    0   \n",
              "9                       1    30                2                    0   \n",
              "\n",
              "   ATENCIONPRENATAL  TRIMESTREPRIMERCONSULTA  TOTALCONSULTAS  SOBREVIVIOPARTO  \\\n",
              "0                 1                        1               7                1   \n",
              "1                 1                        3               2                1   \n",
              "2                 1                        1               3                1   \n",
              "3                 1                        2               3                1   \n",
              "4                 1                        2               6                1   \n",
              "5                 1                        1               6                1   \n",
              "6                 1                        2               6                1   \n",
              "7                 1                        1               5                1   \n",
              "8                 1                        1               4                1   \n",
              "9                 1                        1               6                1   \n",
              "\n",
              "   ESCOLARIDAD OCUPHAB  ... SEXO  EDADGESTACIONAL  TALLA  PESO  APGAR  \\\n",
              "0            5   HOGAR  ...    1               40     52  3750      9   \n",
              "1            5   HOGAR  ...    1               40     47  2650      9   \n",
              "2            5   HOGAR  ...    1               37     51  3250      9   \n",
              "3            5   HOGAR  ...    1               39     50  2900      9   \n",
              "4            2   HOGAR  ...    1               39     50  3325      9   \n",
              "5            5   HOGAR  ...    1               39     50  2950      9   \n",
              "6            7   HOGAR  ...    2               40     51  3250      9   \n",
              "7            8   HOGAR  ...    1               36     47  2650      9   \n",
              "8            5   HOGAR  ...    2               39     47  2700      9   \n",
              "9            2   HOGAR  ...    2               39     47  2780      9   \n",
              "\n",
              "   SILVERMAN  PRODUCTOEMBARAZO  CODIGOCIEANOMALIA1 CODIGOCIEANOMALIA2  \\\n",
              "0          0                 1                0000               0000   \n",
              "1          0                 1                0000               0000   \n",
              "2          0                 1                0000               0000   \n",
              "3          0                 1                0000               0000   \n",
              "4          0                 1                P819               0000   \n",
              "5          0                 1                0000               0000   \n",
              "6          0                 1                0000               0000   \n",
              "7          2                 1                P229               0000   \n",
              "8          0                 1                0000               0000   \n",
              "9          0                 1                0000               0000   \n",
              "\n",
              "  RESOLUCIONEMBARAZO  \n",
              "0                  1  \n",
              "1                  1  \n",
              "2                  1  \n",
              "3                  1  \n",
              "4                  1  \n",
              "5                  2  \n",
              "6                  1  \n",
              "7                  2  \n",
              "8                  1  \n",
              "9                  1  \n",
              "\n",
              "[10 rows x 21 columns]"
            ],
            "text/html": [
              "\n",
              "  <div id=\"df-f9dca0b0-e251-4775-9d5d-d717be4f5918\" class=\"colab-df-container\">\n",
              "    <div>\n",
              "<style scoped>\n",
              "    .dataframe tbody tr th:only-of-type {\n",
              "        vertical-align: middle;\n",
              "    }\n",
              "\n",
              "    .dataframe tbody tr th {\n",
              "        vertical-align: top;\n",
              "    }\n",
              "\n",
              "    .dataframe thead th {\n",
              "        text-align: right;\n",
              "    }\n",
              "</style>\n",
              "<table border=\"1\" class=\"dataframe\">\n",
              "  <thead>\n",
              "    <tr style=\"text-align: right;\">\n",
              "      <th></th>\n",
              "      <th>ENTIDADFEDERATIVAPARTO</th>\n",
              "      <th>EDAD</th>\n",
              "      <th>NUMEROEMBARAZOS</th>\n",
              "      <th>HIJOSNACIDOSMUERTOS</th>\n",
              "      <th>ATENCIONPRENATAL</th>\n",
              "      <th>TRIMESTREPRIMERCONSULTA</th>\n",
              "      <th>TOTALCONSULTAS</th>\n",
              "      <th>SOBREVIVIOPARTO</th>\n",
              "      <th>ESCOLARIDAD</th>\n",
              "      <th>OCUPHAB</th>\n",
              "      <th>...</th>\n",
              "      <th>SEXO</th>\n",
              "      <th>EDADGESTACIONAL</th>\n",
              "      <th>TALLA</th>\n",
              "      <th>PESO</th>\n",
              "      <th>APGAR</th>\n",
              "      <th>SILVERMAN</th>\n",
              "      <th>PRODUCTOEMBARAZO</th>\n",
              "      <th>CODIGOCIEANOMALIA1</th>\n",
              "      <th>CODIGOCIEANOMALIA2</th>\n",
              "      <th>RESOLUCIONEMBARAZO</th>\n",
              "    </tr>\n",
              "  </thead>\n",
              "  <tbody>\n",
              "    <tr>\n",
              "      <th>0</th>\n",
              "      <td>1</td>\n",
              "      <td>25</td>\n",
              "      <td>3</td>\n",
              "      <td>1</td>\n",
              "      <td>1</td>\n",
              "      <td>1</td>\n",
              "      <td>7</td>\n",
              "      <td>1</td>\n",
              "      <td>5</td>\n",
              "      <td>HOGAR</td>\n",
              "      <td>...</td>\n",
              "      <td>1</td>\n",
              "      <td>40</td>\n",
              "      <td>52</td>\n",
              "      <td>3750</td>\n",
              "      <td>9</td>\n",
              "      <td>0</td>\n",
              "      <td>1</td>\n",
              "      <td>0000</td>\n",
              "      <td>0000</td>\n",
              "      <td>1</td>\n",
              "    </tr>\n",
              "    <tr>\n",
              "      <th>1</th>\n",
              "      <td>1</td>\n",
              "      <td>18</td>\n",
              "      <td>1</td>\n",
              "      <td>0</td>\n",
              "      <td>1</td>\n",
              "      <td>3</td>\n",
              "      <td>2</td>\n",
              "      <td>1</td>\n",
              "      <td>5</td>\n",
              "      <td>HOGAR</td>\n",
              "      <td>...</td>\n",
              "      <td>1</td>\n",
              "      <td>40</td>\n",
              "      <td>47</td>\n",
              "      <td>2650</td>\n",
              "      <td>9</td>\n",
              "      <td>0</td>\n",
              "      <td>1</td>\n",
              "      <td>0000</td>\n",
              "      <td>0000</td>\n",
              "      <td>1</td>\n",
              "    </tr>\n",
              "    <tr>\n",
              "      <th>2</th>\n",
              "      <td>1</td>\n",
              "      <td>21</td>\n",
              "      <td>2</td>\n",
              "      <td>0</td>\n",
              "      <td>1</td>\n",
              "      <td>1</td>\n",
              "      <td>3</td>\n",
              "      <td>1</td>\n",
              "      <td>5</td>\n",
              "      <td>HOGAR</td>\n",
              "      <td>...</td>\n",
              "      <td>1</td>\n",
              "      <td>37</td>\n",
              "      <td>51</td>\n",
              "      <td>3250</td>\n",
              "      <td>9</td>\n",
              "      <td>0</td>\n",
              "      <td>1</td>\n",
              "      <td>0000</td>\n",
              "      <td>0000</td>\n",
              "      <td>1</td>\n",
              "    </tr>\n",
              "    <tr>\n",
              "      <th>3</th>\n",
              "      <td>32</td>\n",
              "      <td>17</td>\n",
              "      <td>2</td>\n",
              "      <td>0</td>\n",
              "      <td>1</td>\n",
              "      <td>2</td>\n",
              "      <td>3</td>\n",
              "      <td>1</td>\n",
              "      <td>5</td>\n",
              "      <td>HOGAR</td>\n",
              "      <td>...</td>\n",
              "      <td>1</td>\n",
              "      <td>39</td>\n",
              "      <td>50</td>\n",
              "      <td>2900</td>\n",
              "      <td>9</td>\n",
              "      <td>0</td>\n",
              "      <td>1</td>\n",
              "      <td>0000</td>\n",
              "      <td>0000</td>\n",
              "      <td>1</td>\n",
              "    </tr>\n",
              "    <tr>\n",
              "      <th>4</th>\n",
              "      <td>14</td>\n",
              "      <td>27</td>\n",
              "      <td>1</td>\n",
              "      <td>0</td>\n",
              "      <td>1</td>\n",
              "      <td>2</td>\n",
              "      <td>6</td>\n",
              "      <td>1</td>\n",
              "      <td>2</td>\n",
              "      <td>HOGAR</td>\n",
              "      <td>...</td>\n",
              "      <td>1</td>\n",
              "      <td>39</td>\n",
              "      <td>50</td>\n",
              "      <td>3325</td>\n",
              "      <td>9</td>\n",
              "      <td>0</td>\n",
              "      <td>1</td>\n",
              "      <td>P819</td>\n",
              "      <td>0000</td>\n",
              "      <td>1</td>\n",
              "    </tr>\n",
              "    <tr>\n",
              "      <th>5</th>\n",
              "      <td>1</td>\n",
              "      <td>17</td>\n",
              "      <td>1</td>\n",
              "      <td>0</td>\n",
              "      <td>1</td>\n",
              "      <td>1</td>\n",
              "      <td>6</td>\n",
              "      <td>1</td>\n",
              "      <td>5</td>\n",
              "      <td>HOGAR</td>\n",
              "      <td>...</td>\n",
              "      <td>1</td>\n",
              "      <td>39</td>\n",
              "      <td>50</td>\n",
              "      <td>2950</td>\n",
              "      <td>9</td>\n",
              "      <td>0</td>\n",
              "      <td>1</td>\n",
              "      <td>0000</td>\n",
              "      <td>0000</td>\n",
              "      <td>2</td>\n",
              "    </tr>\n",
              "    <tr>\n",
              "      <th>6</th>\n",
              "      <td>1</td>\n",
              "      <td>22</td>\n",
              "      <td>1</td>\n",
              "      <td>0</td>\n",
              "      <td>1</td>\n",
              "      <td>2</td>\n",
              "      <td>6</td>\n",
              "      <td>1</td>\n",
              "      <td>7</td>\n",
              "      <td>HOGAR</td>\n",
              "      <td>...</td>\n",
              "      <td>2</td>\n",
              "      <td>40</td>\n",
              "      <td>51</td>\n",
              "      <td>3250</td>\n",
              "      <td>9</td>\n",
              "      <td>0</td>\n",
              "      <td>1</td>\n",
              "      <td>0000</td>\n",
              "      <td>0000</td>\n",
              "      <td>1</td>\n",
              "    </tr>\n",
              "    <tr>\n",
              "      <th>7</th>\n",
              "      <td>14</td>\n",
              "      <td>35</td>\n",
              "      <td>3</td>\n",
              "      <td>0</td>\n",
              "      <td>1</td>\n",
              "      <td>1</td>\n",
              "      <td>5</td>\n",
              "      <td>1</td>\n",
              "      <td>8</td>\n",
              "      <td>HOGAR</td>\n",
              "      <td>...</td>\n",
              "      <td>1</td>\n",
              "      <td>36</td>\n",
              "      <td>47</td>\n",
              "      <td>2650</td>\n",
              "      <td>9</td>\n",
              "      <td>2</td>\n",
              "      <td>1</td>\n",
              "      <td>P229</td>\n",
              "      <td>0000</td>\n",
              "      <td>2</td>\n",
              "    </tr>\n",
              "    <tr>\n",
              "      <th>8</th>\n",
              "      <td>1</td>\n",
              "      <td>19</td>\n",
              "      <td>2</td>\n",
              "      <td>0</td>\n",
              "      <td>1</td>\n",
              "      <td>1</td>\n",
              "      <td>4</td>\n",
              "      <td>1</td>\n",
              "      <td>5</td>\n",
              "      <td>HOGAR</td>\n",
              "      <td>...</td>\n",
              "      <td>2</td>\n",
              "      <td>39</td>\n",
              "      <td>47</td>\n",
              "      <td>2700</td>\n",
              "      <td>9</td>\n",
              "      <td>0</td>\n",
              "      <td>1</td>\n",
              "      <td>0000</td>\n",
              "      <td>0000</td>\n",
              "      <td>1</td>\n",
              "    </tr>\n",
              "    <tr>\n",
              "      <th>9</th>\n",
              "      <td>1</td>\n",
              "      <td>30</td>\n",
              "      <td>2</td>\n",
              "      <td>0</td>\n",
              "      <td>1</td>\n",
              "      <td>1</td>\n",
              "      <td>6</td>\n",
              "      <td>1</td>\n",
              "      <td>2</td>\n",
              "      <td>HOGAR</td>\n",
              "      <td>...</td>\n",
              "      <td>2</td>\n",
              "      <td>39</td>\n",
              "      <td>47</td>\n",
              "      <td>2780</td>\n",
              "      <td>9</td>\n",
              "      <td>0</td>\n",
              "      <td>1</td>\n",
              "      <td>0000</td>\n",
              "      <td>0000</td>\n",
              "      <td>1</td>\n",
              "    </tr>\n",
              "  </tbody>\n",
              "</table>\n",
              "<p>10 rows × 21 columns</p>\n",
              "</div>\n",
              "    <div class=\"colab-df-buttons\">\n",
              "\n",
              "  <div class=\"colab-df-container\">\n",
              "    <button class=\"colab-df-convert\" onclick=\"convertToInteractive('df-f9dca0b0-e251-4775-9d5d-d717be4f5918')\"\n",
              "            title=\"Convert this dataframe to an interactive table.\"\n",
              "            style=\"display:none;\">\n",
              "\n",
              "  <svg xmlns=\"http://www.w3.org/2000/svg\" height=\"24px\" viewBox=\"0 -960 960 960\">\n",
              "    <path d=\"M120-120v-720h720v720H120Zm60-500h600v-160H180v160Zm220 220h160v-160H400v160Zm0 220h160v-160H400v160ZM180-400h160v-160H180v160Zm440 0h160v-160H620v160ZM180-180h160v-160H180v160Zm440 0h160v-160H620v160Z\"/>\n",
              "  </svg>\n",
              "    </button>\n",
              "\n",
              "  <style>\n",
              "    .colab-df-container {\n",
              "      display:flex;\n",
              "      gap: 12px;\n",
              "    }\n",
              "\n",
              "    .colab-df-convert {\n",
              "      background-color: #E8F0FE;\n",
              "      border: none;\n",
              "      border-radius: 50%;\n",
              "      cursor: pointer;\n",
              "      display: none;\n",
              "      fill: #1967D2;\n",
              "      height: 32px;\n",
              "      padding: 0 0 0 0;\n",
              "      width: 32px;\n",
              "    }\n",
              "\n",
              "    .colab-df-convert:hover {\n",
              "      background-color: #E2EBFA;\n",
              "      box-shadow: 0px 1px 2px rgba(60, 64, 67, 0.3), 0px 1px 3px 1px rgba(60, 64, 67, 0.15);\n",
              "      fill: #174EA6;\n",
              "    }\n",
              "\n",
              "    .colab-df-buttons div {\n",
              "      margin-bottom: 4px;\n",
              "    }\n",
              "\n",
              "    [theme=dark] .colab-df-convert {\n",
              "      background-color: #3B4455;\n",
              "      fill: #D2E3FC;\n",
              "    }\n",
              "\n",
              "    [theme=dark] .colab-df-convert:hover {\n",
              "      background-color: #434B5C;\n",
              "      box-shadow: 0px 1px 3px 1px rgba(0, 0, 0, 0.15);\n",
              "      filter: drop-shadow(0px 1px 2px rgba(0, 0, 0, 0.3));\n",
              "      fill: #FFFFFF;\n",
              "    }\n",
              "  </style>\n",
              "\n",
              "    <script>\n",
              "      const buttonEl =\n",
              "        document.querySelector('#df-f9dca0b0-e251-4775-9d5d-d717be4f5918 button.colab-df-convert');\n",
              "      buttonEl.style.display =\n",
              "        google.colab.kernel.accessAllowed ? 'block' : 'none';\n",
              "\n",
              "      async function convertToInteractive(key) {\n",
              "        const element = document.querySelector('#df-f9dca0b0-e251-4775-9d5d-d717be4f5918');\n",
              "        const dataTable =\n",
              "          await google.colab.kernel.invokeFunction('convertToInteractive',\n",
              "                                                    [key], {});\n",
              "        if (!dataTable) return;\n",
              "\n",
              "        const docLinkHtml = 'Like what you see? Visit the ' +\n",
              "          '<a target=\"_blank\" href=https://colab.research.google.com/notebooks/data_table.ipynb>data table notebook</a>'\n",
              "          + ' to learn more about interactive tables.';\n",
              "        element.innerHTML = '';\n",
              "        dataTable['output_type'] = 'display_data';\n",
              "        await google.colab.output.renderOutput(dataTable, element);\n",
              "        const docLink = document.createElement('div');\n",
              "        docLink.innerHTML = docLinkHtml;\n",
              "        element.appendChild(docLink);\n",
              "      }\n",
              "    </script>\n",
              "  </div>\n",
              "\n",
              "\n",
              "<div id=\"df-de84087a-27ea-45e6-899c-52c17ac181b1\">\n",
              "  <button class=\"colab-df-quickchart\" onclick=\"quickchart('df-de84087a-27ea-45e6-899c-52c17ac181b1')\"\n",
              "            title=\"Suggest charts\"\n",
              "            style=\"display:none;\">\n",
              "\n",
              "<svg xmlns=\"http://www.w3.org/2000/svg\" height=\"24px\"viewBox=\"0 0 24 24\"\n",
              "     width=\"24px\">\n",
              "    <g>\n",
              "        <path d=\"M19 3H5c-1.1 0-2 .9-2 2v14c0 1.1.9 2 2 2h14c1.1 0 2-.9 2-2V5c0-1.1-.9-2-2-2zM9 17H7v-7h2v7zm4 0h-2V7h2v10zm4 0h-2v-4h2v4z\"/>\n",
              "    </g>\n",
              "</svg>\n",
              "  </button>\n",
              "\n",
              "<style>\n",
              "  .colab-df-quickchart {\n",
              "      --bg-color: #E8F0FE;\n",
              "      --fill-color: #1967D2;\n",
              "      --hover-bg-color: #E2EBFA;\n",
              "      --hover-fill-color: #174EA6;\n",
              "      --disabled-fill-color: #AAA;\n",
              "      --disabled-bg-color: #DDD;\n",
              "  }\n",
              "\n",
              "  [theme=dark] .colab-df-quickchart {\n",
              "      --bg-color: #3B4455;\n",
              "      --fill-color: #D2E3FC;\n",
              "      --hover-bg-color: #434B5C;\n",
              "      --hover-fill-color: #FFFFFF;\n",
              "      --disabled-bg-color: #3B4455;\n",
              "      --disabled-fill-color: #666;\n",
              "  }\n",
              "\n",
              "  .colab-df-quickchart {\n",
              "    background-color: var(--bg-color);\n",
              "    border: none;\n",
              "    border-radius: 50%;\n",
              "    cursor: pointer;\n",
              "    display: none;\n",
              "    fill: var(--fill-color);\n",
              "    height: 32px;\n",
              "    padding: 0;\n",
              "    width: 32px;\n",
              "  }\n",
              "\n",
              "  .colab-df-quickchart:hover {\n",
              "    background-color: var(--hover-bg-color);\n",
              "    box-shadow: 0 1px 2px rgba(60, 64, 67, 0.3), 0 1px 3px 1px rgba(60, 64, 67, 0.15);\n",
              "    fill: var(--button-hover-fill-color);\n",
              "  }\n",
              "\n",
              "  .colab-df-quickchart-complete:disabled,\n",
              "  .colab-df-quickchart-complete:disabled:hover {\n",
              "    background-color: var(--disabled-bg-color);\n",
              "    fill: var(--disabled-fill-color);\n",
              "    box-shadow: none;\n",
              "  }\n",
              "\n",
              "  .colab-df-spinner {\n",
              "    border: 2px solid var(--fill-color);\n",
              "    border-color: transparent;\n",
              "    border-bottom-color: var(--fill-color);\n",
              "    animation:\n",
              "      spin 1s steps(1) infinite;\n",
              "  }\n",
              "\n",
              "  @keyframes spin {\n",
              "    0% {\n",
              "      border-color: transparent;\n",
              "      border-bottom-color: var(--fill-color);\n",
              "      border-left-color: var(--fill-color);\n",
              "    }\n",
              "    20% {\n",
              "      border-color: transparent;\n",
              "      border-left-color: var(--fill-color);\n",
              "      border-top-color: var(--fill-color);\n",
              "    }\n",
              "    30% {\n",
              "      border-color: transparent;\n",
              "      border-left-color: var(--fill-color);\n",
              "      border-top-color: var(--fill-color);\n",
              "      border-right-color: var(--fill-color);\n",
              "    }\n",
              "    40% {\n",
              "      border-color: transparent;\n",
              "      border-right-color: var(--fill-color);\n",
              "      border-top-color: var(--fill-color);\n",
              "    }\n",
              "    60% {\n",
              "      border-color: transparent;\n",
              "      border-right-color: var(--fill-color);\n",
              "    }\n",
              "    80% {\n",
              "      border-color: transparent;\n",
              "      border-right-color: var(--fill-color);\n",
              "      border-bottom-color: var(--fill-color);\n",
              "    }\n",
              "    90% {\n",
              "      border-color: transparent;\n",
              "      border-bottom-color: var(--fill-color);\n",
              "    }\n",
              "  }\n",
              "</style>\n",
              "\n",
              "  <script>\n",
              "    async function quickchart(key) {\n",
              "      const quickchartButtonEl =\n",
              "        document.querySelector('#' + key + ' button');\n",
              "      quickchartButtonEl.disabled = true;  // To prevent multiple clicks.\n",
              "      quickchartButtonEl.classList.add('colab-df-spinner');\n",
              "      try {\n",
              "        const charts = await google.colab.kernel.invokeFunction(\n",
              "            'suggestCharts', [key], {});\n",
              "      } catch (error) {\n",
              "        console.error('Error during call to suggestCharts:', error);\n",
              "      }\n",
              "      quickchartButtonEl.classList.remove('colab-df-spinner');\n",
              "      quickchartButtonEl.classList.add('colab-df-quickchart-complete');\n",
              "    }\n",
              "    (() => {\n",
              "      let quickchartButtonEl =\n",
              "        document.querySelector('#df-de84087a-27ea-45e6-899c-52c17ac181b1 button');\n",
              "      quickchartButtonEl.style.display =\n",
              "        google.colab.kernel.accessAllowed ? 'block' : 'none';\n",
              "    })();\n",
              "  </script>\n",
              "</div>\n",
              "\n",
              "    </div>\n",
              "  </div>\n"
            ]
          },
          "metadata": {},
          "execution_count": 12
        }
      ]
    },
    {
      "cell_type": "markdown",
      "source": [
        "# Variable: presencia o ausencia de Malformaciones Craneofaciales MCF\n",
        "- Con MCF (1)\n",
        "- Sin (0)"
      ],
      "metadata": {
        "id": "jnyDxJU-HB3V"
      }
    },
    {
      "cell_type": "code",
      "source": [
        "def update_codes(base_array):\n",
        "  new_codes = []\n",
        "  for value in base_array:\n",
        "    for i in range(0, 10):\n",
        "      new_codes.append(value[:-1] + str(i))\n",
        "\n",
        "  return new_codes"
      ],
      "metadata": {
        "id": "jfaUIa3LdC22"
      },
      "execution_count": 13,
      "outputs": []
    },
    {
      "cell_type": "code",
      "source": [
        "codigos_mc = update_codes(['Q100', 'Q110', 'Q120', 'Q130', 'Q140', 'Q150', 'Q160', 'Q170', 'Q180', 'Q300', 'Q350', 'Q360', 'Q370', 'Q380'])\n",
        "\n",
        "anomalias_mc = df['CODIGOCIEANOMALIA1'].isin(codigos_mc) | df['CODIGOCIEANOMALIA2'].isin(codigos_mc)\n",
        "\n",
        "key = \"MCC-General\"\n",
        "\n",
        "df[key] = None\n",
        "df[key].mask((~df.CODIGOCIEANOMALIA1.isin(codigos_mc)) & (df.CODIGOCIEANOMALIA2 == '9999'), None, inplace=True)\n",
        "df[key].mask((~df.CODIGOCIEANOMALIA2.isin(codigos_mc)) & (df.CODIGOCIEANOMALIA1 == '9999'), None, inplace=True)\n",
        "df[key].mask(~df.CODIGOCIEANOMALIA1.isin(codigos_mc) & ~df.CODIGOCIEANOMALIA2.isin(codigos_mc), 0, inplace=True)\n",
        "df[key].mask(df.CODIGOCIEANOMALIA1.isin(codigos_mc) | df.CODIGOCIEANOMALIA2.isin(codigos_mc), 1, inplace=True)\n",
        "df[key].value_counts()\n"
      ],
      "metadata": {
        "id": "3-Bgh1tMG7g5",
        "colab": {
          "base_uri": "https://localhost:8080/"
        },
        "outputId": "97e99be0-8a9b-4ec7-b258-4f9cd441158a"
      },
      "execution_count": 14,
      "outputs": [
        {
          "output_type": "execute_result",
          "data": {
            "text/plain": [
              "0    1864192\n",
              "1       4022\n",
              "Name: MCC-General, dtype: int64"
            ]
          },
          "metadata": {},
          "execution_count": 14
        }
      ]
    },
    {
      "cell_type": "markdown",
      "source": [
        "## Variable categórica clasificación de MCF\n",
        "- Oftalmológicas Q100 Q110 Q120 Q130 Q140 Q150\n",
        "- Oído Q160 Q170\n",
        "- Cara y cuello Q180\n",
        "- Nariz Q300\n",
        "- Lengua y boca Q380 Q350 Q360 Q370\n",
        "\n",
        "Aqui se usan numeros primos para hacer la limpieza de datos"
      ],
      "metadata": {
        "id": "fdKajUS_PLSR"
      }
    },
    {
      "cell_type": "code",
      "source": [
        "codigos_oftalmo = update_codes(['Q100', 'Q110', 'Q120', 'Q130', 'Q140', 'Q150'])\n",
        "codigos_oido = update_codes(['Q160', 'Q170'])\n",
        "codigos_cara_cuello = update_codes(['Q180'])\n",
        "codigos_nariz = update_codes(['Q300'])\n",
        "codigos_lengua_boca = update_codes(['Q380', 'Q350', 'Q360', 'Q370'])\n",
        "\n",
        "mc_value = {\n",
        "    'oftalmo': 1,\n",
        "    'oido': 10,\n",
        "    'cuello': 100,\n",
        "    'nariz': 1000,\n",
        "    'boca': 10000\n",
        "}\n",
        "mc_values = [1, 10, 100, 1000, 10000]"
      ],
      "metadata": {
        "id": "hr-L0LV6lEyE"
      },
      "execution_count": 15,
      "outputs": []
    },
    {
      "cell_type": "markdown",
      "source": [
        "### Oftalmo"
      ],
      "metadata": {
        "id": "UdU5V2YHWyAi"
      }
    },
    {
      "cell_type": "code",
      "source": [
        "# Valores par oftalmo\n",
        "value = mc_value['oftalmo']\n",
        "key = \"MC-1\"\n",
        "df[key] = 0\n",
        "df[key].mask(df['CODIGOCIEANOMALIA1'].isin(codigos_oftalmo), value, inplace=True)\n",
        "\n",
        "key = \"MC-2\"\n",
        "df[key] = 0\n",
        "df[key].mask(df['CODIGOCIEANOMALIA2'].isin(codigos_oftalmo), value, inplace=True)"
      ],
      "metadata": {
        "id": "1pxSnouFUNdJ"
      },
      "execution_count": 16,
      "outputs": []
    },
    {
      "cell_type": "markdown",
      "source": [
        "### Oido"
      ],
      "metadata": {
        "id": "cppXwAELWubb"
      }
    },
    {
      "cell_type": "code",
      "source": [
        "# Valores par oido\n",
        "value = mc_value['oido']\n",
        "key = \"MC-1\"\n",
        "df[key].mask(df['CODIGOCIEANOMALIA1'].isin(codigos_oido), value, inplace=True)\n",
        "\n",
        "key = \"MC-2\"\n",
        "df[key].mask(df['CODIGOCIEANOMALIA2'].isin(codigos_oido), value, inplace=True)"
      ],
      "metadata": {
        "id": "_c3yZUNBVNz3"
      },
      "execution_count": 17,
      "outputs": []
    },
    {
      "cell_type": "markdown",
      "source": [
        "### Cara y cuello"
      ],
      "metadata": {
        "id": "gOG7RJdwWsem"
      }
    },
    {
      "cell_type": "code",
      "source": [
        "# Valores par cara y cuello\n",
        "value = mc_value['cuello']\n",
        "key = \"MC-1\"\n",
        "df[key].mask(df['CODIGOCIEANOMALIA1'].isin(codigos_cara_cuello), value, inplace=True)\n",
        "\n",
        "key = \"MC-2\"\n",
        "df[key].mask(df['CODIGOCIEANOMALIA2'].isin(codigos_cara_cuello), value, inplace=True)"
      ],
      "metadata": {
        "id": "BFe6jMnGVAH0"
      },
      "execution_count": 18,
      "outputs": []
    },
    {
      "cell_type": "markdown",
      "source": [
        "### Nariz"
      ],
      "metadata": {
        "id": "hbOYlTnrWqN9"
      }
    },
    {
      "cell_type": "code",
      "source": [
        "# Valores para nariz\n",
        "value = mc_value['nariz']\n",
        "key = \"MC-1\"\n",
        "df[key].mask(df['CODIGOCIEANOMALIA1'].isin(codigos_nariz), value, inplace=True)\n",
        "\n",
        "key = \"MC-2\"\n",
        "df[key].mask(df['CODIGOCIEANOMALIA2'].isin(codigos_nariz), value, inplace=True)"
      ],
      "metadata": {
        "id": "TcRNIecvWA9v"
      },
      "execution_count": 19,
      "outputs": []
    },
    {
      "cell_type": "markdown",
      "source": [
        "### Lengua y boca"
      ],
      "metadata": {
        "id": "S1rKT96eWm65"
      }
    },
    {
      "cell_type": "code",
      "source": [
        "# Valores para lengua y boca\n",
        "value = mc_value['boca']\n",
        "key = \"MC-1\"\n",
        "df[key].mask(df['CODIGOCIEANOMALIA1'].isin(codigos_lengua_boca), value, inplace=True)\n",
        "\n",
        "key = \"MC-2\"\n",
        "df[key].mask(df['CODIGOCIEANOMALIA2'].isin(codigos_lengua_boca), value, inplace=True)"
      ],
      "metadata": {
        "id": "KfVgmeO9WfOd"
      },
      "execution_count": 20,
      "outputs": []
    },
    {
      "cell_type": "markdown",
      "source": [
        "\n",
        "Descripcion de las categoricas (MC-1 es CODIGOCIEANOMALIA1, MC-2 es CODIGOCIEANOMALIA2)"
      ],
      "metadata": {
        "id": "NHaEO8CAneoX"
      }
    },
    {
      "cell_type": "code",
      "source": [
        "key = \"MC-1\"\n",
        "df[key].value_counts()"
      ],
      "metadata": {
        "colab": {
          "base_uri": "https://localhost:8080/"
        },
        "id": "-u8uwf7plw0c",
        "outputId": "54e7835c-bc71-4519-a82a-19b8c2c5332b"
      },
      "execution_count": 21,
      "outputs": [
        {
          "output_type": "execute_result",
          "data": {
            "text/plain": [
              "0        1864549\n",
              "10          1684\n",
              "10000       1643\n",
              "100          169\n",
              "1             98\n",
              "1000          71\n",
              "Name: MC-1, dtype: int64"
            ]
          },
          "metadata": {},
          "execution_count": 21
        }
      ]
    },
    {
      "cell_type": "code",
      "source": [
        "# Con MCF\n",
        "df[df[\"MCC-General\"] == 1][key].value_counts()"
      ],
      "metadata": {
        "colab": {
          "base_uri": "https://localhost:8080/"
        },
        "id": "8xTbhIwskFaP",
        "outputId": "528103ba-304f-419c-98ff-7bd716a932f0"
      },
      "execution_count": 22,
      "outputs": [
        {
          "output_type": "execute_result",
          "data": {
            "text/plain": [
              "10       1684\n",
              "10000    1643\n",
              "0         357\n",
              "100       169\n",
              "1          98\n",
              "1000       71\n",
              "Name: MC-1, dtype: int64"
            ]
          },
          "metadata": {},
          "execution_count": 22
        }
      ]
    },
    {
      "cell_type": "code",
      "source": [
        "key = \"MC-2\"\n",
        "df[key].value_counts()"
      ],
      "metadata": {
        "colab": {
          "base_uri": "https://localhost:8080/"
        },
        "id": "nodXO0lglzc0",
        "outputId": "770522bb-b88d-448e-b3b5-23c0a983317e"
      },
      "execution_count": 23,
      "outputs": [
        {
          "output_type": "execute_result",
          "data": {
            "text/plain": [
              "0        1867250\n",
              "10000        454\n",
              "10           386\n",
              "100           45\n",
              "1000          40\n",
              "1             39\n",
              "Name: MC-2, dtype: int64"
            ]
          },
          "metadata": {},
          "execution_count": 23
        }
      ]
    },
    {
      "cell_type": "code",
      "source": [
        "# Con MCF\n",
        "df[df[\"MCC-General\"] == 1][key].value_counts()"
      ],
      "metadata": {
        "colab": {
          "base_uri": "https://localhost:8080/"
        },
        "id": "IUjRmN09lAy-",
        "outputId": "51dc1ff6-a2ca-47f8-e839-cbb1f6202729"
      },
      "execution_count": 24,
      "outputs": [
        {
          "output_type": "execute_result",
          "data": {
            "text/plain": [
              "0        3058\n",
              "10000     454\n",
              "10        386\n",
              "100        45\n",
              "1000       40\n",
              "1          39\n",
              "Name: MC-2, dtype: int64"
            ]
          },
          "metadata": {},
          "execution_count": 24
        }
      ]
    },
    {
      "cell_type": "code",
      "source": [
        "key = 'MC-G'\n",
        "df[key] = None\n",
        "df[key] = df[['MC-1', 'MC-2']].sum(axis=1)\n",
        "df[key].value_counts()"
      ],
      "metadata": {
        "colab": {
          "base_uri": "https://localhost:8080/"
        },
        "id": "Ia63pE14mXVU",
        "outputId": "804618f8-25d3-49c1-ece1-90cf1638a66b"
      },
      "execution_count": 25,
      "outputs": [
        {
          "output_type": "execute_result",
          "data": {
            "text/plain": [
              "0        1864192\n",
              "10          1605\n",
              "10000       1468\n",
              "20000        289\n",
              "20           198\n",
              "100          175\n",
              "1             99\n",
              "1000          68\n",
              "10010         40\n",
              "110           15\n",
              "2000          13\n",
              "2             12\n",
              "1010          11\n",
              "200           10\n",
              "10001          8\n",
              "11             3\n",
              "11000          3\n",
              "1100           2\n",
              "101            2\n",
              "1001           1\n",
              "Name: MC-G, dtype: int64"
            ]
          },
          "metadata": {},
          "execution_count": 25
        }
      ]
    },
    {
      "cell_type": "code",
      "source": [
        "# Con MCF\n",
        "df[df[\"MCC-General\"] == 1][key].value_counts()"
      ],
      "metadata": {
        "colab": {
          "base_uri": "https://localhost:8080/"
        },
        "id": "MFMM5B0VlDzK",
        "outputId": "b4a98520-8a52-4021-aee0-208982531eb4"
      },
      "execution_count": 26,
      "outputs": [
        {
          "output_type": "execute_result",
          "data": {
            "text/plain": [
              "10       1605\n",
              "10000    1468\n",
              "20000     289\n",
              "20        198\n",
              "100       175\n",
              "1          99\n",
              "1000       68\n",
              "10010      40\n",
              "110        15\n",
              "2000       13\n",
              "2          12\n",
              "1010       11\n",
              "200        10\n",
              "10001       8\n",
              "11          3\n",
              "11000       3\n",
              "1100        2\n",
              "101         2\n",
              "1001        1\n",
              "Name: MC-G, dtype: int64"
            ]
          },
          "metadata": {},
          "execution_count": 26
        }
      ]
    },
    {
      "cell_type": "markdown",
      "source": [
        "## Variable categórica clasificación de MCF\n",
        "- Oftalmológicas (1)\n",
        "- Oído (2)\n",
        "- Cara y cuello (3)\n",
        "- Nariz (4)\n",
        "- Lengua y boca (5)"
      ],
      "metadata": {
        "id": "EjjCHZ66U_5s"
      }
    },
    {
      "cell_type": "code",
      "source": [
        "key=\"MC-G2\"\n",
        "etiqueta = 'MC-G'\n",
        "\n",
        "df[key] = None\n",
        "df[key].mask(df[etiqueta] == mc_value['oftalmo'], 1, inplace=True)\n",
        "df[key].mask(df[etiqueta] == mc_value['oido'], 2, inplace=True)\n",
        "df[key].mask(df[etiqueta] == mc_value['cuello'], 3, inplace=True)\n",
        "df[key].mask(df[etiqueta] == mc_value['nariz'], 4, inplace=True)\n",
        "df[key].mask(df[etiqueta] == mc_value['boca'], 5, inplace=True)\n",
        "df[key].mask(~df[etiqueta].isin(mc_values), 6, inplace=True)\n",
        "df[key].mask(df[etiqueta] == 0, None, inplace=True)\n",
        "\n",
        "\n",
        "df[key].value_counts()"
      ],
      "metadata": {
        "colab": {
          "base_uri": "https://localhost:8080/"
        },
        "id": "UD54YrCA478W",
        "outputId": "25c22fce-002c-47fa-acfe-c7662e35f634"
      },
      "execution_count": 27,
      "outputs": [
        {
          "output_type": "execute_result",
          "data": {
            "text/plain": [
              "2    1605\n",
              "5    1468\n",
              "6     607\n",
              "3     175\n",
              "1      99\n",
              "4      68\n",
              "Name: MC-G2, dtype: int64"
            ]
          },
          "metadata": {},
          "execution_count": 27
        }
      ]
    },
    {
      "cell_type": "code",
      "source": [
        "# Con MCF\n",
        "df[df[\"MCC-General\"] == 1][key].value_counts().sum()"
      ],
      "metadata": {
        "colab": {
          "base_uri": "https://localhost:8080/"
        },
        "id": "XTwtAEKflEvt",
        "outputId": "546c7767-6a42-44e9-d431-c2ae162281e9"
      },
      "execution_count": 28,
      "outputs": [
        {
          "output_type": "execute_result",
          "data": {
            "text/plain": [
              "4022"
            ]
          },
          "metadata": {},
          "execution_count": 28
        }
      ]
    },
    {
      "cell_type": "markdown",
      "source": [
        "# Dos malformaciones\n",
        "- No tenga una segunda malformacion, solo la primera sea MC (0)\n",
        "- Las dos malformaciones sean cranofaciales  (1)\n",
        "- Que una sea segunda malformacion y otra de otro tipo (2)\n",
        "- MCF y no se espeficifa (3)"
      ],
      "metadata": {
        "id": "7WCfUJUb3uJj"
      }
    },
    {
      "cell_type": "code",
      "source": [
        "key=\"S-MG\"\n",
        "df[key] = None\n",
        "# estos solo checan los que si o si, tienen solo una malformacion\n",
        "mcf_primera = (df.CODIGOCIEANOMALIA1.isin(codigos_mc) & (df.CODIGOCIEANOMALIA2 == '0000'))\n",
        "mcf_segunda = (df.CODIGOCIEANOMALIA2.isin(codigos_mc) & (df.CODIGOCIEANOMALIA1 == '0000'))\n",
        "\n",
        "# tenga dos mcf\n",
        "mcf_primera_y_segunda = (df.CODIGOCIEANOMALIA1.isin(codigos_mc) & df.CODIGOCIEANOMALIA2.isin(codigos_mc))\n",
        "\n",
        "# que tenga una mcf y otra mc != a mcf\n",
        "mcf_primera_mc_segunda = ((df.CODIGOCIEANOMALIA1.isin(codigos_mc))  & (df.CODIGOCIEANOMALIA2 != '0000') & (~df.CODIGOCIEANOMALIA2.isin(codigos_mc)) & (df.CODIGOCIEANOMALIA2 != '9999'))\n",
        "mc_primera_mcf_segunda = ((df.CODIGOCIEANOMALIA2.isin(codigos_mc))  & (df.CODIGOCIEANOMALIA1 != '0000') & (~df.CODIGOCIEANOMALIA1.isin(codigos_mc)) & (df.CODIGOCIEANOMALIA1 != '9999'))\n",
        "\n",
        "# que tenga una mcf y la otra idk\n",
        "mcf_primera_idk_segunda = ((df.CODIGOCIEANOMALIA1.isin(codigos_mc)) & (df.CODIGOCIEANOMALIA2 == '9999'))\n",
        "idk_primera_mcf_segunda = ((df.CODIGOCIEANOMALIA2.isin(codigos_mc)) & (df.CODIGOCIEANOMALIA1 == '9999'))\n",
        "\n",
        "df[key].mask(mcf_primera | mcf_segunda, 0, inplace=True)\n",
        "df[key].mask(mcf_primera_y_segunda, 1, inplace=True)\n",
        "df[key].mask(mcf_primera_mc_segunda | mc_primera_mcf_segunda, 2, inplace=True)\n",
        "df[key].mask(mcf_primera_idk_segunda | idk_primera_mcf_segunda, 3, inplace=True)\n",
        "df[key].value_counts()"
      ],
      "metadata": {
        "colab": {
          "base_uri": "https://localhost:8080/"
        },
        "id": "V-Qeu0BY3tkE",
        "outputId": "f0e1f6fe-9b6b-47a4-b193-8495ffffebff"
      },
      "execution_count": 29,
      "outputs": [
        {
          "output_type": "execute_result",
          "data": {
            "text/plain": [
              "0    2488\n",
              "2     775\n",
              "1     607\n",
              "3     152\n",
              "Name: S-MG, dtype: int64"
            ]
          },
          "metadata": {},
          "execution_count": 29
        }
      ]
    },
    {
      "cell_type": "code",
      "source": [
        "# Con MCF\n",
        "df[df[\"MCC-General\"] == 1][key].value_counts()"
      ],
      "metadata": {
        "colab": {
          "base_uri": "https://localhost:8080/"
        },
        "id": "mAvUF9pmlRaS",
        "outputId": "405708cc-e93b-4f0a-dac8-205f86ab6c08"
      },
      "execution_count": 30,
      "outputs": [
        {
          "output_type": "execute_result",
          "data": {
            "text/plain": [
              "0    2488\n",
              "2     775\n",
              "1     607\n",
              "3     152\n",
              "Name: S-MG, dtype: int64"
            ]
          },
          "metadata": {},
          "execution_count": 30
        }
      ]
    },
    {
      "cell_type": "code",
      "source": [
        "df[(df.CODIGOCIEANOMALIA1.isin(codigos_mc) & (df.CODIGOCIEANOMALIA2 != '0000') & (df.CODIGOCIEANOMALIA2 != '9999')) | (df.CODIGOCIEANOMALIA2.isin(codigos_mc) & (df.CODIGOCIEANOMALIA1 != '0000') & (df.CODIGOCIEANOMALIA1 != '9999'))]"
      ],
      "metadata": {
        "colab": {
          "base_uri": "https://localhost:8080/",
          "height": 513
        },
        "id": "wldFGwyBAMuU",
        "outputId": "e5976601-f502-4e3d-b3c7-2193bea9a407"
      },
      "execution_count": 31,
      "outputs": [
        {
          "output_type": "execute_result",
          "data": {
            "text/plain": [
              "         ENTIDADFEDERATIVAPARTO  EDAD  NUMEROEMBARAZOS  HIJOSNACIDOSMUERTOS  \\\n",
              "431                           1    24                2                    0   \n",
              "612                           1    18                1                    0   \n",
              "1261                          1    16                1                    0   \n",
              "1995                          1    16                1                    0   \n",
              "2141                          1    26                2                    0   \n",
              "...                         ...   ...              ...                  ...   \n",
              "1863109                      14    34                4                    0   \n",
              "1864618                      14    20                1                    0   \n",
              "1866419                      32    29                2                    0   \n",
              "1868030                      32    24                1                    0   \n",
              "1868167                      32    17                2                    2   \n",
              "\n",
              "         ATENCIONPRENATAL  TRIMESTREPRIMERCONSULTA  TOTALCONSULTAS  \\\n",
              "431                     1                        1               7   \n",
              "612                     1                        1               6   \n",
              "1261                    1                        2               6   \n",
              "1995                    1                        2               7   \n",
              "2141                    1                        1               8   \n",
              "...                   ...                      ...             ...   \n",
              "1863109                 1                        9              99   \n",
              "1864618                 1                        1               1   \n",
              "1866419                 1                        1               4   \n",
              "1868030                 1                        1               6   \n",
              "1868167                 1                        3               4   \n",
              "\n",
              "         SOBREVIVIOPARTO  ESCOLARIDAD       OCUPHAB  ... PRODUCTOEMBARAZO  \\\n",
              "431                    1            5         HOGAR  ...                1   \n",
              "612                    1            7         HOGAR  ...                1   \n",
              "1261                   1            5         HOGAR  ...                1   \n",
              "1995                   1            5         HOGAR  ...                1   \n",
              "2141                   1            7  AMA DE HOGAR  ...                1   \n",
              "...                  ...          ...           ...  ...              ...   \n",
              "1863109                1            5   AMA DE CASA  ...                1   \n",
              "1864618                1            5         HOGAR  ...                1   \n",
              "1866419                1            7   AMA DE CASA  ...                1   \n",
              "1868030                1           11    ESTUDIANTE  ...                1   \n",
              "1868167                1            6    ESTUDIANTE  ...                1   \n",
              "\n",
              "         CODIGOCIEANOMALIA1  CODIGOCIEANOMALIA2  RESOLUCIONEMBARAZO  \\\n",
              "431                     NaN                Q172                   2   \n",
              "612                    Q352                P128                   3   \n",
              "1261                    NaN                Q369                   1   \n",
              "1995                   Q359                Q359                   1   \n",
              "2141                   Q170                P128                   1   \n",
              "...                     ...                 ...                 ...   \n",
              "1863109                Q761                Q189                   1   \n",
              "1864618                Q369                P128                   2   \n",
              "1866419                P073                Q380                   1   \n",
              "1868030                 NaN                Q174                   2   \n",
              "1868167                Q301                Q699                   1   \n",
              "\n",
              "         MCC-General   MC-1   MC-2   MC-G MC-G2 S-MG  \n",
              "431                1      0     10     10     2    2  \n",
              "612                1  10000      0  10000     5    2  \n",
              "1261               1      0  10000  10000     5    2  \n",
              "1995               1  10000  10000  20000     6    1  \n",
              "2141               1     10      0     10     2    2  \n",
              "...              ...    ...    ...    ...   ...  ...  \n",
              "1863109            1      0    100    100     3    2  \n",
              "1864618            1  10000      0  10000     5    2  \n",
              "1866419            1      0  10000  10000     5    2  \n",
              "1868030            1      0     10     10     2    2  \n",
              "1868167            1   1000      0   1000     4    2  \n",
              "\n",
              "[1382 rows x 27 columns]"
            ],
            "text/html": [
              "\n",
              "  <div id=\"df-61846ccf-0806-4810-9c8b-aaf8d8369c66\" class=\"colab-df-container\">\n",
              "    <div>\n",
              "<style scoped>\n",
              "    .dataframe tbody tr th:only-of-type {\n",
              "        vertical-align: middle;\n",
              "    }\n",
              "\n",
              "    .dataframe tbody tr th {\n",
              "        vertical-align: top;\n",
              "    }\n",
              "\n",
              "    .dataframe thead th {\n",
              "        text-align: right;\n",
              "    }\n",
              "</style>\n",
              "<table border=\"1\" class=\"dataframe\">\n",
              "  <thead>\n",
              "    <tr style=\"text-align: right;\">\n",
              "      <th></th>\n",
              "      <th>ENTIDADFEDERATIVAPARTO</th>\n",
              "      <th>EDAD</th>\n",
              "      <th>NUMEROEMBARAZOS</th>\n",
              "      <th>HIJOSNACIDOSMUERTOS</th>\n",
              "      <th>ATENCIONPRENATAL</th>\n",
              "      <th>TRIMESTREPRIMERCONSULTA</th>\n",
              "      <th>TOTALCONSULTAS</th>\n",
              "      <th>SOBREVIVIOPARTO</th>\n",
              "      <th>ESCOLARIDAD</th>\n",
              "      <th>OCUPHAB</th>\n",
              "      <th>...</th>\n",
              "      <th>PRODUCTOEMBARAZO</th>\n",
              "      <th>CODIGOCIEANOMALIA1</th>\n",
              "      <th>CODIGOCIEANOMALIA2</th>\n",
              "      <th>RESOLUCIONEMBARAZO</th>\n",
              "      <th>MCC-General</th>\n",
              "      <th>MC-1</th>\n",
              "      <th>MC-2</th>\n",
              "      <th>MC-G</th>\n",
              "      <th>MC-G2</th>\n",
              "      <th>S-MG</th>\n",
              "    </tr>\n",
              "  </thead>\n",
              "  <tbody>\n",
              "    <tr>\n",
              "      <th>431</th>\n",
              "      <td>1</td>\n",
              "      <td>24</td>\n",
              "      <td>2</td>\n",
              "      <td>0</td>\n",
              "      <td>1</td>\n",
              "      <td>1</td>\n",
              "      <td>7</td>\n",
              "      <td>1</td>\n",
              "      <td>5</td>\n",
              "      <td>HOGAR</td>\n",
              "      <td>...</td>\n",
              "      <td>1</td>\n",
              "      <td>NaN</td>\n",
              "      <td>Q172</td>\n",
              "      <td>2</td>\n",
              "      <td>1</td>\n",
              "      <td>0</td>\n",
              "      <td>10</td>\n",
              "      <td>10</td>\n",
              "      <td>2</td>\n",
              "      <td>2</td>\n",
              "    </tr>\n",
              "    <tr>\n",
              "      <th>612</th>\n",
              "      <td>1</td>\n",
              "      <td>18</td>\n",
              "      <td>1</td>\n",
              "      <td>0</td>\n",
              "      <td>1</td>\n",
              "      <td>1</td>\n",
              "      <td>6</td>\n",
              "      <td>1</td>\n",
              "      <td>7</td>\n",
              "      <td>HOGAR</td>\n",
              "      <td>...</td>\n",
              "      <td>1</td>\n",
              "      <td>Q352</td>\n",
              "      <td>P128</td>\n",
              "      <td>3</td>\n",
              "      <td>1</td>\n",
              "      <td>10000</td>\n",
              "      <td>0</td>\n",
              "      <td>10000</td>\n",
              "      <td>5</td>\n",
              "      <td>2</td>\n",
              "    </tr>\n",
              "    <tr>\n",
              "      <th>1261</th>\n",
              "      <td>1</td>\n",
              "      <td>16</td>\n",
              "      <td>1</td>\n",
              "      <td>0</td>\n",
              "      <td>1</td>\n",
              "      <td>2</td>\n",
              "      <td>6</td>\n",
              "      <td>1</td>\n",
              "      <td>5</td>\n",
              "      <td>HOGAR</td>\n",
              "      <td>...</td>\n",
              "      <td>1</td>\n",
              "      <td>NaN</td>\n",
              "      <td>Q369</td>\n",
              "      <td>1</td>\n",
              "      <td>1</td>\n",
              "      <td>0</td>\n",
              "      <td>10000</td>\n",
              "      <td>10000</td>\n",
              "      <td>5</td>\n",
              "      <td>2</td>\n",
              "    </tr>\n",
              "    <tr>\n",
              "      <th>1995</th>\n",
              "      <td>1</td>\n",
              "      <td>16</td>\n",
              "      <td>1</td>\n",
              "      <td>0</td>\n",
              "      <td>1</td>\n",
              "      <td>2</td>\n",
              "      <td>7</td>\n",
              "      <td>1</td>\n",
              "      <td>5</td>\n",
              "      <td>HOGAR</td>\n",
              "      <td>...</td>\n",
              "      <td>1</td>\n",
              "      <td>Q359</td>\n",
              "      <td>Q359</td>\n",
              "      <td>1</td>\n",
              "      <td>1</td>\n",
              "      <td>10000</td>\n",
              "      <td>10000</td>\n",
              "      <td>20000</td>\n",
              "      <td>6</td>\n",
              "      <td>1</td>\n",
              "    </tr>\n",
              "    <tr>\n",
              "      <th>2141</th>\n",
              "      <td>1</td>\n",
              "      <td>26</td>\n",
              "      <td>2</td>\n",
              "      <td>0</td>\n",
              "      <td>1</td>\n",
              "      <td>1</td>\n",
              "      <td>8</td>\n",
              "      <td>1</td>\n",
              "      <td>7</td>\n",
              "      <td>AMA DE HOGAR</td>\n",
              "      <td>...</td>\n",
              "      <td>1</td>\n",
              "      <td>Q170</td>\n",
              "      <td>P128</td>\n",
              "      <td>1</td>\n",
              "      <td>1</td>\n",
              "      <td>10</td>\n",
              "      <td>0</td>\n",
              "      <td>10</td>\n",
              "      <td>2</td>\n",
              "      <td>2</td>\n",
              "    </tr>\n",
              "    <tr>\n",
              "      <th>...</th>\n",
              "      <td>...</td>\n",
              "      <td>...</td>\n",
              "      <td>...</td>\n",
              "      <td>...</td>\n",
              "      <td>...</td>\n",
              "      <td>...</td>\n",
              "      <td>...</td>\n",
              "      <td>...</td>\n",
              "      <td>...</td>\n",
              "      <td>...</td>\n",
              "      <td>...</td>\n",
              "      <td>...</td>\n",
              "      <td>...</td>\n",
              "      <td>...</td>\n",
              "      <td>...</td>\n",
              "      <td>...</td>\n",
              "      <td>...</td>\n",
              "      <td>...</td>\n",
              "      <td>...</td>\n",
              "      <td>...</td>\n",
              "      <td>...</td>\n",
              "    </tr>\n",
              "    <tr>\n",
              "      <th>1863109</th>\n",
              "      <td>14</td>\n",
              "      <td>34</td>\n",
              "      <td>4</td>\n",
              "      <td>0</td>\n",
              "      <td>1</td>\n",
              "      <td>9</td>\n",
              "      <td>99</td>\n",
              "      <td>1</td>\n",
              "      <td>5</td>\n",
              "      <td>AMA DE CASA</td>\n",
              "      <td>...</td>\n",
              "      <td>1</td>\n",
              "      <td>Q761</td>\n",
              "      <td>Q189</td>\n",
              "      <td>1</td>\n",
              "      <td>1</td>\n",
              "      <td>0</td>\n",
              "      <td>100</td>\n",
              "      <td>100</td>\n",
              "      <td>3</td>\n",
              "      <td>2</td>\n",
              "    </tr>\n",
              "    <tr>\n",
              "      <th>1864618</th>\n",
              "      <td>14</td>\n",
              "      <td>20</td>\n",
              "      <td>1</td>\n",
              "      <td>0</td>\n",
              "      <td>1</td>\n",
              "      <td>1</td>\n",
              "      <td>1</td>\n",
              "      <td>1</td>\n",
              "      <td>5</td>\n",
              "      <td>HOGAR</td>\n",
              "      <td>...</td>\n",
              "      <td>1</td>\n",
              "      <td>Q369</td>\n",
              "      <td>P128</td>\n",
              "      <td>2</td>\n",
              "      <td>1</td>\n",
              "      <td>10000</td>\n",
              "      <td>0</td>\n",
              "      <td>10000</td>\n",
              "      <td>5</td>\n",
              "      <td>2</td>\n",
              "    </tr>\n",
              "    <tr>\n",
              "      <th>1866419</th>\n",
              "      <td>32</td>\n",
              "      <td>29</td>\n",
              "      <td>2</td>\n",
              "      <td>0</td>\n",
              "      <td>1</td>\n",
              "      <td>1</td>\n",
              "      <td>4</td>\n",
              "      <td>1</td>\n",
              "      <td>7</td>\n",
              "      <td>AMA DE CASA</td>\n",
              "      <td>...</td>\n",
              "      <td>1</td>\n",
              "      <td>P073</td>\n",
              "      <td>Q380</td>\n",
              "      <td>1</td>\n",
              "      <td>1</td>\n",
              "      <td>0</td>\n",
              "      <td>10000</td>\n",
              "      <td>10000</td>\n",
              "      <td>5</td>\n",
              "      <td>2</td>\n",
              "    </tr>\n",
              "    <tr>\n",
              "      <th>1868030</th>\n",
              "      <td>32</td>\n",
              "      <td>24</td>\n",
              "      <td>1</td>\n",
              "      <td>0</td>\n",
              "      <td>1</td>\n",
              "      <td>1</td>\n",
              "      <td>6</td>\n",
              "      <td>1</td>\n",
              "      <td>11</td>\n",
              "      <td>ESTUDIANTE</td>\n",
              "      <td>...</td>\n",
              "      <td>1</td>\n",
              "      <td>NaN</td>\n",
              "      <td>Q174</td>\n",
              "      <td>2</td>\n",
              "      <td>1</td>\n",
              "      <td>0</td>\n",
              "      <td>10</td>\n",
              "      <td>10</td>\n",
              "      <td>2</td>\n",
              "      <td>2</td>\n",
              "    </tr>\n",
              "    <tr>\n",
              "      <th>1868167</th>\n",
              "      <td>32</td>\n",
              "      <td>17</td>\n",
              "      <td>2</td>\n",
              "      <td>2</td>\n",
              "      <td>1</td>\n",
              "      <td>3</td>\n",
              "      <td>4</td>\n",
              "      <td>1</td>\n",
              "      <td>6</td>\n",
              "      <td>ESTUDIANTE</td>\n",
              "      <td>...</td>\n",
              "      <td>1</td>\n",
              "      <td>Q301</td>\n",
              "      <td>Q699</td>\n",
              "      <td>1</td>\n",
              "      <td>1</td>\n",
              "      <td>1000</td>\n",
              "      <td>0</td>\n",
              "      <td>1000</td>\n",
              "      <td>4</td>\n",
              "      <td>2</td>\n",
              "    </tr>\n",
              "  </tbody>\n",
              "</table>\n",
              "<p>1382 rows × 27 columns</p>\n",
              "</div>\n",
              "    <div class=\"colab-df-buttons\">\n",
              "\n",
              "  <div class=\"colab-df-container\">\n",
              "    <button class=\"colab-df-convert\" onclick=\"convertToInteractive('df-61846ccf-0806-4810-9c8b-aaf8d8369c66')\"\n",
              "            title=\"Convert this dataframe to an interactive table.\"\n",
              "            style=\"display:none;\">\n",
              "\n",
              "  <svg xmlns=\"http://www.w3.org/2000/svg\" height=\"24px\" viewBox=\"0 -960 960 960\">\n",
              "    <path d=\"M120-120v-720h720v720H120Zm60-500h600v-160H180v160Zm220 220h160v-160H400v160Zm0 220h160v-160H400v160ZM180-400h160v-160H180v160Zm440 0h160v-160H620v160ZM180-180h160v-160H180v160Zm440 0h160v-160H620v160Z\"/>\n",
              "  </svg>\n",
              "    </button>\n",
              "\n",
              "  <style>\n",
              "    .colab-df-container {\n",
              "      display:flex;\n",
              "      gap: 12px;\n",
              "    }\n",
              "\n",
              "    .colab-df-convert {\n",
              "      background-color: #E8F0FE;\n",
              "      border: none;\n",
              "      border-radius: 50%;\n",
              "      cursor: pointer;\n",
              "      display: none;\n",
              "      fill: #1967D2;\n",
              "      height: 32px;\n",
              "      padding: 0 0 0 0;\n",
              "      width: 32px;\n",
              "    }\n",
              "\n",
              "    .colab-df-convert:hover {\n",
              "      background-color: #E2EBFA;\n",
              "      box-shadow: 0px 1px 2px rgba(60, 64, 67, 0.3), 0px 1px 3px 1px rgba(60, 64, 67, 0.15);\n",
              "      fill: #174EA6;\n",
              "    }\n",
              "\n",
              "    .colab-df-buttons div {\n",
              "      margin-bottom: 4px;\n",
              "    }\n",
              "\n",
              "    [theme=dark] .colab-df-convert {\n",
              "      background-color: #3B4455;\n",
              "      fill: #D2E3FC;\n",
              "    }\n",
              "\n",
              "    [theme=dark] .colab-df-convert:hover {\n",
              "      background-color: #434B5C;\n",
              "      box-shadow: 0px 1px 3px 1px rgba(0, 0, 0, 0.15);\n",
              "      filter: drop-shadow(0px 1px 2px rgba(0, 0, 0, 0.3));\n",
              "      fill: #FFFFFF;\n",
              "    }\n",
              "  </style>\n",
              "\n",
              "    <script>\n",
              "      const buttonEl =\n",
              "        document.querySelector('#df-61846ccf-0806-4810-9c8b-aaf8d8369c66 button.colab-df-convert');\n",
              "      buttonEl.style.display =\n",
              "        google.colab.kernel.accessAllowed ? 'block' : 'none';\n",
              "\n",
              "      async function convertToInteractive(key) {\n",
              "        const element = document.querySelector('#df-61846ccf-0806-4810-9c8b-aaf8d8369c66');\n",
              "        const dataTable =\n",
              "          await google.colab.kernel.invokeFunction('convertToInteractive',\n",
              "                                                    [key], {});\n",
              "        if (!dataTable) return;\n",
              "\n",
              "        const docLinkHtml = 'Like what you see? Visit the ' +\n",
              "          '<a target=\"_blank\" href=https://colab.research.google.com/notebooks/data_table.ipynb>data table notebook</a>'\n",
              "          + ' to learn more about interactive tables.';\n",
              "        element.innerHTML = '';\n",
              "        dataTable['output_type'] = 'display_data';\n",
              "        await google.colab.output.renderOutput(dataTable, element);\n",
              "        const docLink = document.createElement('div');\n",
              "        docLink.innerHTML = docLinkHtml;\n",
              "        element.appendChild(docLink);\n",
              "      }\n",
              "    </script>\n",
              "  </div>\n",
              "\n",
              "\n",
              "<div id=\"df-0cd2c22a-711a-4b06-9583-0a2db7ecb6fd\">\n",
              "  <button class=\"colab-df-quickchart\" onclick=\"quickchart('df-0cd2c22a-711a-4b06-9583-0a2db7ecb6fd')\"\n",
              "            title=\"Suggest charts\"\n",
              "            style=\"display:none;\">\n",
              "\n",
              "<svg xmlns=\"http://www.w3.org/2000/svg\" height=\"24px\"viewBox=\"0 0 24 24\"\n",
              "     width=\"24px\">\n",
              "    <g>\n",
              "        <path d=\"M19 3H5c-1.1 0-2 .9-2 2v14c0 1.1.9 2 2 2h14c1.1 0 2-.9 2-2V5c0-1.1-.9-2-2-2zM9 17H7v-7h2v7zm4 0h-2V7h2v10zm4 0h-2v-4h2v4z\"/>\n",
              "    </g>\n",
              "</svg>\n",
              "  </button>\n",
              "\n",
              "<style>\n",
              "  .colab-df-quickchart {\n",
              "      --bg-color: #E8F0FE;\n",
              "      --fill-color: #1967D2;\n",
              "      --hover-bg-color: #E2EBFA;\n",
              "      --hover-fill-color: #174EA6;\n",
              "      --disabled-fill-color: #AAA;\n",
              "      --disabled-bg-color: #DDD;\n",
              "  }\n",
              "\n",
              "  [theme=dark] .colab-df-quickchart {\n",
              "      --bg-color: #3B4455;\n",
              "      --fill-color: #D2E3FC;\n",
              "      --hover-bg-color: #434B5C;\n",
              "      --hover-fill-color: #FFFFFF;\n",
              "      --disabled-bg-color: #3B4455;\n",
              "      --disabled-fill-color: #666;\n",
              "  }\n",
              "\n",
              "  .colab-df-quickchart {\n",
              "    background-color: var(--bg-color);\n",
              "    border: none;\n",
              "    border-radius: 50%;\n",
              "    cursor: pointer;\n",
              "    display: none;\n",
              "    fill: var(--fill-color);\n",
              "    height: 32px;\n",
              "    padding: 0;\n",
              "    width: 32px;\n",
              "  }\n",
              "\n",
              "  .colab-df-quickchart:hover {\n",
              "    background-color: var(--hover-bg-color);\n",
              "    box-shadow: 0 1px 2px rgba(60, 64, 67, 0.3), 0 1px 3px 1px rgba(60, 64, 67, 0.15);\n",
              "    fill: var(--button-hover-fill-color);\n",
              "  }\n",
              "\n",
              "  .colab-df-quickchart-complete:disabled,\n",
              "  .colab-df-quickchart-complete:disabled:hover {\n",
              "    background-color: var(--disabled-bg-color);\n",
              "    fill: var(--disabled-fill-color);\n",
              "    box-shadow: none;\n",
              "  }\n",
              "\n",
              "  .colab-df-spinner {\n",
              "    border: 2px solid var(--fill-color);\n",
              "    border-color: transparent;\n",
              "    border-bottom-color: var(--fill-color);\n",
              "    animation:\n",
              "      spin 1s steps(1) infinite;\n",
              "  }\n",
              "\n",
              "  @keyframes spin {\n",
              "    0% {\n",
              "      border-color: transparent;\n",
              "      border-bottom-color: var(--fill-color);\n",
              "      border-left-color: var(--fill-color);\n",
              "    }\n",
              "    20% {\n",
              "      border-color: transparent;\n",
              "      border-left-color: var(--fill-color);\n",
              "      border-top-color: var(--fill-color);\n",
              "    }\n",
              "    30% {\n",
              "      border-color: transparent;\n",
              "      border-left-color: var(--fill-color);\n",
              "      border-top-color: var(--fill-color);\n",
              "      border-right-color: var(--fill-color);\n",
              "    }\n",
              "    40% {\n",
              "      border-color: transparent;\n",
              "      border-right-color: var(--fill-color);\n",
              "      border-top-color: var(--fill-color);\n",
              "    }\n",
              "    60% {\n",
              "      border-color: transparent;\n",
              "      border-right-color: var(--fill-color);\n",
              "    }\n",
              "    80% {\n",
              "      border-color: transparent;\n",
              "      border-right-color: var(--fill-color);\n",
              "      border-bottom-color: var(--fill-color);\n",
              "    }\n",
              "    90% {\n",
              "      border-color: transparent;\n",
              "      border-bottom-color: var(--fill-color);\n",
              "    }\n",
              "  }\n",
              "</style>\n",
              "\n",
              "  <script>\n",
              "    async function quickchart(key) {\n",
              "      const quickchartButtonEl =\n",
              "        document.querySelector('#' + key + ' button');\n",
              "      quickchartButtonEl.disabled = true;  // To prevent multiple clicks.\n",
              "      quickchartButtonEl.classList.add('colab-df-spinner');\n",
              "      try {\n",
              "        const charts = await google.colab.kernel.invokeFunction(\n",
              "            'suggestCharts', [key], {});\n",
              "      } catch (error) {\n",
              "        console.error('Error during call to suggestCharts:', error);\n",
              "      }\n",
              "      quickchartButtonEl.classList.remove('colab-df-spinner');\n",
              "      quickchartButtonEl.classList.add('colab-df-quickchart-complete');\n",
              "    }\n",
              "    (() => {\n",
              "      let quickchartButtonEl =\n",
              "        document.querySelector('#df-0cd2c22a-711a-4b06-9583-0a2db7ecb6fd button');\n",
              "      quickchartButtonEl.style.display =\n",
              "        google.colab.kernel.accessAllowed ? 'block' : 'none';\n",
              "    })();\n",
              "  </script>\n",
              "</div>\n",
              "\n",
              "    </div>\n",
              "  </div>\n"
            ]
          },
          "metadata": {},
          "execution_count": 31
        }
      ]
    },
    {
      "cell_type": "markdown",
      "source": [
        "# Edad materna\n",
        "Edades por decadas de vida de los que presentan malformaciones craneofaciales, ya sea en una sola columna o ambas.\n",
        "menores de 20 años\n",
        "20-29\n",
        "30-39\n",
        "40-49\n",
        "mayores o igual a 50"
      ],
      "metadata": {
        "id": "Ezbh_hXCg2XN"
      }
    },
    {
      "cell_type": "code",
      "source": [
        "etiqueta = 'EDAD'\n",
        "key = \"Edad materna\"\n",
        "df[key] = None\n",
        "\n",
        "\n",
        "df[key].mask(df[etiqueta] < 20, 1, inplace=True)\n",
        "df[key].mask((df[etiqueta] >= 20) & (df[etiqueta] < 30), 2, inplace=True)\n",
        "df[key].mask((df[etiqueta] >= 30) & (df[etiqueta] < 40), 3, inplace=True)\n",
        "df[key].mask((df[etiqueta] >= 40) & (df[etiqueta] < 50), 4, inplace=True)\n",
        "df[key].mask((df[etiqueta] >= 50) & (df[etiqueta] != 999), 5, inplace=True)\n",
        "df[key].value_counts()\n"
      ],
      "metadata": {
        "id": "ta38oOSasecC",
        "colab": {
          "base_uri": "https://localhost:8080/"
        },
        "outputId": "4fb8bdb8-d399-4b4a-9285-2dac0afd323f"
      },
      "execution_count": 32,
      "outputs": [
        {
          "output_type": "execute_result",
          "data": {
            "text/plain": [
              "2    1010191\n",
              "3     483577\n",
              "1     333503\n",
              "4      40164\n",
              "5        779\n",
              "Name: Edad materna, dtype: int64"
            ]
          },
          "metadata": {},
          "execution_count": 32
        }
      ]
    },
    {
      "cell_type": "code",
      "source": [
        "# Con MCF\n",
        "df[df[\"MCC-General\"] == 1][key].value_counts()"
      ],
      "metadata": {
        "colab": {
          "base_uri": "https://localhost:8080/"
        },
        "id": "H4n27WGYlcyP",
        "outputId": "5051209b-5789-4de5-91f3-5eeecd9e4254"
      },
      "execution_count": 33,
      "outputs": [
        {
          "output_type": "execute_result",
          "data": {
            "text/plain": [
              "2    2108\n",
              "3    1130\n",
              "1     658\n",
              "4     124\n",
              "5       2\n",
              "Name: Edad materna, dtype: int64"
            ]
          },
          "metadata": {},
          "execution_count": 33
        }
      ]
    },
    {
      "cell_type": "markdown",
      "source": [
        "## Tipo de producto del embarazo\n",
        "- Único (1)\n",
        "- Gemelar (2)\n",
        "- Tres o más (3)"
      ],
      "metadata": {
        "id": "7FsKjPouVIQo"
      }
    },
    {
      "cell_type": "code",
      "source": [
        "etiqueta = 'PRODUCTOEMBARAZO'\n",
        "key = \"Tipo producto\"\n",
        "df[key] = None\n",
        "df[key].mask(df[etiqueta] == 1, 1, inplace=True)\n",
        "df[key].mask(df[etiqueta] == 2, 2, inplace=True)\n",
        "df[key].mask(df[etiqueta] == 3, 3, inplace=True)\n",
        "df[key].value_counts()"
      ],
      "metadata": {
        "colab": {
          "base_uri": "https://localhost:8080/"
        },
        "id": "D-qeAdgVVPZd",
        "outputId": "b335a316-3529-4394-e621-97c81017a28f"
      },
      "execution_count": 34,
      "outputs": [
        {
          "output_type": "execute_result",
          "data": {
            "text/plain": [
              "1    1832339\n",
              "2      30365\n",
              "3       1001\n",
              "Name: Tipo producto, dtype: int64"
            ]
          },
          "metadata": {},
          "execution_count": 34
        }
      ]
    },
    {
      "cell_type": "code",
      "source": [
        "# Con MCF\n",
        "df[df[\"MCC-General\"] == 1][key].value_counts()"
      ],
      "metadata": {
        "colab": {
          "base_uri": "https://localhost:8080/"
        },
        "id": "AB6nVL-jlfT-",
        "outputId": "0edf0b06-7293-4175-e708-32efc7a5f1b7"
      },
      "execution_count": 35,
      "outputs": [
        {
          "output_type": "execute_result",
          "data": {
            "text/plain": [
              "1    3936\n",
              "2      70\n",
              "3       2\n",
              "Name: Tipo producto, dtype: int64"
            ]
          },
          "metadata": {},
          "execution_count": 35
        }
      ]
    },
    {
      "cell_type": "markdown",
      "source": [
        "# Numero de embarazos\n",
        "Primigesta (1 embarazo)\n",
        "Multigesta (2 a 5 embarazos)\n",
        "Gran multigesta (6 o más embarazos)"
      ],
      "metadata": {
        "id": "Z6D8_q3Dhnno"
      }
    },
    {
      "cell_type": "code",
      "source": [
        "etiqueta = 'NUMEROEMBARAZOS'\n",
        "key = \"Numero de embarazos\"\n",
        "df[key] = None\n",
        "\n",
        "\n",
        "df[key].mask(df[etiqueta] == 1, 1, inplace=True)\n",
        "df[key].mask((df[etiqueta] >= 2) & (df[etiqueta] < 6), 2, inplace=True)\n",
        "df[key].mask((df[etiqueta] >= 6) & (df[etiqueta] != 99), 3, inplace=True)\n",
        "df[key].value_counts()"
      ],
      "metadata": {
        "id": "cMrFIIzNwNwm",
        "colab": {
          "base_uri": "https://localhost:8080/"
        },
        "outputId": "2f94b143-a656-4fad-b68f-f1c0a68ad92a"
      },
      "execution_count": 36,
      "outputs": [
        {
          "output_type": "execute_result",
          "data": {
            "text/plain": [
              "2    1177149\n",
              "1     652651\n",
              "3      37958\n",
              "Name: Numero de embarazos, dtype: int64"
            ]
          },
          "metadata": {},
          "execution_count": 36
        }
      ]
    },
    {
      "cell_type": "code",
      "source": [
        "# Con MCF\n",
        "df[df[\"MCC-General\"] == 1][key].value_counts()"
      ],
      "metadata": {
        "colab": {
          "base_uri": "https://localhost:8080/"
        },
        "id": "3QcyaJ4olhVy",
        "outputId": "c5b81b3d-2a94-4e21-de87-5c5c71987da0"
      },
      "execution_count": 37,
      "outputs": [
        {
          "output_type": "execute_result",
          "data": {
            "text/plain": [
              "2    2530\n",
              "1    1408\n",
              "3      83\n",
              "Name: Numero de embarazos, dtype: int64"
            ]
          },
          "metadata": {},
          "execution_count": 37
        }
      ]
    },
    {
      "cell_type": "markdown",
      "source": [
        "#Hijos nacidos muertos\n",
        "- Ausente (0)\n",
        "- Presente (1)"
      ],
      "metadata": {
        "id": "Jc3Elkwih3Rb"
      }
    },
    {
      "cell_type": "code",
      "source": [
        "etiqueta = 'HIJOSNACIDOSMUERTOS'\n",
        "key = \"Hijos nacidos muertos\"\n",
        "df[key] = None\n",
        "\n",
        "df[key].mask((df[etiqueta] >= 1) & (df[etiqueta] != 99), 1, inplace=True)\n",
        "df[key].mask(df[etiqueta] == 0, 0, inplace=True)\n",
        "df[key].value_counts()"
      ],
      "metadata": {
        "id": "1h5DG6roiGX9",
        "colab": {
          "base_uri": "https://localhost:8080/"
        },
        "outputId": "a7df5931-b7cd-48ea-84c7-e42894b3a5fa"
      },
      "execution_count": 38,
      "outputs": [
        {
          "output_type": "execute_result",
          "data": {
            "text/plain": [
              "0    1566148\n",
              "1     297394\n",
              "Name: Hijos nacidos muertos, dtype: int64"
            ]
          },
          "metadata": {},
          "execution_count": 38
        }
      ]
    },
    {
      "cell_type": "code",
      "source": [
        "# Con MCF\n",
        "df[df[\"MCC-General\"] == 1][key].value_counts()"
      ],
      "metadata": {
        "colab": {
          "base_uri": "https://localhost:8080/"
        },
        "id": "IRyfudLKlioK",
        "outputId": "dc64ab68-c9ee-4375-f802-62e7d2f7cc23"
      },
      "execution_count": 39,
      "outputs": [
        {
          "output_type": "execute_result",
          "data": {
            "text/plain": [
              "0    3235\n",
              "1     779\n",
              "Name: Hijos nacidos muertos, dtype: int64"
            ]
          },
          "metadata": {},
          "execution_count": 39
        }
      ]
    },
    {
      "cell_type": "markdown",
      "source": [
        "# Madre sobrevivio parto SOBREVIVIOPARTO\n",
        "* Si 1\n",
        "* No 2\n",
        "* no aplica, se ignora, no especificado 0, 8, 9\n"
      ],
      "metadata": {
        "id": "HRvNqKCR5bkz"
      }
    },
    {
      "cell_type": "code",
      "source": [
        "etiqueta = 'SOBREVIVIOPARTO'\n",
        "no_especificado = [0, 8, 9]\n",
        "\n",
        "key = \"Madre sobrevivio al parto\"\n",
        "df[key] = None\n",
        "\n",
        "df[key].mask(df[etiqueta] == 2, 0, inplace=True)\n",
        "df[key].mask(df[etiqueta] == 1, 1, inplace=True)\n",
        "df[key].mask(df[etiqueta].isin(no_especificado), 2, inplace=True)\n",
        "df[key].value_counts()"
      ],
      "metadata": {
        "id": "dkEH5qsYGBLK",
        "colab": {
          "base_uri": "https://localhost:8080/"
        },
        "outputId": "e8548bfa-0673-4ff5-cadc-83905cabe3a4"
      },
      "execution_count": 40,
      "outputs": [
        {
          "output_type": "execute_result",
          "data": {
            "text/plain": [
              "1    1867085\n",
              "2       1015\n",
              "0        114\n",
              "Name: Madre sobrevivio al parto, dtype: int64"
            ]
          },
          "metadata": {},
          "execution_count": 40
        }
      ]
    },
    {
      "cell_type": "code",
      "source": [
        "# Con MCF\n",
        "df[df[\"MCC-General\"] == 1][key].value_counts()"
      ],
      "metadata": {
        "colab": {
          "base_uri": "https://localhost:8080/"
        },
        "id": "n-9GpH39ljRI",
        "outputId": "3db06a81-23c0-484a-b43c-bea478fd3ccc"
      },
      "execution_count": 41,
      "outputs": [
        {
          "output_type": "execute_result",
          "data": {
            "text/plain": [
              "1    4020\n",
              "2       1\n",
              "0       1\n",
              "Name: Madre sobrevivio al parto, dtype: int64"
            ]
          },
          "metadata": {},
          "execution_count": 41
        }
      ]
    },
    {
      "cell_type": "markdown",
      "source": [
        "#Madre recibio atencion prenatal\n",
        "* Si 1\n",
        "* No 2\n",
        "* no aplica, se ignora, no especificado 0, 8, 9"
      ],
      "metadata": {
        "id": "m4fTrHjgh78O"
      }
    },
    {
      "cell_type": "code",
      "source": [
        "etiqueta = 'ATENCIONPRENATAL'\n",
        "no_especificado = [0, 8, 9]\n",
        "key = \"Madre recibio atencion prenatal\"\n",
        "df[key] = None\n",
        "\n",
        "df[key].mask(df[etiqueta] == 1, 1, inplace=True)\n",
        "df[key].mask(df[etiqueta] == 2, 0, inplace=True)\n",
        "df[key].value_counts()\n"
      ],
      "metadata": {
        "id": "PS2sOsXiw4aV",
        "colab": {
          "base_uri": "https://localhost:8080/"
        },
        "outputId": "99c81413-f785-44fe-c89d-68eb0b2c041f"
      },
      "execution_count": 42,
      "outputs": [
        {
          "output_type": "execute_result",
          "data": {
            "text/plain": [
              "1    1818842\n",
              "0      44526\n",
              "Name: Madre recibio atencion prenatal, dtype: int64"
            ]
          },
          "metadata": {},
          "execution_count": 42
        }
      ]
    },
    {
      "cell_type": "code",
      "source": [
        "# Con MCF\n",
        "df[df[\"MCC-General\"] == 1][key].value_counts()"
      ],
      "metadata": {
        "colab": {
          "base_uri": "https://localhost:8080/"
        },
        "id": "ayCsaBLllkKN",
        "outputId": "8eb2b668-bf71-4c91-a34b-9413462db646"
      },
      "execution_count": 43,
      "outputs": [
        {
          "output_type": "execute_result",
          "data": {
            "text/plain": [
              "1    3924\n",
              "0      85\n",
              "Name: Madre recibio atencion prenatal, dtype: int64"
            ]
          },
          "metadata": {},
          "execution_count": 43
        }
      ]
    },
    {
      "cell_type": "markdown",
      "source": [
        "#Trimestre de primer consulta\n",
        "Trimestre 1\n",
        "Trimestre 2\n",
        "Trimestre 3"
      ],
      "metadata": {
        "id": "nZzoZX2NiAaM"
      }
    },
    {
      "cell_type": "code",
      "source": [
        "etiqueta = 'TRIMESTREPRIMERCONSULTA'\n",
        "key = \"Trimestre de la primera consulta\"\n",
        "df[key] = None\n",
        "\n",
        "df[key].mask(df[etiqueta] == 1, 1, inplace=True)\n",
        "df[key].mask(df[etiqueta] == 2, 2, inplace=True)\n",
        "df[key].mask(df[etiqueta] == 3, 3, inplace=True)\n",
        "df[key].value_counts()"
      ],
      "metadata": {
        "id": "9SE2H-FixTEw",
        "colab": {
          "base_uri": "https://localhost:8080/"
        },
        "outputId": "35c0d041-7fcb-45d9-89d3-3bcdb65ade93"
      },
      "execution_count": 44,
      "outputs": [
        {
          "output_type": "execute_result",
          "data": {
            "text/plain": [
              "1    1422871\n",
              "2     323356\n",
              "3      56843\n",
              "Name: Trimestre de la primera consulta, dtype: int64"
            ]
          },
          "metadata": {},
          "execution_count": 44
        }
      ]
    },
    {
      "cell_type": "code",
      "source": [
        "# Con MCF\n",
        "df[df[\"MCC-General\"] == 1][key].value_counts()"
      ],
      "metadata": {
        "colab": {
          "base_uri": "https://localhost:8080/"
        },
        "id": "625Hfe0HlktV",
        "outputId": "9e9fa4bc-118e-4275-f17c-2655cedb6dd3"
      },
      "execution_count": 45,
      "outputs": [
        {
          "output_type": "execute_result",
          "data": {
            "text/plain": [
              "1    3053\n",
              "2     720\n",
              "3     117\n",
              "Name: Trimestre de la primera consulta, dtype: int64"
            ]
          },
          "metadata": {},
          "execution_count": 45
        }
      ]
    },
    {
      "cell_type": "markdown",
      "source": [
        "# Total de consulta durante el embarazo\n",
        "Suficiente (5 o mas citas)\n",
        "Insuficiente (1-4 citas)\n",
        "No recibió (0 citas)"
      ],
      "metadata": {
        "id": "Va7KRG1BiMKK"
      }
    },
    {
      "cell_type": "code",
      "source": [
        "etiqueta = 'TOTALCONSULTAS'\n",
        "key = \"Total numero de consultas embarazo\"\n",
        "df[key] = None\n",
        "\n",
        "df[key].mask(df[etiqueta] == 0, 0, inplace=True)\n",
        "df[key].mask((df[etiqueta] >= 1) & (df[etiqueta] < 5), 1, inplace=True)\n",
        "df[key].mask((df[etiqueta] >= 5) & (df[etiqueta] != 99), 2, inplace=True)\n",
        "df[key].value_counts()"
      ],
      "metadata": {
        "id": "8Mw7jhQBxwXe",
        "colab": {
          "base_uri": "https://localhost:8080/"
        },
        "outputId": "7db7095f-85e0-432b-ba35-65daee39c504"
      },
      "execution_count": 46,
      "outputs": [
        {
          "output_type": "execute_result",
          "data": {
            "text/plain": [
              "2    1561162\n",
              "1     233607\n",
              "0      44566\n",
              "Name: Total numero de consultas embarazo, dtype: int64"
            ]
          },
          "metadata": {},
          "execution_count": 46
        }
      ]
    },
    {
      "cell_type": "code",
      "source": [
        "# Con MCF\n",
        "df[df[\"MCC-General\"] == 1][key].value_counts()"
      ],
      "metadata": {
        "colab": {
          "base_uri": "https://localhost:8080/"
        },
        "id": "avL8dBVqllPJ",
        "outputId": "3325c2d9-97d4-4297-823e-03eca61a908d"
      },
      "execution_count": 47,
      "outputs": [
        {
          "output_type": "execute_result",
          "data": {
            "text/plain": [
              "2    3413\n",
              "1     472\n",
              "0      86\n",
              "Name: Total numero de consultas embarazo, dtype: int64"
            ]
          },
          "metadata": {},
          "execution_count": 47
        }
      ]
    },
    {
      "cell_type": "markdown",
      "source": [
        "#Escolaridad materna\n",
        "Ninguno (0, 1, 32, 88, 99)\n",
        "Primaria completa (31, 52, 112)\n",
        "Secundaria completa (51, 72)\n",
        "Bachillerato o preparatoria completa (71, 82)\n",
        "Licenciatura completa (81, 102)\n",
        "Posgrado (101)\n",
        "Tecnico terminal (111, 131, 132)\n"
      ],
      "metadata": {
        "id": "7Qiqa1FSjCmR"
      }
    },
    {
      "cell_type": "code",
      "source": [
        "etiqueta = 'ESCOLARIDAD'\n",
        "ninguno = [1]\n",
        "primaria = [2, 3, 4]\n",
        "secundaria = [6, 5]\n",
        "bachiller = [7, 11]\n",
        "licenciatura = [8, 12]\n",
        "posgrado = [10]\n",
        "tecnico = [] # no hay tecnico\n",
        "no_esp = [0, 88, 99]\n",
        "key = \"Escolaridad materna\"\n",
        "df[key] = None\n",
        "df[key].mask(df[etiqueta].isin(ninguno), 0, inplace=True)\n",
        "df[key].mask(df[etiqueta].isin(primaria), 1, inplace=True)\n",
        "df[key].mask(df[etiqueta].isin(secundaria), 2, inplace=True)\n",
        "df[key].mask(df[etiqueta].isin(bachiller), 3, inplace=True)\n",
        "df[key].mask(df[etiqueta].isin(licenciatura), 4, inplace=True)\n",
        "df[key].mask(df[etiqueta].isin(posgrado), 5, inplace=True)\n",
        "df[key].mask(df[etiqueta].isin(no_esp), 7, inplace=True)\n",
        "df[key].value_counts()"
      ],
      "metadata": {
        "id": "P9NE5d9Ryjra",
        "colab": {
          "base_uri": "https://localhost:8080/"
        },
        "outputId": "f122a4a0-065c-44e4-d1af-897f897f7514"
      },
      "execution_count": 48,
      "outputs": [
        {
          "output_type": "execute_result",
          "data": {
            "text/plain": [
              "2    721787\n",
              "3    507078\n",
              "1    299934\n",
              "4    269515\n",
              "0     27560\n",
              "7     21995\n",
              "5     20345\n",
              "Name: Escolaridad materna, dtype: int64"
            ]
          },
          "metadata": {},
          "execution_count": 48
        }
      ]
    },
    {
      "cell_type": "code",
      "source": [
        "# Con MCF\n",
        "df[df[\"MCC-General\"] == 1][key].value_counts()"
      ],
      "metadata": {
        "colab": {
          "base_uri": "https://localhost:8080/"
        },
        "id": "XKfbkOYfll4_",
        "outputId": "1fe6b1b0-9bfc-4f49-e392-1ff81966b335"
      },
      "execution_count": 49,
      "outputs": [
        {
          "output_type": "execute_result",
          "data": {
            "text/plain": [
              "2    1554\n",
              "3    1103\n",
              "4     624\n",
              "1     613\n",
              "0      52\n",
              "7      44\n",
              "5      32\n",
              "Name: Escolaridad materna, dtype: int64"
            ]
          },
          "metadata": {},
          "execution_count": 49
        }
      ]
    },
    {
      "cell_type": "markdown",
      "source": [
        "# Entidad federativa de parto ENTIDADFEDERATIVAPARTO\n",
        "df.agg(['count', 'size', 'nunique'])\n"
      ],
      "metadata": {
        "id": "A8W_dAXfqMfH"
      }
    },
    {
      "cell_type": "code",
      "source": [
        "key='ENTIDADFEDERATIVAPARTO'\n",
        "df[key].mask(df[key] == 99, None, inplace=True)\n",
        "df[key].value_counts()"
      ],
      "metadata": {
        "id": "cP4WX7HPr2s0",
        "colab": {
          "base_uri": "https://localhost:8080/"
        },
        "outputId": "841f1d13-70c0-468b-bbde-2d1a379a2fc0"
      },
      "execution_count": 50,
      "outputs": [
        {
          "output_type": "execute_result",
          "data": {
            "text/plain": [
              "15.0    185526\n",
              "9.0     136248\n",
              "30.0    130044\n",
              "14.0    122864\n",
              "21.0    119983\n",
              "11.0    102431\n",
              "7.0      96787\n",
              "16.0     89021\n",
              "20.0     79264\n",
              "12.0     74203\n",
              "19.0     65139\n",
              "24.0     51368\n",
              "5.0      50686\n",
              "25.0     49008\n",
              "8.0      48200\n",
              "28.0     47171\n",
              "27.0     43587\n",
              "13.0     42749\n",
              "26.0     38267\n",
              "10.0     32978\n",
              "31.0     32254\n",
              "22.0     29995\n",
              "32.0     29142\n",
              "2.0      29028\n",
              "17.0     23441\n",
              "1.0      23015\n",
              "29.0     20314\n",
              "18.0     17379\n",
              "4.0      13354\n",
              "23.0     12916\n",
              "6.0       9053\n",
              "3.0       6353\n",
              "34.0      4768\n",
              "35.0      2743\n",
              "33.0      1395\n",
              "Name: ENTIDADFEDERATIVAPARTO, dtype: int64"
            ]
          },
          "metadata": {},
          "execution_count": 50
        }
      ]
    },
    {
      "cell_type": "code",
      "source": [
        "# Con MCF\n",
        "df[df[\"MCC-General\"] == 1][key].value_counts()"
      ],
      "metadata": {
        "colab": {
          "base_uri": "https://localhost:8080/"
        },
        "id": "Bu7VowiWlzCy",
        "outputId": "8b4a7a4c-707f-43fc-8170-da3141b1478b"
      },
      "execution_count": 51,
      "outputs": [
        {
          "output_type": "execute_result",
          "data": {
            "text/plain": [
              "15.0    449\n",
              "9.0     386\n",
              "14.0    338\n",
              "30.0    282\n",
              "21.0    273\n",
              "11.0    199\n",
              "16.0    182\n",
              "20.0    172\n",
              "22.0    141\n",
              "13.0    125\n",
              "8.0     120\n",
              "1.0     120\n",
              "12.0    120\n",
              "7.0     119\n",
              "5.0     114\n",
              "28.0     96\n",
              "24.0     87\n",
              "31.0     78\n",
              "27.0     74\n",
              "17.0     60\n",
              "32.0     60\n",
              "25.0     54\n",
              "29.0     51\n",
              "26.0     49\n",
              "10.0     48\n",
              "19.0     44\n",
              "4.0      31\n",
              "18.0     30\n",
              "2.0      29\n",
              "6.0      27\n",
              "3.0      19\n",
              "23.0     19\n",
              "34.0      6\n",
              "33.0      4\n",
              "35.0      2\n",
              "Name: ENTIDADFEDERATIVAPARTO, dtype: int64"
            ]
          },
          "metadata": {},
          "execution_count": 51
        }
      ]
    },
    {
      "cell_type": "markdown",
      "source": [
        "# Sexo del recien nacido SEXO\n",
        "* Hombre 1\n",
        "* mujer 2\n",
        "* no especificado 0,9"
      ],
      "metadata": {
        "id": "4tMxn-Thwq8J"
      }
    },
    {
      "cell_type": "code",
      "source": [
        "etiqueta = 'SEXO'\n",
        "key = \"Escolaridad materna\"\n",
        "df[key] = None\n",
        "df[key].mask(df[etiqueta] == 1, 1, inplace=True)\n",
        "df[key].mask(df[etiqueta] == 2, 2, inplace=True)\n",
        "df[key].mask((df[etiqueta] == 0) | (df[etiqueta] == 9), 3, inplace=True)\n",
        "df[key].value_counts()"
      ],
      "metadata": {
        "id": "E6wVOkSX68at",
        "colab": {
          "base_uri": "https://localhost:8080/"
        },
        "outputId": "2fbec685-5e98-467d-944f-a9c2769bd57b"
      },
      "execution_count": 52,
      "outputs": [
        {
          "output_type": "execute_result",
          "data": {
            "text/plain": [
              "1    949986\n",
              "2    916817\n",
              "3      1411\n",
              "Name: Escolaridad materna, dtype: int64"
            ]
          },
          "metadata": {},
          "execution_count": 52
        }
      ]
    },
    {
      "cell_type": "code",
      "source": [
        "# Con MCF\n",
        "df[df[\"MCC-General\"] == 1][key].value_counts()"
      ],
      "metadata": {
        "colab": {
          "base_uri": "https://localhost:8080/"
        },
        "id": "urwEAA2Fl7-p",
        "outputId": "280146dc-9524-4de1-c9b6-64caa3ff3610"
      },
      "execution_count": 53,
      "outputs": [
        {
          "output_type": "execute_result",
          "data": {
            "text/plain": [
              "1    2194\n",
              "2    1820\n",
              "3       8\n",
              "Name: Escolaridad materna, dtype: int64"
            ]
          },
          "metadata": {},
          "execution_count": 53
        }
      ]
    },
    {
      "cell_type": "markdown",
      "source": [
        "# Edad gestacional EDADGESTACIONAL\n",
        "* pretermino =<36 semanas\n",
        "* termino 37-41 semanas\n",
        "* postermino =>42 semanas"
      ],
      "metadata": {
        "id": "2Wr4TGM9xfy0"
      }
    },
    {
      "cell_type": "code",
      "source": [
        "etiqueta = 'EDADGESTACIONAL'\n",
        "key = \"Edad gestacional\"\n",
        "df[key] = None\n",
        "df[key].mask(df[etiqueta] <= 36, 1, inplace=True)\n",
        "df[key].mask((df[etiqueta] > 36) & (df[etiqueta] < 42), 2, inplace=True)\n",
        "df[key].mask((df[etiqueta] >= 42) & (df[etiqueta] != 99), 3, inplace=True)\n",
        "df[key].value_counts()"
      ],
      "metadata": {
        "id": "1_brL3vk7E_W",
        "colab": {
          "base_uri": "https://localhost:8080/"
        },
        "outputId": "b10ce395-2558-43de-9113-da385d72db6b"
      },
      "execution_count": 54,
      "outputs": [
        {
          "output_type": "execute_result",
          "data": {
            "text/plain": [
              "2    1710376\n",
              "1     139826\n",
              "3      15210\n",
              "Name: Edad gestacional, dtype: int64"
            ]
          },
          "metadata": {},
          "execution_count": 54
        }
      ]
    },
    {
      "cell_type": "code",
      "source": [
        "# Con MCF\n",
        "df[df[\"MCC-General\"] == 1][key].value_counts()"
      ],
      "metadata": {
        "colab": {
          "base_uri": "https://localhost:8080/"
        },
        "id": "GsWYbMMzl9P7",
        "outputId": "50a86ccf-7205-460e-b82f-3c9a66a71ef4"
      },
      "execution_count": 55,
      "outputs": [
        {
          "output_type": "execute_result",
          "data": {
            "text/plain": [
              "2    3454\n",
              "1     508\n",
              "3      56\n",
              "Name: Edad gestacional, dtype: int64"
            ]
          },
          "metadata": {},
          "execution_count": 55
        }
      ]
    },
    {
      "cell_type": "markdown",
      "source": [
        "# Peso del recien nacido PESO\n",
        "* bajo peso =<2499gr\n",
        "* normopeso 2500-3999gr\n",
        "* macrosomico =>4000 gr"
      ],
      "metadata": {
        "id": "xwau8qdvyuOm"
      }
    },
    {
      "cell_type": "code",
      "source": [
        "etiqueta = 'PESO'\n",
        "key = \"Peso del nacido vivo\"\n",
        "df[key] = None\n",
        "df[key].mask(df[etiqueta] < 2500, 1, inplace=True)\n",
        "df[key].mask((df[etiqueta] >= 2500) & (df[etiqueta] < 4000), 2, inplace=True)\n",
        "df[key].mask((df[etiqueta] >= 4000) & (df[etiqueta] != 9999), 3, inplace=True)\n",
        "df[key].value_counts()"
      ],
      "metadata": {
        "id": "cOUHFGiF7v4d",
        "colab": {
          "base_uri": "https://localhost:8080/"
        },
        "outputId": "191ef965-61ea-418d-ff87-c08b2d334f1d"
      },
      "execution_count": 56,
      "outputs": [
        {
          "output_type": "execute_result",
          "data": {
            "text/plain": [
              "2    1602398\n",
              "1     118438\n",
              "3      46923\n",
              "Name: Peso del nacido vivo, dtype: int64"
            ]
          },
          "metadata": {},
          "execution_count": 56
        }
      ]
    },
    {
      "cell_type": "code",
      "source": [
        "# Con MCF\n",
        "df[df[\"MCC-General\"] == 1][key].value_counts()"
      ],
      "metadata": {
        "colab": {
          "base_uri": "https://localhost:8080/"
        },
        "id": "UdMHTJtpl-Da",
        "outputId": "2bb944c1-8726-4f6d-a91d-30bd24514d61"
      },
      "execution_count": 57,
      "outputs": [
        {
          "output_type": "execute_result",
          "data": {
            "text/plain": [
              "2    3157\n",
              "1     415\n",
              "3     102\n",
              "Name: Peso del nacido vivo, dtype: int64"
            ]
          },
          "metadata": {},
          "execution_count": 57
        }
      ]
    },
    {
      "cell_type": "markdown",
      "source": [
        "# Puntaje escala APGAR a los 5 minutos de recien nacido con MCF APGAR\n",
        "* Normal 7-10 puntos\n",
        "* Depresion moderada 4-6 puntos\n",
        "* Depresion severa 0-3 puntos"
      ],
      "metadata": {
        "id": "lHQAqlNDzzNx"
      }
    },
    {
      "cell_type": "code",
      "source": [
        "etiqueta = 'APGAR'\n",
        "key = \"Puntaje apgar\"\n",
        "df[key] = None\n",
        "df[key].mask((df[etiqueta] >= 7) & (df[etiqueta] <= 10), 1, inplace=True)\n",
        "df[key].mask((df[etiqueta] >= 4) & (df[etiqueta] <= 6), 2, inplace=True)\n",
        "df[key].mask((df[etiqueta] >= 0) & (df[etiqueta] <= 3), 3, inplace=True)\n",
        "df[key].mask((df[etiqueta] == 99), 4, inplace=True)\n",
        "df[key].value_counts()"
      ],
      "metadata": {
        "id": "7AVDt77-77gS",
        "colab": {
          "base_uri": "https://localhost:8080/"
        },
        "outputId": "76651a48-98b0-4c32-b539-e614c247a7f2"
      },
      "execution_count": 58,
      "outputs": [
        {
          "output_type": "execute_result",
          "data": {
            "text/plain": [
              "1    1832655\n",
              "4      15120\n",
              "3      12141\n",
              "2       8298\n",
              "Name: Puntaje apgar, dtype: int64"
            ]
          },
          "metadata": {},
          "execution_count": 58
        }
      ]
    },
    {
      "cell_type": "code",
      "source": [
        "# Con MCF\n",
        "df[df[\"MCC-General\"] == 1][key].value_counts()"
      ],
      "metadata": {
        "colab": {
          "base_uri": "https://localhost:8080/"
        },
        "id": "TnsrjT6zl-pZ",
        "outputId": "023a99b8-7600-4b7c-c9d6-ba84a8239714"
      },
      "execution_count": 59,
      "outputs": [
        {
          "output_type": "execute_result",
          "data": {
            "text/plain": [
              "1    3916\n",
              "2      52\n",
              "3      40\n",
              "4      14\n",
              "Name: Puntaje apgar, dtype: int64"
            ]
          },
          "metadata": {},
          "execution_count": 59
        }
      ]
    },
    {
      "cell_type": "markdown",
      "source": [
        "# Puntaje escala Silverman Anderson en recien nacidos con MCF SILVERMAN\n",
        "* sin dificultad respiratoria\n",
        "* dificultad respiratoria leve 1-3 puntos\n",
        "* dificultad respiratoria moderada 4-6 puntos\n",
        "* dificultad respiratoria severa 7-10 puntos"
      ],
      "metadata": {
        "id": "ZOcCSIww0j-W"
      }
    },
    {
      "cell_type": "code",
      "source": [
        "etiqueta = 'SILVERMAN'\n",
        "key = \"Puntaje silverman\"\n",
        "df[key] = None\n",
        "df[key].mask(df[etiqueta] == 0, 0, inplace=True)\n",
        "df[key].mask((df[etiqueta] >= 1) & (df[etiqueta] <= 3), 1, inplace=True)\n",
        "df[key].mask((df[etiqueta] >= 4) & (df[etiqueta] <= 6), 2, inplace=True)\n",
        "df[key].mask((df[etiqueta] >= 7) & (df[etiqueta] <= 10), 3, inplace=True)\n",
        "df[key].mask((df[etiqueta] == 99), 4, inplace=True)\n",
        "df[key].value_counts()"
      ],
      "metadata": {
        "id": "LN-RMnxe8bAa",
        "colab": {
          "base_uri": "https://localhost:8080/"
        },
        "outputId": "3ffd4b67-4334-49f9-eeea-07f2b67b912c"
      },
      "execution_count": 60,
      "outputs": [
        {
          "output_type": "execute_result",
          "data": {
            "text/plain": [
              "0    1661679\n",
              "1     160342\n",
              "4      20326\n",
              "3      16944\n",
              "2       8923\n",
              "Name: Puntaje silverman, dtype: int64"
            ]
          },
          "metadata": {},
          "execution_count": 60
        }
      ]
    },
    {
      "cell_type": "code",
      "source": [
        "# Con MCF\n",
        "df[df[\"MCC-General\"] == 1][key].value_counts()"
      ],
      "metadata": {
        "colab": {
          "base_uri": "https://localhost:8080/"
        },
        "id": "voxGjjw2mAb_",
        "outputId": "229b554d-0801-4565-febd-1dd4406213e4"
      },
      "execution_count": 61,
      "outputs": [
        {
          "output_type": "execute_result",
          "data": {
            "text/plain": [
              "0    3279\n",
              "1     643\n",
              "2      41\n",
              "3      30\n",
              "4      29\n",
              "Name: Puntaje silverman, dtype: int64"
            ]
          },
          "metadata": {},
          "execution_count": 61
        }
      ]
    },
    {
      "cell_type": "markdown",
      "source": [
        "# Procedimiento utilizado para resolucion del embarazo RESOLUCIONEMBARAZO\n",
        "\n",
        "* eutocico 1 - (1)\n",
        "* distocico 4 - (2)\n",
        "* cesarea 2 (3)\n",
        "* otro 3, 8 (4)\n",
        "* no especificado 9 (5)"
      ],
      "metadata": {
        "id": "vAjVNQj-2PBb"
      }
    },
    {
      "cell_type": "code",
      "source": [
        "etiqueta = 'RESOLUCIONEMBARAZO'\n",
        "key = \"Procedimiento para resolucion\"\n",
        "otro = [3, 8]\n",
        "df[key] = None\n",
        "df[key].mask(df[etiqueta] == 1, 1, inplace=True)\n",
        "df[key].mask(df[etiqueta] == 2, 2, inplace=True)\n",
        "df[key].mask(df[etiqueta] == 3, 3, inplace=True)\n",
        "df[key].mask(df[etiqueta].isin(otro), 4, inplace=True)\n",
        "df[key].mask(df[etiqueta] == 9, 5, inplace=True)\n",
        "\n",
        "df[key].value_counts()"
      ],
      "metadata": {
        "id": "J6OdfDbk_tfN",
        "colab": {
          "base_uri": "https://localhost:8080/"
        },
        "outputId": "0650cf17-fec8-4762-be5a-d832ba624218"
      },
      "execution_count": 62,
      "outputs": [
        {
          "output_type": "execute_result",
          "data": {
            "text/plain": [
              "1    951193\n",
              "2    890428\n",
              "4      4120\n",
              "5      2836\n",
              "Name: Procedimiento para resolucion, dtype: int64"
            ]
          },
          "metadata": {},
          "execution_count": 62
        }
      ]
    },
    {
      "cell_type": "code",
      "source": [
        "# Con MCF\n",
        "df[df[\"MCC-General\"] == 1][key].value_counts()"
      ],
      "metadata": {
        "colab": {
          "base_uri": "https://localhost:8080/"
        },
        "id": "Y5wJKzmPmH7N",
        "outputId": "012819cc-1434-4735-ed74-dbc06159333e"
      },
      "execution_count": 63,
      "outputs": [
        {
          "output_type": "execute_result",
          "data": {
            "text/plain": [
              "2    2151\n",
              "1    1803\n",
              "5      11\n",
              "4       4\n",
              "Name: Procedimiento para resolucion, dtype: int64"
            ]
          },
          "metadata": {},
          "execution_count": 63
        }
      ]
    },
    {
      "cell_type": "markdown",
      "source": [
        "# FECHANACIMIENTO\n",
        "Actualizar para solo usar el mes y el año\n",
        "\n",
        "Sería\n",
        "- 2018 (1)\n",
        "- 2019 (2)\n",
        "- 2020 (3)\n",
        "- 2021 (4)\n",
        "- 2022 (5)"
      ],
      "metadata": {
        "id": "4K1Qzsfr7gzY"
      }
    },
    {
      "cell_type": "code",
      "source": [
        "etiqueta = 'FECHANACIMIENTO'\n",
        "df[etiqueta]"
      ],
      "metadata": {
        "colab": {
          "base_uri": "https://localhost:8080/"
        },
        "id": "3e6O-Z1B7gVE",
        "outputId": "cf97bcb7-dceb-41ec-b4da-b4e723c7badb"
      },
      "execution_count": 64,
      "outputs": [
        {
          "output_type": "execute_result",
          "data": {
            "text/plain": [
              "0          06/01/2019\n",
              "1          06/01/2019\n",
              "2          06/01/2019\n",
              "3          06/01/2019\n",
              "4          09/01/2019\n",
              "              ...    \n",
              "1868209    23/05/2019\n",
              "1868210    24/05/2019\n",
              "1868211    24/05/2019\n",
              "1868212    25/05/2019\n",
              "1868213    25/05/2019\n",
              "Name: FECHANACIMIENTO, Length: 1868214, dtype: object"
            ]
          },
          "metadata": {},
          "execution_count": 64
        }
      ]
    },
    {
      "cell_type": "code",
      "source": [
        "etiqueta = 'fecha nacimiento'\n",
        "df[etiqueta] = pd.to_datetime(df['FECHANACIMIENTO'], format='%d/%m/%Y').dt.strftime('%m/%Y')\n",
        "key = 'Year'\n",
        "format = '01/01/' + year\n",
        "df[key] = None\n",
        "df[key].mask(df[etiqueta] >= format, year_key[year], inplace=True)\n",
        "df[key].value_counts()"
      ],
      "metadata": {
        "colab": {
          "base_uri": "https://localhost:8080/"
        },
        "id": "yLwR5rSw8HK_",
        "outputId": "a8a3996a-4911-4d92-bca1-5cd9af45b093"
      },
      "execution_count": 65,
      "outputs": [
        {
          "output_type": "execute_result",
          "data": {
            "text/plain": [
              "2    1868214\n",
              "Name: Year, dtype: int64"
            ]
          },
          "metadata": {},
          "execution_count": 65
        }
      ]
    },
    {
      "cell_type": "code",
      "source": [
        "fileName = '/content/drive/My Drive/Colab Notebooks/miriam/' + year + '_nacimientos_clean.csv'\n",
        "df.to_csv(fileName, index=False)"
      ],
      "metadata": {
        "id": "MblUg8Ik4E75"
      },
      "execution_count": 66,
      "outputs": []
    },
    {
      "cell_type": "markdown",
      "source": [
        "# Analisis de datos"
      ],
      "metadata": {
        "id": "fAJb6NvvPBgF"
      }
    },
    {
      "cell_type": "code",
      "source": [
        "df['EDAD'].replace([999, 888], None)\n",
        "df['NUMEROEMBARAZOS'].replace([99], None)\n",
        "df['HIJOSNACIDOSMUERTOS'].replace([99], None)\n",
        "df['ATENCIONPRENATAL'].replace([9], None)\n",
        "df['TRIMESTREPRIMERCONSULTA'].replace([9], None)\n",
        "df['TOTALCONSULTAS'].replace([99], None)\n",
        "df['SOBREVIVIOPARTO'].replace([9], None)\n",
        "df['ESCOLARIDAD'].replace([999], None)\n",
        "df['SEXO'].replace([99], None)\n",
        "df['EDADGESTACIONAL'].replace([99], None)\n",
        "df['TALLA'].replace([99], None)\n",
        "df['PESO'].replace([9999], None)\n",
        "df['TALLA'].replace([9], None)\n",
        "df['APGAR'].replace([99], None)\n",
        "df['SILVERMAN'].replace([99], None)"
      ],
      "metadata": {
        "colab": {
          "base_uri": "https://localhost:8080/"
        },
        "id": "aGP9TrdjavJ1",
        "outputId": "972cf774-0327-4170-f234-12dad638c427"
      },
      "execution_count": 67,
      "outputs": [
        {
          "output_type": "execute_result",
          "data": {
            "text/plain": [
              "0          0\n",
              "1          0\n",
              "2          0\n",
              "3          0\n",
              "4          0\n",
              "          ..\n",
              "1868209    0\n",
              "1868210    0\n",
              "1868211    0\n",
              "1868212    0\n",
              "1868213    0\n",
              "Name: SILVERMAN, Length: 1868214, dtype: object"
            ]
          },
          "metadata": {},
          "execution_count": 67
        }
      ]
    },
    {
      "cell_type": "markdown",
      "source": [
        "### Pacientes con MCF"
      ],
      "metadata": {
        "id": "MkeRvlDpInnx"
      }
    },
    {
      "cell_type": "code",
      "source": [
        "label = \"MCC-General\"\n",
        "df[df[label] == 1].describe().applymap('{:,.2f}'.format)"
      ],
      "metadata": {
        "colab": {
          "base_uri": "https://localhost:8080/",
          "height": 320
        },
        "id": "JrdDLCD5PWXS",
        "outputId": "bc3306f8-850e-4a06-ab41-e22a3c2cbe28"
      },
      "execution_count": 68,
      "outputs": [
        {
          "output_type": "execute_result",
          "data": {
            "text/plain": [
              "      ENTIDADFEDERATIVAPARTO      EDAD NUMEROEMBARAZOS HIJOSNACIDOSMUERTOS  \\\n",
              "count               4,008.00  4,022.00        4,022.00            4,022.00   \n",
              "mean                   16.38     26.42            2.23                0.44   \n",
              "std                     8.03      6.59            1.98                4.44   \n",
              "min                     1.00     12.00            1.00                0.00   \n",
              "25%                    10.00     21.00            1.00                0.00   \n",
              "50%                    15.00     26.00            2.00                0.00   \n",
              "75%                    22.00     31.00            3.00                0.00   \n",
              "max                    35.00     99.00           99.00               99.00   \n",
              "\n",
              "      ATENCIONPRENATAL TRIMESTREPRIMERCONSULTA TOTALCONSULTAS SOBREVIVIOPARTO  \\\n",
              "count         4,022.00                4,022.00       4,022.00        4,022.00   \n",
              "mean              1.05                    1.31           8.91            1.00   \n",
              "std               0.48                    0.97          10.81            0.13   \n",
              "min               1.00                    0.00           0.00            1.00   \n",
              "25%               1.00                    1.00           6.00            1.00   \n",
              "50%               1.00                    1.00           8.00            1.00   \n",
              "75%               1.00                    1.00          10.00            1.00   \n",
              "max               9.00                    9.00          99.00            9.00   \n",
              "\n",
              "      ESCOLARIDAD      SEXO EDADGESTACIONAL     TALLA      PESO     APGAR  \\\n",
              "count    4,022.00  4,022.00        4,022.00  4,022.00  4,022.00  4,022.00   \n",
              "mean         6.87      1.47           38.39     49.01  3,648.51      9.07   \n",
              "std          9.44      0.60            2.93      3.71  2,020.48      5.40   \n",
              "min          1.00      1.00           20.00     11.00    450.00      0.00   \n",
              "25%          5.00      1.00           38.00     48.00  2,800.00      9.00   \n",
              "50%          6.00      1.00           39.00     50.00  3,140.00      9.00   \n",
              "75%          7.00      2.00           40.00     51.00  3,490.00      9.00   \n",
              "max         99.00      9.00           99.00     99.00  9,999.00     99.00   \n",
              "\n",
              "      SILVERMAN PRODUCTOEMBARAZO RESOLUCIONEMBARAZO       MC-1       MC-2  \\\n",
              "count  4,022.00         4,022.00           4,022.00   4,022.00   4,022.00   \n",
              "mean       1.08             1.03               1.60   4,111.10   1,140.83   \n",
              "std        8.41             0.32               0.70   4,896.25   3,162.12   \n",
              "min        0.00             0.00               1.00       0.00       0.00   \n",
              "25%        0.00             1.00               1.00      10.00       0.00   \n",
              "50%        0.00             1.00               2.00      10.00       0.00   \n",
              "75%        0.00             1.00               2.00  10,000.00       0.00   \n",
              "max       99.00             9.00               9.00  10,000.00  10,000.00   \n",
              "\n",
              "            MC-G  \n",
              "count   4,022.00  \n",
              "mean    5,251.92  \n",
              "std     6,244.04  \n",
              "min         1.00  \n",
              "25%        10.00  \n",
              "50%       100.00  \n",
              "75%    10,000.00  \n",
              "max    20,000.00  "
            ],
            "text/html": [
              "\n",
              "  <div id=\"df-53c29cc8-913c-4522-b635-a4b706530443\" class=\"colab-df-container\">\n",
              "    <div>\n",
              "<style scoped>\n",
              "    .dataframe tbody tr th:only-of-type {\n",
              "        vertical-align: middle;\n",
              "    }\n",
              "\n",
              "    .dataframe tbody tr th {\n",
              "        vertical-align: top;\n",
              "    }\n",
              "\n",
              "    .dataframe thead th {\n",
              "        text-align: right;\n",
              "    }\n",
              "</style>\n",
              "<table border=\"1\" class=\"dataframe\">\n",
              "  <thead>\n",
              "    <tr style=\"text-align: right;\">\n",
              "      <th></th>\n",
              "      <th>ENTIDADFEDERATIVAPARTO</th>\n",
              "      <th>EDAD</th>\n",
              "      <th>NUMEROEMBARAZOS</th>\n",
              "      <th>HIJOSNACIDOSMUERTOS</th>\n",
              "      <th>ATENCIONPRENATAL</th>\n",
              "      <th>TRIMESTREPRIMERCONSULTA</th>\n",
              "      <th>TOTALCONSULTAS</th>\n",
              "      <th>SOBREVIVIOPARTO</th>\n",
              "      <th>ESCOLARIDAD</th>\n",
              "      <th>SEXO</th>\n",
              "      <th>EDADGESTACIONAL</th>\n",
              "      <th>TALLA</th>\n",
              "      <th>PESO</th>\n",
              "      <th>APGAR</th>\n",
              "      <th>SILVERMAN</th>\n",
              "      <th>PRODUCTOEMBARAZO</th>\n",
              "      <th>RESOLUCIONEMBARAZO</th>\n",
              "      <th>MC-1</th>\n",
              "      <th>MC-2</th>\n",
              "      <th>MC-G</th>\n",
              "    </tr>\n",
              "  </thead>\n",
              "  <tbody>\n",
              "    <tr>\n",
              "      <th>count</th>\n",
              "      <td>4,008.00</td>\n",
              "      <td>4,022.00</td>\n",
              "      <td>4,022.00</td>\n",
              "      <td>4,022.00</td>\n",
              "      <td>4,022.00</td>\n",
              "      <td>4,022.00</td>\n",
              "      <td>4,022.00</td>\n",
              "      <td>4,022.00</td>\n",
              "      <td>4,022.00</td>\n",
              "      <td>4,022.00</td>\n",
              "      <td>4,022.00</td>\n",
              "      <td>4,022.00</td>\n",
              "      <td>4,022.00</td>\n",
              "      <td>4,022.00</td>\n",
              "      <td>4,022.00</td>\n",
              "      <td>4,022.00</td>\n",
              "      <td>4,022.00</td>\n",
              "      <td>4,022.00</td>\n",
              "      <td>4,022.00</td>\n",
              "      <td>4,022.00</td>\n",
              "    </tr>\n",
              "    <tr>\n",
              "      <th>mean</th>\n",
              "      <td>16.38</td>\n",
              "      <td>26.42</td>\n",
              "      <td>2.23</td>\n",
              "      <td>0.44</td>\n",
              "      <td>1.05</td>\n",
              "      <td>1.31</td>\n",
              "      <td>8.91</td>\n",
              "      <td>1.00</td>\n",
              "      <td>6.87</td>\n",
              "      <td>1.47</td>\n",
              "      <td>38.39</td>\n",
              "      <td>49.01</td>\n",
              "      <td>3,648.51</td>\n",
              "      <td>9.07</td>\n",
              "      <td>1.08</td>\n",
              "      <td>1.03</td>\n",
              "      <td>1.60</td>\n",
              "      <td>4,111.10</td>\n",
              "      <td>1,140.83</td>\n",
              "      <td>5,251.92</td>\n",
              "    </tr>\n",
              "    <tr>\n",
              "      <th>std</th>\n",
              "      <td>8.03</td>\n",
              "      <td>6.59</td>\n",
              "      <td>1.98</td>\n",
              "      <td>4.44</td>\n",
              "      <td>0.48</td>\n",
              "      <td>0.97</td>\n",
              "      <td>10.81</td>\n",
              "      <td>0.13</td>\n",
              "      <td>9.44</td>\n",
              "      <td>0.60</td>\n",
              "      <td>2.93</td>\n",
              "      <td>3.71</td>\n",
              "      <td>2,020.48</td>\n",
              "      <td>5.40</td>\n",
              "      <td>8.41</td>\n",
              "      <td>0.32</td>\n",
              "      <td>0.70</td>\n",
              "      <td>4,896.25</td>\n",
              "      <td>3,162.12</td>\n",
              "      <td>6,244.04</td>\n",
              "    </tr>\n",
              "    <tr>\n",
              "      <th>min</th>\n",
              "      <td>1.00</td>\n",
              "      <td>12.00</td>\n",
              "      <td>1.00</td>\n",
              "      <td>0.00</td>\n",
              "      <td>1.00</td>\n",
              "      <td>0.00</td>\n",
              "      <td>0.00</td>\n",
              "      <td>1.00</td>\n",
              "      <td>1.00</td>\n",
              "      <td>1.00</td>\n",
              "      <td>20.00</td>\n",
              "      <td>11.00</td>\n",
              "      <td>450.00</td>\n",
              "      <td>0.00</td>\n",
              "      <td>0.00</td>\n",
              "      <td>0.00</td>\n",
              "      <td>1.00</td>\n",
              "      <td>0.00</td>\n",
              "      <td>0.00</td>\n",
              "      <td>1.00</td>\n",
              "    </tr>\n",
              "    <tr>\n",
              "      <th>25%</th>\n",
              "      <td>10.00</td>\n",
              "      <td>21.00</td>\n",
              "      <td>1.00</td>\n",
              "      <td>0.00</td>\n",
              "      <td>1.00</td>\n",
              "      <td>1.00</td>\n",
              "      <td>6.00</td>\n",
              "      <td>1.00</td>\n",
              "      <td>5.00</td>\n",
              "      <td>1.00</td>\n",
              "      <td>38.00</td>\n",
              "      <td>48.00</td>\n",
              "      <td>2,800.00</td>\n",
              "      <td>9.00</td>\n",
              "      <td>0.00</td>\n",
              "      <td>1.00</td>\n",
              "      <td>1.00</td>\n",
              "      <td>10.00</td>\n",
              "      <td>0.00</td>\n",
              "      <td>10.00</td>\n",
              "    </tr>\n",
              "    <tr>\n",
              "      <th>50%</th>\n",
              "      <td>15.00</td>\n",
              "      <td>26.00</td>\n",
              "      <td>2.00</td>\n",
              "      <td>0.00</td>\n",
              "      <td>1.00</td>\n",
              "      <td>1.00</td>\n",
              "      <td>8.00</td>\n",
              "      <td>1.00</td>\n",
              "      <td>6.00</td>\n",
              "      <td>1.00</td>\n",
              "      <td>39.00</td>\n",
              "      <td>50.00</td>\n",
              "      <td>3,140.00</td>\n",
              "      <td>9.00</td>\n",
              "      <td>0.00</td>\n",
              "      <td>1.00</td>\n",
              "      <td>2.00</td>\n",
              "      <td>10.00</td>\n",
              "      <td>0.00</td>\n",
              "      <td>100.00</td>\n",
              "    </tr>\n",
              "    <tr>\n",
              "      <th>75%</th>\n",
              "      <td>22.00</td>\n",
              "      <td>31.00</td>\n",
              "      <td>3.00</td>\n",
              "      <td>0.00</td>\n",
              "      <td>1.00</td>\n",
              "      <td>1.00</td>\n",
              "      <td>10.00</td>\n",
              "      <td>1.00</td>\n",
              "      <td>7.00</td>\n",
              "      <td>2.00</td>\n",
              "      <td>40.00</td>\n",
              "      <td>51.00</td>\n",
              "      <td>3,490.00</td>\n",
              "      <td>9.00</td>\n",
              "      <td>0.00</td>\n",
              "      <td>1.00</td>\n",
              "      <td>2.00</td>\n",
              "      <td>10,000.00</td>\n",
              "      <td>0.00</td>\n",
              "      <td>10,000.00</td>\n",
              "    </tr>\n",
              "    <tr>\n",
              "      <th>max</th>\n",
              "      <td>35.00</td>\n",
              "      <td>99.00</td>\n",
              "      <td>99.00</td>\n",
              "      <td>99.00</td>\n",
              "      <td>9.00</td>\n",
              "      <td>9.00</td>\n",
              "      <td>99.00</td>\n",
              "      <td>9.00</td>\n",
              "      <td>99.00</td>\n",
              "      <td>9.00</td>\n",
              "      <td>99.00</td>\n",
              "      <td>99.00</td>\n",
              "      <td>9,999.00</td>\n",
              "      <td>99.00</td>\n",
              "      <td>99.00</td>\n",
              "      <td>9.00</td>\n",
              "      <td>9.00</td>\n",
              "      <td>10,000.00</td>\n",
              "      <td>10,000.00</td>\n",
              "      <td>20,000.00</td>\n",
              "    </tr>\n",
              "  </tbody>\n",
              "</table>\n",
              "</div>\n",
              "    <div class=\"colab-df-buttons\">\n",
              "\n",
              "  <div class=\"colab-df-container\">\n",
              "    <button class=\"colab-df-convert\" onclick=\"convertToInteractive('df-53c29cc8-913c-4522-b635-a4b706530443')\"\n",
              "            title=\"Convert this dataframe to an interactive table.\"\n",
              "            style=\"display:none;\">\n",
              "\n",
              "  <svg xmlns=\"http://www.w3.org/2000/svg\" height=\"24px\" viewBox=\"0 -960 960 960\">\n",
              "    <path d=\"M120-120v-720h720v720H120Zm60-500h600v-160H180v160Zm220 220h160v-160H400v160Zm0 220h160v-160H400v160ZM180-400h160v-160H180v160Zm440 0h160v-160H620v160ZM180-180h160v-160H180v160Zm440 0h160v-160H620v160Z\"/>\n",
              "  </svg>\n",
              "    </button>\n",
              "\n",
              "  <style>\n",
              "    .colab-df-container {\n",
              "      display:flex;\n",
              "      gap: 12px;\n",
              "    }\n",
              "\n",
              "    .colab-df-convert {\n",
              "      background-color: #E8F0FE;\n",
              "      border: none;\n",
              "      border-radius: 50%;\n",
              "      cursor: pointer;\n",
              "      display: none;\n",
              "      fill: #1967D2;\n",
              "      height: 32px;\n",
              "      padding: 0 0 0 0;\n",
              "      width: 32px;\n",
              "    }\n",
              "\n",
              "    .colab-df-convert:hover {\n",
              "      background-color: #E2EBFA;\n",
              "      box-shadow: 0px 1px 2px rgba(60, 64, 67, 0.3), 0px 1px 3px 1px rgba(60, 64, 67, 0.15);\n",
              "      fill: #174EA6;\n",
              "    }\n",
              "\n",
              "    .colab-df-buttons div {\n",
              "      margin-bottom: 4px;\n",
              "    }\n",
              "\n",
              "    [theme=dark] .colab-df-convert {\n",
              "      background-color: #3B4455;\n",
              "      fill: #D2E3FC;\n",
              "    }\n",
              "\n",
              "    [theme=dark] .colab-df-convert:hover {\n",
              "      background-color: #434B5C;\n",
              "      box-shadow: 0px 1px 3px 1px rgba(0, 0, 0, 0.15);\n",
              "      filter: drop-shadow(0px 1px 2px rgba(0, 0, 0, 0.3));\n",
              "      fill: #FFFFFF;\n",
              "    }\n",
              "  </style>\n",
              "\n",
              "    <script>\n",
              "      const buttonEl =\n",
              "        document.querySelector('#df-53c29cc8-913c-4522-b635-a4b706530443 button.colab-df-convert');\n",
              "      buttonEl.style.display =\n",
              "        google.colab.kernel.accessAllowed ? 'block' : 'none';\n",
              "\n",
              "      async function convertToInteractive(key) {\n",
              "        const element = document.querySelector('#df-53c29cc8-913c-4522-b635-a4b706530443');\n",
              "        const dataTable =\n",
              "          await google.colab.kernel.invokeFunction('convertToInteractive',\n",
              "                                                    [key], {});\n",
              "        if (!dataTable) return;\n",
              "\n",
              "        const docLinkHtml = 'Like what you see? Visit the ' +\n",
              "          '<a target=\"_blank\" href=https://colab.research.google.com/notebooks/data_table.ipynb>data table notebook</a>'\n",
              "          + ' to learn more about interactive tables.';\n",
              "        element.innerHTML = '';\n",
              "        dataTable['output_type'] = 'display_data';\n",
              "        await google.colab.output.renderOutput(dataTable, element);\n",
              "        const docLink = document.createElement('div');\n",
              "        docLink.innerHTML = docLinkHtml;\n",
              "        element.appendChild(docLink);\n",
              "      }\n",
              "    </script>\n",
              "  </div>\n",
              "\n",
              "\n",
              "<div id=\"df-108957bc-548d-4286-8580-dc7c53dd190a\">\n",
              "  <button class=\"colab-df-quickchart\" onclick=\"quickchart('df-108957bc-548d-4286-8580-dc7c53dd190a')\"\n",
              "            title=\"Suggest charts\"\n",
              "            style=\"display:none;\">\n",
              "\n",
              "<svg xmlns=\"http://www.w3.org/2000/svg\" height=\"24px\"viewBox=\"0 0 24 24\"\n",
              "     width=\"24px\">\n",
              "    <g>\n",
              "        <path d=\"M19 3H5c-1.1 0-2 .9-2 2v14c0 1.1.9 2 2 2h14c1.1 0 2-.9 2-2V5c0-1.1-.9-2-2-2zM9 17H7v-7h2v7zm4 0h-2V7h2v10zm4 0h-2v-4h2v4z\"/>\n",
              "    </g>\n",
              "</svg>\n",
              "  </button>\n",
              "\n",
              "<style>\n",
              "  .colab-df-quickchart {\n",
              "      --bg-color: #E8F0FE;\n",
              "      --fill-color: #1967D2;\n",
              "      --hover-bg-color: #E2EBFA;\n",
              "      --hover-fill-color: #174EA6;\n",
              "      --disabled-fill-color: #AAA;\n",
              "      --disabled-bg-color: #DDD;\n",
              "  }\n",
              "\n",
              "  [theme=dark] .colab-df-quickchart {\n",
              "      --bg-color: #3B4455;\n",
              "      --fill-color: #D2E3FC;\n",
              "      --hover-bg-color: #434B5C;\n",
              "      --hover-fill-color: #FFFFFF;\n",
              "      --disabled-bg-color: #3B4455;\n",
              "      --disabled-fill-color: #666;\n",
              "  }\n",
              "\n",
              "  .colab-df-quickchart {\n",
              "    background-color: var(--bg-color);\n",
              "    border: none;\n",
              "    border-radius: 50%;\n",
              "    cursor: pointer;\n",
              "    display: none;\n",
              "    fill: var(--fill-color);\n",
              "    height: 32px;\n",
              "    padding: 0;\n",
              "    width: 32px;\n",
              "  }\n",
              "\n",
              "  .colab-df-quickchart:hover {\n",
              "    background-color: var(--hover-bg-color);\n",
              "    box-shadow: 0 1px 2px rgba(60, 64, 67, 0.3), 0 1px 3px 1px rgba(60, 64, 67, 0.15);\n",
              "    fill: var(--button-hover-fill-color);\n",
              "  }\n",
              "\n",
              "  .colab-df-quickchart-complete:disabled,\n",
              "  .colab-df-quickchart-complete:disabled:hover {\n",
              "    background-color: var(--disabled-bg-color);\n",
              "    fill: var(--disabled-fill-color);\n",
              "    box-shadow: none;\n",
              "  }\n",
              "\n",
              "  .colab-df-spinner {\n",
              "    border: 2px solid var(--fill-color);\n",
              "    border-color: transparent;\n",
              "    border-bottom-color: var(--fill-color);\n",
              "    animation:\n",
              "      spin 1s steps(1) infinite;\n",
              "  }\n",
              "\n",
              "  @keyframes spin {\n",
              "    0% {\n",
              "      border-color: transparent;\n",
              "      border-bottom-color: var(--fill-color);\n",
              "      border-left-color: var(--fill-color);\n",
              "    }\n",
              "    20% {\n",
              "      border-color: transparent;\n",
              "      border-left-color: var(--fill-color);\n",
              "      border-top-color: var(--fill-color);\n",
              "    }\n",
              "    30% {\n",
              "      border-color: transparent;\n",
              "      border-left-color: var(--fill-color);\n",
              "      border-top-color: var(--fill-color);\n",
              "      border-right-color: var(--fill-color);\n",
              "    }\n",
              "    40% {\n",
              "      border-color: transparent;\n",
              "      border-right-color: var(--fill-color);\n",
              "      border-top-color: var(--fill-color);\n",
              "    }\n",
              "    60% {\n",
              "      border-color: transparent;\n",
              "      border-right-color: var(--fill-color);\n",
              "    }\n",
              "    80% {\n",
              "      border-color: transparent;\n",
              "      border-right-color: var(--fill-color);\n",
              "      border-bottom-color: var(--fill-color);\n",
              "    }\n",
              "    90% {\n",
              "      border-color: transparent;\n",
              "      border-bottom-color: var(--fill-color);\n",
              "    }\n",
              "  }\n",
              "</style>\n",
              "\n",
              "  <script>\n",
              "    async function quickchart(key) {\n",
              "      const quickchartButtonEl =\n",
              "        document.querySelector('#' + key + ' button');\n",
              "      quickchartButtonEl.disabled = true;  // To prevent multiple clicks.\n",
              "      quickchartButtonEl.classList.add('colab-df-spinner');\n",
              "      try {\n",
              "        const charts = await google.colab.kernel.invokeFunction(\n",
              "            'suggestCharts', [key], {});\n",
              "      } catch (error) {\n",
              "        console.error('Error during call to suggestCharts:', error);\n",
              "      }\n",
              "      quickchartButtonEl.classList.remove('colab-df-spinner');\n",
              "      quickchartButtonEl.classList.add('colab-df-quickchart-complete');\n",
              "    }\n",
              "    (() => {\n",
              "      let quickchartButtonEl =\n",
              "        document.querySelector('#df-108957bc-548d-4286-8580-dc7c53dd190a button');\n",
              "      quickchartButtonEl.style.display =\n",
              "        google.colab.kernel.accessAllowed ? 'block' : 'none';\n",
              "    })();\n",
              "  </script>\n",
              "</div>\n",
              "\n",
              "    </div>\n",
              "  </div>\n"
            ]
          },
          "metadata": {},
          "execution_count": 68
        }
      ]
    },
    {
      "cell_type": "code",
      "source": [
        "df[df[label] == 1].mode(numeric_only=True)"
      ],
      "metadata": {
        "colab": {
          "base_uri": "https://localhost:8080/",
          "height": 118
        },
        "id": "cJGSo5JbPDUk",
        "outputId": "0113f7f5-9618-4a56-f801-11b96856136e"
      },
      "execution_count": 69,
      "outputs": [
        {
          "output_type": "execute_result",
          "data": {
            "text/plain": [
              "   ENTIDADFEDERATIVAPARTO  EDAD  NUMEROEMBARAZOS  HIJOSNACIDOSMUERTOS  \\\n",
              "0                    15.0    27                1                    0   \n",
              "\n",
              "   ATENCIONPRENATAL  TRIMESTREPRIMERCONSULTA  TOTALCONSULTAS  SOBREVIVIOPARTO  \\\n",
              "0                 1                        1               8                1   \n",
              "\n",
              "   ESCOLARIDAD  SEXO  EDADGESTACIONAL  TALLA  PESO  APGAR  SILVERMAN  \\\n",
              "0            5     1               39     50  9999      9          0   \n",
              "\n",
              "   PRODUCTOEMBARAZO  RESOLUCIONEMBARAZO  MC-1  MC-2  MC-G  \n",
              "0                 1                   2    10     0    10  "
            ],
            "text/html": [
              "\n",
              "  <div id=\"df-9e42eae6-3605-478b-a0c7-4ae8482c6570\" class=\"colab-df-container\">\n",
              "    <div>\n",
              "<style scoped>\n",
              "    .dataframe tbody tr th:only-of-type {\n",
              "        vertical-align: middle;\n",
              "    }\n",
              "\n",
              "    .dataframe tbody tr th {\n",
              "        vertical-align: top;\n",
              "    }\n",
              "\n",
              "    .dataframe thead th {\n",
              "        text-align: right;\n",
              "    }\n",
              "</style>\n",
              "<table border=\"1\" class=\"dataframe\">\n",
              "  <thead>\n",
              "    <tr style=\"text-align: right;\">\n",
              "      <th></th>\n",
              "      <th>ENTIDADFEDERATIVAPARTO</th>\n",
              "      <th>EDAD</th>\n",
              "      <th>NUMEROEMBARAZOS</th>\n",
              "      <th>HIJOSNACIDOSMUERTOS</th>\n",
              "      <th>ATENCIONPRENATAL</th>\n",
              "      <th>TRIMESTREPRIMERCONSULTA</th>\n",
              "      <th>TOTALCONSULTAS</th>\n",
              "      <th>SOBREVIVIOPARTO</th>\n",
              "      <th>ESCOLARIDAD</th>\n",
              "      <th>SEXO</th>\n",
              "      <th>EDADGESTACIONAL</th>\n",
              "      <th>TALLA</th>\n",
              "      <th>PESO</th>\n",
              "      <th>APGAR</th>\n",
              "      <th>SILVERMAN</th>\n",
              "      <th>PRODUCTOEMBARAZO</th>\n",
              "      <th>RESOLUCIONEMBARAZO</th>\n",
              "      <th>MC-1</th>\n",
              "      <th>MC-2</th>\n",
              "      <th>MC-G</th>\n",
              "    </tr>\n",
              "  </thead>\n",
              "  <tbody>\n",
              "    <tr>\n",
              "      <th>0</th>\n",
              "      <td>15.0</td>\n",
              "      <td>27</td>\n",
              "      <td>1</td>\n",
              "      <td>0</td>\n",
              "      <td>1</td>\n",
              "      <td>1</td>\n",
              "      <td>8</td>\n",
              "      <td>1</td>\n",
              "      <td>5</td>\n",
              "      <td>1</td>\n",
              "      <td>39</td>\n",
              "      <td>50</td>\n",
              "      <td>9999</td>\n",
              "      <td>9</td>\n",
              "      <td>0</td>\n",
              "      <td>1</td>\n",
              "      <td>2</td>\n",
              "      <td>10</td>\n",
              "      <td>0</td>\n",
              "      <td>10</td>\n",
              "    </tr>\n",
              "  </tbody>\n",
              "</table>\n",
              "</div>\n",
              "    <div class=\"colab-df-buttons\">\n",
              "\n",
              "  <div class=\"colab-df-container\">\n",
              "    <button class=\"colab-df-convert\" onclick=\"convertToInteractive('df-9e42eae6-3605-478b-a0c7-4ae8482c6570')\"\n",
              "            title=\"Convert this dataframe to an interactive table.\"\n",
              "            style=\"display:none;\">\n",
              "\n",
              "  <svg xmlns=\"http://www.w3.org/2000/svg\" height=\"24px\" viewBox=\"0 -960 960 960\">\n",
              "    <path d=\"M120-120v-720h720v720H120Zm60-500h600v-160H180v160Zm220 220h160v-160H400v160Zm0 220h160v-160H400v160ZM180-400h160v-160H180v160Zm440 0h160v-160H620v160ZM180-180h160v-160H180v160Zm440 0h160v-160H620v160Z\"/>\n",
              "  </svg>\n",
              "    </button>\n",
              "\n",
              "  <style>\n",
              "    .colab-df-container {\n",
              "      display:flex;\n",
              "      gap: 12px;\n",
              "    }\n",
              "\n",
              "    .colab-df-convert {\n",
              "      background-color: #E8F0FE;\n",
              "      border: none;\n",
              "      border-radius: 50%;\n",
              "      cursor: pointer;\n",
              "      display: none;\n",
              "      fill: #1967D2;\n",
              "      height: 32px;\n",
              "      padding: 0 0 0 0;\n",
              "      width: 32px;\n",
              "    }\n",
              "\n",
              "    .colab-df-convert:hover {\n",
              "      background-color: #E2EBFA;\n",
              "      box-shadow: 0px 1px 2px rgba(60, 64, 67, 0.3), 0px 1px 3px 1px rgba(60, 64, 67, 0.15);\n",
              "      fill: #174EA6;\n",
              "    }\n",
              "\n",
              "    .colab-df-buttons div {\n",
              "      margin-bottom: 4px;\n",
              "    }\n",
              "\n",
              "    [theme=dark] .colab-df-convert {\n",
              "      background-color: #3B4455;\n",
              "      fill: #D2E3FC;\n",
              "    }\n",
              "\n",
              "    [theme=dark] .colab-df-convert:hover {\n",
              "      background-color: #434B5C;\n",
              "      box-shadow: 0px 1px 3px 1px rgba(0, 0, 0, 0.15);\n",
              "      filter: drop-shadow(0px 1px 2px rgba(0, 0, 0, 0.3));\n",
              "      fill: #FFFFFF;\n",
              "    }\n",
              "  </style>\n",
              "\n",
              "    <script>\n",
              "      const buttonEl =\n",
              "        document.querySelector('#df-9e42eae6-3605-478b-a0c7-4ae8482c6570 button.colab-df-convert');\n",
              "      buttonEl.style.display =\n",
              "        google.colab.kernel.accessAllowed ? 'block' : 'none';\n",
              "\n",
              "      async function convertToInteractive(key) {\n",
              "        const element = document.querySelector('#df-9e42eae6-3605-478b-a0c7-4ae8482c6570');\n",
              "        const dataTable =\n",
              "          await google.colab.kernel.invokeFunction('convertToInteractive',\n",
              "                                                    [key], {});\n",
              "        if (!dataTable) return;\n",
              "\n",
              "        const docLinkHtml = 'Like what you see? Visit the ' +\n",
              "          '<a target=\"_blank\" href=https://colab.research.google.com/notebooks/data_table.ipynb>data table notebook</a>'\n",
              "          + ' to learn more about interactive tables.';\n",
              "        element.innerHTML = '';\n",
              "        dataTable['output_type'] = 'display_data';\n",
              "        await google.colab.output.renderOutput(dataTable, element);\n",
              "        const docLink = document.createElement('div');\n",
              "        docLink.innerHTML = docLinkHtml;\n",
              "        element.appendChild(docLink);\n",
              "      }\n",
              "    </script>\n",
              "  </div>\n",
              "\n",
              "\n",
              "    </div>\n",
              "  </div>\n"
            ]
          },
          "metadata": {},
          "execution_count": 69
        }
      ]
    },
    {
      "cell_type": "markdown",
      "source": [
        "## Malformación congénita craneofacial\n",
        "- Ausente (1)\n",
        "- Presente (2)"
      ],
      "metadata": {
        "id": "2lhcjskgRM-6"
      }
    },
    {
      "cell_type": "code",
      "source": [
        "with pd.option_context('display.max_rows', None, 'display.max_columns', None):  # more options can be specified also\n",
        "    print(df[df[label] == 1].CODIGOCIEANOMALIA1.value_counts().add(df[df[label] == 1].CODIGOCIEANOMALIA2.value_counts(),fill_value=0).sort_values(ascending=False).to_markdown())"
      ],
      "metadata": {
        "colab": {
          "base_uri": "https://localhost:8080/"
        },
        "id": "siNcckXnRdZU",
        "outputId": "34e95072-abf1-434f-e9b2-8928aebad593"
      },
      "execution_count": 70,
      "outputs": [
        {
          "output_type": "stream",
          "name": "stdout",
          "text": [
            "|      |    0 |\n",
            "|:-----|-----:|\n",
            "| 0000 | 2488 |\n",
            "| Q170 |  865 |\n",
            "| Q379 |  608 |\n",
            "| Q369 |  607 |\n",
            "| Q172 |  426 |\n",
            "| Q359 |  397 |\n",
            "| Q173 |  307 |\n",
            "| Q174 |  213 |\n",
            "| 9999 |  152 |\n",
            "| Q381 |  116 |\n",
            "| Q161 |   72 |\n",
            "| Q372 |   67 |\n",
            "| Q178 |   62 |\n",
            "| Q184 |   59 |\n",
            "| Q181 |   58 |\n",
            "| Q360 |   55 |\n",
            "| Q179 |   49 |\n",
            "| Q189 |   47 |\n",
            "| P128 |   47 |\n",
            "| Q160 |   41 |\n",
            "| P073 |   38 |\n",
            "| Q309 |   36 |\n",
            "| Q385 |   34 |\n",
            "| Q188 |   29 |\n",
            "| Q300 |   28 |\n",
            "| P071 |   28 |\n",
            "| Q371 |   26 |\n",
            "| Q386 |   26 |\n",
            "| Q308 |   25 |\n",
            "| Q380 |   23 |\n",
            "| Q103 |   22 |\n",
            "| P081 |   22 |\n",
            "| Q120 |   21 |\n",
            "| Q660 |   20 |\n",
            "| Q382 |   18 |\n",
            "| P835 |   17 |\n",
            "| Q699 |   17 |\n",
            "| Q039 |   16 |\n",
            "| Q370 |   16 |\n",
            "| Q378 |   16 |\n",
            "| Q169 |   16 |\n",
            "| Q111 |   14 |\n",
            "| Q531 |   14 |\n",
            "| Q02X |   13 |\n",
            "| K070 |   12 |\n",
            "| Q351 |   12 |\n",
            "| Q383 |   12 |\n",
            "| Q897 |   11 |\n",
            "| Q112 |   11 |\n",
            "| Q302 |   10 |\n",
            "| Q159 |   10 |\n",
            "| Q352 |   10 |\n",
            "| P229 |   10 |\n",
            "| P221 |   10 |\n",
            "| Q158 |   10 |\n",
            "| Q355 |    9 |\n",
            "| Q532 |    9 |\n",
            "| Q423 |    9 |\n",
            "| Q828 |    9 |\n",
            "| Q709 |    9 |\n",
            "| Q361 |    8 |\n",
            "| D180 |    8 |\n",
            "| Q663 |    8 |\n",
            "| Q000 |    8 |\n",
            "| Q758 |    8 |\n",
            "| Q105 |    8 |\n",
            "| Q539 |    8 |\n",
            "| Q374 |    8 |\n",
            "| Q303 |    7 |\n",
            "| Q373 |    7 |\n",
            "| Q353 |    7 |\n",
            "| Q652 |    7 |\n",
            "| Q909 |    7 |\n",
            "| Q753 |    7 |\n",
            "| P059 |    7 |\n",
            "| Q668 |    7 |\n",
            "| Q870 |    6 |\n",
            "| Q795 |    6 |\n",
            "| Q752 |    6 |\n",
            "| Q674 |    6 |\n",
            "| Q133 |    6 |\n",
            "| Q549 |    6 |\n",
            "| Q101 |    6 |\n",
            "| Q171 |    6 |\n",
            "| Q185 |    5 |\n",
            "| P121 |    5 |\n",
            "| Q301 |    5 |\n",
            "| P219 |    5 |\n",
            "| Q375 |    5 |\n",
            "| P369 |    5 |\n",
            "| P220 |    5 |\n",
            "| Q106 |    5 |\n",
            "| Q690 |    5 |\n",
            "| Q182 |    5 |\n",
            "| Q183 |    5 |\n",
            "| Q692 |    4 |\n",
            "| Q180 |    4 |\n",
            "| Q384 |    4 |\n",
            "| Q175 |    4 |\n",
            "| Q898 |    4 |\n",
            "| Q899 |    4 |\n",
            "| Q357 |    4 |\n",
            "| Q700 |    4 |\n",
            "| Q249 |    4 |\n",
            "| P158 |    4 |\n",
            "| P968 |    4 |\n",
            "| P838 |    4 |\n",
            "| P701 |    4 |\n",
            "| P050 |    4 |\n",
            "| P072 |    4 |\n",
            "| Q113 |    4 |\n",
            "| Q390 |    3 |\n",
            "| Q833 |    3 |\n",
            "| Q792 |    3 |\n",
            "| Q165 |    3 |\n",
            "| Q031 |    3 |\n",
            "| Q742 |    3 |\n",
            "| Q559 |    3 |\n",
            "| Q164 |    3 |\n",
            "| Q666 |    3 |\n",
            "| P113 |    3 |\n",
            "| Q670 |    3 |\n",
            "| Q701 |    3 |\n",
            "| P969 |    3 |\n",
            "| Q761 |    3 |\n",
            "| P052 |    3 |\n",
            "| Q059 |    3 |\n",
            "| Q128 |    3 |\n",
            "| Q163 |    3 |\n",
            "| K429 |    3 |\n",
            "| Q104 |    3 |\n",
            "| Q206 |    3 |\n",
            "| Q139 |    2 |\n",
            "| P159 |    2 |\n",
            "| P143 |    2 |\n",
            "| Q132 |    2 |\n",
            "| Q740 |    2 |\n",
            "| Q564 |    2 |\n",
            "| Q729 |    2 |\n",
            "| Q718 |    2 |\n",
            "| Q650 |    2 |\n",
            "| P120 |    2 |\n",
            "| P123 |    2 |\n",
            "| P026 |    2 |\n",
            "| Q665 |    2 |\n",
            "| Q149 |    2 |\n",
            "| Q999 |    2 |\n",
            "| Q672 |    2 |\n",
            "| Q702 |    2 |\n",
            "| Q677 |    2 |\n",
            "| Q681 |    2 |\n",
            "| Q688 |    2 |\n",
            "| Q439 |    2 |\n",
            "| Q058 |    2 |\n",
            "| Q751 |    2 |\n",
            "| Q042 |    2 |\n",
            "| Q187 |    2 |\n",
            "| Q759 |    2 |\n",
            "| Q825 |    2 |\n",
            "| Q387 |    2 |\n",
            "| P240 |    2 |\n",
            "| Q878 |    2 |\n",
            "| P545 |    2 |\n",
            "| K090 |    2 |\n",
            "| Q848 |    2 |\n",
            "| Q107 |    2 |\n",
            "| P704 |    2 |\n",
            "| Q929 |    1 |\n",
            "| P004 |    1 |\n",
            "| Q868 |    1 |\n",
            "| Q703 |    1 |\n",
            "| N492 |    1 |\n",
            "| Q871 |    1 |\n",
            "| P051 |    1 |\n",
            "| Q704 |    1 |\n",
            "| P025 |    1 |\n",
            "| P013 |    1 |\n",
            "| Q928 |    1 |\n",
            "| Q794 |    1 |\n",
            "| Q727 |    1 |\n",
            "| Q793 |    1 |\n",
            "| Q790 |    1 |\n",
            "| Q731 |    1 |\n",
            "| H610 |    1 |\n",
            "| Q764 |    1 |\n",
            "| K068 |    1 |\n",
            "| Q743 |    1 |\n",
            "| Q760 |    1 |\n",
            "| Q750 |    1 |\n",
            "| Q872 |    1 |\n",
            "| P038 |    1 |\n",
            "| Q713 |    1 |\n",
            "| Q641 |    1 |\n",
            "| Q691 |    1 |\n",
            "| P942 |    1 |\n",
            "| P288 |    1 |\n",
            "| P291 |    1 |\n",
            "| P298 |    1 |\n",
            "| P544 |    1 |\n",
            "| P548 |    1 |\n",
            "| P550 |    1 |\n",
            "| P832 |    1 |\n",
            "| P917 |    1 |\n",
            "| P918 |    1 |\n",
            "| Q019 |    1 |\n",
            "| P284 |    1 |\n",
            "| Q049 |    1 |\n",
            "| Q078 |    1 |\n",
            "| Q100 |    1 |\n",
            "| Q212 |    1 |\n",
            "| Q110 |    1 |\n",
            "| Q134 |    1 |\n",
            "| Q135 |    1 |\n",
            "| Q141 |    1 |\n",
            "| Q150 |    1 |\n",
            "| P285 |    1 |\n",
            "| P283 |    1 |\n",
            "| P080 |    1 |\n",
            "| Q600 |    1 |\n",
            "| Q682 |    1 |\n",
            "| Q678 |    1 |\n",
            "| Q675 |    1 |\n",
            "| P101 |    1 |\n",
            "| Q658 |    1 |\n",
            "| P129 |    1 |\n",
            "| Q648 |    1 |\n",
            "| Q638 |    1 |\n",
            "| Q613 |    1 |\n",
            "| Q561 |    1 |\n",
            "| P241 |    1 |\n",
            "| Q558 |    1 |\n",
            "| Q550 |    1 |\n",
            "| P134 |    1 |\n",
            "| Q528 |    1 |\n",
            "| Q526 |    1 |\n",
            "| P209 |    1 |\n",
            "| Q421 |    1 |\n",
            "| Q402 |    1 |\n",
            "| Q400 |    1 |\n",
            "| R220 |    1 |\n"
          ]
        }
      ]
    },
    {
      "cell_type": "markdown",
      "source": [
        "## MCF Categórica\n",
        "- Oftalmológicas (1)\n",
        "- Oído (2)\n",
        "- Cara y cuello (3)\n",
        "- Nariz (4)\n",
        "- Lengua y boca (5)"
      ],
      "metadata": {
        "id": "_eaJFZetQz2Y"
      }
    },
    {
      "cell_type": "code",
      "source": [
        "label = \"MC-G2\"\n",
        "mc_value = {\n",
        "    'oftalmo': 1,\n",
        "    'oido': 2,\n",
        "    'cuello': 3,\n",
        "    'nariz': 4,\n",
        "    'boca': 5\n",
        "}"
      ],
      "metadata": {
        "id": "2rQJTeMlJ69N"
      },
      "execution_count": 71,
      "outputs": []
    },
    {
      "cell_type": "markdown",
      "source": [
        "#### Lista oftalmo"
      ],
      "metadata": {
        "id": "R7qrC4J8J3t6"
      }
    },
    {
      "cell_type": "code",
      "source": [
        "value = mc_value['oftalmo']\n",
        "a = df[df[label] == value].CODIGOCIEANOMALIA1.value_counts()\n",
        "b = df[df[label] == value].CODIGOCIEANOMALIA2.value_counts()\n",
        "with pd.option_context('display.max_rows', None, 'display.max_columns', None):  # more options can be specified also\n",
        "    print(a.add(b,fill_value=0).sort_values(ascending=False).to_markdown())"
      ],
      "metadata": {
        "colab": {
          "base_uri": "https://localhost:8080/"
        },
        "id": "ne6QlyL-PzSQ",
        "outputId": "63a3587f-4b6a-452c-f665-1d5224b27a03"
      },
      "execution_count": 72,
      "outputs": [
        {
          "output_type": "stream",
          "name": "stdout",
          "text": [
            "|      |   0 |\n",
            "|:-----|----:|\n",
            "| 0000 |  60 |\n",
            "| Q103 |  17 |\n",
            "| Q120 |  13 |\n",
            "| Q158 |  10 |\n",
            "| Q112 |   9 |\n",
            "| Q111 |   7 |\n",
            "| Q159 |   6 |\n",
            "| Q105 |   6 |\n",
            "| Q101 |   4 |\n",
            "| Q660 |   4 |\n",
            "| Q113 |   4 |\n",
            "| Q039 |   3 |\n",
            "| Q133 |   3 |\n",
            "| Q106 |   3 |\n",
            "| Q149 |   2 |\n",
            "| 9999 |   2 |\n",
            "| Q139 |   2 |\n",
            "| Q132 |   2 |\n",
            "| Q104 |   2 |\n",
            "| Q107 |   2 |\n",
            "| P073 |   2 |\n",
            "| P220 |   2 |\n",
            "| P072 |   1 |\n",
            "| Q423 |   1 |\n",
            "| Q652 |   1 |\n",
            "| P071 |   1 |\n",
            "| Q663 |   1 |\n",
            "| P548 |   1 |\n",
            "| Q668 |   1 |\n",
            "| Q688 |   1 |\n",
            "| Q690 |   1 |\n",
            "| Q699 |   1 |\n",
            "| Q709 |   1 |\n",
            "| Q742 |   1 |\n",
            "| Q743 |   1 |\n",
            "| Q758 |   1 |\n",
            "| Q674 |   1 |\n",
            "| Q134 |   1 |\n",
            "| Q150 |   1 |\n",
            "| Q141 |   1 |\n",
            "| Q135 |   1 |\n",
            "| P701 |   1 |\n",
            "| Q128 |   1 |\n",
            "| P123 |   1 |\n",
            "| P128 |   1 |\n",
            "| Q110 |   1 |\n",
            "| P221 |   1 |\n",
            "| P241 |   1 |\n",
            "| P545 |   1 |\n",
            "| Q100 |   1 |\n",
            "| Q02X |   1 |\n",
            "| Q000 |   1 |\n",
            "| P838 |   1 |\n",
            "| Q899 |   1 |\n"
          ]
        }
      ]
    },
    {
      "cell_type": "markdown",
      "source": [
        "#### Lista oido"
      ],
      "metadata": {
        "id": "eqtXnPoBKANm"
      }
    },
    {
      "cell_type": "code",
      "source": [
        "value = mc_value['oido']\n",
        "a = df[df[label] == value].CODIGOCIEANOMALIA1.value_counts()\n",
        "b = df[df[label] == value].CODIGOCIEANOMALIA2.value_counts()\n",
        "with pd.option_context('display.max_rows', None, 'display.max_columns', None):  # more options can be specified also\n",
        "    print(a.add(b,fill_value=0).sort_values(ascending=False).to_markdown())"
      ],
      "metadata": {
        "colab": {
          "base_uri": "https://localhost:8080/"
        },
        "id": "_f1r2nwKSbF0",
        "outputId": "763e296e-ef2d-4276-880f-574201c9a45b"
      },
      "execution_count": 73,
      "outputs": [
        {
          "output_type": "stream",
          "name": "stdout",
          "text": [
            "|      |    0 |\n",
            "|:-----|-----:|\n",
            "| 0000 | 1218 |\n",
            "| Q170 |  698 |\n",
            "| Q172 |  334 |\n",
            "| Q173 |  214 |\n",
            "| Q174 |  181 |\n",
            "| 9999 |   71 |\n",
            "| Q178 |   45 |\n",
            "| Q179 |   43 |\n",
            "| Q161 |   41 |\n",
            "| Q160 |   25 |\n",
            "| P128 |   24 |\n",
            "| P073 |   15 |\n",
            "| P071 |   10 |\n",
            "| P835 |    9 |\n",
            "| Q828 |    9 |\n",
            "| Q169 |    9 |\n",
            "| P081 |    9 |\n",
            "| Q171 |    6 |\n",
            "| K070 |    5 |\n",
            "| Q531 |    5 |\n",
            "| Q039 |    5 |\n",
            "| Q660 |    5 |\n",
            "| Q699 |    5 |\n",
            "| Q795 |    5 |\n",
            "| Q870 |    5 |\n",
            "| Q532 |    5 |\n",
            "| Q674 |    4 |\n",
            "| P059 |    4 |\n",
            "| P221 |    4 |\n",
            "| Q539 |    3 |\n",
            "| Q164 |    3 |\n",
            "| P838 |    3 |\n",
            "| Q165 |    3 |\n",
            "| D180 |    3 |\n",
            "| Q898 |    3 |\n",
            "| Q690 |    3 |\n",
            "| K429 |    3 |\n",
            "| Q833 |    3 |\n",
            "| Q668 |    3 |\n",
            "| P158 |    3 |\n",
            "| P113 |    3 |\n",
            "| Q718 |    2 |\n",
            "| Q761 |    2 |\n",
            "| Q758 |    2 |\n",
            "| Q752 |    2 |\n",
            "| Q729 |    2 |\n",
            "| Q549 |    2 |\n",
            "| Q175 |    2 |\n",
            "| Q559 |    2 |\n",
            "| Q672 |    2 |\n",
            "| Q206 |    2 |\n",
            "| Q670 |    2 |\n",
            "| Q249 |    2 |\n",
            "| Q652 |    2 |\n",
            "| Q390 |    2 |\n",
            "| Q666 |    2 |\n",
            "| Q909 |    2 |\n",
            "| P052 |    2 |\n",
            "| P143 |    2 |\n",
            "| P050 |    2 |\n",
            "| Q02X |    2 |\n",
            "| P969 |    2 |\n",
            "| P072 |    2 |\n",
            "| P701 |    2 |\n",
            "| P219 |    2 |\n",
            "| P159 |    2 |\n",
            "| P026 |    2 |\n",
            "| Q753 |    1 |\n",
            "| Q751 |    1 |\n",
            "| Q163 |    1 |\n",
            "| Q750 |    1 |\n",
            "| Q759 |    1 |\n",
            "| P101 |    1 |\n",
            "| Q727 |    1 |\n",
            "| P120 |    1 |\n",
            "| Q713 |    1 |\n",
            "| Q709 |    1 |\n",
            "| Q742 |    1 |\n",
            "| Q764 |    1 |\n",
            "| Q760 |    1 |\n",
            "| Q701 |    1 |\n",
            "| Q792 |    1 |\n",
            "| Q794 |    1 |\n",
            "| P038 |    1 |\n",
            "| Q825 |    1 |\n",
            "| P025 |    1 |\n",
            "| Q868 |    1 |\n",
            "| P004 |    1 |\n",
            "| Q871 |    1 |\n",
            "| Q872 |    1 |\n",
            "| Q897 |    1 |\n",
            "| H610 |    1 |\n",
            "| Q899 |    1 |\n",
            "| Q702 |    1 |\n",
            "| Q688 |    1 |\n",
            "| P121 |    1 |\n",
            "| P129 |    1 |\n",
            "| Q058 |    1 |\n",
            "| Q042 |    1 |\n",
            "| P968 |    1 |\n",
            "| Q400 |    1 |\n",
            "| Q402 |    1 |\n",
            "| Q423 |    1 |\n",
            "| Q528 |    1 |\n",
            "| P550 |    1 |\n",
            "| P545 |    1 |\n",
            "| P369 |    1 |\n",
            "| P288 |    1 |\n",
            "| Q550 |    1 |\n",
            "| P240 |    1 |\n",
            "| Q613 |    1 |\n",
            "| Q648 |    1 |\n",
            "| P229 |    1 |\n",
            "| Q658 |    1 |\n",
            "| P220 |    1 |\n",
            "| Q663 |    1 |\n",
            "| Q665 |    1 |\n",
            "| P209 |    1 |\n",
            "| P134 |    1 |\n",
            "| Q675 |    1 |\n",
            "| Q677 |    1 |\n",
            "| Q681 |    1 |\n",
            "| Q682 |    1 |\n",
            "| Q078 |    1 |\n",
            "| Q212 |    1 |\n"
          ]
        }
      ]
    },
    {
      "cell_type": "markdown",
      "source": [
        "Lista cuello"
      ],
      "metadata": {
        "id": "o5EwUeq2V-s5"
      }
    },
    {
      "cell_type": "code",
      "source": [
        "value = mc_value['cuello']\n",
        "a = df[df[label] == value].CODIGOCIEANOMALIA1.value_counts()\n",
        "b = df[df[label] == value].CODIGOCIEANOMALIA2.value_counts()\n",
        "with pd.option_context('display.max_rows', None, 'display.max_columns', None):  # more options can be specified also\n",
        "    print(a.add(b,fill_value=0).sort_values(ascending=False).to_markdown())"
      ],
      "metadata": {
        "colab": {
          "base_uri": "https://localhost:8080/"
        },
        "id": "FgLSiIAQSiDN",
        "outputId": "dc48ae67-d065-4053-f571-ad95587304db"
      },
      "execution_count": 74,
      "outputs": [
        {
          "output_type": "stream",
          "name": "stdout",
          "text": [
            "|      |   0 |\n",
            "|:-----|----:|\n",
            "| 0000 | 120 |\n",
            "| Q181 |  56 |\n",
            "| Q184 |  56 |\n",
            "| Q189 |  34 |\n",
            "| Q188 |  15 |\n",
            "| 9999 |   9 |\n",
            "| P081 |   6 |\n",
            "| Q182 |   5 |\n",
            "| Q185 |   3 |\n",
            "| P071 |   3 |\n",
            "| Q183 |   2 |\n",
            "| P704 |   2 |\n",
            "| Q187 |   2 |\n",
            "| Q180 |   2 |\n",
            "| P229 |   1 |\n",
            "| Q663 |   1 |\n",
            "| Q665 |   1 |\n",
            "| Q677 |   1 |\n",
            "| Q699 |   1 |\n",
            "| Q701 |   1 |\n",
            "| Q731 |   1 |\n",
            "| Q652 |   1 |\n",
            "| Q740 |   1 |\n",
            "| Q742 |   1 |\n",
            "| Q751 |   1 |\n",
            "| Q752 |   1 |\n",
            "| Q761 |   1 |\n",
            "| Q790 |   1 |\n",
            "| Q660 |   1 |\n",
            "| Q423 |   1 |\n",
            "| Q558 |   1 |\n",
            "| Q439 |   1 |\n",
            "| P283 |   1 |\n",
            "| K070 |   1 |\n",
            "| K090 |   1 |\n",
            "| P080 |   1 |\n",
            "| P121 |   1 |\n",
            "| P128 |   1 |\n",
            "| Q02X |   1 |\n",
            "| P835 |   1 |\n",
            "| P832 |   1 |\n",
            "| P701 |   1 |\n",
            "| P284 |   1 |\n",
            "| Q825 |   1 |\n"
          ]
        }
      ]
    },
    {
      "cell_type": "markdown",
      "source": [
        "Lista nariz"
      ],
      "metadata": {
        "id": "nTWPJ0AlWKid"
      }
    },
    {
      "cell_type": "code",
      "source": [
        "value = mc_value['nariz']\n",
        "a = df[df[label] == value].CODIGOCIEANOMALIA1.value_counts()\n",
        "b = df[df[label] == value].CODIGOCIEANOMALIA2.value_counts()\n",
        "with pd.option_context('display.max_rows', None, 'display.max_columns', None):  # more options can be specified also\n",
        "    print(a.add(b,fill_value=0).sort_values(ascending=False).to_markdown())"
      ],
      "metadata": {
        "colab": {
          "base_uri": "https://localhost:8080/"
        },
        "id": "yY_A1GIBS3FC",
        "outputId": "4c046986-734f-4652-b08d-c19284a72426"
      },
      "execution_count": 75,
      "outputs": [
        {
          "output_type": "stream",
          "name": "stdout",
          "text": [
            "|      |   0 |\n",
            "|:-----|----:|\n",
            "| 0000 |  36 |\n",
            "| Q309 |  25 |\n",
            "| Q300 |  18 |\n",
            "| Q308 |  16 |\n",
            "| Q301 |   5 |\n",
            "| P071 |   3 |\n",
            "| Q752 |   3 |\n",
            "| Q302 |   3 |\n",
            "| P835 |   2 |\n",
            "| 9999 |   2 |\n",
            "| D180 |   2 |\n",
            "| Q423 |   1 |\n",
            "| Q795 |   1 |\n",
            "| Q758 |   1 |\n",
            "| Q699 |   1 |\n",
            "| Q539 |   1 |\n",
            "| Q531 |   1 |\n",
            "| P128 |   1 |\n",
            "| P219 |   1 |\n",
            "| Q303 |   1 |\n",
            "| P081 |   1 |\n",
            "| Q000 |   1 |\n",
            "| P229 |   1 |\n",
            "| P221 |   1 |\n",
            "| Q909 |   1 |\n"
          ]
        }
      ]
    },
    {
      "cell_type": "markdown",
      "source": [
        "Lista lengua y boca"
      ],
      "metadata": {
        "id": "TWBVkkeKWNFg"
      }
    },
    {
      "cell_type": "code",
      "source": [
        "value = mc_value['boca']\n",
        "a = df[df[label] == value].CODIGOCIEANOMALIA1.value_counts()\n",
        "b = df[df[label] == value].CODIGOCIEANOMALIA2.value_counts()\n",
        "with pd.option_context('display.max_rows', None, 'display.max_columns', None):  # more options can be specified also\n",
        "    print(a.add(b,fill_value=0).sort_values(ascending=False).to_markdown())"
      ],
      "metadata": {
        "colab": {
          "base_uri": "https://localhost:8080/"
        },
        "id": "WLBW51itS9ML",
        "outputId": "b3452324-5d08-4a32-cc62-6d608f87b486"
      },
      "execution_count": 76,
      "outputs": [
        {
          "output_type": "stream",
          "name": "stdout",
          "text": [
            "|      |    0 |\n",
            "|:-----|-----:|\n",
            "| 0000 | 1054 |\n",
            "| Q379 |  466 |\n",
            "| Q369 |  425 |\n",
            "| Q359 |  233 |\n",
            "| Q381 |   78 |\n",
            "| 9999 |   68 |\n",
            "| Q372 |   50 |\n",
            "| Q360 |   45 |\n",
            "| P073 |   21 |\n",
            "| Q385 |   21 |\n",
            "| Q371 |   21 |\n",
            "| P128 |   20 |\n",
            "| Q386 |   19 |\n",
            "| Q380 |   19 |\n",
            "| Q382 |   16 |\n",
            "| Q383 |   12 |\n",
            "| P071 |   11 |\n",
            "| Q660 |   10 |\n",
            "| Q897 |   10 |\n",
            "| Q378 |    9 |\n",
            "| Q699 |    9 |\n",
            "| Q370 |    9 |\n",
            "| Q02X |    9 |\n",
            "| Q531 |    8 |\n",
            "| Q039 |    8 |\n",
            "| P229 |    7 |\n",
            "| Q709 |    7 |\n",
            "| Q351 |    7 |\n",
            "| Q000 |    6 |\n",
            "| P081 |    6 |\n",
            "| K070 |    6 |\n",
            "| Q753 |    6 |\n",
            "| Q352 |    6 |\n",
            "| Q373 |    5 |\n",
            "| Q663 |    5 |\n",
            "| P835 |    5 |\n",
            "| Q423 |    5 |\n",
            "| Q355 |    5 |\n",
            "| Q549 |    4 |\n",
            "| Q692 |    4 |\n",
            "| Q700 |    4 |\n",
            "| Q539 |    4 |\n",
            "| Q532 |    4 |\n",
            "| Q758 |    4 |\n",
            "| Q361 |    4 |\n",
            "| Q909 |    4 |\n",
            "| Q357 |    4 |\n",
            "| Q384 |    4 |\n",
            "| Q375 |    4 |\n",
            "| P221 |    4 |\n",
            "| P369 |    4 |\n",
            "| Q031 |    3 |\n",
            "| P121 |    3 |\n",
            "| Q374 |    3 |\n",
            "| P968 |    3 |\n",
            "| Q353 |    3 |\n",
            "| D180 |    3 |\n",
            "| Q652 |    3 |\n",
            "| P059 |    3 |\n",
            "| Q059 |    3 |\n",
            "| Q668 |    3 |\n",
            "| Q650 |    2 |\n",
            "| Q792 |    2 |\n",
            "| Q564 |    2 |\n",
            "| P050 |    2 |\n",
            "| P219 |    2 |\n",
            "| Q249 |    2 |\n",
            "| P220 |    2 |\n",
            "| Q878 |    2 |\n",
            "| Q999 |    2 |\n",
            "| Q848 |    2 |\n",
            "| Q899 |    2 |\n",
            "| P051 |    1 |\n",
            "| Q681 |    1 |\n",
            "| Q929 |    1 |\n",
            "| Q690 |    1 |\n",
            "| Q928 |    1 |\n",
            "| Q898 |    1 |\n",
            "| Q691 |    1 |\n",
            "| P052 |    1 |\n",
            "| K068 |    1 |\n",
            "| Q759 |    1 |\n",
            "| K090 |    1 |\n",
            "| Q701 |    1 |\n",
            "| Q870 |    1 |\n",
            "| Q702 |    1 |\n",
            "| Q703 |    1 |\n",
            "| Q704 |    1 |\n",
            "| P013 |    1 |\n",
            "| Q740 |    1 |\n",
            "| N492 |    1 |\n",
            "| Q674 |    1 |\n",
            "| Q793 |    1 |\n",
            "| Q678 |    1 |\n",
            "| Q641 |    1 |\n",
            "| Q670 |    1 |\n",
            "| P285 |    1 |\n",
            "| Q206 |    1 |\n",
            "| Q058 |    1 |\n",
            "| Q049 |    1 |\n",
            "| Q042 |    1 |\n",
            "| Q019 |    1 |\n",
            "| P969 |    1 |\n",
            "| P942 |    1 |\n",
            "| P918 |    1 |\n",
            "| P917 |    1 |\n",
            "| P544 |    1 |\n",
            "| P298 |    1 |\n",
            "| P291 |    1 |\n",
            "| P240 |    1 |\n",
            "| Q666 |    1 |\n",
            "| Q390 |    1 |\n",
            "| Q421 |    1 |\n",
            "| Q439 |    1 |\n",
            "| Q526 |    1 |\n",
            "| P158 |    1 |\n",
            "| P123 |    1 |\n",
            "| P120 |    1 |\n",
            "| Q559 |    1 |\n",
            "| Q561 |    1 |\n",
            "| Q600 |    1 |\n",
            "| Q638 |    1 |\n",
            "| P072 |    1 |\n",
            "| R220 |    1 |\n"
          ]
        }
      ]
    },
    {
      "cell_type": "code",
      "source": [
        "label=\"S-MG\"\n",
        "a = df[(df[label] == 1) | (df[label] == 2)].CODIGOCIEANOMALIA1.value_counts()\n",
        "b = df[(df[label] == 1) | (df[label] == 2)].CODIGOCIEANOMALIA2.value_counts()\n",
        "with pd.option_context('display.max_rows', None, 'display.max_columns', None):  # more options can be specified also\n",
        "    print(a.add(b,fill_value=0).sort_values(ascending=False))"
      ],
      "metadata": {
        "id": "Jy0zW5wKS-dv",
        "colab": {
          "base_uri": "https://localhost:8080/"
        },
        "outputId": "f4202bf0-e1ee-4695-fba5-cca8cbd12e0b"
      },
      "execution_count": 77,
      "outputs": [
        {
          "output_type": "stream",
          "name": "stdout",
          "text": [
            "Q170    279.0\n",
            "Q369    251.0\n",
            "Q359    247.0\n",
            "Q379    233.0\n",
            "Q172    158.0\n",
            "Q173    148.0\n",
            "Q174     75.0\n",
            "Q381     64.0\n",
            "P128     47.0\n",
            "Q161     41.0\n",
            "P073     38.0\n",
            "Q372     31.0\n",
            "Q189     29.0\n",
            "P071     28.0\n",
            "Q385     24.0\n",
            "Q160     24.0\n",
            "Q178     23.0\n",
            "P081     22.0\n",
            "Q360     21.0\n",
            "Q309     21.0\n",
            "Q660     20.0\n",
            "Q188     18.0\n",
            "Q184     18.0\n",
            "Q699     17.0\n",
            "P835     17.0\n",
            "Q039     16.0\n",
            "Q179     16.0\n",
            "Q308     16.0\n",
            "Q300     15.0\n",
            "Q120     15.0\n",
            "Q531     14.0\n",
            "Q02X     13.0\n",
            "K070     12.0\n",
            "Q371     12.0\n",
            "Q103     12.0\n",
            "Q897     11.0\n",
            "Q111     11.0\n",
            "Q386     11.0\n",
            "Q169     11.0\n",
            "P221     10.0\n",
            "P229     10.0\n",
            "Q351     10.0\n",
            "Q370     10.0\n",
            "Q302      9.0\n",
            "Q709      9.0\n",
            "Q423      9.0\n",
            "Q532      9.0\n",
            "Q380      9.0\n",
            "Q828      9.0\n",
            "Q539      8.0\n",
            "Q758      8.0\n",
            "Q663      8.0\n",
            "Q181      8.0\n",
            "Q378      8.0\n",
            "Q000      8.0\n",
            "D180      8.0\n",
            "Q668      7.0\n",
            "Q753      7.0\n",
            "P059      7.0\n",
            "Q303      7.0\n",
            "Q909      7.0\n",
            "Q652      7.0\n",
            "Q112      7.0\n",
            "Q549      6.0\n",
            "Q361      6.0\n",
            "Q382      6.0\n",
            "Q352      6.0\n",
            "Q752      6.0\n",
            "Q795      6.0\n",
            "Q870      6.0\n",
            "Q374      6.0\n",
            "Q674      6.0\n",
            "P220      5.0\n",
            "Q690      5.0\n",
            "P219      5.0\n",
            "Q301      5.0\n",
            "P121      5.0\n",
            "P369      5.0\n",
            "Q353      5.0\n",
            "Q159      5.0\n",
            "Q355      5.0\n",
            "Q183      4.0\n",
            "Q898      4.0\n",
            "Q249      4.0\n",
            "P050      4.0\n",
            "P838      4.0\n",
            "P158      4.0\n",
            "Q692      4.0\n",
            "Q899      4.0\n",
            "P968      4.0\n",
            "Q373      4.0\n",
            "Q106      4.0\n",
            "Q700      4.0\n",
            "P072      4.0\n",
            "P701      4.0\n",
            "Q206      3.0\n",
            "Q792      3.0\n",
            "Q390      3.0\n",
            "P113      3.0\n",
            "P052      3.0\n",
            "Q031      3.0\n",
            "K429      3.0\n",
            "P969      3.0\n",
            "Q761      3.0\n",
            "Q101      3.0\n",
            "Q742      3.0\n",
            "Q666      3.0\n",
            "Q128      3.0\n",
            "Q133      3.0\n",
            "Q059      3.0\n",
            "Q833      3.0\n",
            "Q158      3.0\n",
            "Q670      3.0\n",
            "Q185      3.0\n",
            "Q559      3.0\n",
            "Q701      3.0\n",
            "Q751      2.0\n",
            "Q702      2.0\n",
            "Q665      2.0\n",
            "Q650      2.0\n",
            "Q677      2.0\n",
            "Q564      2.0\n",
            "Q718      2.0\n",
            "Q375      2.0\n",
            "Q387      2.0\n",
            "P026      2.0\n",
            "Q729      2.0\n",
            "Q740      2.0\n",
            "Q672      2.0\n",
            "Q439      2.0\n",
            "Q681      2.0\n",
            "P120      2.0\n",
            "Q163      2.0\n",
            "Q878      2.0\n",
            "Q149      2.0\n",
            "Q132      2.0\n",
            "P123      2.0\n",
            "Q113      2.0\n",
            "Q848      2.0\n",
            "Q175      2.0\n",
            "K090      2.0\n",
            "Q825      2.0\n",
            "Q105      2.0\n",
            "Q180      2.0\n",
            "P704      2.0\n",
            "Q058      2.0\n",
            "Q042      2.0\n",
            "Q187      2.0\n",
            "P240      2.0\n",
            "P159      2.0\n",
            "Q688      2.0\n",
            "P143      2.0\n",
            "Q999      2.0\n",
            "Q759      2.0\n",
            "P545      2.0\n",
            "Q928      1.0\n",
            "Q691      1.0\n",
            "Q929      1.0\n",
            "K068      1.0\n",
            "P004      1.0\n",
            "Q871      1.0\n",
            "Q703      1.0\n",
            "Q704      1.0\n",
            "N492      1.0\n",
            "Q872      1.0\n",
            "Q713      1.0\n",
            "Q868      1.0\n",
            "Q727      1.0\n",
            "Q731      1.0\n",
            "Q794      1.0\n",
            "Q793      1.0\n",
            "Q743      1.0\n",
            "Q750      1.0\n",
            "Q790      1.0\n",
            "Q764      1.0\n",
            "Q760      1.0\n",
            "P918      1.0\n",
            "Q402      1.0\n",
            "Q682      1.0\n",
            "P298      1.0\n",
            "H610      1.0\n",
            "P209      1.0\n",
            "Q212      1.0\n",
            "P241      1.0\n",
            "Q182      1.0\n",
            "P283      1.0\n",
            "P284      1.0\n",
            "P285      1.0\n",
            "P288      1.0\n",
            "P291      1.0\n",
            "Q171      1.0\n",
            "Q678      1.0\n",
            "P544      1.0\n",
            "Q165      1.0\n",
            "P548      1.0\n",
            "P550      1.0\n",
            "Q104      1.0\n",
            "Q078      1.0\n",
            "Q049      1.0\n",
            "P832      1.0\n",
            "Q019      1.0\n",
            "P917      1.0\n",
            "Q357      1.0\n",
            "P134      1.0\n",
            "P129      1.0\n",
            "P101      1.0\n",
            "Q675      1.0\n",
            "P013      1.0\n",
            "P025      1.0\n",
            "Q658      1.0\n",
            "Q648      1.0\n",
            "Q641      1.0\n",
            "Q638      1.0\n",
            "Q613      1.0\n",
            "Q600      1.0\n",
            "Q561      1.0\n",
            "Q558      1.0\n",
            "Q550      1.0\n",
            "P038      1.0\n",
            "Q528      1.0\n",
            "Q526      1.0\n",
            "P051      1.0\n",
            "Q421      1.0\n",
            "P942      1.0\n",
            "Q400      1.0\n",
            "Q383      1.0\n",
            "P080      1.0\n",
            "R220      1.0\n",
            "dtype: float64\n"
          ]
        }
      ]
    },
    {
      "cell_type": "code",
      "source": [],
      "metadata": {
        "id": "B47_CAO_Ylfi"
      },
      "execution_count": 77,
      "outputs": []
    }
  ]
}