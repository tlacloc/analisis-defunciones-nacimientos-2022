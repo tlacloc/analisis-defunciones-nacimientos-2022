{
  "nbformat": 4,
  "nbformat_minor": 0,
  "metadata": {
    "colab": {
      "provenance": [],
      "include_colab_link": true
    },
    "kernelspec": {
      "name": "python3",
      "display_name": "Python 3"
    },
    "language_info": {
      "name": "python"
    }
  },
  "cells": [
    {
      "cell_type": "markdown",
      "metadata": {
        "id": "view-in-github",
        "colab_type": "text"
      },
      "source": [
        "<a href=\"https://colab.research.google.com/github/tlacloc/analisis-defunciones-nacimientos-2022/blob/main/2018_nacimientos.ipynb\" target=\"_parent\"><img src=\"https://colab.research.google.com/assets/colab-badge.svg\" alt=\"Open In Colab\"/></a>"
      ]
    },
    {
      "cell_type": "code",
      "execution_count": 1,
      "metadata": {
        "id": "XEFiPVYg8n_c",
        "colab": {
          "base_uri": "https://localhost:8080/"
        },
        "outputId": "699597c0-2304-407e-e19a-df089c545007"
      },
      "outputs": [
        {
          "output_type": "stream",
          "name": "stdout",
          "text": [
            "Mounted at /content/drive\n"
          ]
        }
      ],
      "source": [
        " # Libreria para cargar nuestro drive\n",
        "from google.colab import drive\n",
        "\n",
        "# Cargamos nuestro drive en nuestro notebook\n",
        "drive.mount('/content/drive')"
      ]
    },
    {
      "cell_type": "code",
      "source": [
        "!ls \"/content/drive/MyDrive/Colab Notebooks\""
      ],
      "metadata": {
        "id": "s0_2p8W7m6YK",
        "colab": {
          "base_uri": "https://localhost:8080/"
        },
        "outputId": "06325de0-1557-4949-d020-6a37a41ce687"
      },
      "execution_count": 2,
      "outputs": [
        {
          "output_type": "stream",
          "name": "stdout",
          "text": [
            "'Copy of SDC11_actividad1_Badillo_Casanova.ipynb'   SDC_12\t\t test.ipynb\n",
            "'EVC Hackathon Files'\t\t\t\t    SDC_13\t\t Untitled0.ipynb\n",
            " Image\t\t\t\t\t\t    SDC_14\t\t Untitled1.ipynb\n",
            " miriam\t\t\t\t\t\t    SDC_15\t\t Vero\n",
            " SCD_12_Erick_Casanova.ipynb\t\t\t    test-forvero.ipynb\t Visualizacion\n"
          ]
        }
      ]
    },
    {
      "cell_type": "code",
      "source": [
        "# Librerias de ayuda\n",
        "import numpy as np\n",
        "import pandas as pd\n",
        "from scipy.stats import ttest_ind\n",
        "import matplotlib.pyplot as plt\n",
        "import seaborn as sns\n",
        "\n",
        "year = '2018'\n",
        "year_key = {\n",
        "    '2022': 5,\n",
        "    '2021': 4,\n",
        "    '2020': 3,\n",
        "    '2019': 2,\n",
        "    '2018': 1\n",
        "}"
      ],
      "metadata": {
        "id": "Ke_GCaginBra"
      },
      "execution_count": 3,
      "outputs": []
    },
    {
      "cell_type": "code",
      "source": [
        "fileName = '/content/drive/My Drive/Colab Notebooks/miriam/nacimientos_' + year + '.csv'\n",
        "df = pd.read_csv(fileName, low_memory=False)\n",
        "df.head(10)"
      ],
      "metadata": {
        "colab": {
          "base_uri": "https://localhost:8080/",
          "height": 430
        },
        "id": "E1NbIP53nD3y",
        "outputId": "8713febb-8c7b-4d37-daca-6ac31496aa20"
      },
      "execution_count": 4,
      "outputs": [
        {
          "output_type": "execute_result",
          "data": {
            "text/plain": [
              "   Unnamed: 0  CEDOCVE  ENT_NACM  MPO_NACM   FECH_NACM  EDADM  CON_INDM  \\\n",
              "0           1       19        30       999  10/09/1998     19         2   \n",
              "1           2       19        24        13  08/01/1995     23         1   \n",
              "2           3       19        19        46  19/06/1990     28         2   \n",
              "3           4       19        30       999  12/02/1995     23         2   \n",
              "4           5       19        19        39  05/11/1994     23         2   \n",
              "5           6       19        19        39  27/02/1992     26         2   \n",
              "6           7       19        19        26  04/11/1993     24         1   \n",
              "7           8       19        30        94  13/06/1981     37         2   \n",
              "8           9       19        12       999  26/01/1992     26         2   \n",
              "9          10       19        19        39  16/12/1994     23         2   \n",
              "\n",
              "   HABLA_INDM  CUAL_LENGM  EDOCIVIL  ...  TIPOVIAL_CERT  TIPOASEN_CERT  \\\n",
              "0           2        9999        15  ...              3              0   \n",
              "1           2        9999        11  ...              3              0   \n",
              "2           2        9999        15  ...              3              0   \n",
              "3           2        9999        15  ...              3              0   \n",
              "4           2        9999        11  ...              3              0   \n",
              "5           2        9999        11  ...              3              0   \n",
              "6           2        9999        99  ...              3              0   \n",
              "7           2        9999        15  ...              3              0   \n",
              "8           2        9999        11  ...              3              7   \n",
              "9           2        9999        11  ...              3              7   \n",
              "\n",
              "   ENT_CERT  MPO_CERT  LOC_CERT   FECH_CERT   FECH_ALTA  FECH_CAMB  IDCAPTURA  \\\n",
              "0        19         6         1  13/08/2018  17/08/2018        NaN        NaN   \n",
              "1        19         6         1  13/08/2018  29/08/2018        NaN        NaN   \n",
              "2        19         6         1  13/08/2018  17/08/2018        NaN        NaN   \n",
              "3        19         6         1  13/08/2018  30/10/2018        NaN        NaN   \n",
              "4        19         6         1  13/08/2018  30/10/2018        NaN        NaN   \n",
              "5        19         6         1  13/08/2018  20/08/2018        NaN        NaN   \n",
              "6        19         6         1  13/08/2018  29/08/2018        NaN        NaN   \n",
              "7        19         6         1  13/08/2018  30/10/2018        NaN        NaN   \n",
              "8        19        39         1  18/09/2018  10/06/2018        NaN        1.0   \n",
              "9        19        39         1  19/09/2018  10/06/2018        NaN        1.0   \n",
              "\n",
              "   TIPO_FORMATO  \n",
              "0        2015.0  \n",
              "1        2015.0  \n",
              "2        2015.0  \n",
              "3        2015.0  \n",
              "4        2015.0  \n",
              "5        2015.0  \n",
              "6        2015.0  \n",
              "7        2015.0  \n",
              "8        2015.0  \n",
              "9        2015.0  \n",
              "\n",
              "[10 rows x 77 columns]"
            ],
            "text/html": [
              "\n",
              "  <div id=\"df-c915c11d-7686-40fb-a80b-302124d5c20c\" class=\"colab-df-container\">\n",
              "    <div>\n",
              "<style scoped>\n",
              "    .dataframe tbody tr th:only-of-type {\n",
              "        vertical-align: middle;\n",
              "    }\n",
              "\n",
              "    .dataframe tbody tr th {\n",
              "        vertical-align: top;\n",
              "    }\n",
              "\n",
              "    .dataframe thead th {\n",
              "        text-align: right;\n",
              "    }\n",
              "</style>\n",
              "<table border=\"1\" class=\"dataframe\">\n",
              "  <thead>\n",
              "    <tr style=\"text-align: right;\">\n",
              "      <th></th>\n",
              "      <th>Unnamed: 0</th>\n",
              "      <th>CEDOCVE</th>\n",
              "      <th>ENT_NACM</th>\n",
              "      <th>MPO_NACM</th>\n",
              "      <th>FECH_NACM</th>\n",
              "      <th>EDADM</th>\n",
              "      <th>CON_INDM</th>\n",
              "      <th>HABLA_INDM</th>\n",
              "      <th>CUAL_LENGM</th>\n",
              "      <th>EDOCIVIL</th>\n",
              "      <th>...</th>\n",
              "      <th>TIPOVIAL_CERT</th>\n",
              "      <th>TIPOASEN_CERT</th>\n",
              "      <th>ENT_CERT</th>\n",
              "      <th>MPO_CERT</th>\n",
              "      <th>LOC_CERT</th>\n",
              "      <th>FECH_CERT</th>\n",
              "      <th>FECH_ALTA</th>\n",
              "      <th>FECH_CAMB</th>\n",
              "      <th>IDCAPTURA</th>\n",
              "      <th>TIPO_FORMATO</th>\n",
              "    </tr>\n",
              "  </thead>\n",
              "  <tbody>\n",
              "    <tr>\n",
              "      <th>0</th>\n",
              "      <td>1</td>\n",
              "      <td>19</td>\n",
              "      <td>30</td>\n",
              "      <td>999</td>\n",
              "      <td>10/09/1998</td>\n",
              "      <td>19</td>\n",
              "      <td>2</td>\n",
              "      <td>2</td>\n",
              "      <td>9999</td>\n",
              "      <td>15</td>\n",
              "      <td>...</td>\n",
              "      <td>3</td>\n",
              "      <td>0</td>\n",
              "      <td>19</td>\n",
              "      <td>6</td>\n",
              "      <td>1</td>\n",
              "      <td>13/08/2018</td>\n",
              "      <td>17/08/2018</td>\n",
              "      <td>NaN</td>\n",
              "      <td>NaN</td>\n",
              "      <td>2015.0</td>\n",
              "    </tr>\n",
              "    <tr>\n",
              "      <th>1</th>\n",
              "      <td>2</td>\n",
              "      <td>19</td>\n",
              "      <td>24</td>\n",
              "      <td>13</td>\n",
              "      <td>08/01/1995</td>\n",
              "      <td>23</td>\n",
              "      <td>1</td>\n",
              "      <td>2</td>\n",
              "      <td>9999</td>\n",
              "      <td>11</td>\n",
              "      <td>...</td>\n",
              "      <td>3</td>\n",
              "      <td>0</td>\n",
              "      <td>19</td>\n",
              "      <td>6</td>\n",
              "      <td>1</td>\n",
              "      <td>13/08/2018</td>\n",
              "      <td>29/08/2018</td>\n",
              "      <td>NaN</td>\n",
              "      <td>NaN</td>\n",
              "      <td>2015.0</td>\n",
              "    </tr>\n",
              "    <tr>\n",
              "      <th>2</th>\n",
              "      <td>3</td>\n",
              "      <td>19</td>\n",
              "      <td>19</td>\n",
              "      <td>46</td>\n",
              "      <td>19/06/1990</td>\n",
              "      <td>28</td>\n",
              "      <td>2</td>\n",
              "      <td>2</td>\n",
              "      <td>9999</td>\n",
              "      <td>15</td>\n",
              "      <td>...</td>\n",
              "      <td>3</td>\n",
              "      <td>0</td>\n",
              "      <td>19</td>\n",
              "      <td>6</td>\n",
              "      <td>1</td>\n",
              "      <td>13/08/2018</td>\n",
              "      <td>17/08/2018</td>\n",
              "      <td>NaN</td>\n",
              "      <td>NaN</td>\n",
              "      <td>2015.0</td>\n",
              "    </tr>\n",
              "    <tr>\n",
              "      <th>3</th>\n",
              "      <td>4</td>\n",
              "      <td>19</td>\n",
              "      <td>30</td>\n",
              "      <td>999</td>\n",
              "      <td>12/02/1995</td>\n",
              "      <td>23</td>\n",
              "      <td>2</td>\n",
              "      <td>2</td>\n",
              "      <td>9999</td>\n",
              "      <td>15</td>\n",
              "      <td>...</td>\n",
              "      <td>3</td>\n",
              "      <td>0</td>\n",
              "      <td>19</td>\n",
              "      <td>6</td>\n",
              "      <td>1</td>\n",
              "      <td>13/08/2018</td>\n",
              "      <td>30/10/2018</td>\n",
              "      <td>NaN</td>\n",
              "      <td>NaN</td>\n",
              "      <td>2015.0</td>\n",
              "    </tr>\n",
              "    <tr>\n",
              "      <th>4</th>\n",
              "      <td>5</td>\n",
              "      <td>19</td>\n",
              "      <td>19</td>\n",
              "      <td>39</td>\n",
              "      <td>05/11/1994</td>\n",
              "      <td>23</td>\n",
              "      <td>2</td>\n",
              "      <td>2</td>\n",
              "      <td>9999</td>\n",
              "      <td>11</td>\n",
              "      <td>...</td>\n",
              "      <td>3</td>\n",
              "      <td>0</td>\n",
              "      <td>19</td>\n",
              "      <td>6</td>\n",
              "      <td>1</td>\n",
              "      <td>13/08/2018</td>\n",
              "      <td>30/10/2018</td>\n",
              "      <td>NaN</td>\n",
              "      <td>NaN</td>\n",
              "      <td>2015.0</td>\n",
              "    </tr>\n",
              "    <tr>\n",
              "      <th>5</th>\n",
              "      <td>6</td>\n",
              "      <td>19</td>\n",
              "      <td>19</td>\n",
              "      <td>39</td>\n",
              "      <td>27/02/1992</td>\n",
              "      <td>26</td>\n",
              "      <td>2</td>\n",
              "      <td>2</td>\n",
              "      <td>9999</td>\n",
              "      <td>11</td>\n",
              "      <td>...</td>\n",
              "      <td>3</td>\n",
              "      <td>0</td>\n",
              "      <td>19</td>\n",
              "      <td>6</td>\n",
              "      <td>1</td>\n",
              "      <td>13/08/2018</td>\n",
              "      <td>20/08/2018</td>\n",
              "      <td>NaN</td>\n",
              "      <td>NaN</td>\n",
              "      <td>2015.0</td>\n",
              "    </tr>\n",
              "    <tr>\n",
              "      <th>6</th>\n",
              "      <td>7</td>\n",
              "      <td>19</td>\n",
              "      <td>19</td>\n",
              "      <td>26</td>\n",
              "      <td>04/11/1993</td>\n",
              "      <td>24</td>\n",
              "      <td>1</td>\n",
              "      <td>2</td>\n",
              "      <td>9999</td>\n",
              "      <td>99</td>\n",
              "      <td>...</td>\n",
              "      <td>3</td>\n",
              "      <td>0</td>\n",
              "      <td>19</td>\n",
              "      <td>6</td>\n",
              "      <td>1</td>\n",
              "      <td>13/08/2018</td>\n",
              "      <td>29/08/2018</td>\n",
              "      <td>NaN</td>\n",
              "      <td>NaN</td>\n",
              "      <td>2015.0</td>\n",
              "    </tr>\n",
              "    <tr>\n",
              "      <th>7</th>\n",
              "      <td>8</td>\n",
              "      <td>19</td>\n",
              "      <td>30</td>\n",
              "      <td>94</td>\n",
              "      <td>13/06/1981</td>\n",
              "      <td>37</td>\n",
              "      <td>2</td>\n",
              "      <td>2</td>\n",
              "      <td>9999</td>\n",
              "      <td>15</td>\n",
              "      <td>...</td>\n",
              "      <td>3</td>\n",
              "      <td>0</td>\n",
              "      <td>19</td>\n",
              "      <td>6</td>\n",
              "      <td>1</td>\n",
              "      <td>13/08/2018</td>\n",
              "      <td>30/10/2018</td>\n",
              "      <td>NaN</td>\n",
              "      <td>NaN</td>\n",
              "      <td>2015.0</td>\n",
              "    </tr>\n",
              "    <tr>\n",
              "      <th>8</th>\n",
              "      <td>9</td>\n",
              "      <td>19</td>\n",
              "      <td>12</td>\n",
              "      <td>999</td>\n",
              "      <td>26/01/1992</td>\n",
              "      <td>26</td>\n",
              "      <td>2</td>\n",
              "      <td>2</td>\n",
              "      <td>9999</td>\n",
              "      <td>11</td>\n",
              "      <td>...</td>\n",
              "      <td>3</td>\n",
              "      <td>7</td>\n",
              "      <td>19</td>\n",
              "      <td>39</td>\n",
              "      <td>1</td>\n",
              "      <td>18/09/2018</td>\n",
              "      <td>10/06/2018</td>\n",
              "      <td>NaN</td>\n",
              "      <td>1.0</td>\n",
              "      <td>2015.0</td>\n",
              "    </tr>\n",
              "    <tr>\n",
              "      <th>9</th>\n",
              "      <td>10</td>\n",
              "      <td>19</td>\n",
              "      <td>19</td>\n",
              "      <td>39</td>\n",
              "      <td>16/12/1994</td>\n",
              "      <td>23</td>\n",
              "      <td>2</td>\n",
              "      <td>2</td>\n",
              "      <td>9999</td>\n",
              "      <td>11</td>\n",
              "      <td>...</td>\n",
              "      <td>3</td>\n",
              "      <td>7</td>\n",
              "      <td>19</td>\n",
              "      <td>39</td>\n",
              "      <td>1</td>\n",
              "      <td>19/09/2018</td>\n",
              "      <td>10/06/2018</td>\n",
              "      <td>NaN</td>\n",
              "      <td>1.0</td>\n",
              "      <td>2015.0</td>\n",
              "    </tr>\n",
              "  </tbody>\n",
              "</table>\n",
              "<p>10 rows × 77 columns</p>\n",
              "</div>\n",
              "    <div class=\"colab-df-buttons\">\n",
              "\n",
              "  <div class=\"colab-df-container\">\n",
              "    <button class=\"colab-df-convert\" onclick=\"convertToInteractive('df-c915c11d-7686-40fb-a80b-302124d5c20c')\"\n",
              "            title=\"Convert this dataframe to an interactive table.\"\n",
              "            style=\"display:none;\">\n",
              "\n",
              "  <svg xmlns=\"http://www.w3.org/2000/svg\" height=\"24px\" viewBox=\"0 -960 960 960\">\n",
              "    <path d=\"M120-120v-720h720v720H120Zm60-500h600v-160H180v160Zm220 220h160v-160H400v160Zm0 220h160v-160H400v160ZM180-400h160v-160H180v160Zm440 0h160v-160H620v160ZM180-180h160v-160H180v160Zm440 0h160v-160H620v160Z\"/>\n",
              "  </svg>\n",
              "    </button>\n",
              "\n",
              "  <style>\n",
              "    .colab-df-container {\n",
              "      display:flex;\n",
              "      gap: 12px;\n",
              "    }\n",
              "\n",
              "    .colab-df-convert {\n",
              "      background-color: #E8F0FE;\n",
              "      border: none;\n",
              "      border-radius: 50%;\n",
              "      cursor: pointer;\n",
              "      display: none;\n",
              "      fill: #1967D2;\n",
              "      height: 32px;\n",
              "      padding: 0 0 0 0;\n",
              "      width: 32px;\n",
              "    }\n",
              "\n",
              "    .colab-df-convert:hover {\n",
              "      background-color: #E2EBFA;\n",
              "      box-shadow: 0px 1px 2px rgba(60, 64, 67, 0.3), 0px 1px 3px 1px rgba(60, 64, 67, 0.15);\n",
              "      fill: #174EA6;\n",
              "    }\n",
              "\n",
              "    .colab-df-buttons div {\n",
              "      margin-bottom: 4px;\n",
              "    }\n",
              "\n",
              "    [theme=dark] .colab-df-convert {\n",
              "      background-color: #3B4455;\n",
              "      fill: #D2E3FC;\n",
              "    }\n",
              "\n",
              "    [theme=dark] .colab-df-convert:hover {\n",
              "      background-color: #434B5C;\n",
              "      box-shadow: 0px 1px 3px 1px rgba(0, 0, 0, 0.15);\n",
              "      filter: drop-shadow(0px 1px 2px rgba(0, 0, 0, 0.3));\n",
              "      fill: #FFFFFF;\n",
              "    }\n",
              "  </style>\n",
              "\n",
              "    <script>\n",
              "      const buttonEl =\n",
              "        document.querySelector('#df-c915c11d-7686-40fb-a80b-302124d5c20c button.colab-df-convert');\n",
              "      buttonEl.style.display =\n",
              "        google.colab.kernel.accessAllowed ? 'block' : 'none';\n",
              "\n",
              "      async function convertToInteractive(key) {\n",
              "        const element = document.querySelector('#df-c915c11d-7686-40fb-a80b-302124d5c20c');\n",
              "        const dataTable =\n",
              "          await google.colab.kernel.invokeFunction('convertToInteractive',\n",
              "                                                    [key], {});\n",
              "        if (!dataTable) return;\n",
              "\n",
              "        const docLinkHtml = 'Like what you see? Visit the ' +\n",
              "          '<a target=\"_blank\" href=https://colab.research.google.com/notebooks/data_table.ipynb>data table notebook</a>'\n",
              "          + ' to learn more about interactive tables.';\n",
              "        element.innerHTML = '';\n",
              "        dataTable['output_type'] = 'display_data';\n",
              "        await google.colab.output.renderOutput(dataTable, element);\n",
              "        const docLink = document.createElement('div');\n",
              "        docLink.innerHTML = docLinkHtml;\n",
              "        element.appendChild(docLink);\n",
              "      }\n",
              "    </script>\n",
              "  </div>\n",
              "\n",
              "\n",
              "<div id=\"df-8871ca01-51bb-459e-9e62-fe7ea718497e\">\n",
              "  <button class=\"colab-df-quickchart\" onclick=\"quickchart('df-8871ca01-51bb-459e-9e62-fe7ea718497e')\"\n",
              "            title=\"Suggest charts\"\n",
              "            style=\"display:none;\">\n",
              "\n",
              "<svg xmlns=\"http://www.w3.org/2000/svg\" height=\"24px\"viewBox=\"0 0 24 24\"\n",
              "     width=\"24px\">\n",
              "    <g>\n",
              "        <path d=\"M19 3H5c-1.1 0-2 .9-2 2v14c0 1.1.9 2 2 2h14c1.1 0 2-.9 2-2V5c0-1.1-.9-2-2-2zM9 17H7v-7h2v7zm4 0h-2V7h2v10zm4 0h-2v-4h2v4z\"/>\n",
              "    </g>\n",
              "</svg>\n",
              "  </button>\n",
              "\n",
              "<style>\n",
              "  .colab-df-quickchart {\n",
              "      --bg-color: #E8F0FE;\n",
              "      --fill-color: #1967D2;\n",
              "      --hover-bg-color: #E2EBFA;\n",
              "      --hover-fill-color: #174EA6;\n",
              "      --disabled-fill-color: #AAA;\n",
              "      --disabled-bg-color: #DDD;\n",
              "  }\n",
              "\n",
              "  [theme=dark] .colab-df-quickchart {\n",
              "      --bg-color: #3B4455;\n",
              "      --fill-color: #D2E3FC;\n",
              "      --hover-bg-color: #434B5C;\n",
              "      --hover-fill-color: #FFFFFF;\n",
              "      --disabled-bg-color: #3B4455;\n",
              "      --disabled-fill-color: #666;\n",
              "  }\n",
              "\n",
              "  .colab-df-quickchart {\n",
              "    background-color: var(--bg-color);\n",
              "    border: none;\n",
              "    border-radius: 50%;\n",
              "    cursor: pointer;\n",
              "    display: none;\n",
              "    fill: var(--fill-color);\n",
              "    height: 32px;\n",
              "    padding: 0;\n",
              "    width: 32px;\n",
              "  }\n",
              "\n",
              "  .colab-df-quickchart:hover {\n",
              "    background-color: var(--hover-bg-color);\n",
              "    box-shadow: 0 1px 2px rgba(60, 64, 67, 0.3), 0 1px 3px 1px rgba(60, 64, 67, 0.15);\n",
              "    fill: var(--button-hover-fill-color);\n",
              "  }\n",
              "\n",
              "  .colab-df-quickchart-complete:disabled,\n",
              "  .colab-df-quickchart-complete:disabled:hover {\n",
              "    background-color: var(--disabled-bg-color);\n",
              "    fill: var(--disabled-fill-color);\n",
              "    box-shadow: none;\n",
              "  }\n",
              "\n",
              "  .colab-df-spinner {\n",
              "    border: 2px solid var(--fill-color);\n",
              "    border-color: transparent;\n",
              "    border-bottom-color: var(--fill-color);\n",
              "    animation:\n",
              "      spin 1s steps(1) infinite;\n",
              "  }\n",
              "\n",
              "  @keyframes spin {\n",
              "    0% {\n",
              "      border-color: transparent;\n",
              "      border-bottom-color: var(--fill-color);\n",
              "      border-left-color: var(--fill-color);\n",
              "    }\n",
              "    20% {\n",
              "      border-color: transparent;\n",
              "      border-left-color: var(--fill-color);\n",
              "      border-top-color: var(--fill-color);\n",
              "    }\n",
              "    30% {\n",
              "      border-color: transparent;\n",
              "      border-left-color: var(--fill-color);\n",
              "      border-top-color: var(--fill-color);\n",
              "      border-right-color: var(--fill-color);\n",
              "    }\n",
              "    40% {\n",
              "      border-color: transparent;\n",
              "      border-right-color: var(--fill-color);\n",
              "      border-top-color: var(--fill-color);\n",
              "    }\n",
              "    60% {\n",
              "      border-color: transparent;\n",
              "      border-right-color: var(--fill-color);\n",
              "    }\n",
              "    80% {\n",
              "      border-color: transparent;\n",
              "      border-right-color: var(--fill-color);\n",
              "      border-bottom-color: var(--fill-color);\n",
              "    }\n",
              "    90% {\n",
              "      border-color: transparent;\n",
              "      border-bottom-color: var(--fill-color);\n",
              "    }\n",
              "  }\n",
              "</style>\n",
              "\n",
              "  <script>\n",
              "    async function quickchart(key) {\n",
              "      const quickchartButtonEl =\n",
              "        document.querySelector('#' + key + ' button');\n",
              "      quickchartButtonEl.disabled = true;  // To prevent multiple clicks.\n",
              "      quickchartButtonEl.classList.add('colab-df-spinner');\n",
              "      try {\n",
              "        const charts = await google.colab.kernel.invokeFunction(\n",
              "            'suggestCharts', [key], {});\n",
              "      } catch (error) {\n",
              "        console.error('Error during call to suggestCharts:', error);\n",
              "      }\n",
              "      quickchartButtonEl.classList.remove('colab-df-spinner');\n",
              "      quickchartButtonEl.classList.add('colab-df-quickchart-complete');\n",
              "    }\n",
              "    (() => {\n",
              "      let quickchartButtonEl =\n",
              "        document.querySelector('#df-8871ca01-51bb-459e-9e62-fe7ea718497e button');\n",
              "      quickchartButtonEl.style.display =\n",
              "        google.colab.kernel.accessAllowed ? 'block' : 'none';\n",
              "    })();\n",
              "  </script>\n",
              "</div>\n",
              "\n",
              "    </div>\n",
              "  </div>\n"
            ]
          },
          "metadata": {},
          "execution_count": 4
        }
      ]
    },
    {
      "cell_type": "code",
      "source": [
        "oldColumns = df.columns\n",
        "oldColumns"
      ],
      "metadata": {
        "colab": {
          "base_uri": "https://localhost:8080/"
        },
        "id": "zZO-pG3Tu82u",
        "outputId": "767f7a47-ceee-4db1-a615-378743ae793e"
      },
      "execution_count": 5,
      "outputs": [
        {
          "output_type": "execute_result",
          "data": {
            "text/plain": [
              "Index(['Unnamed: 0', 'CEDOCVE', 'ENT_NACM', 'MPO_NACM', 'FECH_NACM', 'EDADM',\n",
              "       'CON_INDM', 'HABLA_INDM', 'CUAL_LENGM', 'EDOCIVIL', 'TIPOVIAL_RES',\n",
              "       'TIPOASEN_RES', 'ENT_RES', 'MPO_RES', 'LOC_RES', 'NUM_EMB',\n",
              "       'NUM_NACMTO', 'NUM_NACVIVO', 'HIJO_SOBV', 'HIJO_ANTE', 'VIVE_AUN',\n",
              "       'ORDEN_NAC', 'ATEN_PREN', 'TRIM_CONS', 'TOT_CONS', 'SOB_PARTO',\n",
              "       'DERHAB', 'DERHAB2', 'NIV_ESCOL', 'OCUPHAB', 'CVEOCUPHAB', 'TRAB_ACT',\n",
              "       'FECH_NACH', 'HORA_NACH', 'SEXOH', 'GESTACH', 'TALLAH', 'PESOH',\n",
              "       'APGARH', 'SILVERMAN', 'BCG', 'HEP_B', 'VIT_A', 'VIT_K', 'TAM_AUD',\n",
              "       'PRODUCTO', 'ACELRN', 'CVE_CIE', 'ACELRN2', 'CVE_CIE2', 'PROCNAC',\n",
              "       'FORCEPS', 'ESPECIFIQUE', 'INST_NAC', 'UNIMED', 'CLUES', 'ATENDIO',\n",
              "       'ATEN_OTRO', 'TIPOVIAL_NAC', 'TIPOASEN_NAC', 'ENT_NAC', 'MPO_NAC',\n",
              "       'LOC_NAC', 'CERT_POR', 'OTROMEDICO', 'UNIMED_33_1', 'CLUES_33_2',\n",
              "       'TIPOVIAL_CERT', 'TIPOASEN_CERT', 'ENT_CERT', 'MPO_CERT', 'LOC_CERT',\n",
              "       'FECH_CERT', 'FECH_ALTA', 'FECH_CAMB', 'IDCAPTURA', 'TIPO_FORMATO'],\n",
              "      dtype='object')"
            ]
          },
          "metadata": {},
          "execution_count": 5
        }
      ]
    },
    {
      "cell_type": "markdown",
      "source": [
        "Renombrando columnas para relacionarlas con los a~os mas actuales"
      ],
      "metadata": {
        "id": "RpVj6WSheAbF"
      }
    },
    {
      "cell_type": "code",
      "source": [
        "df.rename(columns = {'TAM_AUD':'TAMIZAUDITIVO'}, inplace = True)\n",
        "df.rename(columns = {'HIJO_SOBV':'HIJOSSOBREVIVIENTES'}, inplace = True)\n",
        "df.rename(columns = {'FECH_NACH':'FECHANACIMIENTO'}, inplace = True)\n",
        "df.rename(columns = {'ORDEN_NAC':'ORDENNACIMIENTO'}, inplace = True)\n",
        "df.rename(columns = {'ENT_NAC':'ENTIDADNACIMIENTO'}, inplace = True)\n",
        "df.rename(columns = {'MPO_NACM':'MUNICIPIONACIMIENTO'}, inplace = True)\n",
        "df.rename(columns = {'CON_INDM':'SECONSIDERAINDIGENA'}, inplace = True)\n",
        "df.rename(columns = {'HABLA_INDM':'HABLALENGUAINDIGENA'}, inplace = True)\n",
        "df.rename(columns = {'FECH_NACM':'FECHANACIMIENTOMADRE'}, inplace = True)\n",
        "df.rename(columns = {'EDOCIVIL':'ESTADOCONYUGAL'}, inplace = True)\n",
        "df.rename(columns = {'ENT_RES':'ENTIDADRESIDENCIA'}, inplace = True)\n",
        "df.rename(columns = {'MPO_RES':'MUNICIPIORESIDENCIA'}, inplace = True)\n",
        "df.rename(columns = {'LOC_RES':'LOCALIDADRESIDENCIA'}, inplace = True)\n",
        "df.rename(columns = {'NUM_NACVIVO':'HIJOSNACIDOSVIVOS'}, inplace = True)\n",
        "df.rename(columns = {'HIJO_ANTE':'CONDICIONHIJOANTERIOR'}, inplace = True)\n",
        "df.rename(columns = {'VIVE_AUN':'VIVEHIJOANTERIOR'}, inplace = True)\n",
        "df.rename(columns = {'CVEOCUPHAB':'CLAVEOCUPACIONHABITUAL'}, inplace = True)\n",
        "df.rename(columns = {'TRAB_ACT':'TRABAJAACTUALMENTE'}, inplace = True)\n",
        "df.rename(columns = {'HORA_NACH':'HORANACIMIENTO'}, inplace = True)\n",
        "df.rename(columns = {'BCG':'VACUNA_BCG'}, inplace = True)\n",
        "df.rename(columns = {'HEP_B':'VACUNAHEPATITIS_B'}, inplace = True)\n",
        "df.rename(columns = {'VIT_A':'VITAMINA_A'}, inplace = True)\n",
        "df.rename(columns = {'VIT_K':'VITAMINA_K'}, inplace = True)\n",
        "df.rename(columns = {'PRODUCTO':'PRODUCTOEMBARAZO'}, inplace = True)\n",
        "df.rename(columns = {'CLUES':'CLUES'}, inplace = True)\n",
        "df.rename(columns = {'FORCEPS':'UTILIZOFORCEPS'}, inplace = True)\n",
        "df.rename(columns = {'FORCEPS':'TIPOCESAREA'}, inplace = True)\n",
        "df.rename(columns = {'ATENDIO':'PERSONALATENDIO'}, inplace = True)\n",
        "df.rename(columns = {'MPO_NAC':'MUNICIPIOPARTO'}, inplace = True)\n",
        "df.rename(columns = {'LOC_NAC':'LOCALIDADPARTO'}, inplace = True)\n",
        "df.rename(columns = {'CERT_POR':'CERTIFICADOPOR'}, inplace = True)\n",
        "df.rename(columns = {'CLUES_33_2':'CLUESCERTIFICA'}, inplace = True)\n",
        "df.rename(columns = {'ENT_CERT':'ENTIDADFEDERATIVACERTIFICA'}, inplace = True)\n",
        "df.rename(columns = {'MPO_CERT':'MUNICIPIOCERTIFICA'}, inplace = True)\n",
        "df.rename(columns = {'LOC_CERT':'LOCALIDADCERTIFICA'}, inplace = True)\n",
        "df.rename(columns = {'FECH_CERT':'FECHACERTIFICADO'}, inplace = True)\n",
        "df.rename(columns = {'INST_NAC':'LUGARNACIMIENTO'}, inplace = True)"
      ],
      "metadata": {
        "id": "2PNYYTpFeGz9"
      },
      "execution_count": 6,
      "outputs": []
    },
    {
      "cell_type": "code",
      "source": [
        "oldColumns = df.columns\n",
        "oldColumns"
      ],
      "metadata": {
        "colab": {
          "base_uri": "https://localhost:8080/"
        },
        "id": "gMEUPBBJeJYr",
        "outputId": "580e8d65-d28d-4cef-87af-fd126ee6c5f5"
      },
      "execution_count": 7,
      "outputs": [
        {
          "output_type": "execute_result",
          "data": {
            "text/plain": [
              "Index(['Unnamed: 0', 'CEDOCVE', 'ENT_NACM', 'MUNICIPIONACIMIENTO',\n",
              "       'FECHANACIMIENTOMADRE', 'EDADM', 'SECONSIDERAINDIGENA',\n",
              "       'HABLALENGUAINDIGENA', 'CUAL_LENGM', 'ESTADOCONYUGAL', 'TIPOVIAL_RES',\n",
              "       'TIPOASEN_RES', 'ENTIDADRESIDENCIA', 'MUNICIPIORESIDENCIA',\n",
              "       'LOCALIDADRESIDENCIA', 'NUM_EMB', 'NUM_NACMTO', 'HIJOSNACIDOSVIVOS',\n",
              "       'HIJOSSOBREVIVIENTES', 'CONDICIONHIJOANTERIOR', 'VIVEHIJOANTERIOR',\n",
              "       'ORDENNACIMIENTO', 'ATEN_PREN', 'TRIM_CONS', 'TOT_CONS', 'SOB_PARTO',\n",
              "       'DERHAB', 'DERHAB2', 'NIV_ESCOL', 'OCUPHAB', 'CLAVEOCUPACIONHABITUAL',\n",
              "       'TRABAJAACTUALMENTE', 'FECHANACIMIENTO', 'HORANACIMIENTO', 'SEXOH',\n",
              "       'GESTACH', 'TALLAH', 'PESOH', 'APGARH', 'SILVERMAN', 'VACUNA_BCG',\n",
              "       'VACUNAHEPATITIS_B', 'VITAMINA_A', 'VITAMINA_K', 'TAMIZAUDITIVO',\n",
              "       'PRODUCTOEMBARAZO', 'ACELRN', 'CVE_CIE', 'ACELRN2', 'CVE_CIE2',\n",
              "       'PROCNAC', 'UTILIZOFORCEPS', 'ESPECIFIQUE', 'LUGARNACIMIENTO', 'UNIMED',\n",
              "       'CLUES', 'PERSONALATENDIO', 'ATEN_OTRO', 'TIPOVIAL_NAC', 'TIPOASEN_NAC',\n",
              "       'ENTIDADNACIMIENTO', 'MUNICIPIOPARTO', 'LOCALIDADPARTO',\n",
              "       'CERTIFICADOPOR', 'OTROMEDICO', 'UNIMED_33_1', 'CLUESCERTIFICA',\n",
              "       'TIPOVIAL_CERT', 'TIPOASEN_CERT', 'ENTIDADFEDERATIVACERTIFICA',\n",
              "       'MUNICIPIOCERTIFICA', 'LOCALIDADCERTIFICA', 'FECHACERTIFICADO',\n",
              "       'FECH_ALTA', 'FECH_CAMB', 'IDCAPTURA', 'TIPO_FORMATO'],\n",
              "      dtype='object')"
            ]
          },
          "metadata": {},
          "execution_count": 7
        }
      ]
    },
    {
      "cell_type": "code",
      "source": [
        "df.rename(columns = {'EDADM':'EDAD'}, inplace = True)\n",
        "df.rename(columns = {'NUM_EMB':'NUMEROEMBARAZOS'}, inplace = True)\n",
        "df.rename(columns = {'NUM_NACMTO':'HIJOSNACIDOSMUERTOS'}, inplace = True)\n",
        "df.rename(columns = {'ATEN_PREN':'ATENCIONPRENATAL'}, inplace = True)\n",
        "df.rename(columns = {'TRIM_CONS':'TRIMESTREPRIMERCONSULTA'}, inplace = True)\n",
        "df.rename(columns = {'TOT_CONS':'TOTALCONSULTAS'}, inplace = True)\n",
        "df.rename(columns = {'SOB_PARTO':'SOBREVIVIOPARTO'}, inplace = True)\n",
        "df.rename(columns = {'NIV_ESCOL':'ESCOLARIDAD'}, inplace = True)\n",
        "df.rename(columns = {'SEXOH':'SEXO'}, inplace = True)\n",
        "df.rename(columns = {'GESTACH':'EDADGESTACIONAL'}, inplace = True)\n",
        "df.rename(columns = {'TALLAH':'TALLA'}, inplace = True)\n",
        "df.rename(columns = {'PESOH':'PESO'}, inplace = True)\n",
        "df.rename(columns = {'APGARH':'APGAR'}, inplace = True)\n",
        "df.rename(columns = {'PRODUCTO':'PRODUCTOEMBARAZO'}, inplace = True)\n",
        "df.rename(columns = {'CVE_CIE':'CODIGOCIEANOMALIA1'}, inplace = True)\n",
        "df.rename(columns = {'CVE_CIE2':'CODIGOCIEANOMALIA2'}, inplace = True)\n",
        "df.rename(columns = {'PROCNAC':'RESOLUCIONEMBARAZO'}, inplace = True)\n",
        "df.rename(columns = {'ENT_NACM':'ENTIDADFEDERATIVAPARTO'}, inplace = True)"
      ],
      "metadata": {
        "id": "5dVmwh5-eNA7"
      },
      "execution_count": 8,
      "outputs": []
    },
    {
      "cell_type": "markdown",
      "source": [
        "Variables que sd van a utilizar"
      ],
      "metadata": {
        "id": "8bYl99CXwYNU"
      }
    },
    {
      "cell_type": "code",
      "source": [
        "# Limpieza de datos\n",
        "# Se eliminaran las columnas que no se utilizaran\n",
        "['ENTIDADFEDERATIVAPARTO', 'EDAD',\n",
        "       'TIPOVIAL_RES', 'TIPOASEN_RES', 'NUMEROEMBARAZOS',\n",
        "       'HIJOSNACIDOSMUERTOS', 'ATENCIONPRENATAL', 'TRIMESTREPRIMERCONSULTA',\n",
        "       'TOTALCONSULTAS', 'SOBREVIVIOPARTO', 'DERHAB', 'DERHAB2', 'ESCOLARIDAD',\n",
        "       'OCUPHAB', 'FECHANACIMIENTO', 'SEXO', 'EDADGESTACIONAL', 'TALLA',\n",
        "       'PESO', 'APGAR', 'SILVERMAN', 'ACELRN', 'CODIGOCIEANOMALIA1', 'ACELRN2',\n",
        "       'CODIGOCIEANOMALIA2', 'RESOLUCIONEMBARAZO', 'ESPECIFIQUE', 'UNIMED',\n",
        "       'ATEN_OTRO', 'TIPOVIAL_NAC', 'TIPOASEN_NAC', 'OTROMEDICO',\n",
        "       'UNIMED_33_1', 'TIPOVIAL_CERT', 'TIPOASEN_CERT', 'FECH_ALTA',\n",
        "       'FECH_CAMB', 'IDCAPTURA', 'TIPO_FORMATO']\n",
        "columnsToRemove = [\n",
        "    \"TAMIZAUDITIVO\",\n",
        "    \"HIJOSSOBREVIVIENTES\",\n",
        "    # \"FECHANACIMIENTO\",\n",
        "    \"ENTIDADNACIMIENTO\",\n",
        "    \"MUNICIPIONACIMIENTO\",\n",
        "    \"SECONSIDERAINDIGENA\",\n",
        "    \"HABLALENGUAINDIGENA\",\n",
        "    \"FECHANACIMIENTOMADRE\",\n",
        "    \"ESTADOCONYUGAL\",\n",
        "    \"ENTIDADRESIDENCIA\",\n",
        "    \"MUNICIPIORESIDENCIA\",\n",
        "    \"LOCALIDADRESIDENCIA\",\n",
        "    \"HIJOSNACIDOSVIVOS\",\n",
        "    \"CONDICIONHIJOANTERIOR\",\n",
        "    \"VIVEHIJOANTERIOR\",\n",
        "    \"ORDENNACIMIENTO\",\n",
        "    \"CLAVEOCUPACIONHABITUAL\",\n",
        "    \"TRABAJAACTUALMENTE\",\n",
        "    \"HORANACIMIENTO\",\n",
        "    \"VACUNA_BCG\",\n",
        "    \"VACUNAHEPATITIS_B\",\n",
        "    \"VITAMINA_A\",\n",
        "    \"VITAMINA_K\",\n",
        "    # Relacionado a gemelos\n",
        "    # \"PRODUCTOEMBARAZO\",\n",
        "    \"CLUES\",\n",
        "    \"UTILIZOFORCEPS\",\n",
        "    \"PERSONALATENDIO\",\n",
        "    \"MUNICIPIOPARTO\",\n",
        "    \"LOCALIDADPARTO\",\n",
        "    \"CERTIFICADOPOR\",\n",
        "    \"CLUESCERTIFICA\",\n",
        "    \"ENTIDADFEDERATIVACERTIFICA\",\n",
        "    \"MUNICIPIOCERTIFICA\",\n",
        "    \"LOCALIDADCERTIFICA\",\n",
        "    \"FECHACERTIFICADO\",\n",
        "    \"LUGARNACIMIENTO\",\n",
        "    'CEDOCVE',\n",
        "    'CUAL_LENGM',\n",
        "    'TIPOASEN_RES',\n",
        "    'TIPOVIAL_RES',\n",
        "    'DERHAB',\n",
        "    'DERHAB2',\n",
        "    'ATEN_OTRO', 'TIPOVIAL_NAC', 'TIPOASEN_NAC', 'OTROMEDICO',\n",
        "    'UNIMED_33_1', 'TIPOVIAL_CERT', 'TIPOASEN_CERT', 'FECH_ALTA',\n",
        "    'FECH_CAMB', 'IDCAPTURA', 'TIPO_FORMATO',\n",
        "    'ESPECIFIQUE', 'UNIMED', 'ACELRN', 'ACELRN2'\n",
        "]\n",
        "\n",
        "df.drop(columnsToRemove, inplace=True, axis=1)"
      ],
      "metadata": {
        "id": "nLfnlRvgu9_s"
      },
      "execution_count": 9,
      "outputs": []
    },
    {
      "cell_type": "code",
      "source": [
        "columnsToReview = df.columns\n",
        "columnsToReview"
      ],
      "metadata": {
        "colab": {
          "base_uri": "https://localhost:8080/"
        },
        "id": "fSKzeDtFvBMI",
        "outputId": "347a5277-3c55-4db6-e63b-b8e039e20f10"
      },
      "execution_count": 10,
      "outputs": [
        {
          "output_type": "execute_result",
          "data": {
            "text/plain": [
              "Index(['Unnamed: 0', 'ENTIDADFEDERATIVAPARTO', 'EDAD', 'NUMEROEMBARAZOS',\n",
              "       'HIJOSNACIDOSMUERTOS', 'ATENCIONPRENATAL', 'TRIMESTREPRIMERCONSULTA',\n",
              "       'TOTALCONSULTAS', 'SOBREVIVIOPARTO', 'ESCOLARIDAD', 'OCUPHAB',\n",
              "       'FECHANACIMIENTO', 'SEXO', 'EDADGESTACIONAL', 'TALLA', 'PESO', 'APGAR',\n",
              "       'SILVERMAN', 'PRODUCTOEMBARAZO', 'CODIGOCIEANOMALIA1',\n",
              "       'CODIGOCIEANOMALIA2', 'RESOLUCIONEMBARAZO'],\n",
              "      dtype='object')"
            ]
          },
          "metadata": {},
          "execution_count": 10
        }
      ]
    },
    {
      "cell_type": "code",
      "source": [
        "#df=df.drop(df[df['EDAD']==999].index)\n",
        "#df=df.drop(df[df['EDAD']==888].index)\n",
        "#df=df.drop(df[df['NUMEROEMBARAZOS']==99].index)\n",
        "#df=df.drop(df[df['HIJOSNACIDOSMUERTOS']==99].index)\n",
        "#df=df.drop(df[df['ATENCIONPRENATAL']==9].index)\n",
        "#df=df.drop(df[df['TRIMESTREPRIMERCONSULTA']==9].index)\n",
        "#df=df.drop(df[df['TOTALCONSULTAS']==99].index)\n",
        "#df=df.drop(df[df['SOBREVIVIOPARTO']==9].index)\n",
        "#df=df.drop(df[df['ESCOLARIDAD']==999].index)\n",
        "#df=df.drop(df[df['EDADPADRE']==999].index)\n",
        "#df=df.drop(df[df['SEXO']==99].index)\n",
        "#df=df.drop(df[df['EDADGESTACIONAL']==99].index)\n",
        "#df=df.drop(df[df['TALLA']==99].index)\n",
        "#df=df.drop(df[df['PESO']==9999].index)\n",
        "#df=df.drop(df[df['TALLA']==9].index)\n",
        "#df=df.drop(df[df['APGAR']==99].index)\n",
        "#df=df.drop(df[df['SILVERMAN']==99].index)\n",
        "#df=df.drop(df[df['UTILIZOFORCEPS']==9].index)"
      ],
      "metadata": {
        "id": "AHqUQLo72KRM"
      },
      "execution_count": 11,
      "outputs": []
    },
    {
      "cell_type": "code",
      "source": [
        "df.head(10)"
      ],
      "metadata": {
        "colab": {
          "base_uri": "https://localhost:8080/",
          "height": 430
        },
        "id": "JTqF4vUIvDPR",
        "outputId": "9e756500-d364-4022-b206-dd627095f9e2"
      },
      "execution_count": 12,
      "outputs": [
        {
          "output_type": "execute_result",
          "data": {
            "text/plain": [
              "   Unnamed: 0  ENTIDADFEDERATIVAPARTO  EDAD  NUMEROEMBARAZOS  \\\n",
              "0           1                      30    19                2   \n",
              "1           2                      24    23                2   \n",
              "2           3                      19    28                4   \n",
              "3           4                      30    23                1   \n",
              "4           5                      19    23                1   \n",
              "5           6                      19    26                3   \n",
              "6           7                      19    24                3   \n",
              "7           8                      30    37                3   \n",
              "8           9                      12    26                1   \n",
              "9          10                      19    23                1   \n",
              "\n",
              "   HIJOSNACIDOSMUERTOS  ATENCIONPRENATAL  TRIMESTREPRIMERCONSULTA  \\\n",
              "0                    0                 1                        2   \n",
              "1                    0                 1                        1   \n",
              "2                    0                 1                        1   \n",
              "3                    0                 1                        1   \n",
              "4                    0                 1                        2   \n",
              "5                    0                 1                        2   \n",
              "6                    0                 1                        1   \n",
              "7                    0                 1                        2   \n",
              "8                    0                 1                        1   \n",
              "9                    0                 1                        1   \n",
              "\n",
              "   TOTALCONSULTAS  SOBREVIVIOPARTO  ESCOLARIDAD  ... SEXO EDADGESTACIONAL  \\\n",
              "0              99                1            2  ...    2              40   \n",
              "1              99                1            5  ...    2              38   \n",
              "2              10                1            7  ...    2              40   \n",
              "3              99                1            1  ...    1              36   \n",
              "4              99                1            8  ...    1              39   \n",
              "5              99                1            6  ...    1              39   \n",
              "6              10                1            7  ...    1              38   \n",
              "7              99                1            5  ...    2              40   \n",
              "8              13                1            7  ...    1              38   \n",
              "9               8                1           11  ...    2              39   \n",
              "\n",
              "   TALLA  PESO  APGAR  SILVERMAN  PRODUCTOEMBARAZO  CODIGOCIEANOMALIA1  \\\n",
              "0     51  2800      8          0                 1                0000   \n",
              "1     52  3650      9          0                 1                0000   \n",
              "2     50  3550      9          0                 1                0000   \n",
              "3     51  3050      9          0                 1                0000   \n",
              "4     55  3200      9          0                 1                0000   \n",
              "5     54  3500      9          2                 1                0000   \n",
              "6     50  3400      9          0                 1                0000   \n",
              "7     52  3000      9          0                 1                0000   \n",
              "8     53  3640      9          0                 1                0000   \n",
              "9     48  3060      9          0                 1                0000   \n",
              "\n",
              "   CODIGOCIEANOMALIA2 RESOLUCIONEMBARAZO  \n",
              "0                0000                  1  \n",
              "1                0000                  2  \n",
              "2                0000                  1  \n",
              "3                0000                  1  \n",
              "4                0000                  1  \n",
              "5                0000                  2  \n",
              "6                0000                  1  \n",
              "7                0000                  1  \n",
              "8                0000                  2  \n",
              "9                0000                  2  \n",
              "\n",
              "[10 rows x 22 columns]"
            ],
            "text/html": [
              "\n",
              "  <div id=\"df-81829c3c-20af-46ae-abae-29c8c15b8d93\" class=\"colab-df-container\">\n",
              "    <div>\n",
              "<style scoped>\n",
              "    .dataframe tbody tr th:only-of-type {\n",
              "        vertical-align: middle;\n",
              "    }\n",
              "\n",
              "    .dataframe tbody tr th {\n",
              "        vertical-align: top;\n",
              "    }\n",
              "\n",
              "    .dataframe thead th {\n",
              "        text-align: right;\n",
              "    }\n",
              "</style>\n",
              "<table border=\"1\" class=\"dataframe\">\n",
              "  <thead>\n",
              "    <tr style=\"text-align: right;\">\n",
              "      <th></th>\n",
              "      <th>Unnamed: 0</th>\n",
              "      <th>ENTIDADFEDERATIVAPARTO</th>\n",
              "      <th>EDAD</th>\n",
              "      <th>NUMEROEMBARAZOS</th>\n",
              "      <th>HIJOSNACIDOSMUERTOS</th>\n",
              "      <th>ATENCIONPRENATAL</th>\n",
              "      <th>TRIMESTREPRIMERCONSULTA</th>\n",
              "      <th>TOTALCONSULTAS</th>\n",
              "      <th>SOBREVIVIOPARTO</th>\n",
              "      <th>ESCOLARIDAD</th>\n",
              "      <th>...</th>\n",
              "      <th>SEXO</th>\n",
              "      <th>EDADGESTACIONAL</th>\n",
              "      <th>TALLA</th>\n",
              "      <th>PESO</th>\n",
              "      <th>APGAR</th>\n",
              "      <th>SILVERMAN</th>\n",
              "      <th>PRODUCTOEMBARAZO</th>\n",
              "      <th>CODIGOCIEANOMALIA1</th>\n",
              "      <th>CODIGOCIEANOMALIA2</th>\n",
              "      <th>RESOLUCIONEMBARAZO</th>\n",
              "    </tr>\n",
              "  </thead>\n",
              "  <tbody>\n",
              "    <tr>\n",
              "      <th>0</th>\n",
              "      <td>1</td>\n",
              "      <td>30</td>\n",
              "      <td>19</td>\n",
              "      <td>2</td>\n",
              "      <td>0</td>\n",
              "      <td>1</td>\n",
              "      <td>2</td>\n",
              "      <td>99</td>\n",
              "      <td>1</td>\n",
              "      <td>2</td>\n",
              "      <td>...</td>\n",
              "      <td>2</td>\n",
              "      <td>40</td>\n",
              "      <td>51</td>\n",
              "      <td>2800</td>\n",
              "      <td>8</td>\n",
              "      <td>0</td>\n",
              "      <td>1</td>\n",
              "      <td>0000</td>\n",
              "      <td>0000</td>\n",
              "      <td>1</td>\n",
              "    </tr>\n",
              "    <tr>\n",
              "      <th>1</th>\n",
              "      <td>2</td>\n",
              "      <td>24</td>\n",
              "      <td>23</td>\n",
              "      <td>2</td>\n",
              "      <td>0</td>\n",
              "      <td>1</td>\n",
              "      <td>1</td>\n",
              "      <td>99</td>\n",
              "      <td>1</td>\n",
              "      <td>5</td>\n",
              "      <td>...</td>\n",
              "      <td>2</td>\n",
              "      <td>38</td>\n",
              "      <td>52</td>\n",
              "      <td>3650</td>\n",
              "      <td>9</td>\n",
              "      <td>0</td>\n",
              "      <td>1</td>\n",
              "      <td>0000</td>\n",
              "      <td>0000</td>\n",
              "      <td>2</td>\n",
              "    </tr>\n",
              "    <tr>\n",
              "      <th>2</th>\n",
              "      <td>3</td>\n",
              "      <td>19</td>\n",
              "      <td>28</td>\n",
              "      <td>4</td>\n",
              "      <td>0</td>\n",
              "      <td>1</td>\n",
              "      <td>1</td>\n",
              "      <td>10</td>\n",
              "      <td>1</td>\n",
              "      <td>7</td>\n",
              "      <td>...</td>\n",
              "      <td>2</td>\n",
              "      <td>40</td>\n",
              "      <td>50</td>\n",
              "      <td>3550</td>\n",
              "      <td>9</td>\n",
              "      <td>0</td>\n",
              "      <td>1</td>\n",
              "      <td>0000</td>\n",
              "      <td>0000</td>\n",
              "      <td>1</td>\n",
              "    </tr>\n",
              "    <tr>\n",
              "      <th>3</th>\n",
              "      <td>4</td>\n",
              "      <td>30</td>\n",
              "      <td>23</td>\n",
              "      <td>1</td>\n",
              "      <td>0</td>\n",
              "      <td>1</td>\n",
              "      <td>1</td>\n",
              "      <td>99</td>\n",
              "      <td>1</td>\n",
              "      <td>1</td>\n",
              "      <td>...</td>\n",
              "      <td>1</td>\n",
              "      <td>36</td>\n",
              "      <td>51</td>\n",
              "      <td>3050</td>\n",
              "      <td>9</td>\n",
              "      <td>0</td>\n",
              "      <td>1</td>\n",
              "      <td>0000</td>\n",
              "      <td>0000</td>\n",
              "      <td>1</td>\n",
              "    </tr>\n",
              "    <tr>\n",
              "      <th>4</th>\n",
              "      <td>5</td>\n",
              "      <td>19</td>\n",
              "      <td>23</td>\n",
              "      <td>1</td>\n",
              "      <td>0</td>\n",
              "      <td>1</td>\n",
              "      <td>2</td>\n",
              "      <td>99</td>\n",
              "      <td>1</td>\n",
              "      <td>8</td>\n",
              "      <td>...</td>\n",
              "      <td>1</td>\n",
              "      <td>39</td>\n",
              "      <td>55</td>\n",
              "      <td>3200</td>\n",
              "      <td>9</td>\n",
              "      <td>0</td>\n",
              "      <td>1</td>\n",
              "      <td>0000</td>\n",
              "      <td>0000</td>\n",
              "      <td>1</td>\n",
              "    </tr>\n",
              "    <tr>\n",
              "      <th>5</th>\n",
              "      <td>6</td>\n",
              "      <td>19</td>\n",
              "      <td>26</td>\n",
              "      <td>3</td>\n",
              "      <td>0</td>\n",
              "      <td>1</td>\n",
              "      <td>2</td>\n",
              "      <td>99</td>\n",
              "      <td>1</td>\n",
              "      <td>6</td>\n",
              "      <td>...</td>\n",
              "      <td>1</td>\n",
              "      <td>39</td>\n",
              "      <td>54</td>\n",
              "      <td>3500</td>\n",
              "      <td>9</td>\n",
              "      <td>2</td>\n",
              "      <td>1</td>\n",
              "      <td>0000</td>\n",
              "      <td>0000</td>\n",
              "      <td>2</td>\n",
              "    </tr>\n",
              "    <tr>\n",
              "      <th>6</th>\n",
              "      <td>7</td>\n",
              "      <td>19</td>\n",
              "      <td>24</td>\n",
              "      <td>3</td>\n",
              "      <td>0</td>\n",
              "      <td>1</td>\n",
              "      <td>1</td>\n",
              "      <td>10</td>\n",
              "      <td>1</td>\n",
              "      <td>7</td>\n",
              "      <td>...</td>\n",
              "      <td>1</td>\n",
              "      <td>38</td>\n",
              "      <td>50</td>\n",
              "      <td>3400</td>\n",
              "      <td>9</td>\n",
              "      <td>0</td>\n",
              "      <td>1</td>\n",
              "      <td>0000</td>\n",
              "      <td>0000</td>\n",
              "      <td>1</td>\n",
              "    </tr>\n",
              "    <tr>\n",
              "      <th>7</th>\n",
              "      <td>8</td>\n",
              "      <td>30</td>\n",
              "      <td>37</td>\n",
              "      <td>3</td>\n",
              "      <td>0</td>\n",
              "      <td>1</td>\n",
              "      <td>2</td>\n",
              "      <td>99</td>\n",
              "      <td>1</td>\n",
              "      <td>5</td>\n",
              "      <td>...</td>\n",
              "      <td>2</td>\n",
              "      <td>40</td>\n",
              "      <td>52</td>\n",
              "      <td>3000</td>\n",
              "      <td>9</td>\n",
              "      <td>0</td>\n",
              "      <td>1</td>\n",
              "      <td>0000</td>\n",
              "      <td>0000</td>\n",
              "      <td>1</td>\n",
              "    </tr>\n",
              "    <tr>\n",
              "      <th>8</th>\n",
              "      <td>9</td>\n",
              "      <td>12</td>\n",
              "      <td>26</td>\n",
              "      <td>1</td>\n",
              "      <td>0</td>\n",
              "      <td>1</td>\n",
              "      <td>1</td>\n",
              "      <td>13</td>\n",
              "      <td>1</td>\n",
              "      <td>7</td>\n",
              "      <td>...</td>\n",
              "      <td>1</td>\n",
              "      <td>38</td>\n",
              "      <td>53</td>\n",
              "      <td>3640</td>\n",
              "      <td>9</td>\n",
              "      <td>0</td>\n",
              "      <td>1</td>\n",
              "      <td>0000</td>\n",
              "      <td>0000</td>\n",
              "      <td>2</td>\n",
              "    </tr>\n",
              "    <tr>\n",
              "      <th>9</th>\n",
              "      <td>10</td>\n",
              "      <td>19</td>\n",
              "      <td>23</td>\n",
              "      <td>1</td>\n",
              "      <td>0</td>\n",
              "      <td>1</td>\n",
              "      <td>1</td>\n",
              "      <td>8</td>\n",
              "      <td>1</td>\n",
              "      <td>11</td>\n",
              "      <td>...</td>\n",
              "      <td>2</td>\n",
              "      <td>39</td>\n",
              "      <td>48</td>\n",
              "      <td>3060</td>\n",
              "      <td>9</td>\n",
              "      <td>0</td>\n",
              "      <td>1</td>\n",
              "      <td>0000</td>\n",
              "      <td>0000</td>\n",
              "      <td>2</td>\n",
              "    </tr>\n",
              "  </tbody>\n",
              "</table>\n",
              "<p>10 rows × 22 columns</p>\n",
              "</div>\n",
              "    <div class=\"colab-df-buttons\">\n",
              "\n",
              "  <div class=\"colab-df-container\">\n",
              "    <button class=\"colab-df-convert\" onclick=\"convertToInteractive('df-81829c3c-20af-46ae-abae-29c8c15b8d93')\"\n",
              "            title=\"Convert this dataframe to an interactive table.\"\n",
              "            style=\"display:none;\">\n",
              "\n",
              "  <svg xmlns=\"http://www.w3.org/2000/svg\" height=\"24px\" viewBox=\"0 -960 960 960\">\n",
              "    <path d=\"M120-120v-720h720v720H120Zm60-500h600v-160H180v160Zm220 220h160v-160H400v160Zm0 220h160v-160H400v160ZM180-400h160v-160H180v160Zm440 0h160v-160H620v160ZM180-180h160v-160H180v160Zm440 0h160v-160H620v160Z\"/>\n",
              "  </svg>\n",
              "    </button>\n",
              "\n",
              "  <style>\n",
              "    .colab-df-container {\n",
              "      display:flex;\n",
              "      gap: 12px;\n",
              "    }\n",
              "\n",
              "    .colab-df-convert {\n",
              "      background-color: #E8F0FE;\n",
              "      border: none;\n",
              "      border-radius: 50%;\n",
              "      cursor: pointer;\n",
              "      display: none;\n",
              "      fill: #1967D2;\n",
              "      height: 32px;\n",
              "      padding: 0 0 0 0;\n",
              "      width: 32px;\n",
              "    }\n",
              "\n",
              "    .colab-df-convert:hover {\n",
              "      background-color: #E2EBFA;\n",
              "      box-shadow: 0px 1px 2px rgba(60, 64, 67, 0.3), 0px 1px 3px 1px rgba(60, 64, 67, 0.15);\n",
              "      fill: #174EA6;\n",
              "    }\n",
              "\n",
              "    .colab-df-buttons div {\n",
              "      margin-bottom: 4px;\n",
              "    }\n",
              "\n",
              "    [theme=dark] .colab-df-convert {\n",
              "      background-color: #3B4455;\n",
              "      fill: #D2E3FC;\n",
              "    }\n",
              "\n",
              "    [theme=dark] .colab-df-convert:hover {\n",
              "      background-color: #434B5C;\n",
              "      box-shadow: 0px 1px 3px 1px rgba(0, 0, 0, 0.15);\n",
              "      filter: drop-shadow(0px 1px 2px rgba(0, 0, 0, 0.3));\n",
              "      fill: #FFFFFF;\n",
              "    }\n",
              "  </style>\n",
              "\n",
              "    <script>\n",
              "      const buttonEl =\n",
              "        document.querySelector('#df-81829c3c-20af-46ae-abae-29c8c15b8d93 button.colab-df-convert');\n",
              "      buttonEl.style.display =\n",
              "        google.colab.kernel.accessAllowed ? 'block' : 'none';\n",
              "\n",
              "      async function convertToInteractive(key) {\n",
              "        const element = document.querySelector('#df-81829c3c-20af-46ae-abae-29c8c15b8d93');\n",
              "        const dataTable =\n",
              "          await google.colab.kernel.invokeFunction('convertToInteractive',\n",
              "                                                    [key], {});\n",
              "        if (!dataTable) return;\n",
              "\n",
              "        const docLinkHtml = 'Like what you see? Visit the ' +\n",
              "          '<a target=\"_blank\" href=https://colab.research.google.com/notebooks/data_table.ipynb>data table notebook</a>'\n",
              "          + ' to learn more about interactive tables.';\n",
              "        element.innerHTML = '';\n",
              "        dataTable['output_type'] = 'display_data';\n",
              "        await google.colab.output.renderOutput(dataTable, element);\n",
              "        const docLink = document.createElement('div');\n",
              "        docLink.innerHTML = docLinkHtml;\n",
              "        element.appendChild(docLink);\n",
              "      }\n",
              "    </script>\n",
              "  </div>\n",
              "\n",
              "\n",
              "<div id=\"df-1f8bae08-c4a1-4fae-9c58-f2ea3e8e3e8f\">\n",
              "  <button class=\"colab-df-quickchart\" onclick=\"quickchart('df-1f8bae08-c4a1-4fae-9c58-f2ea3e8e3e8f')\"\n",
              "            title=\"Suggest charts\"\n",
              "            style=\"display:none;\">\n",
              "\n",
              "<svg xmlns=\"http://www.w3.org/2000/svg\" height=\"24px\"viewBox=\"0 0 24 24\"\n",
              "     width=\"24px\">\n",
              "    <g>\n",
              "        <path d=\"M19 3H5c-1.1 0-2 .9-2 2v14c0 1.1.9 2 2 2h14c1.1 0 2-.9 2-2V5c0-1.1-.9-2-2-2zM9 17H7v-7h2v7zm4 0h-2V7h2v10zm4 0h-2v-4h2v4z\"/>\n",
              "    </g>\n",
              "</svg>\n",
              "  </button>\n",
              "\n",
              "<style>\n",
              "  .colab-df-quickchart {\n",
              "      --bg-color: #E8F0FE;\n",
              "      --fill-color: #1967D2;\n",
              "      --hover-bg-color: #E2EBFA;\n",
              "      --hover-fill-color: #174EA6;\n",
              "      --disabled-fill-color: #AAA;\n",
              "      --disabled-bg-color: #DDD;\n",
              "  }\n",
              "\n",
              "  [theme=dark] .colab-df-quickchart {\n",
              "      --bg-color: #3B4455;\n",
              "      --fill-color: #D2E3FC;\n",
              "      --hover-bg-color: #434B5C;\n",
              "      --hover-fill-color: #FFFFFF;\n",
              "      --disabled-bg-color: #3B4455;\n",
              "      --disabled-fill-color: #666;\n",
              "  }\n",
              "\n",
              "  .colab-df-quickchart {\n",
              "    background-color: var(--bg-color);\n",
              "    border: none;\n",
              "    border-radius: 50%;\n",
              "    cursor: pointer;\n",
              "    display: none;\n",
              "    fill: var(--fill-color);\n",
              "    height: 32px;\n",
              "    padding: 0;\n",
              "    width: 32px;\n",
              "  }\n",
              "\n",
              "  .colab-df-quickchart:hover {\n",
              "    background-color: var(--hover-bg-color);\n",
              "    box-shadow: 0 1px 2px rgba(60, 64, 67, 0.3), 0 1px 3px 1px rgba(60, 64, 67, 0.15);\n",
              "    fill: var(--button-hover-fill-color);\n",
              "  }\n",
              "\n",
              "  .colab-df-quickchart-complete:disabled,\n",
              "  .colab-df-quickchart-complete:disabled:hover {\n",
              "    background-color: var(--disabled-bg-color);\n",
              "    fill: var(--disabled-fill-color);\n",
              "    box-shadow: none;\n",
              "  }\n",
              "\n",
              "  .colab-df-spinner {\n",
              "    border: 2px solid var(--fill-color);\n",
              "    border-color: transparent;\n",
              "    border-bottom-color: var(--fill-color);\n",
              "    animation:\n",
              "      spin 1s steps(1) infinite;\n",
              "  }\n",
              "\n",
              "  @keyframes spin {\n",
              "    0% {\n",
              "      border-color: transparent;\n",
              "      border-bottom-color: var(--fill-color);\n",
              "      border-left-color: var(--fill-color);\n",
              "    }\n",
              "    20% {\n",
              "      border-color: transparent;\n",
              "      border-left-color: var(--fill-color);\n",
              "      border-top-color: var(--fill-color);\n",
              "    }\n",
              "    30% {\n",
              "      border-color: transparent;\n",
              "      border-left-color: var(--fill-color);\n",
              "      border-top-color: var(--fill-color);\n",
              "      border-right-color: var(--fill-color);\n",
              "    }\n",
              "    40% {\n",
              "      border-color: transparent;\n",
              "      border-right-color: var(--fill-color);\n",
              "      border-top-color: var(--fill-color);\n",
              "    }\n",
              "    60% {\n",
              "      border-color: transparent;\n",
              "      border-right-color: var(--fill-color);\n",
              "    }\n",
              "    80% {\n",
              "      border-color: transparent;\n",
              "      border-right-color: var(--fill-color);\n",
              "      border-bottom-color: var(--fill-color);\n",
              "    }\n",
              "    90% {\n",
              "      border-color: transparent;\n",
              "      border-bottom-color: var(--fill-color);\n",
              "    }\n",
              "  }\n",
              "</style>\n",
              "\n",
              "  <script>\n",
              "    async function quickchart(key) {\n",
              "      const quickchartButtonEl =\n",
              "        document.querySelector('#' + key + ' button');\n",
              "      quickchartButtonEl.disabled = true;  // To prevent multiple clicks.\n",
              "      quickchartButtonEl.classList.add('colab-df-spinner');\n",
              "      try {\n",
              "        const charts = await google.colab.kernel.invokeFunction(\n",
              "            'suggestCharts', [key], {});\n",
              "      } catch (error) {\n",
              "        console.error('Error during call to suggestCharts:', error);\n",
              "      }\n",
              "      quickchartButtonEl.classList.remove('colab-df-spinner');\n",
              "      quickchartButtonEl.classList.add('colab-df-quickchart-complete');\n",
              "    }\n",
              "    (() => {\n",
              "      let quickchartButtonEl =\n",
              "        document.querySelector('#df-1f8bae08-c4a1-4fae-9c58-f2ea3e8e3e8f button');\n",
              "      quickchartButtonEl.style.display =\n",
              "        google.colab.kernel.accessAllowed ? 'block' : 'none';\n",
              "    })();\n",
              "  </script>\n",
              "</div>\n",
              "\n",
              "    </div>\n",
              "  </div>\n"
            ]
          },
          "metadata": {},
          "execution_count": 12
        }
      ]
    },
    {
      "cell_type": "markdown",
      "source": [
        "# Variable: presencia o ausencia de Malformaciones Craneofaciales MCF\n",
        "- Con MCF (1)\n",
        "- Sin (0)"
      ],
      "metadata": {
        "id": "jnyDxJU-HB3V"
      }
    },
    {
      "cell_type": "code",
      "source": [
        "def update_codes(base_array):\n",
        "  new_codes = []\n",
        "  for value in base_array:\n",
        "    for i in range(0, 10):\n",
        "      new_codes.append(value[:-1] + str(i))\n",
        "\n",
        "  return new_codes"
      ],
      "metadata": {
        "id": "jfaUIa3LdC22"
      },
      "execution_count": 13,
      "outputs": []
    },
    {
      "cell_type": "code",
      "source": [
        "codigos_mc = update_codes(['Q100', 'Q110', 'Q120', 'Q130', 'Q140', 'Q150', 'Q160', 'Q170', 'Q180', 'Q300', 'Q350', 'Q360', 'Q370', 'Q380'])\n",
        "\n",
        "anomalias_mc = df['CODIGOCIEANOMALIA1'].isin(codigos_mc) | df['CODIGOCIEANOMALIA2'].isin(codigos_mc)\n",
        "\n",
        "key = \"MCC-General\"\n",
        "\n",
        "df[key] = None\n",
        "df[key].mask((~df.CODIGOCIEANOMALIA1.isin(codigos_mc)) & (df.CODIGOCIEANOMALIA2 == '9999'), None, inplace=True)\n",
        "df[key].mask((~df.CODIGOCIEANOMALIA2.isin(codigos_mc)) & (df.CODIGOCIEANOMALIA1 == '9999'), None, inplace=True)\n",
        "df[key].mask(~df.CODIGOCIEANOMALIA1.isin(codigos_mc) & ~df.CODIGOCIEANOMALIA2.isin(codigos_mc), 0, inplace=True)\n",
        "df[key].mask(df.CODIGOCIEANOMALIA1.isin(codigos_mc) | df.CODIGOCIEANOMALIA2.isin(codigos_mc), 1, inplace=True)\n",
        "df[key].value_counts()\n"
      ],
      "metadata": {
        "id": "3-Bgh1tMG7g5",
        "colab": {
          "base_uri": "https://localhost:8080/"
        },
        "outputId": "401029ff-eebf-4977-a06d-ba869d1e9574"
      },
      "execution_count": 14,
      "outputs": [
        {
          "output_type": "execute_result",
          "data": {
            "text/plain": [
              "0    1936401\n",
              "1       4255\n",
              "Name: MCC-General, dtype: int64"
            ]
          },
          "metadata": {},
          "execution_count": 14
        }
      ]
    },
    {
      "cell_type": "markdown",
      "source": [
        "## Variable categórica clasificación de MCF\n",
        "- Oftalmológicas Q100 Q110 Q120 Q130 Q140 Q150\n",
        "- Oído Q160 Q170\n",
        "- Cara y cuello Q180\n",
        "- Nariz Q300\n",
        "- Lengua y boca Q380 Q350 Q360 Q370\n",
        "\n",
        "Aqui se usan numeros primos para hacer la limpieza de datos"
      ],
      "metadata": {
        "id": "fdKajUS_PLSR"
      }
    },
    {
      "cell_type": "code",
      "source": [
        "codigos_oftalmo = update_codes(['Q100', 'Q110', 'Q120', 'Q130', 'Q140', 'Q150'])\n",
        "codigos_oido = update_codes(['Q160', 'Q170'])\n",
        "codigos_cara_cuello = update_codes(['Q180'])\n",
        "codigos_nariz = update_codes(['Q300'])\n",
        "codigos_lengua_boca = update_codes(['Q380', 'Q350', 'Q360', 'Q370'])\n",
        "\n",
        "mc_value = {\n",
        "    'oftalmo': 1,\n",
        "    'oido': 10,\n",
        "    'cuello': 100,\n",
        "    'nariz': 1000,\n",
        "    'boca': 10000\n",
        "}\n",
        "mc_values = [1, 10, 100, 1000, 10000]"
      ],
      "metadata": {
        "id": "hr-L0LV6lEyE"
      },
      "execution_count": 15,
      "outputs": []
    },
    {
      "cell_type": "markdown",
      "source": [
        "### Oftalmo"
      ],
      "metadata": {
        "id": "UdU5V2YHWyAi"
      }
    },
    {
      "cell_type": "code",
      "source": [
        "# Valores par oftalmo\n",
        "value = mc_value['oftalmo']\n",
        "key = \"MC-1\"\n",
        "df[key] = 0\n",
        "df[key].mask(df['CODIGOCIEANOMALIA1'].isin(codigos_oftalmo), value, inplace=True)\n",
        "\n",
        "key = \"MC-2\"\n",
        "df[key] = 0\n",
        "df[key].mask(df['CODIGOCIEANOMALIA2'].isin(codigos_oftalmo), value, inplace=True)"
      ],
      "metadata": {
        "id": "1pxSnouFUNdJ"
      },
      "execution_count": 16,
      "outputs": []
    },
    {
      "cell_type": "markdown",
      "source": [
        "### Oido"
      ],
      "metadata": {
        "id": "cppXwAELWubb"
      }
    },
    {
      "cell_type": "code",
      "source": [
        "# Valores par oido\n",
        "value = mc_value['oido']\n",
        "key = \"MC-1\"\n",
        "df[key].mask(df['CODIGOCIEANOMALIA1'].isin(codigos_oido), value, inplace=True)\n",
        "\n",
        "key = \"MC-2\"\n",
        "df[key].mask(df['CODIGOCIEANOMALIA2'].isin(codigos_oido), value, inplace=True)"
      ],
      "metadata": {
        "id": "_c3yZUNBVNz3"
      },
      "execution_count": 17,
      "outputs": []
    },
    {
      "cell_type": "markdown",
      "source": [
        "### Cara y cuello"
      ],
      "metadata": {
        "id": "gOG7RJdwWsem"
      }
    },
    {
      "cell_type": "code",
      "source": [
        "# Valores par cara y cuello\n",
        "value = mc_value['cuello']\n",
        "key = \"MC-1\"\n",
        "df[key].mask(df['CODIGOCIEANOMALIA1'].isin(codigos_cara_cuello), value, inplace=True)\n",
        "\n",
        "key = \"MC-2\"\n",
        "df[key].mask(df['CODIGOCIEANOMALIA2'].isin(codigos_cara_cuello), value, inplace=True)"
      ],
      "metadata": {
        "id": "BFe6jMnGVAH0"
      },
      "execution_count": 18,
      "outputs": []
    },
    {
      "cell_type": "markdown",
      "source": [
        "### Nariz"
      ],
      "metadata": {
        "id": "hbOYlTnrWqN9"
      }
    },
    {
      "cell_type": "code",
      "source": [
        "# Valores para nariz\n",
        "value = mc_value['nariz']\n",
        "key = \"MC-1\"\n",
        "df[key].mask(df['CODIGOCIEANOMALIA1'].isin(codigos_nariz), value, inplace=True)\n",
        "\n",
        "key = \"MC-2\"\n",
        "df[key].mask(df['CODIGOCIEANOMALIA2'].isin(codigos_nariz), value, inplace=True)"
      ],
      "metadata": {
        "id": "TcRNIecvWA9v"
      },
      "execution_count": 19,
      "outputs": []
    },
    {
      "cell_type": "markdown",
      "source": [
        "### Lengua y boca"
      ],
      "metadata": {
        "id": "S1rKT96eWm65"
      }
    },
    {
      "cell_type": "code",
      "source": [
        "# Valores para lengua y boca\n",
        "value = mc_value['boca']\n",
        "key = \"MC-1\"\n",
        "df[key].mask(df['CODIGOCIEANOMALIA1'].isin(codigos_lengua_boca), value, inplace=True)\n",
        "\n",
        "key = \"MC-2\"\n",
        "df[key].mask(df['CODIGOCIEANOMALIA2'].isin(codigos_lengua_boca), value, inplace=True)"
      ],
      "metadata": {
        "id": "KfVgmeO9WfOd"
      },
      "execution_count": 20,
      "outputs": []
    },
    {
      "cell_type": "markdown",
      "source": [
        "\n",
        "Descripcion de las categoricas (MC-1 es CODIGOCIEANOMALIA1, MC-2 es CODIGOCIEANOMALIA2)"
      ],
      "metadata": {
        "id": "NHaEO8CAneoX"
      }
    },
    {
      "cell_type": "code",
      "source": [
        "key = \"MC-1\"\n",
        "df[key].value_counts()"
      ],
      "metadata": {
        "colab": {
          "base_uri": "https://localhost:8080/"
        },
        "id": "-u8uwf7plw0c",
        "outputId": "73177ed7-7ba8-431f-c067-573ca783060a"
      },
      "execution_count": 21,
      "outputs": [
        {
          "output_type": "execute_result",
          "data": {
            "text/plain": [
              "0        1936853\n",
              "10          1831\n",
              "10000       1672\n",
              "100          162\n",
              "1             82\n",
              "1000          56\n",
              "Name: MC-1, dtype: int64"
            ]
          },
          "metadata": {},
          "execution_count": 21
        }
      ]
    },
    {
      "cell_type": "code",
      "source": [
        "# Con MCF\n",
        "df[df[\"MCC-General\"] == 1][key].value_counts()"
      ],
      "metadata": {
        "colab": {
          "base_uri": "https://localhost:8080/"
        },
        "id": "8xTbhIwskFaP",
        "outputId": "c711d925-08ee-4250-a395-03a2a07a17c3"
      },
      "execution_count": 22,
      "outputs": [
        {
          "output_type": "execute_result",
          "data": {
            "text/plain": [
              "10       1831\n",
              "10000    1672\n",
              "0         452\n",
              "100       162\n",
              "1          82\n",
              "1000       56\n",
              "Name: MC-1, dtype: int64"
            ]
          },
          "metadata": {},
          "execution_count": 22
        }
      ]
    },
    {
      "cell_type": "code",
      "source": [
        "key = \"MC-2\"\n",
        "df[key].value_counts()"
      ],
      "metadata": {
        "colab": {
          "base_uri": "https://localhost:8080/"
        },
        "id": "nodXO0lglzc0",
        "outputId": "bc87f6b9-90de-43aa-d467-3b3d63fb418c"
      },
      "execution_count": 23,
      "outputs": [
        {
          "output_type": "execute_result",
          "data": {
            "text/plain": [
              "0        1939540\n",
              "10           512\n",
              "10000        463\n",
              "1             49\n",
              "1000          48\n",
              "100           44\n",
              "Name: MC-2, dtype: int64"
            ]
          },
          "metadata": {},
          "execution_count": 23
        }
      ]
    },
    {
      "cell_type": "code",
      "source": [
        "# Con MCF\n",
        "df[df[\"MCC-General\"] == 1][key].value_counts()"
      ],
      "metadata": {
        "colab": {
          "base_uri": "https://localhost:8080/"
        },
        "id": "IUjRmN09lAy-",
        "outputId": "6d8e2307-cdf9-4c40-8f4b-fa0d4103d593"
      },
      "execution_count": 24,
      "outputs": [
        {
          "output_type": "execute_result",
          "data": {
            "text/plain": [
              "0        3139\n",
              "10        512\n",
              "10000     463\n",
              "1          49\n",
              "1000       48\n",
              "100        44\n",
              "Name: MC-2, dtype: int64"
            ]
          },
          "metadata": {},
          "execution_count": 24
        }
      ]
    },
    {
      "cell_type": "code",
      "source": [
        "key = 'MC-G'\n",
        "df[key] = None\n",
        "df[key] = df[['MC-1', 'MC-2']].sum(axis=1)\n",
        "df[key].value_counts()"
      ],
      "metadata": {
        "colab": {
          "base_uri": "https://localhost:8080/"
        },
        "id": "Ia63pE14mXVU",
        "outputId": "fe7b934d-9aee-4a51-b96f-aa092cb54cdf"
      },
      "execution_count": 25,
      "outputs": [
        {
          "output_type": "execute_result",
          "data": {
            "text/plain": [
              "0        1936401\n",
              "10          1731\n",
              "10000       1525\n",
              "20000        278\n",
              "20           270\n",
              "100          170\n",
              "1             97\n",
              "1000          68\n",
              "10010         39\n",
              "110           14\n",
              "1010          11\n",
              "2              9\n",
              "11000          9\n",
              "11             8\n",
              "200            8\n",
              "2000           5\n",
              "10001          4\n",
              "1100           3\n",
              "1001           3\n",
              "10100          2\n",
              "101            1\n",
              "Name: MC-G, dtype: int64"
            ]
          },
          "metadata": {},
          "execution_count": 25
        }
      ]
    },
    {
      "cell_type": "code",
      "source": [
        "# Con MCF\n",
        "df[df[\"MCC-General\"] == 1][key].value_counts()"
      ],
      "metadata": {
        "colab": {
          "base_uri": "https://localhost:8080/"
        },
        "id": "MFMM5B0VlDzK",
        "outputId": "7451c1c8-e2c4-4087-cd4a-aab8a584faf6"
      },
      "execution_count": 26,
      "outputs": [
        {
          "output_type": "execute_result",
          "data": {
            "text/plain": [
              "10       1731\n",
              "10000    1525\n",
              "20000     278\n",
              "20        270\n",
              "100       170\n",
              "1          97\n",
              "1000       68\n",
              "10010      39\n",
              "110        14\n",
              "1010       11\n",
              "11000       9\n",
              "2           9\n",
              "11          8\n",
              "200         8\n",
              "2000        5\n",
              "10001       4\n",
              "1001        3\n",
              "1100        3\n",
              "10100       2\n",
              "101         1\n",
              "Name: MC-G, dtype: int64"
            ]
          },
          "metadata": {},
          "execution_count": 26
        }
      ]
    },
    {
      "cell_type": "markdown",
      "source": [
        "## Variable categórica clasificación de MCF\n",
        "- Oftalmológicas (1)\n",
        "- Oído (2)\n",
        "- Cara y cuello (3)\n",
        "- Nariz (4)\n",
        "- Lengua y boca (5)"
      ],
      "metadata": {
        "id": "EjjCHZ66U_5s"
      }
    },
    {
      "cell_type": "code",
      "source": [
        "key=\"MC-G2\"\n",
        "etiqueta = 'MC-G'\n",
        "\n",
        "df[key] = None\n",
        "df[key].mask(df[etiqueta] == mc_value['oftalmo'], 1, inplace=True)\n",
        "df[key].mask(df[etiqueta] == mc_value['oido'], 2, inplace=True)\n",
        "df[key].mask(df[etiqueta] == mc_value['cuello'], 3, inplace=True)\n",
        "df[key].mask(df[etiqueta] == mc_value['nariz'], 4, inplace=True)\n",
        "df[key].mask(df[etiqueta] == mc_value['boca'], 5, inplace=True)\n",
        "df[key].mask(~df[etiqueta].isin(mc_values), 6, inplace=True)\n",
        "df[key].mask(df[etiqueta] == 0, None, inplace=True)\n",
        "\n",
        "\n",
        "df[key].value_counts()"
      ],
      "metadata": {
        "colab": {
          "base_uri": "https://localhost:8080/"
        },
        "id": "UD54YrCA478W",
        "outputId": "3a79c2eb-e02a-495b-bbab-342fb460a236"
      },
      "execution_count": 27,
      "outputs": [
        {
          "output_type": "execute_result",
          "data": {
            "text/plain": [
              "2    1731\n",
              "5    1525\n",
              "6     664\n",
              "3     170\n",
              "1      97\n",
              "4      68\n",
              "Name: MC-G2, dtype: int64"
            ]
          },
          "metadata": {},
          "execution_count": 27
        }
      ]
    },
    {
      "cell_type": "code",
      "source": [
        "# Con MCF\n",
        "df[df[\"MCC-General\"] == 1][key].value_counts().sum()"
      ],
      "metadata": {
        "colab": {
          "base_uri": "https://localhost:8080/"
        },
        "id": "XTwtAEKflEvt",
        "outputId": "0eff3f31-25de-4794-ab48-8dd949ecc0cf"
      },
      "execution_count": 28,
      "outputs": [
        {
          "output_type": "execute_result",
          "data": {
            "text/plain": [
              "4255"
            ]
          },
          "metadata": {},
          "execution_count": 28
        }
      ]
    },
    {
      "cell_type": "markdown",
      "source": [
        "# Dos malformaciones\n",
        "- No tenga una segunda malformacion, solo la primera sea MC (0)\n",
        "- Las dos malformaciones sean cranofaciales  (1)\n",
        "- Que una sea segunda malformacion y otra de otro tipo (2)\n",
        "- MCF y no se espeficifa (3)"
      ],
      "metadata": {
        "id": "7WCfUJUb3uJj"
      }
    },
    {
      "cell_type": "code",
      "source": [
        "key=\"S-MG\"\n",
        "df[key] = None\n",
        "# estos solo checan los que si o si, tienen solo una malformacion\n",
        "mcf_primera = (df.CODIGOCIEANOMALIA1.isin(codigos_mc) & (df.CODIGOCIEANOMALIA2 == '0000'))\n",
        "mcf_segunda = (df.CODIGOCIEANOMALIA2.isin(codigos_mc) & (df.CODIGOCIEANOMALIA1 == '0000'))\n",
        "\n",
        "# tenga dos mcf\n",
        "mcf_primera_y_segunda = (df.CODIGOCIEANOMALIA1.isin(codigos_mc) & df.CODIGOCIEANOMALIA2.isin(codigos_mc))\n",
        "\n",
        "# que tenga una mcf y otra mc != a mcf\n",
        "mcf_primera_mc_segunda = ((df.CODIGOCIEANOMALIA1.isin(codigos_mc))  & (df.CODIGOCIEANOMALIA2 != '0000') & (~df.CODIGOCIEANOMALIA2.isin(codigos_mc)) & (df.CODIGOCIEANOMALIA2 != '9999'))\n",
        "mc_primera_mcf_segunda = ((df.CODIGOCIEANOMALIA2.isin(codigos_mc))  & (df.CODIGOCIEANOMALIA1 != '0000') & (~df.CODIGOCIEANOMALIA1.isin(codigos_mc)) & (df.CODIGOCIEANOMALIA1 != '9999'))\n",
        "\n",
        "# que tenga una mcf y la otra idk\n",
        "mcf_primera_idk_segunda = ((df.CODIGOCIEANOMALIA1.isin(codigos_mc)) & (df.CODIGOCIEANOMALIA2 == '9999'))\n",
        "idk_primera_mcf_segunda = ((df.CODIGOCIEANOMALIA2.isin(codigos_mc)) & (df.CODIGOCIEANOMALIA1 == '9999'))\n",
        "\n",
        "df[key].mask(mcf_primera | mcf_segunda, 0, inplace=True)\n",
        "df[key].mask(mcf_primera_y_segunda, 1, inplace=True)\n",
        "df[key].mask(mcf_primera_mc_segunda | mc_primera_mcf_segunda, 2, inplace=True)\n",
        "df[key].mask(mcf_primera_idk_segunda | idk_primera_mcf_segunda, 3, inplace=True)\n",
        "df[key].value_counts()"
      ],
      "metadata": {
        "colab": {
          "base_uri": "https://localhost:8080/"
        },
        "id": "V-Qeu0BY3tkE",
        "outputId": "da4ce288-9102-4fa2-d7e9-544f2b621f26"
      },
      "execution_count": 29,
      "outputs": [
        {
          "output_type": "execute_result",
          "data": {
            "text/plain": [
              "0    2547\n",
              "2     834\n",
              "1     664\n",
              "3     210\n",
              "Name: S-MG, dtype: int64"
            ]
          },
          "metadata": {},
          "execution_count": 29
        }
      ]
    },
    {
      "cell_type": "code",
      "source": [
        "# Con MCF\n",
        "df[df[\"MCC-General\"] == 1][key].value_counts()"
      ],
      "metadata": {
        "colab": {
          "base_uri": "https://localhost:8080/"
        },
        "id": "mAvUF9pmlRaS",
        "outputId": "f8bbd8bb-a6a0-4ae9-bb41-2005f2aa8839"
      },
      "execution_count": 30,
      "outputs": [
        {
          "output_type": "execute_result",
          "data": {
            "text/plain": [
              "0    2547\n",
              "2     834\n",
              "1     664\n",
              "3     210\n",
              "Name: S-MG, dtype: int64"
            ]
          },
          "metadata": {},
          "execution_count": 30
        }
      ]
    },
    {
      "cell_type": "code",
      "source": [
        "df[(df.CODIGOCIEANOMALIA1.isin(codigos_mc) & (df.CODIGOCIEANOMALIA2 != '0000') & (df.CODIGOCIEANOMALIA2 != '9999')) | (df.CODIGOCIEANOMALIA2.isin(codigos_mc) & (df.CODIGOCIEANOMALIA1 != '0000') & (df.CODIGOCIEANOMALIA1 != '9999'))]"
      ],
      "metadata": {
        "colab": {
          "base_uri": "https://localhost:8080/",
          "height": 461
        },
        "id": "wldFGwyBAMuU",
        "outputId": "a9f2dbb0-419e-47bd-c1c8-4978d186f465"
      },
      "execution_count": 31,
      "outputs": [
        {
          "output_type": "execute_result",
          "data": {
            "text/plain": [
              "         Unnamed: 0  ENTIDADFEDERATIVAPARTO  EDAD  NUMEROEMBARAZOS  \\\n",
              "615             616                      30    31                3   \n",
              "815             816                      22    30                4   \n",
              "1027           1028                      22    39                5   \n",
              "1364           1365                      15    30                1   \n",
              "1566           1567                       9    24                2   \n",
              "...             ...                     ...   ...              ...   \n",
              "1933630     1933631                       1    25                3   \n",
              "1935501     1935502                      31    21                1   \n",
              "1935651     1935652                      31    34                2   \n",
              "1935849     1935850                      31    27                3   \n",
              "1937180     1937181                      30    20                1   \n",
              "\n",
              "         HIJOSNACIDOSMUERTOS  ATENCIONPRENATAL  TRIMESTREPRIMERCONSULTA  \\\n",
              "615                        0                 1                        1   \n",
              "815                        1                 1                        1   \n",
              "1027                       0                 1                        2   \n",
              "1364                       0                 1                        1   \n",
              "1566                       1                 1                        2   \n",
              "...                      ...               ...                      ...   \n",
              "1933630                    1                 1                        1   \n",
              "1935501                    0                 1                        1   \n",
              "1935651                    0                 1                        1   \n",
              "1935849                    0                 1                        1   \n",
              "1937180                    0                 1                        2   \n",
              "\n",
              "         TOTALCONSULTAS  SOBREVIVIOPARTO  ESCOLARIDAD  ... PRODUCTOEMBARAZO  \\\n",
              "615                   8                1            7  ...                1   \n",
              "815                   8                1            5  ...                1   \n",
              "1027                  6                1            3  ...                1   \n",
              "1364                 10                1            5  ...                1   \n",
              "1566                  3                1            7  ...                1   \n",
              "...                 ...              ...          ...  ...              ...   \n",
              "1933630               7                1            7  ...                1   \n",
              "1935501               8                1            5  ...                1   \n",
              "1935651               7                1            5  ...                1   \n",
              "1935849               6                1            3  ...                1   \n",
              "1937180               7                1            7  ...                1   \n",
              "\n",
              "        CODIGOCIEANOMALIA1  CODIGOCIEANOMALIA2  RESOLUCIONEMBARAZO  \\\n",
              "615                   Q369                Q369                   1   \n",
              "815                   Q369                Q379                   2   \n",
              "1027                  Q531                Q308                   1   \n",
              "1364                  Q379                Q663                   2   \n",
              "1566                  Q059                Q173                   1   \n",
              "...                    ...                 ...                 ...   \n",
              "1933630               Q039                Q379                   2   \n",
              "1935501               P128                Q170                   1   \n",
              "1935651               Q359                Q369                   1   \n",
              "1935849               Q369                Q385                   1   \n",
              "1937180               K070                Q383                   2   \n",
              "\n",
              "         MCC-General   MC-1   MC-2   MC-G  MC-G2 S-MG  \n",
              "615                1  10000  10000  20000      6    1  \n",
              "815                1  10000  10000  20000      6    1  \n",
              "1027               1      0   1000   1000      4    2  \n",
              "1364               1  10000      0  10000      5    2  \n",
              "1566               1      0     10     10      2    2  \n",
              "...              ...    ...    ...    ...    ...  ...  \n",
              "1933630            1      0  10000  10000      5    2  \n",
              "1935501            1      0     10     10      2    2  \n",
              "1935651            1  10000  10000  20000      6    1  \n",
              "1935849            1  10000  10000  20000      6    1  \n",
              "1937180            1      0  10000  10000      5    2  \n",
              "\n",
              "[1498 rows x 28 columns]"
            ],
            "text/html": [
              "\n",
              "  <div id=\"df-8da7f3ff-18d4-44ef-a193-89472e670841\" class=\"colab-df-container\">\n",
              "    <div>\n",
              "<style scoped>\n",
              "    .dataframe tbody tr th:only-of-type {\n",
              "        vertical-align: middle;\n",
              "    }\n",
              "\n",
              "    .dataframe tbody tr th {\n",
              "        vertical-align: top;\n",
              "    }\n",
              "\n",
              "    .dataframe thead th {\n",
              "        text-align: right;\n",
              "    }\n",
              "</style>\n",
              "<table border=\"1\" class=\"dataframe\">\n",
              "  <thead>\n",
              "    <tr style=\"text-align: right;\">\n",
              "      <th></th>\n",
              "      <th>Unnamed: 0</th>\n",
              "      <th>ENTIDADFEDERATIVAPARTO</th>\n",
              "      <th>EDAD</th>\n",
              "      <th>NUMEROEMBARAZOS</th>\n",
              "      <th>HIJOSNACIDOSMUERTOS</th>\n",
              "      <th>ATENCIONPRENATAL</th>\n",
              "      <th>TRIMESTREPRIMERCONSULTA</th>\n",
              "      <th>TOTALCONSULTAS</th>\n",
              "      <th>SOBREVIVIOPARTO</th>\n",
              "      <th>ESCOLARIDAD</th>\n",
              "      <th>...</th>\n",
              "      <th>PRODUCTOEMBARAZO</th>\n",
              "      <th>CODIGOCIEANOMALIA1</th>\n",
              "      <th>CODIGOCIEANOMALIA2</th>\n",
              "      <th>RESOLUCIONEMBARAZO</th>\n",
              "      <th>MCC-General</th>\n",
              "      <th>MC-1</th>\n",
              "      <th>MC-2</th>\n",
              "      <th>MC-G</th>\n",
              "      <th>MC-G2</th>\n",
              "      <th>S-MG</th>\n",
              "    </tr>\n",
              "  </thead>\n",
              "  <tbody>\n",
              "    <tr>\n",
              "      <th>615</th>\n",
              "      <td>616</td>\n",
              "      <td>30</td>\n",
              "      <td>31</td>\n",
              "      <td>3</td>\n",
              "      <td>0</td>\n",
              "      <td>1</td>\n",
              "      <td>1</td>\n",
              "      <td>8</td>\n",
              "      <td>1</td>\n",
              "      <td>7</td>\n",
              "      <td>...</td>\n",
              "      <td>1</td>\n",
              "      <td>Q369</td>\n",
              "      <td>Q369</td>\n",
              "      <td>1</td>\n",
              "      <td>1</td>\n",
              "      <td>10000</td>\n",
              "      <td>10000</td>\n",
              "      <td>20000</td>\n",
              "      <td>6</td>\n",
              "      <td>1</td>\n",
              "    </tr>\n",
              "    <tr>\n",
              "      <th>815</th>\n",
              "      <td>816</td>\n",
              "      <td>22</td>\n",
              "      <td>30</td>\n",
              "      <td>4</td>\n",
              "      <td>1</td>\n",
              "      <td>1</td>\n",
              "      <td>1</td>\n",
              "      <td>8</td>\n",
              "      <td>1</td>\n",
              "      <td>5</td>\n",
              "      <td>...</td>\n",
              "      <td>1</td>\n",
              "      <td>Q369</td>\n",
              "      <td>Q379</td>\n",
              "      <td>2</td>\n",
              "      <td>1</td>\n",
              "      <td>10000</td>\n",
              "      <td>10000</td>\n",
              "      <td>20000</td>\n",
              "      <td>6</td>\n",
              "      <td>1</td>\n",
              "    </tr>\n",
              "    <tr>\n",
              "      <th>1027</th>\n",
              "      <td>1028</td>\n",
              "      <td>22</td>\n",
              "      <td>39</td>\n",
              "      <td>5</td>\n",
              "      <td>0</td>\n",
              "      <td>1</td>\n",
              "      <td>2</td>\n",
              "      <td>6</td>\n",
              "      <td>1</td>\n",
              "      <td>3</td>\n",
              "      <td>...</td>\n",
              "      <td>1</td>\n",
              "      <td>Q531</td>\n",
              "      <td>Q308</td>\n",
              "      <td>1</td>\n",
              "      <td>1</td>\n",
              "      <td>0</td>\n",
              "      <td>1000</td>\n",
              "      <td>1000</td>\n",
              "      <td>4</td>\n",
              "      <td>2</td>\n",
              "    </tr>\n",
              "    <tr>\n",
              "      <th>1364</th>\n",
              "      <td>1365</td>\n",
              "      <td>15</td>\n",
              "      <td>30</td>\n",
              "      <td>1</td>\n",
              "      <td>0</td>\n",
              "      <td>1</td>\n",
              "      <td>1</td>\n",
              "      <td>10</td>\n",
              "      <td>1</td>\n",
              "      <td>5</td>\n",
              "      <td>...</td>\n",
              "      <td>1</td>\n",
              "      <td>Q379</td>\n",
              "      <td>Q663</td>\n",
              "      <td>2</td>\n",
              "      <td>1</td>\n",
              "      <td>10000</td>\n",
              "      <td>0</td>\n",
              "      <td>10000</td>\n",
              "      <td>5</td>\n",
              "      <td>2</td>\n",
              "    </tr>\n",
              "    <tr>\n",
              "      <th>1566</th>\n",
              "      <td>1567</td>\n",
              "      <td>9</td>\n",
              "      <td>24</td>\n",
              "      <td>2</td>\n",
              "      <td>1</td>\n",
              "      <td>1</td>\n",
              "      <td>2</td>\n",
              "      <td>3</td>\n",
              "      <td>1</td>\n",
              "      <td>7</td>\n",
              "      <td>...</td>\n",
              "      <td>1</td>\n",
              "      <td>Q059</td>\n",
              "      <td>Q173</td>\n",
              "      <td>1</td>\n",
              "      <td>1</td>\n",
              "      <td>0</td>\n",
              "      <td>10</td>\n",
              "      <td>10</td>\n",
              "      <td>2</td>\n",
              "      <td>2</td>\n",
              "    </tr>\n",
              "    <tr>\n",
              "      <th>...</th>\n",
              "      <td>...</td>\n",
              "      <td>...</td>\n",
              "      <td>...</td>\n",
              "      <td>...</td>\n",
              "      <td>...</td>\n",
              "      <td>...</td>\n",
              "      <td>...</td>\n",
              "      <td>...</td>\n",
              "      <td>...</td>\n",
              "      <td>...</td>\n",
              "      <td>...</td>\n",
              "      <td>...</td>\n",
              "      <td>...</td>\n",
              "      <td>...</td>\n",
              "      <td>...</td>\n",
              "      <td>...</td>\n",
              "      <td>...</td>\n",
              "      <td>...</td>\n",
              "      <td>...</td>\n",
              "      <td>...</td>\n",
              "      <td>...</td>\n",
              "    </tr>\n",
              "    <tr>\n",
              "      <th>1933630</th>\n",
              "      <td>1933631</td>\n",
              "      <td>1</td>\n",
              "      <td>25</td>\n",
              "      <td>3</td>\n",
              "      <td>1</td>\n",
              "      <td>1</td>\n",
              "      <td>1</td>\n",
              "      <td>7</td>\n",
              "      <td>1</td>\n",
              "      <td>7</td>\n",
              "      <td>...</td>\n",
              "      <td>1</td>\n",
              "      <td>Q039</td>\n",
              "      <td>Q379</td>\n",
              "      <td>2</td>\n",
              "      <td>1</td>\n",
              "      <td>0</td>\n",
              "      <td>10000</td>\n",
              "      <td>10000</td>\n",
              "      <td>5</td>\n",
              "      <td>2</td>\n",
              "    </tr>\n",
              "    <tr>\n",
              "      <th>1935501</th>\n",
              "      <td>1935502</td>\n",
              "      <td>31</td>\n",
              "      <td>21</td>\n",
              "      <td>1</td>\n",
              "      <td>0</td>\n",
              "      <td>1</td>\n",
              "      <td>1</td>\n",
              "      <td>8</td>\n",
              "      <td>1</td>\n",
              "      <td>5</td>\n",
              "      <td>...</td>\n",
              "      <td>1</td>\n",
              "      <td>P128</td>\n",
              "      <td>Q170</td>\n",
              "      <td>1</td>\n",
              "      <td>1</td>\n",
              "      <td>0</td>\n",
              "      <td>10</td>\n",
              "      <td>10</td>\n",
              "      <td>2</td>\n",
              "      <td>2</td>\n",
              "    </tr>\n",
              "    <tr>\n",
              "      <th>1935651</th>\n",
              "      <td>1935652</td>\n",
              "      <td>31</td>\n",
              "      <td>34</td>\n",
              "      <td>2</td>\n",
              "      <td>0</td>\n",
              "      <td>1</td>\n",
              "      <td>1</td>\n",
              "      <td>7</td>\n",
              "      <td>1</td>\n",
              "      <td>5</td>\n",
              "      <td>...</td>\n",
              "      <td>1</td>\n",
              "      <td>Q359</td>\n",
              "      <td>Q369</td>\n",
              "      <td>1</td>\n",
              "      <td>1</td>\n",
              "      <td>10000</td>\n",
              "      <td>10000</td>\n",
              "      <td>20000</td>\n",
              "      <td>6</td>\n",
              "      <td>1</td>\n",
              "    </tr>\n",
              "    <tr>\n",
              "      <th>1935849</th>\n",
              "      <td>1935850</td>\n",
              "      <td>31</td>\n",
              "      <td>27</td>\n",
              "      <td>3</td>\n",
              "      <td>0</td>\n",
              "      <td>1</td>\n",
              "      <td>1</td>\n",
              "      <td>6</td>\n",
              "      <td>1</td>\n",
              "      <td>3</td>\n",
              "      <td>...</td>\n",
              "      <td>1</td>\n",
              "      <td>Q369</td>\n",
              "      <td>Q385</td>\n",
              "      <td>1</td>\n",
              "      <td>1</td>\n",
              "      <td>10000</td>\n",
              "      <td>10000</td>\n",
              "      <td>20000</td>\n",
              "      <td>6</td>\n",
              "      <td>1</td>\n",
              "    </tr>\n",
              "    <tr>\n",
              "      <th>1937180</th>\n",
              "      <td>1937181</td>\n",
              "      <td>30</td>\n",
              "      <td>20</td>\n",
              "      <td>1</td>\n",
              "      <td>0</td>\n",
              "      <td>1</td>\n",
              "      <td>2</td>\n",
              "      <td>7</td>\n",
              "      <td>1</td>\n",
              "      <td>7</td>\n",
              "      <td>...</td>\n",
              "      <td>1</td>\n",
              "      <td>K070</td>\n",
              "      <td>Q383</td>\n",
              "      <td>2</td>\n",
              "      <td>1</td>\n",
              "      <td>0</td>\n",
              "      <td>10000</td>\n",
              "      <td>10000</td>\n",
              "      <td>5</td>\n",
              "      <td>2</td>\n",
              "    </tr>\n",
              "  </tbody>\n",
              "</table>\n",
              "<p>1498 rows × 28 columns</p>\n",
              "</div>\n",
              "    <div class=\"colab-df-buttons\">\n",
              "\n",
              "  <div class=\"colab-df-container\">\n",
              "    <button class=\"colab-df-convert\" onclick=\"convertToInteractive('df-8da7f3ff-18d4-44ef-a193-89472e670841')\"\n",
              "            title=\"Convert this dataframe to an interactive table.\"\n",
              "            style=\"display:none;\">\n",
              "\n",
              "  <svg xmlns=\"http://www.w3.org/2000/svg\" height=\"24px\" viewBox=\"0 -960 960 960\">\n",
              "    <path d=\"M120-120v-720h720v720H120Zm60-500h600v-160H180v160Zm220 220h160v-160H400v160Zm0 220h160v-160H400v160ZM180-400h160v-160H180v160Zm440 0h160v-160H620v160ZM180-180h160v-160H180v160Zm440 0h160v-160H620v160Z\"/>\n",
              "  </svg>\n",
              "    </button>\n",
              "\n",
              "  <style>\n",
              "    .colab-df-container {\n",
              "      display:flex;\n",
              "      gap: 12px;\n",
              "    }\n",
              "\n",
              "    .colab-df-convert {\n",
              "      background-color: #E8F0FE;\n",
              "      border: none;\n",
              "      border-radius: 50%;\n",
              "      cursor: pointer;\n",
              "      display: none;\n",
              "      fill: #1967D2;\n",
              "      height: 32px;\n",
              "      padding: 0 0 0 0;\n",
              "      width: 32px;\n",
              "    }\n",
              "\n",
              "    .colab-df-convert:hover {\n",
              "      background-color: #E2EBFA;\n",
              "      box-shadow: 0px 1px 2px rgba(60, 64, 67, 0.3), 0px 1px 3px 1px rgba(60, 64, 67, 0.15);\n",
              "      fill: #174EA6;\n",
              "    }\n",
              "\n",
              "    .colab-df-buttons div {\n",
              "      margin-bottom: 4px;\n",
              "    }\n",
              "\n",
              "    [theme=dark] .colab-df-convert {\n",
              "      background-color: #3B4455;\n",
              "      fill: #D2E3FC;\n",
              "    }\n",
              "\n",
              "    [theme=dark] .colab-df-convert:hover {\n",
              "      background-color: #434B5C;\n",
              "      box-shadow: 0px 1px 3px 1px rgba(0, 0, 0, 0.15);\n",
              "      filter: drop-shadow(0px 1px 2px rgba(0, 0, 0, 0.3));\n",
              "      fill: #FFFFFF;\n",
              "    }\n",
              "  </style>\n",
              "\n",
              "    <script>\n",
              "      const buttonEl =\n",
              "        document.querySelector('#df-8da7f3ff-18d4-44ef-a193-89472e670841 button.colab-df-convert');\n",
              "      buttonEl.style.display =\n",
              "        google.colab.kernel.accessAllowed ? 'block' : 'none';\n",
              "\n",
              "      async function convertToInteractive(key) {\n",
              "        const element = document.querySelector('#df-8da7f3ff-18d4-44ef-a193-89472e670841');\n",
              "        const dataTable =\n",
              "          await google.colab.kernel.invokeFunction('convertToInteractive',\n",
              "                                                    [key], {});\n",
              "        if (!dataTable) return;\n",
              "\n",
              "        const docLinkHtml = 'Like what you see? Visit the ' +\n",
              "          '<a target=\"_blank\" href=https://colab.research.google.com/notebooks/data_table.ipynb>data table notebook</a>'\n",
              "          + ' to learn more about interactive tables.';\n",
              "        element.innerHTML = '';\n",
              "        dataTable['output_type'] = 'display_data';\n",
              "        await google.colab.output.renderOutput(dataTable, element);\n",
              "        const docLink = document.createElement('div');\n",
              "        docLink.innerHTML = docLinkHtml;\n",
              "        element.appendChild(docLink);\n",
              "      }\n",
              "    </script>\n",
              "  </div>\n",
              "\n",
              "\n",
              "<div id=\"df-16346fb8-2f59-4dbf-988a-1f61cc9e84a3\">\n",
              "  <button class=\"colab-df-quickchart\" onclick=\"quickchart('df-16346fb8-2f59-4dbf-988a-1f61cc9e84a3')\"\n",
              "            title=\"Suggest charts\"\n",
              "            style=\"display:none;\">\n",
              "\n",
              "<svg xmlns=\"http://www.w3.org/2000/svg\" height=\"24px\"viewBox=\"0 0 24 24\"\n",
              "     width=\"24px\">\n",
              "    <g>\n",
              "        <path d=\"M19 3H5c-1.1 0-2 .9-2 2v14c0 1.1.9 2 2 2h14c1.1 0 2-.9 2-2V5c0-1.1-.9-2-2-2zM9 17H7v-7h2v7zm4 0h-2V7h2v10zm4 0h-2v-4h2v4z\"/>\n",
              "    </g>\n",
              "</svg>\n",
              "  </button>\n",
              "\n",
              "<style>\n",
              "  .colab-df-quickchart {\n",
              "      --bg-color: #E8F0FE;\n",
              "      --fill-color: #1967D2;\n",
              "      --hover-bg-color: #E2EBFA;\n",
              "      --hover-fill-color: #174EA6;\n",
              "      --disabled-fill-color: #AAA;\n",
              "      --disabled-bg-color: #DDD;\n",
              "  }\n",
              "\n",
              "  [theme=dark] .colab-df-quickchart {\n",
              "      --bg-color: #3B4455;\n",
              "      --fill-color: #D2E3FC;\n",
              "      --hover-bg-color: #434B5C;\n",
              "      --hover-fill-color: #FFFFFF;\n",
              "      --disabled-bg-color: #3B4455;\n",
              "      --disabled-fill-color: #666;\n",
              "  }\n",
              "\n",
              "  .colab-df-quickchart {\n",
              "    background-color: var(--bg-color);\n",
              "    border: none;\n",
              "    border-radius: 50%;\n",
              "    cursor: pointer;\n",
              "    display: none;\n",
              "    fill: var(--fill-color);\n",
              "    height: 32px;\n",
              "    padding: 0;\n",
              "    width: 32px;\n",
              "  }\n",
              "\n",
              "  .colab-df-quickchart:hover {\n",
              "    background-color: var(--hover-bg-color);\n",
              "    box-shadow: 0 1px 2px rgba(60, 64, 67, 0.3), 0 1px 3px 1px rgba(60, 64, 67, 0.15);\n",
              "    fill: var(--button-hover-fill-color);\n",
              "  }\n",
              "\n",
              "  .colab-df-quickchart-complete:disabled,\n",
              "  .colab-df-quickchart-complete:disabled:hover {\n",
              "    background-color: var(--disabled-bg-color);\n",
              "    fill: var(--disabled-fill-color);\n",
              "    box-shadow: none;\n",
              "  }\n",
              "\n",
              "  .colab-df-spinner {\n",
              "    border: 2px solid var(--fill-color);\n",
              "    border-color: transparent;\n",
              "    border-bottom-color: var(--fill-color);\n",
              "    animation:\n",
              "      spin 1s steps(1) infinite;\n",
              "  }\n",
              "\n",
              "  @keyframes spin {\n",
              "    0% {\n",
              "      border-color: transparent;\n",
              "      border-bottom-color: var(--fill-color);\n",
              "      border-left-color: var(--fill-color);\n",
              "    }\n",
              "    20% {\n",
              "      border-color: transparent;\n",
              "      border-left-color: var(--fill-color);\n",
              "      border-top-color: var(--fill-color);\n",
              "    }\n",
              "    30% {\n",
              "      border-color: transparent;\n",
              "      border-left-color: var(--fill-color);\n",
              "      border-top-color: var(--fill-color);\n",
              "      border-right-color: var(--fill-color);\n",
              "    }\n",
              "    40% {\n",
              "      border-color: transparent;\n",
              "      border-right-color: var(--fill-color);\n",
              "      border-top-color: var(--fill-color);\n",
              "    }\n",
              "    60% {\n",
              "      border-color: transparent;\n",
              "      border-right-color: var(--fill-color);\n",
              "    }\n",
              "    80% {\n",
              "      border-color: transparent;\n",
              "      border-right-color: var(--fill-color);\n",
              "      border-bottom-color: var(--fill-color);\n",
              "    }\n",
              "    90% {\n",
              "      border-color: transparent;\n",
              "      border-bottom-color: var(--fill-color);\n",
              "    }\n",
              "  }\n",
              "</style>\n",
              "\n",
              "  <script>\n",
              "    async function quickchart(key) {\n",
              "      const quickchartButtonEl =\n",
              "        document.querySelector('#' + key + ' button');\n",
              "      quickchartButtonEl.disabled = true;  // To prevent multiple clicks.\n",
              "      quickchartButtonEl.classList.add('colab-df-spinner');\n",
              "      try {\n",
              "        const charts = await google.colab.kernel.invokeFunction(\n",
              "            'suggestCharts', [key], {});\n",
              "      } catch (error) {\n",
              "        console.error('Error during call to suggestCharts:', error);\n",
              "      }\n",
              "      quickchartButtonEl.classList.remove('colab-df-spinner');\n",
              "      quickchartButtonEl.classList.add('colab-df-quickchart-complete');\n",
              "    }\n",
              "    (() => {\n",
              "      let quickchartButtonEl =\n",
              "        document.querySelector('#df-16346fb8-2f59-4dbf-988a-1f61cc9e84a3 button');\n",
              "      quickchartButtonEl.style.display =\n",
              "        google.colab.kernel.accessAllowed ? 'block' : 'none';\n",
              "    })();\n",
              "  </script>\n",
              "</div>\n",
              "\n",
              "    </div>\n",
              "  </div>\n"
            ]
          },
          "metadata": {},
          "execution_count": 31
        }
      ]
    },
    {
      "cell_type": "markdown",
      "source": [
        "# Edad materna\n",
        "Edades por decadas de vida de los que presentan malformaciones craneofaciales, ya sea en una sola columna o ambas.\n",
        "menores de 20 años\n",
        "20-29\n",
        "30-39\n",
        "40-49\n",
        "mayores o igual a 50"
      ],
      "metadata": {
        "id": "Ezbh_hXCg2XN"
      }
    },
    {
      "cell_type": "code",
      "source": [
        "etiqueta = 'EDAD'\n",
        "key = \"Edad materna\"\n",
        "df[key] = None\n",
        "\n",
        "\n",
        "df[key].mask(df[etiqueta] < 20, 1, inplace=True)\n",
        "df[key].mask((df[etiqueta] >= 20) & (df[etiqueta] < 30), 2, inplace=True)\n",
        "df[key].mask((df[etiqueta] >= 30) & (df[etiqueta] < 40), 3, inplace=True)\n",
        "df[key].mask((df[etiqueta] >= 40) & (df[etiqueta] < 50), 4, inplace=True)\n",
        "df[key].mask((df[etiqueta] >= 50) & (df[etiqueta] != 999), 5, inplace=True)\n",
        "df[key].value_counts()\n"
      ],
      "metadata": {
        "id": "ta38oOSasecC",
        "colab": {
          "base_uri": "https://localhost:8080/"
        },
        "outputId": "c26629c2-7aac-4913-e1cb-b54f6e86eb80"
      },
      "execution_count": 32,
      "outputs": [
        {
          "output_type": "execute_result",
          "data": {
            "text/plain": [
              "2    1051019\n",
              "3     489239\n",
              "1     359818\n",
              "4      40058\n",
              "5        204\n",
              "Name: Edad materna, dtype: int64"
            ]
          },
          "metadata": {},
          "execution_count": 32
        }
      ]
    },
    {
      "cell_type": "code",
      "source": [
        "# Con MCF\n",
        "df[df[\"MCC-General\"] == 1][key].value_counts()"
      ],
      "metadata": {
        "colab": {
          "base_uri": "https://localhost:8080/"
        },
        "id": "H4n27WGYlcyP",
        "outputId": "2c4afcc6-4e1a-4364-da0f-cce0c8290d33"
      },
      "execution_count": 33,
      "outputs": [
        {
          "output_type": "execute_result",
          "data": {
            "text/plain": [
              "2    2265\n",
              "3    1142\n",
              "1     722\n",
              "4     125\n",
              "Name: Edad materna, dtype: int64"
            ]
          },
          "metadata": {},
          "execution_count": 33
        }
      ]
    },
    {
      "cell_type": "markdown",
      "source": [
        "## Tipo de producto del embarazo\n",
        "- Único (1)\n",
        "- Gemelar (2)\n",
        "- Tres o más (3)"
      ],
      "metadata": {
        "id": "7FsKjPouVIQo"
      }
    },
    {
      "cell_type": "code",
      "source": [
        "etiqueta = 'PRODUCTOEMBARAZO'\n",
        "key = \"Tipo producto\"\n",
        "df[key] = None\n",
        "df[key].mask(df[etiqueta] == 1, 1, inplace=True)\n",
        "df[key].mask(df[etiqueta] == 2, 2, inplace=True)\n",
        "df[key].mask(df[etiqueta] == 3, 3, inplace=True)\n",
        "df[key].value_counts()"
      ],
      "metadata": {
        "colab": {
          "base_uri": "https://localhost:8080/"
        },
        "id": "D-qeAdgVVPZd",
        "outputId": "2b9c58d0-a19a-43f5-e89d-8b656cea7bf7"
      },
      "execution_count": 34,
      "outputs": [
        {
          "output_type": "execute_result",
          "data": {
            "text/plain": [
              "1    1903630\n",
              "2      31243\n",
              "3        856\n",
              "Name: Tipo producto, dtype: int64"
            ]
          },
          "metadata": {},
          "execution_count": 34
        }
      ]
    },
    {
      "cell_type": "code",
      "source": [
        "# Con MCF\n",
        "df[df[\"MCC-General\"] == 1][key].value_counts()"
      ],
      "metadata": {
        "colab": {
          "base_uri": "https://localhost:8080/"
        },
        "id": "AB6nVL-jlfT-",
        "outputId": "d4dcaa81-7330-4f8d-ccd3-1524644bac21"
      },
      "execution_count": 35,
      "outputs": [
        {
          "output_type": "execute_result",
          "data": {
            "text/plain": [
              "1    4180\n",
              "2      65\n",
              "Name: Tipo producto, dtype: int64"
            ]
          },
          "metadata": {},
          "execution_count": 35
        }
      ]
    },
    {
      "cell_type": "markdown",
      "source": [
        "# Numero de embarazos\n",
        "Primigesta (1 embarazo)\n",
        "Multigesta (2 a 5 embarazos)\n",
        "Gran multigesta (6 o más embarazos)"
      ],
      "metadata": {
        "id": "Z6D8_q3Dhnno"
      }
    },
    {
      "cell_type": "code",
      "source": [
        "etiqueta = 'NUMEROEMBARAZOS'\n",
        "key = \"Numero de embarazos\"\n",
        "df[key] = None\n",
        "\n",
        "\n",
        "df[key].mask(df[etiqueta] == 1, 1, inplace=True)\n",
        "df[key].mask((df[etiqueta] >= 2) & (df[etiqueta] < 6), 2, inplace=True)\n",
        "df[key].mask((df[etiqueta] >= 6) & (df[etiqueta] != 99), 3, inplace=True)\n",
        "df[key].value_counts()"
      ],
      "metadata": {
        "id": "cMrFIIzNwNwm",
        "colab": {
          "base_uri": "https://localhost:8080/"
        },
        "outputId": "b8d346bf-e42d-439d-ceb9-19611623867c"
      },
      "execution_count": 36,
      "outputs": [
        {
          "output_type": "execute_result",
          "data": {
            "text/plain": [
              "2    1208804\n",
              "1     691906\n",
              "3      39438\n",
              "Name: Numero de embarazos, dtype: int64"
            ]
          },
          "metadata": {},
          "execution_count": 36
        }
      ]
    },
    {
      "cell_type": "code",
      "source": [
        "# Con MCF\n",
        "df[df[\"MCC-General\"] == 1][key].value_counts()"
      ],
      "metadata": {
        "colab": {
          "base_uri": "https://localhost:8080/"
        },
        "id": "3QcyaJ4olhVy",
        "outputId": "758c4822-61dd-4549-b16a-fde89f1ede1e"
      },
      "execution_count": 37,
      "outputs": [
        {
          "output_type": "execute_result",
          "data": {
            "text/plain": [
              "2    2695\n",
              "1    1485\n",
              "3      73\n",
              "Name: Numero de embarazos, dtype: int64"
            ]
          },
          "metadata": {},
          "execution_count": 37
        }
      ]
    },
    {
      "cell_type": "markdown",
      "source": [
        "#Hijos nacidos muertos\n",
        "- Ausente (0)\n",
        "- Presente (1)"
      ],
      "metadata": {
        "id": "Jc3Elkwih3Rb"
      }
    },
    {
      "cell_type": "code",
      "source": [
        "etiqueta = 'HIJOSNACIDOSMUERTOS'\n",
        "key = \"Hijos nacidos muertos\"\n",
        "df[key] = None\n",
        "\n",
        "df[key].mask((df[etiqueta] >= 1) & (df[etiqueta] != 99), 1, inplace=True)\n",
        "df[key].mask(df[etiqueta] == 0, 0, inplace=True)\n",
        "df[key].value_counts()"
      ],
      "metadata": {
        "id": "1h5DG6roiGX9",
        "colab": {
          "base_uri": "https://localhost:8080/"
        },
        "outputId": "eb5d141a-31d1-443f-91e9-38d960917132"
      },
      "execution_count": 38,
      "outputs": [
        {
          "output_type": "execute_result",
          "data": {
            "text/plain": [
              "0    1636486\n",
              "1     298544\n",
              "Name: Hijos nacidos muertos, dtype: int64"
            ]
          },
          "metadata": {},
          "execution_count": 38
        }
      ]
    },
    {
      "cell_type": "code",
      "source": [
        "# Con MCF\n",
        "df[df[\"MCC-General\"] == 1][key].value_counts()"
      ],
      "metadata": {
        "colab": {
          "base_uri": "https://localhost:8080/"
        },
        "id": "IRyfudLKlioK",
        "outputId": "69662e80-860a-43a1-8859-0cd35242a223"
      },
      "execution_count": 39,
      "outputs": [
        {
          "output_type": "execute_result",
          "data": {
            "text/plain": [
              "0    3451\n",
              "1     789\n",
              "Name: Hijos nacidos muertos, dtype: int64"
            ]
          },
          "metadata": {},
          "execution_count": 39
        }
      ]
    },
    {
      "cell_type": "markdown",
      "source": [
        "# Madre sobrevivio parto SOBREVIVIOPARTO\n",
        "* Si 1\n",
        "* No 2\n",
        "* no aplica, se ignora, no especificado 0, 8, 9\n"
      ],
      "metadata": {
        "id": "HRvNqKCR5bkz"
      }
    },
    {
      "cell_type": "code",
      "source": [
        "etiqueta = 'SOBREVIVIOPARTO'\n",
        "no_especificado = [0, 8, 9]\n",
        "\n",
        "key = \"Madre sobrevivio al parto\"\n",
        "df[key] = None\n",
        "\n",
        "df[key].mask(df[etiqueta] == 2, 0, inplace=True)\n",
        "df[key].mask(df[etiqueta] == 1, 1, inplace=True)\n",
        "df[key].mask(df[etiqueta].isin(no_especificado), 2, inplace=True)\n",
        "df[key].value_counts()"
      ],
      "metadata": {
        "id": "dkEH5qsYGBLK",
        "colab": {
          "base_uri": "https://localhost:8080/"
        },
        "outputId": "65d70911-4e05-4f47-f056-1873f923d0ab"
      },
      "execution_count": 40,
      "outputs": [
        {
          "output_type": "execute_result",
          "data": {
            "text/plain": [
              "1    1939490\n",
              "2       1053\n",
              "0        113\n",
              "Name: Madre sobrevivio al parto, dtype: int64"
            ]
          },
          "metadata": {},
          "execution_count": 40
        }
      ]
    },
    {
      "cell_type": "code",
      "source": [
        "# Con MCF\n",
        "df[df[\"MCC-General\"] == 1][key].value_counts()"
      ],
      "metadata": {
        "colab": {
          "base_uri": "https://localhost:8080/"
        },
        "id": "n-9GpH39ljRI",
        "outputId": "ee23a8cd-fc4c-4a08-d460-faca5ec85184"
      },
      "execution_count": 41,
      "outputs": [
        {
          "output_type": "execute_result",
          "data": {
            "text/plain": [
              "1    4251\n",
              "2       3\n",
              "0       1\n",
              "Name: Madre sobrevivio al parto, dtype: int64"
            ]
          },
          "metadata": {},
          "execution_count": 41
        }
      ]
    },
    {
      "cell_type": "markdown",
      "source": [
        "#Madre recibio atencion prenatal\n",
        "* Si 1\n",
        "* No 2\n",
        "* no aplica, se ignora, no especificado 0, 8, 9"
      ],
      "metadata": {
        "id": "m4fTrHjgh78O"
      }
    },
    {
      "cell_type": "code",
      "source": [
        "etiqueta = 'ATENCIONPRENATAL'\n",
        "no_especificado = [0, 8, 9]\n",
        "key = \"Madre recibio atencion prenatal\"\n",
        "df[key] = None\n",
        "\n",
        "df[key].mask(df[etiqueta] == 1, 1, inplace=True)\n",
        "df[key].mask(df[etiqueta] == 2, 0, inplace=True)\n",
        "df[key].value_counts()\n"
      ],
      "metadata": {
        "id": "PS2sOsXiw4aV",
        "colab": {
          "base_uri": "https://localhost:8080/"
        },
        "outputId": "d2df4de1-4082-4c12-cff2-64aa34cb42f4"
      },
      "execution_count": 42,
      "outputs": [
        {
          "output_type": "execute_result",
          "data": {
            "text/plain": [
              "1    1892419\n",
              "0      42987\n",
              "Name: Madre recibio atencion prenatal, dtype: int64"
            ]
          },
          "metadata": {},
          "execution_count": 42
        }
      ]
    },
    {
      "cell_type": "code",
      "source": [
        "# Con MCF\n",
        "df[df[\"MCC-General\"] == 1][key].value_counts()"
      ],
      "metadata": {
        "colab": {
          "base_uri": "https://localhost:8080/"
        },
        "id": "ayCsaBLllkKN",
        "outputId": "e916a4ed-f8ee-46e6-c77d-8d6a20403014"
      },
      "execution_count": 43,
      "outputs": [
        {
          "output_type": "execute_result",
          "data": {
            "text/plain": [
              "1    4156\n",
              "0      90\n",
              "Name: Madre recibio atencion prenatal, dtype: int64"
            ]
          },
          "metadata": {},
          "execution_count": 43
        }
      ]
    },
    {
      "cell_type": "markdown",
      "source": [
        "#Trimestre de primer consulta\n",
        "Trimestre 1\n",
        "Trimestre 2\n",
        "Trimestre 3"
      ],
      "metadata": {
        "id": "nZzoZX2NiAaM"
      }
    },
    {
      "cell_type": "code",
      "source": [
        "etiqueta = 'TRIMESTREPRIMERCONSULTA'\n",
        "key = \"Trimestre de la primera consulta\"\n",
        "df[key] = None\n",
        "\n",
        "df[key].mask(df[etiqueta] == 1, 1, inplace=True)\n",
        "df[key].mask(df[etiqueta] == 2, 2, inplace=True)\n",
        "df[key].mask(df[etiqueta] == 3, 3, inplace=True)\n",
        "df[key].value_counts()"
      ],
      "metadata": {
        "id": "9SE2H-FixTEw",
        "colab": {
          "base_uri": "https://localhost:8080/"
        },
        "outputId": "58f8141c-d597-46de-8bcc-17412ff204bd"
      },
      "execution_count": 44,
      "outputs": [
        {
          "output_type": "execute_result",
          "data": {
            "text/plain": [
              "1    1483361\n",
              "2     335736\n",
              "3      57611\n",
              "Name: Trimestre de la primera consulta, dtype: int64"
            ]
          },
          "metadata": {},
          "execution_count": 44
        }
      ]
    },
    {
      "cell_type": "code",
      "source": [
        "# Con MCF\n",
        "df[df[\"MCC-General\"] == 1][key].value_counts()"
      ],
      "metadata": {
        "colab": {
          "base_uri": "https://localhost:8080/"
        },
        "id": "625Hfe0HlktV",
        "outputId": "312c428f-e881-40b3-d111-91f938ede9ca"
      },
      "execution_count": 45,
      "outputs": [
        {
          "output_type": "execute_result",
          "data": {
            "text/plain": [
              "1    3249\n",
              "2     751\n",
              "3     122\n",
              "Name: Trimestre de la primera consulta, dtype: int64"
            ]
          },
          "metadata": {},
          "execution_count": 45
        }
      ]
    },
    {
      "cell_type": "markdown",
      "source": [
        "# Total de consulta durante el embarazo\n",
        "Suficiente (5 o mas citas)\n",
        "Insuficiente (1-4 citas)\n",
        "No recibió (0 citas)"
      ],
      "metadata": {
        "id": "Va7KRG1BiMKK"
      }
    },
    {
      "cell_type": "code",
      "source": [
        "etiqueta = 'TOTALCONSULTAS'\n",
        "key = \"Total numero de consultas embarazo\"\n",
        "df[key] = None\n",
        "\n",
        "df[key].mask(df[etiqueta] == 0, 0, inplace=True)\n",
        "df[key].mask((df[etiqueta] >= 1) & (df[etiqueta] < 5), 1, inplace=True)\n",
        "df[key].mask((df[etiqueta] >= 5) & (df[etiqueta] != 99), 2, inplace=True)\n",
        "df[key].value_counts()"
      ],
      "metadata": {
        "id": "8Mw7jhQBxwXe",
        "colab": {
          "base_uri": "https://localhost:8080/"
        },
        "outputId": "596df340-e7f2-47ec-c3d6-11e2560fd325"
      },
      "execution_count": 46,
      "outputs": [
        {
          "output_type": "execute_result",
          "data": {
            "text/plain": [
              "2    1627006\n",
              "1     240301\n",
              "0      42996\n",
              "Name: Total numero de consultas embarazo, dtype: int64"
            ]
          },
          "metadata": {},
          "execution_count": 46
        }
      ]
    },
    {
      "cell_type": "code",
      "source": [
        "# Con MCF\n",
        "df[df[\"MCC-General\"] == 1][key].value_counts()"
      ],
      "metadata": {
        "colab": {
          "base_uri": "https://localhost:8080/"
        },
        "id": "avL8dBVqllPJ",
        "outputId": "9bfec632-721a-44d8-f225-4843022ea2f1"
      },
      "execution_count": 47,
      "outputs": [
        {
          "output_type": "execute_result",
          "data": {
            "text/plain": [
              "2    3592\n",
              "1     500\n",
              "0      90\n",
              "Name: Total numero de consultas embarazo, dtype: int64"
            ]
          },
          "metadata": {},
          "execution_count": 47
        }
      ]
    },
    {
      "cell_type": "markdown",
      "source": [
        "#Escolaridad materna\n",
        "Ninguno (0, 1, 32, 88, 99)\n",
        "Primaria completa (31, 52, 112)\n",
        "Secundaria completa (51, 72)\n",
        "Bachillerato o preparatoria completa (71, 82)\n",
        "Licenciatura completa (81, 102)\n",
        "Posgrado (101)\n",
        "Tecnico terminal (111, 131, 132)\n"
      ],
      "metadata": {
        "id": "7Qiqa1FSjCmR"
      }
    },
    {
      "cell_type": "code",
      "source": [
        "etiqueta = 'ESCOLARIDAD'\n",
        "ninguno = [1]\n",
        "primaria = [2, 3, 4]\n",
        "secundaria = [6, 5]\n",
        "bachiller = [7, 11]\n",
        "licenciatura = [8, 12]\n",
        "posgrado = [10]\n",
        "tecnico = [] # no hay tecnico\n",
        "no_esp = [0, 88, 99]\n",
        "key = \"Escolaridad materna\"\n",
        "df[key] = None\n",
        "df[key].mask(df[etiqueta].isin(ninguno), 0, inplace=True)\n",
        "df[key].mask(df[etiqueta].isin(primaria), 1, inplace=True)\n",
        "df[key].mask(df[etiqueta].isin(secundaria), 2, inplace=True)\n",
        "df[key].mask(df[etiqueta].isin(bachiller), 3, inplace=True)\n",
        "df[key].mask(df[etiqueta].isin(licenciatura), 4, inplace=True)\n",
        "df[key].mask(df[etiqueta].isin(posgrado), 5, inplace=True)\n",
        "df[key].mask(df[etiqueta].isin(no_esp), 7, inplace=True)\n",
        "df[key].value_counts()"
      ],
      "metadata": {
        "id": "P9NE5d9Ryjra",
        "colab": {
          "base_uri": "https://localhost:8080/"
        },
        "outputId": "35bc6cb5-ac7d-4547-b29c-7ebdbaaae9f2"
      },
      "execution_count": 48,
      "outputs": [
        {
          "output_type": "execute_result",
          "data": {
            "text/plain": [
              "2    759611\n",
              "3    514928\n",
              "1    318364\n",
              "4    271396\n",
              "0     32300\n",
              "7     23868\n",
              "5     20189\n",
              "Name: Escolaridad materna, dtype: int64"
            ]
          },
          "metadata": {},
          "execution_count": 48
        }
      ]
    },
    {
      "cell_type": "code",
      "source": [
        "# Con MCF\n",
        "df[df[\"MCC-General\"] == 1][key].value_counts()"
      ],
      "metadata": {
        "colab": {
          "base_uri": "https://localhost:8080/"
        },
        "id": "XKfbkOYfll4_",
        "outputId": "6998bdef-7b2b-4051-8714-ae875111b9af"
      },
      "execution_count": 49,
      "outputs": [
        {
          "output_type": "execute_result",
          "data": {
            "text/plain": [
              "2    1659\n",
              "3    1096\n",
              "1     711\n",
              "4     617\n",
              "0      86\n",
              "7      43\n",
              "5      43\n",
              "Name: Escolaridad materna, dtype: int64"
            ]
          },
          "metadata": {},
          "execution_count": 49
        }
      ]
    },
    {
      "cell_type": "markdown",
      "source": [
        "# Entidad federativa de parto ENTIDADFEDERATIVAPARTO\n",
        "df.agg(['count', 'size', 'nunique'])\n"
      ],
      "metadata": {
        "id": "A8W_dAXfqMfH"
      }
    },
    {
      "cell_type": "code",
      "source": [
        "key='ENTIDADFEDERATIVAPARTO'\n",
        "df[key].mask(df[key] == 99, None, inplace=True)\n",
        "df[key].value_counts()"
      ],
      "metadata": {
        "id": "cP4WX7HPr2s0",
        "colab": {
          "base_uri": "https://localhost:8080/"
        },
        "outputId": "fd99ba9e-8252-4588-eaf0-3265be688934"
      },
      "execution_count": 50,
      "outputs": [
        {
          "output_type": "execute_result",
          "data": {
            "text/plain": [
              "15.0    196363\n",
              "9.0     144617\n",
              "30.0    138869\n",
              "14.0    125116\n",
              "21.0    124012\n",
              "11.0    108147\n",
              "7.0      89434\n",
              "16.0     89329\n",
              "20.0     83933\n",
              "12.0     76700\n",
              "19.0     68171\n",
              "5.0      54161\n",
              "24.0     53182\n",
              "8.0      51541\n",
              "25.0     50907\n",
              "28.0     48573\n",
              "27.0     45516\n",
              "13.0     45366\n",
              "26.0     39735\n",
              "10.0     34411\n",
              "31.0     33973\n",
              "22.0     31553\n",
              "32.0     30791\n",
              "2.0      30318\n",
              "17.0     24074\n",
              "1.0      23549\n",
              "29.0     21588\n",
              "18.0     17992\n",
              "23.0     13185\n",
              "4.0      12736\n",
              "6.0       9334\n",
              "3.0       6743\n",
              "34.0      4324\n",
              "35.0      3015\n",
              "33.0      2340\n",
              "36.0        29\n",
              "Name: ENTIDADFEDERATIVAPARTO, dtype: int64"
            ]
          },
          "metadata": {},
          "execution_count": 50
        }
      ]
    },
    {
      "cell_type": "code",
      "source": [
        "# Con MCF\n",
        "df[df[\"MCC-General\"] == 1][key].value_counts()"
      ],
      "metadata": {
        "colab": {
          "base_uri": "https://localhost:8080/"
        },
        "id": "Bu7VowiWlzCy",
        "outputId": "c11ad89e-f50b-44f9-a8cc-efdee521acb6"
      },
      "execution_count": 51,
      "outputs": [
        {
          "output_type": "execute_result",
          "data": {
            "text/plain": [
              "15.0    466\n",
              "9.0     400\n",
              "14.0    363\n",
              "30.0    319\n",
              "21.0    278\n",
              "11.0    252\n",
              "20.0    204\n",
              "16.0    173\n",
              "12.0    167\n",
              "22.0    148\n",
              "1.0     129\n",
              "7.0     129\n",
              "5.0     105\n",
              "8.0     105\n",
              "31.0    104\n",
              "24.0     92\n",
              "13.0     88\n",
              "28.0     75\n",
              "32.0     66\n",
              "25.0     62\n",
              "29.0     57\n",
              "19.0     57\n",
              "27.0     53\n",
              "10.0     50\n",
              "26.0     50\n",
              "17.0     49\n",
              "4.0      44\n",
              "2.0      37\n",
              "18.0     34\n",
              "23.0     25\n",
              "6.0      23\n",
              "3.0      22\n",
              "34.0      6\n",
              "35.0      5\n",
              "33.0      4\n",
              "Name: ENTIDADFEDERATIVAPARTO, dtype: int64"
            ]
          },
          "metadata": {},
          "execution_count": 51
        }
      ]
    },
    {
      "cell_type": "markdown",
      "source": [
        "# Sexo del recien nacido SEXO\n",
        "* Hombre 1\n",
        "* mujer 2\n",
        "* no especificado 0,9"
      ],
      "metadata": {
        "id": "4tMxn-Thwq8J"
      }
    },
    {
      "cell_type": "code",
      "source": [
        "etiqueta = 'SEXO'\n",
        "key = \"Escolaridad materna\"\n",
        "df[key] = None\n",
        "df[key].mask(df[etiqueta] == 1, 1, inplace=True)\n",
        "df[key].mask(df[etiqueta] == 2, 2, inplace=True)\n",
        "df[key].mask((df[etiqueta] == 0) | (df[etiqueta] == 9), 3, inplace=True)\n",
        "df[key].value_counts()"
      ],
      "metadata": {
        "id": "E6wVOkSX68at",
        "colab": {
          "base_uri": "https://localhost:8080/"
        },
        "outputId": "065c64ed-97f2-48b2-c653-e28cc6097190"
      },
      "execution_count": 52,
      "outputs": [
        {
          "output_type": "execute_result",
          "data": {
            "text/plain": [
              "1    987679\n",
              "2    951465\n",
              "3      1512\n",
              "Name: Escolaridad materna, dtype: int64"
            ]
          },
          "metadata": {},
          "execution_count": 52
        }
      ]
    },
    {
      "cell_type": "code",
      "source": [
        "# Con MCF\n",
        "df[df[\"MCC-General\"] == 1][key].value_counts()"
      ],
      "metadata": {
        "colab": {
          "base_uri": "https://localhost:8080/"
        },
        "id": "urwEAA2Fl7-p",
        "outputId": "79ca77a2-7577-4121-abf5-b1e943ae04b0"
      },
      "execution_count": 53,
      "outputs": [
        {
          "output_type": "execute_result",
          "data": {
            "text/plain": [
              "1    2385\n",
              "2    1868\n",
              "3       2\n",
              "Name: Escolaridad materna, dtype: int64"
            ]
          },
          "metadata": {},
          "execution_count": 53
        }
      ]
    },
    {
      "cell_type": "markdown",
      "source": [
        "# Edad gestacional EDADGESTACIONAL\n",
        "* pretermino =<36 semanas\n",
        "* termino 37-41 semanas\n",
        "* postermino =>42 semanas"
      ],
      "metadata": {
        "id": "2Wr4TGM9xfy0"
      }
    },
    {
      "cell_type": "code",
      "source": [
        "etiqueta = 'EDADGESTACIONAL'\n",
        "key = \"Edad gestacional\"\n",
        "df[key] = None\n",
        "df[key].mask(df[etiqueta] <= 36, 1, inplace=True)\n",
        "df[key].mask((df[etiqueta] > 36) & (df[etiqueta] < 42), 2, inplace=True)\n",
        "df[key].mask((df[etiqueta] >= 42) & (df[etiqueta] != 99), 3, inplace=True)\n",
        "df[key].value_counts()"
      ],
      "metadata": {
        "id": "1_brL3vk7E_W",
        "colab": {
          "base_uri": "https://localhost:8080/"
        },
        "outputId": "e4937059-14d2-4e76-da51-09da243b72e9"
      },
      "execution_count": 54,
      "outputs": [
        {
          "output_type": "execute_result",
          "data": {
            "text/plain": [
              "2    1779460\n",
              "1     141582\n",
              "3      16730\n",
              "Name: Edad gestacional, dtype: int64"
            ]
          },
          "metadata": {},
          "execution_count": 54
        }
      ]
    },
    {
      "cell_type": "code",
      "source": [
        "# Con MCF\n",
        "df[df[\"MCC-General\"] == 1][key].value_counts()"
      ],
      "metadata": {
        "colab": {
          "base_uri": "https://localhost:8080/"
        },
        "id": "GsWYbMMzl9P7",
        "outputId": "0171e257-71ee-44cd-8fbc-b86f40a1c1ae"
      },
      "execution_count": 55,
      "outputs": [
        {
          "output_type": "execute_result",
          "data": {
            "text/plain": [
              "2    3595\n",
              "1     610\n",
              "3      42\n",
              "Name: Edad gestacional, dtype: int64"
            ]
          },
          "metadata": {},
          "execution_count": 55
        }
      ]
    },
    {
      "cell_type": "markdown",
      "source": [
        "# Peso del recien nacido PESO\n",
        "* bajo peso =<2499gr\n",
        "* normopeso 2500-3999gr\n",
        "* macrosomico =>4000 gr"
      ],
      "metadata": {
        "id": "xwau8qdvyuOm"
      }
    },
    {
      "cell_type": "code",
      "source": [
        "etiqueta = 'PESO'\n",
        "key = \"Peso del nacido vivo\"\n",
        "df[key] = None\n",
        "df[key].mask(df[etiqueta] < 2500, 1, inplace=True)\n",
        "df[key].mask((df[etiqueta] >= 2500) & (df[etiqueta] < 4000), 2, inplace=True)\n",
        "df[key].mask((df[etiqueta] >= 4000) & (df[etiqueta] != 9999), 3, inplace=True)\n",
        "df[key].value_counts()"
      ],
      "metadata": {
        "id": "cOUHFGiF7v4d",
        "colab": {
          "base_uri": "https://localhost:8080/"
        },
        "outputId": "272b7b48-516b-4ef5-8943-bc8accf9a799"
      },
      "execution_count": 56,
      "outputs": [
        {
          "output_type": "execute_result",
          "data": {
            "text/plain": [
              "2    1676037\n",
              "1     127191\n",
              "3      49706\n",
              "Name: Peso del nacido vivo, dtype: int64"
            ]
          },
          "metadata": {},
          "execution_count": 56
        }
      ]
    },
    {
      "cell_type": "code",
      "source": [
        "# Con MCF\n",
        "df[df[\"MCC-General\"] == 1][key].value_counts()"
      ],
      "metadata": {
        "colab": {
          "base_uri": "https://localhost:8080/"
        },
        "id": "UdMHTJtpl-Da",
        "outputId": "c2a6ce79-b7b0-40c5-d354-b43dba551aee"
      },
      "execution_count": 57,
      "outputs": [
        {
          "output_type": "execute_result",
          "data": {
            "text/plain": [
              "2    3320\n",
              "1     484\n",
              "3     112\n",
              "Name: Peso del nacido vivo, dtype: int64"
            ]
          },
          "metadata": {},
          "execution_count": 57
        }
      ]
    },
    {
      "cell_type": "markdown",
      "source": [
        "# Puntaje escala APGAR a los 5 minutos de recien nacido con MCF APGAR\n",
        "* Normal 7-10 puntos\n",
        "* Depresion moderada 4-6 puntos\n",
        "* Depresion severa 0-3 puntos"
      ],
      "metadata": {
        "id": "lHQAqlNDzzNx"
      }
    },
    {
      "cell_type": "code",
      "source": [
        "etiqueta = 'APGAR'\n",
        "key = \"Puntaje apgar\"\n",
        "df[key] = None\n",
        "df[key].mask((df[etiqueta] >= 7) & (df[etiqueta] <= 10), 1, inplace=True)\n",
        "df[key].mask((df[etiqueta] >= 4) & (df[etiqueta] <= 6), 2, inplace=True)\n",
        "df[key].mask((df[etiqueta] >= 0) & (df[etiqueta] <= 3), 3, inplace=True)\n",
        "df[key].mask((df[etiqueta] == 99), 4, inplace=True)\n",
        "df[key].value_counts()"
      ],
      "metadata": {
        "id": "7AVDt77-77gS",
        "colab": {
          "base_uri": "https://localhost:8080/"
        },
        "outputId": "a99400fb-b5c3-406e-d89c-989348539fba"
      },
      "execution_count": 58,
      "outputs": [
        {
          "output_type": "execute_result",
          "data": {
            "text/plain": [
              "1    1904890\n",
              "3      13103\n",
              "4      12662\n",
              "2      10001\n",
              "Name: Puntaje apgar, dtype: int64"
            ]
          },
          "metadata": {},
          "execution_count": 58
        }
      ]
    },
    {
      "cell_type": "code",
      "source": [
        "# Con MCF\n",
        "df[df[\"MCC-General\"] == 1][key].value_counts()"
      ],
      "metadata": {
        "colab": {
          "base_uri": "https://localhost:8080/"
        },
        "id": "TnsrjT6zl-pZ",
        "outputId": "a4e2b076-3d7d-4989-c0ee-e00e7b26f52d"
      },
      "execution_count": 59,
      "outputs": [
        {
          "output_type": "execute_result",
          "data": {
            "text/plain": [
              "1    4119\n",
              "3      58\n",
              "2      57\n",
              "4      21\n",
              "Name: Puntaje apgar, dtype: int64"
            ]
          },
          "metadata": {},
          "execution_count": 59
        }
      ]
    },
    {
      "cell_type": "markdown",
      "source": [
        "# Puntaje escala Silverman Anderson en recien nacidos con MCF SILVERMAN\n",
        "* sin dificultad respiratoria\n",
        "* dificultad respiratoria leve 1-3 puntos\n",
        "* dificultad respiratoria moderada 4-6 puntos\n",
        "* dificultad respiratoria severa 7-10 puntos"
      ],
      "metadata": {
        "id": "ZOcCSIww0j-W"
      }
    },
    {
      "cell_type": "code",
      "source": [
        "etiqueta = 'SILVERMAN'\n",
        "key = \"Puntaje silverman\"\n",
        "df[key] = None\n",
        "df[key].mask(df[etiqueta] == 0, 0, inplace=True)\n",
        "df[key].mask((df[etiqueta] >= 1) & (df[etiqueta] <= 3), 1, inplace=True)\n",
        "df[key].mask((df[etiqueta] >= 4) & (df[etiqueta] <= 6), 2, inplace=True)\n",
        "df[key].mask((df[etiqueta] >= 7) & (df[etiqueta] <= 10), 3, inplace=True)\n",
        "df[key].mask((df[etiqueta] == 99), 4, inplace=True)\n",
        "df[key].value_counts()"
      ],
      "metadata": {
        "id": "LN-RMnxe8bAa",
        "colab": {
          "base_uri": "https://localhost:8080/"
        },
        "outputId": "25bb73c6-7a15-4255-a111-f45f5efc0fa2"
      },
      "execution_count": 60,
      "outputs": [
        {
          "output_type": "execute_result",
          "data": {
            "text/plain": [
              "0    1727772\n",
              "1     167522\n",
              "3      19713\n",
              "4      17040\n",
              "2       8609\n",
              "Name: Puntaje silverman, dtype: int64"
            ]
          },
          "metadata": {},
          "execution_count": 60
        }
      ]
    },
    {
      "cell_type": "code",
      "source": [
        "# Con MCF\n",
        "df[df[\"MCC-General\"] == 1][key].value_counts()"
      ],
      "metadata": {
        "colab": {
          "base_uri": "https://localhost:8080/"
        },
        "id": "voxGjjw2mAb_",
        "outputId": "4984d45a-e011-4317-90fc-b399bda2e53a"
      },
      "execution_count": 61,
      "outputs": [
        {
          "output_type": "execute_result",
          "data": {
            "text/plain": [
              "0    3450\n",
              "1     684\n",
              "2      48\n",
              "4      44\n",
              "3      29\n",
              "Name: Puntaje silverman, dtype: int64"
            ]
          },
          "metadata": {},
          "execution_count": 61
        }
      ]
    },
    {
      "cell_type": "markdown",
      "source": [
        "# Procedimiento utilizado para resolucion del embarazo RESOLUCIONEMBARAZO\n",
        "\n",
        "* eutocico 1 - (1)\n",
        "* distocico 4 - (2)\n",
        "* cesarea 2 (3)\n",
        "* otro 3, 8 (4)\n",
        "* no especificado 9 (5)"
      ],
      "metadata": {
        "id": "vAjVNQj-2PBb"
      }
    },
    {
      "cell_type": "code",
      "source": [
        "etiqueta = 'RESOLUCIONEMBARAZO'\n",
        "key = \"Procedimiento para resolucion\"\n",
        "otro = [3, 8]\n",
        "df[key] = None\n",
        "df[key].mask(df[etiqueta] == 1, 1, inplace=True)\n",
        "df[key].mask(df[etiqueta] == 2, 2, inplace=True)\n",
        "df[key].mask(df[etiqueta] == 3, 3, inplace=True)\n",
        "df[key].mask(df[etiqueta].isin(otro), 4, inplace=True)\n",
        "df[key].mask(df[etiqueta] == 9, 5, inplace=True)\n",
        "\n",
        "df[key].value_counts()"
      ],
      "metadata": {
        "id": "J6OdfDbk_tfN",
        "colab": {
          "base_uri": "https://localhost:8080/"
        },
        "outputId": "2d620834-3e6f-4be4-aff5-088d9c2abf85"
      },
      "execution_count": 62,
      "outputs": [
        {
          "output_type": "execute_result",
          "data": {
            "text/plain": [
              "1    1000460\n",
              "2     913518\n",
              "4       4078\n",
              "5       2328\n",
              "Name: Procedimiento para resolucion, dtype: int64"
            ]
          },
          "metadata": {},
          "execution_count": 62
        }
      ]
    },
    {
      "cell_type": "code",
      "source": [
        "# Con MCF\n",
        "df[df[\"MCC-General\"] == 1][key].value_counts()"
      ],
      "metadata": {
        "colab": {
          "base_uri": "https://localhost:8080/"
        },
        "id": "Y5wJKzmPmH7N",
        "outputId": "66cefb39-539a-4097-f5cb-121ac90c4a4d"
      },
      "execution_count": 63,
      "outputs": [
        {
          "output_type": "execute_result",
          "data": {
            "text/plain": [
              "2    2280\n",
              "1    1896\n",
              "4      13\n",
              "5       8\n",
              "Name: Procedimiento para resolucion, dtype: int64"
            ]
          },
          "metadata": {},
          "execution_count": 63
        }
      ]
    },
    {
      "cell_type": "markdown",
      "source": [
        "# FECHANACIMIENTO\n",
        "Actualizar para solo usar el mes y el año\n",
        "\n",
        "Sería\n",
        "- 2018 (1)\n",
        "- 2019 (2)\n",
        "- 2020 (3)\n",
        "- 2021 (4)\n",
        "- 2022 (5)"
      ],
      "metadata": {
        "id": "4K1Qzsfr7gzY"
      }
    },
    {
      "cell_type": "code",
      "source": [
        "etiqueta = 'FECHANACIMIENTO'\n",
        "df[etiqueta]"
      ],
      "metadata": {
        "colab": {
          "base_uri": "https://localhost:8080/"
        },
        "id": "3e6O-Z1B7gVE",
        "outputId": "ac8f4eb0-410f-4d90-af6c-d00fa46bb4e9"
      },
      "execution_count": 64,
      "outputs": [
        {
          "output_type": "execute_result",
          "data": {
            "text/plain": [
              "0          13/08/2018\n",
              "1          13/08/2018\n",
              "2          13/08/2018\n",
              "3          13/08/2018\n",
              "4          13/08/2018\n",
              "              ...    \n",
              "1940651    10/01/2018\n",
              "1940652    10/01/2018\n",
              "1940653    10/01/2018\n",
              "1940654    01/05/2018\n",
              "1940655    01/05/2018\n",
              "Name: FECHANACIMIENTO, Length: 1940656, dtype: object"
            ]
          },
          "metadata": {},
          "execution_count": 64
        }
      ]
    },
    {
      "cell_type": "code",
      "source": [
        "etiqueta = 'fecha nacimiento'\n",
        "df[etiqueta] = pd.to_datetime(df['FECHANACIMIENTO'], format='%d/%m/%Y').dt.strftime('%m/%Y')\n",
        "key = 'Year'\n",
        "format = '01/01/' + year\n",
        "df[key] = None\n",
        "df[key].mask(df[etiqueta] >= format, year_key[year], inplace=True)\n",
        "df[key].value_counts()"
      ],
      "metadata": {
        "colab": {
          "base_uri": "https://localhost:8080/"
        },
        "id": "yLwR5rSw8HK_",
        "outputId": "624983da-22f8-4c80-938b-830c649a9e41"
      },
      "execution_count": 65,
      "outputs": [
        {
          "output_type": "execute_result",
          "data": {
            "text/plain": [
              "1    1940656\n",
              "Name: Year, dtype: int64"
            ]
          },
          "metadata": {},
          "execution_count": 65
        }
      ]
    },
    {
      "cell_type": "code",
      "source": [
        "fileName = '/content/drive/My Drive/Colab Notebooks/miriam/' + year + '_nacimientos_clean.csv'\n",
        "df.to_csv(fileName, index=False)"
      ],
      "metadata": {
        "id": "MblUg8Ik4E75"
      },
      "execution_count": 66,
      "outputs": []
    },
    {
      "cell_type": "markdown",
      "source": [
        "# Analisis de datos"
      ],
      "metadata": {
        "id": "fAJb6NvvPBgF"
      }
    },
    {
      "cell_type": "code",
      "source": [
        "df['EDAD'].replace([999, 888], None)\n",
        "df['NUMEROEMBARAZOS'].replace([99], None)\n",
        "df['HIJOSNACIDOSMUERTOS'].replace([99], None)\n",
        "df['ATENCIONPRENATAL'].replace([9], None)\n",
        "df['TRIMESTREPRIMERCONSULTA'].replace([9], None)\n",
        "df['TOTALCONSULTAS'].replace([99], None)\n",
        "df['SOBREVIVIOPARTO'].replace([9], None)\n",
        "df['ESCOLARIDAD'].replace([999], None)\n",
        "df['SEXO'].replace([99], None)\n",
        "df['EDADGESTACIONAL'].replace([99], None)\n",
        "df['TALLA'].replace([99], None)\n",
        "df['PESO'].replace([9999], None)\n",
        "df['TALLA'].replace([9], None)\n",
        "df['APGAR'].replace([99], None)\n",
        "df['SILVERMAN'].replace([99], None)"
      ],
      "metadata": {
        "colab": {
          "base_uri": "https://localhost:8080/"
        },
        "id": "aGP9TrdjavJ1",
        "outputId": "0b423417-8e87-4ad6-ad9a-f78290a021af"
      },
      "execution_count": 67,
      "outputs": [
        {
          "output_type": "execute_result",
          "data": {
            "text/plain": [
              "0          0\n",
              "1          0\n",
              "2          0\n",
              "3          0\n",
              "4          0\n",
              "          ..\n",
              "1940651    0\n",
              "1940652    0\n",
              "1940653    0\n",
              "1940654    0\n",
              "1940655    0\n",
              "Name: SILVERMAN, Length: 1940656, dtype: object"
            ]
          },
          "metadata": {},
          "execution_count": 67
        }
      ]
    },
    {
      "cell_type": "markdown",
      "source": [
        "### Pacientes con MCF"
      ],
      "metadata": {
        "id": "MkeRvlDpInnx"
      }
    },
    {
      "cell_type": "code",
      "source": [
        "label = \"MCC-General\"\n",
        "df[df[label] == 1].describe().applymap('{:,.2f}'.format)"
      ],
      "metadata": {
        "colab": {
          "base_uri": "https://localhost:8080/",
          "height": 350
        },
        "id": "JrdDLCD5PWXS",
        "outputId": "e7c3aabc-0dae-4a58-e7b0-90792dfeb71d"
      },
      "execution_count": 68,
      "outputs": [
        {
          "output_type": "execute_result",
          "data": {
            "text/plain": [
              "         Unnamed: 0 ENTIDADFEDERATIVAPARTO      EDAD NUMEROEMBARAZOS  \\\n",
              "count      4,255.00               4,241.00  4,255.00        4,255.00   \n",
              "mean     987,272.58                  16.42     26.40            2.27   \n",
              "std      563,256.82                   8.11     16.31            2.45   \n",
              "min          616.00                   1.00     13.00            1.00   \n",
              "25%      497,916.50                  11.00     21.00            1.00   \n",
              "50%      999,904.00                  15.00     25.00            2.00   \n",
              "75%    1,465,315.00                  22.00     31.00            3.00   \n",
              "max    1,940,258.00                  35.00    999.00           99.00   \n",
              "\n",
              "      HIJOSNACIDOSMUERTOS ATENCIONPRENATAL TRIMESTREPRIMERCONSULTA  \\\n",
              "count            4,255.00         4,255.00                4,255.00   \n",
              "mean                 0.58             1.04                    1.29   \n",
              "std                  5.88             0.39                    0.93   \n",
              "min                  0.00             1.00                    0.00   \n",
              "25%                  0.00             1.00                    1.00   \n",
              "50%                  0.00             1.00                    1.00   \n",
              "75%                  0.00             1.00                    1.00   \n",
              "max                 99.00             9.00                    9.00   \n",
              "\n",
              "      TOTALCONSULTAS SOBREVIVIOPARTO ESCOLARIDAD  ... EDADGESTACIONAL  \\\n",
              "count       4,255.00        4,255.00    4,255.00  ...        4,255.00   \n",
              "mean            9.23            1.01        6.65  ...           38.38   \n",
              "std            12.34            0.20        9.01  ...            3.48   \n",
              "min             0.00            1.00        1.00  ...           20.00   \n",
              "25%             6.00            1.00        5.00  ...           38.00   \n",
              "50%             8.00            1.00        5.00  ...           39.00   \n",
              "75%            10.00            1.00        7.00  ...           40.00   \n",
              "max            99.00            9.00       99.00  ...           99.00   \n",
              "\n",
              "          TALLA      PESO     APGAR SILVERMAN PRODUCTOEMBARAZO  \\\n",
              "count  4,255.00  4,255.00  4,255.00  4,255.00         4,255.00   \n",
              "mean      49.13  3,587.07      9.18      1.40             1.03   \n",
              "std        4.61  1,958.14      6.41     10.03             0.41   \n",
              "min       22.00    280.00      0.00      0.00             1.00   \n",
              "25%       48.00  2,792.50      9.00      0.00             1.00   \n",
              "50%       50.00  3,120.00      9.00      0.00             1.00   \n",
              "75%       51.00  3,470.00      9.00      0.00             1.00   \n",
              "max       99.00  9,999.00     99.00     99.00             9.00   \n",
              "\n",
              "      RESOLUCIONEMBARAZO       MC-1       MC-2       MC-G  \n",
              "count           4,255.00   4,255.00   4,255.00   4,255.00  \n",
              "mean                1.60   3,950.79   1,101.66   5,052.45  \n",
              "std                 0.67   4,868.82   3,111.48   6,147.97  \n",
              "min                 1.00       0.00       0.00       1.00  \n",
              "25%                 1.00      10.00       0.00      10.00  \n",
              "50%                 2.00      10.00       0.00     100.00  \n",
              "75%                 2.00  10,000.00      10.00  10,000.00  \n",
              "max                 9.00  10,000.00  10,000.00  20,000.00  \n",
              "\n",
              "[8 rows x 21 columns]"
            ],
            "text/html": [
              "\n",
              "  <div id=\"df-c964f4a6-f5c8-4f3e-a13f-7c95b73a5594\" class=\"colab-df-container\">\n",
              "    <div>\n",
              "<style scoped>\n",
              "    .dataframe tbody tr th:only-of-type {\n",
              "        vertical-align: middle;\n",
              "    }\n",
              "\n",
              "    .dataframe tbody tr th {\n",
              "        vertical-align: top;\n",
              "    }\n",
              "\n",
              "    .dataframe thead th {\n",
              "        text-align: right;\n",
              "    }\n",
              "</style>\n",
              "<table border=\"1\" class=\"dataframe\">\n",
              "  <thead>\n",
              "    <tr style=\"text-align: right;\">\n",
              "      <th></th>\n",
              "      <th>Unnamed: 0</th>\n",
              "      <th>ENTIDADFEDERATIVAPARTO</th>\n",
              "      <th>EDAD</th>\n",
              "      <th>NUMEROEMBARAZOS</th>\n",
              "      <th>HIJOSNACIDOSMUERTOS</th>\n",
              "      <th>ATENCIONPRENATAL</th>\n",
              "      <th>TRIMESTREPRIMERCONSULTA</th>\n",
              "      <th>TOTALCONSULTAS</th>\n",
              "      <th>SOBREVIVIOPARTO</th>\n",
              "      <th>ESCOLARIDAD</th>\n",
              "      <th>...</th>\n",
              "      <th>EDADGESTACIONAL</th>\n",
              "      <th>TALLA</th>\n",
              "      <th>PESO</th>\n",
              "      <th>APGAR</th>\n",
              "      <th>SILVERMAN</th>\n",
              "      <th>PRODUCTOEMBARAZO</th>\n",
              "      <th>RESOLUCIONEMBARAZO</th>\n",
              "      <th>MC-1</th>\n",
              "      <th>MC-2</th>\n",
              "      <th>MC-G</th>\n",
              "    </tr>\n",
              "  </thead>\n",
              "  <tbody>\n",
              "    <tr>\n",
              "      <th>count</th>\n",
              "      <td>4,255.00</td>\n",
              "      <td>4,241.00</td>\n",
              "      <td>4,255.00</td>\n",
              "      <td>4,255.00</td>\n",
              "      <td>4,255.00</td>\n",
              "      <td>4,255.00</td>\n",
              "      <td>4,255.00</td>\n",
              "      <td>4,255.00</td>\n",
              "      <td>4,255.00</td>\n",
              "      <td>4,255.00</td>\n",
              "      <td>...</td>\n",
              "      <td>4,255.00</td>\n",
              "      <td>4,255.00</td>\n",
              "      <td>4,255.00</td>\n",
              "      <td>4,255.00</td>\n",
              "      <td>4,255.00</td>\n",
              "      <td>4,255.00</td>\n",
              "      <td>4,255.00</td>\n",
              "      <td>4,255.00</td>\n",
              "      <td>4,255.00</td>\n",
              "      <td>4,255.00</td>\n",
              "    </tr>\n",
              "    <tr>\n",
              "      <th>mean</th>\n",
              "      <td>987,272.58</td>\n",
              "      <td>16.42</td>\n",
              "      <td>26.40</td>\n",
              "      <td>2.27</td>\n",
              "      <td>0.58</td>\n",
              "      <td>1.04</td>\n",
              "      <td>1.29</td>\n",
              "      <td>9.23</td>\n",
              "      <td>1.01</td>\n",
              "      <td>6.65</td>\n",
              "      <td>...</td>\n",
              "      <td>38.38</td>\n",
              "      <td>49.13</td>\n",
              "      <td>3,587.07</td>\n",
              "      <td>9.18</td>\n",
              "      <td>1.40</td>\n",
              "      <td>1.03</td>\n",
              "      <td>1.60</td>\n",
              "      <td>3,950.79</td>\n",
              "      <td>1,101.66</td>\n",
              "      <td>5,052.45</td>\n",
              "    </tr>\n",
              "    <tr>\n",
              "      <th>std</th>\n",
              "      <td>563,256.82</td>\n",
              "      <td>8.11</td>\n",
              "      <td>16.31</td>\n",
              "      <td>2.45</td>\n",
              "      <td>5.88</td>\n",
              "      <td>0.39</td>\n",
              "      <td>0.93</td>\n",
              "      <td>12.34</td>\n",
              "      <td>0.20</td>\n",
              "      <td>9.01</td>\n",
              "      <td>...</td>\n",
              "      <td>3.48</td>\n",
              "      <td>4.61</td>\n",
              "      <td>1,958.14</td>\n",
              "      <td>6.41</td>\n",
              "      <td>10.03</td>\n",
              "      <td>0.41</td>\n",
              "      <td>0.67</td>\n",
              "      <td>4,868.82</td>\n",
              "      <td>3,111.48</td>\n",
              "      <td>6,147.97</td>\n",
              "    </tr>\n",
              "    <tr>\n",
              "      <th>min</th>\n",
              "      <td>616.00</td>\n",
              "      <td>1.00</td>\n",
              "      <td>13.00</td>\n",
              "      <td>1.00</td>\n",
              "      <td>0.00</td>\n",
              "      <td>1.00</td>\n",
              "      <td>0.00</td>\n",
              "      <td>0.00</td>\n",
              "      <td>1.00</td>\n",
              "      <td>1.00</td>\n",
              "      <td>...</td>\n",
              "      <td>20.00</td>\n",
              "      <td>22.00</td>\n",
              "      <td>280.00</td>\n",
              "      <td>0.00</td>\n",
              "      <td>0.00</td>\n",
              "      <td>1.00</td>\n",
              "      <td>1.00</td>\n",
              "      <td>0.00</td>\n",
              "      <td>0.00</td>\n",
              "      <td>1.00</td>\n",
              "    </tr>\n",
              "    <tr>\n",
              "      <th>25%</th>\n",
              "      <td>497,916.50</td>\n",
              "      <td>11.00</td>\n",
              "      <td>21.00</td>\n",
              "      <td>1.00</td>\n",
              "      <td>0.00</td>\n",
              "      <td>1.00</td>\n",
              "      <td>1.00</td>\n",
              "      <td>6.00</td>\n",
              "      <td>1.00</td>\n",
              "      <td>5.00</td>\n",
              "      <td>...</td>\n",
              "      <td>38.00</td>\n",
              "      <td>48.00</td>\n",
              "      <td>2,792.50</td>\n",
              "      <td>9.00</td>\n",
              "      <td>0.00</td>\n",
              "      <td>1.00</td>\n",
              "      <td>1.00</td>\n",
              "      <td>10.00</td>\n",
              "      <td>0.00</td>\n",
              "      <td>10.00</td>\n",
              "    </tr>\n",
              "    <tr>\n",
              "      <th>50%</th>\n",
              "      <td>999,904.00</td>\n",
              "      <td>15.00</td>\n",
              "      <td>25.00</td>\n",
              "      <td>2.00</td>\n",
              "      <td>0.00</td>\n",
              "      <td>1.00</td>\n",
              "      <td>1.00</td>\n",
              "      <td>8.00</td>\n",
              "      <td>1.00</td>\n",
              "      <td>5.00</td>\n",
              "      <td>...</td>\n",
              "      <td>39.00</td>\n",
              "      <td>50.00</td>\n",
              "      <td>3,120.00</td>\n",
              "      <td>9.00</td>\n",
              "      <td>0.00</td>\n",
              "      <td>1.00</td>\n",
              "      <td>2.00</td>\n",
              "      <td>10.00</td>\n",
              "      <td>0.00</td>\n",
              "      <td>100.00</td>\n",
              "    </tr>\n",
              "    <tr>\n",
              "      <th>75%</th>\n",
              "      <td>1,465,315.00</td>\n",
              "      <td>22.00</td>\n",
              "      <td>31.00</td>\n",
              "      <td>3.00</td>\n",
              "      <td>0.00</td>\n",
              "      <td>1.00</td>\n",
              "      <td>1.00</td>\n",
              "      <td>10.00</td>\n",
              "      <td>1.00</td>\n",
              "      <td>7.00</td>\n",
              "      <td>...</td>\n",
              "      <td>40.00</td>\n",
              "      <td>51.00</td>\n",
              "      <td>3,470.00</td>\n",
              "      <td>9.00</td>\n",
              "      <td>0.00</td>\n",
              "      <td>1.00</td>\n",
              "      <td>2.00</td>\n",
              "      <td>10,000.00</td>\n",
              "      <td>10.00</td>\n",
              "      <td>10,000.00</td>\n",
              "    </tr>\n",
              "    <tr>\n",
              "      <th>max</th>\n",
              "      <td>1,940,258.00</td>\n",
              "      <td>35.00</td>\n",
              "      <td>999.00</td>\n",
              "      <td>99.00</td>\n",
              "      <td>99.00</td>\n",
              "      <td>9.00</td>\n",
              "      <td>9.00</td>\n",
              "      <td>99.00</td>\n",
              "      <td>9.00</td>\n",
              "      <td>99.00</td>\n",
              "      <td>...</td>\n",
              "      <td>99.00</td>\n",
              "      <td>99.00</td>\n",
              "      <td>9,999.00</td>\n",
              "      <td>99.00</td>\n",
              "      <td>99.00</td>\n",
              "      <td>9.00</td>\n",
              "      <td>9.00</td>\n",
              "      <td>10,000.00</td>\n",
              "      <td>10,000.00</td>\n",
              "      <td>20,000.00</td>\n",
              "    </tr>\n",
              "  </tbody>\n",
              "</table>\n",
              "<p>8 rows × 21 columns</p>\n",
              "</div>\n",
              "    <div class=\"colab-df-buttons\">\n",
              "\n",
              "  <div class=\"colab-df-container\">\n",
              "    <button class=\"colab-df-convert\" onclick=\"convertToInteractive('df-c964f4a6-f5c8-4f3e-a13f-7c95b73a5594')\"\n",
              "            title=\"Convert this dataframe to an interactive table.\"\n",
              "            style=\"display:none;\">\n",
              "\n",
              "  <svg xmlns=\"http://www.w3.org/2000/svg\" height=\"24px\" viewBox=\"0 -960 960 960\">\n",
              "    <path d=\"M120-120v-720h720v720H120Zm60-500h600v-160H180v160Zm220 220h160v-160H400v160Zm0 220h160v-160H400v160ZM180-400h160v-160H180v160Zm440 0h160v-160H620v160ZM180-180h160v-160H180v160Zm440 0h160v-160H620v160Z\"/>\n",
              "  </svg>\n",
              "    </button>\n",
              "\n",
              "  <style>\n",
              "    .colab-df-container {\n",
              "      display:flex;\n",
              "      gap: 12px;\n",
              "    }\n",
              "\n",
              "    .colab-df-convert {\n",
              "      background-color: #E8F0FE;\n",
              "      border: none;\n",
              "      border-radius: 50%;\n",
              "      cursor: pointer;\n",
              "      display: none;\n",
              "      fill: #1967D2;\n",
              "      height: 32px;\n",
              "      padding: 0 0 0 0;\n",
              "      width: 32px;\n",
              "    }\n",
              "\n",
              "    .colab-df-convert:hover {\n",
              "      background-color: #E2EBFA;\n",
              "      box-shadow: 0px 1px 2px rgba(60, 64, 67, 0.3), 0px 1px 3px 1px rgba(60, 64, 67, 0.15);\n",
              "      fill: #174EA6;\n",
              "    }\n",
              "\n",
              "    .colab-df-buttons div {\n",
              "      margin-bottom: 4px;\n",
              "    }\n",
              "\n",
              "    [theme=dark] .colab-df-convert {\n",
              "      background-color: #3B4455;\n",
              "      fill: #D2E3FC;\n",
              "    }\n",
              "\n",
              "    [theme=dark] .colab-df-convert:hover {\n",
              "      background-color: #434B5C;\n",
              "      box-shadow: 0px 1px 3px 1px rgba(0, 0, 0, 0.15);\n",
              "      filter: drop-shadow(0px 1px 2px rgba(0, 0, 0, 0.3));\n",
              "      fill: #FFFFFF;\n",
              "    }\n",
              "  </style>\n",
              "\n",
              "    <script>\n",
              "      const buttonEl =\n",
              "        document.querySelector('#df-c964f4a6-f5c8-4f3e-a13f-7c95b73a5594 button.colab-df-convert');\n",
              "      buttonEl.style.display =\n",
              "        google.colab.kernel.accessAllowed ? 'block' : 'none';\n",
              "\n",
              "      async function convertToInteractive(key) {\n",
              "        const element = document.querySelector('#df-c964f4a6-f5c8-4f3e-a13f-7c95b73a5594');\n",
              "        const dataTable =\n",
              "          await google.colab.kernel.invokeFunction('convertToInteractive',\n",
              "                                                    [key], {});\n",
              "        if (!dataTable) return;\n",
              "\n",
              "        const docLinkHtml = 'Like what you see? Visit the ' +\n",
              "          '<a target=\"_blank\" href=https://colab.research.google.com/notebooks/data_table.ipynb>data table notebook</a>'\n",
              "          + ' to learn more about interactive tables.';\n",
              "        element.innerHTML = '';\n",
              "        dataTable['output_type'] = 'display_data';\n",
              "        await google.colab.output.renderOutput(dataTable, element);\n",
              "        const docLink = document.createElement('div');\n",
              "        docLink.innerHTML = docLinkHtml;\n",
              "        element.appendChild(docLink);\n",
              "      }\n",
              "    </script>\n",
              "  </div>\n",
              "\n",
              "\n",
              "<div id=\"df-c4b9b503-033c-4f24-a1e8-141891877a76\">\n",
              "  <button class=\"colab-df-quickchart\" onclick=\"quickchart('df-c4b9b503-033c-4f24-a1e8-141891877a76')\"\n",
              "            title=\"Suggest charts\"\n",
              "            style=\"display:none;\">\n",
              "\n",
              "<svg xmlns=\"http://www.w3.org/2000/svg\" height=\"24px\"viewBox=\"0 0 24 24\"\n",
              "     width=\"24px\">\n",
              "    <g>\n",
              "        <path d=\"M19 3H5c-1.1 0-2 .9-2 2v14c0 1.1.9 2 2 2h14c1.1 0 2-.9 2-2V5c0-1.1-.9-2-2-2zM9 17H7v-7h2v7zm4 0h-2V7h2v10zm4 0h-2v-4h2v4z\"/>\n",
              "    </g>\n",
              "</svg>\n",
              "  </button>\n",
              "\n",
              "<style>\n",
              "  .colab-df-quickchart {\n",
              "      --bg-color: #E8F0FE;\n",
              "      --fill-color: #1967D2;\n",
              "      --hover-bg-color: #E2EBFA;\n",
              "      --hover-fill-color: #174EA6;\n",
              "      --disabled-fill-color: #AAA;\n",
              "      --disabled-bg-color: #DDD;\n",
              "  }\n",
              "\n",
              "  [theme=dark] .colab-df-quickchart {\n",
              "      --bg-color: #3B4455;\n",
              "      --fill-color: #D2E3FC;\n",
              "      --hover-bg-color: #434B5C;\n",
              "      --hover-fill-color: #FFFFFF;\n",
              "      --disabled-bg-color: #3B4455;\n",
              "      --disabled-fill-color: #666;\n",
              "  }\n",
              "\n",
              "  .colab-df-quickchart {\n",
              "    background-color: var(--bg-color);\n",
              "    border: none;\n",
              "    border-radius: 50%;\n",
              "    cursor: pointer;\n",
              "    display: none;\n",
              "    fill: var(--fill-color);\n",
              "    height: 32px;\n",
              "    padding: 0;\n",
              "    width: 32px;\n",
              "  }\n",
              "\n",
              "  .colab-df-quickchart:hover {\n",
              "    background-color: var(--hover-bg-color);\n",
              "    box-shadow: 0 1px 2px rgba(60, 64, 67, 0.3), 0 1px 3px 1px rgba(60, 64, 67, 0.15);\n",
              "    fill: var(--button-hover-fill-color);\n",
              "  }\n",
              "\n",
              "  .colab-df-quickchart-complete:disabled,\n",
              "  .colab-df-quickchart-complete:disabled:hover {\n",
              "    background-color: var(--disabled-bg-color);\n",
              "    fill: var(--disabled-fill-color);\n",
              "    box-shadow: none;\n",
              "  }\n",
              "\n",
              "  .colab-df-spinner {\n",
              "    border: 2px solid var(--fill-color);\n",
              "    border-color: transparent;\n",
              "    border-bottom-color: var(--fill-color);\n",
              "    animation:\n",
              "      spin 1s steps(1) infinite;\n",
              "  }\n",
              "\n",
              "  @keyframes spin {\n",
              "    0% {\n",
              "      border-color: transparent;\n",
              "      border-bottom-color: var(--fill-color);\n",
              "      border-left-color: var(--fill-color);\n",
              "    }\n",
              "    20% {\n",
              "      border-color: transparent;\n",
              "      border-left-color: var(--fill-color);\n",
              "      border-top-color: var(--fill-color);\n",
              "    }\n",
              "    30% {\n",
              "      border-color: transparent;\n",
              "      border-left-color: var(--fill-color);\n",
              "      border-top-color: var(--fill-color);\n",
              "      border-right-color: var(--fill-color);\n",
              "    }\n",
              "    40% {\n",
              "      border-color: transparent;\n",
              "      border-right-color: var(--fill-color);\n",
              "      border-top-color: var(--fill-color);\n",
              "    }\n",
              "    60% {\n",
              "      border-color: transparent;\n",
              "      border-right-color: var(--fill-color);\n",
              "    }\n",
              "    80% {\n",
              "      border-color: transparent;\n",
              "      border-right-color: var(--fill-color);\n",
              "      border-bottom-color: var(--fill-color);\n",
              "    }\n",
              "    90% {\n",
              "      border-color: transparent;\n",
              "      border-bottom-color: var(--fill-color);\n",
              "    }\n",
              "  }\n",
              "</style>\n",
              "\n",
              "  <script>\n",
              "    async function quickchart(key) {\n",
              "      const quickchartButtonEl =\n",
              "        document.querySelector('#' + key + ' button');\n",
              "      quickchartButtonEl.disabled = true;  // To prevent multiple clicks.\n",
              "      quickchartButtonEl.classList.add('colab-df-spinner');\n",
              "      try {\n",
              "        const charts = await google.colab.kernel.invokeFunction(\n",
              "            'suggestCharts', [key], {});\n",
              "      } catch (error) {\n",
              "        console.error('Error during call to suggestCharts:', error);\n",
              "      }\n",
              "      quickchartButtonEl.classList.remove('colab-df-spinner');\n",
              "      quickchartButtonEl.classList.add('colab-df-quickchart-complete');\n",
              "    }\n",
              "    (() => {\n",
              "      let quickchartButtonEl =\n",
              "        document.querySelector('#df-c4b9b503-033c-4f24-a1e8-141891877a76 button');\n",
              "      quickchartButtonEl.style.display =\n",
              "        google.colab.kernel.accessAllowed ? 'block' : 'none';\n",
              "    })();\n",
              "  </script>\n",
              "</div>\n",
              "\n",
              "    </div>\n",
              "  </div>\n"
            ]
          },
          "metadata": {},
          "execution_count": 68
        }
      ]
    },
    {
      "cell_type": "code",
      "source": [
        "df[df[label] == 1].mode(numeric_only=True)"
      ],
      "metadata": {
        "colab": {
          "base_uri": "https://localhost:8080/",
          "height": 461
        },
        "id": "cJGSo5JbPDUk",
        "outputId": "9f90b64d-2228-4046-ab06-582268c9bec5"
      },
      "execution_count": 69,
      "outputs": [
        {
          "output_type": "execute_result",
          "data": {
            "text/plain": [
              "      Unnamed: 0  ENTIDADFEDERATIVAPARTO  EDAD  NUMEROEMBARAZOS  \\\n",
              "0            616                    15.0  22.0              1.0   \n",
              "1            816                     NaN   NaN              NaN   \n",
              "2           1028                     NaN   NaN              NaN   \n",
              "3           1100                     NaN   NaN              NaN   \n",
              "4           1220                     NaN   NaN              NaN   \n",
              "...          ...                     ...   ...              ...   \n",
              "4250     1936006                     NaN   NaN              NaN   \n",
              "4251     1937181                     NaN   NaN              NaN   \n",
              "4252     1937890                     NaN   NaN              NaN   \n",
              "4253     1938591                     NaN   NaN              NaN   \n",
              "4254     1940258                     NaN   NaN              NaN   \n",
              "\n",
              "      HIJOSNACIDOSMUERTOS  ATENCIONPRENATAL  TRIMESTREPRIMERCONSULTA  \\\n",
              "0                     0.0               1.0                      1.0   \n",
              "1                     NaN               NaN                      NaN   \n",
              "2                     NaN               NaN                      NaN   \n",
              "3                     NaN               NaN                      NaN   \n",
              "4                     NaN               NaN                      NaN   \n",
              "...                   ...               ...                      ...   \n",
              "4250                  NaN               NaN                      NaN   \n",
              "4251                  NaN               NaN                      NaN   \n",
              "4252                  NaN               NaN                      NaN   \n",
              "4253                  NaN               NaN                      NaN   \n",
              "4254                  NaN               NaN                      NaN   \n",
              "\n",
              "      TOTALCONSULTAS  SOBREVIVIOPARTO  ESCOLARIDAD  ...  EDADGESTACIONAL  \\\n",
              "0                8.0              1.0          5.0  ...             39.0   \n",
              "1                NaN              NaN          NaN  ...              NaN   \n",
              "2                NaN              NaN          NaN  ...              NaN   \n",
              "3                NaN              NaN          NaN  ...              NaN   \n",
              "4                NaN              NaN          NaN  ...              NaN   \n",
              "...              ...              ...          ...  ...              ...   \n",
              "4250             NaN              NaN          NaN  ...              NaN   \n",
              "4251             NaN              NaN          NaN  ...              NaN   \n",
              "4252             NaN              NaN          NaN  ...              NaN   \n",
              "4253             NaN              NaN          NaN  ...              NaN   \n",
              "4254             NaN              NaN          NaN  ...              NaN   \n",
              "\n",
              "      TALLA    PESO  APGAR  SILVERMAN  PRODUCTOEMBARAZO  RESOLUCIONEMBARAZO  \\\n",
              "0      50.0  9999.0    9.0        0.0               1.0                 2.0   \n",
              "1       NaN     NaN    NaN        NaN               NaN                 NaN   \n",
              "2       NaN     NaN    NaN        NaN               NaN                 NaN   \n",
              "3       NaN     NaN    NaN        NaN               NaN                 NaN   \n",
              "4       NaN     NaN    NaN        NaN               NaN                 NaN   \n",
              "...     ...     ...    ...        ...               ...                 ...   \n",
              "4250    NaN     NaN    NaN        NaN               NaN                 NaN   \n",
              "4251    NaN     NaN    NaN        NaN               NaN                 NaN   \n",
              "4252    NaN     NaN    NaN        NaN               NaN                 NaN   \n",
              "4253    NaN     NaN    NaN        NaN               NaN                 NaN   \n",
              "4254    NaN     NaN    NaN        NaN               NaN                 NaN   \n",
              "\n",
              "      MC-1  MC-2  MC-G  \n",
              "0     10.0   0.0  10.0  \n",
              "1      NaN   NaN   NaN  \n",
              "2      NaN   NaN   NaN  \n",
              "3      NaN   NaN   NaN  \n",
              "4      NaN   NaN   NaN  \n",
              "...    ...   ...   ...  \n",
              "4250   NaN   NaN   NaN  \n",
              "4251   NaN   NaN   NaN  \n",
              "4252   NaN   NaN   NaN  \n",
              "4253   NaN   NaN   NaN  \n",
              "4254   NaN   NaN   NaN  \n",
              "\n",
              "[4255 rows x 21 columns]"
            ],
            "text/html": [
              "\n",
              "  <div id=\"df-e8967c2a-b081-4758-8505-a0b64445e4c6\" class=\"colab-df-container\">\n",
              "    <div>\n",
              "<style scoped>\n",
              "    .dataframe tbody tr th:only-of-type {\n",
              "        vertical-align: middle;\n",
              "    }\n",
              "\n",
              "    .dataframe tbody tr th {\n",
              "        vertical-align: top;\n",
              "    }\n",
              "\n",
              "    .dataframe thead th {\n",
              "        text-align: right;\n",
              "    }\n",
              "</style>\n",
              "<table border=\"1\" class=\"dataframe\">\n",
              "  <thead>\n",
              "    <tr style=\"text-align: right;\">\n",
              "      <th></th>\n",
              "      <th>Unnamed: 0</th>\n",
              "      <th>ENTIDADFEDERATIVAPARTO</th>\n",
              "      <th>EDAD</th>\n",
              "      <th>NUMEROEMBARAZOS</th>\n",
              "      <th>HIJOSNACIDOSMUERTOS</th>\n",
              "      <th>ATENCIONPRENATAL</th>\n",
              "      <th>TRIMESTREPRIMERCONSULTA</th>\n",
              "      <th>TOTALCONSULTAS</th>\n",
              "      <th>SOBREVIVIOPARTO</th>\n",
              "      <th>ESCOLARIDAD</th>\n",
              "      <th>...</th>\n",
              "      <th>EDADGESTACIONAL</th>\n",
              "      <th>TALLA</th>\n",
              "      <th>PESO</th>\n",
              "      <th>APGAR</th>\n",
              "      <th>SILVERMAN</th>\n",
              "      <th>PRODUCTOEMBARAZO</th>\n",
              "      <th>RESOLUCIONEMBARAZO</th>\n",
              "      <th>MC-1</th>\n",
              "      <th>MC-2</th>\n",
              "      <th>MC-G</th>\n",
              "    </tr>\n",
              "  </thead>\n",
              "  <tbody>\n",
              "    <tr>\n",
              "      <th>0</th>\n",
              "      <td>616</td>\n",
              "      <td>15.0</td>\n",
              "      <td>22.0</td>\n",
              "      <td>1.0</td>\n",
              "      <td>0.0</td>\n",
              "      <td>1.0</td>\n",
              "      <td>1.0</td>\n",
              "      <td>8.0</td>\n",
              "      <td>1.0</td>\n",
              "      <td>5.0</td>\n",
              "      <td>...</td>\n",
              "      <td>39.0</td>\n",
              "      <td>50.0</td>\n",
              "      <td>9999.0</td>\n",
              "      <td>9.0</td>\n",
              "      <td>0.0</td>\n",
              "      <td>1.0</td>\n",
              "      <td>2.0</td>\n",
              "      <td>10.0</td>\n",
              "      <td>0.0</td>\n",
              "      <td>10.0</td>\n",
              "    </tr>\n",
              "    <tr>\n",
              "      <th>1</th>\n",
              "      <td>816</td>\n",
              "      <td>NaN</td>\n",
              "      <td>NaN</td>\n",
              "      <td>NaN</td>\n",
              "      <td>NaN</td>\n",
              "      <td>NaN</td>\n",
              "      <td>NaN</td>\n",
              "      <td>NaN</td>\n",
              "      <td>NaN</td>\n",
              "      <td>NaN</td>\n",
              "      <td>...</td>\n",
              "      <td>NaN</td>\n",
              "      <td>NaN</td>\n",
              "      <td>NaN</td>\n",
              "      <td>NaN</td>\n",
              "      <td>NaN</td>\n",
              "      <td>NaN</td>\n",
              "      <td>NaN</td>\n",
              "      <td>NaN</td>\n",
              "      <td>NaN</td>\n",
              "      <td>NaN</td>\n",
              "    </tr>\n",
              "    <tr>\n",
              "      <th>2</th>\n",
              "      <td>1028</td>\n",
              "      <td>NaN</td>\n",
              "      <td>NaN</td>\n",
              "      <td>NaN</td>\n",
              "      <td>NaN</td>\n",
              "      <td>NaN</td>\n",
              "      <td>NaN</td>\n",
              "      <td>NaN</td>\n",
              "      <td>NaN</td>\n",
              "      <td>NaN</td>\n",
              "      <td>...</td>\n",
              "      <td>NaN</td>\n",
              "      <td>NaN</td>\n",
              "      <td>NaN</td>\n",
              "      <td>NaN</td>\n",
              "      <td>NaN</td>\n",
              "      <td>NaN</td>\n",
              "      <td>NaN</td>\n",
              "      <td>NaN</td>\n",
              "      <td>NaN</td>\n",
              "      <td>NaN</td>\n",
              "    </tr>\n",
              "    <tr>\n",
              "      <th>3</th>\n",
              "      <td>1100</td>\n",
              "      <td>NaN</td>\n",
              "      <td>NaN</td>\n",
              "      <td>NaN</td>\n",
              "      <td>NaN</td>\n",
              "      <td>NaN</td>\n",
              "      <td>NaN</td>\n",
              "      <td>NaN</td>\n",
              "      <td>NaN</td>\n",
              "      <td>NaN</td>\n",
              "      <td>...</td>\n",
              "      <td>NaN</td>\n",
              "      <td>NaN</td>\n",
              "      <td>NaN</td>\n",
              "      <td>NaN</td>\n",
              "      <td>NaN</td>\n",
              "      <td>NaN</td>\n",
              "      <td>NaN</td>\n",
              "      <td>NaN</td>\n",
              "      <td>NaN</td>\n",
              "      <td>NaN</td>\n",
              "    </tr>\n",
              "    <tr>\n",
              "      <th>4</th>\n",
              "      <td>1220</td>\n",
              "      <td>NaN</td>\n",
              "      <td>NaN</td>\n",
              "      <td>NaN</td>\n",
              "      <td>NaN</td>\n",
              "      <td>NaN</td>\n",
              "      <td>NaN</td>\n",
              "      <td>NaN</td>\n",
              "      <td>NaN</td>\n",
              "      <td>NaN</td>\n",
              "      <td>...</td>\n",
              "      <td>NaN</td>\n",
              "      <td>NaN</td>\n",
              "      <td>NaN</td>\n",
              "      <td>NaN</td>\n",
              "      <td>NaN</td>\n",
              "      <td>NaN</td>\n",
              "      <td>NaN</td>\n",
              "      <td>NaN</td>\n",
              "      <td>NaN</td>\n",
              "      <td>NaN</td>\n",
              "    </tr>\n",
              "    <tr>\n",
              "      <th>...</th>\n",
              "      <td>...</td>\n",
              "      <td>...</td>\n",
              "      <td>...</td>\n",
              "      <td>...</td>\n",
              "      <td>...</td>\n",
              "      <td>...</td>\n",
              "      <td>...</td>\n",
              "      <td>...</td>\n",
              "      <td>...</td>\n",
              "      <td>...</td>\n",
              "      <td>...</td>\n",
              "      <td>...</td>\n",
              "      <td>...</td>\n",
              "      <td>...</td>\n",
              "      <td>...</td>\n",
              "      <td>...</td>\n",
              "      <td>...</td>\n",
              "      <td>...</td>\n",
              "      <td>...</td>\n",
              "      <td>...</td>\n",
              "      <td>...</td>\n",
              "    </tr>\n",
              "    <tr>\n",
              "      <th>4250</th>\n",
              "      <td>1936006</td>\n",
              "      <td>NaN</td>\n",
              "      <td>NaN</td>\n",
              "      <td>NaN</td>\n",
              "      <td>NaN</td>\n",
              "      <td>NaN</td>\n",
              "      <td>NaN</td>\n",
              "      <td>NaN</td>\n",
              "      <td>NaN</td>\n",
              "      <td>NaN</td>\n",
              "      <td>...</td>\n",
              "      <td>NaN</td>\n",
              "      <td>NaN</td>\n",
              "      <td>NaN</td>\n",
              "      <td>NaN</td>\n",
              "      <td>NaN</td>\n",
              "      <td>NaN</td>\n",
              "      <td>NaN</td>\n",
              "      <td>NaN</td>\n",
              "      <td>NaN</td>\n",
              "      <td>NaN</td>\n",
              "    </tr>\n",
              "    <tr>\n",
              "      <th>4251</th>\n",
              "      <td>1937181</td>\n",
              "      <td>NaN</td>\n",
              "      <td>NaN</td>\n",
              "      <td>NaN</td>\n",
              "      <td>NaN</td>\n",
              "      <td>NaN</td>\n",
              "      <td>NaN</td>\n",
              "      <td>NaN</td>\n",
              "      <td>NaN</td>\n",
              "      <td>NaN</td>\n",
              "      <td>...</td>\n",
              "      <td>NaN</td>\n",
              "      <td>NaN</td>\n",
              "      <td>NaN</td>\n",
              "      <td>NaN</td>\n",
              "      <td>NaN</td>\n",
              "      <td>NaN</td>\n",
              "      <td>NaN</td>\n",
              "      <td>NaN</td>\n",
              "      <td>NaN</td>\n",
              "      <td>NaN</td>\n",
              "    </tr>\n",
              "    <tr>\n",
              "      <th>4252</th>\n",
              "      <td>1937890</td>\n",
              "      <td>NaN</td>\n",
              "      <td>NaN</td>\n",
              "      <td>NaN</td>\n",
              "      <td>NaN</td>\n",
              "      <td>NaN</td>\n",
              "      <td>NaN</td>\n",
              "      <td>NaN</td>\n",
              "      <td>NaN</td>\n",
              "      <td>NaN</td>\n",
              "      <td>...</td>\n",
              "      <td>NaN</td>\n",
              "      <td>NaN</td>\n",
              "      <td>NaN</td>\n",
              "      <td>NaN</td>\n",
              "      <td>NaN</td>\n",
              "      <td>NaN</td>\n",
              "      <td>NaN</td>\n",
              "      <td>NaN</td>\n",
              "      <td>NaN</td>\n",
              "      <td>NaN</td>\n",
              "    </tr>\n",
              "    <tr>\n",
              "      <th>4253</th>\n",
              "      <td>1938591</td>\n",
              "      <td>NaN</td>\n",
              "      <td>NaN</td>\n",
              "      <td>NaN</td>\n",
              "      <td>NaN</td>\n",
              "      <td>NaN</td>\n",
              "      <td>NaN</td>\n",
              "      <td>NaN</td>\n",
              "      <td>NaN</td>\n",
              "      <td>NaN</td>\n",
              "      <td>...</td>\n",
              "      <td>NaN</td>\n",
              "      <td>NaN</td>\n",
              "      <td>NaN</td>\n",
              "      <td>NaN</td>\n",
              "      <td>NaN</td>\n",
              "      <td>NaN</td>\n",
              "      <td>NaN</td>\n",
              "      <td>NaN</td>\n",
              "      <td>NaN</td>\n",
              "      <td>NaN</td>\n",
              "    </tr>\n",
              "    <tr>\n",
              "      <th>4254</th>\n",
              "      <td>1940258</td>\n",
              "      <td>NaN</td>\n",
              "      <td>NaN</td>\n",
              "      <td>NaN</td>\n",
              "      <td>NaN</td>\n",
              "      <td>NaN</td>\n",
              "      <td>NaN</td>\n",
              "      <td>NaN</td>\n",
              "      <td>NaN</td>\n",
              "      <td>NaN</td>\n",
              "      <td>...</td>\n",
              "      <td>NaN</td>\n",
              "      <td>NaN</td>\n",
              "      <td>NaN</td>\n",
              "      <td>NaN</td>\n",
              "      <td>NaN</td>\n",
              "      <td>NaN</td>\n",
              "      <td>NaN</td>\n",
              "      <td>NaN</td>\n",
              "      <td>NaN</td>\n",
              "      <td>NaN</td>\n",
              "    </tr>\n",
              "  </tbody>\n",
              "</table>\n",
              "<p>4255 rows × 21 columns</p>\n",
              "</div>\n",
              "    <div class=\"colab-df-buttons\">\n",
              "\n",
              "  <div class=\"colab-df-container\">\n",
              "    <button class=\"colab-df-convert\" onclick=\"convertToInteractive('df-e8967c2a-b081-4758-8505-a0b64445e4c6')\"\n",
              "            title=\"Convert this dataframe to an interactive table.\"\n",
              "            style=\"display:none;\">\n",
              "\n",
              "  <svg xmlns=\"http://www.w3.org/2000/svg\" height=\"24px\" viewBox=\"0 -960 960 960\">\n",
              "    <path d=\"M120-120v-720h720v720H120Zm60-500h600v-160H180v160Zm220 220h160v-160H400v160Zm0 220h160v-160H400v160ZM180-400h160v-160H180v160Zm440 0h160v-160H620v160ZM180-180h160v-160H180v160Zm440 0h160v-160H620v160Z\"/>\n",
              "  </svg>\n",
              "    </button>\n",
              "\n",
              "  <style>\n",
              "    .colab-df-container {\n",
              "      display:flex;\n",
              "      gap: 12px;\n",
              "    }\n",
              "\n",
              "    .colab-df-convert {\n",
              "      background-color: #E8F0FE;\n",
              "      border: none;\n",
              "      border-radius: 50%;\n",
              "      cursor: pointer;\n",
              "      display: none;\n",
              "      fill: #1967D2;\n",
              "      height: 32px;\n",
              "      padding: 0 0 0 0;\n",
              "      width: 32px;\n",
              "    }\n",
              "\n",
              "    .colab-df-convert:hover {\n",
              "      background-color: #E2EBFA;\n",
              "      box-shadow: 0px 1px 2px rgba(60, 64, 67, 0.3), 0px 1px 3px 1px rgba(60, 64, 67, 0.15);\n",
              "      fill: #174EA6;\n",
              "    }\n",
              "\n",
              "    .colab-df-buttons div {\n",
              "      margin-bottom: 4px;\n",
              "    }\n",
              "\n",
              "    [theme=dark] .colab-df-convert {\n",
              "      background-color: #3B4455;\n",
              "      fill: #D2E3FC;\n",
              "    }\n",
              "\n",
              "    [theme=dark] .colab-df-convert:hover {\n",
              "      background-color: #434B5C;\n",
              "      box-shadow: 0px 1px 3px 1px rgba(0, 0, 0, 0.15);\n",
              "      filter: drop-shadow(0px 1px 2px rgba(0, 0, 0, 0.3));\n",
              "      fill: #FFFFFF;\n",
              "    }\n",
              "  </style>\n",
              "\n",
              "    <script>\n",
              "      const buttonEl =\n",
              "        document.querySelector('#df-e8967c2a-b081-4758-8505-a0b64445e4c6 button.colab-df-convert');\n",
              "      buttonEl.style.display =\n",
              "        google.colab.kernel.accessAllowed ? 'block' : 'none';\n",
              "\n",
              "      async function convertToInteractive(key) {\n",
              "        const element = document.querySelector('#df-e8967c2a-b081-4758-8505-a0b64445e4c6');\n",
              "        const dataTable =\n",
              "          await google.colab.kernel.invokeFunction('convertToInteractive',\n",
              "                                                    [key], {});\n",
              "        if (!dataTable) return;\n",
              "\n",
              "        const docLinkHtml = 'Like what you see? Visit the ' +\n",
              "          '<a target=\"_blank\" href=https://colab.research.google.com/notebooks/data_table.ipynb>data table notebook</a>'\n",
              "          + ' to learn more about interactive tables.';\n",
              "        element.innerHTML = '';\n",
              "        dataTable['output_type'] = 'display_data';\n",
              "        await google.colab.output.renderOutput(dataTable, element);\n",
              "        const docLink = document.createElement('div');\n",
              "        docLink.innerHTML = docLinkHtml;\n",
              "        element.appendChild(docLink);\n",
              "      }\n",
              "    </script>\n",
              "  </div>\n",
              "\n",
              "\n",
              "<div id=\"df-6c26c7a6-be54-47c7-9ebb-bd0a1e493b8d\">\n",
              "  <button class=\"colab-df-quickchart\" onclick=\"quickchart('df-6c26c7a6-be54-47c7-9ebb-bd0a1e493b8d')\"\n",
              "            title=\"Suggest charts\"\n",
              "            style=\"display:none;\">\n",
              "\n",
              "<svg xmlns=\"http://www.w3.org/2000/svg\" height=\"24px\"viewBox=\"0 0 24 24\"\n",
              "     width=\"24px\">\n",
              "    <g>\n",
              "        <path d=\"M19 3H5c-1.1 0-2 .9-2 2v14c0 1.1.9 2 2 2h14c1.1 0 2-.9 2-2V5c0-1.1-.9-2-2-2zM9 17H7v-7h2v7zm4 0h-2V7h2v10zm4 0h-2v-4h2v4z\"/>\n",
              "    </g>\n",
              "</svg>\n",
              "  </button>\n",
              "\n",
              "<style>\n",
              "  .colab-df-quickchart {\n",
              "      --bg-color: #E8F0FE;\n",
              "      --fill-color: #1967D2;\n",
              "      --hover-bg-color: #E2EBFA;\n",
              "      --hover-fill-color: #174EA6;\n",
              "      --disabled-fill-color: #AAA;\n",
              "      --disabled-bg-color: #DDD;\n",
              "  }\n",
              "\n",
              "  [theme=dark] .colab-df-quickchart {\n",
              "      --bg-color: #3B4455;\n",
              "      --fill-color: #D2E3FC;\n",
              "      --hover-bg-color: #434B5C;\n",
              "      --hover-fill-color: #FFFFFF;\n",
              "      --disabled-bg-color: #3B4455;\n",
              "      --disabled-fill-color: #666;\n",
              "  }\n",
              "\n",
              "  .colab-df-quickchart {\n",
              "    background-color: var(--bg-color);\n",
              "    border: none;\n",
              "    border-radius: 50%;\n",
              "    cursor: pointer;\n",
              "    display: none;\n",
              "    fill: var(--fill-color);\n",
              "    height: 32px;\n",
              "    padding: 0;\n",
              "    width: 32px;\n",
              "  }\n",
              "\n",
              "  .colab-df-quickchart:hover {\n",
              "    background-color: var(--hover-bg-color);\n",
              "    box-shadow: 0 1px 2px rgba(60, 64, 67, 0.3), 0 1px 3px 1px rgba(60, 64, 67, 0.15);\n",
              "    fill: var(--button-hover-fill-color);\n",
              "  }\n",
              "\n",
              "  .colab-df-quickchart-complete:disabled,\n",
              "  .colab-df-quickchart-complete:disabled:hover {\n",
              "    background-color: var(--disabled-bg-color);\n",
              "    fill: var(--disabled-fill-color);\n",
              "    box-shadow: none;\n",
              "  }\n",
              "\n",
              "  .colab-df-spinner {\n",
              "    border: 2px solid var(--fill-color);\n",
              "    border-color: transparent;\n",
              "    border-bottom-color: var(--fill-color);\n",
              "    animation:\n",
              "      spin 1s steps(1) infinite;\n",
              "  }\n",
              "\n",
              "  @keyframes spin {\n",
              "    0% {\n",
              "      border-color: transparent;\n",
              "      border-bottom-color: var(--fill-color);\n",
              "      border-left-color: var(--fill-color);\n",
              "    }\n",
              "    20% {\n",
              "      border-color: transparent;\n",
              "      border-left-color: var(--fill-color);\n",
              "      border-top-color: var(--fill-color);\n",
              "    }\n",
              "    30% {\n",
              "      border-color: transparent;\n",
              "      border-left-color: var(--fill-color);\n",
              "      border-top-color: var(--fill-color);\n",
              "      border-right-color: var(--fill-color);\n",
              "    }\n",
              "    40% {\n",
              "      border-color: transparent;\n",
              "      border-right-color: var(--fill-color);\n",
              "      border-top-color: var(--fill-color);\n",
              "    }\n",
              "    60% {\n",
              "      border-color: transparent;\n",
              "      border-right-color: var(--fill-color);\n",
              "    }\n",
              "    80% {\n",
              "      border-color: transparent;\n",
              "      border-right-color: var(--fill-color);\n",
              "      border-bottom-color: var(--fill-color);\n",
              "    }\n",
              "    90% {\n",
              "      border-color: transparent;\n",
              "      border-bottom-color: var(--fill-color);\n",
              "    }\n",
              "  }\n",
              "</style>\n",
              "\n",
              "  <script>\n",
              "    async function quickchart(key) {\n",
              "      const quickchartButtonEl =\n",
              "        document.querySelector('#' + key + ' button');\n",
              "      quickchartButtonEl.disabled = true;  // To prevent multiple clicks.\n",
              "      quickchartButtonEl.classList.add('colab-df-spinner');\n",
              "      try {\n",
              "        const charts = await google.colab.kernel.invokeFunction(\n",
              "            'suggestCharts', [key], {});\n",
              "      } catch (error) {\n",
              "        console.error('Error during call to suggestCharts:', error);\n",
              "      }\n",
              "      quickchartButtonEl.classList.remove('colab-df-spinner');\n",
              "      quickchartButtonEl.classList.add('colab-df-quickchart-complete');\n",
              "    }\n",
              "    (() => {\n",
              "      let quickchartButtonEl =\n",
              "        document.querySelector('#df-6c26c7a6-be54-47c7-9ebb-bd0a1e493b8d button');\n",
              "      quickchartButtonEl.style.display =\n",
              "        google.colab.kernel.accessAllowed ? 'block' : 'none';\n",
              "    })();\n",
              "  </script>\n",
              "</div>\n",
              "\n",
              "    </div>\n",
              "  </div>\n"
            ]
          },
          "metadata": {},
          "execution_count": 69
        }
      ]
    },
    {
      "cell_type": "markdown",
      "source": [
        "## Malformación congénita craneofacial\n",
        "- Ausente (1)\n",
        "- Presente (2)"
      ],
      "metadata": {
        "id": "2lhcjskgRM-6"
      }
    },
    {
      "cell_type": "code",
      "source": [
        "with pd.option_context('display.max_rows', None, 'display.max_columns', None):  # more options can be specified also\n",
        "    print(df[df[label] == 1].CODIGOCIEANOMALIA1.value_counts().add(df[df[label] == 1].CODIGOCIEANOMALIA2.value_counts(),fill_value=0).sort_values(ascending=False).to_markdown())"
      ],
      "metadata": {
        "colab": {
          "base_uri": "https://localhost:8080/"
        },
        "id": "siNcckXnRdZU",
        "outputId": "1973cafc-3676-497c-8ba0-838fbb4bebe0"
      },
      "execution_count": 70,
      "outputs": [
        {
          "output_type": "stream",
          "name": "stdout",
          "text": [
            "|      |    0 |\n",
            "|:-----|-----:|\n",
            "| 0000 | 2547 |\n",
            "| Q170 |  905 |\n",
            "| Q379 |  730 |\n",
            "| Q369 |  639 |\n",
            "| Q172 |  436 |\n",
            "| Q174 |  392 |\n",
            "| Q359 |  387 |\n",
            "| Q173 |  310 |\n",
            "| 9999 |  210 |\n",
            "| Q381 |  117 |\n",
            "| P071 |   83 |\n",
            "| Q179 |   73 |\n",
            "| Q161 |   70 |\n",
            "| Q184 |   59 |\n",
            "| Q181 |   55 |\n",
            "| Q189 |   53 |\n",
            "| Q372 |   52 |\n",
            "| Q178 |   52 |\n",
            "| Q164 |   42 |\n",
            "| Q309 |   42 |\n",
            "| P128 |   41 |\n",
            "| Q160 |   41 |\n",
            "| Q360 |   40 |\n",
            "| P073 |   37 |\n",
            "| Q385 |   35 |\n",
            "| Q300 |   28 |\n",
            "| Q668 |   28 |\n",
            "| Q699 |   27 |\n",
            "| Q103 |   26 |\n",
            "| Q660 |   25 |\n",
            "| P081 |   24 |\n",
            "| Q308 |   23 |\n",
            "| Q111 |   22 |\n",
            "| Q531 |   22 |\n",
            "| Q371 |   22 |\n",
            "| Q188 |   20 |\n",
            "| P835 |   20 |\n",
            "| Q382 |   19 |\n",
            "| Q120 |   18 |\n",
            "| Q02X |   17 |\n",
            "| Q158 |   17 |\n",
            "| P229 |   17 |\n",
            "| K070 |   16 |\n",
            "| Q380 |   16 |\n",
            "| Q039 |   15 |\n",
            "| Q663 |   15 |\n",
            "| Q386 |   14 |\n",
            "| Q897 |   14 |\n",
            "| Q909 |   14 |\n",
            "| Q383 |   13 |\n",
            "| Q652 |   13 |\n",
            "| Q532 |   12 |\n",
            "| Q423 |   12 |\n",
            "| Q169 |   12 |\n",
            "| Q709 |   11 |\n",
            "| Q112 |   10 |\n",
            "| Q249 |   10 |\n",
            "| Q870 |   10 |\n",
            "| Q828 |    9 |\n",
            "| Q752 |    9 |\n",
            "| Q753 |    9 |\n",
            "| Q180 |    9 |\n",
            "| Q105 |    8 |\n",
            "| Q042 |    8 |\n",
            "| P059 |    8 |\n",
            "| P969 |    7 |\n",
            "| Q650 |    7 |\n",
            "| Q353 |    7 |\n",
            "| Q670 |    7 |\n",
            "| Q059 |    7 |\n",
            "| Q378 |    7 |\n",
            "| Q352 |    6 |\n",
            "| Q674 |    6 |\n",
            "| Q690 |    6 |\n",
            "| Q351 |    6 |\n",
            "| Q539 |    6 |\n",
            "| Q171 |    6 |\n",
            "| Q000 |    6 |\n",
            "| P120 |    6 |\n",
            "| Q301 |    5 |\n",
            "| Q898 |    5 |\n",
            "| P050 |    5 |\n",
            "| Q899 |    5 |\n",
            "| Q106 |    5 |\n",
            "| Q666 |    5 |\n",
            "| Q793 |    5 |\n",
            "| Q792 |    5 |\n",
            "| Q549 |    5 |\n",
            "| Q019 |    5 |\n",
            "| Q384 |    5 |\n",
            "| Q374 |    4 |\n",
            "| Q872 |    4 |\n",
            "| P545 |    4 |\n",
            "| P052 |    4 |\n",
            "| P080 |    4 |\n",
            "| P113 |    4 |\n",
            "| D180 |    4 |\n",
            "| Q761 |    4 |\n",
            "| Q159 |    4 |\n",
            "| Q742 |    4 |\n",
            "| Q843 |    4 |\n",
            "| Q107 |    4 |\n",
            "| Q113 |    4 |\n",
            "| Q361 |    3 |\n",
            "| Q248 |    3 |\n",
            "| Q370 |    3 |\n",
            "| Q700 |    3 |\n",
            "| Q390 |    3 |\n",
            "| Q692 |    3 |\n",
            "| Q373 |    3 |\n",
            "| Q357 |    3 |\n",
            "| Q302 |    3 |\n",
            "| Q303 |    3 |\n",
            "| Q681 |    3 |\n",
            "| Q185 |    3 |\n",
            "| Q658 |    3 |\n",
            "| Q749 |    3 |\n",
            "| Q759 |    3 |\n",
            "| Q138 |    3 |\n",
            "| Q133 |    3 |\n",
            "| P220 |    3 |\n",
            "| Q750 |    3 |\n",
            "| Q031 |    3 |\n",
            "| Q894 |    3 |\n",
            "| Q182 |    3 |\n",
            "| Q758 |    3 |\n",
            "| Q833 |    3 |\n",
            "| P942 |    3 |\n",
            "| P072 |    3 |\n",
            "| P701 |    3 |\n",
            "| Q740 |    3 |\n",
            "| P012 |    2 |\n",
            "| P914 |    2 |\n",
            "| Q101 |    2 |\n",
            "| K429 |    2 |\n",
            "| P284 |    2 |\n",
            "| Q748 |    2 |\n",
            "| Q781 |    2 |\n",
            "| Q795 |    2 |\n",
            "| Q206 |    2 |\n",
            "| P369 |    2 |\n",
            "| Q165 |    2 |\n",
            "| Q704 |    2 |\n",
            "| P026 |    2 |\n",
            "| Q183 |    2 |\n",
            "| P143 |    2 |\n",
            "| Q892 |    2 |\n",
            "| P032 |    2 |\n",
            "| Q186 |    2 |\n",
            "| P219 |    2 |\n",
            "| Q355 |    2 |\n",
            "| P221 |    2 |\n",
            "| Q825 |    1 |\n",
            "| Q829 |    1 |\n",
            "| Q790 |    1 |\n",
            "| Q839 |    1 |\n",
            "| Q676 |    1 |\n",
            "| Q831 |    1 |\n",
            "| Q673 |    1 |\n",
            "| Q70X |    1 |\n",
            "| Q999 |    1 |\n",
            "| Q672 |    1 |\n",
            "| Q820 |    1 |\n",
            "| Q718 |    1 |\n",
            "| Q712 |    1 |\n",
            "| Q669 |    1 |\n",
            "| Q738 |    1 |\n",
            "| Q680 |    1 |\n",
            "| Q764 |    1 |\n",
            "| Q682 |    1 |\n",
            "| Q688 |    1 |\n",
            "| Q728 |    1 |\n",
            "| Q969 |    1 |\n",
            "| Q754 |    1 |\n",
            "| Q937 |    1 |\n",
            "| Q859 |    1 |\n",
            "| Q716 |    1 |\n",
            "| Q730 |    1 |\n",
            "| Q917 |    1 |\n",
            "| Q913 |    1 |\n",
            "| Q684 |    1 |\n",
            "| Q269 |    1 |\n",
            "| Q656 |    1 |\n",
            "| P298 |    1 |\n",
            "| P963 |    1 |\n",
            "| P948 |    1 |\n",
            "| P928 |    1 |\n",
            "| P839 |    1 |\n",
            "| P838 |    1 |\n",
            "| P833 |    1 |\n",
            "| P832 |    1 |\n",
            "| P788 |    1 |\n",
            "| P722 |    1 |\n",
            "| P702 |    1 |\n",
            "| P700 |    1 |\n",
            "| P611 |    1 |\n",
            "| P599 |    1 |\n",
            "| P38X |    1 |\n",
            "| P291 |    1 |\n",
            "| Q012 |    1 |\n",
            "| P289 |    1 |\n",
            "| P271 |    1 |\n",
            "| P209 |    1 |\n",
            "| P158 |    1 |\n",
            "| P134 |    1 |\n",
            "| P083 |    1 |\n",
            "| P034 |    1 |\n",
            "| P029 |    1 |\n",
            "| P011 |    1 |\n",
            "| P005 |    1 |\n",
            "| N47X |    1 |\n",
            "| K009 |    1 |\n",
            "| D487 |    1 |\n",
            "| A539 |    1 |\n",
            "| P968 |    1 |\n",
            "| Q043 |    1 |\n",
            "| Q640 |    1 |\n",
            "| Q336 |    1 |\n",
            "| Q639 |    1 |\n",
            "| Q620 |    1 |\n",
            "| Q611 |    1 |\n",
            "| Q602 |    1 |\n",
            "| Q600 |    1 |\n",
            "| Q558 |    1 |\n",
            "| Q555 |    1 |\n",
            "| Q439 |    1 |\n",
            "| Q438 |    1 |\n",
            "| Q419 |    1 |\n",
            "| Q400 |    1 |\n",
            "| Q388 |    1 |\n",
            "| Q37X |    1 |\n",
            "| Q375 |    1 |\n",
            "| Q289 |    1 |\n",
            "| Q061 |    1 |\n",
            "| Q258 |    1 |\n",
            "| Q223 |    1 |\n",
            "| Q213 |    1 |\n",
            "| Q211 |    1 |\n",
            "| Q208 |    1 |\n",
            "| Q204 |    1 |\n",
            "| Q175 |    1 |\n",
            "| Q163 |    1 |\n",
            "| Q150 |    1 |\n",
            "| Q141 |    1 |\n",
            "| Q139 |    1 |\n",
            "| Q132 |    1 |\n",
            "| Q104 |    1 |\n",
            "| Q079 |    1 |\n",
            "| R229 |    1 |\n"
          ]
        }
      ]
    },
    {
      "cell_type": "markdown",
      "source": [
        "## MCF Categórica\n",
        "- Oftalmológicas (1)\n",
        "- Oído (2)\n",
        "- Cara y cuello (3)\n",
        "- Nariz (4)\n",
        "- Lengua y boca (5)"
      ],
      "metadata": {
        "id": "_eaJFZetQz2Y"
      }
    },
    {
      "cell_type": "code",
      "source": [
        "label = \"MC-G2\"\n",
        "mc_value = {\n",
        "    'oftalmo': 1,\n",
        "    'oido': 2,\n",
        "    'cuello': 3,\n",
        "    'nariz': 4,\n",
        "    'boca': 5\n",
        "}"
      ],
      "metadata": {
        "id": "2rQJTeMlJ69N"
      },
      "execution_count": 71,
      "outputs": []
    },
    {
      "cell_type": "markdown",
      "source": [
        "#### Lista oftalmo"
      ],
      "metadata": {
        "id": "R7qrC4J8J3t6"
      }
    },
    {
      "cell_type": "code",
      "source": [
        "value = mc_value['oftalmo']\n",
        "a = df[df[label] == value].CODIGOCIEANOMALIA1.value_counts()\n",
        "b = df[df[label] == value].CODIGOCIEANOMALIA2.value_counts()\n",
        "with pd.option_context('display.max_rows', None, 'display.max_columns', None):  # more options can be specified also\n",
        "    print(a.add(b,fill_value=0).sort_values(ascending=False).to_markdown())"
      ],
      "metadata": {
        "colab": {
          "base_uri": "https://localhost:8080/"
        },
        "id": "ne6QlyL-PzSQ",
        "outputId": "2b7b6ea1-b526-4bd7-a19b-57f4d472ad08"
      },
      "execution_count": 72,
      "outputs": [
        {
          "output_type": "stream",
          "name": "stdout",
          "text": [
            "|      |   0 |\n",
            "|:-----|----:|\n",
            "| 0000 |  46 |\n",
            "| Q103 |  16 |\n",
            "| Q158 |  15 |\n",
            "| Q120 |  15 |\n",
            "| Q111 |  11 |\n",
            "| P071 |   8 |\n",
            "| Q112 |   8 |\n",
            "| Q105 |   6 |\n",
            "| 9999 |   5 |\n",
            "| Q106 |   4 |\n",
            "| Q159 |   4 |\n",
            "| Q113 |   4 |\n",
            "| Q138 |   3 |\n",
            "| Q133 |   3 |\n",
            "| Q909 |   3 |\n",
            "| P128 |   3 |\n",
            "| Q101 |   2 |\n",
            "| Q660 |   2 |\n",
            "| Q107 |   2 |\n",
            "| Q039 |   2 |\n",
            "| Q668 |   2 |\n",
            "| Q539 |   2 |\n",
            "| Q249 |   2 |\n",
            "| Q870 |   1 |\n",
            "| Q839 |   1 |\n",
            "| Q532 |   1 |\n",
            "| Q752 |   1 |\n",
            "| Q790 |   1 |\n",
            "| Q699 |   1 |\n",
            "| Q670 |   1 |\n",
            "| Q663 |   1 |\n",
            "| Q897 |   1 |\n",
            "| Q336 |   1 |\n",
            "| Q132 |   1 |\n",
            "| Q248 |   1 |\n",
            "| Q150 |   1 |\n",
            "| Q141 |   1 |\n",
            "| Q139 |   1 |\n",
            "| Q042 |   1 |\n",
            "| P833 |   1 |\n",
            "| P788 |   1 |\n",
            "| P158 |   1 |\n",
            "| P134 |   1 |\n",
            "| P081 |   1 |\n",
            "| P059 |   1 |\n",
            "| P034 |   1 |\n",
            "| P026 |   1 |\n",
            "| A539 |   1 |\n",
            "| Q917 |   1 |\n"
          ]
        }
      ]
    },
    {
      "cell_type": "markdown",
      "source": [
        "#### Lista oido"
      ],
      "metadata": {
        "id": "eqtXnPoBKANm"
      }
    },
    {
      "cell_type": "code",
      "source": [
        "value = mc_value['oido']\n",
        "a = df[df[label] == value].CODIGOCIEANOMALIA1.value_counts()\n",
        "b = df[df[label] == value].CODIGOCIEANOMALIA2.value_counts()\n",
        "with pd.option_context('display.max_rows', None, 'display.max_columns', None):  # more options can be specified also\n",
        "    print(a.add(b,fill_value=0).sort_values(ascending=False).to_markdown())"
      ],
      "metadata": {
        "colab": {
          "base_uri": "https://localhost:8080/"
        },
        "id": "_f1r2nwKSbF0",
        "outputId": "1f640b02-579c-4cb2-b38a-fc8aa812194d"
      },
      "execution_count": 73,
      "outputs": [
        {
          "output_type": "stream",
          "name": "stdout",
          "text": [
            "|      |    0 |\n",
            "|:-----|-----:|\n",
            "| 0000 | 1261 |\n",
            "| Q170 |  684 |\n",
            "| Q172 |  319 |\n",
            "| Q174 |  311 |\n",
            "| Q173 |  222 |\n",
            "| 9999 |   96 |\n",
            "| Q179 |   52 |\n",
            "| P071 |   41 |\n",
            "| Q178 |   39 |\n",
            "| Q164 |   33 |\n",
            "| Q161 |   30 |\n",
            "| P128 |   28 |\n",
            "| Q160 |   26 |\n",
            "| Q668 |   19 |\n",
            "| P073 |   16 |\n",
            "| Q531 |   11 |\n",
            "| Q652 |   11 |\n",
            "| Q660 |   11 |\n",
            "| Q699 |    9 |\n",
            "| Q828 |    9 |\n",
            "| P081 |    8 |\n",
            "| Q169 |    7 |\n",
            "| Q663 |    7 |\n",
            "| K070 |    7 |\n",
            "| Q909 |    6 |\n",
            "| Q423 |    6 |\n",
            "| P835 |    6 |\n",
            "| P120 |    5 |\n",
            "| Q870 |    5 |\n",
            "| Q752 |    5 |\n",
            "| Q690 |    4 |\n",
            "| P113 |    4 |\n",
            "| Q843 |    4 |\n",
            "| P229 |    4 |\n",
            "| Q02X |    4 |\n",
            "| Q171 |    4 |\n",
            "| P059 |    4 |\n",
            "| Q674 |    4 |\n",
            "| Q650 |    4 |\n",
            "| Q740 |    3 |\n",
            "| Q899 |    3 |\n",
            "| Q872 |    3 |\n",
            "| Q897 |    3 |\n",
            "| Q059 |    3 |\n",
            "| Q761 |    3 |\n",
            "| Q709 |    3 |\n",
            "| P969 |    3 |\n",
            "| P545 |    3 |\n",
            "| Q666 |    3 |\n",
            "| Q692 |    3 |\n",
            "| Q670 |    3 |\n",
            "| Q249 |    3 |\n",
            "| Q539 |    2 |\n",
            "| Q532 |    2 |\n",
            "| Q549 |    2 |\n",
            "| D180 |    2 |\n",
            "| Q750 |    2 |\n",
            "| Q390 |    2 |\n",
            "| Q742 |    2 |\n",
            "| P032 |    2 |\n",
            "| P701 |    2 |\n",
            "| Q206 |    2 |\n",
            "| Q753 |    2 |\n",
            "| Q898 |    2 |\n",
            "| P050 |    2 |\n",
            "| P143 |    2 |\n",
            "| P220 |    2 |\n",
            "| Q165 |    2 |\n",
            "| Q795 |    2 |\n",
            "| Q758 |    2 |\n",
            "| Q759 |    2 |\n",
            "| Q793 |    2 |\n",
            "| Q781 |    2 |\n",
            "| Q829 |    1 |\n",
            "| Q749 |    1 |\n",
            "| Q831 |    1 |\n",
            "| Q825 |    1 |\n",
            "| Q859 |    1 |\n",
            "| Q833 |    1 |\n",
            "| Q704 |    1 |\n",
            "| Q820 |    1 |\n",
            "| Q700 |    1 |\n",
            "| Q712 |    1 |\n",
            "| Q681 |    1 |\n",
            "| Q718 |    1 |\n",
            "| Q728 |    1 |\n",
            "| Q754 |    1 |\n",
            "| Q684 |    1 |\n",
            "| Q419 |    1 |\n",
            "| Q680 |    1 |\n",
            "| P271 |    1 |\n",
            "| P948 |    1 |\n",
            "| P839 |    1 |\n",
            "| P838 |    1 |\n",
            "| P702 |    1 |\n",
            "| P700 |    1 |\n",
            "| P291 |    1 |\n",
            "| P289 |    1 |\n",
            "| P072 |    1 |\n",
            "| Q039 |    1 |\n",
            "| P052 |    1 |\n",
            "| P026 |    1 |\n",
            "| P012 |    1 |\n",
            "| P011 |    1 |\n",
            "| N47X |    1 |\n",
            "| K429 |    1 |\n",
            "| K009 |    1 |\n",
            "| Q031 |    1 |\n",
            "| Q061 |    1 |\n",
            "| Q676 |    1 |\n",
            "| Q439 |    1 |\n",
            "| Q672 |    1 |\n",
            "| Q669 |    1 |\n",
            "| Q658 |    1 |\n",
            "| Q656 |    1 |\n",
            "| Q639 |    1 |\n",
            "| Q620 |    1 |\n",
            "| Q611 |    1 |\n",
            "| Q438 |    1 |\n",
            "| Q163 |    1 |\n",
            "| Q400 |    1 |\n",
            "| Q289 |    1 |\n",
            "| Q269 |    1 |\n",
            "| Q258 |    1 |\n",
            "| Q208 |    1 |\n",
            "| Q204 |    1 |\n",
            "| Q175 |    1 |\n",
            "| R229 |    1 |\n"
          ]
        }
      ]
    },
    {
      "cell_type": "markdown",
      "source": [
        "Lista cuello"
      ],
      "metadata": {
        "id": "o5EwUeq2V-s5"
      }
    },
    {
      "cell_type": "code",
      "source": [
        "value = mc_value['cuello']\n",
        "a = df[df[label] == value].CODIGOCIEANOMALIA1.value_counts()\n",
        "b = df[df[label] == value].CODIGOCIEANOMALIA2.value_counts()\n",
        "with pd.option_context('display.max_rows', None, 'display.max_columns', None):  # more options can be specified also\n",
        "    print(a.add(b,fill_value=0).sort_values(ascending=False).to_markdown())"
      ],
      "metadata": {
        "colab": {
          "base_uri": "https://localhost:8080/"
        },
        "id": "FgLSiIAQSiDN",
        "outputId": "169863a5-2190-47c1-dd7f-d17629392a79"
      },
      "execution_count": 74,
      "outputs": [
        {
          "output_type": "stream",
          "name": "stdout",
          "text": [
            "|      |   0 |\n",
            "|:-----|----:|\n",
            "| 0000 | 116 |\n",
            "| Q184 |  51 |\n",
            "| Q181 |  48 |\n",
            "| Q189 |  39 |\n",
            "| Q188 |  15 |\n",
            "| 9999 |  13 |\n",
            "| P081 |   8 |\n",
            "| Q180 |   8 |\n",
            "| P071 |   3 |\n",
            "| Q185 |   3 |\n",
            "| Q182 |   3 |\n",
            "| P080 |   2 |\n",
            "| P128 |   2 |\n",
            "| Q183 |   2 |\n",
            "| P073 |   2 |\n",
            "| Q531 |   2 |\n",
            "| P835 |   2 |\n",
            "| P229 |   2 |\n",
            "| Q670 |   1 |\n",
            "| Q223 |   1 |\n",
            "| Q681 |   1 |\n",
            "| Q688 |   1 |\n",
            "| Q761 |   1 |\n",
            "| Q892 |   1 |\n",
            "| Q660 |   1 |\n",
            "| Q666 |   1 |\n",
            "| P083 |   1 |\n",
            "| K070 |   1 |\n",
            "| K429 |   1 |\n",
            "| Q186 |   1 |\n",
            "| Q019 |   1 |\n",
            "| Q000 |   1 |\n",
            "| P928 |   1 |\n",
            "| P832 |   1 |\n",
            "| P298 |   1 |\n",
            "| P209 |   1 |\n",
            "| Q898 |   1 |\n"
          ]
        }
      ]
    },
    {
      "cell_type": "markdown",
      "source": [
        "Lista nariz"
      ],
      "metadata": {
        "id": "nTWPJ0AlWKid"
      }
    },
    {
      "cell_type": "code",
      "source": [
        "value = mc_value['nariz']\n",
        "a = df[df[label] == value].CODIGOCIEANOMALIA1.value_counts()\n",
        "b = df[df[label] == value].CODIGOCIEANOMALIA2.value_counts()\n",
        "with pd.option_context('display.max_rows', None, 'display.max_columns', None):  # more options can be specified also\n",
        "    print(a.add(b,fill_value=0).sort_values(ascending=False).to_markdown())"
      ],
      "metadata": {
        "colab": {
          "base_uri": "https://localhost:8080/"
        },
        "id": "yY_A1GIBS3FC",
        "outputId": "a6cd3e04-d07c-4245-da0c-5066ba589658"
      },
      "execution_count": 75,
      "outputs": [
        {
          "output_type": "stream",
          "name": "stdout",
          "text": [
            "|      |   0 |\n",
            "|:-----|----:|\n",
            "| Q309 |  29 |\n",
            "| 0000 |  28 |\n",
            "| Q300 |  21 |\n",
            "| Q308 |  11 |\n",
            "| P071 |   7 |\n",
            "| 9999 |   6 |\n",
            "| Q301 |   5 |\n",
            "| Q02X |   3 |\n",
            "| Q752 |   2 |\n",
            "| P073 |   2 |\n",
            "| Q668 |   2 |\n",
            "| P081 |   1 |\n",
            "| Q531 |   1 |\n",
            "| Q870 |   1 |\n",
            "| Q833 |   1 |\n",
            "| Q758 |   1 |\n",
            "| Q709 |   1 |\n",
            "| Q699 |   1 |\n",
            "| Q650 |   1 |\n",
            "| Q640 |   1 |\n",
            "| D487 |   1 |\n",
            "| P128 |   1 |\n",
            "| K070 |   1 |\n",
            "| Q303 |   1 |\n",
            "| Q302 |   1 |\n",
            "| P059 |   1 |\n",
            "| P969 |   1 |\n",
            "| P835 |   1 |\n",
            "| P722 |   1 |\n",
            "| P599 |   1 |\n",
            "| Q909 |   1 |\n"
          ]
        }
      ]
    },
    {
      "cell_type": "markdown",
      "source": [
        "Lista lengua y boca"
      ],
      "metadata": {
        "id": "TWBVkkeKWNFg"
      }
    },
    {
      "cell_type": "code",
      "source": [
        "value = mc_value['boca']\n",
        "a = df[df[label] == value].CODIGOCIEANOMALIA1.value_counts()\n",
        "b = df[df[label] == value].CODIGOCIEANOMALIA2.value_counts()\n",
        "with pd.option_context('display.max_rows', None, 'display.max_columns', None):  # more options can be specified also\n",
        "    print(a.add(b,fill_value=0).sort_values(ascending=False).to_markdown())"
      ],
      "metadata": {
        "colab": {
          "base_uri": "https://localhost:8080/"
        },
        "id": "WLBW51itS9ML",
        "outputId": "f0fca5bd-4afb-4d59-c0d1-1e09f8a518e7"
      },
      "execution_count": 76,
      "outputs": [
        {
          "output_type": "stream",
          "name": "stdout",
          "text": [
            "|      |    0 |\n",
            "|:-----|-----:|\n",
            "| 0000 | 1096 |\n",
            "| Q379 |  556 |\n",
            "| Q369 |  464 |\n",
            "| Q359 |  222 |\n",
            "| Q381 |   95 |\n",
            "| 9999 |   90 |\n",
            "| Q372 |   42 |\n",
            "| Q360 |   32 |\n",
            "| P071 |   24 |\n",
            "| Q385 |   22 |\n",
            "| P073 |   17 |\n",
            "| Q699 |   16 |\n",
            "| Q382 |   16 |\n",
            "| Q371 |   13 |\n",
            "| Q039 |   12 |\n",
            "| Q660 |   11 |\n",
            "| P229 |   11 |\n",
            "| Q383 |   11 |\n",
            "| P835 |   11 |\n",
            "| Q380 |   10 |\n",
            "| Q897 |   10 |\n",
            "| Q02X |   10 |\n",
            "| Q386 |    9 |\n",
            "| Q532 |    9 |\n",
            "| Q531 |    8 |\n",
            "| Q042 |    7 |\n",
            "| K070 |    7 |\n",
            "| Q753 |    7 |\n",
            "| P128 |    7 |\n",
            "| Q663 |    7 |\n",
            "| Q709 |    7 |\n",
            "| Q353 |    6 |\n",
            "| Q423 |    6 |\n",
            "| P081 |    6 |\n",
            "| Q351 |    5 |\n",
            "| Q249 |    5 |\n",
            "| Q384 |    5 |\n",
            "| Q000 |    5 |\n",
            "| Q668 |    5 |\n",
            "| Q792 |    5 |\n",
            "| Q059 |    4 |\n",
            "| Q352 |    4 |\n",
            "| Q019 |    4 |\n",
            "| Q909 |    4 |\n",
            "| Q793 |    3 |\n",
            "| Q549 |    3 |\n",
            "| Q374 |    3 |\n",
            "| P050 |    3 |\n",
            "| P052 |    3 |\n",
            "| P969 |    3 |\n",
            "| Q894 |    3 |\n",
            "| P942 |    3 |\n",
            "| Q870 |    3 |\n",
            "| Q742 |    2 |\n",
            "| Q650 |    2 |\n",
            "| Q748 |    2 |\n",
            "| Q658 |    2 |\n",
            "| Q670 |    2 |\n",
            "| Q539 |    2 |\n",
            "| Q674 |    2 |\n",
            "| Q700 |    2 |\n",
            "| Q652 |    2 |\n",
            "| D180 |    2 |\n",
            "| Q749 |    2 |\n",
            "| P914 |    2 |\n",
            "| P059 |    2 |\n",
            "| P072 |    2 |\n",
            "| P080 |    2 |\n",
            "| P219 |    2 |\n",
            "| Q899 |    2 |\n",
            "| P221 |    2 |\n",
            "| P284 |    2 |\n",
            "| P369 |    2 |\n",
            "| Q898 |    2 |\n",
            "| Q690 |    2 |\n",
            "| Q357 |    2 |\n",
            "| Q361 |    2 |\n",
            "| Q031 |    2 |\n",
            "| Q373 |    2 |\n",
            "| Q248 |    2 |\n",
            "| Q969 |    1 |\n",
            "| Q704 |    1 |\n",
            "| Q937 |    1 |\n",
            "| Q913 |    1 |\n",
            "| Q752 |    1 |\n",
            "| Q70X |    1 |\n",
            "| Q872 |    1 |\n",
            "| Q892 |    1 |\n",
            "| Q759 |    1 |\n",
            "| Q764 |    1 |\n",
            "| Q716 |    1 |\n",
            "| Q730 |    1 |\n",
            "| Q750 |    1 |\n",
            "| Q833 |    1 |\n",
            "| Q738 |    1 |\n",
            "| Q37X |    1 |\n",
            "| Q682 |    1 |\n",
            "| Q681 |    1 |\n",
            "| P005 |    1 |\n",
            "| P012 |    1 |\n",
            "| P029 |    1 |\n",
            "| P120 |    1 |\n",
            "| P220 |    1 |\n",
            "| P38X |    1 |\n",
            "| P545 |    1 |\n",
            "| P611 |    1 |\n",
            "| P701 |    1 |\n",
            "| P963 |    1 |\n",
            "| P968 |    1 |\n",
            "| Q012 |    1 |\n",
            "| Q043 |    1 |\n",
            "| Q079 |    1 |\n",
            "| Q211 |    1 |\n",
            "| Q213 |    1 |\n",
            "| Q355 |    1 |\n",
            "| Q370 |    1 |\n",
            "| Q375 |    1 |\n",
            "| Q378 |    1 |\n",
            "| Q390 |    1 |\n",
            "| Q555 |    1 |\n",
            "| Q558 |    1 |\n",
            "| Q600 |    1 |\n",
            "| Q602 |    1 |\n",
            "| Q666 |    1 |\n",
            "| Q673 |    1 |\n",
            "| Q999 |    1 |\n"
          ]
        }
      ]
    },
    {
      "cell_type": "code",
      "source": [
        "label=\"S-MG\"\n",
        "a = df[(df[label] == 1) | (df[label] == 2)].CODIGOCIEANOMALIA1.value_counts()\n",
        "b = df[(df[label] == 1) | (df[label] == 2)].CODIGOCIEANOMALIA2.value_counts()\n",
        "with pd.option_context('display.max_rows', None, 'display.max_columns', None):  # more options can be specified also\n",
        "    print(a.add(b,fill_value=0).sort_values(ascending=False))"
      ],
      "metadata": {
        "id": "Jy0zW5wKS-dv",
        "colab": {
          "base_uri": "https://localhost:8080/"
        },
        "outputId": "fed545b8-b9c8-4051-b199-dfbc22149c3d"
      },
      "execution_count": 77,
      "outputs": [
        {
          "output_type": "stream",
          "name": "stdout",
          "text": [
            "Q170    342.0\n",
            "Q379    299.0\n",
            "Q359    235.0\n",
            "Q369    232.0\n",
            "Q172    176.0\n",
            "Q173    163.0\n",
            "Q174    138.0\n",
            "P071     83.0\n",
            "Q161     54.0\n",
            "Q381     43.0\n",
            "P128     41.0\n",
            "Q179     37.0\n",
            "P073     37.0\n",
            "Q160     29.0\n",
            "Q668     28.0\n",
            "Q699     27.0\n",
            "Q189     26.0\n",
            "Q660     25.0\n",
            "P081     24.0\n",
            "Q309     24.0\n",
            "Q385     24.0\n",
            "Q372     23.0\n",
            "Q531     22.0\n",
            "Q184     21.0\n",
            "Q178     21.0\n",
            "P835     20.0\n",
            "Q111     20.0\n",
            "Q308     20.0\n",
            "Q103     19.0\n",
            "Q300     18.0\n",
            "Q02X     17.0\n",
            "P229     17.0\n",
            "K070     16.0\n",
            "Q039     15.0\n",
            "Q164     15.0\n",
            "Q181     15.0\n",
            "Q663     15.0\n",
            "Q909     14.0\n",
            "Q897     14.0\n",
            "Q652     13.0\n",
            "Q382     13.0\n",
            "Q360     13.0\n",
            "Q423     12.0\n",
            "Q158     12.0\n",
            "Q532     12.0\n",
            "Q371     12.0\n",
            "Q709     11.0\n",
            "Q386     11.0\n",
            "Q188     10.0\n",
            "Q249     10.0\n",
            "Q120     10.0\n",
            "Q870     10.0\n",
            "Q828      9.0\n",
            "Q752      9.0\n",
            "Q753      9.0\n",
            "Q380      9.0\n",
            "Q042      8.0\n",
            "Q169      8.0\n",
            "P059      8.0\n",
            "P969      7.0\n",
            "Q670      7.0\n",
            "Q059      7.0\n",
            "Q650      7.0\n",
            "Q690      6.0\n",
            "Q000      6.0\n",
            "P120      6.0\n",
            "Q383      6.0\n",
            "Q378      6.0\n",
            "Q674      6.0\n",
            "Q539      6.0\n",
            "Q549      5.0\n",
            "Q793      5.0\n",
            "Q899      5.0\n",
            "P050      5.0\n",
            "Q666      5.0\n",
            "Q792      5.0\n",
            "Q898      5.0\n",
            "Q019      5.0\n",
            "P113      4.0\n",
            "Q112      4.0\n",
            "Q843      4.0\n",
            "Q353      4.0\n",
            "Q742      4.0\n",
            "Q872      4.0\n",
            "P080      4.0\n",
            "D180      4.0\n",
            "P052      4.0\n",
            "Q352      4.0\n",
            "P545      4.0\n",
            "Q761      4.0\n",
            "Q351      3.0\n",
            "Q658      3.0\n",
            "Q681      3.0\n",
            "Q390      3.0\n",
            "Q248      3.0\n",
            "Q374      3.0\n",
            "Q301      3.0\n",
            "Q700      3.0\n",
            "Q692      3.0\n",
            "Q302      3.0\n",
            "Q740      3.0\n",
            "Q107      3.0\n",
            "Q833      3.0\n",
            "Q894      3.0\n",
            "P701      3.0\n",
            "P072      3.0\n",
            "P942      3.0\n",
            "Q759      3.0\n",
            "Q758      3.0\n",
            "Q031      3.0\n",
            "Q750      3.0\n",
            "Q105      3.0\n",
            "Q106      3.0\n",
            "P220      3.0\n",
            "Q749      3.0\n",
            "Q171      3.0\n",
            "P914      2.0\n",
            "P221      2.0\n",
            "P284      2.0\n",
            "P369      2.0\n",
            "Q892      2.0\n",
            "Q373      2.0\n",
            "P143      2.0\n",
            "Q185      2.0\n",
            "Q370      2.0\n",
            "Q795      2.0\n",
            "Q748      2.0\n",
            "P032      2.0\n",
            "K429      2.0\n",
            "Q357      2.0\n",
            "Q781      2.0\n",
            "Q206      2.0\n",
            "P219      2.0\n",
            "Q704      2.0\n",
            "P012      2.0\n",
            "P026      2.0\n",
            "Q303      2.0\n",
            "Q676      1.0\n",
            "Q669      1.0\n",
            "Q680      1.0\n",
            "Q969      1.0\n",
            "Q999      1.0\n",
            "Q673      1.0\n",
            "Q913      1.0\n",
            "Q917      1.0\n",
            "Q937      1.0\n",
            "Q672      1.0\n",
            "Q728      1.0\n",
            "Q859      1.0\n",
            "Q754      1.0\n",
            "Q718      1.0\n",
            "Q730      1.0\n",
            "Q716      1.0\n",
            "Q712      1.0\n",
            "Q70X      1.0\n",
            "Q738      1.0\n",
            "Q656      1.0\n",
            "Q764      1.0\n",
            "Q839      1.0\n",
            "Q688      1.0\n",
            "Q790      1.0\n",
            "Q684      1.0\n",
            "Q825      1.0\n",
            "Q829      1.0\n",
            "Q831      1.0\n",
            "Q682      1.0\n",
            "Q820      1.0\n",
            "A539      1.0\n",
            "Q640      1.0\n",
            "P833      1.0\n",
            "P611      1.0\n",
            "P700      1.0\n",
            "P702      1.0\n",
            "P722      1.0\n",
            "P788      1.0\n",
            "P832      1.0\n",
            "P838      1.0\n",
            "Q061      1.0\n",
            "P839      1.0\n",
            "P928      1.0\n",
            "P948      1.0\n",
            "P963      1.0\n",
            "P968      1.0\n",
            "Q012      1.0\n",
            "P599      1.0\n",
            "P38X      1.0\n",
            "P298      1.0\n",
            "P291      1.0\n",
            "P289      1.0\n",
            "P271      1.0\n",
            "P209      1.0\n",
            "P158      1.0\n",
            "P134      1.0\n",
            "P083      1.0\n",
            "P034      1.0\n",
            "P029      1.0\n",
            "P011      1.0\n",
            "P005      1.0\n",
            "N47X      1.0\n",
            "K009      1.0\n",
            "D487      1.0\n",
            "Q043      1.0\n",
            "Q079      1.0\n",
            "Q639      1.0\n",
            "Q438      1.0\n",
            "Q355      1.0\n",
            "Q361      1.0\n",
            "Q37X      1.0\n",
            "Q388      1.0\n",
            "Q400      1.0\n",
            "Q419      1.0\n",
            "Q439      1.0\n",
            "Q104      1.0\n",
            "Q555      1.0\n",
            "Q558      1.0\n",
            "Q600      1.0\n",
            "Q602      1.0\n",
            "Q611      1.0\n",
            "Q620      1.0\n",
            "Q336      1.0\n",
            "Q289      1.0\n",
            "Q269      1.0\n",
            "Q258      1.0\n",
            "Q223      1.0\n",
            "Q213      1.0\n",
            "Q211      1.0\n",
            "Q208      1.0\n",
            "Q204      1.0\n",
            "Q186      1.0\n",
            "Q182      1.0\n",
            "Q180      1.0\n",
            "Q159      1.0\n",
            "Q139      1.0\n",
            "Q138      1.0\n",
            "Q133      1.0\n",
            "Q113      1.0\n",
            "R229      1.0\n",
            "dtype: float64\n"
          ]
        }
      ]
    },
    {
      "cell_type": "code",
      "source": [],
      "metadata": {
        "id": "B47_CAO_Ylfi"
      },
      "execution_count": 77,
      "outputs": []
    }
  ]
}