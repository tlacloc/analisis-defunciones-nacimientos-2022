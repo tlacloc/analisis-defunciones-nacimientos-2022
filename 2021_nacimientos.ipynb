{
  "nbformat": 4,
  "nbformat_minor": 0,
  "metadata": {
    "colab": {
      "provenance": [],
      "include_colab_link": true
    },
    "kernelspec": {
      "name": "python3",
      "display_name": "Python 3"
    },
    "language_info": {
      "name": "python"
    }
  },
  "cells": [
    {
      "cell_type": "markdown",
      "metadata": {
        "id": "view-in-github",
        "colab_type": "text"
      },
      "source": [
        "<a href=\"https://colab.research.google.com/github/tlacloc/analisis-defunciones-nacimientos-2022/blob/main/2021_nacimientos.ipynb\" target=\"_parent\"><img src=\"https://colab.research.google.com/assets/colab-badge.svg\" alt=\"Open In Colab\"/></a>"
      ]
    },
    {
      "cell_type": "code",
      "execution_count": 1,
      "metadata": {
        "id": "XEFiPVYg8n_c",
        "colab": {
          "base_uri": "https://localhost:8080/"
        },
        "outputId": "0c83985c-5636-4615-bdf4-36e9537a98f8"
      },
      "outputs": [
        {
          "output_type": "stream",
          "name": "stdout",
          "text": [
            "Mounted at /content/drive\n"
          ]
        }
      ],
      "source": [
        " # Libreria para cargar nuestro drive\n",
        "from google.colab import drive\n",
        "\n",
        "# Cargamos nuestro drive en nuestro notebook\n",
        "drive.mount('/content/drive')"
      ]
    },
    {
      "cell_type": "code",
      "source": [
        "!ls \"/content/drive/MyDrive/Colab Notebooks\""
      ],
      "metadata": {
        "id": "s0_2p8W7m6YK",
        "colab": {
          "base_uri": "https://localhost:8080/"
        },
        "outputId": "125dab9f-9fe1-4e0e-9247-d2caba18d518"
      },
      "execution_count": 2,
      "outputs": [
        {
          "output_type": "stream",
          "name": "stdout",
          "text": [
            "'Copy of SDC11_actividad1_Badillo_Casanova.ipynb'   SDC_12\t\t test.ipynb\n",
            "'EVC Hackathon Files'\t\t\t\t    SDC_13\t\t Untitled0.ipynb\n",
            " Image\t\t\t\t\t\t    SDC_14\t\t Untitled1.ipynb\n",
            " miriam\t\t\t\t\t\t    SDC_15\t\t Vero\n",
            " SCD_12_Erick_Casanova.ipynb\t\t\t    test-forvero.ipynb\t Visualizacion\n"
          ]
        }
      ]
    },
    {
      "cell_type": "code",
      "source": [
        "# Librerias de ayuda\n",
        "import numpy as np\n",
        "import pandas as pd\n",
        "from scipy.stats import ttest_ind\n",
        "import matplotlib.pyplot as plt\n",
        "import seaborn as sns\n",
        "\n",
        "year = '2021'\n",
        "year_key = {\n",
        "    '2022': 5,\n",
        "    '2021': 4,\n",
        "    '2020': 3,\n",
        "    '2019': 2,\n",
        "    '2018': 1\n",
        "}"
      ],
      "metadata": {
        "id": "Ke_GCaginBra"
      },
      "execution_count": 3,
      "outputs": []
    },
    {
      "cell_type": "code",
      "source": [
        "fileName = '/content/drive/My Drive/Colab Notebooks/miriam/nacimientos_' + year + '.csv'\n",
        "df = pd.read_csv(fileName, low_memory=False)\n",
        "df.head(10)"
      ],
      "metadata": {
        "colab": {
          "base_uri": "https://localhost:8080/",
          "height": 412
        },
        "id": "E1NbIP53nD3y",
        "outputId": "93c38386-4fbf-431b-99f5-4c619c17c59c"
      },
      "execution_count": 4,
      "outputs": [
        {
          "output_type": "execute_result",
          "data": {
            "text/plain": [
              "   NACIOEXTRANJERO  ENTIDADNACIMIENTO  MUNICIPIONACIMIENTO  EDAD  \\\n",
              "0                2                 15                   33    21   \n",
              "1                2                 14                   39    37   \n",
              "2                2                 30                  130    37   \n",
              "3                2                  7                   19    26   \n",
              "4                2                 23                    7    15   \n",
              "5                1                 88                  997    31   \n",
              "6                2                 27                    4    17   \n",
              "7                2                 23                    4    18   \n",
              "8                1                 88                  997    36   \n",
              "9                2                 31                   69    30   \n",
              "\n",
              "   SECONSIDERAINDIGENA  HABLALENGUAINDIGENA FECHANACIMIENTOMADRE  \\\n",
              "0                    2                    2           10/02/1999   \n",
              "1                    2                    2           22/10/1983   \n",
              "2                    2                    2           27/03/1983   \n",
              "3                    1                    2           11/10/1994   \n",
              "4                    1                    2           26/10/2005   \n",
              "5                    2                    2           09/06/1989   \n",
              "6                    2                    2           31/12/2003   \n",
              "7                    2                    2           20/11/2002   \n",
              "8                    2                    2           02/02/1985   \n",
              "9                    1                    1           30/01/1991   \n",
              "\n",
              "   ESTADOCONYUGAL  RESIDEEXTRANJERO  ENTIDADRESIDENCIA  ...  \\\n",
              "0               4                 2                 15  ...   \n",
              "1               4                 2                 26  ...   \n",
              "2               4                 2                 23  ...   \n",
              "3               1                 2                 23  ...   \n",
              "4               1                 2                 23  ...   \n",
              "5               1                 2                 23  ...   \n",
              "6               1                 2                 23  ...   \n",
              "7               1                 2                 23  ...   \n",
              "8               1                 2                 23  ...   \n",
              "9               1                 2                 23  ...   \n",
              "\n",
              "   TIPOMEDICOATENDIO  ENTIDADFEDERATIVAPARTO  MUNICIPIOPARTO  LOCALIDADPARTO  \\\n",
              "0               11.0                      15              33               1   \n",
              "1               11.0                      26              43               1   \n",
              "2               11.0                      23               8               1   \n",
              "3               11.0                      23               8               1   \n",
              "4               11.0                      23               8               1   \n",
              "5               11.0                      23               8               1   \n",
              "6               11.0                      23               8               1   \n",
              "7               11.0                      23               8               1   \n",
              "8               11.0                      23               8               1   \n",
              "9               11.0                      23               8               1   \n",
              "\n",
              "   CERTIFICADOPOR  CLUESCERTIFICA  ENTIDADFEDERATIVACERTIFICA  \\\n",
              "0               7             NaN                          15   \n",
              "1               1             NaN                          26   \n",
              "2               1     QRSSA018001                          23   \n",
              "3               1     QRSSA018001                          23   \n",
              "4               1     QRSSA018001                          23   \n",
              "5               1     QRSSA018001                          23   \n",
              "6               1     QRSSA018001                          23   \n",
              "7               1     QRSSA018001                          23   \n",
              "8               1     QRSSA018001                          23   \n",
              "9               1     QRSSA018001                          23   \n",
              "\n",
              "   MUNICIPIOCERTIFICA  LOCALIDADCERTIFICA  FECHACERTIFICADO  \n",
              "0                  33                   1        06/01/2021  \n",
              "1                  43                   1        03/01/2021  \n",
              "2                   8                   1        28/01/2021  \n",
              "3                   8                   1        09/02/2021  \n",
              "4                   8                   1        11/02/2021  \n",
              "5                   8                   1        26/03/2021  \n",
              "6                   8                   1        10/03/2021  \n",
              "7                   8                   1        12/03/2021  \n",
              "8                   8                   1        02/03/2021  \n",
              "9                   8                   1        26/02/2021  \n",
              "\n",
              "[10 rows x 64 columns]"
            ],
            "text/html": [
              "\n",
              "  <div id=\"df-74295b1c-251e-4507-be67-f601e5d0b1d7\" class=\"colab-df-container\">\n",
              "    <div>\n",
              "<style scoped>\n",
              "    .dataframe tbody tr th:only-of-type {\n",
              "        vertical-align: middle;\n",
              "    }\n",
              "\n",
              "    .dataframe tbody tr th {\n",
              "        vertical-align: top;\n",
              "    }\n",
              "\n",
              "    .dataframe thead th {\n",
              "        text-align: right;\n",
              "    }\n",
              "</style>\n",
              "<table border=\"1\" class=\"dataframe\">\n",
              "  <thead>\n",
              "    <tr style=\"text-align: right;\">\n",
              "      <th></th>\n",
              "      <th>NACIOEXTRANJERO</th>\n",
              "      <th>ENTIDADNACIMIENTO</th>\n",
              "      <th>MUNICIPIONACIMIENTO</th>\n",
              "      <th>EDAD</th>\n",
              "      <th>SECONSIDERAINDIGENA</th>\n",
              "      <th>HABLALENGUAINDIGENA</th>\n",
              "      <th>FECHANACIMIENTOMADRE</th>\n",
              "      <th>ESTADOCONYUGAL</th>\n",
              "      <th>RESIDEEXTRANJERO</th>\n",
              "      <th>ENTIDADRESIDENCIA</th>\n",
              "      <th>...</th>\n",
              "      <th>TIPOMEDICOATENDIO</th>\n",
              "      <th>ENTIDADFEDERATIVAPARTO</th>\n",
              "      <th>MUNICIPIOPARTO</th>\n",
              "      <th>LOCALIDADPARTO</th>\n",
              "      <th>CERTIFICADOPOR</th>\n",
              "      <th>CLUESCERTIFICA</th>\n",
              "      <th>ENTIDADFEDERATIVACERTIFICA</th>\n",
              "      <th>MUNICIPIOCERTIFICA</th>\n",
              "      <th>LOCALIDADCERTIFICA</th>\n",
              "      <th>FECHACERTIFICADO</th>\n",
              "    </tr>\n",
              "  </thead>\n",
              "  <tbody>\n",
              "    <tr>\n",
              "      <th>0</th>\n",
              "      <td>2</td>\n",
              "      <td>15</td>\n",
              "      <td>33</td>\n",
              "      <td>21</td>\n",
              "      <td>2</td>\n",
              "      <td>2</td>\n",
              "      <td>10/02/1999</td>\n",
              "      <td>4</td>\n",
              "      <td>2</td>\n",
              "      <td>15</td>\n",
              "      <td>...</td>\n",
              "      <td>11.0</td>\n",
              "      <td>15</td>\n",
              "      <td>33</td>\n",
              "      <td>1</td>\n",
              "      <td>7</td>\n",
              "      <td>NaN</td>\n",
              "      <td>15</td>\n",
              "      <td>33</td>\n",
              "      <td>1</td>\n",
              "      <td>06/01/2021</td>\n",
              "    </tr>\n",
              "    <tr>\n",
              "      <th>1</th>\n",
              "      <td>2</td>\n",
              "      <td>14</td>\n",
              "      <td>39</td>\n",
              "      <td>37</td>\n",
              "      <td>2</td>\n",
              "      <td>2</td>\n",
              "      <td>22/10/1983</td>\n",
              "      <td>4</td>\n",
              "      <td>2</td>\n",
              "      <td>26</td>\n",
              "      <td>...</td>\n",
              "      <td>11.0</td>\n",
              "      <td>26</td>\n",
              "      <td>43</td>\n",
              "      <td>1</td>\n",
              "      <td>1</td>\n",
              "      <td>NaN</td>\n",
              "      <td>26</td>\n",
              "      <td>43</td>\n",
              "      <td>1</td>\n",
              "      <td>03/01/2021</td>\n",
              "    </tr>\n",
              "    <tr>\n",
              "      <th>2</th>\n",
              "      <td>2</td>\n",
              "      <td>30</td>\n",
              "      <td>130</td>\n",
              "      <td>37</td>\n",
              "      <td>2</td>\n",
              "      <td>2</td>\n",
              "      <td>27/03/1983</td>\n",
              "      <td>4</td>\n",
              "      <td>2</td>\n",
              "      <td>23</td>\n",
              "      <td>...</td>\n",
              "      <td>11.0</td>\n",
              "      <td>23</td>\n",
              "      <td>8</td>\n",
              "      <td>1</td>\n",
              "      <td>1</td>\n",
              "      <td>QRSSA018001</td>\n",
              "      <td>23</td>\n",
              "      <td>8</td>\n",
              "      <td>1</td>\n",
              "      <td>28/01/2021</td>\n",
              "    </tr>\n",
              "    <tr>\n",
              "      <th>3</th>\n",
              "      <td>2</td>\n",
              "      <td>7</td>\n",
              "      <td>19</td>\n",
              "      <td>26</td>\n",
              "      <td>1</td>\n",
              "      <td>2</td>\n",
              "      <td>11/10/1994</td>\n",
              "      <td>1</td>\n",
              "      <td>2</td>\n",
              "      <td>23</td>\n",
              "      <td>...</td>\n",
              "      <td>11.0</td>\n",
              "      <td>23</td>\n",
              "      <td>8</td>\n",
              "      <td>1</td>\n",
              "      <td>1</td>\n",
              "      <td>QRSSA018001</td>\n",
              "      <td>23</td>\n",
              "      <td>8</td>\n",
              "      <td>1</td>\n",
              "      <td>09/02/2021</td>\n",
              "    </tr>\n",
              "    <tr>\n",
              "      <th>4</th>\n",
              "      <td>2</td>\n",
              "      <td>23</td>\n",
              "      <td>7</td>\n",
              "      <td>15</td>\n",
              "      <td>1</td>\n",
              "      <td>2</td>\n",
              "      <td>26/10/2005</td>\n",
              "      <td>1</td>\n",
              "      <td>2</td>\n",
              "      <td>23</td>\n",
              "      <td>...</td>\n",
              "      <td>11.0</td>\n",
              "      <td>23</td>\n",
              "      <td>8</td>\n",
              "      <td>1</td>\n",
              "      <td>1</td>\n",
              "      <td>QRSSA018001</td>\n",
              "      <td>23</td>\n",
              "      <td>8</td>\n",
              "      <td>1</td>\n",
              "      <td>11/02/2021</td>\n",
              "    </tr>\n",
              "    <tr>\n",
              "      <th>5</th>\n",
              "      <td>1</td>\n",
              "      <td>88</td>\n",
              "      <td>997</td>\n",
              "      <td>31</td>\n",
              "      <td>2</td>\n",
              "      <td>2</td>\n",
              "      <td>09/06/1989</td>\n",
              "      <td>1</td>\n",
              "      <td>2</td>\n",
              "      <td>23</td>\n",
              "      <td>...</td>\n",
              "      <td>11.0</td>\n",
              "      <td>23</td>\n",
              "      <td>8</td>\n",
              "      <td>1</td>\n",
              "      <td>1</td>\n",
              "      <td>QRSSA018001</td>\n",
              "      <td>23</td>\n",
              "      <td>8</td>\n",
              "      <td>1</td>\n",
              "      <td>26/03/2021</td>\n",
              "    </tr>\n",
              "    <tr>\n",
              "      <th>6</th>\n",
              "      <td>2</td>\n",
              "      <td>27</td>\n",
              "      <td>4</td>\n",
              "      <td>17</td>\n",
              "      <td>2</td>\n",
              "      <td>2</td>\n",
              "      <td>31/12/2003</td>\n",
              "      <td>1</td>\n",
              "      <td>2</td>\n",
              "      <td>23</td>\n",
              "      <td>...</td>\n",
              "      <td>11.0</td>\n",
              "      <td>23</td>\n",
              "      <td>8</td>\n",
              "      <td>1</td>\n",
              "      <td>1</td>\n",
              "      <td>QRSSA018001</td>\n",
              "      <td>23</td>\n",
              "      <td>8</td>\n",
              "      <td>1</td>\n",
              "      <td>10/03/2021</td>\n",
              "    </tr>\n",
              "    <tr>\n",
              "      <th>7</th>\n",
              "      <td>2</td>\n",
              "      <td>23</td>\n",
              "      <td>4</td>\n",
              "      <td>18</td>\n",
              "      <td>2</td>\n",
              "      <td>2</td>\n",
              "      <td>20/11/2002</td>\n",
              "      <td>1</td>\n",
              "      <td>2</td>\n",
              "      <td>23</td>\n",
              "      <td>...</td>\n",
              "      <td>11.0</td>\n",
              "      <td>23</td>\n",
              "      <td>8</td>\n",
              "      <td>1</td>\n",
              "      <td>1</td>\n",
              "      <td>QRSSA018001</td>\n",
              "      <td>23</td>\n",
              "      <td>8</td>\n",
              "      <td>1</td>\n",
              "      <td>12/03/2021</td>\n",
              "    </tr>\n",
              "    <tr>\n",
              "      <th>8</th>\n",
              "      <td>1</td>\n",
              "      <td>88</td>\n",
              "      <td>997</td>\n",
              "      <td>36</td>\n",
              "      <td>2</td>\n",
              "      <td>2</td>\n",
              "      <td>02/02/1985</td>\n",
              "      <td>1</td>\n",
              "      <td>2</td>\n",
              "      <td>23</td>\n",
              "      <td>...</td>\n",
              "      <td>11.0</td>\n",
              "      <td>23</td>\n",
              "      <td>8</td>\n",
              "      <td>1</td>\n",
              "      <td>1</td>\n",
              "      <td>QRSSA018001</td>\n",
              "      <td>23</td>\n",
              "      <td>8</td>\n",
              "      <td>1</td>\n",
              "      <td>02/03/2021</td>\n",
              "    </tr>\n",
              "    <tr>\n",
              "      <th>9</th>\n",
              "      <td>2</td>\n",
              "      <td>31</td>\n",
              "      <td>69</td>\n",
              "      <td>30</td>\n",
              "      <td>1</td>\n",
              "      <td>1</td>\n",
              "      <td>30/01/1991</td>\n",
              "      <td>1</td>\n",
              "      <td>2</td>\n",
              "      <td>23</td>\n",
              "      <td>...</td>\n",
              "      <td>11.0</td>\n",
              "      <td>23</td>\n",
              "      <td>8</td>\n",
              "      <td>1</td>\n",
              "      <td>1</td>\n",
              "      <td>QRSSA018001</td>\n",
              "      <td>23</td>\n",
              "      <td>8</td>\n",
              "      <td>1</td>\n",
              "      <td>26/02/2021</td>\n",
              "    </tr>\n",
              "  </tbody>\n",
              "</table>\n",
              "<p>10 rows × 64 columns</p>\n",
              "</div>\n",
              "    <div class=\"colab-df-buttons\">\n",
              "\n",
              "  <div class=\"colab-df-container\">\n",
              "    <button class=\"colab-df-convert\" onclick=\"convertToInteractive('df-74295b1c-251e-4507-be67-f601e5d0b1d7')\"\n",
              "            title=\"Convert this dataframe to an interactive table.\"\n",
              "            style=\"display:none;\">\n",
              "\n",
              "  <svg xmlns=\"http://www.w3.org/2000/svg\" height=\"24px\" viewBox=\"0 -960 960 960\">\n",
              "    <path d=\"M120-120v-720h720v720H120Zm60-500h600v-160H180v160Zm220 220h160v-160H400v160Zm0 220h160v-160H400v160ZM180-400h160v-160H180v160Zm440 0h160v-160H620v160ZM180-180h160v-160H180v160Zm440 0h160v-160H620v160Z\"/>\n",
              "  </svg>\n",
              "    </button>\n",
              "\n",
              "  <style>\n",
              "    .colab-df-container {\n",
              "      display:flex;\n",
              "      gap: 12px;\n",
              "    }\n",
              "\n",
              "    .colab-df-convert {\n",
              "      background-color: #E8F0FE;\n",
              "      border: none;\n",
              "      border-radius: 50%;\n",
              "      cursor: pointer;\n",
              "      display: none;\n",
              "      fill: #1967D2;\n",
              "      height: 32px;\n",
              "      padding: 0 0 0 0;\n",
              "      width: 32px;\n",
              "    }\n",
              "\n",
              "    .colab-df-convert:hover {\n",
              "      background-color: #E2EBFA;\n",
              "      box-shadow: 0px 1px 2px rgba(60, 64, 67, 0.3), 0px 1px 3px 1px rgba(60, 64, 67, 0.15);\n",
              "      fill: #174EA6;\n",
              "    }\n",
              "\n",
              "    .colab-df-buttons div {\n",
              "      margin-bottom: 4px;\n",
              "    }\n",
              "\n",
              "    [theme=dark] .colab-df-convert {\n",
              "      background-color: #3B4455;\n",
              "      fill: #D2E3FC;\n",
              "    }\n",
              "\n",
              "    [theme=dark] .colab-df-convert:hover {\n",
              "      background-color: #434B5C;\n",
              "      box-shadow: 0px 1px 3px 1px rgba(0, 0, 0, 0.15);\n",
              "      filter: drop-shadow(0px 1px 2px rgba(0, 0, 0, 0.3));\n",
              "      fill: #FFFFFF;\n",
              "    }\n",
              "  </style>\n",
              "\n",
              "    <script>\n",
              "      const buttonEl =\n",
              "        document.querySelector('#df-74295b1c-251e-4507-be67-f601e5d0b1d7 button.colab-df-convert');\n",
              "      buttonEl.style.display =\n",
              "        google.colab.kernel.accessAllowed ? 'block' : 'none';\n",
              "\n",
              "      async function convertToInteractive(key) {\n",
              "        const element = document.querySelector('#df-74295b1c-251e-4507-be67-f601e5d0b1d7');\n",
              "        const dataTable =\n",
              "          await google.colab.kernel.invokeFunction('convertToInteractive',\n",
              "                                                    [key], {});\n",
              "        if (!dataTable) return;\n",
              "\n",
              "        const docLinkHtml = 'Like what you see? Visit the ' +\n",
              "          '<a target=\"_blank\" href=https://colab.research.google.com/notebooks/data_table.ipynb>data table notebook</a>'\n",
              "          + ' to learn more about interactive tables.';\n",
              "        element.innerHTML = '';\n",
              "        dataTable['output_type'] = 'display_data';\n",
              "        await google.colab.output.renderOutput(dataTable, element);\n",
              "        const docLink = document.createElement('div');\n",
              "        docLink.innerHTML = docLinkHtml;\n",
              "        element.appendChild(docLink);\n",
              "      }\n",
              "    </script>\n",
              "  </div>\n",
              "\n",
              "\n",
              "<div id=\"df-6ff52d84-fc85-4bc6-9efa-5a2c79bfaaf5\">\n",
              "  <button class=\"colab-df-quickchart\" onclick=\"quickchart('df-6ff52d84-fc85-4bc6-9efa-5a2c79bfaaf5')\"\n",
              "            title=\"Suggest charts\"\n",
              "            style=\"display:none;\">\n",
              "\n",
              "<svg xmlns=\"http://www.w3.org/2000/svg\" height=\"24px\"viewBox=\"0 0 24 24\"\n",
              "     width=\"24px\">\n",
              "    <g>\n",
              "        <path d=\"M19 3H5c-1.1 0-2 .9-2 2v14c0 1.1.9 2 2 2h14c1.1 0 2-.9 2-2V5c0-1.1-.9-2-2-2zM9 17H7v-7h2v7zm4 0h-2V7h2v10zm4 0h-2v-4h2v4z\"/>\n",
              "    </g>\n",
              "</svg>\n",
              "  </button>\n",
              "\n",
              "<style>\n",
              "  .colab-df-quickchart {\n",
              "      --bg-color: #E8F0FE;\n",
              "      --fill-color: #1967D2;\n",
              "      --hover-bg-color: #E2EBFA;\n",
              "      --hover-fill-color: #174EA6;\n",
              "      --disabled-fill-color: #AAA;\n",
              "      --disabled-bg-color: #DDD;\n",
              "  }\n",
              "\n",
              "  [theme=dark] .colab-df-quickchart {\n",
              "      --bg-color: #3B4455;\n",
              "      --fill-color: #D2E3FC;\n",
              "      --hover-bg-color: #434B5C;\n",
              "      --hover-fill-color: #FFFFFF;\n",
              "      --disabled-bg-color: #3B4455;\n",
              "      --disabled-fill-color: #666;\n",
              "  }\n",
              "\n",
              "  .colab-df-quickchart {\n",
              "    background-color: var(--bg-color);\n",
              "    border: none;\n",
              "    border-radius: 50%;\n",
              "    cursor: pointer;\n",
              "    display: none;\n",
              "    fill: var(--fill-color);\n",
              "    height: 32px;\n",
              "    padding: 0;\n",
              "    width: 32px;\n",
              "  }\n",
              "\n",
              "  .colab-df-quickchart:hover {\n",
              "    background-color: var(--hover-bg-color);\n",
              "    box-shadow: 0 1px 2px rgba(60, 64, 67, 0.3), 0 1px 3px 1px rgba(60, 64, 67, 0.15);\n",
              "    fill: var(--button-hover-fill-color);\n",
              "  }\n",
              "\n",
              "  .colab-df-quickchart-complete:disabled,\n",
              "  .colab-df-quickchart-complete:disabled:hover {\n",
              "    background-color: var(--disabled-bg-color);\n",
              "    fill: var(--disabled-fill-color);\n",
              "    box-shadow: none;\n",
              "  }\n",
              "\n",
              "  .colab-df-spinner {\n",
              "    border: 2px solid var(--fill-color);\n",
              "    border-color: transparent;\n",
              "    border-bottom-color: var(--fill-color);\n",
              "    animation:\n",
              "      spin 1s steps(1) infinite;\n",
              "  }\n",
              "\n",
              "  @keyframes spin {\n",
              "    0% {\n",
              "      border-color: transparent;\n",
              "      border-bottom-color: var(--fill-color);\n",
              "      border-left-color: var(--fill-color);\n",
              "    }\n",
              "    20% {\n",
              "      border-color: transparent;\n",
              "      border-left-color: var(--fill-color);\n",
              "      border-top-color: var(--fill-color);\n",
              "    }\n",
              "    30% {\n",
              "      border-color: transparent;\n",
              "      border-left-color: var(--fill-color);\n",
              "      border-top-color: var(--fill-color);\n",
              "      border-right-color: var(--fill-color);\n",
              "    }\n",
              "    40% {\n",
              "      border-color: transparent;\n",
              "      border-right-color: var(--fill-color);\n",
              "      border-top-color: var(--fill-color);\n",
              "    }\n",
              "    60% {\n",
              "      border-color: transparent;\n",
              "      border-right-color: var(--fill-color);\n",
              "    }\n",
              "    80% {\n",
              "      border-color: transparent;\n",
              "      border-right-color: var(--fill-color);\n",
              "      border-bottom-color: var(--fill-color);\n",
              "    }\n",
              "    90% {\n",
              "      border-color: transparent;\n",
              "      border-bottom-color: var(--fill-color);\n",
              "    }\n",
              "  }\n",
              "</style>\n",
              "\n",
              "  <script>\n",
              "    async function quickchart(key) {\n",
              "      const quickchartButtonEl =\n",
              "        document.querySelector('#' + key + ' button');\n",
              "      quickchartButtonEl.disabled = true;  // To prevent multiple clicks.\n",
              "      quickchartButtonEl.classList.add('colab-df-spinner');\n",
              "      try {\n",
              "        const charts = await google.colab.kernel.invokeFunction(\n",
              "            'suggestCharts', [key], {});\n",
              "      } catch (error) {\n",
              "        console.error('Error during call to suggestCharts:', error);\n",
              "      }\n",
              "      quickchartButtonEl.classList.remove('colab-df-spinner');\n",
              "      quickchartButtonEl.classList.add('colab-df-quickchart-complete');\n",
              "    }\n",
              "    (() => {\n",
              "      let quickchartButtonEl =\n",
              "        document.querySelector('#df-6ff52d84-fc85-4bc6-9efa-5a2c79bfaaf5 button');\n",
              "      quickchartButtonEl.style.display =\n",
              "        google.colab.kernel.accessAllowed ? 'block' : 'none';\n",
              "    })();\n",
              "  </script>\n",
              "</div>\n",
              "\n",
              "    </div>\n",
              "  </div>\n"
            ]
          },
          "metadata": {},
          "execution_count": 4
        }
      ]
    },
    {
      "cell_type": "code",
      "source": [
        "oldColumns = df.columns\n",
        "oldColumns"
      ],
      "metadata": {
        "colab": {
          "base_uri": "https://localhost:8080/"
        },
        "id": "zZO-pG3Tu82u",
        "outputId": "8eb377b2-ef04-4830-fbdb-ebed8ea56af7"
      },
      "execution_count": 5,
      "outputs": [
        {
          "output_type": "execute_result",
          "data": {
            "text/plain": [
              "Index(['NACIOEXTRANJERO', 'ENTIDADNACIMIENTO', 'MUNICIPIONACIMIENTO', 'EDAD',\n",
              "       'SECONSIDERAINDIGENA', 'HABLALENGUAINDIGENA', 'FECHANACIMIENTOMADRE',\n",
              "       'ESTADOCONYUGAL', 'RESIDEEXTRANJERO', 'ENTIDADRESIDENCIA',\n",
              "       'MUNICIPIORESIDENCIA', 'LOCALIDADRESIDENCIA', 'NUMEROEMBARAZOS',\n",
              "       'HIJOSNACIDOSMUERTOS', 'HIJOSNACIDOSVIVOS', 'HIJOSSOBREVIVIENTES',\n",
              "       'CONDICIONHIJOANTERIOR', 'VIVEHIJOANTERIOR', 'ORDENNACIMIENTO',\n",
              "       'ATENCIONPRENATAL', 'TRIMESTREPRIMERCONSULTA', 'TOTALCONSULTAS',\n",
              "       'SOBREVIVIOPARTO', 'AFILIACION', 'ESCOLARIDAD', 'INTERRUMPIOESTUDIOS',\n",
              "       'CLAVEOCUPACIONHABITUAL', 'TRABAJAACTUALMENTE', 'EDADPADRE',\n",
              "       'FECHANACIMIENTO', 'HORANACIMIENTO', 'SEXO', 'EDADGESTACIONAL', 'TALLA',\n",
              "       'PESO', 'APGAR', 'SILVERMAN', 'TAMIZAUDITIVO', 'VACUNA_BCG',\n",
              "       'VACUNAHEPATITIS_B', 'VITAMINA_A', 'VITAMINA_K', 'PRODUCTOEMBARAZO',\n",
              "       'ORDENPRODUCTO', 'TOTALPRODUCTOS', 'CODIGOCIEANOMALIA1',\n",
              "       'CODIGOCIEANOMALIA2', 'LUGARNACIMIENTO', 'CLUES', 'TIEMPOTRASLADO',\n",
              "       'RESOLUCIONEMBARAZO', 'UTILIZOFORCEPS', 'TIPOCESAREA',\n",
              "       'PERSONALATENDIO', 'TIPOMEDICOATENDIO', 'ENTIDADFEDERATIVAPARTO',\n",
              "       'MUNICIPIOPARTO', 'LOCALIDADPARTO', 'CERTIFICADOPOR', 'CLUESCERTIFICA',\n",
              "       'ENTIDADFEDERATIVACERTIFICA', 'MUNICIPIOCERTIFICA',\n",
              "       'LOCALIDADCERTIFICA', 'FECHACERTIFICADO'],\n",
              "      dtype='object')"
            ]
          },
          "metadata": {},
          "execution_count": 5
        }
      ]
    },
    {
      "cell_type": "markdown",
      "source": [
        "Variables que sd van a utilizar"
      ],
      "metadata": {
        "id": "8bYl99CXwYNU"
      }
    },
    {
      "cell_type": "code",
      "source": [
        "# Limpieza de datos\n",
        "# Se eliminaran las columnas que no se utilizaran\n",
        "\n",
        "columnsToRemove = [\n",
        "    \"TAMIZAUDITIVO\",\n",
        "    \"HIJOSSOBREVIVIENTES\",\n",
        "    # \"FECHANACIMIENTO\",\n",
        "    \"ORDENPRODUCTO\",\n",
        "    \"NACIOEXTRANJERO\",\n",
        "    \"ENTIDADNACIMIENTO\",\n",
        "    \"MUNICIPIONACIMIENTO\",\n",
        "    \"SECONSIDERAINDIGENA\",\n",
        "    \"HABLALENGUAINDIGENA\",\n",
        "    \"FECHANACIMIENTOMADRE\",\n",
        "    \"RESIDEEXTRANJERO\",\n",
        "    \"ESTADOCONYUGAL\",\n",
        "    \"ENTIDADRESIDENCIA\",\n",
        "    \"MUNICIPIORESIDENCIA\",\n",
        "    \"LOCALIDADRESIDENCIA\",\n",
        "    \"HIJOSNACIDOSVIVOS\",\n",
        "    \"CONDICIONHIJOANTERIOR\",\n",
        "    \"VIVEHIJOANTERIOR\",\n",
        "    \"ORDENNACIMIENTO\",\n",
        "    \"AFILIACION\",\n",
        "    \"INTERRUMPIOESTUDIOS\",\n",
        "    \"CLAVEOCUPACIONHABITUAL\",\n",
        "    \"TRABAJAACTUALMENTE\",\n",
        "    \"HORANACIMIENTO\",\n",
        "    \"VACUNA_BCG\",\n",
        "    \"VACUNAHEPATITIS_B\",\n",
        "    \"VITAMINA_A\",\n",
        "    \"VITAMINA_K\",\n",
        "    # Relacionado a gemelos\n",
        "    # \"PRODUCTOEMBARAZO\",\n",
        "    \"ORDENPRODUCTO\",\n",
        "    \"TOTALPRODUCTOS\",\n",
        "    \"CLUES\",\n",
        "    \"TIEMPOTRASLADO\",\n",
        "    # \"RESOLUCIONEMBARAZO\",\n",
        "    \"UTILIZOFORCEPS\",\n",
        "    \"TIPOCESAREA\",\n",
        "    \"PERSONALATENDIO\",\n",
        "    \"TIPOMEDICOATENDIO\",\n",
        "    \"MUNICIPIOPARTO\",\n",
        "    \"LOCALIDADPARTO\",\n",
        "    \"CERTIFICADOPOR\",\n",
        "    \"CLUESCERTIFICA\",\n",
        "    \"ENTIDADFEDERATIVACERTIFICA\",\n",
        "    \"MUNICIPIOCERTIFICA\",\n",
        "    \"LOCALIDADCERTIFICA\",\n",
        "    \"FECHACERTIFICADO\",\n",
        "    \"LUGARNACIMIENTO\",\n",
        "    \"EDADPADRE\"\n",
        "]\n",
        "\n",
        "df.drop(columnsToRemove, inplace=True, axis=1)"
      ],
      "metadata": {
        "id": "nLfnlRvgu9_s"
      },
      "execution_count": 6,
      "outputs": []
    },
    {
      "cell_type": "code",
      "source": [
        "columnsToReview = df.columns\n",
        "columnsToReview"
      ],
      "metadata": {
        "colab": {
          "base_uri": "https://localhost:8080/"
        },
        "id": "fSKzeDtFvBMI",
        "outputId": "a9293494-e00f-48d8-ca01-a5d611fbce78"
      },
      "execution_count": 7,
      "outputs": [
        {
          "output_type": "execute_result",
          "data": {
            "text/plain": [
              "Index(['EDAD', 'NUMEROEMBARAZOS', 'HIJOSNACIDOSMUERTOS', 'ATENCIONPRENATAL',\n",
              "       'TRIMESTREPRIMERCONSULTA', 'TOTALCONSULTAS', 'SOBREVIVIOPARTO',\n",
              "       'ESCOLARIDAD', 'FECHANACIMIENTO', 'SEXO', 'EDADGESTACIONAL', 'TALLA',\n",
              "       'PESO', 'APGAR', 'SILVERMAN', 'PRODUCTOEMBARAZO', 'CODIGOCIEANOMALIA1',\n",
              "       'CODIGOCIEANOMALIA2', 'RESOLUCIONEMBARAZO', 'ENTIDADFEDERATIVAPARTO'],\n",
              "      dtype='object')"
            ]
          },
          "metadata": {},
          "execution_count": 7
        }
      ]
    },
    {
      "cell_type": "code",
      "source": [
        "#df=df.drop(df[df['EDAD']==999].index)\n",
        "#df=df.drop(df[df['EDAD']==888].index)\n",
        "#df=df.drop(df[df['NUMEROEMBARAZOS']==99].index)\n",
        "#df=df.drop(df[df['HIJOSNACIDOSMUERTOS']==99].index)\n",
        "#df=df.drop(df[df['ATENCIONPRENATAL']==9].index)\n",
        "#df=df.drop(df[df['TRIMESTREPRIMERCONSULTA']==9].index)\n",
        "#df=df.drop(df[df['TOTALCONSULTAS']==99].index)\n",
        "#df=df.drop(df[df['SOBREVIVIOPARTO']==9].index)\n",
        "#df=df.drop(df[df['ESCOLARIDAD']==999].index)\n",
        "#df=df.drop(df[df['EDADPADRE']==999].index)\n",
        "#df=df.drop(df[df['SEXO']==99].index)\n",
        "#df=df.drop(df[df['EDADGESTACIONAL']==99].index)\n",
        "#df=df.drop(df[df['TALLA']==99].index)\n",
        "#df=df.drop(df[df['PESO']==9999].index)\n",
        "#df=df.drop(df[df['TALLA']==9].index)\n",
        "#df=df.drop(df[df['APGAR']==99].index)\n",
        "#df=df.drop(df[df['SILVERMAN']==99].index)\n",
        "#df=df.drop(df[df['UTILIZOFORCEPS']==9].index)"
      ],
      "metadata": {
        "id": "AHqUQLo72KRM"
      },
      "execution_count": 8,
      "outputs": []
    },
    {
      "cell_type": "code",
      "source": [
        "df.head(10)"
      ],
      "metadata": {
        "colab": {
          "base_uri": "https://localhost:8080/",
          "height": 383
        },
        "id": "JTqF4vUIvDPR",
        "outputId": "4ae67c4f-f8c4-449b-919c-6ba9d29bee81"
      },
      "execution_count": 9,
      "outputs": [
        {
          "output_type": "execute_result",
          "data": {
            "text/plain": [
              "   EDAD  NUMEROEMBARAZOS  HIJOSNACIDOSMUERTOS  ATENCIONPRENATAL  \\\n",
              "0    21                2                    0                 1   \n",
              "1    37                2                    0                 1   \n",
              "2    37                4                    0                 1   \n",
              "3    26                2                    0                 1   \n",
              "4    15                1                    0                 1   \n",
              "5    31                2                    0                 1   \n",
              "6    17                1                    0                 1   \n",
              "7    18                1                    0                 1   \n",
              "8    36                2                    0                 1   \n",
              "9    30                2                    0                 1   \n",
              "\n",
              "   TRIMESTREPRIMERCONSULTA  TOTALCONSULTAS  SOBREVIVIOPARTO  ESCOLARIDAD  \\\n",
              "0                        1            12.0                2           72   \n",
              "1                        1            14.0                1           81   \n",
              "2                        2             5.0                1           52   \n",
              "3                        2             5.0                1           32   \n",
              "4                        2             5.0                1           31   \n",
              "5                        1             4.0                1           71   \n",
              "6                        3             6.0                1           31   \n",
              "7                        2             6.0                1           51   \n",
              "8                        2             6.0                1           81   \n",
              "9                        1             9.0                1           71   \n",
              "\n",
              "  FECHANACIMIENTO  SEXO  EDADGESTACIONAL  TALLA  PESO  APGAR  SILVERMAN  \\\n",
              "0      05/01/2021     2               38     51  3100      9          1   \n",
              "1      04/01/2021     1               40     49  3300      9          1   \n",
              "2      26/01/2021     1               38     48  2920      8          0   \n",
              "3      05/02/2021     2               40     49  3175      8          0   \n",
              "4      02/02/2021     2               32     43  1520      8          0   \n",
              "5      11/03/2021     1               40     52  3050      9          0   \n",
              "6      05/03/2021     1               39     49  2875      9          0   \n",
              "7      09/03/2021     1               39     48  2990      9          0   \n",
              "8      21/02/2021     1               39     54  3805      8          0   \n",
              "9      22/02/2021     2               39     53  2805      8          0   \n",
              "\n",
              "   PRODUCTOEMBARAZO CODIGOCIEANOMALIA1 CODIGOCIEANOMALIA2  RESOLUCIONEMBARAZO  \\\n",
              "0                 1               0000               0000                   3   \n",
              "1                 1               0000               0000                   3   \n",
              "2                 1               0000               0000                   1   \n",
              "3                 1               0000               0000                   1   \n",
              "4                 1               P220               P220                   3   \n",
              "5                 1               0000               0000                   1   \n",
              "6                 1               0000               0000                   1   \n",
              "7                 1               0000               0000                   3   \n",
              "8                 1               0000               0000                   1   \n",
              "9                 1               0000               0000                   3   \n",
              "\n",
              "   ENTIDADFEDERATIVAPARTO  \n",
              "0                      15  \n",
              "1                      26  \n",
              "2                      23  \n",
              "3                      23  \n",
              "4                      23  \n",
              "5                      23  \n",
              "6                      23  \n",
              "7                      23  \n",
              "8                      23  \n",
              "9                      23  "
            ],
            "text/html": [
              "\n",
              "  <div id=\"df-800463a1-7416-4d53-abaa-c47ffc23101d\" class=\"colab-df-container\">\n",
              "    <div>\n",
              "<style scoped>\n",
              "    .dataframe tbody tr th:only-of-type {\n",
              "        vertical-align: middle;\n",
              "    }\n",
              "\n",
              "    .dataframe tbody tr th {\n",
              "        vertical-align: top;\n",
              "    }\n",
              "\n",
              "    .dataframe thead th {\n",
              "        text-align: right;\n",
              "    }\n",
              "</style>\n",
              "<table border=\"1\" class=\"dataframe\">\n",
              "  <thead>\n",
              "    <tr style=\"text-align: right;\">\n",
              "      <th></th>\n",
              "      <th>EDAD</th>\n",
              "      <th>NUMEROEMBARAZOS</th>\n",
              "      <th>HIJOSNACIDOSMUERTOS</th>\n",
              "      <th>ATENCIONPRENATAL</th>\n",
              "      <th>TRIMESTREPRIMERCONSULTA</th>\n",
              "      <th>TOTALCONSULTAS</th>\n",
              "      <th>SOBREVIVIOPARTO</th>\n",
              "      <th>ESCOLARIDAD</th>\n",
              "      <th>FECHANACIMIENTO</th>\n",
              "      <th>SEXO</th>\n",
              "      <th>EDADGESTACIONAL</th>\n",
              "      <th>TALLA</th>\n",
              "      <th>PESO</th>\n",
              "      <th>APGAR</th>\n",
              "      <th>SILVERMAN</th>\n",
              "      <th>PRODUCTOEMBARAZO</th>\n",
              "      <th>CODIGOCIEANOMALIA1</th>\n",
              "      <th>CODIGOCIEANOMALIA2</th>\n",
              "      <th>RESOLUCIONEMBARAZO</th>\n",
              "      <th>ENTIDADFEDERATIVAPARTO</th>\n",
              "    </tr>\n",
              "  </thead>\n",
              "  <tbody>\n",
              "    <tr>\n",
              "      <th>0</th>\n",
              "      <td>21</td>\n",
              "      <td>2</td>\n",
              "      <td>0</td>\n",
              "      <td>1</td>\n",
              "      <td>1</td>\n",
              "      <td>12.0</td>\n",
              "      <td>2</td>\n",
              "      <td>72</td>\n",
              "      <td>05/01/2021</td>\n",
              "      <td>2</td>\n",
              "      <td>38</td>\n",
              "      <td>51</td>\n",
              "      <td>3100</td>\n",
              "      <td>9</td>\n",
              "      <td>1</td>\n",
              "      <td>1</td>\n",
              "      <td>0000</td>\n",
              "      <td>0000</td>\n",
              "      <td>3</td>\n",
              "      <td>15</td>\n",
              "    </tr>\n",
              "    <tr>\n",
              "      <th>1</th>\n",
              "      <td>37</td>\n",
              "      <td>2</td>\n",
              "      <td>0</td>\n",
              "      <td>1</td>\n",
              "      <td>1</td>\n",
              "      <td>14.0</td>\n",
              "      <td>1</td>\n",
              "      <td>81</td>\n",
              "      <td>04/01/2021</td>\n",
              "      <td>1</td>\n",
              "      <td>40</td>\n",
              "      <td>49</td>\n",
              "      <td>3300</td>\n",
              "      <td>9</td>\n",
              "      <td>1</td>\n",
              "      <td>1</td>\n",
              "      <td>0000</td>\n",
              "      <td>0000</td>\n",
              "      <td>3</td>\n",
              "      <td>26</td>\n",
              "    </tr>\n",
              "    <tr>\n",
              "      <th>2</th>\n",
              "      <td>37</td>\n",
              "      <td>4</td>\n",
              "      <td>0</td>\n",
              "      <td>1</td>\n",
              "      <td>2</td>\n",
              "      <td>5.0</td>\n",
              "      <td>1</td>\n",
              "      <td>52</td>\n",
              "      <td>26/01/2021</td>\n",
              "      <td>1</td>\n",
              "      <td>38</td>\n",
              "      <td>48</td>\n",
              "      <td>2920</td>\n",
              "      <td>8</td>\n",
              "      <td>0</td>\n",
              "      <td>1</td>\n",
              "      <td>0000</td>\n",
              "      <td>0000</td>\n",
              "      <td>1</td>\n",
              "      <td>23</td>\n",
              "    </tr>\n",
              "    <tr>\n",
              "      <th>3</th>\n",
              "      <td>26</td>\n",
              "      <td>2</td>\n",
              "      <td>0</td>\n",
              "      <td>1</td>\n",
              "      <td>2</td>\n",
              "      <td>5.0</td>\n",
              "      <td>1</td>\n",
              "      <td>32</td>\n",
              "      <td>05/02/2021</td>\n",
              "      <td>2</td>\n",
              "      <td>40</td>\n",
              "      <td>49</td>\n",
              "      <td>3175</td>\n",
              "      <td>8</td>\n",
              "      <td>0</td>\n",
              "      <td>1</td>\n",
              "      <td>0000</td>\n",
              "      <td>0000</td>\n",
              "      <td>1</td>\n",
              "      <td>23</td>\n",
              "    </tr>\n",
              "    <tr>\n",
              "      <th>4</th>\n",
              "      <td>15</td>\n",
              "      <td>1</td>\n",
              "      <td>0</td>\n",
              "      <td>1</td>\n",
              "      <td>2</td>\n",
              "      <td>5.0</td>\n",
              "      <td>1</td>\n",
              "      <td>31</td>\n",
              "      <td>02/02/2021</td>\n",
              "      <td>2</td>\n",
              "      <td>32</td>\n",
              "      <td>43</td>\n",
              "      <td>1520</td>\n",
              "      <td>8</td>\n",
              "      <td>0</td>\n",
              "      <td>1</td>\n",
              "      <td>P220</td>\n",
              "      <td>P220</td>\n",
              "      <td>3</td>\n",
              "      <td>23</td>\n",
              "    </tr>\n",
              "    <tr>\n",
              "      <th>5</th>\n",
              "      <td>31</td>\n",
              "      <td>2</td>\n",
              "      <td>0</td>\n",
              "      <td>1</td>\n",
              "      <td>1</td>\n",
              "      <td>4.0</td>\n",
              "      <td>1</td>\n",
              "      <td>71</td>\n",
              "      <td>11/03/2021</td>\n",
              "      <td>1</td>\n",
              "      <td>40</td>\n",
              "      <td>52</td>\n",
              "      <td>3050</td>\n",
              "      <td>9</td>\n",
              "      <td>0</td>\n",
              "      <td>1</td>\n",
              "      <td>0000</td>\n",
              "      <td>0000</td>\n",
              "      <td>1</td>\n",
              "      <td>23</td>\n",
              "    </tr>\n",
              "    <tr>\n",
              "      <th>6</th>\n",
              "      <td>17</td>\n",
              "      <td>1</td>\n",
              "      <td>0</td>\n",
              "      <td>1</td>\n",
              "      <td>3</td>\n",
              "      <td>6.0</td>\n",
              "      <td>1</td>\n",
              "      <td>31</td>\n",
              "      <td>05/03/2021</td>\n",
              "      <td>1</td>\n",
              "      <td>39</td>\n",
              "      <td>49</td>\n",
              "      <td>2875</td>\n",
              "      <td>9</td>\n",
              "      <td>0</td>\n",
              "      <td>1</td>\n",
              "      <td>0000</td>\n",
              "      <td>0000</td>\n",
              "      <td>1</td>\n",
              "      <td>23</td>\n",
              "    </tr>\n",
              "    <tr>\n",
              "      <th>7</th>\n",
              "      <td>18</td>\n",
              "      <td>1</td>\n",
              "      <td>0</td>\n",
              "      <td>1</td>\n",
              "      <td>2</td>\n",
              "      <td>6.0</td>\n",
              "      <td>1</td>\n",
              "      <td>51</td>\n",
              "      <td>09/03/2021</td>\n",
              "      <td>1</td>\n",
              "      <td>39</td>\n",
              "      <td>48</td>\n",
              "      <td>2990</td>\n",
              "      <td>9</td>\n",
              "      <td>0</td>\n",
              "      <td>1</td>\n",
              "      <td>0000</td>\n",
              "      <td>0000</td>\n",
              "      <td>3</td>\n",
              "      <td>23</td>\n",
              "    </tr>\n",
              "    <tr>\n",
              "      <th>8</th>\n",
              "      <td>36</td>\n",
              "      <td>2</td>\n",
              "      <td>0</td>\n",
              "      <td>1</td>\n",
              "      <td>2</td>\n",
              "      <td>6.0</td>\n",
              "      <td>1</td>\n",
              "      <td>81</td>\n",
              "      <td>21/02/2021</td>\n",
              "      <td>1</td>\n",
              "      <td>39</td>\n",
              "      <td>54</td>\n",
              "      <td>3805</td>\n",
              "      <td>8</td>\n",
              "      <td>0</td>\n",
              "      <td>1</td>\n",
              "      <td>0000</td>\n",
              "      <td>0000</td>\n",
              "      <td>1</td>\n",
              "      <td>23</td>\n",
              "    </tr>\n",
              "    <tr>\n",
              "      <th>9</th>\n",
              "      <td>30</td>\n",
              "      <td>2</td>\n",
              "      <td>0</td>\n",
              "      <td>1</td>\n",
              "      <td>1</td>\n",
              "      <td>9.0</td>\n",
              "      <td>1</td>\n",
              "      <td>71</td>\n",
              "      <td>22/02/2021</td>\n",
              "      <td>2</td>\n",
              "      <td>39</td>\n",
              "      <td>53</td>\n",
              "      <td>2805</td>\n",
              "      <td>8</td>\n",
              "      <td>0</td>\n",
              "      <td>1</td>\n",
              "      <td>0000</td>\n",
              "      <td>0000</td>\n",
              "      <td>3</td>\n",
              "      <td>23</td>\n",
              "    </tr>\n",
              "  </tbody>\n",
              "</table>\n",
              "</div>\n",
              "    <div class=\"colab-df-buttons\">\n",
              "\n",
              "  <div class=\"colab-df-container\">\n",
              "    <button class=\"colab-df-convert\" onclick=\"convertToInteractive('df-800463a1-7416-4d53-abaa-c47ffc23101d')\"\n",
              "            title=\"Convert this dataframe to an interactive table.\"\n",
              "            style=\"display:none;\">\n",
              "\n",
              "  <svg xmlns=\"http://www.w3.org/2000/svg\" height=\"24px\" viewBox=\"0 -960 960 960\">\n",
              "    <path d=\"M120-120v-720h720v720H120Zm60-500h600v-160H180v160Zm220 220h160v-160H400v160Zm0 220h160v-160H400v160ZM180-400h160v-160H180v160Zm440 0h160v-160H620v160ZM180-180h160v-160H180v160Zm440 0h160v-160H620v160Z\"/>\n",
              "  </svg>\n",
              "    </button>\n",
              "\n",
              "  <style>\n",
              "    .colab-df-container {\n",
              "      display:flex;\n",
              "      gap: 12px;\n",
              "    }\n",
              "\n",
              "    .colab-df-convert {\n",
              "      background-color: #E8F0FE;\n",
              "      border: none;\n",
              "      border-radius: 50%;\n",
              "      cursor: pointer;\n",
              "      display: none;\n",
              "      fill: #1967D2;\n",
              "      height: 32px;\n",
              "      padding: 0 0 0 0;\n",
              "      width: 32px;\n",
              "    }\n",
              "\n",
              "    .colab-df-convert:hover {\n",
              "      background-color: #E2EBFA;\n",
              "      box-shadow: 0px 1px 2px rgba(60, 64, 67, 0.3), 0px 1px 3px 1px rgba(60, 64, 67, 0.15);\n",
              "      fill: #174EA6;\n",
              "    }\n",
              "\n",
              "    .colab-df-buttons div {\n",
              "      margin-bottom: 4px;\n",
              "    }\n",
              "\n",
              "    [theme=dark] .colab-df-convert {\n",
              "      background-color: #3B4455;\n",
              "      fill: #D2E3FC;\n",
              "    }\n",
              "\n",
              "    [theme=dark] .colab-df-convert:hover {\n",
              "      background-color: #434B5C;\n",
              "      box-shadow: 0px 1px 3px 1px rgba(0, 0, 0, 0.15);\n",
              "      filter: drop-shadow(0px 1px 2px rgba(0, 0, 0, 0.3));\n",
              "      fill: #FFFFFF;\n",
              "    }\n",
              "  </style>\n",
              "\n",
              "    <script>\n",
              "      const buttonEl =\n",
              "        document.querySelector('#df-800463a1-7416-4d53-abaa-c47ffc23101d button.colab-df-convert');\n",
              "      buttonEl.style.display =\n",
              "        google.colab.kernel.accessAllowed ? 'block' : 'none';\n",
              "\n",
              "      async function convertToInteractive(key) {\n",
              "        const element = document.querySelector('#df-800463a1-7416-4d53-abaa-c47ffc23101d');\n",
              "        const dataTable =\n",
              "          await google.colab.kernel.invokeFunction('convertToInteractive',\n",
              "                                                    [key], {});\n",
              "        if (!dataTable) return;\n",
              "\n",
              "        const docLinkHtml = 'Like what you see? Visit the ' +\n",
              "          '<a target=\"_blank\" href=https://colab.research.google.com/notebooks/data_table.ipynb>data table notebook</a>'\n",
              "          + ' to learn more about interactive tables.';\n",
              "        element.innerHTML = '';\n",
              "        dataTable['output_type'] = 'display_data';\n",
              "        await google.colab.output.renderOutput(dataTable, element);\n",
              "        const docLink = document.createElement('div');\n",
              "        docLink.innerHTML = docLinkHtml;\n",
              "        element.appendChild(docLink);\n",
              "      }\n",
              "    </script>\n",
              "  </div>\n",
              "\n",
              "\n",
              "<div id=\"df-ba39c10e-8e7c-4772-b26c-252970750f21\">\n",
              "  <button class=\"colab-df-quickchart\" onclick=\"quickchart('df-ba39c10e-8e7c-4772-b26c-252970750f21')\"\n",
              "            title=\"Suggest charts\"\n",
              "            style=\"display:none;\">\n",
              "\n",
              "<svg xmlns=\"http://www.w3.org/2000/svg\" height=\"24px\"viewBox=\"0 0 24 24\"\n",
              "     width=\"24px\">\n",
              "    <g>\n",
              "        <path d=\"M19 3H5c-1.1 0-2 .9-2 2v14c0 1.1.9 2 2 2h14c1.1 0 2-.9 2-2V5c0-1.1-.9-2-2-2zM9 17H7v-7h2v7zm4 0h-2V7h2v10zm4 0h-2v-4h2v4z\"/>\n",
              "    </g>\n",
              "</svg>\n",
              "  </button>\n",
              "\n",
              "<style>\n",
              "  .colab-df-quickchart {\n",
              "      --bg-color: #E8F0FE;\n",
              "      --fill-color: #1967D2;\n",
              "      --hover-bg-color: #E2EBFA;\n",
              "      --hover-fill-color: #174EA6;\n",
              "      --disabled-fill-color: #AAA;\n",
              "      --disabled-bg-color: #DDD;\n",
              "  }\n",
              "\n",
              "  [theme=dark] .colab-df-quickchart {\n",
              "      --bg-color: #3B4455;\n",
              "      --fill-color: #D2E3FC;\n",
              "      --hover-bg-color: #434B5C;\n",
              "      --hover-fill-color: #FFFFFF;\n",
              "      --disabled-bg-color: #3B4455;\n",
              "      --disabled-fill-color: #666;\n",
              "  }\n",
              "\n",
              "  .colab-df-quickchart {\n",
              "    background-color: var(--bg-color);\n",
              "    border: none;\n",
              "    border-radius: 50%;\n",
              "    cursor: pointer;\n",
              "    display: none;\n",
              "    fill: var(--fill-color);\n",
              "    height: 32px;\n",
              "    padding: 0;\n",
              "    width: 32px;\n",
              "  }\n",
              "\n",
              "  .colab-df-quickchart:hover {\n",
              "    background-color: var(--hover-bg-color);\n",
              "    box-shadow: 0 1px 2px rgba(60, 64, 67, 0.3), 0 1px 3px 1px rgba(60, 64, 67, 0.15);\n",
              "    fill: var(--button-hover-fill-color);\n",
              "  }\n",
              "\n",
              "  .colab-df-quickchart-complete:disabled,\n",
              "  .colab-df-quickchart-complete:disabled:hover {\n",
              "    background-color: var(--disabled-bg-color);\n",
              "    fill: var(--disabled-fill-color);\n",
              "    box-shadow: none;\n",
              "  }\n",
              "\n",
              "  .colab-df-spinner {\n",
              "    border: 2px solid var(--fill-color);\n",
              "    border-color: transparent;\n",
              "    border-bottom-color: var(--fill-color);\n",
              "    animation:\n",
              "      spin 1s steps(1) infinite;\n",
              "  }\n",
              "\n",
              "  @keyframes spin {\n",
              "    0% {\n",
              "      border-color: transparent;\n",
              "      border-bottom-color: var(--fill-color);\n",
              "      border-left-color: var(--fill-color);\n",
              "    }\n",
              "    20% {\n",
              "      border-color: transparent;\n",
              "      border-left-color: var(--fill-color);\n",
              "      border-top-color: var(--fill-color);\n",
              "    }\n",
              "    30% {\n",
              "      border-color: transparent;\n",
              "      border-left-color: var(--fill-color);\n",
              "      border-top-color: var(--fill-color);\n",
              "      border-right-color: var(--fill-color);\n",
              "    }\n",
              "    40% {\n",
              "      border-color: transparent;\n",
              "      border-right-color: var(--fill-color);\n",
              "      border-top-color: var(--fill-color);\n",
              "    }\n",
              "    60% {\n",
              "      border-color: transparent;\n",
              "      border-right-color: var(--fill-color);\n",
              "    }\n",
              "    80% {\n",
              "      border-color: transparent;\n",
              "      border-right-color: var(--fill-color);\n",
              "      border-bottom-color: var(--fill-color);\n",
              "    }\n",
              "    90% {\n",
              "      border-color: transparent;\n",
              "      border-bottom-color: var(--fill-color);\n",
              "    }\n",
              "  }\n",
              "</style>\n",
              "\n",
              "  <script>\n",
              "    async function quickchart(key) {\n",
              "      const quickchartButtonEl =\n",
              "        document.querySelector('#' + key + ' button');\n",
              "      quickchartButtonEl.disabled = true;  // To prevent multiple clicks.\n",
              "      quickchartButtonEl.classList.add('colab-df-spinner');\n",
              "      try {\n",
              "        const charts = await google.colab.kernel.invokeFunction(\n",
              "            'suggestCharts', [key], {});\n",
              "      } catch (error) {\n",
              "        console.error('Error during call to suggestCharts:', error);\n",
              "      }\n",
              "      quickchartButtonEl.classList.remove('colab-df-spinner');\n",
              "      quickchartButtonEl.classList.add('colab-df-quickchart-complete');\n",
              "    }\n",
              "    (() => {\n",
              "      let quickchartButtonEl =\n",
              "        document.querySelector('#df-ba39c10e-8e7c-4772-b26c-252970750f21 button');\n",
              "      quickchartButtonEl.style.display =\n",
              "        google.colab.kernel.accessAllowed ? 'block' : 'none';\n",
              "    })();\n",
              "  </script>\n",
              "</div>\n",
              "\n",
              "    </div>\n",
              "  </div>\n"
            ]
          },
          "metadata": {},
          "execution_count": 9
        }
      ]
    },
    {
      "cell_type": "markdown",
      "source": [
        "# Variable: presencia o ausencia de Malformaciones Craneofaciales MCF\n",
        "- Con MCF (1)\n",
        "- Sin (0)"
      ],
      "metadata": {
        "id": "jnyDxJU-HB3V"
      }
    },
    {
      "cell_type": "code",
      "source": [
        "def update_codes(base_array):\n",
        "  new_codes = []\n",
        "  for value in base_array:\n",
        "    for i in range(0, 10):\n",
        "      new_codes.append(value[:-1] + str(i))\n",
        "\n",
        "  return new_codes"
      ],
      "metadata": {
        "id": "jfaUIa3LdC22"
      },
      "execution_count": 10,
      "outputs": []
    },
    {
      "cell_type": "code",
      "source": [
        "codigos_mc = update_codes(['Q100', 'Q110', 'Q120', 'Q130', 'Q140', 'Q150', 'Q160', 'Q170', 'Q180', 'Q300', 'Q350', 'Q360', 'Q370', 'Q380'])\n",
        "anomalias_mc = df['CODIGOCIEANOMALIA1'].isin(codigos_mc) | df['CODIGOCIEANOMALIA2'].isin(codigos_mc)\n",
        "\n",
        "key = \"MCC-General\"\n",
        "\n",
        "df[key] = None\n",
        "df[key] = np.where(df.CODIGOCIEANOMALIA1.isin(codigos_mc) | df.CODIGOCIEANOMALIA2.isin(codigos_mc), 1, 0)\n",
        "df[key].mask((~df.CODIGOCIEANOMALIA1.isin(codigos_mc)) & (df.CODIGOCIEANOMALIA2 == '9999'), None, inplace=True)\n",
        "df[key].mask((~df.CODIGOCIEANOMALIA2.isin(codigos_mc)) & (df.CODIGOCIEANOMALIA1 == '9999'), None, inplace=True)\n",
        "df[key].value_counts()\n"
      ],
      "metadata": {
        "id": "3-Bgh1tMG7g5",
        "colab": {
          "base_uri": "https://localhost:8080/"
        },
        "outputId": "d677e1ab-897a-4319-f1a8-acccb79a2803"
      },
      "execution_count": 11,
      "outputs": [
        {
          "output_type": "execute_result",
          "data": {
            "text/plain": [
              "0.0    1633486\n",
              "1.0       3630\n",
              "Name: MCC-General, dtype: int64"
            ]
          },
          "metadata": {},
          "execution_count": 11
        }
      ]
    },
    {
      "cell_type": "markdown",
      "source": [
        "## Variable categórica clasificación de MCF\n",
        "- Oftalmológicas Q100 Q110 Q120 Q130 Q140 Q150\n",
        "- Oído Q160 Q170\n",
        "- Cara y cuello Q180\n",
        "- Nariz Q300\n",
        "- Lengua y boca Q380 Q350 Q360 Q370\n",
        "\n",
        "Aqui se usan numeros primos para hacer la limpieza de datos"
      ],
      "metadata": {
        "id": "fdKajUS_PLSR"
      }
    },
    {
      "cell_type": "code",
      "source": [
        "codigos_oftalmo = update_codes(['Q100', 'Q110', 'Q120', 'Q130', 'Q140', 'Q150'])\n",
        "codigos_oido = update_codes(['Q160', 'Q170'])\n",
        "codigos_cara_cuello = update_codes(['Q180'])\n",
        "codigos_nariz = update_codes(['Q300'])\n",
        "codigos_lengua_boca = update_codes(['Q380', 'Q350', 'Q360', 'Q370'])\n",
        "\n",
        "mc_value = {\n",
        "    'oftalmo': 1,\n",
        "    'oido': 10,\n",
        "    'cuello': 100,\n",
        "    'nariz': 1000,\n",
        "    'boca': 10000\n",
        "}\n",
        "mc_values = [1, 10, 100, 1000, 10000]"
      ],
      "metadata": {
        "id": "hr-L0LV6lEyE"
      },
      "execution_count": 12,
      "outputs": []
    },
    {
      "cell_type": "markdown",
      "source": [
        "### Oftalmo"
      ],
      "metadata": {
        "id": "UdU5V2YHWyAi"
      }
    },
    {
      "cell_type": "code",
      "source": [
        "# Valores par oftalmo\n",
        "value = mc_value['oftalmo']\n",
        "key = \"MC-1\"\n",
        "df[key] = 0\n",
        "df[key].mask(df['CODIGOCIEANOMALIA1'].isin(codigos_oftalmo), value, inplace=True)\n",
        "\n",
        "key = \"MC-2\"\n",
        "df[key] = 0\n",
        "df[key].mask(df['CODIGOCIEANOMALIA2'].isin(codigos_oftalmo), value, inplace=True)"
      ],
      "metadata": {
        "id": "1pxSnouFUNdJ"
      },
      "execution_count": 13,
      "outputs": []
    },
    {
      "cell_type": "markdown",
      "source": [
        "### Oido"
      ],
      "metadata": {
        "id": "cppXwAELWubb"
      }
    },
    {
      "cell_type": "code",
      "source": [
        "# Valores par oido\n",
        "value = mc_value['oido']\n",
        "key = \"MC-1\"\n",
        "df[key].mask(df['CODIGOCIEANOMALIA1'].isin(codigos_oido), value, inplace=True)\n",
        "\n",
        "key = \"MC-2\"\n",
        "df[key].mask(df['CODIGOCIEANOMALIA2'].isin(codigos_oido), value, inplace=True)"
      ],
      "metadata": {
        "id": "_c3yZUNBVNz3"
      },
      "execution_count": 14,
      "outputs": []
    },
    {
      "cell_type": "markdown",
      "source": [
        "### Cara y cuello"
      ],
      "metadata": {
        "id": "gOG7RJdwWsem"
      }
    },
    {
      "cell_type": "code",
      "source": [
        "# Valores par cara y cuello\n",
        "value = mc_value['cuello']\n",
        "key = \"MC-1\"\n",
        "df[key].mask(df['CODIGOCIEANOMALIA1'].isin(codigos_cara_cuello), value, inplace=True)\n",
        "\n",
        "key = \"MC-2\"\n",
        "df[key].mask(df['CODIGOCIEANOMALIA2'].isin(codigos_cara_cuello), value, inplace=True)"
      ],
      "metadata": {
        "id": "BFe6jMnGVAH0"
      },
      "execution_count": 15,
      "outputs": []
    },
    {
      "cell_type": "markdown",
      "source": [
        "### Nariz"
      ],
      "metadata": {
        "id": "hbOYlTnrWqN9"
      }
    },
    {
      "cell_type": "code",
      "source": [
        "# Valores para nariz\n",
        "value = mc_value['nariz']\n",
        "key = \"MC-1\"\n",
        "df[key].mask(df['CODIGOCIEANOMALIA1'].isin(codigos_nariz), value, inplace=True)\n",
        "\n",
        "key = \"MC-2\"\n",
        "df[key].mask(df['CODIGOCIEANOMALIA2'].isin(codigos_nariz), value, inplace=True)"
      ],
      "metadata": {
        "id": "TcRNIecvWA9v"
      },
      "execution_count": 16,
      "outputs": []
    },
    {
      "cell_type": "markdown",
      "source": [
        "### Lengua y boca"
      ],
      "metadata": {
        "id": "S1rKT96eWm65"
      }
    },
    {
      "cell_type": "code",
      "source": [
        "# Valores para lengua y boca\n",
        "value = mc_value['boca']\n",
        "key = \"MC-1\"\n",
        "df[key].mask(df['CODIGOCIEANOMALIA1'].isin(codigos_lengua_boca), value, inplace=True)\n",
        "\n",
        "key = \"MC-2\"\n",
        "df[key].mask(df['CODIGOCIEANOMALIA2'].isin(codigos_lengua_boca), value, inplace=True)"
      ],
      "metadata": {
        "id": "KfVgmeO9WfOd"
      },
      "execution_count": 17,
      "outputs": []
    },
    {
      "cell_type": "code",
      "source": [
        "key = \"MC-1\"\n",
        "df[key].value_counts()"
      ],
      "metadata": {
        "colab": {
          "base_uri": "https://localhost:8080/"
        },
        "id": "-u8uwf7plw0c",
        "outputId": "f4a9cd6d-a873-4fe6-a2ce-e190a8aee410"
      },
      "execution_count": 18,
      "outputs": [
        {
          "output_type": "execute_result",
          "data": {
            "text/plain": [
              "0        1636134\n",
              "10          1614\n",
              "10000       1422\n",
              "100          134\n",
              "1             93\n",
              "1000          82\n",
              "Name: MC-1, dtype: int64"
            ]
          },
          "metadata": {},
          "execution_count": 18
        }
      ]
    },
    {
      "cell_type": "code",
      "source": [
        "# Con MCF\n",
        "df[df[\"MCC-General\"] == 1][key].value_counts()"
      ],
      "metadata": {
        "id": "IsbJydVAmh2S",
        "colab": {
          "base_uri": "https://localhost:8080/"
        },
        "outputId": "06a9efca-fdb2-4086-c4c5-923262f4b1c6"
      },
      "execution_count": 19,
      "outputs": [
        {
          "output_type": "execute_result",
          "data": {
            "text/plain": [
              "10       1614\n",
              "10000    1422\n",
              "0         285\n",
              "100       134\n",
              "1          93\n",
              "1000       82\n",
              "Name: MC-1, dtype: int64"
            ]
          },
          "metadata": {},
          "execution_count": 19
        }
      ]
    },
    {
      "cell_type": "code",
      "source": [
        "key = \"MC-2\"\n",
        "df[key].value_counts()"
      ],
      "metadata": {
        "colab": {
          "base_uri": "https://localhost:8080/"
        },
        "id": "nodXO0lglzc0",
        "outputId": "33997ba0-79bc-4a9e-9d02-3555afa9d45f"
      },
      "execution_count": 20,
      "outputs": [
        {
          "output_type": "execute_result",
          "data": {
            "text/plain": [
              "0        1638529\n",
              "10000        414\n",
              "10           399\n",
              "100           52\n",
              "1000          44\n",
              "1             41\n",
              "Name: MC-2, dtype: int64"
            ]
          },
          "metadata": {},
          "execution_count": 20
        }
      ]
    },
    {
      "cell_type": "code",
      "source": [
        "# Con MCF\n",
        "df[df[\"MCC-General\"] == 1][key].value_counts()"
      ],
      "metadata": {
        "id": "S0ltzxEqmixG",
        "colab": {
          "base_uri": "https://localhost:8080/"
        },
        "outputId": "6dca2354-3190-4cf6-9506-95fc40ce452d"
      },
      "execution_count": 21,
      "outputs": [
        {
          "output_type": "execute_result",
          "data": {
            "text/plain": [
              "0        2680\n",
              "10000     414\n",
              "10        399\n",
              "100        52\n",
              "1000       44\n",
              "1          41\n",
              "Name: MC-2, dtype: int64"
            ]
          },
          "metadata": {},
          "execution_count": 21
        }
      ]
    },
    {
      "cell_type": "code",
      "source": [
        "key = 'MC-G'\n",
        "df[key] = None\n",
        "df[key] = df[['MC-1', 'MC-2']].sum(axis=1)\n",
        "df[key].value_counts()"
      ],
      "metadata": {
        "colab": {
          "base_uri": "https://localhost:8080/"
        },
        "id": "Ia63pE14mXVU",
        "outputId": "b0b661fc-ad74-48d5-e6a6-a37b75f40860"
      },
      "execution_count": 22,
      "outputs": [
        {
          "output_type": "execute_result",
          "data": {
            "text/plain": [
              "0        1635849\n",
              "10          1448\n",
              "10000       1211\n",
              "20000        292\n",
              "20           250\n",
              "100          131\n",
              "1             88\n",
              "1000          87\n",
              "10010         28\n",
              "110           20\n",
              "200           16\n",
              "2             15\n",
              "1010          12\n",
              "2000           9\n",
              "10001          7\n",
              "11             5\n",
              "11000          4\n",
              "1001           4\n",
              "10100          2\n",
              "1100           1\n",
              "Name: MC-G, dtype: int64"
            ]
          },
          "metadata": {},
          "execution_count": 22
        }
      ]
    },
    {
      "cell_type": "code",
      "source": [
        "# Con MCF\n",
        "df[df[\"MCC-General\"] == 1][key].value_counts()"
      ],
      "metadata": {
        "id": "T-sjvL8Fmjjq",
        "colab": {
          "base_uri": "https://localhost:8080/"
        },
        "outputId": "2f470218-5e50-4665-9040-744b63d645fb"
      },
      "execution_count": 23,
      "outputs": [
        {
          "output_type": "execute_result",
          "data": {
            "text/plain": [
              "10       1448\n",
              "10000    1211\n",
              "20000     292\n",
              "20        250\n",
              "100       131\n",
              "1          88\n",
              "1000       87\n",
              "10010      28\n",
              "110        20\n",
              "200        16\n",
              "2          15\n",
              "1010       12\n",
              "2000        9\n",
              "10001       7\n",
              "11          5\n",
              "11000       4\n",
              "1001        4\n",
              "10100       2\n",
              "1100        1\n",
              "Name: MC-G, dtype: int64"
            ]
          },
          "metadata": {},
          "execution_count": 23
        }
      ]
    },
    {
      "cell_type": "markdown",
      "source": [
        "## Variable categórica clasificación de MCF\n",
        "- Oftalmológicas (1)\n",
        "- Oído (2)\n",
        "- Cara y cuello (3)\n",
        "- Nariz (4)\n",
        "- Lengua y boca (5)"
      ],
      "metadata": {
        "id": "EjjCHZ66U_5s"
      }
    },
    {
      "cell_type": "code",
      "source": [
        "key=\"MC-G2\"\n",
        "etiqueta = 'MC-G'\n",
        "\n",
        "df[key] = None\n",
        "df[key].mask(df[etiqueta] == mc_value['oftalmo'], 1, inplace=True)\n",
        "df[key].mask(df[etiqueta] == mc_value['oido'], 2, inplace=True)\n",
        "df[key].mask(df[etiqueta] == mc_value['cuello'], 3, inplace=True)\n",
        "df[key].mask(df[etiqueta] == mc_value['nariz'], 4, inplace=True)\n",
        "df[key].mask(df[etiqueta] == mc_value['boca'], 5, inplace=True)\n",
        "df[key].mask(~df[etiqueta].isin(mc_values), 6, inplace=True)\n",
        "df[key].mask(df[etiqueta] == 0, None, inplace=True)\n",
        "\n",
        "\n",
        "df[key].value_counts()"
      ],
      "metadata": {
        "colab": {
          "base_uri": "https://localhost:8080/"
        },
        "id": "UD54YrCA478W",
        "outputId": "cabd8fc2-c3db-4edf-f66d-d0a6ef730ca3"
      },
      "execution_count": 24,
      "outputs": [
        {
          "output_type": "execute_result",
          "data": {
            "text/plain": [
              "2    1448\n",
              "5    1211\n",
              "6     665\n",
              "3     131\n",
              "1      88\n",
              "4      87\n",
              "Name: MC-G2, dtype: int64"
            ]
          },
          "metadata": {},
          "execution_count": 24
        }
      ]
    },
    {
      "cell_type": "code",
      "source": [
        "# Con MCF\n",
        "df[df[\"MCC-General\"] == 1][key].value_counts()"
      ],
      "metadata": {
        "id": "1R2fqZHkmlLf",
        "colab": {
          "base_uri": "https://localhost:8080/"
        },
        "outputId": "40a7de99-1620-4d0d-ddcf-e1db68cea8d4"
      },
      "execution_count": 25,
      "outputs": [
        {
          "output_type": "execute_result",
          "data": {
            "text/plain": [
              "2    1448\n",
              "5    1211\n",
              "6     665\n",
              "3     131\n",
              "1      88\n",
              "4      87\n",
              "Name: MC-G2, dtype: int64"
            ]
          },
          "metadata": {},
          "execution_count": 25
        }
      ]
    },
    {
      "cell_type": "markdown",
      "source": [
        "# Dos malformaciones\n",
        "- No tenga una segunda malformacion, solo la primera sea MC (0)\n",
        "- Las dos malformaciones sean cranofaciales  (1)\n",
        "- Que una sea segunda malformacion y otra de otro tipo (2)\n",
        "- MCF y no se espeficifa (3)"
      ],
      "metadata": {
        "id": "7WCfUJUb3uJj"
      }
    },
    {
      "cell_type": "code",
      "source": [
        "key=\"S-MG\"\n",
        "df[key] = None\n",
        "# estos solo checan los que si o si, tienen solo una malformacion\n",
        "mcf_primera = (df.CODIGOCIEANOMALIA1.isin(codigos_mc) & (df.CODIGOCIEANOMALIA2 == '0000'))\n",
        "mcf_segunda = (df.CODIGOCIEANOMALIA2.isin(codigos_mc) & (df.CODIGOCIEANOMALIA1 == '0000'))\n",
        "\n",
        "# tenga dos mcf\n",
        "mcf_primera_y_segunda = (df.CODIGOCIEANOMALIA1.isin(codigos_mc) & df.CODIGOCIEANOMALIA2.isin(codigos_mc))\n",
        "\n",
        "# que tenga una mcf y otra mc != a mcf\n",
        "mcf_primera_mc_segunda = ((df.CODIGOCIEANOMALIA1.isin(codigos_mc))  & (df.CODIGOCIEANOMALIA2 != '0000') & (~df.CODIGOCIEANOMALIA2.isin(codigos_mc)) & (df.CODIGOCIEANOMALIA2 != '9999'))\n",
        "mc_primera_mcf_segunda = ((df.CODIGOCIEANOMALIA2.isin(codigos_mc))  & (df.CODIGOCIEANOMALIA1 != '0000') & (~df.CODIGOCIEANOMALIA1.isin(codigos_mc)) & (df.CODIGOCIEANOMALIA1 != '9999'))\n",
        "\n",
        "# que tenga una mcf y la otra idk\n",
        "mcf_primera_idk_segunda = ((df.CODIGOCIEANOMALIA1.isin(codigos_mc)) & (df.CODIGOCIEANOMALIA2 == '9999'))\n",
        "idk_primera_mcf_segunda = ((df.CODIGOCIEANOMALIA2.isin(codigos_mc)) & (df.CODIGOCIEANOMALIA1 == '9999'))\n",
        "\n",
        "df[key].mask(mcf_primera | mcf_segunda, 0, inplace=True)\n",
        "df[key].mask(mcf_primera_y_segunda, 1, inplace=True)\n",
        "df[key].mask(mcf_primera_mc_segunda | mc_primera_mcf_segunda, 2, inplace=True)\n",
        "df[key].mask(mcf_primera_idk_segunda | idk_primera_mcf_segunda, 3, inplace=True)\n",
        "df[key].value_counts()"
      ],
      "metadata": {
        "colab": {
          "base_uri": "https://localhost:8080/"
        },
        "id": "V-Qeu0BY3tkE",
        "outputId": "42afe26c-d084-43b7-9fec-ec63639ccdb0"
      },
      "execution_count": 26,
      "outputs": [
        {
          "output_type": "execute_result",
          "data": {
            "text/plain": [
              "0    2340\n",
              "1     665\n",
              "2     617\n",
              "3       8\n",
              "Name: S-MG, dtype: int64"
            ]
          },
          "metadata": {},
          "execution_count": 26
        }
      ]
    },
    {
      "cell_type": "code",
      "source": [
        "# Con MCF\n",
        "df[df[\"MCC-General\"] == 1][key].value_counts()"
      ],
      "metadata": {
        "id": "lg4PzluLmm8F",
        "colab": {
          "base_uri": "https://localhost:8080/"
        },
        "outputId": "e7365b70-6023-461f-84ee-1e4afdb03952"
      },
      "execution_count": 27,
      "outputs": [
        {
          "output_type": "execute_result",
          "data": {
            "text/plain": [
              "0    2340\n",
              "1     665\n",
              "2     617\n",
              "3       8\n",
              "Name: S-MG, dtype: int64"
            ]
          },
          "metadata": {},
          "execution_count": 27
        }
      ]
    },
    {
      "cell_type": "code",
      "source": [
        "df[(df.CODIGOCIEANOMALIA1.isin(codigos_mc) & (df.CODIGOCIEANOMALIA2 != '0000') & (df.CODIGOCIEANOMALIA2 != '9999')) | (df.CODIGOCIEANOMALIA2.isin(codigos_mc) & (df.CODIGOCIEANOMALIA1 != '0000') & (df.CODIGOCIEANOMALIA1 != '9999'))]"
      ],
      "metadata": {
        "colab": {
          "base_uri": "https://localhost:8080/",
          "height": 461
        },
        "id": "wldFGwyBAMuU",
        "outputId": "2f513252-9c65-457b-ec7e-a75cc082df86"
      },
      "execution_count": 28,
      "outputs": [
        {
          "output_type": "execute_result",
          "data": {
            "text/plain": [
              "         EDAD  NUMEROEMBARAZOS  HIJOSNACIDOSMUERTOS  ATENCIONPRENATAL  \\\n",
              "981        19                2                    0                 2   \n",
              "1127       33                3                    0                 1   \n",
              "1724       19                1                    0                 1   \n",
              "2148       19                1                    0                 1   \n",
              "5125       29                4                    0                 1   \n",
              "...       ...              ...                  ...               ...   \n",
              "1638126    17                1                    0                 1   \n",
              "1638389    19                3                    1                 1   \n",
              "1638459    29                4                    1                 1   \n",
              "1638770    35                4                    0                 1   \n",
              "1639418    18                1                    0                 1   \n",
              "\n",
              "         TRIMESTREPRIMERCONSULTA  TOTALCONSULTAS  SOBREVIVIOPARTO  \\\n",
              "981                            0             0.0                1   \n",
              "1127                           1             7.0                1   \n",
              "1724                           1             7.0                1   \n",
              "2148                           1             5.0                1   \n",
              "5125                           1            12.0                1   \n",
              "...                          ...             ...              ...   \n",
              "1638126                        1             7.0                1   \n",
              "1638389                        1             9.0                1   \n",
              "1638459                        1             9.0                1   \n",
              "1638770                        1             5.0                1   \n",
              "1639418                        1             7.0                1   \n",
              "\n",
              "         ESCOLARIDAD FECHANACIMIENTO  SEXO  ...  CODIGOCIEANOMALIA1  \\\n",
              "981               31      17/05/2021     2  ...                Q170   \n",
              "1127              72      26/05/2021     1  ...                Q249   \n",
              "1724              82      09/09/2021     1  ...                Q300   \n",
              "2148              51      10/10/2021     2  ...                Q300   \n",
              "5125              31      25/01/2021     2  ...                Q173   \n",
              "...              ...             ...   ...  ...                 ...   \n",
              "1638126           51      09/06/2021     1  ...                Q369   \n",
              "1638389           32      16/10/2021     1  ...                Q359   \n",
              "1638459           32      25/05/2021     1  ...                Q169   \n",
              "1638770           51      04/03/2021     2  ...                Q909   \n",
              "1639418           51      21/12/2021     2  ...                Q000   \n",
              "\n",
              "         CODIGOCIEANOMALIA2  RESOLUCIONEMBARAZO  ENTIDADFEDERATIVAPARTO  \\\n",
              "981                    Q170                   1                       9   \n",
              "1127                   Q371                   1                       9   \n",
              "1724                   Q300                   3                       9   \n",
              "2148                   Q300                   1                       9   \n",
              "5125                   Q161                   1                      32   \n",
              "...                     ...                 ...                     ...   \n",
              "1638126                Q359                   1                      22   \n",
              "1638389                Q359                   1                      11   \n",
              "1638459                Q681                   3                       9   \n",
              "1638770                Q138                   3                      15   \n",
              "1639418                Q379                   1                      24   \n",
              "\n",
              "         MCC-General   MC-1   MC-2   MC-G  MC-G2  S-MG  \n",
              "981              1.0     10     10     20      6     1  \n",
              "1127             1.0      0  10000  10000      5     2  \n",
              "1724             1.0   1000   1000   2000      6     1  \n",
              "2148             1.0   1000   1000   2000      6     1  \n",
              "5125             1.0     10     10     20      6     1  \n",
              "...              ...    ...    ...    ...    ...   ...  \n",
              "1638126          1.0  10000  10000  20000      6     1  \n",
              "1638389          1.0  10000  10000  20000      6     1  \n",
              "1638459          1.0     10      0     10      2     2  \n",
              "1638770          1.0      0      1      1      1     2  \n",
              "1639418          1.0      0  10000  10000      5     2  \n",
              "\n",
              "[1282 rows x 26 columns]"
            ],
            "text/html": [
              "\n",
              "  <div id=\"df-a3e71608-77e8-4773-945f-f9c905d853bf\" class=\"colab-df-container\">\n",
              "    <div>\n",
              "<style scoped>\n",
              "    .dataframe tbody tr th:only-of-type {\n",
              "        vertical-align: middle;\n",
              "    }\n",
              "\n",
              "    .dataframe tbody tr th {\n",
              "        vertical-align: top;\n",
              "    }\n",
              "\n",
              "    .dataframe thead th {\n",
              "        text-align: right;\n",
              "    }\n",
              "</style>\n",
              "<table border=\"1\" class=\"dataframe\">\n",
              "  <thead>\n",
              "    <tr style=\"text-align: right;\">\n",
              "      <th></th>\n",
              "      <th>EDAD</th>\n",
              "      <th>NUMEROEMBARAZOS</th>\n",
              "      <th>HIJOSNACIDOSMUERTOS</th>\n",
              "      <th>ATENCIONPRENATAL</th>\n",
              "      <th>TRIMESTREPRIMERCONSULTA</th>\n",
              "      <th>TOTALCONSULTAS</th>\n",
              "      <th>SOBREVIVIOPARTO</th>\n",
              "      <th>ESCOLARIDAD</th>\n",
              "      <th>FECHANACIMIENTO</th>\n",
              "      <th>SEXO</th>\n",
              "      <th>...</th>\n",
              "      <th>CODIGOCIEANOMALIA1</th>\n",
              "      <th>CODIGOCIEANOMALIA2</th>\n",
              "      <th>RESOLUCIONEMBARAZO</th>\n",
              "      <th>ENTIDADFEDERATIVAPARTO</th>\n",
              "      <th>MCC-General</th>\n",
              "      <th>MC-1</th>\n",
              "      <th>MC-2</th>\n",
              "      <th>MC-G</th>\n",
              "      <th>MC-G2</th>\n",
              "      <th>S-MG</th>\n",
              "    </tr>\n",
              "  </thead>\n",
              "  <tbody>\n",
              "    <tr>\n",
              "      <th>981</th>\n",
              "      <td>19</td>\n",
              "      <td>2</td>\n",
              "      <td>0</td>\n",
              "      <td>2</td>\n",
              "      <td>0</td>\n",
              "      <td>0.0</td>\n",
              "      <td>1</td>\n",
              "      <td>31</td>\n",
              "      <td>17/05/2021</td>\n",
              "      <td>2</td>\n",
              "      <td>...</td>\n",
              "      <td>Q170</td>\n",
              "      <td>Q170</td>\n",
              "      <td>1</td>\n",
              "      <td>9</td>\n",
              "      <td>1.0</td>\n",
              "      <td>10</td>\n",
              "      <td>10</td>\n",
              "      <td>20</td>\n",
              "      <td>6</td>\n",
              "      <td>1</td>\n",
              "    </tr>\n",
              "    <tr>\n",
              "      <th>1127</th>\n",
              "      <td>33</td>\n",
              "      <td>3</td>\n",
              "      <td>0</td>\n",
              "      <td>1</td>\n",
              "      <td>1</td>\n",
              "      <td>7.0</td>\n",
              "      <td>1</td>\n",
              "      <td>72</td>\n",
              "      <td>26/05/2021</td>\n",
              "      <td>1</td>\n",
              "      <td>...</td>\n",
              "      <td>Q249</td>\n",
              "      <td>Q371</td>\n",
              "      <td>1</td>\n",
              "      <td>9</td>\n",
              "      <td>1.0</td>\n",
              "      <td>0</td>\n",
              "      <td>10000</td>\n",
              "      <td>10000</td>\n",
              "      <td>5</td>\n",
              "      <td>2</td>\n",
              "    </tr>\n",
              "    <tr>\n",
              "      <th>1724</th>\n",
              "      <td>19</td>\n",
              "      <td>1</td>\n",
              "      <td>0</td>\n",
              "      <td>1</td>\n",
              "      <td>1</td>\n",
              "      <td>7.0</td>\n",
              "      <td>1</td>\n",
              "      <td>82</td>\n",
              "      <td>09/09/2021</td>\n",
              "      <td>1</td>\n",
              "      <td>...</td>\n",
              "      <td>Q300</td>\n",
              "      <td>Q300</td>\n",
              "      <td>3</td>\n",
              "      <td>9</td>\n",
              "      <td>1.0</td>\n",
              "      <td>1000</td>\n",
              "      <td>1000</td>\n",
              "      <td>2000</td>\n",
              "      <td>6</td>\n",
              "      <td>1</td>\n",
              "    </tr>\n",
              "    <tr>\n",
              "      <th>2148</th>\n",
              "      <td>19</td>\n",
              "      <td>1</td>\n",
              "      <td>0</td>\n",
              "      <td>1</td>\n",
              "      <td>1</td>\n",
              "      <td>5.0</td>\n",
              "      <td>1</td>\n",
              "      <td>51</td>\n",
              "      <td>10/10/2021</td>\n",
              "      <td>2</td>\n",
              "      <td>...</td>\n",
              "      <td>Q300</td>\n",
              "      <td>Q300</td>\n",
              "      <td>1</td>\n",
              "      <td>9</td>\n",
              "      <td>1.0</td>\n",
              "      <td>1000</td>\n",
              "      <td>1000</td>\n",
              "      <td>2000</td>\n",
              "      <td>6</td>\n",
              "      <td>1</td>\n",
              "    </tr>\n",
              "    <tr>\n",
              "      <th>5125</th>\n",
              "      <td>29</td>\n",
              "      <td>4</td>\n",
              "      <td>0</td>\n",
              "      <td>1</td>\n",
              "      <td>1</td>\n",
              "      <td>12.0</td>\n",
              "      <td>1</td>\n",
              "      <td>31</td>\n",
              "      <td>25/01/2021</td>\n",
              "      <td>2</td>\n",
              "      <td>...</td>\n",
              "      <td>Q173</td>\n",
              "      <td>Q161</td>\n",
              "      <td>1</td>\n",
              "      <td>32</td>\n",
              "      <td>1.0</td>\n",
              "      <td>10</td>\n",
              "      <td>10</td>\n",
              "      <td>20</td>\n",
              "      <td>6</td>\n",
              "      <td>1</td>\n",
              "    </tr>\n",
              "    <tr>\n",
              "      <th>...</th>\n",
              "      <td>...</td>\n",
              "      <td>...</td>\n",
              "      <td>...</td>\n",
              "      <td>...</td>\n",
              "      <td>...</td>\n",
              "      <td>...</td>\n",
              "      <td>...</td>\n",
              "      <td>...</td>\n",
              "      <td>...</td>\n",
              "      <td>...</td>\n",
              "      <td>...</td>\n",
              "      <td>...</td>\n",
              "      <td>...</td>\n",
              "      <td>...</td>\n",
              "      <td>...</td>\n",
              "      <td>...</td>\n",
              "      <td>...</td>\n",
              "      <td>...</td>\n",
              "      <td>...</td>\n",
              "      <td>...</td>\n",
              "      <td>...</td>\n",
              "    </tr>\n",
              "    <tr>\n",
              "      <th>1638126</th>\n",
              "      <td>17</td>\n",
              "      <td>1</td>\n",
              "      <td>0</td>\n",
              "      <td>1</td>\n",
              "      <td>1</td>\n",
              "      <td>7.0</td>\n",
              "      <td>1</td>\n",
              "      <td>51</td>\n",
              "      <td>09/06/2021</td>\n",
              "      <td>1</td>\n",
              "      <td>...</td>\n",
              "      <td>Q369</td>\n",
              "      <td>Q359</td>\n",
              "      <td>1</td>\n",
              "      <td>22</td>\n",
              "      <td>1.0</td>\n",
              "      <td>10000</td>\n",
              "      <td>10000</td>\n",
              "      <td>20000</td>\n",
              "      <td>6</td>\n",
              "      <td>1</td>\n",
              "    </tr>\n",
              "    <tr>\n",
              "      <th>1638389</th>\n",
              "      <td>19</td>\n",
              "      <td>3</td>\n",
              "      <td>1</td>\n",
              "      <td>1</td>\n",
              "      <td>1</td>\n",
              "      <td>9.0</td>\n",
              "      <td>1</td>\n",
              "      <td>32</td>\n",
              "      <td>16/10/2021</td>\n",
              "      <td>1</td>\n",
              "      <td>...</td>\n",
              "      <td>Q359</td>\n",
              "      <td>Q359</td>\n",
              "      <td>1</td>\n",
              "      <td>11</td>\n",
              "      <td>1.0</td>\n",
              "      <td>10000</td>\n",
              "      <td>10000</td>\n",
              "      <td>20000</td>\n",
              "      <td>6</td>\n",
              "      <td>1</td>\n",
              "    </tr>\n",
              "    <tr>\n",
              "      <th>1638459</th>\n",
              "      <td>29</td>\n",
              "      <td>4</td>\n",
              "      <td>1</td>\n",
              "      <td>1</td>\n",
              "      <td>1</td>\n",
              "      <td>9.0</td>\n",
              "      <td>1</td>\n",
              "      <td>32</td>\n",
              "      <td>25/05/2021</td>\n",
              "      <td>1</td>\n",
              "      <td>...</td>\n",
              "      <td>Q169</td>\n",
              "      <td>Q681</td>\n",
              "      <td>3</td>\n",
              "      <td>9</td>\n",
              "      <td>1.0</td>\n",
              "      <td>10</td>\n",
              "      <td>0</td>\n",
              "      <td>10</td>\n",
              "      <td>2</td>\n",
              "      <td>2</td>\n",
              "    </tr>\n",
              "    <tr>\n",
              "      <th>1638770</th>\n",
              "      <td>35</td>\n",
              "      <td>4</td>\n",
              "      <td>0</td>\n",
              "      <td>1</td>\n",
              "      <td>1</td>\n",
              "      <td>5.0</td>\n",
              "      <td>1</td>\n",
              "      <td>51</td>\n",
              "      <td>04/03/2021</td>\n",
              "      <td>2</td>\n",
              "      <td>...</td>\n",
              "      <td>Q909</td>\n",
              "      <td>Q138</td>\n",
              "      <td>3</td>\n",
              "      <td>15</td>\n",
              "      <td>1.0</td>\n",
              "      <td>0</td>\n",
              "      <td>1</td>\n",
              "      <td>1</td>\n",
              "      <td>1</td>\n",
              "      <td>2</td>\n",
              "    </tr>\n",
              "    <tr>\n",
              "      <th>1639418</th>\n",
              "      <td>18</td>\n",
              "      <td>1</td>\n",
              "      <td>0</td>\n",
              "      <td>1</td>\n",
              "      <td>1</td>\n",
              "      <td>7.0</td>\n",
              "      <td>1</td>\n",
              "      <td>51</td>\n",
              "      <td>21/12/2021</td>\n",
              "      <td>2</td>\n",
              "      <td>...</td>\n",
              "      <td>Q000</td>\n",
              "      <td>Q379</td>\n",
              "      <td>1</td>\n",
              "      <td>24</td>\n",
              "      <td>1.0</td>\n",
              "      <td>0</td>\n",
              "      <td>10000</td>\n",
              "      <td>10000</td>\n",
              "      <td>5</td>\n",
              "      <td>2</td>\n",
              "    </tr>\n",
              "  </tbody>\n",
              "</table>\n",
              "<p>1282 rows × 26 columns</p>\n",
              "</div>\n",
              "    <div class=\"colab-df-buttons\">\n",
              "\n",
              "  <div class=\"colab-df-container\">\n",
              "    <button class=\"colab-df-convert\" onclick=\"convertToInteractive('df-a3e71608-77e8-4773-945f-f9c905d853bf')\"\n",
              "            title=\"Convert this dataframe to an interactive table.\"\n",
              "            style=\"display:none;\">\n",
              "\n",
              "  <svg xmlns=\"http://www.w3.org/2000/svg\" height=\"24px\" viewBox=\"0 -960 960 960\">\n",
              "    <path d=\"M120-120v-720h720v720H120Zm60-500h600v-160H180v160Zm220 220h160v-160H400v160Zm0 220h160v-160H400v160ZM180-400h160v-160H180v160Zm440 0h160v-160H620v160ZM180-180h160v-160H180v160Zm440 0h160v-160H620v160Z\"/>\n",
              "  </svg>\n",
              "    </button>\n",
              "\n",
              "  <style>\n",
              "    .colab-df-container {\n",
              "      display:flex;\n",
              "      gap: 12px;\n",
              "    }\n",
              "\n",
              "    .colab-df-convert {\n",
              "      background-color: #E8F0FE;\n",
              "      border: none;\n",
              "      border-radius: 50%;\n",
              "      cursor: pointer;\n",
              "      display: none;\n",
              "      fill: #1967D2;\n",
              "      height: 32px;\n",
              "      padding: 0 0 0 0;\n",
              "      width: 32px;\n",
              "    }\n",
              "\n",
              "    .colab-df-convert:hover {\n",
              "      background-color: #E2EBFA;\n",
              "      box-shadow: 0px 1px 2px rgba(60, 64, 67, 0.3), 0px 1px 3px 1px rgba(60, 64, 67, 0.15);\n",
              "      fill: #174EA6;\n",
              "    }\n",
              "\n",
              "    .colab-df-buttons div {\n",
              "      margin-bottom: 4px;\n",
              "    }\n",
              "\n",
              "    [theme=dark] .colab-df-convert {\n",
              "      background-color: #3B4455;\n",
              "      fill: #D2E3FC;\n",
              "    }\n",
              "\n",
              "    [theme=dark] .colab-df-convert:hover {\n",
              "      background-color: #434B5C;\n",
              "      box-shadow: 0px 1px 3px 1px rgba(0, 0, 0, 0.15);\n",
              "      filter: drop-shadow(0px 1px 2px rgba(0, 0, 0, 0.3));\n",
              "      fill: #FFFFFF;\n",
              "    }\n",
              "  </style>\n",
              "\n",
              "    <script>\n",
              "      const buttonEl =\n",
              "        document.querySelector('#df-a3e71608-77e8-4773-945f-f9c905d853bf button.colab-df-convert');\n",
              "      buttonEl.style.display =\n",
              "        google.colab.kernel.accessAllowed ? 'block' : 'none';\n",
              "\n",
              "      async function convertToInteractive(key) {\n",
              "        const element = document.querySelector('#df-a3e71608-77e8-4773-945f-f9c905d853bf');\n",
              "        const dataTable =\n",
              "          await google.colab.kernel.invokeFunction('convertToInteractive',\n",
              "                                                    [key], {});\n",
              "        if (!dataTable) return;\n",
              "\n",
              "        const docLinkHtml = 'Like what you see? Visit the ' +\n",
              "          '<a target=\"_blank\" href=https://colab.research.google.com/notebooks/data_table.ipynb>data table notebook</a>'\n",
              "          + ' to learn more about interactive tables.';\n",
              "        element.innerHTML = '';\n",
              "        dataTable['output_type'] = 'display_data';\n",
              "        await google.colab.output.renderOutput(dataTable, element);\n",
              "        const docLink = document.createElement('div');\n",
              "        docLink.innerHTML = docLinkHtml;\n",
              "        element.appendChild(docLink);\n",
              "      }\n",
              "    </script>\n",
              "  </div>\n",
              "\n",
              "\n",
              "<div id=\"df-68a1490c-6657-4576-890d-15cde330cbcc\">\n",
              "  <button class=\"colab-df-quickchart\" onclick=\"quickchart('df-68a1490c-6657-4576-890d-15cde330cbcc')\"\n",
              "            title=\"Suggest charts\"\n",
              "            style=\"display:none;\">\n",
              "\n",
              "<svg xmlns=\"http://www.w3.org/2000/svg\" height=\"24px\"viewBox=\"0 0 24 24\"\n",
              "     width=\"24px\">\n",
              "    <g>\n",
              "        <path d=\"M19 3H5c-1.1 0-2 .9-2 2v14c0 1.1.9 2 2 2h14c1.1 0 2-.9 2-2V5c0-1.1-.9-2-2-2zM9 17H7v-7h2v7zm4 0h-2V7h2v10zm4 0h-2v-4h2v4z\"/>\n",
              "    </g>\n",
              "</svg>\n",
              "  </button>\n",
              "\n",
              "<style>\n",
              "  .colab-df-quickchart {\n",
              "      --bg-color: #E8F0FE;\n",
              "      --fill-color: #1967D2;\n",
              "      --hover-bg-color: #E2EBFA;\n",
              "      --hover-fill-color: #174EA6;\n",
              "      --disabled-fill-color: #AAA;\n",
              "      --disabled-bg-color: #DDD;\n",
              "  }\n",
              "\n",
              "  [theme=dark] .colab-df-quickchart {\n",
              "      --bg-color: #3B4455;\n",
              "      --fill-color: #D2E3FC;\n",
              "      --hover-bg-color: #434B5C;\n",
              "      --hover-fill-color: #FFFFFF;\n",
              "      --disabled-bg-color: #3B4455;\n",
              "      --disabled-fill-color: #666;\n",
              "  }\n",
              "\n",
              "  .colab-df-quickchart {\n",
              "    background-color: var(--bg-color);\n",
              "    border: none;\n",
              "    border-radius: 50%;\n",
              "    cursor: pointer;\n",
              "    display: none;\n",
              "    fill: var(--fill-color);\n",
              "    height: 32px;\n",
              "    padding: 0;\n",
              "    width: 32px;\n",
              "  }\n",
              "\n",
              "  .colab-df-quickchart:hover {\n",
              "    background-color: var(--hover-bg-color);\n",
              "    box-shadow: 0 1px 2px rgba(60, 64, 67, 0.3), 0 1px 3px 1px rgba(60, 64, 67, 0.15);\n",
              "    fill: var(--button-hover-fill-color);\n",
              "  }\n",
              "\n",
              "  .colab-df-quickchart-complete:disabled,\n",
              "  .colab-df-quickchart-complete:disabled:hover {\n",
              "    background-color: var(--disabled-bg-color);\n",
              "    fill: var(--disabled-fill-color);\n",
              "    box-shadow: none;\n",
              "  }\n",
              "\n",
              "  .colab-df-spinner {\n",
              "    border: 2px solid var(--fill-color);\n",
              "    border-color: transparent;\n",
              "    border-bottom-color: var(--fill-color);\n",
              "    animation:\n",
              "      spin 1s steps(1) infinite;\n",
              "  }\n",
              "\n",
              "  @keyframes spin {\n",
              "    0% {\n",
              "      border-color: transparent;\n",
              "      border-bottom-color: var(--fill-color);\n",
              "      border-left-color: var(--fill-color);\n",
              "    }\n",
              "    20% {\n",
              "      border-color: transparent;\n",
              "      border-left-color: var(--fill-color);\n",
              "      border-top-color: var(--fill-color);\n",
              "    }\n",
              "    30% {\n",
              "      border-color: transparent;\n",
              "      border-left-color: var(--fill-color);\n",
              "      border-top-color: var(--fill-color);\n",
              "      border-right-color: var(--fill-color);\n",
              "    }\n",
              "    40% {\n",
              "      border-color: transparent;\n",
              "      border-right-color: var(--fill-color);\n",
              "      border-top-color: var(--fill-color);\n",
              "    }\n",
              "    60% {\n",
              "      border-color: transparent;\n",
              "      border-right-color: var(--fill-color);\n",
              "    }\n",
              "    80% {\n",
              "      border-color: transparent;\n",
              "      border-right-color: var(--fill-color);\n",
              "      border-bottom-color: var(--fill-color);\n",
              "    }\n",
              "    90% {\n",
              "      border-color: transparent;\n",
              "      border-bottom-color: var(--fill-color);\n",
              "    }\n",
              "  }\n",
              "</style>\n",
              "\n",
              "  <script>\n",
              "    async function quickchart(key) {\n",
              "      const quickchartButtonEl =\n",
              "        document.querySelector('#' + key + ' button');\n",
              "      quickchartButtonEl.disabled = true;  // To prevent multiple clicks.\n",
              "      quickchartButtonEl.classList.add('colab-df-spinner');\n",
              "      try {\n",
              "        const charts = await google.colab.kernel.invokeFunction(\n",
              "            'suggestCharts', [key], {});\n",
              "      } catch (error) {\n",
              "        console.error('Error during call to suggestCharts:', error);\n",
              "      }\n",
              "      quickchartButtonEl.classList.remove('colab-df-spinner');\n",
              "      quickchartButtonEl.classList.add('colab-df-quickchart-complete');\n",
              "    }\n",
              "    (() => {\n",
              "      let quickchartButtonEl =\n",
              "        document.querySelector('#df-68a1490c-6657-4576-890d-15cde330cbcc button');\n",
              "      quickchartButtonEl.style.display =\n",
              "        google.colab.kernel.accessAllowed ? 'block' : 'none';\n",
              "    })();\n",
              "  </script>\n",
              "</div>\n",
              "\n",
              "    </div>\n",
              "  </div>\n"
            ]
          },
          "metadata": {},
          "execution_count": 28
        }
      ]
    },
    {
      "cell_type": "markdown",
      "source": [
        "# Edad materna\n",
        "Edades por decadas de vida de los que presentan malformaciones craneofaciales, ya sea en una sola columna o ambas.\n",
        "menores de 20 años\n",
        "20-29\n",
        "30-39\n",
        "40-49\n",
        "mayores o igual a 50"
      ],
      "metadata": {
        "id": "Ezbh_hXCg2XN"
      }
    },
    {
      "cell_type": "code",
      "source": [
        "etiqueta = 'EDAD'\n",
        "key = \"Edad materna\"\n",
        "df[key] = None\n",
        "\n",
        "\n",
        "df[key].mask(df[etiqueta] < 20, 1, inplace=True)\n",
        "df[key].mask((df[etiqueta] >= 20) & (df[etiqueta] < 30), 2, inplace=True)\n",
        "df[key].mask((df[etiqueta] >= 30) & (df[etiqueta] < 40), 3, inplace=True)\n",
        "df[key].mask((df[etiqueta] >= 40) & (df[etiqueta] < 50), 4, inplace=True)\n",
        "df[key].mask((df[etiqueta] >= 50) & (df[etiqueta] != 999), 5, inplace=True)\n",
        "df[key].value_counts()\n"
      ],
      "metadata": {
        "id": "ta38oOSasecC",
        "colab": {
          "base_uri": "https://localhost:8080/"
        },
        "outputId": "ab63bd8c-6686-4c17-ccf7-cd8d04c52415"
      },
      "execution_count": 29,
      "outputs": [
        {
          "output_type": "execute_result",
          "data": {
            "text/plain": [
              "2    884232\n",
              "3    445737\n",
              "1    272216\n",
              "4     36998\n",
              "5       228\n",
              "Name: Edad materna, dtype: int64"
            ]
          },
          "metadata": {},
          "execution_count": 29
        }
      ]
    },
    {
      "cell_type": "code",
      "source": [
        "# Con MCF\n",
        "df[df[\"MCC-General\"] == 1][key].value_counts()"
      ],
      "metadata": {
        "id": "DdC9byfPmoSp",
        "colab": {
          "base_uri": "https://localhost:8080/"
        },
        "outputId": "2f499ff6-221d-4634-8270-949710ef876c"
      },
      "execution_count": 30,
      "outputs": [
        {
          "output_type": "execute_result",
          "data": {
            "text/plain": [
              "2    1864\n",
              "3    1074\n",
              "1     563\n",
              "4     125\n",
              "5       3\n",
              "Name: Edad materna, dtype: int64"
            ]
          },
          "metadata": {},
          "execution_count": 30
        }
      ]
    },
    {
      "cell_type": "markdown",
      "source": [
        "## Tipo de producto del embarazo\n",
        "- Único (1)\n",
        "- Gemelar (2)\n",
        "- Tres o más (3)"
      ],
      "metadata": {
        "id": "7FsKjPouVIQo"
      }
    },
    {
      "cell_type": "code",
      "source": [
        "etiqueta = 'PRODUCTOEMBARAZO'\n",
        "key = \"Tipo producto\"\n",
        "df[key] = None\n",
        "df[key].mask(df[etiqueta] == 1, 1, inplace=True)\n",
        "df[key].mask(df[etiqueta] == 2, 2, inplace=True)\n",
        "df[key].mask(df[etiqueta] == 3, 3, inplace=True)\n",
        "df[key].value_counts()"
      ],
      "metadata": {
        "colab": {
          "base_uri": "https://localhost:8080/"
        },
        "id": "D-qeAdgVVPZd",
        "outputId": "9bb88942-7955-44b0-8976-0eb4dd56eeb3"
      },
      "execution_count": 31,
      "outputs": [
        {
          "output_type": "execute_result",
          "data": {
            "text/plain": [
              "1    1609636\n",
              "2      26101\n",
              "3        729\n",
              "Name: Tipo producto, dtype: int64"
            ]
          },
          "metadata": {},
          "execution_count": 31
        }
      ]
    },
    {
      "cell_type": "code",
      "source": [
        "# Con MCF\n",
        "df[df[\"MCC-General\"] == 1][key].value_counts()"
      ],
      "metadata": {
        "id": "eqv7tmrjmo2-",
        "colab": {
          "base_uri": "https://localhost:8080/"
        },
        "outputId": "8fbf7e56-0331-406e-cb4a-f5c34e3c5ddd"
      },
      "execution_count": 32,
      "outputs": [
        {
          "output_type": "execute_result",
          "data": {
            "text/plain": [
              "1    3558\n",
              "2      61\n",
              "3       1\n",
              "Name: Tipo producto, dtype: int64"
            ]
          },
          "metadata": {},
          "execution_count": 32
        }
      ]
    },
    {
      "cell_type": "markdown",
      "source": [
        "# Numero de embarazos\n",
        "Primigesta (1 embarazo)\n",
        "Multigesta (2 a 5 embarazos)\n",
        "Gran multigesta (6 o más embarazos)"
      ],
      "metadata": {
        "id": "Z6D8_q3Dhnno"
      }
    },
    {
      "cell_type": "code",
      "source": [
        "etiqueta = 'NUMEROEMBARAZOS'\n",
        "key = \"Numero de embarazos\"\n",
        "df[key] = None\n",
        "\n",
        "\n",
        "df[key].mask(df[etiqueta] == 1, 1, inplace=True)\n",
        "df[key].mask((df[etiqueta] >= 2) & (df[etiqueta] < 6), 2, inplace=True)\n",
        "df[key].mask((df[etiqueta] >= 6) & (df[etiqueta] != 99), 3, inplace=True)\n",
        "df[key].value_counts()"
      ],
      "metadata": {
        "id": "cMrFIIzNwNwm",
        "colab": {
          "base_uri": "https://localhost:8080/"
        },
        "outputId": "a645bcb1-7ab9-4bc3-a834-ec5975d78282"
      },
      "execution_count": 33,
      "outputs": [
        {
          "output_type": "execute_result",
          "data": {
            "text/plain": [
              "2    1040566\n",
              "1     565704\n",
              "3      33047\n",
              "Name: Numero de embarazos, dtype: int64"
            ]
          },
          "metadata": {},
          "execution_count": 33
        }
      ]
    },
    {
      "cell_type": "code",
      "source": [
        "# Con MCF\n",
        "df[df[\"MCC-General\"] == 1][key].value_counts()"
      ],
      "metadata": {
        "id": "jEiyyMx5mpcY",
        "colab": {
          "base_uri": "https://localhost:8080/"
        },
        "outputId": "51de8d02-9089-463d-fbeb-6a005e61a3a1"
      },
      "execution_count": 34,
      "outputs": [
        {
          "output_type": "execute_result",
          "data": {
            "text/plain": [
              "2    2322\n",
              "1    1210\n",
              "3      98\n",
              "Name: Numero de embarazos, dtype: int64"
            ]
          },
          "metadata": {},
          "execution_count": 34
        }
      ]
    },
    {
      "cell_type": "markdown",
      "source": [
        "#Hijos nacidos muertos\n",
        "- Ausente (0)\n",
        "- Presente (1)"
      ],
      "metadata": {
        "id": "Jc3Elkwih3Rb"
      }
    },
    {
      "cell_type": "code",
      "source": [
        "etiqueta = 'HIJOSNACIDOSMUERTOS'\n",
        "key = \"Hijos nacidos muertos\"\n",
        "df[key] = None\n",
        "\n",
        "df[key].mask((df[etiqueta] >= 1) & (df[etiqueta] != 99), 1, inplace=True)\n",
        "df[key].mask(df[etiqueta] == 0, 0, inplace=True)\n",
        "df[key].value_counts()"
      ],
      "metadata": {
        "id": "1h5DG6roiGX9",
        "colab": {
          "base_uri": "https://localhost:8080/"
        },
        "outputId": "e9c1050b-96fd-4b71-9c76-fea51aa46d88"
      },
      "execution_count": 35,
      "outputs": [
        {
          "output_type": "execute_result",
          "data": {
            "text/plain": [
              "0    1364507\n",
              "1     274601\n",
              "Name: Hijos nacidos muertos, dtype: int64"
            ]
          },
          "metadata": {},
          "execution_count": 35
        }
      ]
    },
    {
      "cell_type": "code",
      "source": [
        "# Con MCF\n",
        "df[df[\"MCC-General\"] == 1][key].value_counts()"
      ],
      "metadata": {
        "id": "Q2GjiBIWmqCD",
        "colab": {
          "base_uri": "https://localhost:8080/"
        },
        "outputId": "86998b77-e733-4898-9992-7df7abaa8db9"
      },
      "execution_count": 36,
      "outputs": [
        {
          "output_type": "execute_result",
          "data": {
            "text/plain": [
              "0    2896\n",
              "1     733\n",
              "Name: Hijos nacidos muertos, dtype: int64"
            ]
          },
          "metadata": {},
          "execution_count": 36
        }
      ]
    },
    {
      "cell_type": "markdown",
      "source": [
        "# Madre sobrevivio parto SOBREVIVIOPARTO\n",
        "* Si 1\n",
        "* No 2\n",
        "* no aplica, se ignora, no especificado 0, 8, 9\n"
      ],
      "metadata": {
        "id": "HRvNqKCR5bkz"
      }
    },
    {
      "cell_type": "code",
      "source": [
        "etiqueta = 'SOBREVIVIOPARTO'\n",
        "no_especificado = [0, 8, 9]\n",
        "\n",
        "key = \"Madre sobrevivio al parto\"\n",
        "df[key] = None\n",
        "\n",
        "df[key].mask(df[etiqueta] == 2, 0, inplace=True)\n",
        "df[key].mask(df[etiqueta] == 1, 1, inplace=True)\n",
        "df[key].mask(df[etiqueta].isin(no_especificado), 2, inplace=True)\n",
        "df[key].value_counts()"
      ],
      "metadata": {
        "id": "dkEH5qsYGBLK",
        "colab": {
          "base_uri": "https://localhost:8080/"
        },
        "outputId": "4664d240-eb79-4cb8-a0c8-5e2970c61071"
      },
      "execution_count": 37,
      "outputs": [
        {
          "output_type": "execute_result",
          "data": {
            "text/plain": [
              "1    1637637\n",
              "2       1748\n",
              "0         94\n",
              "Name: Madre sobrevivio al parto, dtype: int64"
            ]
          },
          "metadata": {},
          "execution_count": 37
        }
      ]
    },
    {
      "cell_type": "code",
      "source": [
        "# Con MCF\n",
        "df[df[\"MCC-General\"] == 1][key].value_counts()"
      ],
      "metadata": {
        "id": "wqG5vkX6mqk1",
        "colab": {
          "base_uri": "https://localhost:8080/"
        },
        "outputId": "d00842ac-40cd-49a2-dcc2-9406cdc4cf16"
      },
      "execution_count": 38,
      "outputs": [
        {
          "output_type": "execute_result",
          "data": {
            "text/plain": [
              "1    3627\n",
              "2       3\n",
              "Name: Madre sobrevivio al parto, dtype: int64"
            ]
          },
          "metadata": {},
          "execution_count": 38
        }
      ]
    },
    {
      "cell_type": "markdown",
      "source": [
        "#Madre recibio atencion prenatal\n",
        "* Si 1\n",
        "* No 2\n",
        "* no aplica, se ignora, no especificado 0, 8, 9"
      ],
      "metadata": {
        "id": "m4fTrHjgh78O"
      }
    },
    {
      "cell_type": "code",
      "source": [
        "etiqueta = 'ATENCIONPRENATAL'\n",
        "no_especificado = [0, 8, 9]\n",
        "key = \"Madre recibio atencion prenatal\"\n",
        "df[key] = None\n",
        "\n",
        "df[key].mask(df[etiqueta] == 1, 1, inplace=True)\n",
        "df[key].mask(df[etiqueta] == 2, 0, inplace=True)\n",
        "df[key].value_counts()\n"
      ],
      "metadata": {
        "id": "PS2sOsXiw4aV",
        "colab": {
          "base_uri": "https://localhost:8080/"
        },
        "outputId": "6af8e8fb-bb8d-4dcf-dc09-71b4c2248e39"
      },
      "execution_count": 39,
      "outputs": [
        {
          "output_type": "execute_result",
          "data": {
            "text/plain": [
              "1    1581004\n",
              "0      47568\n",
              "Name: Madre recibio atencion prenatal, dtype: int64"
            ]
          },
          "metadata": {},
          "execution_count": 39
        }
      ]
    },
    {
      "cell_type": "code",
      "source": [
        "# Con MCF\n",
        "df[df[\"MCC-General\"] == 1][key].value_counts()"
      ],
      "metadata": {
        "id": "G1_NWs0ImrBS",
        "colab": {
          "base_uri": "https://localhost:8080/"
        },
        "outputId": "b97768a8-f27a-4aaf-d6ce-b450e1ad9cef"
      },
      "execution_count": 40,
      "outputs": [
        {
          "output_type": "execute_result",
          "data": {
            "text/plain": [
              "1    3502\n",
              "0     110\n",
              "Name: Madre recibio atencion prenatal, dtype: int64"
            ]
          },
          "metadata": {},
          "execution_count": 40
        }
      ]
    },
    {
      "cell_type": "markdown",
      "source": [
        "#Trimestre de primer consulta\n",
        "Trimestre 1\n",
        "Trimestre 2\n",
        "Trimestre 3"
      ],
      "metadata": {
        "id": "nZzoZX2NiAaM"
      }
    },
    {
      "cell_type": "code",
      "source": [
        "etiqueta = 'TRIMESTREPRIMERCONSULTA'\n",
        "key = \"Trimestre de la primera consulta\"\n",
        "df[key] = None\n",
        "\n",
        "df[key].mask(df[etiqueta] == 1, 1, inplace=True)\n",
        "df[key].mask(df[etiqueta] == 2, 2, inplace=True)\n",
        "df[key].mask(df[etiqueta] == 3, 3, inplace=True)\n",
        "df[key].value_counts()"
      ],
      "metadata": {
        "id": "9SE2H-FixTEw",
        "colab": {
          "base_uri": "https://localhost:8080/"
        },
        "outputId": "26a602b3-9ab4-44bf-8a40-48bf04ece40a"
      },
      "execution_count": 41,
      "outputs": [
        {
          "output_type": "execute_result",
          "data": {
            "text/plain": [
              "1    1223848\n",
              "2     276848\n",
              "3      54183\n",
              "Name: Trimestre de la primera consulta, dtype: int64"
            ]
          },
          "metadata": {},
          "execution_count": 41
        }
      ]
    },
    {
      "cell_type": "code",
      "source": [
        "# Con MCF\n",
        "df[df[\"MCC-General\"] == 1][key].value_counts()"
      ],
      "metadata": {
        "id": "6m8tJCEImriu",
        "colab": {
          "base_uri": "https://localhost:8080/"
        },
        "outputId": "556fa56f-9ee1-43fb-c5ac-41328bcafb41"
      },
      "execution_count": 42,
      "outputs": [
        {
          "output_type": "execute_result",
          "data": {
            "text/plain": [
              "1    2630\n",
              "2     694\n",
              "3     113\n",
              "Name: Trimestre de la primera consulta, dtype: int64"
            ]
          },
          "metadata": {},
          "execution_count": 42
        }
      ]
    },
    {
      "cell_type": "markdown",
      "source": [
        "# Total de consulta durante el embarazo\n",
        "Suficiente (5 o mas citas)\n",
        "Insuficiente (1-4 citas)\n",
        "No recibió (0 citas)"
      ],
      "metadata": {
        "id": "Va7KRG1BiMKK"
      }
    },
    {
      "cell_type": "code",
      "source": [
        "etiqueta = 'TOTALCONSULTAS'\n",
        "key = \"Total numero de consultas embarazo\"\n",
        "df[key] = None\n",
        "\n",
        "df[key].mask(df[etiqueta] == 0, 0, inplace=True)\n",
        "df[key].mask((df[etiqueta] >= 1) & (df[etiqueta] < 5), 1, inplace=True)\n",
        "df[key].mask((df[etiqueta] >= 5) & (df[etiqueta] != 99), 2, inplace=True)\n",
        "df[key].value_counts()"
      ],
      "metadata": {
        "id": "8Mw7jhQBxwXe",
        "colab": {
          "base_uri": "https://localhost:8080/"
        },
        "outputId": "f34ae1de-eaf4-408b-93cb-5423b1564b2d"
      },
      "execution_count": 43,
      "outputs": [
        {
          "output_type": "execute_result",
          "data": {
            "text/plain": [
              "2    1349689\n",
              "1     218469\n",
              "0      55487\n",
              "Name: Total numero de consultas embarazo, dtype: int64"
            ]
          },
          "metadata": {},
          "execution_count": 43
        }
      ]
    },
    {
      "cell_type": "code",
      "source": [
        "# Con MCF\n",
        "df[df[\"MCC-General\"] == 1][key].value_counts()"
      ],
      "metadata": {
        "id": "vAyLRtwlmsEq",
        "colab": {
          "base_uri": "https://localhost:8080/"
        },
        "outputId": "38af08b4-eedb-40b1-a7f9-2a7c37e2093b"
      },
      "execution_count": 44,
      "outputs": [
        {
          "output_type": "execute_result",
          "data": {
            "text/plain": [
              "2    2977\n",
              "1     496\n",
              "0     109\n",
              "Name: Total numero de consultas embarazo, dtype: int64"
            ]
          },
          "metadata": {},
          "execution_count": 44
        }
      ]
    },
    {
      "cell_type": "markdown",
      "source": [
        "#Escolaridad materna\n",
        "Ninguno (0, 1, 32, 88, 99)\n",
        "Primaria completa (31, 52, 112)\n",
        "Secundaria completa (51, 72)\n",
        "Bachillerato o preparatoria completa (71, 82)\n",
        "Licenciatura completa (81, 102)\n",
        "Posgrado (101)\n",
        "Tecnico terminal (111, 131, 132)\n"
      ],
      "metadata": {
        "id": "7Qiqa1FSjCmR"
      }
    },
    {
      "cell_type": "code",
      "source": [
        "etiqueta = 'ESCOLARIDAD'\n",
        "ninguno = [1]\n",
        "primaria = [31, 32, 52, 112]\n",
        "secundaria = [51, 72]\n",
        "bachiller = [71, 82]\n",
        "licenciatura = [81, 102]\n",
        "posgrado = [101]\n",
        "tecnico = [111, 131, 132]\n",
        "no_esp = [0, 88, 99]\n",
        "key = \"Escolaridad materna\"\n",
        "df[key] = None\n",
        "df[key].mask(df[etiqueta].isin(ninguno), 0, inplace=True)\n",
        "df[key].mask(df[etiqueta].isin(primaria), 1, inplace=True)\n",
        "df[key].mask(df[etiqueta].isin(secundaria), 2, inplace=True)\n",
        "df[key].mask(df[etiqueta].isin(bachiller), 3, inplace=True)\n",
        "df[key].mask(df[etiqueta].isin(licenciatura), 4, inplace=True)\n",
        "df[key].mask(df[etiqueta].isin(posgrado), 5, inplace=True)\n",
        "df[key].mask(df[etiqueta].isin(tecnico), 6, inplace=True)\n",
        "df[key].mask(df[etiqueta].isin(no_esp), 7, inplace=True)\n",
        "df[key].value_counts()"
      ],
      "metadata": {
        "id": "P9NE5d9Ryjra",
        "colab": {
          "base_uri": "https://localhost:8080/"
        },
        "outputId": "28145fa3-abe2-4678-9bf5-976d336a067c"
      },
      "execution_count": 45,
      "outputs": [
        {
          "output_type": "execute_result",
          "data": {
            "text/plain": [
              "2    610195\n",
              "3    439448\n",
              "1    262724\n",
              "4    247817\n",
              "6     24330\n",
              "0     22690\n",
              "5     20534\n",
              "7     11741\n",
              "Name: Escolaridad materna, dtype: int64"
            ]
          },
          "metadata": {},
          "execution_count": 45
        }
      ]
    },
    {
      "cell_type": "code",
      "source": [
        "# Con MCF\n",
        "df[df[\"MCC-General\"] == 1][key].value_counts()"
      ],
      "metadata": {
        "id": "6WS0BPwwms7W",
        "colab": {
          "base_uri": "https://localhost:8080/"
        },
        "outputId": "ef7a9ba7-3bcd-408d-8f66-a9c8d2fc701e"
      },
      "execution_count": 46,
      "outputs": [
        {
          "output_type": "execute_result",
          "data": {
            "text/plain": [
              "2    1383\n",
              "3     982\n",
              "1     578\n",
              "4     526\n",
              "0      60\n",
              "5      43\n",
              "6      42\n",
              "7      16\n",
              "Name: Escolaridad materna, dtype: int64"
            ]
          },
          "metadata": {},
          "execution_count": 46
        }
      ]
    },
    {
      "cell_type": "markdown",
      "source": [
        "# Entidad federativa de parto ENTIDADFEDERATIVAPARTO\n",
        "df.agg(['count', 'size', 'nunique'])\n"
      ],
      "metadata": {
        "id": "A8W_dAXfqMfH"
      }
    },
    {
      "cell_type": "code",
      "source": [
        "df['ENTIDADFEDERATIVAPARTO'].mask(df['ENTIDADFEDERATIVAPARTO'] == 99, None, inplace=True)\n",
        "df['ENTIDADFEDERATIVAPARTO'].value_counts()"
      ],
      "metadata": {
        "id": "cP4WX7HPr2s0",
        "colab": {
          "base_uri": "https://localhost:8080/"
        },
        "outputId": "39d0f32e-e0d0-45e4-ea9e-04b72445898d"
      },
      "execution_count": 47,
      "outputs": [
        {
          "output_type": "execute_result",
          "data": {
            "text/plain": [
              "15    180299\n",
              "14    114256\n",
              "21    101286\n",
              "30     93879\n",
              "9      91789\n",
              "11     90489\n",
              "7      88203\n",
              "19     75190\n",
              "16     73340\n",
              "20     56675\n",
              "12     51255\n",
              "8      48302\n",
              "28     46053\n",
              "5      45324\n",
              "2      44930\n",
              "24     41986\n",
              "25     39999\n",
              "27     37825\n",
              "26     35407\n",
              "13     35264\n",
              "22     33601\n",
              "31     27657\n",
              "10     26142\n",
              "17     25611\n",
              "32     24011\n",
              "1      23036\n",
              "23     22010\n",
              "29     18153\n",
              "18     15307\n",
              "4      11761\n",
              "6      10621\n",
              "3       9818\n",
              "Name: ENTIDADFEDERATIVAPARTO, dtype: int64"
            ]
          },
          "metadata": {},
          "execution_count": 47
        }
      ]
    },
    {
      "cell_type": "code",
      "source": [
        "# Con MCF\n",
        "df[df[\"MCC-General\"] == 1][key].value_counts()"
      ],
      "metadata": {
        "id": "hWOArPbmmt8U",
        "colab": {
          "base_uri": "https://localhost:8080/"
        },
        "outputId": "f9cc6077-8b4d-421f-82f4-d026f9cc5558"
      },
      "execution_count": 48,
      "outputs": [
        {
          "output_type": "execute_result",
          "data": {
            "text/plain": [
              "2    1383\n",
              "3     982\n",
              "1     578\n",
              "4     526\n",
              "0      60\n",
              "5      43\n",
              "6      42\n",
              "7      16\n",
              "Name: Escolaridad materna, dtype: int64"
            ]
          },
          "metadata": {},
          "execution_count": 48
        }
      ]
    },
    {
      "cell_type": "markdown",
      "source": [
        "# Sexo del recien nacido SEXO\n",
        "* Hombre 1\n",
        "* mujer 2\n",
        "* no especificado 0,9"
      ],
      "metadata": {
        "id": "4tMxn-Thwq8J"
      }
    },
    {
      "cell_type": "code",
      "source": [
        "etiqueta = 'SEXO'\n",
        "key = \"Escolaridad materna\"\n",
        "df[key] = None\n",
        "df[key].mask(df[etiqueta] == 1, 1, inplace=True)\n",
        "df[key].mask(df[etiqueta] == 2, 2, inplace=True)\n",
        "df[key].mask((df[etiqueta] == 0) | (df[etiqueta] == 9), 3, inplace=True)\n",
        "df[key].value_counts()"
      ],
      "metadata": {
        "id": "E6wVOkSX68at",
        "colab": {
          "base_uri": "https://localhost:8080/"
        },
        "outputId": "6ead9ac9-040c-4ff7-8679-eeac65324e34"
      },
      "execution_count": 49,
      "outputs": [
        {
          "output_type": "execute_result",
          "data": {
            "text/plain": [
              "1    833880\n",
              "2    804310\n",
              "3      1289\n",
              "Name: Escolaridad materna, dtype: int64"
            ]
          },
          "metadata": {},
          "execution_count": 49
        }
      ]
    },
    {
      "cell_type": "code",
      "source": [
        "# Con MCF\n",
        "df[df[\"MCC-General\"] == 1][key].value_counts()"
      ],
      "metadata": {
        "id": "d-FfETklnCMq",
        "colab": {
          "base_uri": "https://localhost:8080/"
        },
        "outputId": "4d66678c-f0a3-4197-9de0-eb2db2ddfec2"
      },
      "execution_count": 50,
      "outputs": [
        {
          "output_type": "execute_result",
          "data": {
            "text/plain": [
              "1    1954\n",
              "2    1668\n",
              "3       8\n",
              "Name: Escolaridad materna, dtype: int64"
            ]
          },
          "metadata": {},
          "execution_count": 50
        }
      ]
    },
    {
      "cell_type": "markdown",
      "source": [
        "# Edad gestacional EDADGESTACIONAL\n",
        "* pretermino =<36 semanas\n",
        "* termino 37-41 semanas\n",
        "* postermino =>42 semanas"
      ],
      "metadata": {
        "id": "2Wr4TGM9xfy0"
      }
    },
    {
      "cell_type": "code",
      "source": [
        "etiqueta = 'EDADGESTACIONAL'\n",
        "key = \"Edad gestacional\"\n",
        "df[key] = None\n",
        "df[key].mask(df[etiqueta] <= 36, 1, inplace=True)\n",
        "df[key].mask((df[etiqueta] > 36) & (df[etiqueta] < 42), 2, inplace=True)\n",
        "df[key].mask((df[etiqueta] >= 42) & (df[etiqueta] != 99), 3, inplace=True)\n",
        "df[key].value_counts()"
      ],
      "metadata": {
        "id": "1_brL3vk7E_W",
        "colab": {
          "base_uri": "https://localhost:8080/"
        },
        "outputId": "4b777c37-735b-4be0-802a-4c6be2b36f13"
      },
      "execution_count": 51,
      "outputs": [
        {
          "output_type": "execute_result",
          "data": {
            "text/plain": [
              "2    1495526\n",
              "1     131109\n",
              "3      11495\n",
              "Name: Edad gestacional, dtype: int64"
            ]
          },
          "metadata": {},
          "execution_count": 51
        }
      ]
    },
    {
      "cell_type": "code",
      "source": [
        "# Con MCF\n",
        "df[df[\"MCC-General\"] == 1][key].value_counts()"
      ],
      "metadata": {
        "id": "TBGvZef_nEJ_",
        "colab": {
          "base_uri": "https://localhost:8080/"
        },
        "outputId": "8238bdd3-7f38-4595-ba46-029473669a3c"
      },
      "execution_count": 52,
      "outputs": [
        {
          "output_type": "execute_result",
          "data": {
            "text/plain": [
              "2    3076\n",
              "1     517\n",
              "3      35\n",
              "Name: Edad gestacional, dtype: int64"
            ]
          },
          "metadata": {},
          "execution_count": 52
        }
      ]
    },
    {
      "cell_type": "markdown",
      "source": [
        "# Peso del recien nacido PESO\n",
        "* bajo peso =<2499gr\n",
        "* normopeso 2500-3999gr\n",
        "* macrosomico =>4000 gr"
      ],
      "metadata": {
        "id": "xwau8qdvyuOm"
      }
    },
    {
      "cell_type": "code",
      "source": [
        "etiqueta = 'PESO'\n",
        "key = \"Peso del nacido vivo\"\n",
        "df[key] = None\n",
        "df[key].mask(df[etiqueta] < 2500, 1, inplace=True)\n",
        "df[key].mask((df[etiqueta] >= 2500) & (df[etiqueta] < 4000), 2, inplace=True)\n",
        "df[key].mask((df[etiqueta] >= 4000) & (df[etiqueta] != 9999), 3, inplace=True)\n",
        "df[key].value_counts()"
      ],
      "metadata": {
        "id": "cOUHFGiF7v4d",
        "colab": {
          "base_uri": "https://localhost:8080/"
        },
        "outputId": "18339b5a-6a58-45f0-d81b-3983b59fb4af"
      },
      "execution_count": 53,
      "outputs": [
        {
          "output_type": "execute_result",
          "data": {
            "text/plain": [
              "2    1399821\n",
              "1     109368\n",
              "3      39314\n",
              "Name: Peso del nacido vivo, dtype: int64"
            ]
          },
          "metadata": {},
          "execution_count": 53
        }
      ]
    },
    {
      "cell_type": "code",
      "source": [
        "# Con MCF\n",
        "df[df[\"MCC-General\"] == 1][key].value_counts()"
      ],
      "metadata": {
        "id": "eu7GuI77nFAU",
        "colab": {
          "base_uri": "https://localhost:8080/"
        },
        "outputId": "7be51a57-423b-43e8-c724-b164a7ac4bda"
      },
      "execution_count": 54,
      "outputs": [
        {
          "output_type": "execute_result",
          "data": {
            "text/plain": [
              "2    2840\n",
              "1     438\n",
              "3      68\n",
              "Name: Peso del nacido vivo, dtype: int64"
            ]
          },
          "metadata": {},
          "execution_count": 54
        }
      ]
    },
    {
      "cell_type": "markdown",
      "source": [
        "# Puntaje escala APGAR a los 5 minutos de recien nacido con MCF APGAR\n",
        "* Normal 7-10 puntos\n",
        "* Depresion moderada 4-6 puntos\n",
        "* Depresion severa 0-3 puntos"
      ],
      "metadata": {
        "id": "lHQAqlNDzzNx"
      }
    },
    {
      "cell_type": "code",
      "source": [
        "etiqueta = 'APGAR'\n",
        "key = \"Puntaje apgar\"\n",
        "df[key] = None\n",
        "df[key].mask((df[etiqueta] >= 7) & (df[etiqueta] <= 10), 1, inplace=True)\n",
        "df[key].mask((df[etiqueta] >= 4) & (df[etiqueta] <= 6), 2, inplace=True)\n",
        "df[key].mask((df[etiqueta] >= 0) & (df[etiqueta] <= 3), 3, inplace=True)\n",
        "df[key].mask((df[etiqueta] == 99), 4, inplace=True)\n",
        "df[key].value_counts()"
      ],
      "metadata": {
        "id": "7AVDt77-77gS",
        "colab": {
          "base_uri": "https://localhost:8080/"
        },
        "outputId": "3e328b21-dba5-4777-9340-e5e95cfc9f66"
      },
      "execution_count": 55,
      "outputs": [
        {
          "output_type": "execute_result",
          "data": {
            "text/plain": [
              "1    1610482\n",
              "3      11540\n",
              "4      10646\n",
              "2       6811\n",
              "Name: Puntaje apgar, dtype: int64"
            ]
          },
          "metadata": {},
          "execution_count": 55
        }
      ]
    },
    {
      "cell_type": "code",
      "source": [
        "# Con MCF\n",
        "df[df[\"MCC-General\"] == 1][key].value_counts()"
      ],
      "metadata": {
        "id": "opatHdlinLLG",
        "colab": {
          "base_uri": "https://localhost:8080/"
        },
        "outputId": "1f85424b-8459-46bc-b841-1a71fa15f053"
      },
      "execution_count": 56,
      "outputs": [
        {
          "output_type": "execute_result",
          "data": {
            "text/plain": [
              "1    3512\n",
              "2      58\n",
              "3      47\n",
              "4      13\n",
              "Name: Puntaje apgar, dtype: int64"
            ]
          },
          "metadata": {},
          "execution_count": 56
        }
      ]
    },
    {
      "cell_type": "markdown",
      "source": [
        "# Puntaje escala Silverman Anderson en recien nacidos con MCF SILVERMAN\n",
        "* sin dificultad respiratoria\n",
        "* dificultad respiratoria leve 1-3 puntos\n",
        "* dificultad respiratoria moderada 4-6 puntos\n",
        "* dificultad respiratoria severa 7-10 puntos"
      ],
      "metadata": {
        "id": "ZOcCSIww0j-W"
      }
    },
    {
      "cell_type": "code",
      "source": [
        "etiqueta = 'SILVERMAN'\n",
        "key = \"Puntaje silverman\"\n",
        "df[key] = None\n",
        "df[key].mask(df[etiqueta] == 0, 0, inplace=True)\n",
        "df[key].mask((df[etiqueta] >= 1) & (df[etiqueta] <= 3), 1, inplace=True)\n",
        "df[key].mask((df[etiqueta] >= 4) & (df[etiqueta] <= 6), 2, inplace=True)\n",
        "df[key].mask((df[etiqueta] >= 7) & (df[etiqueta] <= 10), 3, inplace=True)\n",
        "df[key].mask((df[etiqueta] == 99), 4, inplace=True)\n",
        "df[key].value_counts()"
      ],
      "metadata": {
        "id": "LN-RMnxe8bAa",
        "colab": {
          "base_uri": "https://localhost:8080/"
        },
        "outputId": "7ab7640f-c732-43b4-8bf5-6ca0da35c32b"
      },
      "execution_count": 57,
      "outputs": [
        {
          "output_type": "execute_result",
          "data": {
            "text/plain": [
              "0    1451035\n",
              "1     152351\n",
              "3      14874\n",
              "4      12169\n",
              "2       9050\n",
              "Name: Puntaje silverman, dtype: int64"
            ]
          },
          "metadata": {},
          "execution_count": 57
        }
      ]
    },
    {
      "cell_type": "code",
      "source": [
        "# Con MCF\n",
        "df[df[\"MCC-General\"] == 1][key].value_counts()"
      ],
      "metadata": {
        "id": "lZRkwHAG2TJz",
        "colab": {
          "base_uri": "https://localhost:8080/"
        },
        "outputId": "030a6a8f-6ff2-47d5-9456-0f51e5b2336b"
      },
      "execution_count": 58,
      "outputs": [
        {
          "output_type": "execute_result",
          "data": {
            "text/plain": [
              "0    2915\n",
              "1     609\n",
              "2      65\n",
              "4      22\n",
              "3      19\n",
              "Name: Puntaje silverman, dtype: int64"
            ]
          },
          "metadata": {},
          "execution_count": 58
        }
      ]
    },
    {
      "cell_type": "markdown",
      "source": [
        "# Procedimiento utilizado para resolucion del embarazo RESOLUCIONEMBARAZO\n",
        "\n",
        "* eutocico 1 (1)\n",
        "* distocico 2 (2)\n",
        "* cesarea 3 (3)\n",
        "* otro 8 (4)\n",
        "* no especificado 0 (5)"
      ],
      "metadata": {
        "id": "vAjVNQj-2PBb"
      }
    },
    {
      "cell_type": "code",
      "source": [
        "etiqueta = 'RESOLUCIONEMBARAZO'\n",
        "key = \"Procedimiento para resolucion\"\n",
        "df[key] = None\n",
        "df[key].mask(df[etiqueta] == 1, 1, inplace=True)\n",
        "df[key].mask(df[etiqueta] == 2, 2, inplace=True)\n",
        "df[key].mask(df[etiqueta] == 3, 3, inplace=True)\n",
        "df[key].mask(df[etiqueta] == 8, 4, inplace=True)\n",
        "df[key].mask(df[etiqueta] == 0, 5, inplace=True)\n",
        "\n",
        "df[key].value_counts()"
      ],
      "metadata": {
        "id": "J6OdfDbk_tfN",
        "colab": {
          "base_uri": "https://localhost:8080/"
        },
        "outputId": "b00f6ff5-bad8-44c8-edbb-a2b89b5d82e3"
      },
      "execution_count": 59,
      "outputs": [
        {
          "output_type": "execute_result",
          "data": {
            "text/plain": [
              "3    843729\n",
              "1    766944\n",
              "2     17713\n",
              "5     10484\n",
              "4       609\n",
              "Name: Procedimiento para resolucion, dtype: int64"
            ]
          },
          "metadata": {},
          "execution_count": 59
        }
      ]
    },
    {
      "cell_type": "code",
      "source": [
        "# Con MCF\n",
        "df[df[\"MCC-General\"] == 1][key].value_counts()"
      ],
      "metadata": {
        "id": "rR2yb2YJ2T51",
        "colab": {
          "base_uri": "https://localhost:8080/"
        },
        "outputId": "5a498025-b7f8-40e2-d7cd-150a2d28a6b4"
      },
      "execution_count": 60,
      "outputs": [
        {
          "output_type": "execute_result",
          "data": {
            "text/plain": [
              "3    2070\n",
              "1    1485\n",
              "2      42\n",
              "5      27\n",
              "4       6\n",
              "Name: Procedimiento para resolucion, dtype: int64"
            ]
          },
          "metadata": {},
          "execution_count": 60
        }
      ]
    },
    {
      "cell_type": "markdown",
      "source": [
        "# FECHANACIMIENTO\n",
        "Actualizar para solo usar el mes y el año\n",
        "\n",
        "Sería\n",
        "- 2018 (1)\n",
        "- 2019 (2)\n",
        "- 2020 (3)\n",
        "- 2021 (4)\n",
        "- 2022 (5)"
      ],
      "metadata": {
        "id": "4K1Qzsfr7gzY"
      }
    },
    {
      "cell_type": "code",
      "source": [
        "etiqueta = 'FECHANACIMIENTO'\n",
        "df[etiqueta]"
      ],
      "metadata": {
        "colab": {
          "base_uri": "https://localhost:8080/"
        },
        "id": "3e6O-Z1B7gVE",
        "outputId": "555bf851-9a52-4f4e-ea7d-94bd0b69d56f"
      },
      "execution_count": 61,
      "outputs": [
        {
          "output_type": "execute_result",
          "data": {
            "text/plain": [
              "0          05/01/2021\n",
              "1          04/01/2021\n",
              "2          26/01/2021\n",
              "3          05/02/2021\n",
              "4          02/02/2021\n",
              "              ...    \n",
              "1639474    23/09/2021\n",
              "1639475    14/11/2021\n",
              "1639476    11/02/2021\n",
              "1639477    17/02/2021\n",
              "1639478    21/09/2021\n",
              "Name: FECHANACIMIENTO, Length: 1639479, dtype: object"
            ]
          },
          "metadata": {},
          "execution_count": 61
        }
      ]
    },
    {
      "cell_type": "code",
      "source": [
        "etiqueta = 'fecha nacimiento'\n",
        "df[etiqueta] = pd.to_datetime(df['FECHANACIMIENTO'], format='%d/%m/%Y').dt.strftime('%m/%Y')\n",
        "key = 'Year'\n",
        "format = '01/01/' + year\n",
        "df[key] = None\n",
        "df[key].mask(df[etiqueta] >= format, year_key[year], inplace=True)\n",
        "df[key].value_counts()"
      ],
      "metadata": {
        "colab": {
          "base_uri": "https://localhost:8080/"
        },
        "id": "yLwR5rSw8HK_",
        "outputId": "50f6961b-a7b5-4312-f30f-f5d78ca0ad30"
      },
      "execution_count": 62,
      "outputs": [
        {
          "output_type": "execute_result",
          "data": {
            "text/plain": [
              "4    1639479\n",
              "Name: Year, dtype: int64"
            ]
          },
          "metadata": {},
          "execution_count": 62
        }
      ]
    },
    {
      "cell_type": "code",
      "source": [
        "fileName = '/content/drive/My Drive/Colab Notebooks/miriam/' + year + '_nacimientos_clean.csv'\n",
        "df.to_csv(fileName, index=False)"
      ],
      "metadata": {
        "id": "MblUg8Ik4E75"
      },
      "execution_count": 63,
      "outputs": []
    },
    {
      "cell_type": "markdown",
      "source": [
        "# Analisis de datos"
      ],
      "metadata": {
        "id": "fAJb6NvvPBgF"
      }
    },
    {
      "cell_type": "code",
      "source": [
        "df['EDAD'].replace([999, 888], None)\n",
        "df['NUMEROEMBARAZOS'].replace([99], None)\n",
        "df['HIJOSNACIDOSMUERTOS'].replace([99], None)\n",
        "df['ATENCIONPRENATAL'].replace([9], None)\n",
        "df['TRIMESTREPRIMERCONSULTA'].replace([9], None)\n",
        "df['TOTALCONSULTAS'].replace([99], None)\n",
        "df['SOBREVIVIOPARTO'].replace([9], None)\n",
        "df['ESCOLARIDAD'].replace([999], None)\n",
        "df['SEXO'].replace([99], None)\n",
        "df['EDADGESTACIONAL'].replace([99], None)\n",
        "df['TALLA'].replace([99], None)\n",
        "df['PESO'].replace([9999], None)\n",
        "df['TALLA'].replace([9], None)\n",
        "df['APGAR'].replace([99], None)\n",
        "df['SILVERMAN'].replace([99], None)"
      ],
      "metadata": {
        "colab": {
          "base_uri": "https://localhost:8080/"
        },
        "id": "aGP9TrdjavJ1",
        "outputId": "503034ef-4cf9-43fc-88f8-e1b7a87e3445"
      },
      "execution_count": 64,
      "outputs": [
        {
          "output_type": "execute_result",
          "data": {
            "text/plain": [
              "0          1\n",
              "1          1\n",
              "2          0\n",
              "3          0\n",
              "4          0\n",
              "          ..\n",
              "1639474    0\n",
              "1639475    0\n",
              "1639476    1\n",
              "1639477    0\n",
              "1639478    0\n",
              "Name: SILVERMAN, Length: 1639479, dtype: object"
            ]
          },
          "metadata": {},
          "execution_count": 64
        }
      ]
    },
    {
      "cell_type": "markdown",
      "source": [
        "### Pacientes con MCF"
      ],
      "metadata": {
        "id": "MkeRvlDpInnx"
      }
    },
    {
      "cell_type": "code",
      "source": [
        "label = \"MCC-General\"\n",
        "df[df[label] == 1].describe().applymap('{:,.2f}'.format)"
      ],
      "metadata": {
        "colab": {
          "base_uri": "https://localhost:8080/",
          "height": 367
        },
        "id": "JrdDLCD5PWXS",
        "outputId": "0d9fc905-9ace-4d1a-8e9a-4e26f04e1b1a"
      },
      "execution_count": 65,
      "outputs": [
        {
          "output_type": "execute_result",
          "data": {
            "text/plain": [
              "           EDAD NUMEROEMBARAZOS HIJOSNACIDOSMUERTOS ATENCIONPRENATAL  \\\n",
              "count  3,630.00        3,630.00            3,630.00         3,630.00   \n",
              "mean      26.96            2.30                0.29             1.05   \n",
              "std       17.45            1.37                1.74             0.44   \n",
              "min       12.00            1.00                0.00             0.00   \n",
              "25%       21.00            1.00                0.00             1.00   \n",
              "50%       26.00            2.00                0.00             1.00   \n",
              "75%       31.00            3.00                0.00             1.00   \n",
              "max      999.00           13.00               99.00             9.00   \n",
              "\n",
              "      TRIMESTREPRIMERCONSULTA TOTALCONSULTAS SOBREVIVIOPARTO ESCOLARIDAD  \\\n",
              "count                3,630.00       3,608.00        3,630.00    3,630.00   \n",
              "mean                     1.39           7.94            1.00       60.80   \n",
              "std                      1.20           8.46            0.03       19.61   \n",
              "min                      0.00           0.00            0.00        0.00   \n",
              "25%                      1.00           5.00            1.00       51.00   \n",
              "50%                      1.00           7.00            1.00       71.00   \n",
              "75%                      1.00           9.00            1.00       72.00   \n",
              "max                      9.00          99.00            1.00      132.00   \n",
              "\n",
              "           SEXO EDADGESTACIONAL  ...      PESO     APGAR SILVERMAN  \\\n",
              "count  3,630.00        3,630.00  ...  3,630.00  3,630.00  3,630.00   \n",
              "mean       1.46           38.17  ...  3,555.51      9.06      0.99   \n",
              "std        0.50            2.75  ...  1,952.11      5.50      7.73   \n",
              "min        0.00           21.00  ...    400.00      0.00      0.00   \n",
              "25%        1.00           37.00  ...  2,770.00      9.00      0.00   \n",
              "50%        1.00           39.00  ...  3,100.00      9.00      0.00   \n",
              "75%        2.00           40.00  ...  3,460.00      9.00      0.00   \n",
              "max        2.00           99.00  ...  9,999.00     99.00     99.00   \n",
              "\n",
              "      PRODUCTOEMBARAZO RESOLUCIONEMBARAZO ENTIDADFEDERATIVAPARTO MCC-General  \\\n",
              "count         3,630.00           3,630.00               3,630.00    3,630.00   \n",
              "mean              1.01               2.16                  16.53        1.00   \n",
              "std               0.14               1.02                   8.31        0.00   \n",
              "min               0.00               0.00                   1.00        1.00   \n",
              "25%               1.00               1.00                  10.25        1.00   \n",
              "50%               1.00               3.00                  15.00        1.00   \n",
              "75%               1.00               3.00                  22.00        1.00   \n",
              "max               3.00               8.00                  32.00        1.00   \n",
              "\n",
              "            MC-1       MC-2       MC-G  \n",
              "count   3,630.00   3,630.00   3,630.00  \n",
              "mean    3,948.11   1,155.16   5,103.27  \n",
              "std     4,859.58   3,175.79   6,379.63  \n",
              "min         0.00       0.00       1.00  \n",
              "25%        10.00       0.00      10.00  \n",
              "50%        10.00       0.00     100.00  \n",
              "75%    10,000.00      10.00  10,000.00  \n",
              "max    10,000.00  10,000.00  20,000.00  \n",
              "\n",
              "[8 rows x 21 columns]"
            ],
            "text/html": [
              "\n",
              "  <div id=\"df-f660cdbd-a5be-4d1d-865c-306f2062cc8b\" class=\"colab-df-container\">\n",
              "    <div>\n",
              "<style scoped>\n",
              "    .dataframe tbody tr th:only-of-type {\n",
              "        vertical-align: middle;\n",
              "    }\n",
              "\n",
              "    .dataframe tbody tr th {\n",
              "        vertical-align: top;\n",
              "    }\n",
              "\n",
              "    .dataframe thead th {\n",
              "        text-align: right;\n",
              "    }\n",
              "</style>\n",
              "<table border=\"1\" class=\"dataframe\">\n",
              "  <thead>\n",
              "    <tr style=\"text-align: right;\">\n",
              "      <th></th>\n",
              "      <th>EDAD</th>\n",
              "      <th>NUMEROEMBARAZOS</th>\n",
              "      <th>HIJOSNACIDOSMUERTOS</th>\n",
              "      <th>ATENCIONPRENATAL</th>\n",
              "      <th>TRIMESTREPRIMERCONSULTA</th>\n",
              "      <th>TOTALCONSULTAS</th>\n",
              "      <th>SOBREVIVIOPARTO</th>\n",
              "      <th>ESCOLARIDAD</th>\n",
              "      <th>SEXO</th>\n",
              "      <th>EDADGESTACIONAL</th>\n",
              "      <th>...</th>\n",
              "      <th>PESO</th>\n",
              "      <th>APGAR</th>\n",
              "      <th>SILVERMAN</th>\n",
              "      <th>PRODUCTOEMBARAZO</th>\n",
              "      <th>RESOLUCIONEMBARAZO</th>\n",
              "      <th>ENTIDADFEDERATIVAPARTO</th>\n",
              "      <th>MCC-General</th>\n",
              "      <th>MC-1</th>\n",
              "      <th>MC-2</th>\n",
              "      <th>MC-G</th>\n",
              "    </tr>\n",
              "  </thead>\n",
              "  <tbody>\n",
              "    <tr>\n",
              "      <th>count</th>\n",
              "      <td>3,630.00</td>\n",
              "      <td>3,630.00</td>\n",
              "      <td>3,630.00</td>\n",
              "      <td>3,630.00</td>\n",
              "      <td>3,630.00</td>\n",
              "      <td>3,608.00</td>\n",
              "      <td>3,630.00</td>\n",
              "      <td>3,630.00</td>\n",
              "      <td>3,630.00</td>\n",
              "      <td>3,630.00</td>\n",
              "      <td>...</td>\n",
              "      <td>3,630.00</td>\n",
              "      <td>3,630.00</td>\n",
              "      <td>3,630.00</td>\n",
              "      <td>3,630.00</td>\n",
              "      <td>3,630.00</td>\n",
              "      <td>3,630.00</td>\n",
              "      <td>3,630.00</td>\n",
              "      <td>3,630.00</td>\n",
              "      <td>3,630.00</td>\n",
              "      <td>3,630.00</td>\n",
              "    </tr>\n",
              "    <tr>\n",
              "      <th>mean</th>\n",
              "      <td>26.96</td>\n",
              "      <td>2.30</td>\n",
              "      <td>0.29</td>\n",
              "      <td>1.05</td>\n",
              "      <td>1.39</td>\n",
              "      <td>7.94</td>\n",
              "      <td>1.00</td>\n",
              "      <td>60.80</td>\n",
              "      <td>1.46</td>\n",
              "      <td>38.17</td>\n",
              "      <td>...</td>\n",
              "      <td>3,555.51</td>\n",
              "      <td>9.06</td>\n",
              "      <td>0.99</td>\n",
              "      <td>1.01</td>\n",
              "      <td>2.16</td>\n",
              "      <td>16.53</td>\n",
              "      <td>1.00</td>\n",
              "      <td>3,948.11</td>\n",
              "      <td>1,155.16</td>\n",
              "      <td>5,103.27</td>\n",
              "    </tr>\n",
              "    <tr>\n",
              "      <th>std</th>\n",
              "      <td>17.45</td>\n",
              "      <td>1.37</td>\n",
              "      <td>1.74</td>\n",
              "      <td>0.44</td>\n",
              "      <td>1.20</td>\n",
              "      <td>8.46</td>\n",
              "      <td>0.03</td>\n",
              "      <td>19.61</td>\n",
              "      <td>0.50</td>\n",
              "      <td>2.75</td>\n",
              "      <td>...</td>\n",
              "      <td>1,952.11</td>\n",
              "      <td>5.50</td>\n",
              "      <td>7.73</td>\n",
              "      <td>0.14</td>\n",
              "      <td>1.02</td>\n",
              "      <td>8.31</td>\n",
              "      <td>0.00</td>\n",
              "      <td>4,859.58</td>\n",
              "      <td>3,175.79</td>\n",
              "      <td>6,379.63</td>\n",
              "    </tr>\n",
              "    <tr>\n",
              "      <th>min</th>\n",
              "      <td>12.00</td>\n",
              "      <td>1.00</td>\n",
              "      <td>0.00</td>\n",
              "      <td>0.00</td>\n",
              "      <td>0.00</td>\n",
              "      <td>0.00</td>\n",
              "      <td>0.00</td>\n",
              "      <td>0.00</td>\n",
              "      <td>0.00</td>\n",
              "      <td>21.00</td>\n",
              "      <td>...</td>\n",
              "      <td>400.00</td>\n",
              "      <td>0.00</td>\n",
              "      <td>0.00</td>\n",
              "      <td>0.00</td>\n",
              "      <td>0.00</td>\n",
              "      <td>1.00</td>\n",
              "      <td>1.00</td>\n",
              "      <td>0.00</td>\n",
              "      <td>0.00</td>\n",
              "      <td>1.00</td>\n",
              "    </tr>\n",
              "    <tr>\n",
              "      <th>25%</th>\n",
              "      <td>21.00</td>\n",
              "      <td>1.00</td>\n",
              "      <td>0.00</td>\n",
              "      <td>1.00</td>\n",
              "      <td>1.00</td>\n",
              "      <td>5.00</td>\n",
              "      <td>1.00</td>\n",
              "      <td>51.00</td>\n",
              "      <td>1.00</td>\n",
              "      <td>37.00</td>\n",
              "      <td>...</td>\n",
              "      <td>2,770.00</td>\n",
              "      <td>9.00</td>\n",
              "      <td>0.00</td>\n",
              "      <td>1.00</td>\n",
              "      <td>1.00</td>\n",
              "      <td>10.25</td>\n",
              "      <td>1.00</td>\n",
              "      <td>10.00</td>\n",
              "      <td>0.00</td>\n",
              "      <td>10.00</td>\n",
              "    </tr>\n",
              "    <tr>\n",
              "      <th>50%</th>\n",
              "      <td>26.00</td>\n",
              "      <td>2.00</td>\n",
              "      <td>0.00</td>\n",
              "      <td>1.00</td>\n",
              "      <td>1.00</td>\n",
              "      <td>7.00</td>\n",
              "      <td>1.00</td>\n",
              "      <td>71.00</td>\n",
              "      <td>1.00</td>\n",
              "      <td>39.00</td>\n",
              "      <td>...</td>\n",
              "      <td>3,100.00</td>\n",
              "      <td>9.00</td>\n",
              "      <td>0.00</td>\n",
              "      <td>1.00</td>\n",
              "      <td>3.00</td>\n",
              "      <td>15.00</td>\n",
              "      <td>1.00</td>\n",
              "      <td>10.00</td>\n",
              "      <td>0.00</td>\n",
              "      <td>100.00</td>\n",
              "    </tr>\n",
              "    <tr>\n",
              "      <th>75%</th>\n",
              "      <td>31.00</td>\n",
              "      <td>3.00</td>\n",
              "      <td>0.00</td>\n",
              "      <td>1.00</td>\n",
              "      <td>1.00</td>\n",
              "      <td>9.00</td>\n",
              "      <td>1.00</td>\n",
              "      <td>72.00</td>\n",
              "      <td>2.00</td>\n",
              "      <td>40.00</td>\n",
              "      <td>...</td>\n",
              "      <td>3,460.00</td>\n",
              "      <td>9.00</td>\n",
              "      <td>0.00</td>\n",
              "      <td>1.00</td>\n",
              "      <td>3.00</td>\n",
              "      <td>22.00</td>\n",
              "      <td>1.00</td>\n",
              "      <td>10,000.00</td>\n",
              "      <td>10.00</td>\n",
              "      <td>10,000.00</td>\n",
              "    </tr>\n",
              "    <tr>\n",
              "      <th>max</th>\n",
              "      <td>999.00</td>\n",
              "      <td>13.00</td>\n",
              "      <td>99.00</td>\n",
              "      <td>9.00</td>\n",
              "      <td>9.00</td>\n",
              "      <td>99.00</td>\n",
              "      <td>1.00</td>\n",
              "      <td>132.00</td>\n",
              "      <td>2.00</td>\n",
              "      <td>99.00</td>\n",
              "      <td>...</td>\n",
              "      <td>9,999.00</td>\n",
              "      <td>99.00</td>\n",
              "      <td>99.00</td>\n",
              "      <td>3.00</td>\n",
              "      <td>8.00</td>\n",
              "      <td>32.00</td>\n",
              "      <td>1.00</td>\n",
              "      <td>10,000.00</td>\n",
              "      <td>10,000.00</td>\n",
              "      <td>20,000.00</td>\n",
              "    </tr>\n",
              "  </tbody>\n",
              "</table>\n",
              "<p>8 rows × 21 columns</p>\n",
              "</div>\n",
              "    <div class=\"colab-df-buttons\">\n",
              "\n",
              "  <div class=\"colab-df-container\">\n",
              "    <button class=\"colab-df-convert\" onclick=\"convertToInteractive('df-f660cdbd-a5be-4d1d-865c-306f2062cc8b')\"\n",
              "            title=\"Convert this dataframe to an interactive table.\"\n",
              "            style=\"display:none;\">\n",
              "\n",
              "  <svg xmlns=\"http://www.w3.org/2000/svg\" height=\"24px\" viewBox=\"0 -960 960 960\">\n",
              "    <path d=\"M120-120v-720h720v720H120Zm60-500h600v-160H180v160Zm220 220h160v-160H400v160Zm0 220h160v-160H400v160ZM180-400h160v-160H180v160Zm440 0h160v-160H620v160ZM180-180h160v-160H180v160Zm440 0h160v-160H620v160Z\"/>\n",
              "  </svg>\n",
              "    </button>\n",
              "\n",
              "  <style>\n",
              "    .colab-df-container {\n",
              "      display:flex;\n",
              "      gap: 12px;\n",
              "    }\n",
              "\n",
              "    .colab-df-convert {\n",
              "      background-color: #E8F0FE;\n",
              "      border: none;\n",
              "      border-radius: 50%;\n",
              "      cursor: pointer;\n",
              "      display: none;\n",
              "      fill: #1967D2;\n",
              "      height: 32px;\n",
              "      padding: 0 0 0 0;\n",
              "      width: 32px;\n",
              "    }\n",
              "\n",
              "    .colab-df-convert:hover {\n",
              "      background-color: #E2EBFA;\n",
              "      box-shadow: 0px 1px 2px rgba(60, 64, 67, 0.3), 0px 1px 3px 1px rgba(60, 64, 67, 0.15);\n",
              "      fill: #174EA6;\n",
              "    }\n",
              "\n",
              "    .colab-df-buttons div {\n",
              "      margin-bottom: 4px;\n",
              "    }\n",
              "\n",
              "    [theme=dark] .colab-df-convert {\n",
              "      background-color: #3B4455;\n",
              "      fill: #D2E3FC;\n",
              "    }\n",
              "\n",
              "    [theme=dark] .colab-df-convert:hover {\n",
              "      background-color: #434B5C;\n",
              "      box-shadow: 0px 1px 3px 1px rgba(0, 0, 0, 0.15);\n",
              "      filter: drop-shadow(0px 1px 2px rgba(0, 0, 0, 0.3));\n",
              "      fill: #FFFFFF;\n",
              "    }\n",
              "  </style>\n",
              "\n",
              "    <script>\n",
              "      const buttonEl =\n",
              "        document.querySelector('#df-f660cdbd-a5be-4d1d-865c-306f2062cc8b button.colab-df-convert');\n",
              "      buttonEl.style.display =\n",
              "        google.colab.kernel.accessAllowed ? 'block' : 'none';\n",
              "\n",
              "      async function convertToInteractive(key) {\n",
              "        const element = document.querySelector('#df-f660cdbd-a5be-4d1d-865c-306f2062cc8b');\n",
              "        const dataTable =\n",
              "          await google.colab.kernel.invokeFunction('convertToInteractive',\n",
              "                                                    [key], {});\n",
              "        if (!dataTable) return;\n",
              "\n",
              "        const docLinkHtml = 'Like what you see? Visit the ' +\n",
              "          '<a target=\"_blank\" href=https://colab.research.google.com/notebooks/data_table.ipynb>data table notebook</a>'\n",
              "          + ' to learn more about interactive tables.';\n",
              "        element.innerHTML = '';\n",
              "        dataTable['output_type'] = 'display_data';\n",
              "        await google.colab.output.renderOutput(dataTable, element);\n",
              "        const docLink = document.createElement('div');\n",
              "        docLink.innerHTML = docLinkHtml;\n",
              "        element.appendChild(docLink);\n",
              "      }\n",
              "    </script>\n",
              "  </div>\n",
              "\n",
              "\n",
              "<div id=\"df-f768d092-697f-42a9-8e97-cf37de6c1761\">\n",
              "  <button class=\"colab-df-quickchart\" onclick=\"quickchart('df-f768d092-697f-42a9-8e97-cf37de6c1761')\"\n",
              "            title=\"Suggest charts\"\n",
              "            style=\"display:none;\">\n",
              "\n",
              "<svg xmlns=\"http://www.w3.org/2000/svg\" height=\"24px\"viewBox=\"0 0 24 24\"\n",
              "     width=\"24px\">\n",
              "    <g>\n",
              "        <path d=\"M19 3H5c-1.1 0-2 .9-2 2v14c0 1.1.9 2 2 2h14c1.1 0 2-.9 2-2V5c0-1.1-.9-2-2-2zM9 17H7v-7h2v7zm4 0h-2V7h2v10zm4 0h-2v-4h2v4z\"/>\n",
              "    </g>\n",
              "</svg>\n",
              "  </button>\n",
              "\n",
              "<style>\n",
              "  .colab-df-quickchart {\n",
              "      --bg-color: #E8F0FE;\n",
              "      --fill-color: #1967D2;\n",
              "      --hover-bg-color: #E2EBFA;\n",
              "      --hover-fill-color: #174EA6;\n",
              "      --disabled-fill-color: #AAA;\n",
              "      --disabled-bg-color: #DDD;\n",
              "  }\n",
              "\n",
              "  [theme=dark] .colab-df-quickchart {\n",
              "      --bg-color: #3B4455;\n",
              "      --fill-color: #D2E3FC;\n",
              "      --hover-bg-color: #434B5C;\n",
              "      --hover-fill-color: #FFFFFF;\n",
              "      --disabled-bg-color: #3B4455;\n",
              "      --disabled-fill-color: #666;\n",
              "  }\n",
              "\n",
              "  .colab-df-quickchart {\n",
              "    background-color: var(--bg-color);\n",
              "    border: none;\n",
              "    border-radius: 50%;\n",
              "    cursor: pointer;\n",
              "    display: none;\n",
              "    fill: var(--fill-color);\n",
              "    height: 32px;\n",
              "    padding: 0;\n",
              "    width: 32px;\n",
              "  }\n",
              "\n",
              "  .colab-df-quickchart:hover {\n",
              "    background-color: var(--hover-bg-color);\n",
              "    box-shadow: 0 1px 2px rgba(60, 64, 67, 0.3), 0 1px 3px 1px rgba(60, 64, 67, 0.15);\n",
              "    fill: var(--button-hover-fill-color);\n",
              "  }\n",
              "\n",
              "  .colab-df-quickchart-complete:disabled,\n",
              "  .colab-df-quickchart-complete:disabled:hover {\n",
              "    background-color: var(--disabled-bg-color);\n",
              "    fill: var(--disabled-fill-color);\n",
              "    box-shadow: none;\n",
              "  }\n",
              "\n",
              "  .colab-df-spinner {\n",
              "    border: 2px solid var(--fill-color);\n",
              "    border-color: transparent;\n",
              "    border-bottom-color: var(--fill-color);\n",
              "    animation:\n",
              "      spin 1s steps(1) infinite;\n",
              "  }\n",
              "\n",
              "  @keyframes spin {\n",
              "    0% {\n",
              "      border-color: transparent;\n",
              "      border-bottom-color: var(--fill-color);\n",
              "      border-left-color: var(--fill-color);\n",
              "    }\n",
              "    20% {\n",
              "      border-color: transparent;\n",
              "      border-left-color: var(--fill-color);\n",
              "      border-top-color: var(--fill-color);\n",
              "    }\n",
              "    30% {\n",
              "      border-color: transparent;\n",
              "      border-left-color: var(--fill-color);\n",
              "      border-top-color: var(--fill-color);\n",
              "      border-right-color: var(--fill-color);\n",
              "    }\n",
              "    40% {\n",
              "      border-color: transparent;\n",
              "      border-right-color: var(--fill-color);\n",
              "      border-top-color: var(--fill-color);\n",
              "    }\n",
              "    60% {\n",
              "      border-color: transparent;\n",
              "      border-right-color: var(--fill-color);\n",
              "    }\n",
              "    80% {\n",
              "      border-color: transparent;\n",
              "      border-right-color: var(--fill-color);\n",
              "      border-bottom-color: var(--fill-color);\n",
              "    }\n",
              "    90% {\n",
              "      border-color: transparent;\n",
              "      border-bottom-color: var(--fill-color);\n",
              "    }\n",
              "  }\n",
              "</style>\n",
              "\n",
              "  <script>\n",
              "    async function quickchart(key) {\n",
              "      const quickchartButtonEl =\n",
              "        document.querySelector('#' + key + ' button');\n",
              "      quickchartButtonEl.disabled = true;  // To prevent multiple clicks.\n",
              "      quickchartButtonEl.classList.add('colab-df-spinner');\n",
              "      try {\n",
              "        const charts = await google.colab.kernel.invokeFunction(\n",
              "            'suggestCharts', [key], {});\n",
              "      } catch (error) {\n",
              "        console.error('Error during call to suggestCharts:', error);\n",
              "      }\n",
              "      quickchartButtonEl.classList.remove('colab-df-spinner');\n",
              "      quickchartButtonEl.classList.add('colab-df-quickchart-complete');\n",
              "    }\n",
              "    (() => {\n",
              "      let quickchartButtonEl =\n",
              "        document.querySelector('#df-f768d092-697f-42a9-8e97-cf37de6c1761 button');\n",
              "      quickchartButtonEl.style.display =\n",
              "        google.colab.kernel.accessAllowed ? 'block' : 'none';\n",
              "    })();\n",
              "  </script>\n",
              "</div>\n",
              "\n",
              "    </div>\n",
              "  </div>\n"
            ]
          },
          "metadata": {},
          "execution_count": 65
        }
      ]
    },
    {
      "cell_type": "code",
      "source": [
        "df[df[label] == 1].mode(numeric_only=True)"
      ],
      "metadata": {
        "colab": {
          "base_uri": "https://localhost:8080/",
          "height": 147
        },
        "id": "cJGSo5JbPDUk",
        "outputId": "4b34135b-c01d-46ee-ae5a-a801eb916616"
      },
      "execution_count": 66,
      "outputs": [
        {
          "output_type": "execute_result",
          "data": {
            "text/plain": [
              "   EDAD  NUMEROEMBARAZOS  HIJOSNACIDOSMUERTOS  ATENCIONPRENATAL  \\\n",
              "0    21                1                    0                 1   \n",
              "\n",
              "   TRIMESTREPRIMERCONSULTA  TOTALCONSULTAS  SOBREVIVIOPARTO  ESCOLARIDAD  \\\n",
              "0                        1             8.0                1           51   \n",
              "\n",
              "   SEXO  EDADGESTACIONAL  ...  PESO  APGAR  SILVERMAN  PRODUCTOEMBARAZO  \\\n",
              "0     1               39  ...  9999      9          0                 1   \n",
              "\n",
              "   RESOLUCIONEMBARAZO  ENTIDADFEDERATIVAPARTO  MCC-General  MC-1  MC-2  MC-G  \n",
              "0                   3                      15          1.0    10     0    10  \n",
              "\n",
              "[1 rows x 21 columns]"
            ],
            "text/html": [
              "\n",
              "  <div id=\"df-775c940f-a55b-4957-85d0-97d8f7ae0a9d\" class=\"colab-df-container\">\n",
              "    <div>\n",
              "<style scoped>\n",
              "    .dataframe tbody tr th:only-of-type {\n",
              "        vertical-align: middle;\n",
              "    }\n",
              "\n",
              "    .dataframe tbody tr th {\n",
              "        vertical-align: top;\n",
              "    }\n",
              "\n",
              "    .dataframe thead th {\n",
              "        text-align: right;\n",
              "    }\n",
              "</style>\n",
              "<table border=\"1\" class=\"dataframe\">\n",
              "  <thead>\n",
              "    <tr style=\"text-align: right;\">\n",
              "      <th></th>\n",
              "      <th>EDAD</th>\n",
              "      <th>NUMEROEMBARAZOS</th>\n",
              "      <th>HIJOSNACIDOSMUERTOS</th>\n",
              "      <th>ATENCIONPRENATAL</th>\n",
              "      <th>TRIMESTREPRIMERCONSULTA</th>\n",
              "      <th>TOTALCONSULTAS</th>\n",
              "      <th>SOBREVIVIOPARTO</th>\n",
              "      <th>ESCOLARIDAD</th>\n",
              "      <th>SEXO</th>\n",
              "      <th>EDADGESTACIONAL</th>\n",
              "      <th>...</th>\n",
              "      <th>PESO</th>\n",
              "      <th>APGAR</th>\n",
              "      <th>SILVERMAN</th>\n",
              "      <th>PRODUCTOEMBARAZO</th>\n",
              "      <th>RESOLUCIONEMBARAZO</th>\n",
              "      <th>ENTIDADFEDERATIVAPARTO</th>\n",
              "      <th>MCC-General</th>\n",
              "      <th>MC-1</th>\n",
              "      <th>MC-2</th>\n",
              "      <th>MC-G</th>\n",
              "    </tr>\n",
              "  </thead>\n",
              "  <tbody>\n",
              "    <tr>\n",
              "      <th>0</th>\n",
              "      <td>21</td>\n",
              "      <td>1</td>\n",
              "      <td>0</td>\n",
              "      <td>1</td>\n",
              "      <td>1</td>\n",
              "      <td>8.0</td>\n",
              "      <td>1</td>\n",
              "      <td>51</td>\n",
              "      <td>1</td>\n",
              "      <td>39</td>\n",
              "      <td>...</td>\n",
              "      <td>9999</td>\n",
              "      <td>9</td>\n",
              "      <td>0</td>\n",
              "      <td>1</td>\n",
              "      <td>3</td>\n",
              "      <td>15</td>\n",
              "      <td>1.0</td>\n",
              "      <td>10</td>\n",
              "      <td>0</td>\n",
              "      <td>10</td>\n",
              "    </tr>\n",
              "  </tbody>\n",
              "</table>\n",
              "<p>1 rows × 21 columns</p>\n",
              "</div>\n",
              "    <div class=\"colab-df-buttons\">\n",
              "\n",
              "  <div class=\"colab-df-container\">\n",
              "    <button class=\"colab-df-convert\" onclick=\"convertToInteractive('df-775c940f-a55b-4957-85d0-97d8f7ae0a9d')\"\n",
              "            title=\"Convert this dataframe to an interactive table.\"\n",
              "            style=\"display:none;\">\n",
              "\n",
              "  <svg xmlns=\"http://www.w3.org/2000/svg\" height=\"24px\" viewBox=\"0 -960 960 960\">\n",
              "    <path d=\"M120-120v-720h720v720H120Zm60-500h600v-160H180v160Zm220 220h160v-160H400v160Zm0 220h160v-160H400v160ZM180-400h160v-160H180v160Zm440 0h160v-160H620v160ZM180-180h160v-160H180v160Zm440 0h160v-160H620v160Z\"/>\n",
              "  </svg>\n",
              "    </button>\n",
              "\n",
              "  <style>\n",
              "    .colab-df-container {\n",
              "      display:flex;\n",
              "      gap: 12px;\n",
              "    }\n",
              "\n",
              "    .colab-df-convert {\n",
              "      background-color: #E8F0FE;\n",
              "      border: none;\n",
              "      border-radius: 50%;\n",
              "      cursor: pointer;\n",
              "      display: none;\n",
              "      fill: #1967D2;\n",
              "      height: 32px;\n",
              "      padding: 0 0 0 0;\n",
              "      width: 32px;\n",
              "    }\n",
              "\n",
              "    .colab-df-convert:hover {\n",
              "      background-color: #E2EBFA;\n",
              "      box-shadow: 0px 1px 2px rgba(60, 64, 67, 0.3), 0px 1px 3px 1px rgba(60, 64, 67, 0.15);\n",
              "      fill: #174EA6;\n",
              "    }\n",
              "\n",
              "    .colab-df-buttons div {\n",
              "      margin-bottom: 4px;\n",
              "    }\n",
              "\n",
              "    [theme=dark] .colab-df-convert {\n",
              "      background-color: #3B4455;\n",
              "      fill: #D2E3FC;\n",
              "    }\n",
              "\n",
              "    [theme=dark] .colab-df-convert:hover {\n",
              "      background-color: #434B5C;\n",
              "      box-shadow: 0px 1px 3px 1px rgba(0, 0, 0, 0.15);\n",
              "      filter: drop-shadow(0px 1px 2px rgba(0, 0, 0, 0.3));\n",
              "      fill: #FFFFFF;\n",
              "    }\n",
              "  </style>\n",
              "\n",
              "    <script>\n",
              "      const buttonEl =\n",
              "        document.querySelector('#df-775c940f-a55b-4957-85d0-97d8f7ae0a9d button.colab-df-convert');\n",
              "      buttonEl.style.display =\n",
              "        google.colab.kernel.accessAllowed ? 'block' : 'none';\n",
              "\n",
              "      async function convertToInteractive(key) {\n",
              "        const element = document.querySelector('#df-775c940f-a55b-4957-85d0-97d8f7ae0a9d');\n",
              "        const dataTable =\n",
              "          await google.colab.kernel.invokeFunction('convertToInteractive',\n",
              "                                                    [key], {});\n",
              "        if (!dataTable) return;\n",
              "\n",
              "        const docLinkHtml = 'Like what you see? Visit the ' +\n",
              "          '<a target=\"_blank\" href=https://colab.research.google.com/notebooks/data_table.ipynb>data table notebook</a>'\n",
              "          + ' to learn more about interactive tables.';\n",
              "        element.innerHTML = '';\n",
              "        dataTable['output_type'] = 'display_data';\n",
              "        await google.colab.output.renderOutput(dataTable, element);\n",
              "        const docLink = document.createElement('div');\n",
              "        docLink.innerHTML = docLinkHtml;\n",
              "        element.appendChild(docLink);\n",
              "      }\n",
              "    </script>\n",
              "  </div>\n",
              "\n",
              "\n",
              "    </div>\n",
              "  </div>\n"
            ]
          },
          "metadata": {},
          "execution_count": 66
        }
      ]
    },
    {
      "cell_type": "markdown",
      "source": [
        "## Malformación congénita craneofacial\n",
        "- Ausente (1)\n",
        "- Presente (2)"
      ],
      "metadata": {
        "id": "2lhcjskgRM-6"
      }
    },
    {
      "cell_type": "code",
      "source": [
        "with pd.option_context('display.max_rows', None, 'display.max_columns', None):  # more options can be specified also\n",
        "    print(df[df[label] == 1].CODIGOCIEANOMALIA1.value_counts().add(df[df[label] == 1].CODIGOCIEANOMALIA2.value_counts(),fill_value=0).sort_values(ascending=False).to_markdown())"
      ],
      "metadata": {
        "colab": {
          "base_uri": "https://localhost:8080/"
        },
        "id": "siNcckXnRdZU",
        "outputId": "7b91f4d7-e74a-4455-d777-59da9bcce76f"
      },
      "execution_count": 67,
      "outputs": [
        {
          "output_type": "stream",
          "name": "stdout",
          "text": [
            "|      |    0 |\n",
            "|:-----|-----:|\n",
            "| 0000 | 2340 |\n",
            "| Q170 |  915 |\n",
            "| Q379 |  663 |\n",
            "| Q172 |  443 |\n",
            "| Q359 |  377 |\n",
            "| Q369 |  308 |\n",
            "| Q173 |  207 |\n",
            "| Q174 |  185 |\n",
            "| Q381 |  138 |\n",
            "| Q189 |   72 |\n",
            "| Q161 |   68 |\n",
            "| Q179 |   67 |\n",
            "| Q178 |   58 |\n",
            "| Q372 |   56 |\n",
            "| Q181 |   48 |\n",
            "| Q309 |   46 |\n",
            "| P128 |   44 |\n",
            "| Q385 |   35 |\n",
            "| Q375 |   34 |\n",
            "| Q103 |   33 |\n",
            "| Q160 |   33 |\n",
            "| P073 |   32 |\n",
            "| Q378 |   31 |\n",
            "| Q300 |   31 |\n",
            "| Q371 |   31 |\n",
            "| Q360 |   27 |\n",
            "| Q188 |   27 |\n",
            "| Q308 |   25 |\n",
            "| Q184 |   25 |\n",
            "| P081 |   24 |\n",
            "| Q120 |   23 |\n",
            "| Q169 |   21 |\n",
            "| Q380 |   20 |\n",
            "| Q386 |   19 |\n",
            "| Q699 |   19 |\n",
            "| P071 |   18 |\n",
            "| P229 |   16 |\n",
            "| Q370 |   15 |\n",
            "| Q105 |   15 |\n",
            "| Q897 |   15 |\n",
            "| P835 |   14 |\n",
            "| Q158 |   14 |\n",
            "| Q373 |   14 |\n",
            "| Q374 |   13 |\n",
            "| K070 |   13 |\n",
            "| Q652 |   12 |\n",
            "| Q355 |   12 |\n",
            "| Q660 |   12 |\n",
            "| Q663 |   12 |\n",
            "| Q361 |   11 |\n",
            "| Q159 |   11 |\n",
            "| Q531 |   10 |\n",
            "| Q111 |   10 |\n",
            "| Q059 |   10 |\n",
            "| Q532 |   10 |\n",
            "| Q383 |    9 |\n",
            "| Q112 |    9 |\n",
            "| Q668 |    9 |\n",
            "| Q870 |    9 |\n",
            "| Q351 |    9 |\n",
            "| Q681 |    8 |\n",
            "| Q303 |    8 |\n",
            "| Q302 |    8 |\n",
            "| Q02X |    8 |\n",
            "| 9999 |    8 |\n",
            "| Q301 |    8 |\n",
            "| P050 |    7 |\n",
            "| P220 |    7 |\n",
            "| Q752 |    7 |\n",
            "| Q423 |    7 |\n",
            "| P838 |    6 |\n",
            "| Q175 |    6 |\n",
            "| Q690 |    6 |\n",
            "| Q753 |    6 |\n",
            "| Q828 |    6 |\n",
            "| Q353 |    6 |\n",
            "| Q439 |    6 |\n",
            "| Q180 |    5 |\n",
            "| Q825 |    5 |\n",
            "| P059 |    5 |\n",
            "| Q750 |    5 |\n",
            "| Q186 |    5 |\n",
            "| Q539 |    5 |\n",
            "| Q878 |    5 |\n",
            "| Q909 |    5 |\n",
            "| Q713 |    5 |\n",
            "| P113 |    5 |\n",
            "| Q672 |    5 |\n",
            "| P969 |    5 |\n",
            "| Q164 |    4 |\n",
            "| Q171 |    4 |\n",
            "| Q384 |    4 |\n",
            "| Q758 |    4 |\n",
            "| Q658 |    4 |\n",
            "| Q390 |    4 |\n",
            "| Q709 |    4 |\n",
            "| Q249 |    4 |\n",
            "| Q000 |    4 |\n",
            "| Q039 |    4 |\n",
            "| Q682 |    3 |\n",
            "| K098 |    3 |\n",
            "| P143 |    3 |\n",
            "| P917 |    3 |\n",
            "| P121 |    3 |\n",
            "| Q213 |    3 |\n",
            "| Q692 |    3 |\n",
            "| P221 |    3 |\n",
            "| Q760 |    3 |\n",
            "| Q793 |    3 |\n",
            "| Q110 |    3 |\n",
            "| Q899 |    3 |\n",
            "| Q829 |    3 |\n",
            "| K006 |    2 |\n",
            "| Q564 |    2 |\n",
            "| P219 |    2 |\n",
            "| Q917 |    2 |\n",
            "| B07X |    2 |\n",
            "| Q382 |    2 |\n",
            "| P072 |    2 |\n",
            "| Q549 |    2 |\n",
            "| Q552 |    2 |\n",
            "| Q833 |    2 |\n",
            "| Q669 |    2 |\n",
            "| P011 |    2 |\n",
            "| Q666 |    2 |\n",
            "| Q740 |    2 |\n",
            "| Q671 |    2 |\n",
            "| Q673 |    2 |\n",
            "| Q674 |    2 |\n",
            "| P701 |    2 |\n",
            "| Q688 |    2 |\n",
            "| K429 |    2 |\n",
            "| K090 |    2 |\n",
            "| Q149 |    2 |\n",
            "| P025 |    2 |\n",
            "| Q106 |    2 |\n",
            "| Q133 |    2 |\n",
            "| Q078 |    2 |\n",
            "| Q107 |    2 |\n",
            "| Q165 |    2 |\n",
            "| Q270 |    2 |\n",
            "| Q113 |    2 |\n",
            "| Q042 |    2 |\n",
            "| Q104 |    2 |\n",
            "| Q138 |    2 |\n",
            "| Q182 |    1 |\n",
            "| K071 |    1 |\n",
            "| Q748 |    1 |\n",
            "| Q742 |    1 |\n",
            "| Q741 |    1 |\n",
            "| L813 |    1 |\n",
            "| Q012 |    1 |\n",
            "| Q738 |    1 |\n",
            "| Q723 |    1 |\n",
            "| Q183 |    1 |\n",
            "| Q676 |    1 |\n",
            "| Q677 |    1 |\n",
            "| Q716 |    1 |\n",
            "| Q714 |    1 |\n",
            "| Q048 |    1 |\n",
            "| Q043 |    1 |\n",
            "| E890 |    1 |\n",
            "| Q700 |    1 |\n",
            "| K137 |    1 |\n",
            "| L810 |    1 |\n",
            "| Q040 |    1 |\n",
            "| Q030 |    1 |\n",
            "| Q703 |    1 |\n",
            "| P721 |    1 |\n",
            "| E859 |    1 |\n",
            "| Q759 |    1 |\n",
            "| R238 |    1 |\n",
            "| R234 |    1 |\n",
            "| R220 |    1 |\n",
            "| R160 |    1 |\n",
            "| Q935 |    1 |\n",
            "| Q928 |    1 |\n",
            "| Q913 |    1 |\n",
            "| Q132 |    1 |\n",
            "| Q898 |    1 |\n",
            "| D180 |    1 |\n",
            "| D181 |    1 |\n",
            "| Q874 |    1 |\n",
            "| Q871 |    1 |\n",
            "| D222 |    1 |\n",
            "| Q868 |    1 |\n",
            "| Q840 |    1 |\n",
            "| Q838 |    1 |\n",
            "| D227 |    1 |\n",
            "| D370 |    1 |\n",
            "| Q792 |    1 |\n",
            "| Q790 |    1 |\n",
            "| Q778 |    1 |\n",
            "| Q670 |    1 |\n",
            "| Q185 |    1 |\n",
            "| Q187 |    1 |\n",
            "| Q318 |    1 |\n",
            "| P209 |    1 |\n",
            "| P942 |    1 |\n",
            "| Q388 |    1 |\n",
            "| P080 |    1 |\n",
            "| P115 |    1 |\n",
            "| Q251 |    1 |\n",
            "| P129 |    1 |\n",
            "| P138 |    1 |\n",
            "| P139 |    1 |\n",
            "| P140 |    1 |\n",
            "| P839 |    1 |\n",
            "| P155 |    1 |\n",
            "| P159 |    1 |\n",
            "| P210 |    1 |\n",
            "| P052 |    1 |\n",
            "| P211 |    1 |\n",
            "| P833 |    1 |\n",
            "| P832 |    1 |\n",
            "| P241 |    1 |\n",
            "| P399 |    1 |\n",
            "| P545 |    1 |\n",
            "| Q357 |    1 |\n",
            "| P550 |    1 |\n",
            "| P809 |    1 |\n",
            "| P704 |    1 |\n",
            "| Q348 |    1 |\n",
            "| Q330 |    1 |\n",
            "| Q399 |    1 |\n",
            "| Q436 |    1 |\n",
            "| N47X |    1 |\n",
            "| Q556 |    1 |\n",
            "| P968 |    1 |\n",
            "| Q665 |    1 |\n",
            "| P000 |    1 |\n",
            "| P001 |    1 |\n",
            "| Q659 |    1 |\n",
            "| P948 |    1 |\n",
            "| P012 |    1 |\n",
            "| Q620 |    1 |\n",
            "| Q613 |    1 |\n",
            "| Q610 |    1 |\n",
            "| Q206 |    1 |\n",
            "| Q558 |    1 |\n",
            "| Q555 |    1 |\n",
            "| P031 |    1 |\n",
            "| Q233 |    1 |\n",
            "| Q248 |    1 |\n",
            "| P019 |    1 |\n",
            "| Q139 |    1 |\n",
            "| P026 |    1 |\n",
            "| Q529 |    1 |\n",
            "| Q527 |    1 |\n",
            "| Q524 |    1 |\n",
            "| Q523 |    1 |\n",
            "| Q522 |    1 |\n",
            "| Q447 |    1 |\n",
            "| Q443 |    1 |\n",
            "| Z208 |    1 |\n"
          ]
        }
      ]
    },
    {
      "cell_type": "markdown",
      "source": [
        "## MCF Categórica\n",
        "- Oftalmológicas (1)\n",
        "- Oído (2)\n",
        "- Cara y cuello (3)\n",
        "- Nariz (4)\n",
        "- Lengua y boca (5)"
      ],
      "metadata": {
        "id": "_eaJFZetQz2Y"
      }
    },
    {
      "cell_type": "code",
      "source": [
        "label = \"MC-G2\"\n",
        "mc_value = {\n",
        "    'oftalmo': 1,\n",
        "    'oido': 2,\n",
        "    'cuello': 3,\n",
        "    'nariz': 4,\n",
        "    'boca': 5\n",
        "}"
      ],
      "metadata": {
        "id": "2rQJTeMlJ69N"
      },
      "execution_count": 68,
      "outputs": []
    },
    {
      "cell_type": "markdown",
      "source": [
        "#### Lista oftalmo"
      ],
      "metadata": {
        "id": "R7qrC4J8J3t6"
      }
    },
    {
      "cell_type": "code",
      "source": [
        "value = mc_value['oftalmo']\n",
        "a = df[df[label] == value].CODIGOCIEANOMALIA1.value_counts()\n",
        "b = df[df[label] == value].CODIGOCIEANOMALIA2.value_counts()\n",
        "with pd.option_context('display.max_rows', None, 'display.max_columns', None):  # more options can be specified also\n",
        "    print(a.add(b,fill_value=0).sort_values(ascending=False).to_markdown())"
      ],
      "metadata": {
        "colab": {
          "base_uri": "https://localhost:8080/"
        },
        "id": "ne6QlyL-PzSQ",
        "outputId": "5a05b951-fd9b-430a-e908-7d22a1079834"
      },
      "execution_count": 69,
      "outputs": [
        {
          "output_type": "stream",
          "name": "stdout",
          "text": [
            "|      |   0 |\n",
            "|:-----|----:|\n",
            "| 0000 |  55 |\n",
            "| Q120 |  17 |\n",
            "| Q105 |  15 |\n",
            "| Q103 |  13 |\n",
            "| Q158 |   9 |\n",
            "| Q112 |   8 |\n",
            "| Q159 |   6 |\n",
            "| Q111 |   4 |\n",
            "| P081 |   3 |\n",
            "| Q110 |   3 |\n",
            "| Q106 |   2 |\n",
            "| Q390 |   2 |\n",
            "| Q138 |   2 |\n",
            "| Q133 |   2 |\n",
            "| Q107 |   2 |\n",
            "| Q113 |   2 |\n",
            "| Q104 |   2 |\n",
            "| P073 |   2 |\n",
            "| Q059 |   2 |\n",
            "| P071 |   2 |\n",
            "| Q909 |   2 |\n",
            "| Q02X |   2 |\n",
            "| P838 |   1 |\n",
            "| Q652 |   1 |\n",
            "| Q878 |   1 |\n",
            "| Q793 |   1 |\n",
            "| Q750 |   1 |\n",
            "| Q688 |   1 |\n",
            "| Q681 |   1 |\n",
            "| Q671 |   1 |\n",
            "| Q660 |   1 |\n",
            "| Q527 |   1 |\n",
            "| P721 |   1 |\n",
            "| Q524 |   1 |\n",
            "| Q447 |   1 |\n",
            "| Q039 |   1 |\n",
            "| Q249 |   1 |\n",
            "| K429 |   1 |\n",
            "| Q139 |   1 |\n",
            "| 9999 |   1 |\n",
            "| D370 |   1 |\n"
          ]
        }
      ]
    },
    {
      "cell_type": "markdown",
      "source": [
        "#### Lista oido"
      ],
      "metadata": {
        "id": "eqtXnPoBKANm"
      }
    },
    {
      "cell_type": "code",
      "source": [
        "value = mc_value['oido']\n",
        "a = df[df[label] == value].CODIGOCIEANOMALIA1.value_counts()\n",
        "b = df[df[label] == value].CODIGOCIEANOMALIA2.value_counts()\n",
        "with pd.option_context('display.max_rows', None, 'display.max_columns', None):  # more options can be specified also\n",
        "    print(a.add(b,fill_value=0).sort_values(ascending=False).to_markdown())"
      ],
      "metadata": {
        "colab": {
          "base_uri": "https://localhost:8080/"
        },
        "id": "_f1r2nwKSbF0",
        "outputId": "954aa327-b126-4b0b-bd0c-515feebb4a6f"
      },
      "execution_count": 70,
      "outputs": [
        {
          "output_type": "stream",
          "name": "stdout",
          "text": [
            "|      |    0 |\n",
            "|:-----|-----:|\n",
            "| 0000 | 1174 |\n",
            "| Q170 |  682 |\n",
            "| Q172 |  307 |\n",
            "| Q173 |  150 |\n",
            "| Q174 |  133 |\n",
            "| Q179 |   48 |\n",
            "| Q178 |   43 |\n",
            "| Q161 |   41 |\n",
            "| P128 |   28 |\n",
            "| Q160 |   23 |\n",
            "| Q169 |   15 |\n",
            "| P081 |   12 |\n",
            "| P071 |    9 |\n",
            "| K070 |    8 |\n",
            "| Q699 |    8 |\n",
            "| Q531 |    6 |\n",
            "| Q660 |    6 |\n",
            "| Q690 |    6 |\n",
            "| P073 |    6 |\n",
            "| P835 |    6 |\n",
            "| Q870 |    6 |\n",
            "| Q897 |    5 |\n",
            "| Q423 |    5 |\n",
            "| P113 |    5 |\n",
            "| Q652 |    5 |\n",
            "| Q059 |    5 |\n",
            "| Q668 |    5 |\n",
            "| Q663 |    5 |\n",
            "| Q672 |    4 |\n",
            "| Q828 |    4 |\n",
            "| P229 |    4 |\n",
            "| Q682 |    3 |\n",
            "| Q681 |    3 |\n",
            "| 9999 |    3 |\n",
            "| Q175 |    3 |\n",
            "| Q753 |    3 |\n",
            "| Q825 |    3 |\n",
            "| Q658 |    3 |\n",
            "| Q532 |    3 |\n",
            "| P969 |    3 |\n",
            "| Q666 |    2 |\n",
            "| Q171 |    2 |\n",
            "| K090 |    2 |\n",
            "| Q909 |    2 |\n",
            "| P011 |    2 |\n",
            "| Q270 |    2 |\n",
            "| Q674 |    2 |\n",
            "| Q439 |    2 |\n",
            "| Q539 |    2 |\n",
            "| Q752 |    2 |\n",
            "| Q549 |    2 |\n",
            "| P025 |    2 |\n",
            "| P121 |    2 |\n",
            "| Q829 |    2 |\n",
            "| P701 |    2 |\n",
            "| P838 |    2 |\n",
            "| Q760 |    2 |\n",
            "| Q552 |    1 |\n",
            "| Q558 |    1 |\n",
            "| Q840 |    1 |\n",
            "| Q874 |    1 |\n",
            "| Q610 |    1 |\n",
            "| Q838 |    1 |\n",
            "| R234 |    1 |\n",
            "| Q871 |    1 |\n",
            "| Q659 |    1 |\n",
            "| R220 |    1 |\n",
            "| Q692 |    1 |\n",
            "| Q878 |    1 |\n",
            "| Q750 |    1 |\n",
            "| Q665 |    1 |\n",
            "| Q748 |    1 |\n",
            "| Q742 |    1 |\n",
            "| Q740 |    1 |\n",
            "| Q928 |    1 |\n",
            "| Q714 |    1 |\n",
            "| Q713 |    1 |\n",
            "| Q673 |    1 |\n",
            "| Q676 |    1 |\n",
            "| Q709 |    1 |\n",
            "| Q868 |    1 |\n",
            "| D222 |    1 |\n",
            "| Q523 |    1 |\n",
            "| P080 |    1 |\n",
            "| P241 |    1 |\n",
            "| P221 |    1 |\n",
            "| P219 |    1 |\n",
            "| P211 |    1 |\n",
            "| P209 |    1 |\n",
            "| P143 |    1 |\n",
            "| P140 |    1 |\n",
            "| P138 |    1 |\n",
            "| P115 |    1 |\n",
            "| P059 |    1 |\n",
            "| Q443 |    1 |\n",
            "| P052 |    1 |\n",
            "| P050 |    1 |\n",
            "| P031 |    1 |\n",
            "| P019 |    1 |\n",
            "| P012 |    1 |\n",
            "| P001 |    1 |\n",
            "| K098 |    1 |\n",
            "| K071 |    1 |\n",
            "| K006 |    1 |\n",
            "| P399 |    1 |\n",
            "| P550 |    1 |\n",
            "| P704 |    1 |\n",
            "| P809 |    1 |\n",
            "| Q399 |    1 |\n",
            "| Q390 |    1 |\n",
            "| Q233 |    1 |\n",
            "| Q213 |    1 |\n",
            "| Q206 |    1 |\n",
            "| E859 |    1 |\n",
            "| B07X |    1 |\n",
            "| D180 |    1 |\n",
            "| D181 |    1 |\n",
            "| Q164 |    1 |\n",
            "| Q078 |    1 |\n",
            "| Q043 |    1 |\n",
            "| Q039 |    1 |\n",
            "| Q02X |    1 |\n",
            "| Q012 |    1 |\n",
            "| P948 |    1 |\n",
            "| P942 |    1 |\n",
            "| P917 |    1 |\n",
            "| P839 |    1 |\n",
            "| Z208 |    1 |\n"
          ]
        }
      ]
    },
    {
      "cell_type": "markdown",
      "source": [
        "Lista cuello"
      ],
      "metadata": {
        "id": "o5EwUeq2V-s5"
      }
    },
    {
      "cell_type": "code",
      "source": [
        "value = mc_value['cuello']\n",
        "a = df[df[label] == value].CODIGOCIEANOMALIA1.value_counts()\n",
        "b = df[df[label] == value].CODIGOCIEANOMALIA2.value_counts()\n",
        "with pd.option_context('display.max_rows', None, 'display.max_columns', None):  # more options can be specified also\n",
        "    print(a.add(b,fill_value=0).sort_values(ascending=False).to_markdown())"
      ],
      "metadata": {
        "colab": {
          "base_uri": "https://localhost:8080/"
        },
        "id": "FgLSiIAQSiDN",
        "outputId": "ffcf178b-d622-4cb0-f0f1-bc6eb53d1f1d"
      },
      "execution_count": 71,
      "outputs": [
        {
          "output_type": "stream",
          "name": "stdout",
          "text": [
            "|      |   0 |\n",
            "|:-----|----:|\n",
            "| 0000 |  85 |\n",
            "| Q189 |  53 |\n",
            "| Q181 |  31 |\n",
            "| Q184 |  21 |\n",
            "| Q188 |  17 |\n",
            "| Q180 |   4 |\n",
            "| P128 |   4 |\n",
            "| P081 |   3 |\n",
            "| Q186 |   3 |\n",
            "| P073 |   2 |\n",
            "| P835 |   2 |\n",
            "| Q532 |   2 |\n",
            "| P838 |   2 |\n",
            "| Q758 |   2 |\n",
            "| P229 |   2 |\n",
            "| Q870 |   1 |\n",
            "| Q829 |   1 |\n",
            "| Q828 |   1 |\n",
            "| Q825 |   1 |\n",
            "| Q741 |   1 |\n",
            "| Q740 |   1 |\n",
            "| Q723 |   1 |\n",
            "| Q703 |   1 |\n",
            "| Q688 |   1 |\n",
            "| Q681 |   1 |\n",
            "| Q663 |   1 |\n",
            "| Q658 |   1 |\n",
            "| Q652 |   1 |\n",
            "| Q330 |   1 |\n",
            "| Q529 |   1 |\n",
            "| P220 |   1 |\n",
            "| B07X |   1 |\n",
            "| K006 |   1 |\n",
            "| Q187 |   1 |\n",
            "| 9999 |   1 |\n",
            "| L810 |   1 |\n",
            "| Q182 |   1 |\n",
            "| P071 |   1 |\n",
            "| P072 |   1 |\n",
            "| Q039 |   1 |\n",
            "| Q02X |   1 |\n",
            "| P969 |   1 |\n",
            "| P833 |   1 |\n",
            "| R238 |   1 |\n"
          ]
        }
      ]
    },
    {
      "cell_type": "markdown",
      "source": [
        "Lista nariz"
      ],
      "metadata": {
        "id": "nTWPJ0AlWKid"
      }
    },
    {
      "cell_type": "code",
      "source": [
        "value = mc_value['nariz']\n",
        "a = df[df[label] == value].CODIGOCIEANOMALIA1.value_counts()\n",
        "b = df[df[label] == value].CODIGOCIEANOMALIA2.value_counts()\n",
        "with pd.option_context('display.max_rows', None, 'display.max_columns', None):  # more options can be specified also\n",
        "    print(a.add(b,fill_value=0).sort_values(ascending=False).to_markdown())"
      ],
      "metadata": {
        "colab": {
          "base_uri": "https://localhost:8080/"
        },
        "id": "yY_A1GIBS3FC",
        "outputId": "0ae18d03-7f67-4395-8e32-50098695d6f1"
      },
      "execution_count": 72,
      "outputs": [
        {
          "output_type": "stream",
          "name": "stdout",
          "text": [
            "|      |   0 |\n",
            "|:-----|----:|\n",
            "| 0000 |  49 |\n",
            "| Q309 |  29 |\n",
            "| Q308 |  22 |\n",
            "| Q300 |  20 |\n",
            "| Q303 |   7 |\n",
            "| Q301 |   6 |\n",
            "| Q302 |   3 |\n",
            "| Q752 |   3 |\n",
            "| Q897 |   2 |\n",
            "| 9999 |   2 |\n",
            "| P128 |   2 |\n",
            "| Q750 |   2 |\n",
            "| Q681 |   2 |\n",
            "| Q670 |   1 |\n",
            "| Q677 |   1 |\n",
            "| Q709 |   1 |\n",
            "| Q668 |   1 |\n",
            "| Q713 |   1 |\n",
            "| Q753 |   1 |\n",
            "| Q828 |   1 |\n",
            "| Q870 |   1 |\n",
            "| Q878 |   1 |\n",
            "| Q669 |   1 |\n",
            "| Q390 |   1 |\n",
            "| Q660 |   1 |\n",
            "| Q652 |   1 |\n",
            "| Q539 |   1 |\n",
            "| Q078 |   1 |\n",
            "| P968 |   1 |\n",
            "| P229 |   1 |\n",
            "| P221 |   1 |\n",
            "| P220 |   1 |\n",
            "| P081 |   1 |\n",
            "| P059 |   1 |\n",
            "| P026 |   1 |\n",
            "| K429 |   1 |\n",
            "| K070 |   1 |\n",
            "| Q899 |   1 |\n"
          ]
        }
      ]
    },
    {
      "cell_type": "markdown",
      "source": [
        "Lista lengua y boca"
      ],
      "metadata": {
        "id": "TWBVkkeKWNFg"
      }
    },
    {
      "cell_type": "code",
      "source": [
        "value = mc_value['boca']\n",
        "a = df[df[label] == value].CODIGOCIEANOMALIA1.value_counts()\n",
        "b = df[df[label] == value].CODIGOCIEANOMALIA2.value_counts()\n",
        "with pd.option_context('display.max_rows', None, 'display.max_columns', None):  # more options can be specified also\n",
        "    print(a.add(b,fill_value=0).sort_values(ascending=False).to_markdown())"
      ],
      "metadata": {
        "colab": {
          "base_uri": "https://localhost:8080/"
        },
        "id": "WLBW51itS9ML",
        "outputId": "020f078e-462c-46e2-f117-d68057bc3de3"
      },
      "execution_count": 73,
      "outputs": [
        {
          "output_type": "stream",
          "name": "stdout",
          "text": [
            "|      |   0 |\n",
            "|:-----|----:|\n",
            "| 0000 | 977 |\n",
            "| Q379 | 462 |\n",
            "| Q359 | 217 |\n",
            "| Q369 | 193 |\n",
            "| Q381 |  91 |\n",
            "| Q372 |  40 |\n",
            "| Q378 |  25 |\n",
            "| Q375 |  24 |\n",
            "| Q385 |  23 |\n",
            "| P073 |  22 |\n",
            "| Q371 |  21 |\n",
            "| Q360 |  20 |\n",
            "| Q386 |  18 |\n",
            "| Q380 |  17 |\n",
            "| Q699 |  11 |\n",
            "| Q373 |  11 |\n",
            "| Q374 |  10 |\n",
            "| Q370 |  10 |\n",
            "| P128 |  10 |\n",
            "| Q361 |   9 |\n",
            "| P229 |   9 |\n",
            "| Q897 |   8 |\n",
            "| Q355 |   7 |\n",
            "| P050 |   6 |\n",
            "| P071 |   6 |\n",
            "| P835 |   6 |\n",
            "| Q663 |   6 |\n",
            "| Q532 |   5 |\n",
            "| P081 |   5 |\n",
            "| P220 |   5 |\n",
            "| Q351 |   4 |\n",
            "| Q660 |   4 |\n",
            "| Q02X |   4 |\n",
            "| K070 |   4 |\n",
            "| Q531 |   4 |\n",
            "| Q652 |   4 |\n",
            "| Q000 |   4 |\n",
            "| Q439 |   4 |\n",
            "| Q059 |   3 |\n",
            "| Q383 |   3 |\n",
            "| P059 |   3 |\n",
            "| Q249 |   3 |\n",
            "| Q713 |   3 |\n",
            "| Q668 |   3 |\n",
            "| P917 |   2 |\n",
            "| K098 |   2 |\n",
            "| Q384 |   2 |\n",
            "| Q692 |   2 |\n",
            "| Q917 |   2 |\n",
            "| Q709 |   2 |\n",
            "| Q564 |   2 |\n",
            "| Q899 |   2 |\n",
            "| P143 |   2 |\n",
            "| Q878 |   2 |\n",
            "| Q833 |   2 |\n",
            "| Q042 |   2 |\n",
            "| Q423 |   2 |\n",
            "| Q353 |   2 |\n",
            "| Q793 |   2 |\n",
            "| Q539 |   2 |\n",
            "| Q752 |   2 |\n",
            "| Q753 |   2 |\n",
            "| Q213 |   2 |\n",
            "| Q758 |   2 |\n",
            "| Q669 |   1 |\n",
            "| Q673 |   1 |\n",
            "| Q672 |   1 |\n",
            "| Q681 |   1 |\n",
            "| Q671 |   1 |\n",
            "| L813 |   1 |\n",
            "| Q700 |   1 |\n",
            "| Q716 |   1 |\n",
            "| Q738 |   1 |\n",
            "| Q759 |   1 |\n",
            "| Q760 |   1 |\n",
            "| Q778 |   1 |\n",
            "| Q790 |   1 |\n",
            "| Q792 |   1 |\n",
            "| Q825 |   1 |\n",
            "| Q870 |   1 |\n",
            "| Q898 |   1 |\n",
            "| Q909 |   1 |\n",
            "| Q913 |   1 |\n",
            "| Q935 |   1 |\n",
            "| Q750 |   1 |\n",
            "| D227 |   1 |\n",
            "| Q620 |   1 |\n",
            "| Q613 |   1 |\n",
            "| Q030 |   1 |\n",
            "| P969 |   1 |\n",
            "| P838 |   1 |\n",
            "| P832 |   1 |\n",
            "| P545 |   1 |\n",
            "| P221 |   1 |\n",
            "| P219 |   1 |\n",
            "| P210 |   1 |\n",
            "| P159 |   1 |\n",
            "| P155 |   1 |\n",
            "| P139 |   1 |\n",
            "| P129 |   1 |\n",
            "| P121 |   1 |\n",
            "| P072 |   1 |\n",
            "| P000 |   1 |\n",
            "| Q039 |   1 |\n",
            "| Q040 |   1 |\n",
            "| Q048 |   1 |\n",
            "| Q382 |   1 |\n",
            "| Q556 |   1 |\n",
            "| Q555 |   1 |\n",
            "| Q552 |   1 |\n",
            "| Q522 |   1 |\n",
            "| Q436 |   1 |\n",
            "| Q388 |   1 |\n",
            "| N47X |   1 |\n",
            "| Q248 |   1 |\n",
            "| E890 |   1 |\n",
            "| 9999 |   1 |\n",
            "| K137 |   1 |\n",
            "| Q348 |   1 |\n",
            "| Q318 |   1 |\n",
            "| Q251 |   1 |\n",
            "| R160 |   1 |\n"
          ]
        }
      ]
    },
    {
      "cell_type": "code",
      "source": [
        "label=\"S-MG\"\n",
        "a = df[(df[label] == 1) | (df[label] == 2)].CODIGOCIEANOMALIA1.value_counts()\n",
        "b = df[(df[label] == 1) | (df[label] == 2)].CODIGOCIEANOMALIA2.value_counts()\n",
        "with pd.option_context('display.max_rows', None, 'display.max_columns', None):  # more options can be specified also\n",
        "    print(a.add(b,fill_value=0).sort_values(ascending=False))"
      ],
      "metadata": {
        "id": "Jy0zW5wKS-dv",
        "colab": {
          "base_uri": "https://localhost:8080/"
        },
        "outputId": "244ba94c-abbd-4b1e-b549-ba3d2f3da1b6"
      },
      "execution_count": 74,
      "outputs": [
        {
          "output_type": "stream",
          "name": "stdout",
          "text": [
            "Q170    321.0\n",
            "Q379    272.0\n",
            "Q359    217.0\n",
            "Q172    204.0\n",
            "Q369    138.0\n",
            "Q173     99.0\n",
            "Q174     93.0\n",
            "Q381     63.0\n",
            "Q189     44.0\n",
            "P128     44.0\n",
            "Q161     34.0\n",
            "P073     32.0\n",
            "Q309     31.0\n",
            "Q179     28.0\n",
            "Q385     25.0\n",
            "Q103     25.0\n",
            "Q372     25.0\n",
            "Q178     24.0\n",
            "P081     24.0\n",
            "Q181     22.0\n",
            "Q699     19.0\n",
            "Q300     18.0\n",
            "P071     18.0\n",
            "Q160     16.0\n",
            "P229     16.0\n",
            "Q120     15.0\n",
            "Q897     15.0\n",
            "Q371     15.0\n",
            "Q360     14.0\n",
            "Q308     14.0\n",
            "P835     14.0\n",
            "Q378     13.0\n",
            "Q375     13.0\n",
            "K070     13.0\n",
            "Q188     13.0\n",
            "Q184     12.0\n",
            "Q652     12.0\n",
            "Q660     12.0\n",
            "Q663     12.0\n",
            "Q059     10.0\n",
            "Q532     10.0\n",
            "Q531     10.0\n",
            "Q668      9.0\n",
            "Q870      9.0\n",
            "Q380      9.0\n",
            "Q111      9.0\n",
            "Q383      8.0\n",
            "Q681      8.0\n",
            "Q370      8.0\n",
            "Q02X      8.0\n",
            "Q423      7.0\n",
            "P220      7.0\n",
            "Q169      7.0\n",
            "Q752      7.0\n",
            "Q351      7.0\n",
            "Q158      7.0\n",
            "P050      7.0\n",
            "Q159      7.0\n",
            "P838      6.0\n",
            "Q690      6.0\n",
            "Q828      6.0\n",
            "Q355      6.0\n",
            "Q753      6.0\n",
            "Q439      6.0\n",
            "Q386      5.0\n",
            "Q750      5.0\n",
            "Q713      5.0\n",
            "Q374      5.0\n",
            "Q539      5.0\n",
            "Q825      5.0\n",
            "Q302      5.0\n",
            "Q909      5.0\n",
            "P969      5.0\n",
            "P113      5.0\n",
            "Q672      5.0\n",
            "Q112      5.0\n",
            "Q878      5.0\n",
            "P059      5.0\n",
            "Q301      4.0\n",
            "Q180      4.0\n",
            "Q353      4.0\n",
            "Q390      4.0\n",
            "Q373      4.0\n",
            "Q000      4.0\n",
            "Q709      4.0\n",
            "Q249      4.0\n",
            "Q039      4.0\n",
            "Q658      4.0\n",
            "Q758      4.0\n",
            "K098      3.0\n",
            "Q175      3.0\n",
            "Q692      3.0\n",
            "Q793      3.0\n",
            "Q682      3.0\n",
            "P121      3.0\n",
            "Q303      3.0\n",
            "Q164      3.0\n",
            "P143      3.0\n",
            "Q829      3.0\n",
            "Q186      3.0\n",
            "P221      3.0\n",
            "Q899      3.0\n",
            "P917      3.0\n",
            "Q213      3.0\n",
            "Q361      3.0\n",
            "Q760      3.0\n",
            "Q833      2.0\n",
            "Q917      2.0\n",
            "Q674      2.0\n",
            "Q740      2.0\n",
            "Q688      2.0\n",
            "Q673      2.0\n",
            "Q671      2.0\n",
            "Q669      2.0\n",
            "Q666      2.0\n",
            "Q564      2.0\n",
            "Q552      2.0\n",
            "Q549      2.0\n",
            "Q384      2.0\n",
            "Q270      2.0\n",
            "B07X      2.0\n",
            "P219      2.0\n",
            "K429      2.0\n",
            "Q042      2.0\n",
            "P025      2.0\n",
            "K006      2.0\n",
            "K090      2.0\n",
            "P072      2.0\n",
            "Q149      2.0\n",
            "Q078      2.0\n",
            "P701      2.0\n",
            "Q165      2.0\n",
            "Q171      2.0\n",
            "P011      2.0\n",
            "Q723      1.0\n",
            "Q738      1.0\n",
            "Q716      1.0\n",
            "Q741      1.0\n",
            "Q742      1.0\n",
            "Q748      1.0\n",
            "Q714      1.0\n",
            "Q248      1.0\n",
            "Q700      1.0\n",
            "P012      1.0\n",
            "P019      1.0\n",
            "Q703      1.0\n",
            "P000      1.0\n",
            "P026      1.0\n",
            "P031      1.0\n",
            "P052      1.0\n",
            "P080      1.0\n",
            "Q677      1.0\n",
            "Q676      1.0\n",
            "P115      1.0\n",
            "P129      1.0\n",
            "P138      1.0\n",
            "P139      1.0\n",
            "P001      1.0\n",
            "Q778      1.0\n",
            "N47X      1.0\n",
            "E859      1.0\n",
            "R238      1.0\n",
            "R234      1.0\n",
            "R220      1.0\n",
            "R160      1.0\n",
            "Q935      1.0\n",
            "Q928      1.0\n",
            "D181      1.0\n",
            "Q913      1.0\n",
            "D222      1.0\n",
            "D227      1.0\n",
            "Q898      1.0\n",
            "D370      1.0\n",
            "Q874      1.0\n",
            "L813      1.0\n",
            "Q871      1.0\n",
            "E890      1.0\n",
            "Q868      1.0\n",
            "Q840      1.0\n",
            "Q838      1.0\n",
            "K071      1.0\n",
            "K137      1.0\n",
            "Q792      1.0\n",
            "Q790      1.0\n",
            "P140      1.0\n",
            "L810      1.0\n",
            "Q759      1.0\n",
            "Q670      1.0\n",
            "P209      1.0\n",
            "P155      1.0\n",
            "Q110      1.0\n",
            "P942      1.0\n",
            "P948      1.0\n",
            "Q382      1.0\n",
            "P968      1.0\n",
            "Q012      1.0\n",
            "Q030      1.0\n",
            "Q040      1.0\n",
            "Q043      1.0\n",
            "Q048      1.0\n",
            "Q104      1.0\n",
            "Q105      1.0\n",
            "Q107      1.0\n",
            "Q113      1.0\n",
            "P833      1.0\n",
            "Q132      1.0\n",
            "Q357      1.0\n",
            "Q133      1.0\n",
            "Q138      1.0\n",
            "Q348      1.0\n",
            "Q330      1.0\n",
            "Q318      1.0\n",
            "Q183      1.0\n",
            "Q185      1.0\n",
            "Q206      1.0\n",
            "D180      1.0\n",
            "Q233      1.0\n",
            "P839      1.0\n",
            "P832      1.0\n",
            "P159      1.0\n",
            "P399      1.0\n",
            "Q665      1.0\n",
            "Q251      1.0\n",
            "P210      1.0\n",
            "Q659      1.0\n",
            "P211      1.0\n",
            "Q620      1.0\n",
            "Q613      1.0\n",
            "Q610      1.0\n",
            "P241      1.0\n",
            "Q558      1.0\n",
            "Q556      1.0\n",
            "Q555      1.0\n",
            "P545      1.0\n",
            "Q399      1.0\n",
            "P550      1.0\n",
            "P704      1.0\n",
            "Q529      1.0\n",
            "Q527      1.0\n",
            "Q524      1.0\n",
            "Q523      1.0\n",
            "Q522      1.0\n",
            "Q447      1.0\n",
            "Q443      1.0\n",
            "P721      1.0\n",
            "Q436      1.0\n",
            "P809      1.0\n",
            "Z208      1.0\n",
            "dtype: float64\n"
          ]
        }
      ]
    },
    {
      "cell_type": "code",
      "source": [],
      "metadata": {
        "id": "B47_CAO_Ylfi"
      },
      "execution_count": 74,
      "outputs": []
    }
  ]
}