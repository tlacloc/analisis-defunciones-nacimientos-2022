{
  "nbformat": 4,
  "nbformat_minor": 0,
  "metadata": {
    "colab": {
      "provenance": [],
      "include_colab_link": true
    },
    "kernelspec": {
      "name": "python3",
      "display_name": "Python 3"
    },
    "language_info": {
      "name": "python"
    }
  },
  "cells": [
    {
      "cell_type": "markdown",
      "metadata": {
        "id": "view-in-github",
        "colab_type": "text"
      },
      "source": [
        "<a href=\"https://colab.research.google.com/github/tlacloc/analisis-defunciones-nacimientos-2022/blob/main/2022_nacimientos.ipynb\" target=\"_parent\"><img src=\"https://colab.research.google.com/assets/colab-badge.svg\" alt=\"Open In Colab\"/></a>"
      ]
    },
    {
      "cell_type": "code",
      "execution_count": 1,
      "metadata": {
        "id": "XEFiPVYg8n_c",
        "colab": {
          "base_uri": "https://localhost:8080/"
        },
        "outputId": "6105470e-b407-4ba7-cf64-ad55e584537e"
      },
      "outputs": [
        {
          "output_type": "stream",
          "name": "stdout",
          "text": [
            "Mounted at /content/drive\n"
          ]
        }
      ],
      "source": [
        " # Libreria para cargar nuestro drive\n",
        "from google.colab import drive\n",
        "\n",
        "# Cargamos nuestro drive en nuestro notebook\n",
        "drive.mount('/content/drive')"
      ]
    },
    {
      "cell_type": "code",
      "source": [
        "!ls \"/content/drive/MyDrive/Colab Notebooks\""
      ],
      "metadata": {
        "id": "s0_2p8W7m6YK",
        "colab": {
          "base_uri": "https://localhost:8080/"
        },
        "outputId": "1e5054d0-fc1d-4af9-aa33-7c1887e565dc"
      },
      "execution_count": 2,
      "outputs": [
        {
          "output_type": "stream",
          "name": "stdout",
          "text": [
            "'Copy of SDC11_actividad1_Badillo_Casanova.ipynb'   SDC_12\t\t test.ipynb\n",
            "'EVC Hackathon Files'\t\t\t\t    SDC_13\t\t Untitled0.ipynb\n",
            " Image\t\t\t\t\t\t    SDC_14\t\t Untitled1.ipynb\n",
            " miriam\t\t\t\t\t\t    SDC_15\t\t Vero\n",
            " SCD_12_Erick_Casanova.ipynb\t\t\t    test-forvero.ipynb\t Visualizacion\n"
          ]
        }
      ]
    },
    {
      "cell_type": "code",
      "source": [
        "# Librerias de ayuda\n",
        "import numpy as np\n",
        "import pandas as pd\n",
        "from scipy.stats import ttest_ind\n",
        "import matplotlib.pyplot as plt\n",
        "import seaborn as sns\n",
        "\n",
        "year = '2022'\n",
        "year_key = {\n",
        "    '2022': 5,\n",
        "    '2021': 4,\n",
        "    '2020': 3,\n",
        "    '2019': 2,\n",
        "    '2018': 1\n",
        "}"
      ],
      "metadata": {
        "id": "Ke_GCaginBra"
      },
      "execution_count": 3,
      "outputs": []
    },
    {
      "cell_type": "code",
      "source": [
        "fileName = '/content/drive/My Drive/Colab Notebooks/miriam/nacimientos_' + year + '.csv'\n",
        "df = pd.read_csv(fileName, low_memory=False)\n",
        "df.head(10)"
      ],
      "metadata": {
        "colab": {
          "base_uri": "https://localhost:8080/",
          "height": 412
        },
        "id": "E1NbIP53nD3y",
        "outputId": "3fa1ab68-7769-4b1a-84b6-0b16aebe7e04"
      },
      "execution_count": 4,
      "outputs": [
        {
          "output_type": "execute_result",
          "data": {
            "text/plain": [
              "   NACIOEXTRANJERO  ENTIDADNACIMIENTO  MUNICIPIONACIMIENTO  EDAD  \\\n",
              "0                1                 88                  997    28   \n",
              "1                1                 88                  997    32   \n",
              "2                1                 88                  997    34   \n",
              "3                2                  7                   65    27   \n",
              "4                2                 23                    4    19   \n",
              "5                2                 23                    2    21   \n",
              "6                2                 23                    2    38   \n",
              "7                2                 23                    8    21   \n",
              "8                2                  9                   10    33   \n",
              "9                2                  9                   12    42   \n",
              "\n",
              "   SECONSIDERAINDIGENA  HABLALENGUAINDIGENA FECHANACIMIENTOMADRE  \\\n",
              "0                    1                    1           09/06/1993   \n",
              "1                    2                    2           13/01/1990   \n",
              "2                    2                    2           18/01/1988   \n",
              "3                    1                    1           01/09/1994   \n",
              "4                    1                    2           10/05/2002   \n",
              "5                    1                    1           01/05/2000   \n",
              "6                    1                    1           24/06/1983   \n",
              "7                    2                    2           24/03/2000   \n",
              "8                    2                    2           17/05/1988   \n",
              "9                    2                    2           16/12/1979   \n",
              "\n",
              "   ESTADOCONYUGAL  RESIDEEXTRANJERO  ENTIDADRESIDENCIA  ...  \\\n",
              "0               5                 2                 23  ...   \n",
              "1               5                 2                 23  ...   \n",
              "2               1                 2                 23  ...   \n",
              "3               1                 2                 23  ...   \n",
              "4               1                 2                 23  ...   \n",
              "5               1                 2                 23  ...   \n",
              "6               1                 2                 23  ...   \n",
              "7               1                 2                 23  ...   \n",
              "8               5                 2                  9  ...   \n",
              "9               1                 2                  9  ...   \n",
              "\n",
              "   TIPOMEDICOATENDIO  ENTIDADFEDERATIVAPARTO  MUNICIPIOPARTO  LOCALIDADPARTO  \\\n",
              "0               11.0                      23               8               1   \n",
              "1               11.0                      23               8               1   \n",
              "2               11.0                      23               8               1   \n",
              "3               11.0                      23               8               1   \n",
              "4               11.0                      23               8               1   \n",
              "5               11.0                      23               8               1   \n",
              "6               11.0                      23               8               1   \n",
              "7               11.0                      23               8               1   \n",
              "8               11.0                       9              15               1   \n",
              "9               11.0                       9              14               1   \n",
              "\n",
              "   CERTIFICADOPOR  CLUESCERTIFICA  ENTIDADFEDERATIVACERTIFICA  \\\n",
              "0               1     QRSSA018001                          23   \n",
              "1               1     QRSSA018001                          23   \n",
              "2               1     QRSSA018001                          23   \n",
              "3               1     QRSSA018001                          23   \n",
              "4               1     QRSSA018001                          23   \n",
              "5               1     QRSSA018001                          23   \n",
              "6               1     QRSSA018001                          23   \n",
              "7               1     QRSSA018001                          23   \n",
              "8               1     DFSSA003990                           9   \n",
              "9               1     DFIST000312                           9   \n",
              "\n",
              "   MUNICIPIOCERTIFICA  LOCALIDADCERTIFICA  FECHACERTIFICADO  \n",
              "0                   8                   1        08/02/2022  \n",
              "1                   8                   1        09/02/2022  \n",
              "2                   8                   1        04/02/2022  \n",
              "3                   8                   1        09/02/2022  \n",
              "4                   8                   1        09/02/2022  \n",
              "5                   8                   1        02/02/2022  \n",
              "6                   8                   1        24/01/2022  \n",
              "7                   8                   1        24/01/2022  \n",
              "8                  15                   1        30/01/2022  \n",
              "9                  14                   1        10/02/2022  \n",
              "\n",
              "[10 rows x 64 columns]"
            ],
            "text/html": [
              "\n",
              "  <div id=\"df-5cf006ad-49ce-42c2-9043-0f6581c502a3\" class=\"colab-df-container\">\n",
              "    <div>\n",
              "<style scoped>\n",
              "    .dataframe tbody tr th:only-of-type {\n",
              "        vertical-align: middle;\n",
              "    }\n",
              "\n",
              "    .dataframe tbody tr th {\n",
              "        vertical-align: top;\n",
              "    }\n",
              "\n",
              "    .dataframe thead th {\n",
              "        text-align: right;\n",
              "    }\n",
              "</style>\n",
              "<table border=\"1\" class=\"dataframe\">\n",
              "  <thead>\n",
              "    <tr style=\"text-align: right;\">\n",
              "      <th></th>\n",
              "      <th>NACIOEXTRANJERO</th>\n",
              "      <th>ENTIDADNACIMIENTO</th>\n",
              "      <th>MUNICIPIONACIMIENTO</th>\n",
              "      <th>EDAD</th>\n",
              "      <th>SECONSIDERAINDIGENA</th>\n",
              "      <th>HABLALENGUAINDIGENA</th>\n",
              "      <th>FECHANACIMIENTOMADRE</th>\n",
              "      <th>ESTADOCONYUGAL</th>\n",
              "      <th>RESIDEEXTRANJERO</th>\n",
              "      <th>ENTIDADRESIDENCIA</th>\n",
              "      <th>...</th>\n",
              "      <th>TIPOMEDICOATENDIO</th>\n",
              "      <th>ENTIDADFEDERATIVAPARTO</th>\n",
              "      <th>MUNICIPIOPARTO</th>\n",
              "      <th>LOCALIDADPARTO</th>\n",
              "      <th>CERTIFICADOPOR</th>\n",
              "      <th>CLUESCERTIFICA</th>\n",
              "      <th>ENTIDADFEDERATIVACERTIFICA</th>\n",
              "      <th>MUNICIPIOCERTIFICA</th>\n",
              "      <th>LOCALIDADCERTIFICA</th>\n",
              "      <th>FECHACERTIFICADO</th>\n",
              "    </tr>\n",
              "  </thead>\n",
              "  <tbody>\n",
              "    <tr>\n",
              "      <th>0</th>\n",
              "      <td>1</td>\n",
              "      <td>88</td>\n",
              "      <td>997</td>\n",
              "      <td>28</td>\n",
              "      <td>1</td>\n",
              "      <td>1</td>\n",
              "      <td>09/06/1993</td>\n",
              "      <td>5</td>\n",
              "      <td>2</td>\n",
              "      <td>23</td>\n",
              "      <td>...</td>\n",
              "      <td>11.0</td>\n",
              "      <td>23</td>\n",
              "      <td>8</td>\n",
              "      <td>1</td>\n",
              "      <td>1</td>\n",
              "      <td>QRSSA018001</td>\n",
              "      <td>23</td>\n",
              "      <td>8</td>\n",
              "      <td>1</td>\n",
              "      <td>08/02/2022</td>\n",
              "    </tr>\n",
              "    <tr>\n",
              "      <th>1</th>\n",
              "      <td>1</td>\n",
              "      <td>88</td>\n",
              "      <td>997</td>\n",
              "      <td>32</td>\n",
              "      <td>2</td>\n",
              "      <td>2</td>\n",
              "      <td>13/01/1990</td>\n",
              "      <td>5</td>\n",
              "      <td>2</td>\n",
              "      <td>23</td>\n",
              "      <td>...</td>\n",
              "      <td>11.0</td>\n",
              "      <td>23</td>\n",
              "      <td>8</td>\n",
              "      <td>1</td>\n",
              "      <td>1</td>\n",
              "      <td>QRSSA018001</td>\n",
              "      <td>23</td>\n",
              "      <td>8</td>\n",
              "      <td>1</td>\n",
              "      <td>09/02/2022</td>\n",
              "    </tr>\n",
              "    <tr>\n",
              "      <th>2</th>\n",
              "      <td>1</td>\n",
              "      <td>88</td>\n",
              "      <td>997</td>\n",
              "      <td>34</td>\n",
              "      <td>2</td>\n",
              "      <td>2</td>\n",
              "      <td>18/01/1988</td>\n",
              "      <td>1</td>\n",
              "      <td>2</td>\n",
              "      <td>23</td>\n",
              "      <td>...</td>\n",
              "      <td>11.0</td>\n",
              "      <td>23</td>\n",
              "      <td>8</td>\n",
              "      <td>1</td>\n",
              "      <td>1</td>\n",
              "      <td>QRSSA018001</td>\n",
              "      <td>23</td>\n",
              "      <td>8</td>\n",
              "      <td>1</td>\n",
              "      <td>04/02/2022</td>\n",
              "    </tr>\n",
              "    <tr>\n",
              "      <th>3</th>\n",
              "      <td>2</td>\n",
              "      <td>7</td>\n",
              "      <td>65</td>\n",
              "      <td>27</td>\n",
              "      <td>1</td>\n",
              "      <td>1</td>\n",
              "      <td>01/09/1994</td>\n",
              "      <td>1</td>\n",
              "      <td>2</td>\n",
              "      <td>23</td>\n",
              "      <td>...</td>\n",
              "      <td>11.0</td>\n",
              "      <td>23</td>\n",
              "      <td>8</td>\n",
              "      <td>1</td>\n",
              "      <td>1</td>\n",
              "      <td>QRSSA018001</td>\n",
              "      <td>23</td>\n",
              "      <td>8</td>\n",
              "      <td>1</td>\n",
              "      <td>09/02/2022</td>\n",
              "    </tr>\n",
              "    <tr>\n",
              "      <th>4</th>\n",
              "      <td>2</td>\n",
              "      <td>23</td>\n",
              "      <td>4</td>\n",
              "      <td>19</td>\n",
              "      <td>1</td>\n",
              "      <td>2</td>\n",
              "      <td>10/05/2002</td>\n",
              "      <td>1</td>\n",
              "      <td>2</td>\n",
              "      <td>23</td>\n",
              "      <td>...</td>\n",
              "      <td>11.0</td>\n",
              "      <td>23</td>\n",
              "      <td>8</td>\n",
              "      <td>1</td>\n",
              "      <td>1</td>\n",
              "      <td>QRSSA018001</td>\n",
              "      <td>23</td>\n",
              "      <td>8</td>\n",
              "      <td>1</td>\n",
              "      <td>09/02/2022</td>\n",
              "    </tr>\n",
              "    <tr>\n",
              "      <th>5</th>\n",
              "      <td>2</td>\n",
              "      <td>23</td>\n",
              "      <td>2</td>\n",
              "      <td>21</td>\n",
              "      <td>1</td>\n",
              "      <td>1</td>\n",
              "      <td>01/05/2000</td>\n",
              "      <td>1</td>\n",
              "      <td>2</td>\n",
              "      <td>23</td>\n",
              "      <td>...</td>\n",
              "      <td>11.0</td>\n",
              "      <td>23</td>\n",
              "      <td>8</td>\n",
              "      <td>1</td>\n",
              "      <td>1</td>\n",
              "      <td>QRSSA018001</td>\n",
              "      <td>23</td>\n",
              "      <td>8</td>\n",
              "      <td>1</td>\n",
              "      <td>02/02/2022</td>\n",
              "    </tr>\n",
              "    <tr>\n",
              "      <th>6</th>\n",
              "      <td>2</td>\n",
              "      <td>23</td>\n",
              "      <td>2</td>\n",
              "      <td>38</td>\n",
              "      <td>1</td>\n",
              "      <td>1</td>\n",
              "      <td>24/06/1983</td>\n",
              "      <td>1</td>\n",
              "      <td>2</td>\n",
              "      <td>23</td>\n",
              "      <td>...</td>\n",
              "      <td>11.0</td>\n",
              "      <td>23</td>\n",
              "      <td>8</td>\n",
              "      <td>1</td>\n",
              "      <td>1</td>\n",
              "      <td>QRSSA018001</td>\n",
              "      <td>23</td>\n",
              "      <td>8</td>\n",
              "      <td>1</td>\n",
              "      <td>24/01/2022</td>\n",
              "    </tr>\n",
              "    <tr>\n",
              "      <th>7</th>\n",
              "      <td>2</td>\n",
              "      <td>23</td>\n",
              "      <td>8</td>\n",
              "      <td>21</td>\n",
              "      <td>2</td>\n",
              "      <td>2</td>\n",
              "      <td>24/03/2000</td>\n",
              "      <td>1</td>\n",
              "      <td>2</td>\n",
              "      <td>23</td>\n",
              "      <td>...</td>\n",
              "      <td>11.0</td>\n",
              "      <td>23</td>\n",
              "      <td>8</td>\n",
              "      <td>1</td>\n",
              "      <td>1</td>\n",
              "      <td>QRSSA018001</td>\n",
              "      <td>23</td>\n",
              "      <td>8</td>\n",
              "      <td>1</td>\n",
              "      <td>24/01/2022</td>\n",
              "    </tr>\n",
              "    <tr>\n",
              "      <th>8</th>\n",
              "      <td>2</td>\n",
              "      <td>9</td>\n",
              "      <td>10</td>\n",
              "      <td>33</td>\n",
              "      <td>2</td>\n",
              "      <td>2</td>\n",
              "      <td>17/05/1988</td>\n",
              "      <td>5</td>\n",
              "      <td>2</td>\n",
              "      <td>9</td>\n",
              "      <td>...</td>\n",
              "      <td>11.0</td>\n",
              "      <td>9</td>\n",
              "      <td>15</td>\n",
              "      <td>1</td>\n",
              "      <td>1</td>\n",
              "      <td>DFSSA003990</td>\n",
              "      <td>9</td>\n",
              "      <td>15</td>\n",
              "      <td>1</td>\n",
              "      <td>30/01/2022</td>\n",
              "    </tr>\n",
              "    <tr>\n",
              "      <th>9</th>\n",
              "      <td>2</td>\n",
              "      <td>9</td>\n",
              "      <td>12</td>\n",
              "      <td>42</td>\n",
              "      <td>2</td>\n",
              "      <td>2</td>\n",
              "      <td>16/12/1979</td>\n",
              "      <td>1</td>\n",
              "      <td>2</td>\n",
              "      <td>9</td>\n",
              "      <td>...</td>\n",
              "      <td>11.0</td>\n",
              "      <td>9</td>\n",
              "      <td>14</td>\n",
              "      <td>1</td>\n",
              "      <td>1</td>\n",
              "      <td>DFIST000312</td>\n",
              "      <td>9</td>\n",
              "      <td>14</td>\n",
              "      <td>1</td>\n",
              "      <td>10/02/2022</td>\n",
              "    </tr>\n",
              "  </tbody>\n",
              "</table>\n",
              "<p>10 rows × 64 columns</p>\n",
              "</div>\n",
              "    <div class=\"colab-df-buttons\">\n",
              "\n",
              "  <div class=\"colab-df-container\">\n",
              "    <button class=\"colab-df-convert\" onclick=\"convertToInteractive('df-5cf006ad-49ce-42c2-9043-0f6581c502a3')\"\n",
              "            title=\"Convert this dataframe to an interactive table.\"\n",
              "            style=\"display:none;\">\n",
              "\n",
              "  <svg xmlns=\"http://www.w3.org/2000/svg\" height=\"24px\" viewBox=\"0 -960 960 960\">\n",
              "    <path d=\"M120-120v-720h720v720H120Zm60-500h600v-160H180v160Zm220 220h160v-160H400v160Zm0 220h160v-160H400v160ZM180-400h160v-160H180v160Zm440 0h160v-160H620v160ZM180-180h160v-160H180v160Zm440 0h160v-160H620v160Z\"/>\n",
              "  </svg>\n",
              "    </button>\n",
              "\n",
              "  <style>\n",
              "    .colab-df-container {\n",
              "      display:flex;\n",
              "      gap: 12px;\n",
              "    }\n",
              "\n",
              "    .colab-df-convert {\n",
              "      background-color: #E8F0FE;\n",
              "      border: none;\n",
              "      border-radius: 50%;\n",
              "      cursor: pointer;\n",
              "      display: none;\n",
              "      fill: #1967D2;\n",
              "      height: 32px;\n",
              "      padding: 0 0 0 0;\n",
              "      width: 32px;\n",
              "    }\n",
              "\n",
              "    .colab-df-convert:hover {\n",
              "      background-color: #E2EBFA;\n",
              "      box-shadow: 0px 1px 2px rgba(60, 64, 67, 0.3), 0px 1px 3px 1px rgba(60, 64, 67, 0.15);\n",
              "      fill: #174EA6;\n",
              "    }\n",
              "\n",
              "    .colab-df-buttons div {\n",
              "      margin-bottom: 4px;\n",
              "    }\n",
              "\n",
              "    [theme=dark] .colab-df-convert {\n",
              "      background-color: #3B4455;\n",
              "      fill: #D2E3FC;\n",
              "    }\n",
              "\n",
              "    [theme=dark] .colab-df-convert:hover {\n",
              "      background-color: #434B5C;\n",
              "      box-shadow: 0px 1px 3px 1px rgba(0, 0, 0, 0.15);\n",
              "      filter: drop-shadow(0px 1px 2px rgba(0, 0, 0, 0.3));\n",
              "      fill: #FFFFFF;\n",
              "    }\n",
              "  </style>\n",
              "\n",
              "    <script>\n",
              "      const buttonEl =\n",
              "        document.querySelector('#df-5cf006ad-49ce-42c2-9043-0f6581c502a3 button.colab-df-convert');\n",
              "      buttonEl.style.display =\n",
              "        google.colab.kernel.accessAllowed ? 'block' : 'none';\n",
              "\n",
              "      async function convertToInteractive(key) {\n",
              "        const element = document.querySelector('#df-5cf006ad-49ce-42c2-9043-0f6581c502a3');\n",
              "        const dataTable =\n",
              "          await google.colab.kernel.invokeFunction('convertToInteractive',\n",
              "                                                    [key], {});\n",
              "        if (!dataTable) return;\n",
              "\n",
              "        const docLinkHtml = 'Like what you see? Visit the ' +\n",
              "          '<a target=\"_blank\" href=https://colab.research.google.com/notebooks/data_table.ipynb>data table notebook</a>'\n",
              "          + ' to learn more about interactive tables.';\n",
              "        element.innerHTML = '';\n",
              "        dataTable['output_type'] = 'display_data';\n",
              "        await google.colab.output.renderOutput(dataTable, element);\n",
              "        const docLink = document.createElement('div');\n",
              "        docLink.innerHTML = docLinkHtml;\n",
              "        element.appendChild(docLink);\n",
              "      }\n",
              "    </script>\n",
              "  </div>\n",
              "\n",
              "\n",
              "<div id=\"df-be256126-759a-4e91-b7f9-040636f24907\">\n",
              "  <button class=\"colab-df-quickchart\" onclick=\"quickchart('df-be256126-759a-4e91-b7f9-040636f24907')\"\n",
              "            title=\"Suggest charts\"\n",
              "            style=\"display:none;\">\n",
              "\n",
              "<svg xmlns=\"http://www.w3.org/2000/svg\" height=\"24px\"viewBox=\"0 0 24 24\"\n",
              "     width=\"24px\">\n",
              "    <g>\n",
              "        <path d=\"M19 3H5c-1.1 0-2 .9-2 2v14c0 1.1.9 2 2 2h14c1.1 0 2-.9 2-2V5c0-1.1-.9-2-2-2zM9 17H7v-7h2v7zm4 0h-2V7h2v10zm4 0h-2v-4h2v4z\"/>\n",
              "    </g>\n",
              "</svg>\n",
              "  </button>\n",
              "\n",
              "<style>\n",
              "  .colab-df-quickchart {\n",
              "      --bg-color: #E8F0FE;\n",
              "      --fill-color: #1967D2;\n",
              "      --hover-bg-color: #E2EBFA;\n",
              "      --hover-fill-color: #174EA6;\n",
              "      --disabled-fill-color: #AAA;\n",
              "      --disabled-bg-color: #DDD;\n",
              "  }\n",
              "\n",
              "  [theme=dark] .colab-df-quickchart {\n",
              "      --bg-color: #3B4455;\n",
              "      --fill-color: #D2E3FC;\n",
              "      --hover-bg-color: #434B5C;\n",
              "      --hover-fill-color: #FFFFFF;\n",
              "      --disabled-bg-color: #3B4455;\n",
              "      --disabled-fill-color: #666;\n",
              "  }\n",
              "\n",
              "  .colab-df-quickchart {\n",
              "    background-color: var(--bg-color);\n",
              "    border: none;\n",
              "    border-radius: 50%;\n",
              "    cursor: pointer;\n",
              "    display: none;\n",
              "    fill: var(--fill-color);\n",
              "    height: 32px;\n",
              "    padding: 0;\n",
              "    width: 32px;\n",
              "  }\n",
              "\n",
              "  .colab-df-quickchart:hover {\n",
              "    background-color: var(--hover-bg-color);\n",
              "    box-shadow: 0 1px 2px rgba(60, 64, 67, 0.3), 0 1px 3px 1px rgba(60, 64, 67, 0.15);\n",
              "    fill: var(--button-hover-fill-color);\n",
              "  }\n",
              "\n",
              "  .colab-df-quickchart-complete:disabled,\n",
              "  .colab-df-quickchart-complete:disabled:hover {\n",
              "    background-color: var(--disabled-bg-color);\n",
              "    fill: var(--disabled-fill-color);\n",
              "    box-shadow: none;\n",
              "  }\n",
              "\n",
              "  .colab-df-spinner {\n",
              "    border: 2px solid var(--fill-color);\n",
              "    border-color: transparent;\n",
              "    border-bottom-color: var(--fill-color);\n",
              "    animation:\n",
              "      spin 1s steps(1) infinite;\n",
              "  }\n",
              "\n",
              "  @keyframes spin {\n",
              "    0% {\n",
              "      border-color: transparent;\n",
              "      border-bottom-color: var(--fill-color);\n",
              "      border-left-color: var(--fill-color);\n",
              "    }\n",
              "    20% {\n",
              "      border-color: transparent;\n",
              "      border-left-color: var(--fill-color);\n",
              "      border-top-color: var(--fill-color);\n",
              "    }\n",
              "    30% {\n",
              "      border-color: transparent;\n",
              "      border-left-color: var(--fill-color);\n",
              "      border-top-color: var(--fill-color);\n",
              "      border-right-color: var(--fill-color);\n",
              "    }\n",
              "    40% {\n",
              "      border-color: transparent;\n",
              "      border-right-color: var(--fill-color);\n",
              "      border-top-color: var(--fill-color);\n",
              "    }\n",
              "    60% {\n",
              "      border-color: transparent;\n",
              "      border-right-color: var(--fill-color);\n",
              "    }\n",
              "    80% {\n",
              "      border-color: transparent;\n",
              "      border-right-color: var(--fill-color);\n",
              "      border-bottom-color: var(--fill-color);\n",
              "    }\n",
              "    90% {\n",
              "      border-color: transparent;\n",
              "      border-bottom-color: var(--fill-color);\n",
              "    }\n",
              "  }\n",
              "</style>\n",
              "\n",
              "  <script>\n",
              "    async function quickchart(key) {\n",
              "      const quickchartButtonEl =\n",
              "        document.querySelector('#' + key + ' button');\n",
              "      quickchartButtonEl.disabled = true;  // To prevent multiple clicks.\n",
              "      quickchartButtonEl.classList.add('colab-df-spinner');\n",
              "      try {\n",
              "        const charts = await google.colab.kernel.invokeFunction(\n",
              "            'suggestCharts', [key], {});\n",
              "      } catch (error) {\n",
              "        console.error('Error during call to suggestCharts:', error);\n",
              "      }\n",
              "      quickchartButtonEl.classList.remove('colab-df-spinner');\n",
              "      quickchartButtonEl.classList.add('colab-df-quickchart-complete');\n",
              "    }\n",
              "    (() => {\n",
              "      let quickchartButtonEl =\n",
              "        document.querySelector('#df-be256126-759a-4e91-b7f9-040636f24907 button');\n",
              "      quickchartButtonEl.style.display =\n",
              "        google.colab.kernel.accessAllowed ? 'block' : 'none';\n",
              "    })();\n",
              "  </script>\n",
              "</div>\n",
              "\n",
              "    </div>\n",
              "  </div>\n"
            ]
          },
          "metadata": {},
          "execution_count": 4
        }
      ]
    },
    {
      "cell_type": "code",
      "source": [
        "oldColumns = df.columns\n",
        "oldColumns"
      ],
      "metadata": {
        "colab": {
          "base_uri": "https://localhost:8080/"
        },
        "id": "zZO-pG3Tu82u",
        "outputId": "fe90b69d-13a6-4281-f5bd-f7299d2c71f7"
      },
      "execution_count": 5,
      "outputs": [
        {
          "output_type": "execute_result",
          "data": {
            "text/plain": [
              "Index(['NACIOEXTRANJERO', 'ENTIDADNACIMIENTO', 'MUNICIPIONACIMIENTO', 'EDAD',\n",
              "       'SECONSIDERAINDIGENA', 'HABLALENGUAINDIGENA', 'FECHANACIMIENTOMADRE',\n",
              "       'ESTADOCONYUGAL', 'RESIDEEXTRANJERO', 'ENTIDADRESIDENCIA',\n",
              "       'MUNICIPIORESIDENCIA', 'LOCALIDADRESIDENCIA', 'NUMEROEMBARAZOS',\n",
              "       'HIJOSNACIDOSMUERTOS', 'HIJOSNACIDOSVIVOS', 'HIJOSSOBREVIVIENTES',\n",
              "       'CONDICIONHIJOANTERIOR', 'VIVEHIJOANTERIOR', 'ORDENNACIMIENTO',\n",
              "       'ATENCIONPRENATAL', 'TRIMESTREPRIMERCONSULTA', 'TOTALCONSULTAS',\n",
              "       'SOBREVIVIOPARTO', 'AFILIACION', 'ESCOLARIDAD', 'INTERRUMPIOESTUDIOS',\n",
              "       'CLAVEOCUPACIONHABITUAL', 'TRABAJAACTUALMENTE', 'EDADPADRE',\n",
              "       'FECHANACIMIENTO', 'HORANACIMIENTO', 'SEXO', 'EDADGESTACIONAL', 'TALLA',\n",
              "       'PESO', 'APGAR', 'SILVERMAN', 'TAMIZAUDITIVO', 'VACUNA_BCG',\n",
              "       'VACUNAHEPATITIS_B', 'VITAMINA_A', 'VITAMINA_K', 'PRODUCTOEMBARAZO',\n",
              "       'ORDENPRODUCTO', 'TOTALPRODUCTOS', 'CODIGOCIEANOMALIA1',\n",
              "       'CODIGOCIEANOMALIA2', 'LUGARNACIMIENTO', 'CLUES', 'TIEMPOTRASLADO',\n",
              "       'RESOLUCIONEMBARAZO', 'UTILIZOFORCEPS', 'TIPOCESAREA',\n",
              "       'PERSONALATENDIO', 'TIPOMEDICOATENDIO', 'ENTIDADFEDERATIVAPARTO',\n",
              "       'MUNICIPIOPARTO', 'LOCALIDADPARTO', 'CERTIFICADOPOR', 'CLUESCERTIFICA',\n",
              "       'ENTIDADFEDERATIVACERTIFICA', 'MUNICIPIOCERTIFICA',\n",
              "       'LOCALIDADCERTIFICA', 'FECHACERTIFICADO'],\n",
              "      dtype='object')"
            ]
          },
          "metadata": {},
          "execution_count": 5
        }
      ]
    },
    {
      "cell_type": "markdown",
      "source": [
        "Variables que sd van a utilizar"
      ],
      "metadata": {
        "id": "8bYl99CXwYNU"
      }
    },
    {
      "cell_type": "code",
      "source": [
        "# Limpieza de datos\n",
        "# Se eliminaran las columnas que no se utilizaran\n",
        "\n",
        "columnsToRemove = [\n",
        "    \"TAMIZAUDITIVO\",\n",
        "    \"HIJOSSOBREVIVIENTES\",\n",
        "    # \"FECHANACIMIENTO\",\n",
        "    \"ORDENPRODUCTO\",\n",
        "    \"NACIOEXTRANJERO\",\n",
        "    \"ENTIDADNACIMIENTO\",\n",
        "    \"MUNICIPIONACIMIENTO\",\n",
        "    \"SECONSIDERAINDIGENA\",\n",
        "    \"HABLALENGUAINDIGENA\",\n",
        "    \"FECHANACIMIENTOMADRE\",\n",
        "    \"RESIDEEXTRANJERO\",\n",
        "    \"ESTADOCONYUGAL\",\n",
        "    \"ENTIDADRESIDENCIA\",\n",
        "    \"MUNICIPIORESIDENCIA\",\n",
        "    \"LOCALIDADRESIDENCIA\",\n",
        "    \"HIJOSNACIDOSVIVOS\",\n",
        "    \"CONDICIONHIJOANTERIOR\",\n",
        "    \"VIVEHIJOANTERIOR\",\n",
        "    \"ORDENNACIMIENTO\",\n",
        "    \"AFILIACION\",\n",
        "    \"INTERRUMPIOESTUDIOS\",\n",
        "    \"CLAVEOCUPACIONHABITUAL\",\n",
        "    \"TRABAJAACTUALMENTE\",\n",
        "    \"HORANACIMIENTO\",\n",
        "    \"VACUNA_BCG\",\n",
        "    \"VACUNAHEPATITIS_B\",\n",
        "    \"VITAMINA_A\",\n",
        "    \"VITAMINA_K\",\n",
        "    # Relacionado a gemelos\n",
        "    # \"PRODUCTOEMBARAZO\",\n",
        "    \"ORDENPRODUCTO\",\n",
        "    \"TOTALPRODUCTOS\",\n",
        "    \"CLUES\",\n",
        "    \"TIEMPOTRASLADO\",\n",
        "    # \"RESOLUCIONEMBARAZO\",\n",
        "    \"UTILIZOFORCEPS\",\n",
        "    \"TIPOCESAREA\",\n",
        "    \"PERSONALATENDIO\",\n",
        "    \"TIPOMEDICOATENDIO\",\n",
        "    \"MUNICIPIOPARTO\",\n",
        "    \"LOCALIDADPARTO\",\n",
        "    \"CERTIFICADOPOR\",\n",
        "    \"CLUESCERTIFICA\",\n",
        "    \"ENTIDADFEDERATIVACERTIFICA\",\n",
        "    \"MUNICIPIOCERTIFICA\",\n",
        "    \"LOCALIDADCERTIFICA\",\n",
        "    \"FECHACERTIFICADO\",\n",
        "    \"LUGARNACIMIENTO\",\n",
        "    \"EDADPADRE\"\n",
        "]\n",
        "\n",
        "df.drop(columnsToRemove, inplace=True, axis=1)"
      ],
      "metadata": {
        "id": "nLfnlRvgu9_s"
      },
      "execution_count": 6,
      "outputs": []
    },
    {
      "cell_type": "code",
      "source": [
        "columnsToReview = df.columns\n",
        "columnsToReview"
      ],
      "metadata": {
        "colab": {
          "base_uri": "https://localhost:8080/"
        },
        "id": "fSKzeDtFvBMI",
        "outputId": "3f049e35-0dca-4295-9e23-064d87c1344f"
      },
      "execution_count": 7,
      "outputs": [
        {
          "output_type": "execute_result",
          "data": {
            "text/plain": [
              "Index(['EDAD', 'NUMEROEMBARAZOS', 'HIJOSNACIDOSMUERTOS', 'ATENCIONPRENATAL',\n",
              "       'TRIMESTREPRIMERCONSULTA', 'TOTALCONSULTAS', 'SOBREVIVIOPARTO',\n",
              "       'ESCOLARIDAD', 'FECHANACIMIENTO', 'SEXO', 'EDADGESTACIONAL', 'TALLA',\n",
              "       'PESO', 'APGAR', 'SILVERMAN', 'PRODUCTOEMBARAZO', 'CODIGOCIEANOMALIA1',\n",
              "       'CODIGOCIEANOMALIA2', 'RESOLUCIONEMBARAZO', 'ENTIDADFEDERATIVAPARTO'],\n",
              "      dtype='object')"
            ]
          },
          "metadata": {},
          "execution_count": 7
        }
      ]
    },
    {
      "cell_type": "code",
      "source": [
        "#df=df.drop(df[df['EDAD']==999].index)\n",
        "#df=df.drop(df[df['EDAD']==888].index)\n",
        "#df=df.drop(df[df['NUMEROEMBARAZOS']==99].index)\n",
        "#df=df.drop(df[df['HIJOSNACIDOSMUERTOS']==99].index)\n",
        "#df=df.drop(df[df['ATENCIONPRENATAL']==9].index)\n",
        "#df=df.drop(df[df['TRIMESTREPRIMERCONSULTA']==9].index)\n",
        "#df=df.drop(df[df['TOTALCONSULTAS']==99].index)\n",
        "#df=df.drop(df[df['SOBREVIVIOPARTO']==9].index)\n",
        "#df=df.drop(df[df['ESCOLARIDAD']==999].index)\n",
        "#df=df.drop(df[df['EDADPADRE']==999].index)\n",
        "#df=df.drop(df[df['SEXO']==99].index)\n",
        "#df=df.drop(df[df['EDADGESTACIONAL']==99].index)\n",
        "#df=df.drop(df[df['TALLA']==99].index)\n",
        "#df=df.drop(df[df['PESO']==9999].index)\n",
        "#df=df.drop(df[df['TALLA']==9].index)\n",
        "#df=df.drop(df[df['APGAR']==99].index)\n",
        "#df=df.drop(df[df['SILVERMAN']==99].index)\n",
        "#df=df.drop(df[df['UTILIZOFORCEPS']==9].index)"
      ],
      "metadata": {
        "id": "AHqUQLo72KRM"
      },
      "execution_count": 8,
      "outputs": []
    },
    {
      "cell_type": "code",
      "source": [
        "df.head(10)"
      ],
      "metadata": {
        "colab": {
          "base_uri": "https://localhost:8080/",
          "height": 383
        },
        "id": "JTqF4vUIvDPR",
        "outputId": "ae2d579f-5568-4c03-fc58-8f2fa97a7dcf"
      },
      "execution_count": 9,
      "outputs": [
        {
          "output_type": "execute_result",
          "data": {
            "text/plain": [
              "   EDAD  NUMEROEMBARAZOS  HIJOSNACIDOSMUERTOS  ATENCIONPRENATAL  \\\n",
              "0    28                3                    0                 1   \n",
              "1    32                5                    1                 1   \n",
              "2    34                3                    0                 1   \n",
              "3    27                2                    1                 1   \n",
              "4    19                1                    0                 1   \n",
              "5    21                1                    0                 1   \n",
              "6    38                8                    0                 2   \n",
              "7    21                2                    0                 1   \n",
              "8    33                2                    0                 1   \n",
              "9    42                1                    0                 1   \n",
              "\n",
              "   TRIMESTREPRIMERCONSULTA  TOTALCONSULTAS  SOBREVIVIOPARTO  ESCOLARIDAD  \\\n",
              "0                        2            10.0                1           31   \n",
              "1                        1             8.0                1           52   \n",
              "2                        1             9.0                1           71   \n",
              "3                        1             7.0                1           51   \n",
              "4                        1            12.0                1           71   \n",
              "5                        1             9.0                1           51   \n",
              "6                        0             0.0                1           31   \n",
              "7                        2             4.0                1           82   \n",
              "8                        1             6.0                1           72   \n",
              "9                        1            16.0                1           81   \n",
              "\n",
              "  FECHANACIMIENTO  SEXO  EDADGESTACIONAL  TALLA  PESO  APGAR  SILVERMAN  \\\n",
              "0      03/02/2022     2               42     49  3495      9          0   \n",
              "1      10/01/2022     1               33     41  1660      9          0   \n",
              "2      01/02/2022     1               40     49  3100      9          0   \n",
              "3      01/02/2022     2               38     49  2850      9          0   \n",
              "4      05/02/2022     2               40     50  3535      9          0   \n",
              "5      27/01/2022     2               40     53  3550      9          0   \n",
              "6      20/01/2022     1               38     50  3155      9          0   \n",
              "7      18/01/2022     2               40     56  3420      9          0   \n",
              "8      29/01/2022     1               38     52  3400      9          0   \n",
              "9      08/02/2022     1               39     49  3052      9          0   \n",
              "\n",
              "   PRODUCTOEMBARAZO CODIGOCIEANOMALIA1 CODIGOCIEANOMALIA2  RESOLUCIONEMBARAZO  \\\n",
              "0                 1               0000               0000                   1   \n",
              "1                 1               P071               0000                   1   \n",
              "2                 1               0000               0000                   1   \n",
              "3                 1               0000               0000                   3   \n",
              "4                 1               0000               0000                   3   \n",
              "5                 1               0000               0000                   1   \n",
              "6                 1               0000               0000                   1   \n",
              "7                 1               0000               0000                   3   \n",
              "8                 1               Q699               0000                   1   \n",
              "9                 1               0000               0000                   3   \n",
              "\n",
              "   ENTIDADFEDERATIVAPARTO  \n",
              "0                      23  \n",
              "1                      23  \n",
              "2                      23  \n",
              "3                      23  \n",
              "4                      23  \n",
              "5                      23  \n",
              "6                      23  \n",
              "7                      23  \n",
              "8                       9  \n",
              "9                       9  "
            ],
            "text/html": [
              "\n",
              "  <div id=\"df-b7f60c38-854d-4709-b120-56531a979791\" class=\"colab-df-container\">\n",
              "    <div>\n",
              "<style scoped>\n",
              "    .dataframe tbody tr th:only-of-type {\n",
              "        vertical-align: middle;\n",
              "    }\n",
              "\n",
              "    .dataframe tbody tr th {\n",
              "        vertical-align: top;\n",
              "    }\n",
              "\n",
              "    .dataframe thead th {\n",
              "        text-align: right;\n",
              "    }\n",
              "</style>\n",
              "<table border=\"1\" class=\"dataframe\">\n",
              "  <thead>\n",
              "    <tr style=\"text-align: right;\">\n",
              "      <th></th>\n",
              "      <th>EDAD</th>\n",
              "      <th>NUMEROEMBARAZOS</th>\n",
              "      <th>HIJOSNACIDOSMUERTOS</th>\n",
              "      <th>ATENCIONPRENATAL</th>\n",
              "      <th>TRIMESTREPRIMERCONSULTA</th>\n",
              "      <th>TOTALCONSULTAS</th>\n",
              "      <th>SOBREVIVIOPARTO</th>\n",
              "      <th>ESCOLARIDAD</th>\n",
              "      <th>FECHANACIMIENTO</th>\n",
              "      <th>SEXO</th>\n",
              "      <th>EDADGESTACIONAL</th>\n",
              "      <th>TALLA</th>\n",
              "      <th>PESO</th>\n",
              "      <th>APGAR</th>\n",
              "      <th>SILVERMAN</th>\n",
              "      <th>PRODUCTOEMBARAZO</th>\n",
              "      <th>CODIGOCIEANOMALIA1</th>\n",
              "      <th>CODIGOCIEANOMALIA2</th>\n",
              "      <th>RESOLUCIONEMBARAZO</th>\n",
              "      <th>ENTIDADFEDERATIVAPARTO</th>\n",
              "    </tr>\n",
              "  </thead>\n",
              "  <tbody>\n",
              "    <tr>\n",
              "      <th>0</th>\n",
              "      <td>28</td>\n",
              "      <td>3</td>\n",
              "      <td>0</td>\n",
              "      <td>1</td>\n",
              "      <td>2</td>\n",
              "      <td>10.0</td>\n",
              "      <td>1</td>\n",
              "      <td>31</td>\n",
              "      <td>03/02/2022</td>\n",
              "      <td>2</td>\n",
              "      <td>42</td>\n",
              "      <td>49</td>\n",
              "      <td>3495</td>\n",
              "      <td>9</td>\n",
              "      <td>0</td>\n",
              "      <td>1</td>\n",
              "      <td>0000</td>\n",
              "      <td>0000</td>\n",
              "      <td>1</td>\n",
              "      <td>23</td>\n",
              "    </tr>\n",
              "    <tr>\n",
              "      <th>1</th>\n",
              "      <td>32</td>\n",
              "      <td>5</td>\n",
              "      <td>1</td>\n",
              "      <td>1</td>\n",
              "      <td>1</td>\n",
              "      <td>8.0</td>\n",
              "      <td>1</td>\n",
              "      <td>52</td>\n",
              "      <td>10/01/2022</td>\n",
              "      <td>1</td>\n",
              "      <td>33</td>\n",
              "      <td>41</td>\n",
              "      <td>1660</td>\n",
              "      <td>9</td>\n",
              "      <td>0</td>\n",
              "      <td>1</td>\n",
              "      <td>P071</td>\n",
              "      <td>0000</td>\n",
              "      <td>1</td>\n",
              "      <td>23</td>\n",
              "    </tr>\n",
              "    <tr>\n",
              "      <th>2</th>\n",
              "      <td>34</td>\n",
              "      <td>3</td>\n",
              "      <td>0</td>\n",
              "      <td>1</td>\n",
              "      <td>1</td>\n",
              "      <td>9.0</td>\n",
              "      <td>1</td>\n",
              "      <td>71</td>\n",
              "      <td>01/02/2022</td>\n",
              "      <td>1</td>\n",
              "      <td>40</td>\n",
              "      <td>49</td>\n",
              "      <td>3100</td>\n",
              "      <td>9</td>\n",
              "      <td>0</td>\n",
              "      <td>1</td>\n",
              "      <td>0000</td>\n",
              "      <td>0000</td>\n",
              "      <td>1</td>\n",
              "      <td>23</td>\n",
              "    </tr>\n",
              "    <tr>\n",
              "      <th>3</th>\n",
              "      <td>27</td>\n",
              "      <td>2</td>\n",
              "      <td>1</td>\n",
              "      <td>1</td>\n",
              "      <td>1</td>\n",
              "      <td>7.0</td>\n",
              "      <td>1</td>\n",
              "      <td>51</td>\n",
              "      <td>01/02/2022</td>\n",
              "      <td>2</td>\n",
              "      <td>38</td>\n",
              "      <td>49</td>\n",
              "      <td>2850</td>\n",
              "      <td>9</td>\n",
              "      <td>0</td>\n",
              "      <td>1</td>\n",
              "      <td>0000</td>\n",
              "      <td>0000</td>\n",
              "      <td>3</td>\n",
              "      <td>23</td>\n",
              "    </tr>\n",
              "    <tr>\n",
              "      <th>4</th>\n",
              "      <td>19</td>\n",
              "      <td>1</td>\n",
              "      <td>0</td>\n",
              "      <td>1</td>\n",
              "      <td>1</td>\n",
              "      <td>12.0</td>\n",
              "      <td>1</td>\n",
              "      <td>71</td>\n",
              "      <td>05/02/2022</td>\n",
              "      <td>2</td>\n",
              "      <td>40</td>\n",
              "      <td>50</td>\n",
              "      <td>3535</td>\n",
              "      <td>9</td>\n",
              "      <td>0</td>\n",
              "      <td>1</td>\n",
              "      <td>0000</td>\n",
              "      <td>0000</td>\n",
              "      <td>3</td>\n",
              "      <td>23</td>\n",
              "    </tr>\n",
              "    <tr>\n",
              "      <th>5</th>\n",
              "      <td>21</td>\n",
              "      <td>1</td>\n",
              "      <td>0</td>\n",
              "      <td>1</td>\n",
              "      <td>1</td>\n",
              "      <td>9.0</td>\n",
              "      <td>1</td>\n",
              "      <td>51</td>\n",
              "      <td>27/01/2022</td>\n",
              "      <td>2</td>\n",
              "      <td>40</td>\n",
              "      <td>53</td>\n",
              "      <td>3550</td>\n",
              "      <td>9</td>\n",
              "      <td>0</td>\n",
              "      <td>1</td>\n",
              "      <td>0000</td>\n",
              "      <td>0000</td>\n",
              "      <td>1</td>\n",
              "      <td>23</td>\n",
              "    </tr>\n",
              "    <tr>\n",
              "      <th>6</th>\n",
              "      <td>38</td>\n",
              "      <td>8</td>\n",
              "      <td>0</td>\n",
              "      <td>2</td>\n",
              "      <td>0</td>\n",
              "      <td>0.0</td>\n",
              "      <td>1</td>\n",
              "      <td>31</td>\n",
              "      <td>20/01/2022</td>\n",
              "      <td>1</td>\n",
              "      <td>38</td>\n",
              "      <td>50</td>\n",
              "      <td>3155</td>\n",
              "      <td>9</td>\n",
              "      <td>0</td>\n",
              "      <td>1</td>\n",
              "      <td>0000</td>\n",
              "      <td>0000</td>\n",
              "      <td>1</td>\n",
              "      <td>23</td>\n",
              "    </tr>\n",
              "    <tr>\n",
              "      <th>7</th>\n",
              "      <td>21</td>\n",
              "      <td>2</td>\n",
              "      <td>0</td>\n",
              "      <td>1</td>\n",
              "      <td>2</td>\n",
              "      <td>4.0</td>\n",
              "      <td>1</td>\n",
              "      <td>82</td>\n",
              "      <td>18/01/2022</td>\n",
              "      <td>2</td>\n",
              "      <td>40</td>\n",
              "      <td>56</td>\n",
              "      <td>3420</td>\n",
              "      <td>9</td>\n",
              "      <td>0</td>\n",
              "      <td>1</td>\n",
              "      <td>0000</td>\n",
              "      <td>0000</td>\n",
              "      <td>3</td>\n",
              "      <td>23</td>\n",
              "    </tr>\n",
              "    <tr>\n",
              "      <th>8</th>\n",
              "      <td>33</td>\n",
              "      <td>2</td>\n",
              "      <td>0</td>\n",
              "      <td>1</td>\n",
              "      <td>1</td>\n",
              "      <td>6.0</td>\n",
              "      <td>1</td>\n",
              "      <td>72</td>\n",
              "      <td>29/01/2022</td>\n",
              "      <td>1</td>\n",
              "      <td>38</td>\n",
              "      <td>52</td>\n",
              "      <td>3400</td>\n",
              "      <td>9</td>\n",
              "      <td>0</td>\n",
              "      <td>1</td>\n",
              "      <td>Q699</td>\n",
              "      <td>0000</td>\n",
              "      <td>1</td>\n",
              "      <td>9</td>\n",
              "    </tr>\n",
              "    <tr>\n",
              "      <th>9</th>\n",
              "      <td>42</td>\n",
              "      <td>1</td>\n",
              "      <td>0</td>\n",
              "      <td>1</td>\n",
              "      <td>1</td>\n",
              "      <td>16.0</td>\n",
              "      <td>1</td>\n",
              "      <td>81</td>\n",
              "      <td>08/02/2022</td>\n",
              "      <td>1</td>\n",
              "      <td>39</td>\n",
              "      <td>49</td>\n",
              "      <td>3052</td>\n",
              "      <td>9</td>\n",
              "      <td>0</td>\n",
              "      <td>1</td>\n",
              "      <td>0000</td>\n",
              "      <td>0000</td>\n",
              "      <td>3</td>\n",
              "      <td>9</td>\n",
              "    </tr>\n",
              "  </tbody>\n",
              "</table>\n",
              "</div>\n",
              "    <div class=\"colab-df-buttons\">\n",
              "\n",
              "  <div class=\"colab-df-container\">\n",
              "    <button class=\"colab-df-convert\" onclick=\"convertToInteractive('df-b7f60c38-854d-4709-b120-56531a979791')\"\n",
              "            title=\"Convert this dataframe to an interactive table.\"\n",
              "            style=\"display:none;\">\n",
              "\n",
              "  <svg xmlns=\"http://www.w3.org/2000/svg\" height=\"24px\" viewBox=\"0 -960 960 960\">\n",
              "    <path d=\"M120-120v-720h720v720H120Zm60-500h600v-160H180v160Zm220 220h160v-160H400v160Zm0 220h160v-160H400v160ZM180-400h160v-160H180v160Zm440 0h160v-160H620v160ZM180-180h160v-160H180v160Zm440 0h160v-160H620v160Z\"/>\n",
              "  </svg>\n",
              "    </button>\n",
              "\n",
              "  <style>\n",
              "    .colab-df-container {\n",
              "      display:flex;\n",
              "      gap: 12px;\n",
              "    }\n",
              "\n",
              "    .colab-df-convert {\n",
              "      background-color: #E8F0FE;\n",
              "      border: none;\n",
              "      border-radius: 50%;\n",
              "      cursor: pointer;\n",
              "      display: none;\n",
              "      fill: #1967D2;\n",
              "      height: 32px;\n",
              "      padding: 0 0 0 0;\n",
              "      width: 32px;\n",
              "    }\n",
              "\n",
              "    .colab-df-convert:hover {\n",
              "      background-color: #E2EBFA;\n",
              "      box-shadow: 0px 1px 2px rgba(60, 64, 67, 0.3), 0px 1px 3px 1px rgba(60, 64, 67, 0.15);\n",
              "      fill: #174EA6;\n",
              "    }\n",
              "\n",
              "    .colab-df-buttons div {\n",
              "      margin-bottom: 4px;\n",
              "    }\n",
              "\n",
              "    [theme=dark] .colab-df-convert {\n",
              "      background-color: #3B4455;\n",
              "      fill: #D2E3FC;\n",
              "    }\n",
              "\n",
              "    [theme=dark] .colab-df-convert:hover {\n",
              "      background-color: #434B5C;\n",
              "      box-shadow: 0px 1px 3px 1px rgba(0, 0, 0, 0.15);\n",
              "      filter: drop-shadow(0px 1px 2px rgba(0, 0, 0, 0.3));\n",
              "      fill: #FFFFFF;\n",
              "    }\n",
              "  </style>\n",
              "\n",
              "    <script>\n",
              "      const buttonEl =\n",
              "        document.querySelector('#df-b7f60c38-854d-4709-b120-56531a979791 button.colab-df-convert');\n",
              "      buttonEl.style.display =\n",
              "        google.colab.kernel.accessAllowed ? 'block' : 'none';\n",
              "\n",
              "      async function convertToInteractive(key) {\n",
              "        const element = document.querySelector('#df-b7f60c38-854d-4709-b120-56531a979791');\n",
              "        const dataTable =\n",
              "          await google.colab.kernel.invokeFunction('convertToInteractive',\n",
              "                                                    [key], {});\n",
              "        if (!dataTable) return;\n",
              "\n",
              "        const docLinkHtml = 'Like what you see? Visit the ' +\n",
              "          '<a target=\"_blank\" href=https://colab.research.google.com/notebooks/data_table.ipynb>data table notebook</a>'\n",
              "          + ' to learn more about interactive tables.';\n",
              "        element.innerHTML = '';\n",
              "        dataTable['output_type'] = 'display_data';\n",
              "        await google.colab.output.renderOutput(dataTable, element);\n",
              "        const docLink = document.createElement('div');\n",
              "        docLink.innerHTML = docLinkHtml;\n",
              "        element.appendChild(docLink);\n",
              "      }\n",
              "    </script>\n",
              "  </div>\n",
              "\n",
              "\n",
              "<div id=\"df-3170b103-eb6b-4156-8678-e60831939ba0\">\n",
              "  <button class=\"colab-df-quickchart\" onclick=\"quickchart('df-3170b103-eb6b-4156-8678-e60831939ba0')\"\n",
              "            title=\"Suggest charts\"\n",
              "            style=\"display:none;\">\n",
              "\n",
              "<svg xmlns=\"http://www.w3.org/2000/svg\" height=\"24px\"viewBox=\"0 0 24 24\"\n",
              "     width=\"24px\">\n",
              "    <g>\n",
              "        <path d=\"M19 3H5c-1.1 0-2 .9-2 2v14c0 1.1.9 2 2 2h14c1.1 0 2-.9 2-2V5c0-1.1-.9-2-2-2zM9 17H7v-7h2v7zm4 0h-2V7h2v10zm4 0h-2v-4h2v4z\"/>\n",
              "    </g>\n",
              "</svg>\n",
              "  </button>\n",
              "\n",
              "<style>\n",
              "  .colab-df-quickchart {\n",
              "      --bg-color: #E8F0FE;\n",
              "      --fill-color: #1967D2;\n",
              "      --hover-bg-color: #E2EBFA;\n",
              "      --hover-fill-color: #174EA6;\n",
              "      --disabled-fill-color: #AAA;\n",
              "      --disabled-bg-color: #DDD;\n",
              "  }\n",
              "\n",
              "  [theme=dark] .colab-df-quickchart {\n",
              "      --bg-color: #3B4455;\n",
              "      --fill-color: #D2E3FC;\n",
              "      --hover-bg-color: #434B5C;\n",
              "      --hover-fill-color: #FFFFFF;\n",
              "      --disabled-bg-color: #3B4455;\n",
              "      --disabled-fill-color: #666;\n",
              "  }\n",
              "\n",
              "  .colab-df-quickchart {\n",
              "    background-color: var(--bg-color);\n",
              "    border: none;\n",
              "    border-radius: 50%;\n",
              "    cursor: pointer;\n",
              "    display: none;\n",
              "    fill: var(--fill-color);\n",
              "    height: 32px;\n",
              "    padding: 0;\n",
              "    width: 32px;\n",
              "  }\n",
              "\n",
              "  .colab-df-quickchart:hover {\n",
              "    background-color: var(--hover-bg-color);\n",
              "    box-shadow: 0 1px 2px rgba(60, 64, 67, 0.3), 0 1px 3px 1px rgba(60, 64, 67, 0.15);\n",
              "    fill: var(--button-hover-fill-color);\n",
              "  }\n",
              "\n",
              "  .colab-df-quickchart-complete:disabled,\n",
              "  .colab-df-quickchart-complete:disabled:hover {\n",
              "    background-color: var(--disabled-bg-color);\n",
              "    fill: var(--disabled-fill-color);\n",
              "    box-shadow: none;\n",
              "  }\n",
              "\n",
              "  .colab-df-spinner {\n",
              "    border: 2px solid var(--fill-color);\n",
              "    border-color: transparent;\n",
              "    border-bottom-color: var(--fill-color);\n",
              "    animation:\n",
              "      spin 1s steps(1) infinite;\n",
              "  }\n",
              "\n",
              "  @keyframes spin {\n",
              "    0% {\n",
              "      border-color: transparent;\n",
              "      border-bottom-color: var(--fill-color);\n",
              "      border-left-color: var(--fill-color);\n",
              "    }\n",
              "    20% {\n",
              "      border-color: transparent;\n",
              "      border-left-color: var(--fill-color);\n",
              "      border-top-color: var(--fill-color);\n",
              "    }\n",
              "    30% {\n",
              "      border-color: transparent;\n",
              "      border-left-color: var(--fill-color);\n",
              "      border-top-color: var(--fill-color);\n",
              "      border-right-color: var(--fill-color);\n",
              "    }\n",
              "    40% {\n",
              "      border-color: transparent;\n",
              "      border-right-color: var(--fill-color);\n",
              "      border-top-color: var(--fill-color);\n",
              "    }\n",
              "    60% {\n",
              "      border-color: transparent;\n",
              "      border-right-color: var(--fill-color);\n",
              "    }\n",
              "    80% {\n",
              "      border-color: transparent;\n",
              "      border-right-color: var(--fill-color);\n",
              "      border-bottom-color: var(--fill-color);\n",
              "    }\n",
              "    90% {\n",
              "      border-color: transparent;\n",
              "      border-bottom-color: var(--fill-color);\n",
              "    }\n",
              "  }\n",
              "</style>\n",
              "\n",
              "  <script>\n",
              "    async function quickchart(key) {\n",
              "      const quickchartButtonEl =\n",
              "        document.querySelector('#' + key + ' button');\n",
              "      quickchartButtonEl.disabled = true;  // To prevent multiple clicks.\n",
              "      quickchartButtonEl.classList.add('colab-df-spinner');\n",
              "      try {\n",
              "        const charts = await google.colab.kernel.invokeFunction(\n",
              "            'suggestCharts', [key], {});\n",
              "      } catch (error) {\n",
              "        console.error('Error during call to suggestCharts:', error);\n",
              "      }\n",
              "      quickchartButtonEl.classList.remove('colab-df-spinner');\n",
              "      quickchartButtonEl.classList.add('colab-df-quickchart-complete');\n",
              "    }\n",
              "    (() => {\n",
              "      let quickchartButtonEl =\n",
              "        document.querySelector('#df-3170b103-eb6b-4156-8678-e60831939ba0 button');\n",
              "      quickchartButtonEl.style.display =\n",
              "        google.colab.kernel.accessAllowed ? 'block' : 'none';\n",
              "    })();\n",
              "  </script>\n",
              "</div>\n",
              "\n",
              "    </div>\n",
              "  </div>\n"
            ]
          },
          "metadata": {},
          "execution_count": 9
        }
      ]
    },
    {
      "cell_type": "markdown",
      "source": [
        "# Variable: presencia o ausencia de Malformaciones Craneofaciales MCF\n",
        "- Con MCF (1)\n",
        "- Sin (0)"
      ],
      "metadata": {
        "id": "jnyDxJU-HB3V"
      }
    },
    {
      "cell_type": "code",
      "source": [
        "def update_codes(base_array):\n",
        "  new_codes = []\n",
        "  for value in base_array:\n",
        "    for i in range(0, 10):\n",
        "      new_codes.append(value[:-1] + str(i))\n",
        "\n",
        "  return new_codes"
      ],
      "metadata": {
        "id": "jfaUIa3LdC22"
      },
      "execution_count": 10,
      "outputs": []
    },
    {
      "cell_type": "code",
      "source": [
        "codigos_mc = update_codes(['Q100', 'Q110', 'Q120', 'Q130', 'Q140', 'Q150', 'Q160', 'Q170', 'Q180', 'Q300', 'Q350', 'Q360', 'Q370', 'Q380'])\n",
        "anomalias_mc = df['CODIGOCIEANOMALIA1'].isin(codigos_mc) | df['CODIGOCIEANOMALIA2'].isin(codigos_mc)\n",
        "\n",
        "key = \"MCC-General\"\n",
        "\n",
        "df[key] = None\n",
        "df[key] = np.where(df.CODIGOCIEANOMALIA1.isin(codigos_mc) | df.CODIGOCIEANOMALIA2.isin(codigos_mc), 1, 0)\n",
        "df[key].mask((~df.CODIGOCIEANOMALIA1.isin(codigos_mc)) & (df.CODIGOCIEANOMALIA2 == '9999'), None, inplace=True)\n",
        "df[key].mask((~df.CODIGOCIEANOMALIA2.isin(codigos_mc)) & (df.CODIGOCIEANOMALIA1 == '9999'), None, inplace=True)\n",
        "df[key].value_counts()\n"
      ],
      "metadata": {
        "id": "3-Bgh1tMG7g5",
        "colab": {
          "base_uri": "https://localhost:8080/"
        },
        "outputId": "8df3a99d-7a7f-4cb8-a239-0c5680949d64"
      },
      "execution_count": 11,
      "outputs": [
        {
          "output_type": "execute_result",
          "data": {
            "text/plain": [
              "0.0    1618823\n",
              "1.0       3848\n",
              "Name: MCC-General, dtype: int64"
            ]
          },
          "metadata": {},
          "execution_count": 11
        }
      ]
    },
    {
      "cell_type": "markdown",
      "source": [
        "## Variable categórica clasificación de MCF\n",
        "- Oftalmológicas Q100 Q110 Q120 Q130 Q140 Q150\n",
        "- Oído Q160 Q170\n",
        "- Cara y cuello Q180\n",
        "- Nariz Q300\n",
        "- Lengua y boca Q380 Q350 Q360 Q370\n",
        "\n",
        "Aqui se usan numeros primos para hacer la limpieza de datos"
      ],
      "metadata": {
        "id": "fdKajUS_PLSR"
      }
    },
    {
      "cell_type": "code",
      "source": [
        "codigos_oftalmo = update_codes(['Q100', 'Q110', 'Q120', 'Q130', 'Q140', 'Q150'])\n",
        "codigos_oido = update_codes(['Q160', 'Q170'])\n",
        "codigos_cara_cuello = update_codes(['Q180'])\n",
        "codigos_nariz = update_codes(['Q300'])\n",
        "codigos_lengua_boca = update_codes(['Q380', 'Q350', 'Q360', 'Q370'])\n",
        "\n",
        "mc_value = {\n",
        "    'oftalmo': 1,\n",
        "    'oido': 10,\n",
        "    'cuello': 100,\n",
        "    'nariz': 1000,\n",
        "    'boca': 10000\n",
        "}\n",
        "mc_values = [1, 10, 100, 1000, 10000]"
      ],
      "metadata": {
        "id": "hr-L0LV6lEyE"
      },
      "execution_count": 12,
      "outputs": []
    },
    {
      "cell_type": "markdown",
      "source": [
        "### Oftalmo"
      ],
      "metadata": {
        "id": "UdU5V2YHWyAi"
      }
    },
    {
      "cell_type": "code",
      "source": [
        "# Valores par oftalmo\n",
        "value = mc_value['oftalmo']\n",
        "key = \"MC-1\"\n",
        "df[key] = 0\n",
        "df[key].mask(df['CODIGOCIEANOMALIA1'].isin(codigos_oftalmo), value, inplace=True)\n",
        "\n",
        "key = \"MC-2\"\n",
        "df[key] = 0\n",
        "df[key].mask(df['CODIGOCIEANOMALIA2'].isin(codigos_oftalmo), value, inplace=True)"
      ],
      "metadata": {
        "id": "1pxSnouFUNdJ"
      },
      "execution_count": 13,
      "outputs": []
    },
    {
      "cell_type": "markdown",
      "source": [
        "### Oido"
      ],
      "metadata": {
        "id": "cppXwAELWubb"
      }
    },
    {
      "cell_type": "code",
      "source": [
        "# Valores par oido\n",
        "value = mc_value['oido']\n",
        "key = \"MC-1\"\n",
        "df[key].mask(df['CODIGOCIEANOMALIA1'].isin(codigos_oido), value, inplace=True)\n",
        "\n",
        "key = \"MC-2\"\n",
        "df[key].mask(df['CODIGOCIEANOMALIA2'].isin(codigos_oido), value, inplace=True)"
      ],
      "metadata": {
        "id": "_c3yZUNBVNz3"
      },
      "execution_count": 14,
      "outputs": []
    },
    {
      "cell_type": "markdown",
      "source": [
        "### Cara y cuello"
      ],
      "metadata": {
        "id": "gOG7RJdwWsem"
      }
    },
    {
      "cell_type": "code",
      "source": [
        "# Valores par cara y cuello\n",
        "value = mc_value['cuello']\n",
        "key = \"MC-1\"\n",
        "df[key].mask(df['CODIGOCIEANOMALIA1'].isin(codigos_cara_cuello), value, inplace=True)\n",
        "\n",
        "key = \"MC-2\"\n",
        "df[key].mask(df['CODIGOCIEANOMALIA2'].isin(codigos_cara_cuello), value, inplace=True)"
      ],
      "metadata": {
        "id": "BFe6jMnGVAH0"
      },
      "execution_count": 15,
      "outputs": []
    },
    {
      "cell_type": "markdown",
      "source": [
        "### Nariz"
      ],
      "metadata": {
        "id": "hbOYlTnrWqN9"
      }
    },
    {
      "cell_type": "code",
      "source": [
        "# Valores para nariz\n",
        "value = mc_value['nariz']\n",
        "key = \"MC-1\"\n",
        "df[key].mask(df['CODIGOCIEANOMALIA1'].isin(codigos_nariz), value, inplace=True)\n",
        "\n",
        "key = \"MC-2\"\n",
        "df[key].mask(df['CODIGOCIEANOMALIA2'].isin(codigos_nariz), value, inplace=True)"
      ],
      "metadata": {
        "id": "TcRNIecvWA9v"
      },
      "execution_count": 16,
      "outputs": []
    },
    {
      "cell_type": "markdown",
      "source": [
        "### Lengua y boca"
      ],
      "metadata": {
        "id": "S1rKT96eWm65"
      }
    },
    {
      "cell_type": "code",
      "source": [
        "# Valores para lengua y boca\n",
        "value = mc_value['boca']\n",
        "key = \"MC-1\"\n",
        "df[key].mask(df['CODIGOCIEANOMALIA1'].isin(codigos_lengua_boca), value, inplace=True)\n",
        "\n",
        "key = \"MC-2\"\n",
        "df[key].mask(df['CODIGOCIEANOMALIA2'].isin(codigos_lengua_boca), value, inplace=True)"
      ],
      "metadata": {
        "id": "KfVgmeO9WfOd"
      },
      "execution_count": 17,
      "outputs": []
    },
    {
      "cell_type": "code",
      "source": [
        "key = \"MC-1\"\n",
        "df[key].value_counts()"
      ],
      "metadata": {
        "colab": {
          "base_uri": "https://localhost:8080/"
        },
        "id": "-u8uwf7plw0c",
        "outputId": "baf8afd3-acbd-46c4-b633-595891c73999"
      },
      "execution_count": 18,
      "outputs": [
        {
          "output_type": "execute_result",
          "data": {
            "text/plain": [
              "0        1619410\n",
              "10          1665\n",
              "10000       1506\n",
              "100          166\n",
              "1             90\n",
              "1000          84\n",
              "Name: MC-1, dtype: int64"
            ]
          },
          "metadata": {},
          "execution_count": 18
        }
      ]
    },
    {
      "cell_type": "code",
      "source": [
        "# Con MCF\n",
        "df[df[\"MCC-General\"] == 1][key].value_counts()"
      ],
      "metadata": {
        "id": "IsbJydVAmh2S",
        "colab": {
          "base_uri": "https://localhost:8080/"
        },
        "outputId": "11e8e393-abd8-48f0-8c21-42052ee0aa6a"
      },
      "execution_count": 19,
      "outputs": [
        {
          "output_type": "execute_result",
          "data": {
            "text/plain": [
              "10       1665\n",
              "10000    1506\n",
              "0         337\n",
              "100       166\n",
              "1          90\n",
              "1000       84\n",
              "Name: MC-1, dtype: int64"
            ]
          },
          "metadata": {},
          "execution_count": 19
        }
      ]
    },
    {
      "cell_type": "code",
      "source": [
        "key = \"MC-2\"\n",
        "df[key].value_counts()"
      ],
      "metadata": {
        "colab": {
          "base_uri": "https://localhost:8080/"
        },
        "id": "nodXO0lglzc0",
        "outputId": "37f6e6cd-c776-4fc1-aea4-b4d1bdec4690"
      },
      "execution_count": 20,
      "outputs": [
        {
          "output_type": "execute_result",
          "data": {
            "text/plain": [
              "0        1622017\n",
              "10           401\n",
              "10000        374\n",
              "1000          49\n",
              "100           46\n",
              "1             34\n",
              "Name: MC-2, dtype: int64"
            ]
          },
          "metadata": {},
          "execution_count": 20
        }
      ]
    },
    {
      "cell_type": "code",
      "source": [
        "# Con MCF\n",
        "df[df[\"MCC-General\"] == 1][key].value_counts()"
      ],
      "metadata": {
        "id": "S0ltzxEqmixG",
        "colab": {
          "base_uri": "https://localhost:8080/"
        },
        "outputId": "6d8a14bc-b1fd-4fff-b740-89a72cb245d9"
      },
      "execution_count": 21,
      "outputs": [
        {
          "output_type": "execute_result",
          "data": {
            "text/plain": [
              "0        2944\n",
              "10        401\n",
              "10000     374\n",
              "1000       49\n",
              "100        46\n",
              "1          34\n",
              "Name: MC-2, dtype: int64"
            ]
          },
          "metadata": {},
          "execution_count": 21
        }
      ]
    },
    {
      "cell_type": "code",
      "source": [
        "key = 'MC-G'\n",
        "df[key] = None\n",
        "df[key] = df[['MC-1', 'MC-2']].sum(axis=1)\n",
        "df[key].value_counts()"
      ],
      "metadata": {
        "colab": {
          "base_uri": "https://localhost:8080/"
        },
        "id": "Ia63pE14mXVU",
        "outputId": "58c56784-20e0-4cb7-e747-e90bfb06e597"
      },
      "execution_count": 22,
      "outputs": [
        {
          "output_type": "execute_result",
          "data": {
            "text/plain": [
              "0        1619073\n",
              "10          1573\n",
              "10000       1359\n",
              "20000        240\n",
              "20           217\n",
              "100          163\n",
              "1             97\n",
              "1000          89\n",
              "10010         23\n",
              "110           22\n",
              "200           11\n",
              "2000          10\n",
              "11000          9\n",
              "1010           9\n",
              "1001           6\n",
              "2              5\n",
              "11             5\n",
              "10001          5\n",
              "10100          4\n",
              "101            1\n",
              "Name: MC-G, dtype: int64"
            ]
          },
          "metadata": {},
          "execution_count": 22
        }
      ]
    },
    {
      "cell_type": "code",
      "source": [
        "# Con MCF\n",
        "df[df[\"MCC-General\"] == 1][key].value_counts()"
      ],
      "metadata": {
        "id": "T-sjvL8Fmjjq",
        "colab": {
          "base_uri": "https://localhost:8080/"
        },
        "outputId": "78a24267-d96c-403e-dac3-69f85bd1ca08"
      },
      "execution_count": 23,
      "outputs": [
        {
          "output_type": "execute_result",
          "data": {
            "text/plain": [
              "10       1573\n",
              "10000    1359\n",
              "20000     240\n",
              "20        217\n",
              "100       163\n",
              "1          97\n",
              "1000       89\n",
              "10010      23\n",
              "110        22\n",
              "200        11\n",
              "2000       10\n",
              "11000       9\n",
              "1010        9\n",
              "1001        6\n",
              "2           5\n",
              "11          5\n",
              "10001       5\n",
              "10100       4\n",
              "101         1\n",
              "Name: MC-G, dtype: int64"
            ]
          },
          "metadata": {},
          "execution_count": 23
        }
      ]
    },
    {
      "cell_type": "markdown",
      "source": [
        "## Variable categórica clasificación de MCF\n",
        "- Oftalmológicas (1)\n",
        "- Oído (2)\n",
        "- Cara y cuello (3)\n",
        "- Nariz (4)\n",
        "- Lengua y boca (5)"
      ],
      "metadata": {
        "id": "EjjCHZ66U_5s"
      }
    },
    {
      "cell_type": "code",
      "source": [
        "key=\"MC-G2\"\n",
        "etiqueta = 'MC-G'\n",
        "\n",
        "df[key] = None\n",
        "df[key].mask(df[etiqueta] == mc_value['oftalmo'], 1, inplace=True)\n",
        "df[key].mask(df[etiqueta] == mc_value['oido'], 2, inplace=True)\n",
        "df[key].mask(df[etiqueta] == mc_value['cuello'], 3, inplace=True)\n",
        "df[key].mask(df[etiqueta] == mc_value['nariz'], 4, inplace=True)\n",
        "df[key].mask(df[etiqueta] == mc_value['boca'], 5, inplace=True)\n",
        "df[key].mask(~df[etiqueta].isin(mc_values), 6, inplace=True)\n",
        "df[key].mask(df[etiqueta] == 0, None, inplace=True)\n",
        "\n",
        "\n",
        "df[key].value_counts()"
      ],
      "metadata": {
        "colab": {
          "base_uri": "https://localhost:8080/"
        },
        "id": "UD54YrCA478W",
        "outputId": "09bf9a09-01f4-44bc-9a0e-5f5384702d27"
      },
      "execution_count": 24,
      "outputs": [
        {
          "output_type": "execute_result",
          "data": {
            "text/plain": [
              "2    1573\n",
              "5    1359\n",
              "6     567\n",
              "3     163\n",
              "1      97\n",
              "4      89\n",
              "Name: MC-G2, dtype: int64"
            ]
          },
          "metadata": {},
          "execution_count": 24
        }
      ]
    },
    {
      "cell_type": "code",
      "source": [
        "# Con MCF\n",
        "df[df[\"MCC-General\"] == 1][key].value_counts()"
      ],
      "metadata": {
        "id": "1R2fqZHkmlLf",
        "colab": {
          "base_uri": "https://localhost:8080/"
        },
        "outputId": "c94d9b1d-cc60-40a7-d4d1-1bb6bd6faa6c"
      },
      "execution_count": 25,
      "outputs": [
        {
          "output_type": "execute_result",
          "data": {
            "text/plain": [
              "2    1573\n",
              "5    1359\n",
              "6     567\n",
              "3     163\n",
              "1      97\n",
              "4      89\n",
              "Name: MC-G2, dtype: int64"
            ]
          },
          "metadata": {},
          "execution_count": 25
        }
      ]
    },
    {
      "cell_type": "markdown",
      "source": [
        "# Dos malformaciones\n",
        "- No tenga una segunda malformacion, solo la primera sea MC (0)\n",
        "- Las dos malformaciones sean cranofaciales  (1)\n",
        "- Que una sea segunda malformacion y otra de otro tipo (2)\n",
        "- MCF y no se espeficifa (3)"
      ],
      "metadata": {
        "id": "7WCfUJUb3uJj"
      }
    },
    {
      "cell_type": "code",
      "source": [
        "key=\"S-MG\"\n",
        "df[key] = None\n",
        "# estos solo checan los que si o si, tienen solo una malformacion\n",
        "mcf_primera = (df.CODIGOCIEANOMALIA1.isin(codigos_mc) & (df.CODIGOCIEANOMALIA2 == '0000'))\n",
        "mcf_segunda = (df.CODIGOCIEANOMALIA2.isin(codigos_mc) & (df.CODIGOCIEANOMALIA1 == '0000'))\n",
        "\n",
        "# tenga dos mcf\n",
        "mcf_primera_y_segunda = (df.CODIGOCIEANOMALIA1.isin(codigos_mc) & df.CODIGOCIEANOMALIA2.isin(codigos_mc))\n",
        "\n",
        "# que tenga una mcf y otra mc != a mcf\n",
        "mcf_primera_mc_segunda = ((df.CODIGOCIEANOMALIA1.isin(codigos_mc))  & (df.CODIGOCIEANOMALIA2 != '0000') & (~df.CODIGOCIEANOMALIA2.isin(codigos_mc)) & (df.CODIGOCIEANOMALIA2 != '9999'))\n",
        "mc_primera_mcf_segunda = ((df.CODIGOCIEANOMALIA2.isin(codigos_mc))  & (df.CODIGOCIEANOMALIA1 != '0000') & (~df.CODIGOCIEANOMALIA1.isin(codigos_mc)) & (df.CODIGOCIEANOMALIA1 != '9999'))\n",
        "\n",
        "# que tenga una mcf y la otra idk\n",
        "mcf_primera_idk_segunda = ((df.CODIGOCIEANOMALIA1.isin(codigos_mc)) & (df.CODIGOCIEANOMALIA2 == '9999'))\n",
        "idk_primera_mcf_segunda = ((df.CODIGOCIEANOMALIA2.isin(codigos_mc)) & (df.CODIGOCIEANOMALIA1 == '9999'))\n",
        "\n",
        "df[key].mask(mcf_primera | mcf_segunda, 0, inplace=True)\n",
        "df[key].mask(mcf_primera_y_segunda, 1, inplace=True)\n",
        "df[key].mask(mcf_primera_mc_segunda | mc_primera_mcf_segunda, 2, inplace=True)\n",
        "df[key].mask(mcf_primera_idk_segunda | idk_primera_mcf_segunda, 3, inplace=True)\n",
        "df[key].value_counts()"
      ],
      "metadata": {
        "colab": {
          "base_uri": "https://localhost:8080/"
        },
        "id": "V-Qeu0BY3tkE",
        "outputId": "c7a02125-c6c6-4a24-9b4d-64cb0f68de15"
      },
      "execution_count": 26,
      "outputs": [
        {
          "output_type": "execute_result",
          "data": {
            "text/plain": [
              "0    2585\n",
              "2     683\n",
              "1     567\n",
              "3      13\n",
              "Name: S-MG, dtype: int64"
            ]
          },
          "metadata": {},
          "execution_count": 26
        }
      ]
    },
    {
      "cell_type": "code",
      "source": [
        "# Con MCF\n",
        "df[df[\"MCC-General\"] == 1][key].value_counts()"
      ],
      "metadata": {
        "id": "lg4PzluLmm8F",
        "colab": {
          "base_uri": "https://localhost:8080/"
        },
        "outputId": "83284b24-70a7-45af-ec81-ef55ad8173f5"
      },
      "execution_count": 27,
      "outputs": [
        {
          "output_type": "execute_result",
          "data": {
            "text/plain": [
              "0    2585\n",
              "2     683\n",
              "1     567\n",
              "3      13\n",
              "Name: S-MG, dtype: int64"
            ]
          },
          "metadata": {},
          "execution_count": 27
        }
      ]
    },
    {
      "cell_type": "code",
      "source": [
        "df[(df.CODIGOCIEANOMALIA1.isin(codigos_mc) & (df.CODIGOCIEANOMALIA2 != '0000') & (df.CODIGOCIEANOMALIA2 != '9999')) | (df.CODIGOCIEANOMALIA2.isin(codigos_mc) & (df.CODIGOCIEANOMALIA1 != '0000') & (df.CODIGOCIEANOMALIA1 != '9999'))]"
      ],
      "metadata": {
        "colab": {
          "base_uri": "https://localhost:8080/",
          "height": 461
        },
        "id": "wldFGwyBAMuU",
        "outputId": "3b2417ce-ea1b-4cf9-9321-f3bff77b19fb"
      },
      "execution_count": 28,
      "outputs": [
        {
          "output_type": "execute_result",
          "data": {
            "text/plain": [
              "         EDAD  NUMEROEMBARAZOS  HIJOSNACIDOSMUERTOS  ATENCIONPRENATAL  \\\n",
              "16         37                1                    0                 1   \n",
              "378        32                2                    0                 1   \n",
              "752        38                2                    0                 1   \n",
              "946        23                3                    1                 1   \n",
              "1095       42                1                    0                 1   \n",
              "...       ...              ...                  ...               ...   \n",
              "1617694    16                1                    0                 1   \n",
              "1621238    27                3                    0                 1   \n",
              "1621303    23                1                    0                 1   \n",
              "1622186    27                2                    1                 1   \n",
              "1622613    19                1                    0                 1   \n",
              "\n",
              "         TRIMESTREPRIMERCONSULTA  TOTALCONSULTAS  SOBREVIVIOPARTO  \\\n",
              "16                             1            15.0                1   \n",
              "378                            1             9.0                1   \n",
              "752                            3             2.0                1   \n",
              "946                            2             6.0                1   \n",
              "1095                           1            10.0                1   \n",
              "...                          ...             ...              ...   \n",
              "1617694                        1             6.0                1   \n",
              "1621238                        3             5.0                1   \n",
              "1621303                        2             6.0                1   \n",
              "1622186                        1             5.0                1   \n",
              "1622613                        2             5.0                1   \n",
              "\n",
              "         ESCOLARIDAD FECHANACIMIENTO  SEXO  ...  CODIGOCIEANOMALIA1  \\\n",
              "16               101      31/01/2022     1  ...                Q374   \n",
              "378               31      19/04/2022     1  ...                Q184   \n",
              "752               51      24/01/2022     1  ...                Q172   \n",
              "946               52      26/06/2022     2  ...                Q255   \n",
              "1095              71      16/06/2022     2  ...                Q302   \n",
              "...              ...             ...   ...  ...                 ...   \n",
              "1617694           51      02/08/2022     2  ...                Q173   \n",
              "1621238           51      05/11/2022     2  ...                Q000   \n",
              "1621303           51      25/10/2022     1  ...                Q160   \n",
              "1622186           51      11/10/2022     1  ...                Q360   \n",
              "1622613           71      14/11/2022     1  ...                Q355   \n",
              "\n",
              "         CODIGOCIEANOMALIA2  RESOLUCIONEMBARAZO  ENTIDADFEDERATIVAPARTO  \\\n",
              "16                     Q213                   3                       9   \n",
              "378                    P221                   3                      23   \n",
              "752                    Q172                   3                       9   \n",
              "946                    Q359                   1                      23   \n",
              "1095                   Q390                   1                       9   \n",
              "...                     ...                 ...                     ...   \n",
              "1617694                Q795                   1                       9   \n",
              "1621238                Q379                   3                      15   \n",
              "1621303                Q160                   1                      30   \n",
              "1622186                Q369                   3                       6   \n",
              "1622613                Q361                   1                      30   \n",
              "\n",
              "         MCC-General   MC-1   MC-2   MC-G  MC-G2  S-MG  \n",
              "16               1.0  10000      0  10000      5     2  \n",
              "378              1.0    100      0    100      3     2  \n",
              "752              1.0     10     10     20      6     1  \n",
              "946              1.0      0  10000  10000      5     2  \n",
              "1095             1.0   1000      0   1000      4     2  \n",
              "...              ...    ...    ...    ...    ...   ...  \n",
              "1617694          1.0     10      0     10      2     2  \n",
              "1621238          1.0      0  10000  10000      5     2  \n",
              "1621303          1.0     10     10     20      6     1  \n",
              "1622186          1.0  10000  10000  20000      6     1  \n",
              "1622613          1.0  10000  10000  20000      6     1  \n",
              "\n",
              "[1250 rows x 26 columns]"
            ],
            "text/html": [
              "\n",
              "  <div id=\"df-88857e42-03c1-4a74-8eac-908170105a89\" class=\"colab-df-container\">\n",
              "    <div>\n",
              "<style scoped>\n",
              "    .dataframe tbody tr th:only-of-type {\n",
              "        vertical-align: middle;\n",
              "    }\n",
              "\n",
              "    .dataframe tbody tr th {\n",
              "        vertical-align: top;\n",
              "    }\n",
              "\n",
              "    .dataframe thead th {\n",
              "        text-align: right;\n",
              "    }\n",
              "</style>\n",
              "<table border=\"1\" class=\"dataframe\">\n",
              "  <thead>\n",
              "    <tr style=\"text-align: right;\">\n",
              "      <th></th>\n",
              "      <th>EDAD</th>\n",
              "      <th>NUMEROEMBARAZOS</th>\n",
              "      <th>HIJOSNACIDOSMUERTOS</th>\n",
              "      <th>ATENCIONPRENATAL</th>\n",
              "      <th>TRIMESTREPRIMERCONSULTA</th>\n",
              "      <th>TOTALCONSULTAS</th>\n",
              "      <th>SOBREVIVIOPARTO</th>\n",
              "      <th>ESCOLARIDAD</th>\n",
              "      <th>FECHANACIMIENTO</th>\n",
              "      <th>SEXO</th>\n",
              "      <th>...</th>\n",
              "      <th>CODIGOCIEANOMALIA1</th>\n",
              "      <th>CODIGOCIEANOMALIA2</th>\n",
              "      <th>RESOLUCIONEMBARAZO</th>\n",
              "      <th>ENTIDADFEDERATIVAPARTO</th>\n",
              "      <th>MCC-General</th>\n",
              "      <th>MC-1</th>\n",
              "      <th>MC-2</th>\n",
              "      <th>MC-G</th>\n",
              "      <th>MC-G2</th>\n",
              "      <th>S-MG</th>\n",
              "    </tr>\n",
              "  </thead>\n",
              "  <tbody>\n",
              "    <tr>\n",
              "      <th>16</th>\n",
              "      <td>37</td>\n",
              "      <td>1</td>\n",
              "      <td>0</td>\n",
              "      <td>1</td>\n",
              "      <td>1</td>\n",
              "      <td>15.0</td>\n",
              "      <td>1</td>\n",
              "      <td>101</td>\n",
              "      <td>31/01/2022</td>\n",
              "      <td>1</td>\n",
              "      <td>...</td>\n",
              "      <td>Q374</td>\n",
              "      <td>Q213</td>\n",
              "      <td>3</td>\n",
              "      <td>9</td>\n",
              "      <td>1.0</td>\n",
              "      <td>10000</td>\n",
              "      <td>0</td>\n",
              "      <td>10000</td>\n",
              "      <td>5</td>\n",
              "      <td>2</td>\n",
              "    </tr>\n",
              "    <tr>\n",
              "      <th>378</th>\n",
              "      <td>32</td>\n",
              "      <td>2</td>\n",
              "      <td>0</td>\n",
              "      <td>1</td>\n",
              "      <td>1</td>\n",
              "      <td>9.0</td>\n",
              "      <td>1</td>\n",
              "      <td>31</td>\n",
              "      <td>19/04/2022</td>\n",
              "      <td>1</td>\n",
              "      <td>...</td>\n",
              "      <td>Q184</td>\n",
              "      <td>P221</td>\n",
              "      <td>3</td>\n",
              "      <td>23</td>\n",
              "      <td>1.0</td>\n",
              "      <td>100</td>\n",
              "      <td>0</td>\n",
              "      <td>100</td>\n",
              "      <td>3</td>\n",
              "      <td>2</td>\n",
              "    </tr>\n",
              "    <tr>\n",
              "      <th>752</th>\n",
              "      <td>38</td>\n",
              "      <td>2</td>\n",
              "      <td>0</td>\n",
              "      <td>1</td>\n",
              "      <td>3</td>\n",
              "      <td>2.0</td>\n",
              "      <td>1</td>\n",
              "      <td>51</td>\n",
              "      <td>24/01/2022</td>\n",
              "      <td>1</td>\n",
              "      <td>...</td>\n",
              "      <td>Q172</td>\n",
              "      <td>Q172</td>\n",
              "      <td>3</td>\n",
              "      <td>9</td>\n",
              "      <td>1.0</td>\n",
              "      <td>10</td>\n",
              "      <td>10</td>\n",
              "      <td>20</td>\n",
              "      <td>6</td>\n",
              "      <td>1</td>\n",
              "    </tr>\n",
              "    <tr>\n",
              "      <th>946</th>\n",
              "      <td>23</td>\n",
              "      <td>3</td>\n",
              "      <td>1</td>\n",
              "      <td>1</td>\n",
              "      <td>2</td>\n",
              "      <td>6.0</td>\n",
              "      <td>1</td>\n",
              "      <td>52</td>\n",
              "      <td>26/06/2022</td>\n",
              "      <td>2</td>\n",
              "      <td>...</td>\n",
              "      <td>Q255</td>\n",
              "      <td>Q359</td>\n",
              "      <td>1</td>\n",
              "      <td>23</td>\n",
              "      <td>1.0</td>\n",
              "      <td>0</td>\n",
              "      <td>10000</td>\n",
              "      <td>10000</td>\n",
              "      <td>5</td>\n",
              "      <td>2</td>\n",
              "    </tr>\n",
              "    <tr>\n",
              "      <th>1095</th>\n",
              "      <td>42</td>\n",
              "      <td>1</td>\n",
              "      <td>0</td>\n",
              "      <td>1</td>\n",
              "      <td>1</td>\n",
              "      <td>10.0</td>\n",
              "      <td>1</td>\n",
              "      <td>71</td>\n",
              "      <td>16/06/2022</td>\n",
              "      <td>2</td>\n",
              "      <td>...</td>\n",
              "      <td>Q302</td>\n",
              "      <td>Q390</td>\n",
              "      <td>1</td>\n",
              "      <td>9</td>\n",
              "      <td>1.0</td>\n",
              "      <td>1000</td>\n",
              "      <td>0</td>\n",
              "      <td>1000</td>\n",
              "      <td>4</td>\n",
              "      <td>2</td>\n",
              "    </tr>\n",
              "    <tr>\n",
              "      <th>...</th>\n",
              "      <td>...</td>\n",
              "      <td>...</td>\n",
              "      <td>...</td>\n",
              "      <td>...</td>\n",
              "      <td>...</td>\n",
              "      <td>...</td>\n",
              "      <td>...</td>\n",
              "      <td>...</td>\n",
              "      <td>...</td>\n",
              "      <td>...</td>\n",
              "      <td>...</td>\n",
              "      <td>...</td>\n",
              "      <td>...</td>\n",
              "      <td>...</td>\n",
              "      <td>...</td>\n",
              "      <td>...</td>\n",
              "      <td>...</td>\n",
              "      <td>...</td>\n",
              "      <td>...</td>\n",
              "      <td>...</td>\n",
              "      <td>...</td>\n",
              "    </tr>\n",
              "    <tr>\n",
              "      <th>1617694</th>\n",
              "      <td>16</td>\n",
              "      <td>1</td>\n",
              "      <td>0</td>\n",
              "      <td>1</td>\n",
              "      <td>1</td>\n",
              "      <td>6.0</td>\n",
              "      <td>1</td>\n",
              "      <td>51</td>\n",
              "      <td>02/08/2022</td>\n",
              "      <td>2</td>\n",
              "      <td>...</td>\n",
              "      <td>Q173</td>\n",
              "      <td>Q795</td>\n",
              "      <td>1</td>\n",
              "      <td>9</td>\n",
              "      <td>1.0</td>\n",
              "      <td>10</td>\n",
              "      <td>0</td>\n",
              "      <td>10</td>\n",
              "      <td>2</td>\n",
              "      <td>2</td>\n",
              "    </tr>\n",
              "    <tr>\n",
              "      <th>1621238</th>\n",
              "      <td>27</td>\n",
              "      <td>3</td>\n",
              "      <td>0</td>\n",
              "      <td>1</td>\n",
              "      <td>3</td>\n",
              "      <td>5.0</td>\n",
              "      <td>1</td>\n",
              "      <td>51</td>\n",
              "      <td>05/11/2022</td>\n",
              "      <td>2</td>\n",
              "      <td>...</td>\n",
              "      <td>Q000</td>\n",
              "      <td>Q379</td>\n",
              "      <td>3</td>\n",
              "      <td>15</td>\n",
              "      <td>1.0</td>\n",
              "      <td>0</td>\n",
              "      <td>10000</td>\n",
              "      <td>10000</td>\n",
              "      <td>5</td>\n",
              "      <td>2</td>\n",
              "    </tr>\n",
              "    <tr>\n",
              "      <th>1621303</th>\n",
              "      <td>23</td>\n",
              "      <td>1</td>\n",
              "      <td>0</td>\n",
              "      <td>1</td>\n",
              "      <td>2</td>\n",
              "      <td>6.0</td>\n",
              "      <td>1</td>\n",
              "      <td>51</td>\n",
              "      <td>25/10/2022</td>\n",
              "      <td>1</td>\n",
              "      <td>...</td>\n",
              "      <td>Q160</td>\n",
              "      <td>Q160</td>\n",
              "      <td>1</td>\n",
              "      <td>30</td>\n",
              "      <td>1.0</td>\n",
              "      <td>10</td>\n",
              "      <td>10</td>\n",
              "      <td>20</td>\n",
              "      <td>6</td>\n",
              "      <td>1</td>\n",
              "    </tr>\n",
              "    <tr>\n",
              "      <th>1622186</th>\n",
              "      <td>27</td>\n",
              "      <td>2</td>\n",
              "      <td>1</td>\n",
              "      <td>1</td>\n",
              "      <td>1</td>\n",
              "      <td>5.0</td>\n",
              "      <td>1</td>\n",
              "      <td>51</td>\n",
              "      <td>11/10/2022</td>\n",
              "      <td>1</td>\n",
              "      <td>...</td>\n",
              "      <td>Q360</td>\n",
              "      <td>Q369</td>\n",
              "      <td>3</td>\n",
              "      <td>6</td>\n",
              "      <td>1.0</td>\n",
              "      <td>10000</td>\n",
              "      <td>10000</td>\n",
              "      <td>20000</td>\n",
              "      <td>6</td>\n",
              "      <td>1</td>\n",
              "    </tr>\n",
              "    <tr>\n",
              "      <th>1622613</th>\n",
              "      <td>19</td>\n",
              "      <td>1</td>\n",
              "      <td>0</td>\n",
              "      <td>1</td>\n",
              "      <td>2</td>\n",
              "      <td>5.0</td>\n",
              "      <td>1</td>\n",
              "      <td>71</td>\n",
              "      <td>14/11/2022</td>\n",
              "      <td>1</td>\n",
              "      <td>...</td>\n",
              "      <td>Q355</td>\n",
              "      <td>Q361</td>\n",
              "      <td>1</td>\n",
              "      <td>30</td>\n",
              "      <td>1.0</td>\n",
              "      <td>10000</td>\n",
              "      <td>10000</td>\n",
              "      <td>20000</td>\n",
              "      <td>6</td>\n",
              "      <td>1</td>\n",
              "    </tr>\n",
              "  </tbody>\n",
              "</table>\n",
              "<p>1250 rows × 26 columns</p>\n",
              "</div>\n",
              "    <div class=\"colab-df-buttons\">\n",
              "\n",
              "  <div class=\"colab-df-container\">\n",
              "    <button class=\"colab-df-convert\" onclick=\"convertToInteractive('df-88857e42-03c1-4a74-8eac-908170105a89')\"\n",
              "            title=\"Convert this dataframe to an interactive table.\"\n",
              "            style=\"display:none;\">\n",
              "\n",
              "  <svg xmlns=\"http://www.w3.org/2000/svg\" height=\"24px\" viewBox=\"0 -960 960 960\">\n",
              "    <path d=\"M120-120v-720h720v720H120Zm60-500h600v-160H180v160Zm220 220h160v-160H400v160Zm0 220h160v-160H400v160ZM180-400h160v-160H180v160Zm440 0h160v-160H620v160ZM180-180h160v-160H180v160Zm440 0h160v-160H620v160Z\"/>\n",
              "  </svg>\n",
              "    </button>\n",
              "\n",
              "  <style>\n",
              "    .colab-df-container {\n",
              "      display:flex;\n",
              "      gap: 12px;\n",
              "    }\n",
              "\n",
              "    .colab-df-convert {\n",
              "      background-color: #E8F0FE;\n",
              "      border: none;\n",
              "      border-radius: 50%;\n",
              "      cursor: pointer;\n",
              "      display: none;\n",
              "      fill: #1967D2;\n",
              "      height: 32px;\n",
              "      padding: 0 0 0 0;\n",
              "      width: 32px;\n",
              "    }\n",
              "\n",
              "    .colab-df-convert:hover {\n",
              "      background-color: #E2EBFA;\n",
              "      box-shadow: 0px 1px 2px rgba(60, 64, 67, 0.3), 0px 1px 3px 1px rgba(60, 64, 67, 0.15);\n",
              "      fill: #174EA6;\n",
              "    }\n",
              "\n",
              "    .colab-df-buttons div {\n",
              "      margin-bottom: 4px;\n",
              "    }\n",
              "\n",
              "    [theme=dark] .colab-df-convert {\n",
              "      background-color: #3B4455;\n",
              "      fill: #D2E3FC;\n",
              "    }\n",
              "\n",
              "    [theme=dark] .colab-df-convert:hover {\n",
              "      background-color: #434B5C;\n",
              "      box-shadow: 0px 1px 3px 1px rgba(0, 0, 0, 0.15);\n",
              "      filter: drop-shadow(0px 1px 2px rgba(0, 0, 0, 0.3));\n",
              "      fill: #FFFFFF;\n",
              "    }\n",
              "  </style>\n",
              "\n",
              "    <script>\n",
              "      const buttonEl =\n",
              "        document.querySelector('#df-88857e42-03c1-4a74-8eac-908170105a89 button.colab-df-convert');\n",
              "      buttonEl.style.display =\n",
              "        google.colab.kernel.accessAllowed ? 'block' : 'none';\n",
              "\n",
              "      async function convertToInteractive(key) {\n",
              "        const element = document.querySelector('#df-88857e42-03c1-4a74-8eac-908170105a89');\n",
              "        const dataTable =\n",
              "          await google.colab.kernel.invokeFunction('convertToInteractive',\n",
              "                                                    [key], {});\n",
              "        if (!dataTable) return;\n",
              "\n",
              "        const docLinkHtml = 'Like what you see? Visit the ' +\n",
              "          '<a target=\"_blank\" href=https://colab.research.google.com/notebooks/data_table.ipynb>data table notebook</a>'\n",
              "          + ' to learn more about interactive tables.';\n",
              "        element.innerHTML = '';\n",
              "        dataTable['output_type'] = 'display_data';\n",
              "        await google.colab.output.renderOutput(dataTable, element);\n",
              "        const docLink = document.createElement('div');\n",
              "        docLink.innerHTML = docLinkHtml;\n",
              "        element.appendChild(docLink);\n",
              "      }\n",
              "    </script>\n",
              "  </div>\n",
              "\n",
              "\n",
              "<div id=\"df-8f9febba-6688-4964-b04a-69e1e26c4695\">\n",
              "  <button class=\"colab-df-quickchart\" onclick=\"quickchart('df-8f9febba-6688-4964-b04a-69e1e26c4695')\"\n",
              "            title=\"Suggest charts\"\n",
              "            style=\"display:none;\">\n",
              "\n",
              "<svg xmlns=\"http://www.w3.org/2000/svg\" height=\"24px\"viewBox=\"0 0 24 24\"\n",
              "     width=\"24px\">\n",
              "    <g>\n",
              "        <path d=\"M19 3H5c-1.1 0-2 .9-2 2v14c0 1.1.9 2 2 2h14c1.1 0 2-.9 2-2V5c0-1.1-.9-2-2-2zM9 17H7v-7h2v7zm4 0h-2V7h2v10zm4 0h-2v-4h2v4z\"/>\n",
              "    </g>\n",
              "</svg>\n",
              "  </button>\n",
              "\n",
              "<style>\n",
              "  .colab-df-quickchart {\n",
              "      --bg-color: #E8F0FE;\n",
              "      --fill-color: #1967D2;\n",
              "      --hover-bg-color: #E2EBFA;\n",
              "      --hover-fill-color: #174EA6;\n",
              "      --disabled-fill-color: #AAA;\n",
              "      --disabled-bg-color: #DDD;\n",
              "  }\n",
              "\n",
              "  [theme=dark] .colab-df-quickchart {\n",
              "      --bg-color: #3B4455;\n",
              "      --fill-color: #D2E3FC;\n",
              "      --hover-bg-color: #434B5C;\n",
              "      --hover-fill-color: #FFFFFF;\n",
              "      --disabled-bg-color: #3B4455;\n",
              "      --disabled-fill-color: #666;\n",
              "  }\n",
              "\n",
              "  .colab-df-quickchart {\n",
              "    background-color: var(--bg-color);\n",
              "    border: none;\n",
              "    border-radius: 50%;\n",
              "    cursor: pointer;\n",
              "    display: none;\n",
              "    fill: var(--fill-color);\n",
              "    height: 32px;\n",
              "    padding: 0;\n",
              "    width: 32px;\n",
              "  }\n",
              "\n",
              "  .colab-df-quickchart:hover {\n",
              "    background-color: var(--hover-bg-color);\n",
              "    box-shadow: 0 1px 2px rgba(60, 64, 67, 0.3), 0 1px 3px 1px rgba(60, 64, 67, 0.15);\n",
              "    fill: var(--button-hover-fill-color);\n",
              "  }\n",
              "\n",
              "  .colab-df-quickchart-complete:disabled,\n",
              "  .colab-df-quickchart-complete:disabled:hover {\n",
              "    background-color: var(--disabled-bg-color);\n",
              "    fill: var(--disabled-fill-color);\n",
              "    box-shadow: none;\n",
              "  }\n",
              "\n",
              "  .colab-df-spinner {\n",
              "    border: 2px solid var(--fill-color);\n",
              "    border-color: transparent;\n",
              "    border-bottom-color: var(--fill-color);\n",
              "    animation:\n",
              "      spin 1s steps(1) infinite;\n",
              "  }\n",
              "\n",
              "  @keyframes spin {\n",
              "    0% {\n",
              "      border-color: transparent;\n",
              "      border-bottom-color: var(--fill-color);\n",
              "      border-left-color: var(--fill-color);\n",
              "    }\n",
              "    20% {\n",
              "      border-color: transparent;\n",
              "      border-left-color: var(--fill-color);\n",
              "      border-top-color: var(--fill-color);\n",
              "    }\n",
              "    30% {\n",
              "      border-color: transparent;\n",
              "      border-left-color: var(--fill-color);\n",
              "      border-top-color: var(--fill-color);\n",
              "      border-right-color: var(--fill-color);\n",
              "    }\n",
              "    40% {\n",
              "      border-color: transparent;\n",
              "      border-right-color: var(--fill-color);\n",
              "      border-top-color: var(--fill-color);\n",
              "    }\n",
              "    60% {\n",
              "      border-color: transparent;\n",
              "      border-right-color: var(--fill-color);\n",
              "    }\n",
              "    80% {\n",
              "      border-color: transparent;\n",
              "      border-right-color: var(--fill-color);\n",
              "      border-bottom-color: var(--fill-color);\n",
              "    }\n",
              "    90% {\n",
              "      border-color: transparent;\n",
              "      border-bottom-color: var(--fill-color);\n",
              "    }\n",
              "  }\n",
              "</style>\n",
              "\n",
              "  <script>\n",
              "    async function quickchart(key) {\n",
              "      const quickchartButtonEl =\n",
              "        document.querySelector('#' + key + ' button');\n",
              "      quickchartButtonEl.disabled = true;  // To prevent multiple clicks.\n",
              "      quickchartButtonEl.classList.add('colab-df-spinner');\n",
              "      try {\n",
              "        const charts = await google.colab.kernel.invokeFunction(\n",
              "            'suggestCharts', [key], {});\n",
              "      } catch (error) {\n",
              "        console.error('Error during call to suggestCharts:', error);\n",
              "      }\n",
              "      quickchartButtonEl.classList.remove('colab-df-spinner');\n",
              "      quickchartButtonEl.classList.add('colab-df-quickchart-complete');\n",
              "    }\n",
              "    (() => {\n",
              "      let quickchartButtonEl =\n",
              "        document.querySelector('#df-8f9febba-6688-4964-b04a-69e1e26c4695 button');\n",
              "      quickchartButtonEl.style.display =\n",
              "        google.colab.kernel.accessAllowed ? 'block' : 'none';\n",
              "    })();\n",
              "  </script>\n",
              "</div>\n",
              "\n",
              "    </div>\n",
              "  </div>\n"
            ]
          },
          "metadata": {},
          "execution_count": 28
        }
      ]
    },
    {
      "cell_type": "markdown",
      "source": [
        "# Edad materna\n",
        "Edades por decadas de vida de los que presentan malformaciones craneofaciales, ya sea en una sola columna o ambas.\n",
        "menores de 20 años\n",
        "20-29\n",
        "30-39\n",
        "40-49\n",
        "mayores o igual a 50"
      ],
      "metadata": {
        "id": "Ezbh_hXCg2XN"
      }
    },
    {
      "cell_type": "code",
      "source": [
        "etiqueta = 'EDAD'\n",
        "key = \"Edad materna\"\n",
        "df[key] = None\n",
        "\n",
        "\n",
        "df[key].mask(df[etiqueta] < 20, 1, inplace=True)\n",
        "df[key].mask((df[etiqueta] >= 20) & (df[etiqueta] < 30), 2, inplace=True)\n",
        "df[key].mask((df[etiqueta] >= 30) & (df[etiqueta] < 40), 3, inplace=True)\n",
        "df[key].mask((df[etiqueta] >= 40) & (df[etiqueta] < 50), 4, inplace=True)\n",
        "df[key].mask((df[etiqueta] >= 50) & (df[etiqueta] != 999), 5, inplace=True)\n",
        "df[key].value_counts()\n"
      ],
      "metadata": {
        "id": "ta38oOSasecC",
        "colab": {
          "base_uri": "https://localhost:8080/"
        },
        "outputId": "4d45c0fb-f996-406e-933f-9496528be05c"
      },
      "execution_count": 29,
      "outputs": [
        {
          "output_type": "execute_result",
          "data": {
            "text/plain": [
              "2    868345\n",
              "3    461074\n",
              "1    254984\n",
              "4     38272\n",
              "5       223\n",
              "Name: Edad materna, dtype: int64"
            ]
          },
          "metadata": {},
          "execution_count": 29
        }
      ]
    },
    {
      "cell_type": "code",
      "source": [
        "# Con MCF\n",
        "df[df[\"MCC-General\"] == 1][key].value_counts()"
      ],
      "metadata": {
        "id": "DdC9byfPmoSp",
        "colab": {
          "base_uri": "https://localhost:8080/"
        },
        "outputId": "74e2313c-12db-4700-a4b5-7684dde36ba4"
      },
      "execution_count": 30,
      "outputs": [
        {
          "output_type": "execute_result",
          "data": {
            "text/plain": [
              "2    1977\n",
              "3    1202\n",
              "1     559\n",
              "4     109\n",
              "5       1\n",
              "Name: Edad materna, dtype: int64"
            ]
          },
          "metadata": {},
          "execution_count": 30
        }
      ]
    },
    {
      "cell_type": "markdown",
      "source": [
        "## Tipo de producto del embarazo\n",
        "- Único (1)\n",
        "- Gemelar (2)\n",
        "- Tres o más (3)"
      ],
      "metadata": {
        "id": "7FsKjPouVIQo"
      }
    },
    {
      "cell_type": "code",
      "source": [
        "etiqueta = 'PRODUCTOEMBARAZO'\n",
        "key = \"Tipo producto\"\n",
        "df[key] = None\n",
        "df[key].mask(df[etiqueta] == 1, 1, inplace=True)\n",
        "df[key].mask(df[etiqueta] == 2, 2, inplace=True)\n",
        "df[key].mask(df[etiqueta] == 3, 3, inplace=True)\n",
        "df[key].value_counts()"
      ],
      "metadata": {
        "colab": {
          "base_uri": "https://localhost:8080/"
        },
        "id": "D-qeAdgVVPZd",
        "outputId": "110f17ff-30ef-4e97-a107-797506863188"
      },
      "execution_count": 31,
      "outputs": [
        {
          "output_type": "execute_result",
          "data": {
            "text/plain": [
              "1    1592949\n",
              "2      26895\n",
              "3        717\n",
              "Name: Tipo producto, dtype: int64"
            ]
          },
          "metadata": {},
          "execution_count": 31
        }
      ]
    },
    {
      "cell_type": "code",
      "source": [
        "# Con MCF\n",
        "df[df[\"MCC-General\"] == 1][key].value_counts()"
      ],
      "metadata": {
        "id": "eqv7tmrjmo2-",
        "colab": {
          "base_uri": "https://localhost:8080/"
        },
        "outputId": "dc307b93-661a-48e6-f61b-7a66869ea512"
      },
      "execution_count": 32,
      "outputs": [
        {
          "output_type": "execute_result",
          "data": {
            "text/plain": [
              "1    3765\n",
              "2      74\n",
              "3       5\n",
              "Name: Tipo producto, dtype: int64"
            ]
          },
          "metadata": {},
          "execution_count": 32
        }
      ]
    },
    {
      "cell_type": "markdown",
      "source": [
        "# Numero de embarazos\n",
        "Primigesta (1 embarazo)\n",
        "Multigesta (2 a 5 embarazos)\n",
        "Gran multigesta (6 o más embarazos)"
      ],
      "metadata": {
        "id": "Z6D8_q3Dhnno"
      }
    },
    {
      "cell_type": "code",
      "source": [
        "etiqueta = 'NUMEROEMBARAZOS'\n",
        "key = \"Numero de embarazos\"\n",
        "df[key] = None\n",
        "\n",
        "\n",
        "df[key].mask(df[etiqueta] == 1, 1, inplace=True)\n",
        "df[key].mask((df[etiqueta] >= 2) & (df[etiqueta] < 6), 2, inplace=True)\n",
        "df[key].mask((df[etiqueta] >= 6) & (df[etiqueta] != 99), 3, inplace=True)\n",
        "df[key].value_counts()"
      ],
      "metadata": {
        "id": "cMrFIIzNwNwm",
        "colab": {
          "base_uri": "https://localhost:8080/"
        },
        "outputId": "bbd2e1be-acd0-4d59-a132-8e44267e2415"
      },
      "execution_count": 33,
      "outputs": [
        {
          "output_type": "execute_result",
          "data": {
            "text/plain": [
              "2    1030108\n",
              "1     561393\n",
              "3      31321\n",
              "Name: Numero de embarazos, dtype: int64"
            ]
          },
          "metadata": {},
          "execution_count": 33
        }
      ]
    },
    {
      "cell_type": "code",
      "source": [
        "# Con MCF\n",
        "df[df[\"MCC-General\"] == 1][key].value_counts()"
      ],
      "metadata": {
        "id": "jEiyyMx5mpcY",
        "colab": {
          "base_uri": "https://localhost:8080/"
        },
        "outputId": "d6d5728f-db87-483d-87a2-f1bc6438f3e4"
      },
      "execution_count": 34,
      "outputs": [
        {
          "output_type": "execute_result",
          "data": {
            "text/plain": [
              "2    2462\n",
              "1    1312\n",
              "3      74\n",
              "Name: Numero de embarazos, dtype: int64"
            ]
          },
          "metadata": {},
          "execution_count": 34
        }
      ]
    },
    {
      "cell_type": "markdown",
      "source": [
        "#Hijos nacidos muertos\n",
        "- Ausente (0)\n",
        "- Presente (1)"
      ],
      "metadata": {
        "id": "Jc3Elkwih3Rb"
      }
    },
    {
      "cell_type": "code",
      "source": [
        "etiqueta = 'HIJOSNACIDOSMUERTOS'\n",
        "key = \"Hijos nacidos muertos\"\n",
        "df[key] = None\n",
        "\n",
        "df[key].mask((df[etiqueta] >= 1) & (df[etiqueta] != 99), 1, inplace=True)\n",
        "df[key].mask(df[etiqueta] == 0, 0, inplace=True)\n",
        "df[key].value_counts()"
      ],
      "metadata": {
        "id": "1h5DG6roiGX9",
        "colab": {
          "base_uri": "https://localhost:8080/"
        },
        "outputId": "8ac30dad-c8e7-42b8-d029-e229a79e936a"
      },
      "execution_count": 35,
      "outputs": [
        {
          "output_type": "execute_result",
          "data": {
            "text/plain": [
              "0    1341483\n",
              "1     281133\n",
              "Name: Hijos nacidos muertos, dtype: int64"
            ]
          },
          "metadata": {},
          "execution_count": 35
        }
      ]
    },
    {
      "cell_type": "code",
      "source": [
        "# Con MCF\n",
        "df[df[\"MCC-General\"] == 1][key].value_counts()"
      ],
      "metadata": {
        "id": "Q2GjiBIWmqCD",
        "colab": {
          "base_uri": "https://localhost:8080/"
        },
        "outputId": "b44a4033-4776-4737-8ab7-769dfda9e18c"
      },
      "execution_count": 36,
      "outputs": [
        {
          "output_type": "execute_result",
          "data": {
            "text/plain": [
              "0    3091\n",
              "1     757\n",
              "Name: Hijos nacidos muertos, dtype: int64"
            ]
          },
          "metadata": {},
          "execution_count": 36
        }
      ]
    },
    {
      "cell_type": "markdown",
      "source": [
        "# Madre sobrevivio parto SOBREVIVIOPARTO\n",
        "* Si 1\n",
        "* No 2\n",
        "* no aplica, se ignora, no especificado 0, 8, 9\n"
      ],
      "metadata": {
        "id": "HRvNqKCR5bkz"
      }
    },
    {
      "cell_type": "code",
      "source": [
        "etiqueta = 'SOBREVIVIOPARTO'\n",
        "no_especificado = [0, 8, 9]\n",
        "\n",
        "key = \"Madre sobrevivio al parto\"\n",
        "df[key] = None\n",
        "\n",
        "df[key].mask(df[etiqueta] == 2, 0, inplace=True)\n",
        "df[key].mask(df[etiqueta] == 1, 1, inplace=True)\n",
        "df[key].mask(df[etiqueta].isin(no_especificado), 2, inplace=True)\n",
        "df[key].value_counts()"
      ],
      "metadata": {
        "id": "dkEH5qsYGBLK",
        "colab": {
          "base_uri": "https://localhost:8080/"
        },
        "outputId": "1af3c283-4bde-4c9d-8c14-0e6eaeeb4b24"
      },
      "execution_count": 37,
      "outputs": [
        {
          "output_type": "execute_result",
          "data": {
            "text/plain": [
              "1    1621428\n",
              "2       1413\n",
              "0         80\n",
              "Name: Madre sobrevivio al parto, dtype: int64"
            ]
          },
          "metadata": {},
          "execution_count": 37
        }
      ]
    },
    {
      "cell_type": "code",
      "source": [
        "# Con MCF\n",
        "df[df[\"MCC-General\"] == 1][key].value_counts()"
      ],
      "metadata": {
        "id": "wqG5vkX6mqk1",
        "colab": {
          "base_uri": "https://localhost:8080/"
        },
        "outputId": "67bfb5ef-4429-46d4-9e5f-1c326952f276"
      },
      "execution_count": 38,
      "outputs": [
        {
          "output_type": "execute_result",
          "data": {
            "text/plain": [
              "1    3847\n",
              "2       1\n",
              "Name: Madre sobrevivio al parto, dtype: int64"
            ]
          },
          "metadata": {},
          "execution_count": 38
        }
      ]
    },
    {
      "cell_type": "markdown",
      "source": [
        "#Madre recibio atencion prenatal\n",
        "* Si 1\n",
        "* No 2\n",
        "* no aplica, se ignora, no especificado 0, 8, 9"
      ],
      "metadata": {
        "id": "m4fTrHjgh78O"
      }
    },
    {
      "cell_type": "code",
      "source": [
        "etiqueta = 'ATENCIONPRENATAL'\n",
        "no_especificado = [0, 8, 9]\n",
        "key = \"Madre recibio atencion prenatal\"\n",
        "df[key] = None\n",
        "\n",
        "df[key].mask(df[etiqueta] == 1, 1, inplace=True)\n",
        "df[key].mask(df[etiqueta] == 2, 0, inplace=True)\n",
        "df[key].value_counts()\n"
      ],
      "metadata": {
        "id": "PS2sOsXiw4aV",
        "colab": {
          "base_uri": "https://localhost:8080/"
        },
        "outputId": "30667619-1275-4351-8e5b-dc7c253d99e4"
      },
      "execution_count": 39,
      "outputs": [
        {
          "output_type": "execute_result",
          "data": {
            "text/plain": [
              "1    1572585\n",
              "0      39985\n",
              "Name: Madre recibio atencion prenatal, dtype: int64"
            ]
          },
          "metadata": {},
          "execution_count": 39
        }
      ]
    },
    {
      "cell_type": "code",
      "source": [
        "# Con MCF\n",
        "df[df[\"MCC-General\"] == 1][key].value_counts()"
      ],
      "metadata": {
        "id": "G1_NWs0ImrBS",
        "colab": {
          "base_uri": "https://localhost:8080/"
        },
        "outputId": "083d10bb-8425-4b6a-df73-5a260c8f4f91"
      },
      "execution_count": 40,
      "outputs": [
        {
          "output_type": "execute_result",
          "data": {
            "text/plain": [
              "1    3745\n",
              "0      88\n",
              "Name: Madre recibio atencion prenatal, dtype: int64"
            ]
          },
          "metadata": {},
          "execution_count": 40
        }
      ]
    },
    {
      "cell_type": "markdown",
      "source": [
        "#Trimestre de primer consulta\n",
        "Trimestre 1\n",
        "Trimestre 2\n",
        "Trimestre 3"
      ],
      "metadata": {
        "id": "nZzoZX2NiAaM"
      }
    },
    {
      "cell_type": "code",
      "source": [
        "etiqueta = 'TRIMESTREPRIMERCONSULTA'\n",
        "key = \"Trimestre de la primera consulta\"\n",
        "df[key] = None\n",
        "\n",
        "df[key].mask(df[etiqueta] == 1, 1, inplace=True)\n",
        "df[key].mask(df[etiqueta] == 2, 2, inplace=True)\n",
        "df[key].mask(df[etiqueta] == 3, 3, inplace=True)\n",
        "df[key].value_counts()"
      ],
      "metadata": {
        "id": "9SE2H-FixTEw",
        "colab": {
          "base_uri": "https://localhost:8080/"
        },
        "outputId": "9f835983-5209-4f43-9a59-8473e94a9420"
      },
      "execution_count": 41,
      "outputs": [
        {
          "output_type": "execute_result",
          "data": {
            "text/plain": [
              "1    1236852\n",
              "2     261942\n",
              "3      50338\n",
              "Name: Trimestre de la primera consulta, dtype: int64"
            ]
          },
          "metadata": {},
          "execution_count": 41
        }
      ]
    },
    {
      "cell_type": "code",
      "source": [
        "# Con MCF\n",
        "df[df[\"MCC-General\"] == 1][key].value_counts()"
      ],
      "metadata": {
        "id": "6m8tJCEImriu",
        "colab": {
          "base_uri": "https://localhost:8080/"
        },
        "outputId": "fc5082ad-ab97-4572-ee79-320e60774382"
      },
      "execution_count": 42,
      "outputs": [
        {
          "output_type": "execute_result",
          "data": {
            "text/plain": [
              "1    2912\n",
              "2     676\n",
              "3     102\n",
              "Name: Trimestre de la primera consulta, dtype: int64"
            ]
          },
          "metadata": {},
          "execution_count": 42
        }
      ]
    },
    {
      "cell_type": "markdown",
      "source": [
        "# Total de consulta durante el embarazo\n",
        "Suficiente (5 o mas citas)\n",
        "Insuficiente (1-4 citas)\n",
        "No recibió (0 citas)"
      ],
      "metadata": {
        "id": "Va7KRG1BiMKK"
      }
    },
    {
      "cell_type": "code",
      "source": [
        "etiqueta = 'TOTALCONSULTAS'\n",
        "key = \"Total numero de consultas embarazo\"\n",
        "df[key] = None\n",
        "\n",
        "df[key].mask(df[etiqueta] == 0, 0, inplace=True)\n",
        "df[key].mask((df[etiqueta] >= 1) & (df[etiqueta] < 5), 1, inplace=True)\n",
        "df[key].mask((df[etiqueta] >= 5) & (df[etiqueta] != 99), 2, inplace=True)\n",
        "df[key].value_counts()"
      ],
      "metadata": {
        "id": "8Mw7jhQBxwXe",
        "colab": {
          "base_uri": "https://localhost:8080/"
        },
        "outputId": "6c9647ac-a814-44d9-ef7f-0a645ee8f36d"
      },
      "execution_count": 43,
      "outputs": [
        {
          "output_type": "execute_result",
          "data": {
            "text/plain": [
              "2    1359050\n",
              "1     201761\n",
              "0      47410\n",
              "Name: Total numero de consultas embarazo, dtype: int64"
            ]
          },
          "metadata": {},
          "execution_count": 43
        }
      ]
    },
    {
      "cell_type": "code",
      "source": [
        "# Con MCF\n",
        "df[df[\"MCC-General\"] == 1][key].value_counts()"
      ],
      "metadata": {
        "id": "vAyLRtwlmsEq",
        "colab": {
          "base_uri": "https://localhost:8080/"
        },
        "outputId": "2a893c0d-383b-4817-f403-925b0d5ed934"
      },
      "execution_count": 44,
      "outputs": [
        {
          "output_type": "execute_result",
          "data": {
            "text/plain": [
              "2    3283\n",
              "1     438\n",
              "0      89\n",
              "Name: Total numero de consultas embarazo, dtype: int64"
            ]
          },
          "metadata": {},
          "execution_count": 44
        }
      ]
    },
    {
      "cell_type": "markdown",
      "source": [
        "#Escolaridad materna\n",
        "Ninguno (0, 1, 32, 88, 99)\n",
        "Primaria completa (31, 52, 112)\n",
        "Secundaria completa (51, 72)\n",
        "Bachillerato o preparatoria completa (71, 82)\n",
        "Licenciatura completa (81, 102)\n",
        "Posgrado (101)\n",
        "Tecnico terminal (111, 131, 132)\n"
      ],
      "metadata": {
        "id": "7Qiqa1FSjCmR"
      }
    },
    {
      "cell_type": "code",
      "source": [
        "etiqueta = 'ESCOLARIDAD'\n",
        "ninguno = [1]\n",
        "primaria = [31, 32, 52, 112]\n",
        "secundaria = [51, 72]\n",
        "bachiller = [71, 82]\n",
        "licenciatura = [81, 102]\n",
        "posgrado = [101]\n",
        "tecnico = [111, 131, 132]\n",
        "no_esp = [0, 88, 99]\n",
        "key = \"Escolaridad materna\"\n",
        "df[key] = None\n",
        "df[key].mask(df[etiqueta].isin(ninguno), 0, inplace=True)\n",
        "df[key].mask(df[etiqueta].isin(primaria), 1, inplace=True)\n",
        "df[key].mask(df[etiqueta].isin(secundaria), 2, inplace=True)\n",
        "df[key].mask(df[etiqueta].isin(bachiller), 3, inplace=True)\n",
        "df[key].mask(df[etiqueta].isin(licenciatura), 4, inplace=True)\n",
        "df[key].mask(df[etiqueta].isin(posgrado), 5, inplace=True)\n",
        "df[key].mask(df[etiqueta].isin(tecnico), 6, inplace=True)\n",
        "df[key].mask(df[etiqueta].isin(no_esp), 7, inplace=True)\n",
        "df[key].value_counts()"
      ],
      "metadata": {
        "id": "P9NE5d9Ryjra",
        "colab": {
          "base_uri": "https://localhost:8080/"
        },
        "outputId": "76d38ea5-c549-47be-f60d-57f611f2b470"
      },
      "execution_count": 45,
      "outputs": [
        {
          "output_type": "execute_result",
          "data": {
            "text/plain": [
              "2    591917\n",
              "3    439160\n",
              "4    259744\n",
              "1    252094\n",
              "6     27729\n",
              "5     22766\n",
              "0     19716\n",
              "7      9795\n",
              "Name: Escolaridad materna, dtype: int64"
            ]
          },
          "metadata": {},
          "execution_count": 45
        }
      ]
    },
    {
      "cell_type": "code",
      "source": [
        "# Con MCF\n",
        "df[df[\"MCC-General\"] == 1][key].value_counts()"
      ],
      "metadata": {
        "id": "6WS0BPwwms7W",
        "colab": {
          "base_uri": "https://localhost:8080/"
        },
        "outputId": "28759376-5ba6-4976-f458-d0c5a5f19f97"
      },
      "execution_count": 46,
      "outputs": [
        {
          "output_type": "execute_result",
          "data": {
            "text/plain": [
              "2    1471\n",
              "3    1015\n",
              "4     615\n",
              "1     569\n",
              "6      67\n",
              "5      54\n",
              "0      36\n",
              "7      21\n",
              "Name: Escolaridad materna, dtype: int64"
            ]
          },
          "metadata": {},
          "execution_count": 46
        }
      ]
    },
    {
      "cell_type": "markdown",
      "source": [
        "# Entidad federativa de parto ENTIDADFEDERATIVAPARTO\n",
        "df.agg(['count', 'size', 'nunique'])\n"
      ],
      "metadata": {
        "id": "A8W_dAXfqMfH"
      }
    },
    {
      "cell_type": "code",
      "source": [
        "df['ENTIDADFEDERATIVAPARTO'].mask(df['ENTIDADFEDERATIVAPARTO'] == 99, None, inplace=True)\n",
        "df['ENTIDADFEDERATIVAPARTO'].value_counts()"
      ],
      "metadata": {
        "id": "cP4WX7HPr2s0",
        "colab": {
          "base_uri": "https://localhost:8080/"
        },
        "outputId": "09aa3ef2-59fb-4bd7-a877-ff42ef3236c4"
      },
      "execution_count": 47,
      "outputs": [
        {
          "output_type": "execute_result",
          "data": {
            "text/plain": [
              "15    184741\n",
              "14    108852\n",
              "21    101751\n",
              "9      96139\n",
              "30     92135\n",
              "11     88507\n",
              "7      86896\n",
              "19     73168\n",
              "16     71513\n",
              "20     55363\n",
              "12     50228\n",
              "8      47623\n",
              "28     45556\n",
              "5      44030\n",
              "2      43508\n",
              "24     41067\n",
              "25     40398\n",
              "27     36655\n",
              "13     35198\n",
              "26     33911\n",
              "22     33728\n",
              "31     28196\n",
              "10     25641\n",
              "17     24944\n",
              "23     22937\n",
              "32     22366\n",
              "1      21301\n",
              "29     18699\n",
              "18     15708\n",
              "4      11657\n",
              "3      10477\n",
              "6      10028\n",
              "Name: ENTIDADFEDERATIVAPARTO, dtype: int64"
            ]
          },
          "metadata": {},
          "execution_count": 47
        }
      ]
    },
    {
      "cell_type": "code",
      "source": [
        "# Con MCF\n",
        "df[df[\"MCC-General\"] == 1][key].value_counts()"
      ],
      "metadata": {
        "id": "hWOArPbmmt8U",
        "colab": {
          "base_uri": "https://localhost:8080/"
        },
        "outputId": "c7a419bd-9cdd-46e5-aa90-2790fac18d63"
      },
      "execution_count": 48,
      "outputs": [
        {
          "output_type": "execute_result",
          "data": {
            "text/plain": [
              "2    1471\n",
              "3    1015\n",
              "4     615\n",
              "1     569\n",
              "6      67\n",
              "5      54\n",
              "0      36\n",
              "7      21\n",
              "Name: Escolaridad materna, dtype: int64"
            ]
          },
          "metadata": {},
          "execution_count": 48
        }
      ]
    },
    {
      "cell_type": "markdown",
      "source": [
        "# Sexo del recien nacido SEXO\n",
        "* Hombre 1\n",
        "* mujer 2\n",
        "* no especificado 0,9"
      ],
      "metadata": {
        "id": "4tMxn-Thwq8J"
      }
    },
    {
      "cell_type": "code",
      "source": [
        "etiqueta = 'SEXO'\n",
        "key = \"Escolaridad materna\"\n",
        "df[key] = None\n",
        "df[key].mask(df[etiqueta] == 1, 1, inplace=True)\n",
        "df[key].mask(df[etiqueta] == 2, 2, inplace=True)\n",
        "df[key].mask((df[etiqueta] == 0) | (df[etiqueta] == 9), 3, inplace=True)\n",
        "df[key].value_counts()"
      ],
      "metadata": {
        "id": "E6wVOkSX68at",
        "colab": {
          "base_uri": "https://localhost:8080/"
        },
        "outputId": "9eb9e2b3-717c-4cbc-8532-caf6cecbd270"
      },
      "execution_count": 49,
      "outputs": [
        {
          "output_type": "execute_result",
          "data": {
            "text/plain": [
              "1    826549\n",
              "2    795243\n",
              "3      1129\n",
              "Name: Escolaridad materna, dtype: int64"
            ]
          },
          "metadata": {},
          "execution_count": 49
        }
      ]
    },
    {
      "cell_type": "code",
      "source": [
        "# Con MCF\n",
        "df[df[\"MCC-General\"] == 1][key].value_counts()"
      ],
      "metadata": {
        "id": "d-FfETklnCMq",
        "colab": {
          "base_uri": "https://localhost:8080/"
        },
        "outputId": "b37f83b8-8a00-4c95-b8d0-377da2660016"
      },
      "execution_count": 50,
      "outputs": [
        {
          "output_type": "execute_result",
          "data": {
            "text/plain": [
              "1    2097\n",
              "2    1746\n",
              "3       5\n",
              "Name: Escolaridad materna, dtype: int64"
            ]
          },
          "metadata": {},
          "execution_count": 50
        }
      ]
    },
    {
      "cell_type": "markdown",
      "source": [
        "# Edad gestacional EDADGESTACIONAL\n",
        "* pretermino =<36 semanas\n",
        "* termino 37-41 semanas\n",
        "* postermino =>42 semanas"
      ],
      "metadata": {
        "id": "2Wr4TGM9xfy0"
      }
    },
    {
      "cell_type": "code",
      "source": [
        "etiqueta = 'EDADGESTACIONAL'\n",
        "key = \"Edad gestacional\"\n",
        "df[key] = None\n",
        "df[key].mask(df[etiqueta] <= 36, 1, inplace=True)\n",
        "df[key].mask((df[etiqueta] > 36) & (df[etiqueta] < 42), 2, inplace=True)\n",
        "df[key].mask((df[etiqueta] >= 42) & (df[etiqueta] != 99), 3, inplace=True)\n",
        "df[key].value_counts()"
      ],
      "metadata": {
        "id": "1_brL3vk7E_W",
        "colab": {
          "base_uri": "https://localhost:8080/"
        },
        "outputId": "956fe197-e747-4db3-831d-304b7ffc083f"
      },
      "execution_count": 51,
      "outputs": [
        {
          "output_type": "execute_result",
          "data": {
            "text/plain": [
              "2    1476787\n",
              "1     133638\n",
              "3      11407\n",
              "Name: Edad gestacional, dtype: int64"
            ]
          },
          "metadata": {},
          "execution_count": 51
        }
      ]
    },
    {
      "cell_type": "code",
      "source": [
        "# Con MCF\n",
        "df[df[\"MCC-General\"] == 1][key].value_counts()"
      ],
      "metadata": {
        "id": "TBGvZef_nEJ_",
        "colab": {
          "base_uri": "https://localhost:8080/"
        },
        "outputId": "d0503ece-3ee2-4c39-8a07-7224aec2b257"
      },
      "execution_count": 52,
      "outputs": [
        {
          "output_type": "execute_result",
          "data": {
            "text/plain": [
              "2    3263\n",
              "1     559\n",
              "3      24\n",
              "Name: Edad gestacional, dtype: int64"
            ]
          },
          "metadata": {},
          "execution_count": 52
        }
      ]
    },
    {
      "cell_type": "markdown",
      "source": [
        "# Peso del recien nacido PESO\n",
        "* bajo peso =<2499gr\n",
        "* normopeso 2500-3999gr\n",
        "* macrosomico =>4000 gr"
      ],
      "metadata": {
        "id": "xwau8qdvyuOm"
      }
    },
    {
      "cell_type": "code",
      "source": [
        "etiqueta = 'PESO'\n",
        "key = \"Peso del nacido vivo\"\n",
        "df[key] = None\n",
        "df[key].mask(df[etiqueta] < 2500, 1, inplace=True)\n",
        "df[key].mask((df[etiqueta] >= 2500) & (df[etiqueta] < 4000), 2, inplace=True)\n",
        "df[key].mask((df[etiqueta] >= 4000) & (df[etiqueta] != 9999), 3, inplace=True)\n",
        "df[key].value_counts()"
      ],
      "metadata": {
        "id": "cOUHFGiF7v4d",
        "colab": {
          "base_uri": "https://localhost:8080/"
        },
        "outputId": "b425f26a-e4e1-4290-f415-cd92660f5599"
      },
      "execution_count": 53,
      "outputs": [
        {
          "output_type": "execute_result",
          "data": {
            "text/plain": [
              "2    1383531\n",
              "1     113131\n",
              "3      35188\n",
              "Name: Peso del nacido vivo, dtype: int64"
            ]
          },
          "metadata": {},
          "execution_count": 53
        }
      ]
    },
    {
      "cell_type": "code",
      "source": [
        "# Con MCF\n",
        "df[df[\"MCC-General\"] == 1][key].value_counts()"
      ],
      "metadata": {
        "id": "eu7GuI77nFAU",
        "colab": {
          "base_uri": "https://localhost:8080/"
        },
        "outputId": "cf4808d8-026f-4fca-b145-225cc9ca285d"
      },
      "execution_count": 54,
      "outputs": [
        {
          "output_type": "execute_result",
          "data": {
            "text/plain": [
              "2    2986\n",
              "1     452\n",
              "3      77\n",
              "Name: Peso del nacido vivo, dtype: int64"
            ]
          },
          "metadata": {},
          "execution_count": 54
        }
      ]
    },
    {
      "cell_type": "markdown",
      "source": [
        "# Puntaje escala APGAR a los 5 minutos de recien nacido con MCF APGAR\n",
        "* Normal 7-10 puntos\n",
        "* Depresion moderada 4-6 puntos\n",
        "* Depresion severa 0-3 puntos"
      ],
      "metadata": {
        "id": "lHQAqlNDzzNx"
      }
    },
    {
      "cell_type": "code",
      "source": [
        "etiqueta = 'APGAR'\n",
        "key = \"Puntaje apgar\"\n",
        "df[key] = None\n",
        "df[key].mask((df[etiqueta] >= 7) & (df[etiqueta] <= 10), 1, inplace=True)\n",
        "df[key].mask((df[etiqueta] >= 4) & (df[etiqueta] <= 6), 2, inplace=True)\n",
        "df[key].mask((df[etiqueta] >= 0) & (df[etiqueta] <= 3), 3, inplace=True)\n",
        "df[key].mask((df[etiqueta] == 99), 4, inplace=True)\n",
        "df[key].value_counts()"
      ],
      "metadata": {
        "id": "7AVDt77-77gS",
        "colab": {
          "base_uri": "https://localhost:8080/"
        },
        "outputId": "180e636a-025c-44d3-e530-194acc7fd832"
      },
      "execution_count": 55,
      "outputs": [
        {
          "output_type": "execute_result",
          "data": {
            "text/plain": [
              "1    1594076\n",
              "3      11995\n",
              "4       9791\n",
              "2       7059\n",
              "Name: Puntaje apgar, dtype: int64"
            ]
          },
          "metadata": {},
          "execution_count": 55
        }
      ]
    },
    {
      "cell_type": "code",
      "source": [
        "# Con MCF\n",
        "df[df[\"MCC-General\"] == 1][key].value_counts()"
      ],
      "metadata": {
        "id": "opatHdlinLLG",
        "colab": {
          "base_uri": "https://localhost:8080/"
        },
        "outputId": "eba99c83-2f6c-4fd6-8e41-a80cb056d9a4"
      },
      "execution_count": 56,
      "outputs": [
        {
          "output_type": "execute_result",
          "data": {
            "text/plain": [
              "1    3731\n",
              "2      58\n",
              "3      49\n",
              "4      10\n",
              "Name: Puntaje apgar, dtype: int64"
            ]
          },
          "metadata": {},
          "execution_count": 56
        }
      ]
    },
    {
      "cell_type": "markdown",
      "source": [
        "# Puntaje escala Silverman Anderson en recien nacidos con MCF SILVERMAN\n",
        "* sin dificultad respiratoria\n",
        "* dificultad respiratoria leve 1-3 puntos\n",
        "* dificultad respiratoria moderada 4-6 puntos\n",
        "* dificultad respiratoria severa 7-10 puntos"
      ],
      "metadata": {
        "id": "ZOcCSIww0j-W"
      }
    },
    {
      "cell_type": "code",
      "source": [
        "etiqueta = 'SILVERMAN'\n",
        "key = \"Puntaje silverman\"\n",
        "df[key] = None\n",
        "df[key].mask(df[etiqueta] == 0, 0, inplace=True)\n",
        "df[key].mask((df[etiqueta] >= 1) & (df[etiqueta] <= 3), 1, inplace=True)\n",
        "df[key].mask((df[etiqueta] >= 4) & (df[etiqueta] <= 6), 2, inplace=True)\n",
        "df[key].mask((df[etiqueta] >= 7) & (df[etiqueta] <= 10), 3, inplace=True)\n",
        "df[key].mask((df[etiqueta] == 99), 4, inplace=True)\n",
        "df[key].value_counts()"
      ],
      "metadata": {
        "id": "LN-RMnxe8bAa",
        "colab": {
          "base_uri": "https://localhost:8080/"
        },
        "outputId": "9c01ca63-0580-473b-91a5-8435a28901eb"
      },
      "execution_count": 57,
      "outputs": [
        {
          "output_type": "execute_result",
          "data": {
            "text/plain": [
              "0    1421313\n",
              "1     162437\n",
              "3      19239\n",
              "4      10434\n",
              "2       9498\n",
              "Name: Puntaje silverman, dtype: int64"
            ]
          },
          "metadata": {},
          "execution_count": 57
        }
      ]
    },
    {
      "cell_type": "code",
      "source": [
        "# Con MCF\n",
        "df[df[\"MCC-General\"] == 1][key].value_counts()"
      ],
      "metadata": {
        "id": "lZRkwHAG2TJz",
        "colab": {
          "base_uri": "https://localhost:8080/"
        },
        "outputId": "a34c6a1d-22d2-46e4-ad63-08c13eee2799"
      },
      "execution_count": 58,
      "outputs": [
        {
          "output_type": "execute_result",
          "data": {
            "text/plain": [
              "0    3025\n",
              "1     716\n",
              "2      62\n",
              "3      32\n",
              "4      13\n",
              "Name: Puntaje silverman, dtype: int64"
            ]
          },
          "metadata": {},
          "execution_count": 58
        }
      ]
    },
    {
      "cell_type": "markdown",
      "source": [
        "# Procedimiento utilizado para resolucion del embarazo RESOLUCIONEMBARAZO\n",
        "\n",
        "* eutocico 1 (1)\n",
        "* distocico 2 (2)\n",
        "* cesarea 3 (3)\n",
        "* otro 8 (4)\n",
        "* no especificado 0 (5)"
      ],
      "metadata": {
        "id": "vAjVNQj-2PBb"
      }
    },
    {
      "cell_type": "code",
      "source": [
        "etiqueta = 'RESOLUCIONEMBARAZO'\n",
        "key = \"Procedimiento para resolucion\"\n",
        "df[key] = None\n",
        "df[key].mask(df[etiqueta] == 1, 1, inplace=True)\n",
        "df[key].mask(df[etiqueta] == 2, 2, inplace=True)\n",
        "df[key].mask(df[etiqueta] == 3, 3, inplace=True)\n",
        "df[key].mask(df[etiqueta] == 8, 4, inplace=True)\n",
        "df[key].mask(df[etiqueta] == 0, 5, inplace=True)\n",
        "\n",
        "df[key].value_counts()"
      ],
      "metadata": {
        "id": "J6OdfDbk_tfN",
        "colab": {
          "base_uri": "https://localhost:8080/"
        },
        "outputId": "9cdce6df-632b-49e3-83f7-cec645e31843"
      },
      "execution_count": 59,
      "outputs": [
        {
          "output_type": "execute_result",
          "data": {
            "text/plain": [
              "3    843343\n",
              "1    753453\n",
              "2     16217\n",
              "5      9547\n",
              "4       361\n",
              "Name: Procedimiento para resolucion, dtype: int64"
            ]
          },
          "metadata": {},
          "execution_count": 59
        }
      ]
    },
    {
      "cell_type": "code",
      "source": [
        "# Con MCF\n",
        "df[df[\"MCC-General\"] == 1][key].value_counts()"
      ],
      "metadata": {
        "id": "rR2yb2YJ2T51",
        "colab": {
          "base_uri": "https://localhost:8080/"
        },
        "outputId": "01da9d6b-df2b-436d-d21c-baa3eb91c3dd"
      },
      "execution_count": 60,
      "outputs": [
        {
          "output_type": "execute_result",
          "data": {
            "text/plain": [
              "3    2280\n",
              "1    1506\n",
              "2      39\n",
              "5      23\n",
              "Name: Procedimiento para resolucion, dtype: int64"
            ]
          },
          "metadata": {},
          "execution_count": 60
        }
      ]
    },
    {
      "cell_type": "markdown",
      "source": [
        "# FECHANACIMIENTO\n",
        "Actualizar para solo usar el mes y el año\n",
        "\n",
        "Sería\n",
        "- 2018 (1)\n",
        "- 2019 (2)\n",
        "- 2020 (3)\n",
        "- 2021 (4)\n",
        "- 2022 (5)"
      ],
      "metadata": {
        "id": "4K1Qzsfr7gzY"
      }
    },
    {
      "cell_type": "code",
      "source": [
        "etiqueta = 'FECHANACIMIENTO'\n",
        "df[etiqueta]"
      ],
      "metadata": {
        "colab": {
          "base_uri": "https://localhost:8080/"
        },
        "id": "3e6O-Z1B7gVE",
        "outputId": "a3886bd7-d333-4b47-8c60-b50f45a4adf7"
      },
      "execution_count": 61,
      "outputs": [
        {
          "output_type": "execute_result",
          "data": {
            "text/plain": [
              "0          03/02/2022\n",
              "1          10/01/2022\n",
              "2          01/02/2022\n",
              "3          01/02/2022\n",
              "4          05/02/2022\n",
              "              ...    \n",
              "1622916    17/11/2022\n",
              "1622917    26/11/2022\n",
              "1622918    10/11/2022\n",
              "1622919    17/11/2022\n",
              "1622920    03/12/2022\n",
              "Name: FECHANACIMIENTO, Length: 1622921, dtype: object"
            ]
          },
          "metadata": {},
          "execution_count": 61
        }
      ]
    },
    {
      "cell_type": "code",
      "source": [
        "etiqueta = 'fecha nacimiento'\n",
        "df[etiqueta] = pd.to_datetime(df['FECHANACIMIENTO'], format='%d/%m/%Y').dt.strftime('%m/%Y')\n",
        "key = 'Year'\n",
        "format = '01/01/' + year\n",
        "df[key] = None\n",
        "df[key].mask(df[etiqueta] >= format, year_key[year], inplace=True)\n",
        "df[key].value_counts()"
      ],
      "metadata": {
        "colab": {
          "base_uri": "https://localhost:8080/"
        },
        "id": "yLwR5rSw8HK_",
        "outputId": "2fe463b0-d963-4a56-ea29-a53038badf26"
      },
      "execution_count": 62,
      "outputs": [
        {
          "output_type": "execute_result",
          "data": {
            "text/plain": [
              "5    1622921\n",
              "Name: Year, dtype: int64"
            ]
          },
          "metadata": {},
          "execution_count": 62
        }
      ]
    },
    {
      "cell_type": "code",
      "source": [
        "fileName = '/content/drive/My Drive/Colab Notebooks/miriam/' + year + '_nacimientos_clean.csv'\n",
        "df.to_csv(fileName, index=False)"
      ],
      "metadata": {
        "id": "MblUg8Ik4E75"
      },
      "execution_count": 63,
      "outputs": []
    },
    {
      "cell_type": "markdown",
      "source": [
        "# Analisis de datos"
      ],
      "metadata": {
        "id": "fAJb6NvvPBgF"
      }
    },
    {
      "cell_type": "code",
      "source": [
        "df['EDAD'].replace([999, 888], None)\n",
        "df['NUMEROEMBARAZOS'].replace([99], None)\n",
        "df['HIJOSNACIDOSMUERTOS'].replace([99], None)\n",
        "df['ATENCIONPRENATAL'].replace([9], None)\n",
        "df['TRIMESTREPRIMERCONSULTA'].replace([9], None)\n",
        "df['TOTALCONSULTAS'].replace([99], None)\n",
        "df['SOBREVIVIOPARTO'].replace([9], None)\n",
        "df['ESCOLARIDAD'].replace([999], None)\n",
        "df['SEXO'].replace([99], None)\n",
        "df['EDADGESTACIONAL'].replace([99], None)\n",
        "df['TALLA'].replace([99], None)\n",
        "df['PESO'].replace([9999], None)\n",
        "df['TALLA'].replace([9], None)\n",
        "df['APGAR'].replace([99], None)\n",
        "df['SILVERMAN'].replace([99], None)"
      ],
      "metadata": {
        "colab": {
          "base_uri": "https://localhost:8080/"
        },
        "id": "aGP9TrdjavJ1",
        "outputId": "64efabc3-9624-46e3-de89-4abab751f576"
      },
      "execution_count": 64,
      "outputs": [
        {
          "output_type": "execute_result",
          "data": {
            "text/plain": [
              "0          0\n",
              "1          0\n",
              "2          0\n",
              "3          0\n",
              "4          0\n",
              "          ..\n",
              "1622916    0\n",
              "1622917    2\n",
              "1622918    0\n",
              "1622919    0\n",
              "1622920    0\n",
              "Name: SILVERMAN, Length: 1622921, dtype: object"
            ]
          },
          "metadata": {},
          "execution_count": 64
        }
      ]
    },
    {
      "cell_type": "markdown",
      "source": [
        "### Pacientes con MCF"
      ],
      "metadata": {
        "id": "MkeRvlDpInnx"
      }
    },
    {
      "cell_type": "code",
      "source": [
        "label = \"MCC-General\"\n",
        "df[df[label] == 1].describe().applymap('{:,.2f}'.format)"
      ],
      "metadata": {
        "colab": {
          "base_uri": "https://localhost:8080/",
          "height": 367
        },
        "id": "JrdDLCD5PWXS",
        "outputId": "e0d01c96-f591-4ffe-ad1f-cacd62b20de6"
      },
      "execution_count": 65,
      "outputs": [
        {
          "output_type": "execute_result",
          "data": {
            "text/plain": [
              "           EDAD NUMEROEMBARAZOS HIJOSNACIDOSMUERTOS ATENCIONPRENATAL  \\\n",
              "count  3,848.00        3,848.00            3,848.00         3,848.00   \n",
              "mean      26.77            2.24                0.26             1.05   \n",
              "std        6.53            1.27                0.59             0.49   \n",
              "min       12.00            1.00                0.00             0.00   \n",
              "25%       22.00            1.00                0.00             1.00   \n",
              "50%       26.00            2.00                0.00             1.00   \n",
              "75%       31.00            3.00                0.00             1.00   \n",
              "max       50.00           12.00                7.00             9.00   \n",
              "\n",
              "      TRIMESTREPRIMERCONSULTA TOTALCONSULTAS SOBREVIVIOPARTO ESCOLARIDAD  \\\n",
              "count                3,848.00       3,829.00        3,848.00    3,848.00   \n",
              "mean                     1.34           8.14            1.00       62.37   \n",
              "std                      1.10           7.29            0.02       19.60   \n",
              "min                      0.00           0.00            0.00        0.00   \n",
              "25%                      1.00           6.00            1.00       51.00   \n",
              "50%                      1.00           8.00            1.00       71.00   \n",
              "75%                      1.00           9.00            1.00       72.00   \n",
              "max                      9.00          99.00            1.00      132.00   \n",
              "\n",
              "           SEXO EDADGESTACIONAL  ...      PESO     APGAR SILVERMAN  \\\n",
              "count  3,848.00        3,848.00  ...  3,848.00  3,848.00  3,848.00   \n",
              "mean       1.45           38.15  ...  3,609.54      8.97      0.79   \n",
              "std        0.50            2.73  ...  2,034.67      4.72      5.84   \n",
              "min        0.00           18.00  ...    495.00      0.00      0.00   \n",
              "25%        1.00           37.00  ...  2,765.00      9.00      0.00   \n",
              "50%        1.00           39.00  ...  3,095.00      9.00      0.00   \n",
              "75%        2.00           40.00  ...  3,465.75      9.00      0.00   \n",
              "max        2.00           99.00  ...  9,999.00     99.00     99.00   \n",
              "\n",
              "      PRODUCTOEMBARAZO RESOLUCIONEMBARAZO ENTIDADFEDERATIVAPARTO MCC-General  \\\n",
              "count         3,848.00           3,848.00               3,848.00    3,848.00   \n",
              "mean              1.02               2.19                  16.57        1.00   \n",
              "std               0.16               0.99                   8.24        0.00   \n",
              "min               0.00               0.00                   1.00        1.00   \n",
              "25%               1.00               1.00                  10.00        1.00   \n",
              "50%               1.00               3.00                  15.00        1.00   \n",
              "75%               1.00               3.00                  22.00        1.00   \n",
              "max               3.00               3.00                  32.00        1.00   \n",
              "\n",
              "            MC-1       MC-2       MC-G  \n",
              "count   3,848.00   3,848.00   3,848.00  \n",
              "mean    3,944.22     986.91   4,931.13  \n",
              "std     4,858.89   2,959.81   6,092.19  \n",
              "min         0.00       0.00       1.00  \n",
              "25%        10.00       0.00      10.00  \n",
              "50%        10.00       0.00     100.00  \n",
              "75%    10,000.00       0.00  10,000.00  \n",
              "max    10,000.00  10,000.00  20,000.00  \n",
              "\n",
              "[8 rows x 21 columns]"
            ],
            "text/html": [
              "\n",
              "  <div id=\"df-36dd162b-890f-4aad-a9a0-74a230c2ea2a\" class=\"colab-df-container\">\n",
              "    <div>\n",
              "<style scoped>\n",
              "    .dataframe tbody tr th:only-of-type {\n",
              "        vertical-align: middle;\n",
              "    }\n",
              "\n",
              "    .dataframe tbody tr th {\n",
              "        vertical-align: top;\n",
              "    }\n",
              "\n",
              "    .dataframe thead th {\n",
              "        text-align: right;\n",
              "    }\n",
              "</style>\n",
              "<table border=\"1\" class=\"dataframe\">\n",
              "  <thead>\n",
              "    <tr style=\"text-align: right;\">\n",
              "      <th></th>\n",
              "      <th>EDAD</th>\n",
              "      <th>NUMEROEMBARAZOS</th>\n",
              "      <th>HIJOSNACIDOSMUERTOS</th>\n",
              "      <th>ATENCIONPRENATAL</th>\n",
              "      <th>TRIMESTREPRIMERCONSULTA</th>\n",
              "      <th>TOTALCONSULTAS</th>\n",
              "      <th>SOBREVIVIOPARTO</th>\n",
              "      <th>ESCOLARIDAD</th>\n",
              "      <th>SEXO</th>\n",
              "      <th>EDADGESTACIONAL</th>\n",
              "      <th>...</th>\n",
              "      <th>PESO</th>\n",
              "      <th>APGAR</th>\n",
              "      <th>SILVERMAN</th>\n",
              "      <th>PRODUCTOEMBARAZO</th>\n",
              "      <th>RESOLUCIONEMBARAZO</th>\n",
              "      <th>ENTIDADFEDERATIVAPARTO</th>\n",
              "      <th>MCC-General</th>\n",
              "      <th>MC-1</th>\n",
              "      <th>MC-2</th>\n",
              "      <th>MC-G</th>\n",
              "    </tr>\n",
              "  </thead>\n",
              "  <tbody>\n",
              "    <tr>\n",
              "      <th>count</th>\n",
              "      <td>3,848.00</td>\n",
              "      <td>3,848.00</td>\n",
              "      <td>3,848.00</td>\n",
              "      <td>3,848.00</td>\n",
              "      <td>3,848.00</td>\n",
              "      <td>3,829.00</td>\n",
              "      <td>3,848.00</td>\n",
              "      <td>3,848.00</td>\n",
              "      <td>3,848.00</td>\n",
              "      <td>3,848.00</td>\n",
              "      <td>...</td>\n",
              "      <td>3,848.00</td>\n",
              "      <td>3,848.00</td>\n",
              "      <td>3,848.00</td>\n",
              "      <td>3,848.00</td>\n",
              "      <td>3,848.00</td>\n",
              "      <td>3,848.00</td>\n",
              "      <td>3,848.00</td>\n",
              "      <td>3,848.00</td>\n",
              "      <td>3,848.00</td>\n",
              "      <td>3,848.00</td>\n",
              "    </tr>\n",
              "    <tr>\n",
              "      <th>mean</th>\n",
              "      <td>26.77</td>\n",
              "      <td>2.24</td>\n",
              "      <td>0.26</td>\n",
              "      <td>1.05</td>\n",
              "      <td>1.34</td>\n",
              "      <td>8.14</td>\n",
              "      <td>1.00</td>\n",
              "      <td>62.37</td>\n",
              "      <td>1.45</td>\n",
              "      <td>38.15</td>\n",
              "      <td>...</td>\n",
              "      <td>3,609.54</td>\n",
              "      <td>8.97</td>\n",
              "      <td>0.79</td>\n",
              "      <td>1.02</td>\n",
              "      <td>2.19</td>\n",
              "      <td>16.57</td>\n",
              "      <td>1.00</td>\n",
              "      <td>3,944.22</td>\n",
              "      <td>986.91</td>\n",
              "      <td>4,931.13</td>\n",
              "    </tr>\n",
              "    <tr>\n",
              "      <th>std</th>\n",
              "      <td>6.53</td>\n",
              "      <td>1.27</td>\n",
              "      <td>0.59</td>\n",
              "      <td>0.49</td>\n",
              "      <td>1.10</td>\n",
              "      <td>7.29</td>\n",
              "      <td>0.02</td>\n",
              "      <td>19.60</td>\n",
              "      <td>0.50</td>\n",
              "      <td>2.73</td>\n",
              "      <td>...</td>\n",
              "      <td>2,034.67</td>\n",
              "      <td>4.72</td>\n",
              "      <td>5.84</td>\n",
              "      <td>0.16</td>\n",
              "      <td>0.99</td>\n",
              "      <td>8.24</td>\n",
              "      <td>0.00</td>\n",
              "      <td>4,858.89</td>\n",
              "      <td>2,959.81</td>\n",
              "      <td>6,092.19</td>\n",
              "    </tr>\n",
              "    <tr>\n",
              "      <th>min</th>\n",
              "      <td>12.00</td>\n",
              "      <td>1.00</td>\n",
              "      <td>0.00</td>\n",
              "      <td>0.00</td>\n",
              "      <td>0.00</td>\n",
              "      <td>0.00</td>\n",
              "      <td>0.00</td>\n",
              "      <td>0.00</td>\n",
              "      <td>0.00</td>\n",
              "      <td>18.00</td>\n",
              "      <td>...</td>\n",
              "      <td>495.00</td>\n",
              "      <td>0.00</td>\n",
              "      <td>0.00</td>\n",
              "      <td>0.00</td>\n",
              "      <td>0.00</td>\n",
              "      <td>1.00</td>\n",
              "      <td>1.00</td>\n",
              "      <td>0.00</td>\n",
              "      <td>0.00</td>\n",
              "      <td>1.00</td>\n",
              "    </tr>\n",
              "    <tr>\n",
              "      <th>25%</th>\n",
              "      <td>22.00</td>\n",
              "      <td>1.00</td>\n",
              "      <td>0.00</td>\n",
              "      <td>1.00</td>\n",
              "      <td>1.00</td>\n",
              "      <td>6.00</td>\n",
              "      <td>1.00</td>\n",
              "      <td>51.00</td>\n",
              "      <td>1.00</td>\n",
              "      <td>37.00</td>\n",
              "      <td>...</td>\n",
              "      <td>2,765.00</td>\n",
              "      <td>9.00</td>\n",
              "      <td>0.00</td>\n",
              "      <td>1.00</td>\n",
              "      <td>1.00</td>\n",
              "      <td>10.00</td>\n",
              "      <td>1.00</td>\n",
              "      <td>10.00</td>\n",
              "      <td>0.00</td>\n",
              "      <td>10.00</td>\n",
              "    </tr>\n",
              "    <tr>\n",
              "      <th>50%</th>\n",
              "      <td>26.00</td>\n",
              "      <td>2.00</td>\n",
              "      <td>0.00</td>\n",
              "      <td>1.00</td>\n",
              "      <td>1.00</td>\n",
              "      <td>8.00</td>\n",
              "      <td>1.00</td>\n",
              "      <td>71.00</td>\n",
              "      <td>1.00</td>\n",
              "      <td>39.00</td>\n",
              "      <td>...</td>\n",
              "      <td>3,095.00</td>\n",
              "      <td>9.00</td>\n",
              "      <td>0.00</td>\n",
              "      <td>1.00</td>\n",
              "      <td>3.00</td>\n",
              "      <td>15.00</td>\n",
              "      <td>1.00</td>\n",
              "      <td>10.00</td>\n",
              "      <td>0.00</td>\n",
              "      <td>100.00</td>\n",
              "    </tr>\n",
              "    <tr>\n",
              "      <th>75%</th>\n",
              "      <td>31.00</td>\n",
              "      <td>3.00</td>\n",
              "      <td>0.00</td>\n",
              "      <td>1.00</td>\n",
              "      <td>1.00</td>\n",
              "      <td>9.00</td>\n",
              "      <td>1.00</td>\n",
              "      <td>72.00</td>\n",
              "      <td>2.00</td>\n",
              "      <td>40.00</td>\n",
              "      <td>...</td>\n",
              "      <td>3,465.75</td>\n",
              "      <td>9.00</td>\n",
              "      <td>0.00</td>\n",
              "      <td>1.00</td>\n",
              "      <td>3.00</td>\n",
              "      <td>22.00</td>\n",
              "      <td>1.00</td>\n",
              "      <td>10,000.00</td>\n",
              "      <td>0.00</td>\n",
              "      <td>10,000.00</td>\n",
              "    </tr>\n",
              "    <tr>\n",
              "      <th>max</th>\n",
              "      <td>50.00</td>\n",
              "      <td>12.00</td>\n",
              "      <td>7.00</td>\n",
              "      <td>9.00</td>\n",
              "      <td>9.00</td>\n",
              "      <td>99.00</td>\n",
              "      <td>1.00</td>\n",
              "      <td>132.00</td>\n",
              "      <td>2.00</td>\n",
              "      <td>99.00</td>\n",
              "      <td>...</td>\n",
              "      <td>9,999.00</td>\n",
              "      <td>99.00</td>\n",
              "      <td>99.00</td>\n",
              "      <td>3.00</td>\n",
              "      <td>3.00</td>\n",
              "      <td>32.00</td>\n",
              "      <td>1.00</td>\n",
              "      <td>10,000.00</td>\n",
              "      <td>10,000.00</td>\n",
              "      <td>20,000.00</td>\n",
              "    </tr>\n",
              "  </tbody>\n",
              "</table>\n",
              "<p>8 rows × 21 columns</p>\n",
              "</div>\n",
              "    <div class=\"colab-df-buttons\">\n",
              "\n",
              "  <div class=\"colab-df-container\">\n",
              "    <button class=\"colab-df-convert\" onclick=\"convertToInteractive('df-36dd162b-890f-4aad-a9a0-74a230c2ea2a')\"\n",
              "            title=\"Convert this dataframe to an interactive table.\"\n",
              "            style=\"display:none;\">\n",
              "\n",
              "  <svg xmlns=\"http://www.w3.org/2000/svg\" height=\"24px\" viewBox=\"0 -960 960 960\">\n",
              "    <path d=\"M120-120v-720h720v720H120Zm60-500h600v-160H180v160Zm220 220h160v-160H400v160Zm0 220h160v-160H400v160ZM180-400h160v-160H180v160Zm440 0h160v-160H620v160ZM180-180h160v-160H180v160Zm440 0h160v-160H620v160Z\"/>\n",
              "  </svg>\n",
              "    </button>\n",
              "\n",
              "  <style>\n",
              "    .colab-df-container {\n",
              "      display:flex;\n",
              "      gap: 12px;\n",
              "    }\n",
              "\n",
              "    .colab-df-convert {\n",
              "      background-color: #E8F0FE;\n",
              "      border: none;\n",
              "      border-radius: 50%;\n",
              "      cursor: pointer;\n",
              "      display: none;\n",
              "      fill: #1967D2;\n",
              "      height: 32px;\n",
              "      padding: 0 0 0 0;\n",
              "      width: 32px;\n",
              "    }\n",
              "\n",
              "    .colab-df-convert:hover {\n",
              "      background-color: #E2EBFA;\n",
              "      box-shadow: 0px 1px 2px rgba(60, 64, 67, 0.3), 0px 1px 3px 1px rgba(60, 64, 67, 0.15);\n",
              "      fill: #174EA6;\n",
              "    }\n",
              "\n",
              "    .colab-df-buttons div {\n",
              "      margin-bottom: 4px;\n",
              "    }\n",
              "\n",
              "    [theme=dark] .colab-df-convert {\n",
              "      background-color: #3B4455;\n",
              "      fill: #D2E3FC;\n",
              "    }\n",
              "\n",
              "    [theme=dark] .colab-df-convert:hover {\n",
              "      background-color: #434B5C;\n",
              "      box-shadow: 0px 1px 3px 1px rgba(0, 0, 0, 0.15);\n",
              "      filter: drop-shadow(0px 1px 2px rgba(0, 0, 0, 0.3));\n",
              "      fill: #FFFFFF;\n",
              "    }\n",
              "  </style>\n",
              "\n",
              "    <script>\n",
              "      const buttonEl =\n",
              "        document.querySelector('#df-36dd162b-890f-4aad-a9a0-74a230c2ea2a button.colab-df-convert');\n",
              "      buttonEl.style.display =\n",
              "        google.colab.kernel.accessAllowed ? 'block' : 'none';\n",
              "\n",
              "      async function convertToInteractive(key) {\n",
              "        const element = document.querySelector('#df-36dd162b-890f-4aad-a9a0-74a230c2ea2a');\n",
              "        const dataTable =\n",
              "          await google.colab.kernel.invokeFunction('convertToInteractive',\n",
              "                                                    [key], {});\n",
              "        if (!dataTable) return;\n",
              "\n",
              "        const docLinkHtml = 'Like what you see? Visit the ' +\n",
              "          '<a target=\"_blank\" href=https://colab.research.google.com/notebooks/data_table.ipynb>data table notebook</a>'\n",
              "          + ' to learn more about interactive tables.';\n",
              "        element.innerHTML = '';\n",
              "        dataTable['output_type'] = 'display_data';\n",
              "        await google.colab.output.renderOutput(dataTable, element);\n",
              "        const docLink = document.createElement('div');\n",
              "        docLink.innerHTML = docLinkHtml;\n",
              "        element.appendChild(docLink);\n",
              "      }\n",
              "    </script>\n",
              "  </div>\n",
              "\n",
              "\n",
              "<div id=\"df-9181ef2a-aeda-4d03-b6bf-a5ee114eb6e1\">\n",
              "  <button class=\"colab-df-quickchart\" onclick=\"quickchart('df-9181ef2a-aeda-4d03-b6bf-a5ee114eb6e1')\"\n",
              "            title=\"Suggest charts\"\n",
              "            style=\"display:none;\">\n",
              "\n",
              "<svg xmlns=\"http://www.w3.org/2000/svg\" height=\"24px\"viewBox=\"0 0 24 24\"\n",
              "     width=\"24px\">\n",
              "    <g>\n",
              "        <path d=\"M19 3H5c-1.1 0-2 .9-2 2v14c0 1.1.9 2 2 2h14c1.1 0 2-.9 2-2V5c0-1.1-.9-2-2-2zM9 17H7v-7h2v7zm4 0h-2V7h2v10zm4 0h-2v-4h2v4z\"/>\n",
              "    </g>\n",
              "</svg>\n",
              "  </button>\n",
              "\n",
              "<style>\n",
              "  .colab-df-quickchart {\n",
              "      --bg-color: #E8F0FE;\n",
              "      --fill-color: #1967D2;\n",
              "      --hover-bg-color: #E2EBFA;\n",
              "      --hover-fill-color: #174EA6;\n",
              "      --disabled-fill-color: #AAA;\n",
              "      --disabled-bg-color: #DDD;\n",
              "  }\n",
              "\n",
              "  [theme=dark] .colab-df-quickchart {\n",
              "      --bg-color: #3B4455;\n",
              "      --fill-color: #D2E3FC;\n",
              "      --hover-bg-color: #434B5C;\n",
              "      --hover-fill-color: #FFFFFF;\n",
              "      --disabled-bg-color: #3B4455;\n",
              "      --disabled-fill-color: #666;\n",
              "  }\n",
              "\n",
              "  .colab-df-quickchart {\n",
              "    background-color: var(--bg-color);\n",
              "    border: none;\n",
              "    border-radius: 50%;\n",
              "    cursor: pointer;\n",
              "    display: none;\n",
              "    fill: var(--fill-color);\n",
              "    height: 32px;\n",
              "    padding: 0;\n",
              "    width: 32px;\n",
              "  }\n",
              "\n",
              "  .colab-df-quickchart:hover {\n",
              "    background-color: var(--hover-bg-color);\n",
              "    box-shadow: 0 1px 2px rgba(60, 64, 67, 0.3), 0 1px 3px 1px rgba(60, 64, 67, 0.15);\n",
              "    fill: var(--button-hover-fill-color);\n",
              "  }\n",
              "\n",
              "  .colab-df-quickchart-complete:disabled,\n",
              "  .colab-df-quickchart-complete:disabled:hover {\n",
              "    background-color: var(--disabled-bg-color);\n",
              "    fill: var(--disabled-fill-color);\n",
              "    box-shadow: none;\n",
              "  }\n",
              "\n",
              "  .colab-df-spinner {\n",
              "    border: 2px solid var(--fill-color);\n",
              "    border-color: transparent;\n",
              "    border-bottom-color: var(--fill-color);\n",
              "    animation:\n",
              "      spin 1s steps(1) infinite;\n",
              "  }\n",
              "\n",
              "  @keyframes spin {\n",
              "    0% {\n",
              "      border-color: transparent;\n",
              "      border-bottom-color: var(--fill-color);\n",
              "      border-left-color: var(--fill-color);\n",
              "    }\n",
              "    20% {\n",
              "      border-color: transparent;\n",
              "      border-left-color: var(--fill-color);\n",
              "      border-top-color: var(--fill-color);\n",
              "    }\n",
              "    30% {\n",
              "      border-color: transparent;\n",
              "      border-left-color: var(--fill-color);\n",
              "      border-top-color: var(--fill-color);\n",
              "      border-right-color: var(--fill-color);\n",
              "    }\n",
              "    40% {\n",
              "      border-color: transparent;\n",
              "      border-right-color: var(--fill-color);\n",
              "      border-top-color: var(--fill-color);\n",
              "    }\n",
              "    60% {\n",
              "      border-color: transparent;\n",
              "      border-right-color: var(--fill-color);\n",
              "    }\n",
              "    80% {\n",
              "      border-color: transparent;\n",
              "      border-right-color: var(--fill-color);\n",
              "      border-bottom-color: var(--fill-color);\n",
              "    }\n",
              "    90% {\n",
              "      border-color: transparent;\n",
              "      border-bottom-color: var(--fill-color);\n",
              "    }\n",
              "  }\n",
              "</style>\n",
              "\n",
              "  <script>\n",
              "    async function quickchart(key) {\n",
              "      const quickchartButtonEl =\n",
              "        document.querySelector('#' + key + ' button');\n",
              "      quickchartButtonEl.disabled = true;  // To prevent multiple clicks.\n",
              "      quickchartButtonEl.classList.add('colab-df-spinner');\n",
              "      try {\n",
              "        const charts = await google.colab.kernel.invokeFunction(\n",
              "            'suggestCharts', [key], {});\n",
              "      } catch (error) {\n",
              "        console.error('Error during call to suggestCharts:', error);\n",
              "      }\n",
              "      quickchartButtonEl.classList.remove('colab-df-spinner');\n",
              "      quickchartButtonEl.classList.add('colab-df-quickchart-complete');\n",
              "    }\n",
              "    (() => {\n",
              "      let quickchartButtonEl =\n",
              "        document.querySelector('#df-9181ef2a-aeda-4d03-b6bf-a5ee114eb6e1 button');\n",
              "      quickchartButtonEl.style.display =\n",
              "        google.colab.kernel.accessAllowed ? 'block' : 'none';\n",
              "    })();\n",
              "  </script>\n",
              "</div>\n",
              "\n",
              "    </div>\n",
              "  </div>\n"
            ]
          },
          "metadata": {},
          "execution_count": 65
        }
      ]
    },
    {
      "cell_type": "code",
      "source": [
        "df[df[label] == 1].mode(numeric_only=True)"
      ],
      "metadata": {
        "colab": {
          "base_uri": "https://localhost:8080/",
          "height": 147
        },
        "id": "cJGSo5JbPDUk",
        "outputId": "ea582865-25d5-4fdd-e351-16e68e82e656"
      },
      "execution_count": 66,
      "outputs": [
        {
          "output_type": "execute_result",
          "data": {
            "text/plain": [
              "   EDAD  NUMEROEMBARAZOS  HIJOSNACIDOSMUERTOS  ATENCIONPRENATAL  \\\n",
              "0    28                1                    0                 1   \n",
              "\n",
              "   TRIMESTREPRIMERCONSULTA  TOTALCONSULTAS  SOBREVIVIOPARTO  ESCOLARIDAD  \\\n",
              "0                        1             8.0                1           51   \n",
              "\n",
              "   SEXO  EDADGESTACIONAL  ...  PESO  APGAR  SILVERMAN  PRODUCTOEMBARAZO  \\\n",
              "0     1               39  ...  9999      9          0                 1   \n",
              "\n",
              "   RESOLUCIONEMBARAZO  ENTIDADFEDERATIVAPARTO  MCC-General  MC-1  MC-2  MC-G  \n",
              "0                   3                      15          1.0    10     0    10  \n",
              "\n",
              "[1 rows x 21 columns]"
            ],
            "text/html": [
              "\n",
              "  <div id=\"df-02c474bd-8475-4c5e-a764-590b1d917fde\" class=\"colab-df-container\">\n",
              "    <div>\n",
              "<style scoped>\n",
              "    .dataframe tbody tr th:only-of-type {\n",
              "        vertical-align: middle;\n",
              "    }\n",
              "\n",
              "    .dataframe tbody tr th {\n",
              "        vertical-align: top;\n",
              "    }\n",
              "\n",
              "    .dataframe thead th {\n",
              "        text-align: right;\n",
              "    }\n",
              "</style>\n",
              "<table border=\"1\" class=\"dataframe\">\n",
              "  <thead>\n",
              "    <tr style=\"text-align: right;\">\n",
              "      <th></th>\n",
              "      <th>EDAD</th>\n",
              "      <th>NUMEROEMBARAZOS</th>\n",
              "      <th>HIJOSNACIDOSMUERTOS</th>\n",
              "      <th>ATENCIONPRENATAL</th>\n",
              "      <th>TRIMESTREPRIMERCONSULTA</th>\n",
              "      <th>TOTALCONSULTAS</th>\n",
              "      <th>SOBREVIVIOPARTO</th>\n",
              "      <th>ESCOLARIDAD</th>\n",
              "      <th>SEXO</th>\n",
              "      <th>EDADGESTACIONAL</th>\n",
              "      <th>...</th>\n",
              "      <th>PESO</th>\n",
              "      <th>APGAR</th>\n",
              "      <th>SILVERMAN</th>\n",
              "      <th>PRODUCTOEMBARAZO</th>\n",
              "      <th>RESOLUCIONEMBARAZO</th>\n",
              "      <th>ENTIDADFEDERATIVAPARTO</th>\n",
              "      <th>MCC-General</th>\n",
              "      <th>MC-1</th>\n",
              "      <th>MC-2</th>\n",
              "      <th>MC-G</th>\n",
              "    </tr>\n",
              "  </thead>\n",
              "  <tbody>\n",
              "    <tr>\n",
              "      <th>0</th>\n",
              "      <td>28</td>\n",
              "      <td>1</td>\n",
              "      <td>0</td>\n",
              "      <td>1</td>\n",
              "      <td>1</td>\n",
              "      <td>8.0</td>\n",
              "      <td>1</td>\n",
              "      <td>51</td>\n",
              "      <td>1</td>\n",
              "      <td>39</td>\n",
              "      <td>...</td>\n",
              "      <td>9999</td>\n",
              "      <td>9</td>\n",
              "      <td>0</td>\n",
              "      <td>1</td>\n",
              "      <td>3</td>\n",
              "      <td>15</td>\n",
              "      <td>1.0</td>\n",
              "      <td>10</td>\n",
              "      <td>0</td>\n",
              "      <td>10</td>\n",
              "    </tr>\n",
              "  </tbody>\n",
              "</table>\n",
              "<p>1 rows × 21 columns</p>\n",
              "</div>\n",
              "    <div class=\"colab-df-buttons\">\n",
              "\n",
              "  <div class=\"colab-df-container\">\n",
              "    <button class=\"colab-df-convert\" onclick=\"convertToInteractive('df-02c474bd-8475-4c5e-a764-590b1d917fde')\"\n",
              "            title=\"Convert this dataframe to an interactive table.\"\n",
              "            style=\"display:none;\">\n",
              "\n",
              "  <svg xmlns=\"http://www.w3.org/2000/svg\" height=\"24px\" viewBox=\"0 -960 960 960\">\n",
              "    <path d=\"M120-120v-720h720v720H120Zm60-500h600v-160H180v160Zm220 220h160v-160H400v160Zm0 220h160v-160H400v160ZM180-400h160v-160H180v160Zm440 0h160v-160H620v160ZM180-180h160v-160H180v160Zm440 0h160v-160H620v160Z\"/>\n",
              "  </svg>\n",
              "    </button>\n",
              "\n",
              "  <style>\n",
              "    .colab-df-container {\n",
              "      display:flex;\n",
              "      gap: 12px;\n",
              "    }\n",
              "\n",
              "    .colab-df-convert {\n",
              "      background-color: #E8F0FE;\n",
              "      border: none;\n",
              "      border-radius: 50%;\n",
              "      cursor: pointer;\n",
              "      display: none;\n",
              "      fill: #1967D2;\n",
              "      height: 32px;\n",
              "      padding: 0 0 0 0;\n",
              "      width: 32px;\n",
              "    }\n",
              "\n",
              "    .colab-df-convert:hover {\n",
              "      background-color: #E2EBFA;\n",
              "      box-shadow: 0px 1px 2px rgba(60, 64, 67, 0.3), 0px 1px 3px 1px rgba(60, 64, 67, 0.15);\n",
              "      fill: #174EA6;\n",
              "    }\n",
              "\n",
              "    .colab-df-buttons div {\n",
              "      margin-bottom: 4px;\n",
              "    }\n",
              "\n",
              "    [theme=dark] .colab-df-convert {\n",
              "      background-color: #3B4455;\n",
              "      fill: #D2E3FC;\n",
              "    }\n",
              "\n",
              "    [theme=dark] .colab-df-convert:hover {\n",
              "      background-color: #434B5C;\n",
              "      box-shadow: 0px 1px 3px 1px rgba(0, 0, 0, 0.15);\n",
              "      filter: drop-shadow(0px 1px 2px rgba(0, 0, 0, 0.3));\n",
              "      fill: #FFFFFF;\n",
              "    }\n",
              "  </style>\n",
              "\n",
              "    <script>\n",
              "      const buttonEl =\n",
              "        document.querySelector('#df-02c474bd-8475-4c5e-a764-590b1d917fde button.colab-df-convert');\n",
              "      buttonEl.style.display =\n",
              "        google.colab.kernel.accessAllowed ? 'block' : 'none';\n",
              "\n",
              "      async function convertToInteractive(key) {\n",
              "        const element = document.querySelector('#df-02c474bd-8475-4c5e-a764-590b1d917fde');\n",
              "        const dataTable =\n",
              "          await google.colab.kernel.invokeFunction('convertToInteractive',\n",
              "                                                    [key], {});\n",
              "        if (!dataTable) return;\n",
              "\n",
              "        const docLinkHtml = 'Like what you see? Visit the ' +\n",
              "          '<a target=\"_blank\" href=https://colab.research.google.com/notebooks/data_table.ipynb>data table notebook</a>'\n",
              "          + ' to learn more about interactive tables.';\n",
              "        element.innerHTML = '';\n",
              "        dataTable['output_type'] = 'display_data';\n",
              "        await google.colab.output.renderOutput(dataTable, element);\n",
              "        const docLink = document.createElement('div');\n",
              "        docLink.innerHTML = docLinkHtml;\n",
              "        element.appendChild(docLink);\n",
              "      }\n",
              "    </script>\n",
              "  </div>\n",
              "\n",
              "\n",
              "    </div>\n",
              "  </div>\n"
            ]
          },
          "metadata": {},
          "execution_count": 66
        }
      ]
    },
    {
      "cell_type": "markdown",
      "source": [
        "## Malformación congénita craneofacial\n",
        "- Ausente (1)\n",
        "- Presente (2)"
      ],
      "metadata": {
        "id": "2lhcjskgRM-6"
      }
    },
    {
      "cell_type": "code",
      "source": [
        "with pd.option_context('display.max_rows', None, 'display.max_columns', None):  # more options can be specified also\n",
        "    print(df[df[label] == 1].CODIGOCIEANOMALIA1.value_counts().add(df[df[label] == 1].CODIGOCIEANOMALIA2.value_counts(),fill_value=0).sort_values(ascending=False).to_markdown())"
      ],
      "metadata": {
        "colab": {
          "base_uri": "https://localhost:8080/"
        },
        "id": "siNcckXnRdZU",
        "outputId": "12565c6f-9ab8-4fe2-cc2e-d3b520ea2d1b"
      },
      "execution_count": 67,
      "outputs": [
        {
          "output_type": "stream",
          "name": "stdout",
          "text": [
            "|      |    0 |\n",
            "|:-----|-----:|\n",
            "| 0000 | 2585 |\n",
            "| Q170 |  934 |\n",
            "| Q379 |  529 |\n",
            "| Q172 |  510 |\n",
            "| Q369 |  441 |\n",
            "| Q359 |  302 |\n",
            "| Q173 |  213 |\n",
            "| Q381 |  129 |\n",
            "| Q174 |  102 |\n",
            "| Q161 |   81 |\n",
            "| Q179 |   70 |\n",
            "| Q372 |   68 |\n",
            "| Q189 |   67 |\n",
            "| Q181 |   65 |\n",
            "| Q360 |   62 |\n",
            "| Q178 |   55 |\n",
            "| Q160 |   55 |\n",
            "| Q378 |   50 |\n",
            "| Q309 |   49 |\n",
            "| Q386 |   46 |\n",
            "| P073 |   42 |\n",
            "| Q385 |   42 |\n",
            "| Q300 |   37 |\n",
            "| Q184 |   35 |\n",
            "| Q371 |   35 |\n",
            "| P128 |   32 |\n",
            "| Q375 |   28 |\n",
            "| Q188 |   28 |\n",
            "| Q308 |   27 |\n",
            "| Q103 |   27 |\n",
            "| Q370 |   25 |\n",
            "| Q169 |   24 |\n",
            "| P081 |   24 |\n",
            "| P071 |   20 |\n",
            "| Q02X |   19 |\n",
            "| Q374 |   18 |\n",
            "| Q158 |   18 |\n",
            "| Q361 |   18 |\n",
            "| Q699 |   18 |\n",
            "| Q373 |   16 |\n",
            "| P835 |   15 |\n",
            "| 9999 |   13 |\n",
            "| P229 |   13 |\n",
            "| Q355 |   13 |\n",
            "| Q897 |   13 |\n",
            "| K070 |   13 |\n",
            "| Q112 |   12 |\n",
            "| Q382 |   12 |\n",
            "| Q380 |   12 |\n",
            "| Q909 |   12 |\n",
            "| Q120 |   11 |\n",
            "| Q039 |   11 |\n",
            "| Q171 |   11 |\n",
            "| Q652 |   11 |\n",
            "| Q663 |   10 |\n",
            "| Q106 |   10 |\n",
            "| Q105 |   10 |\n",
            "| Q660 |   10 |\n",
            "| Q539 |   10 |\n",
            "| Q353 |    9 |\n",
            "| P209 |    9 |\n",
            "| Q753 |    9 |\n",
            "| Q301 |    9 |\n",
            "| Q531 |    8 |\n",
            "| P220 |    8 |\n",
            "| P072 |    8 |\n",
            "| K429 |    8 |\n",
            "| Q351 |    8 |\n",
            "| P113 |    8 |\n",
            "| Q159 |    7 |\n",
            "| Q111 |    7 |\n",
            "| Q249 |    7 |\n",
            "| Q668 |    7 |\n",
            "| P050 |    7 |\n",
            "| Q670 |    7 |\n",
            "| Q899 |    7 |\n",
            "| P059 |    7 |\n",
            "| Q709 |    6 |\n",
            "| P121 |    6 |\n",
            "| Q059 |    6 |\n",
            "| Q752 |    6 |\n",
            "| P221 |    6 |\n",
            "| Q390 |    6 |\n",
            "| Q302 |    6 |\n",
            "| Q000 |    6 |\n",
            "| P969 |    6 |\n",
            "| Q758 |    6 |\n",
            "| Q164 |    5 |\n",
            "| Q303 |    5 |\n",
            "| Q180 |    5 |\n",
            "| Q750 |    5 |\n",
            "| P120 |    5 |\n",
            "| Q138 |    5 |\n",
            "| Q206 |    5 |\n",
            "| Q357 |    5 |\n",
            "| Q658 |    5 |\n",
            "| Q384 |    5 |\n",
            "| Q532 |    5 |\n",
            "| Q549 |    4 |\n",
            "| Q185 |    4 |\n",
            "| Q870 |    4 |\n",
            "| Q183 |    4 |\n",
            "| Q792 |    4 |\n",
            "| Q759 |    4 |\n",
            "| Q383 |    4 |\n",
            "| Q042 |    4 |\n",
            "| Q764 |    4 |\n",
            "| Q243 |    4 |\n",
            "| P545 |    3 |\n",
            "| Q793 |    3 |\n",
            "| P968 |    3 |\n",
            "| Q270 |    3 |\n",
            "| Q019 |    3 |\n",
            "| Q878 |    3 |\n",
            "| Q674 |    3 |\n",
            "| P159 |    3 |\n",
            "| Q681 |    3 |\n",
            "| Q031 |    3 |\n",
            "| Q828 |    3 |\n",
            "| Q690 |    3 |\n",
            "| Q556 |    3 |\n",
            "| Q388 |    3 |\n",
            "| Q162 |    3 |\n",
            "| P369 |    3 |\n",
            "| Q672 |    3 |\n",
            "| P838 |    3 |\n",
            "| Q439 |    3 |\n",
            "| Q743 |    3 |\n",
            "| Q564 |    3 |\n",
            "| Q742 |    2 |\n",
            "| Q748 |    2 |\n",
            "| Q969 |    2 |\n",
            "| Q898 |    2 |\n",
            "| Q795 |    2 |\n",
            "| Q820 |    2 |\n",
            "| Q423 |    2 |\n",
            "| Q842 |    2 |\n",
            "| Q829 |    2 |\n",
            "| Q790 |    2 |\n",
            "| Q692 |    2 |\n",
            "| Q825 |    2 |\n",
            "| Q186 |    2 |\n",
            "| P138 |    2 |\n",
            "| 7777 |    2 |\n",
            "| P002 |    2 |\n",
            "| P701 |    2 |\n",
            "| Q133 |    2 |\n",
            "| P080 |    2 |\n",
            "| Q101 |    2 |\n",
            "| Q079 |    2 |\n",
            "| Q150 |    2 |\n",
            "| P219 |    2 |\n",
            "| Q175 |    2 |\n",
            "| P134 |    2 |\n",
            "| Q040 |    2 |\n",
            "| D180 |    2 |\n",
            "| Q213 |    2 |\n",
            "| P070 |    2 |\n",
            "| P211 |    2 |\n",
            "| P009 |    2 |\n",
            "| Q741 |    1 |\n",
            "| Q713 |    1 |\n",
            "| Q740 |    1 |\n",
            "| Q730 |    1 |\n",
            "| Q724 |    1 |\n",
            "| P122 |    1 |\n",
            "| Q719 |    1 |\n",
            "| Q229 |    1 |\n",
            "| Q712 |    1 |\n",
            "| Q704 |    1 |\n",
            "| Q703 |    1 |\n",
            "| Q701 |    1 |\n",
            "| Q700 |    1 |\n",
            "| P141 |    1 |\n",
            "| P143 |    1 |\n",
            "| P148 |    1 |\n",
            "| Q682 |    1 |\n",
            "| P154 |    1 |\n",
            "| Q676 |    1 |\n",
            "| P201 |    1 |\n",
            "| Q673 |    1 |\n",
            "| P111 |    1 |\n",
            "| Q760 |    1 |\n",
            "| Q751 |    1 |\n",
            "| P052 |    1 |\n",
            "| R160 |    1 |\n",
            "| Q999 |    1 |\n",
            "| Q968 |    1 |\n",
            "| Q913 |    1 |\n",
            "| D229 |    1 |\n",
            "| D287 |    1 |\n",
            "| D487 |    1 |\n",
            "| E858 |    1 |\n",
            "| H509 |    1 |\n",
            "| K006 |    1 |\n",
            "| Q862 |    1 |\n",
            "| Q860 |    1 |\n",
            "| K061 |    1 |\n",
            "| L059 |    1 |\n",
            "| L209 |    1 |\n",
            "| P011 |    1 |\n",
            "| P012 |    1 |\n",
            "| P025 |    1 |\n",
            "| P031 |    1 |\n",
            "| Q789 |    1 |\n",
            "| P036 |    1 |\n",
            "| P038 |    1 |\n",
            "| P051 |    1 |\n",
            "| Q671 |    1 |\n",
            "| P288 |    1 |\n",
            "| Q669 |    1 |\n",
            "| Q139 |    1 |\n",
            "| Q050 |    1 |\n",
            "| Q054 |    1 |\n",
            "| Q058 |    1 |\n",
            "| Q078 |    1 |\n",
            "| Q100 |    1 |\n",
            "| Q107 |    1 |\n",
            "| Q121 |    1 |\n",
            "| Q122 |    1 |\n",
            "| Q128 |    1 |\n",
            "| Q130 |    1 |\n",
            "| Q132 |    1 |\n",
            "| Q134 |    1 |\n",
            "| Q140 |    1 |\n",
            "| P284 |    1 |\n",
            "| Q142 |    1 |\n",
            "| Q348 |    1 |\n",
            "| Q318 |    1 |\n",
            "| Q165 |    1 |\n",
            "| Q182 |    1 |\n",
            "| Q187 |    1 |\n",
            "| Q200 |    1 |\n",
            "| Q259 |    1 |\n",
            "| Q255 |    1 |\n",
            "| Q251 |    1 |\n",
            "| Q248 |    1 |\n",
            "| Q222 |    1 |\n",
            "| Q045 |    1 |\n",
            "| Q038 |    1 |\n",
            "| P949 |    1 |\n",
            "| P942 |    1 |\n",
            "| Q666 |    1 |\n",
            "| P285 |    1 |\n",
            "| Q234 |    1 |\n",
            "| Q659 |    1 |\n",
            "| P291 |    1 |\n",
            "| P299 |    1 |\n",
            "| Q620 |    1 |\n",
            "| Q600 |    1 |\n",
            "| P362 |    1 |\n",
            "| Q559 |    1 |\n",
            "| Q558 |    1 |\n",
            "| P598 |    1 |\n",
            "| Q552 |    1 |\n",
            "| Q551 |    1 |\n",
            "| Q541 |    1 |\n",
            "| P702 |    1 |\n",
            "| P722 |    1 |\n",
            "| P831 |    1 |\n",
            "| P832 |    1 |\n",
            "| P839 |    1 |\n",
            "| Q420 |    1 |\n",
            "| Q410 |    1 |\n",
            "| Q399 |    1 |\n",
            "| P914 |    1 |\n",
            "| P917 |    1 |\n",
            "| R294 |    1 |\n"
          ]
        }
      ]
    },
    {
      "cell_type": "markdown",
      "source": [
        "## MCF Categórica\n",
        "- Oftalmológicas (1)\n",
        "- Oído (2)\n",
        "- Cara y cuello (3)\n",
        "- Nariz (4)\n",
        "- Lengua y boca (5)"
      ],
      "metadata": {
        "id": "_eaJFZetQz2Y"
      }
    },
    {
      "cell_type": "code",
      "source": [
        "label = \"MC-G2\"\n",
        "mc_value = {\n",
        "    'oftalmo': 1,\n",
        "    'oido': 2,\n",
        "    'cuello': 3,\n",
        "    'nariz': 4,\n",
        "    'boca': 5\n",
        "}"
      ],
      "metadata": {
        "id": "2rQJTeMlJ69N"
      },
      "execution_count": 68,
      "outputs": []
    },
    {
      "cell_type": "markdown",
      "source": [
        "#### Lista oftalmo"
      ],
      "metadata": {
        "id": "R7qrC4J8J3t6"
      }
    },
    {
      "cell_type": "code",
      "source": [
        "value = mc_value['oftalmo']\n",
        "a = df[df[label] == value].CODIGOCIEANOMALIA1.value_counts()\n",
        "b = df[df[label] == value].CODIGOCIEANOMALIA2.value_counts()\n",
        "with pd.option_context('display.max_rows', None, 'display.max_columns', None):  # more options can be specified also\n",
        "    print(a.add(b,fill_value=0).sort_values(ascending=False).to_markdown())"
      ],
      "metadata": {
        "colab": {
          "base_uri": "https://localhost:8080/"
        },
        "id": "ne6QlyL-PzSQ",
        "outputId": "676af916-b594-47be-850c-5b6a5fa8e1f3"
      },
      "execution_count": 69,
      "outputs": [
        {
          "output_type": "stream",
          "name": "stdout",
          "text": [
            "|      |   0 |\n",
            "|:-----|----:|\n",
            "| 0000 |  67 |\n",
            "| Q103 |  18 |\n",
            "| Q158 |  13 |\n",
            "| Q120 |  11 |\n",
            "| Q105 |  10 |\n",
            "| Q112 |   9 |\n",
            "| Q106 |   8 |\n",
            "| Q159 |   6 |\n",
            "| P072 |   5 |\n",
            "| P073 |   4 |\n",
            "| Q138 |   3 |\n",
            "| Q111 |   3 |\n",
            "| Q101 |   2 |\n",
            "| Q150 |   2 |\n",
            "| Q133 |   2 |\n",
            "| P369 |   2 |\n",
            "| P128 |   2 |\n",
            "| Q410 |   1 |\n",
            "| Q134 |   1 |\n",
            "| Q531 |   1 |\n",
            "| P011 |   1 |\n",
            "| Q539 |   1 |\n",
            "| Q669 |   1 |\n",
            "| Q142 |   1 |\n",
            "| Q681 |   1 |\n",
            "| Q140 |   1 |\n",
            "| Q139 |   1 |\n",
            "| Q753 |   1 |\n",
            "| P051 |   1 |\n",
            "| Q122 |   1 |\n",
            "| Q132 |   1 |\n",
            "| Q130 |   1 |\n",
            "| Q128 |   1 |\n",
            "| Q121 |   1 |\n",
            "| 9999 |   1 |\n",
            "| Q107 |   1 |\n",
            "| P050 |   1 |\n",
            "| Q042 |   1 |\n",
            "| P545 |   1 |\n",
            "| P209 |   1 |\n",
            "| P138 |   1 |\n",
            "| P121 |   1 |\n",
            "| P120 |   1 |\n",
            "| Q899 |   1 |\n"
          ]
        }
      ]
    },
    {
      "cell_type": "markdown",
      "source": [
        "#### Lista oido"
      ],
      "metadata": {
        "id": "eqtXnPoBKANm"
      }
    },
    {
      "cell_type": "code",
      "source": [
        "value = mc_value['oido']\n",
        "a = df[df[label] == value].CODIGOCIEANOMALIA1.value_counts()\n",
        "b = df[df[label] == value].CODIGOCIEANOMALIA2.value_counts()\n",
        "with pd.option_context('display.max_rows', None, 'display.max_columns', None):  # more options can be specified also\n",
        "    print(a.add(b,fill_value=0).sort_values(ascending=False).to_markdown())"
      ],
      "metadata": {
        "colab": {
          "base_uri": "https://localhost:8080/"
        },
        "id": "_f1r2nwKSbF0",
        "outputId": "4f31bd75-73ad-47ea-8d03-9c3a9ee19367"
      },
      "execution_count": 70,
      "outputs": [
        {
          "output_type": "stream",
          "name": "stdout",
          "text": [
            "|      |    0 |\n",
            "|:-----|-----:|\n",
            "| 0000 | 1253 |\n",
            "| Q170 |  761 |\n",
            "| Q172 |  355 |\n",
            "| Q173 |  167 |\n",
            "| Q174 |   77 |\n",
            "| Q179 |   51 |\n",
            "| Q161 |   47 |\n",
            "| Q178 |   42 |\n",
            "| Q160 |   41 |\n",
            "| P073 |   23 |\n",
            "| P128 |   22 |\n",
            "| Q169 |   15 |\n",
            "| P071 |   13 |\n",
            "| P081 |   11 |\n",
            "| K070 |    9 |\n",
            "| Q171 |    9 |\n",
            "| 9999 |    9 |\n",
            "| P835 |    8 |\n",
            "| Q699 |    8 |\n",
            "| P113 |    8 |\n",
            "| Q652 |    7 |\n",
            "| K429 |    7 |\n",
            "| Q660 |    6 |\n",
            "| Q670 |    6 |\n",
            "| P220 |    5 |\n",
            "| P229 |    5 |\n",
            "| Q909 |    5 |\n",
            "| Q539 |    5 |\n",
            "| P059 |    4 |\n",
            "| Q206 |    4 |\n",
            "| P969 |    4 |\n",
            "| Q02X |    4 |\n",
            "| Q531 |    4 |\n",
            "| Q532 |    4 |\n",
            "| Q164 |    4 |\n",
            "| Q759 |    3 |\n",
            "| Q059 |    3 |\n",
            "| Q752 |    3 |\n",
            "| Q753 |    3 |\n",
            "| Q039 |    3 |\n",
            "| P209 |    3 |\n",
            "| Q668 |    3 |\n",
            "| P121 |    3 |\n",
            "| Q243 |    3 |\n",
            "| Q870 |    3 |\n",
            "| Q897 |    3 |\n",
            "| P050 |    3 |\n",
            "| Q663 |    2 |\n",
            "| Q658 |    2 |\n",
            "| Q270 |    2 |\n",
            "| Q390 |    2 |\n",
            "| Q439 |    2 |\n",
            "| Q175 |    2 |\n",
            "| P838 |    2 |\n",
            "| Q878 |    2 |\n",
            "| Q898 |    2 |\n",
            "| Q828 |    2 |\n",
            "| Q764 |    2 |\n",
            "| Q758 |    2 |\n",
            "| Q750 |    2 |\n",
            "| P072 |    2 |\n",
            "| P159 |    2 |\n",
            "| Q743 |    2 |\n",
            "| Q969 |    2 |\n",
            "| Q558 |    1 |\n",
            "| Q620 |    1 |\n",
            "| Q795 |    1 |\n",
            "| Q899 |    1 |\n",
            "| Q968 |    1 |\n",
            "| Q842 |    1 |\n",
            "| Q829 |    1 |\n",
            "| Q999 |    1 |\n",
            "| Q825 |    1 |\n",
            "| Q700 |    1 |\n",
            "| Q792 |    1 |\n",
            "| Q793 |    1 |\n",
            "| Q692 |    1 |\n",
            "| Q760 |    1 |\n",
            "| Q673 |    1 |\n",
            "| Q674 |    1 |\n",
            "| Q748 |    1 |\n",
            "| Q676 |    1 |\n",
            "| Q551 |    1 |\n",
            "| Q681 |    1 |\n",
            "| Q713 |    1 |\n",
            "| Q709 |    1 |\n",
            "| Q682 |    1 |\n",
            "| Q690 |    1 |\n",
            "| Q552 |    1 |\n",
            "| D229 |    1 |\n",
            "| Q549 |    1 |\n",
            "| P120 |    1 |\n",
            "| P285 |    1 |\n",
            "| P284 |    1 |\n",
            "| P221 |    1 |\n",
            "| P219 |    1 |\n",
            "| P211 |    1 |\n",
            "| P201 |    1 |\n",
            "| P148 |    1 |\n",
            "| P141 |    1 |\n",
            "| P122 |    1 |\n",
            "| P111 |    1 |\n",
            "| P545 |    1 |\n",
            "| P080 |    1 |\n",
            "| P070 |    1 |\n",
            "| P052 |    1 |\n",
            "| P025 |    1 |\n",
            "| P012 |    1 |\n",
            "| P009 |    1 |\n",
            "| P002 |    1 |\n",
            "| L059 |    1 |\n",
            "| H509 |    1 |\n",
            "| P369 |    1 |\n",
            "| P702 |    1 |\n",
            "| Q541 |    1 |\n",
            "| D180 |    1 |\n",
            "| Q423 |    1 |\n",
            "| Q348 |    1 |\n",
            "| Q251 |    1 |\n",
            "| Q249 |    1 |\n",
            "| Q229 |    1 |\n",
            "| Q213 |    1 |\n",
            "| Q200 |    1 |\n",
            "| E858 |    1 |\n",
            "| 7777 |    1 |\n",
            "| Q165 |    1 |\n",
            "| P831 |    1 |\n",
            "| Q162 |    1 |\n",
            "| Q058 |    1 |\n",
            "| Q045 |    1 |\n",
            "| Q042 |    1 |\n",
            "| Q038 |    1 |\n",
            "| Q031 |    1 |\n",
            "| P968 |    1 |\n",
            "| P949 |    1 |\n",
            "| P839 |    1 |\n",
            "| R160 |    1 |\n"
          ]
        }
      ]
    },
    {
      "cell_type": "markdown",
      "source": [
        "Lista cuello"
      ],
      "metadata": {
        "id": "o5EwUeq2V-s5"
      }
    },
    {
      "cell_type": "code",
      "source": [
        "value = mc_value['cuello']\n",
        "a = df[df[label] == value].CODIGOCIEANOMALIA1.value_counts()\n",
        "b = df[df[label] == value].CODIGOCIEANOMALIA2.value_counts()\n",
        "with pd.option_context('display.max_rows', None, 'display.max_columns', None):  # more options can be specified also\n",
        "    print(a.add(b,fill_value=0).sort_values(ascending=False).to_markdown())"
      ],
      "metadata": {
        "colab": {
          "base_uri": "https://localhost:8080/"
        },
        "id": "FgLSiIAQSiDN",
        "outputId": "342010ff-cf27-432f-e261-a1c4ed9ad3d8"
      },
      "execution_count": 71,
      "outputs": [
        {
          "output_type": "stream",
          "name": "stdout",
          "text": [
            "|      |   0 |\n",
            "|:-----|----:|\n",
            "| 0000 | 117 |\n",
            "| Q181 |  53 |\n",
            "| Q189 |  48 |\n",
            "| Q184 |  31 |\n",
            "| Q188 |  20 |\n",
            "| Q180 |   5 |\n",
            "| P073 |   3 |\n",
            "| P081 |   3 |\n",
            "| P229 |   3 |\n",
            "| Q02X |   3 |\n",
            "| Q186 |   2 |\n",
            "| P128 |   2 |\n",
            "| P221 |   2 |\n",
            "| Q789 |   1 |\n",
            "| Q249 |   1 |\n",
            "| Q531 |   1 |\n",
            "| Q897 |   1 |\n",
            "| Q549 |   1 |\n",
            "| Q556 |   1 |\n",
            "| Q842 |   1 |\n",
            "| Q652 |   1 |\n",
            "| Q600 |   1 |\n",
            "| Q764 |   1 |\n",
            "| Q820 |   1 |\n",
            "| Q742 |   1 |\n",
            "| Q751 |   1 |\n",
            "| Q753 |   1 |\n",
            "| Q758 |   1 |\n",
            "| Q668 |   1 |\n",
            "| Q183 |   1 |\n",
            "| Q187 |   1 |\n",
            "| P121 |   1 |\n",
            "| D180 |   1 |\n",
            "| K006 |   1 |\n",
            "| K429 |   1 |\n",
            "| P031 |   1 |\n",
            "| P036 |   1 |\n",
            "| P120 |   1 |\n",
            "| P134 |   1 |\n",
            "| Q185 |   1 |\n",
            "| P159 |   1 |\n",
            "| P219 |   1 |\n",
            "| P835 |   1 |\n",
            "| P968 |   1 |\n",
            "| Q182 |   1 |\n",
            "| 9999 |   1 |\n",
            "| Q899 |   1 |\n"
          ]
        }
      ]
    },
    {
      "cell_type": "markdown",
      "source": [
        "Lista nariz"
      ],
      "metadata": {
        "id": "nTWPJ0AlWKid"
      }
    },
    {
      "cell_type": "code",
      "source": [
        "value = mc_value['nariz']\n",
        "a = df[df[label] == value].CODIGOCIEANOMALIA1.value_counts()\n",
        "b = df[df[label] == value].CODIGOCIEANOMALIA2.value_counts()\n",
        "with pd.option_context('display.max_rows', None, 'display.max_columns', None):  # more options can be specified also\n",
        "    print(a.add(b,fill_value=0).sort_values(ascending=False).to_markdown())"
      ],
      "metadata": {
        "colab": {
          "base_uri": "https://localhost:8080/"
        },
        "id": "yY_A1GIBS3FC",
        "outputId": "d5247f36-6e6d-46c1-9964-d589cd1389ab"
      },
      "execution_count": 72,
      "outputs": [
        {
          "output_type": "stream",
          "name": "stdout",
          "text": [
            "|      |   0 |\n",
            "|:-----|----:|\n",
            "| 0000 |  53 |\n",
            "| Q309 |  28 |\n",
            "| Q300 |  28 |\n",
            "| Q308 |  19 |\n",
            "| Q303 |   5 |\n",
            "| Q301 |   5 |\n",
            "| Q302 |   4 |\n",
            "| P081 |   2 |\n",
            "| Q752 |   2 |\n",
            "| Q672 |   2 |\n",
            "| Q02X |   2 |\n",
            "| P050 |   2 |\n",
            "| Q909 |   2 |\n",
            "| Q764 |   1 |\n",
            "| Q719 |   1 |\n",
            "| Q681 |   1 |\n",
            "| Q660 |   1 |\n",
            "| Q390 |   1 |\n",
            "| Q870 |   1 |\n",
            "| Q878 |   1 |\n",
            "| Q699 |   1 |\n",
            "| Q243 |   1 |\n",
            "| K070 |   1 |\n",
            "| Q059 |   1 |\n",
            "| Q042 |   1 |\n",
            "| Q039 |   1 |\n",
            "| Q000 |   1 |\n",
            "| P969 |   1 |\n",
            "| P722 |   1 |\n",
            "| P288 |   1 |\n",
            "| P229 |   1 |\n",
            "| P220 |   1 |\n",
            "| P073 |   1 |\n",
            "| P071 |   1 |\n",
            "| P038 |   1 |\n",
            "| L209 |   1 |\n",
            "| R294 |   1 |\n"
          ]
        }
      ]
    },
    {
      "cell_type": "markdown",
      "source": [
        "Lista lengua y boca"
      ],
      "metadata": {
        "id": "TWBVkkeKWNFg"
      }
    },
    {
      "cell_type": "code",
      "source": [
        "value = mc_value['boca']\n",
        "a = df[df[label] == value].CODIGOCIEANOMALIA1.value_counts()\n",
        "b = df[df[label] == value].CODIGOCIEANOMALIA2.value_counts()\n",
        "with pd.option_context('display.max_rows', None, 'display.max_columns', None):  # more options can be specified also\n",
        "    print(a.add(b,fill_value=0).sort_values(ascending=False).to_markdown())"
      ],
      "metadata": {
        "colab": {
          "base_uri": "https://localhost:8080/"
        },
        "id": "WLBW51itS9ML",
        "outputId": "1d0b64c4-0b33-4ac5-bf06-1d57fddff325"
      },
      "execution_count": 73,
      "outputs": [
        {
          "output_type": "stream",
          "name": "stdout",
          "text": [
            "|      |    0 |\n",
            "|:-----|-----:|\n",
            "| 0000 | 1095 |\n",
            "| Q379 |  398 |\n",
            "| Q369 |  304 |\n",
            "| Q359 |  182 |\n",
            "| Q381 |  112 |\n",
            "| Q372 |   48 |\n",
            "| Q360 |   47 |\n",
            "| Q378 |   44 |\n",
            "| Q386 |   39 |\n",
            "| Q385 |   32 |\n",
            "| Q371 |   24 |\n",
            "| Q375 |   23 |\n",
            "| Q370 |   19 |\n",
            "| Q373 |   12 |\n",
            "| P073 |   11 |\n",
            "| Q380 |   11 |\n",
            "| Q374 |   11 |\n",
            "| Q02X |   10 |\n",
            "| Q382 |   10 |\n",
            "| Q361 |   10 |\n",
            "| Q897 |    9 |\n",
            "| Q353 |    9 |\n",
            "| Q699 |    9 |\n",
            "| Q663 |    8 |\n",
            "| P081 |    8 |\n",
            "| Q355 |    7 |\n",
            "| Q039 |    7 |\n",
            "| P835 |    6 |\n",
            "| P071 |    6 |\n",
            "| P128 |    6 |\n",
            "| P209 |    5 |\n",
            "| Q709 |    5 |\n",
            "| Q249 |    5 |\n",
            "| Q909 |    5 |\n",
            "| Q384 |    5 |\n",
            "| Q000 |    5 |\n",
            "| Q753 |    4 |\n",
            "| P229 |    4 |\n",
            "| Q539 |    4 |\n",
            "| Q899 |    4 |\n",
            "| P059 |    3 |\n",
            "| Q357 |    3 |\n",
            "| Q668 |    3 |\n",
            "| K070 |    3 |\n",
            "| Q383 |    3 |\n",
            "| Q019 |    3 |\n",
            "| Q390 |    3 |\n",
            "| Q564 |    3 |\n",
            "| Q652 |    3 |\n",
            "| Q658 |    3 |\n",
            "| P221 |    3 |\n",
            "| Q750 |    3 |\n",
            "| Q660 |    3 |\n",
            "| Q388 |    3 |\n",
            "| Q792 |    3 |\n",
            "| Q758 |    3 |\n",
            "| Q351 |    3 |\n",
            "| Q674 |    2 |\n",
            "| Q690 |    2 |\n",
            "| 9999 |    2 |\n",
            "| Q531 |    2 |\n",
            "| Q549 |    2 |\n",
            "| Q556 |    2 |\n",
            "| P120 |    2 |\n",
            "| Q790 |    2 |\n",
            "| Q031 |    2 |\n",
            "| Q040 |    2 |\n",
            "| P701 |    2 |\n",
            "| Q079 |    2 |\n",
            "| P220 |    2 |\n",
            "| Q059 |    2 |\n",
            "| Q793 |    2 |\n",
            "| Q701 |    1 |\n",
            "| Q820 |    1 |\n",
            "| Q795 |    1 |\n",
            "| Q659 |    1 |\n",
            "| Q825 |    1 |\n",
            "| Q752 |    1 |\n",
            "| Q828 |    1 |\n",
            "| Q829 |    1 |\n",
            "| Q860 |    1 |\n",
            "| Q862 |    1 |\n",
            "| Q759 |    1 |\n",
            "| Q748 |    1 |\n",
            "| Q666 |    1 |\n",
            "| Q692 |    1 |\n",
            "| Q670 |    1 |\n",
            "| Q743 |    1 |\n",
            "| Q742 |    1 |\n",
            "| Q671 |    1 |\n",
            "| Q672 |    1 |\n",
            "| Q741 |    1 |\n",
            "| Q740 |    1 |\n",
            "| Q730 |    1 |\n",
            "| Q559 |    1 |\n",
            "| Q712 |    1 |\n",
            "| Q704 |    1 |\n",
            "| Q703 |    1 |\n",
            "| Q724 |    1 |\n",
            "| P072 |    1 |\n",
            "| Q532 |    1 |\n",
            "| P545 |    1 |\n",
            "| Q042 |    1 |\n",
            "| P969 |    1 |\n",
            "| P968 |    1 |\n",
            "| P942 |    1 |\n",
            "| P917 |    1 |\n",
            "| P914 |    1 |\n",
            "| P838 |    1 |\n",
            "| P832 |    1 |\n",
            "| P598 |    1 |\n",
            "| P362 |    1 |\n",
            "| Q439 |    1 |\n",
            "| P299 |    1 |\n",
            "| P291 |    1 |\n",
            "| P211 |    1 |\n",
            "| P154 |    1 |\n",
            "| P143 |    1 |\n",
            "| P138 |    1 |\n",
            "| P134 |    1 |\n",
            "| P121 |    1 |\n",
            "| P080 |    1 |\n",
            "| Q050 |    1 |\n",
            "| Q054 |    1 |\n",
            "| Q078 |    1 |\n",
            "| Q206 |    1 |\n",
            "| Q423 |    1 |\n",
            "| Q420 |    1 |\n",
            "| Q399 |    1 |\n",
            "| D287 |    1 |\n",
            "| D487 |    1 |\n",
            "| K061 |    1 |\n",
            "| P002 |    1 |\n",
            "| P009 |    1 |\n",
            "| P050 |    1 |\n",
            "| 7777 |    1 |\n",
            "| P070 |    1 |\n",
            "| Q318 |    1 |\n",
            "| Q270 |    1 |\n",
            "| Q259 |    1 |\n",
            "| Q255 |    1 |\n",
            "| Q248 |    1 |\n",
            "| Q234 |    1 |\n",
            "| Q222 |    1 |\n",
            "| Q213 |    1 |\n",
            "| Q913 |    1 |\n"
          ]
        }
      ]
    },
    {
      "cell_type": "code",
      "source": [
        "label=\"S-MG\"\n",
        "a = df[(df[label] == 1) | (df[label] == 2)].CODIGOCIEANOMALIA1.value_counts()\n",
        "b = df[(df[label] == 1) | (df[label] == 2)].CODIGOCIEANOMALIA2.value_counts()\n",
        "with pd.option_context('display.max_rows', None, 'display.max_columns', None):  # more options can be specified also\n",
        "    print(a.add(b,fill_value=0).sort_values(ascending=False))"
      ],
      "metadata": {
        "id": "Jy0zW5wKS-dv",
        "colab": {
          "base_uri": "https://localhost:8080/"
        },
        "outputId": "23b794e7-6a16-4cc4-c766-7e3e368d6fc9"
      },
      "execution_count": 74,
      "outputs": [
        {
          "output_type": "stream",
          "name": "stdout",
          "text": [
            "Q170    283.0\n",
            "Q172    235.0\n",
            "Q379    199.0\n",
            "Q359    179.0\n",
            "Q369    172.0\n",
            "Q173     89.0\n",
            "Q174     61.0\n",
            "P073     42.0\n",
            "Q161     41.0\n",
            "Q189     38.0\n",
            "Q381     35.0\n",
            "Q309     33.0\n",
            "P128     32.0\n",
            "Q372     29.0\n",
            "Q360     29.0\n",
            "Q179     27.0\n",
            "Q160     25.0\n",
            "P081     24.0\n",
            "Q385     21.0\n",
            "Q178     20.0\n",
            "P071     20.0\n",
            "Q181     20.0\n",
            "Q02X     19.0\n",
            "Q371     18.0\n",
            "Q300     18.0\n",
            "Q699     18.0\n",
            "Q103     16.0\n",
            "Q184     15.0\n",
            "Q169     15.0\n",
            "P835     15.0\n",
            "Q308     14.0\n",
            "P229     13.0\n",
            "Q158     13.0\n",
            "K070     13.0\n",
            "Q897     13.0\n",
            "Q909     12.0\n",
            "Q188     12.0\n",
            "Q378     12.0\n",
            "Q370     11.0\n",
            "Q039     11.0\n",
            "Q652     11.0\n",
            "Q663     10.0\n",
            "Q660     10.0\n",
            "Q361     10.0\n",
            "Q539     10.0\n",
            "Q374      9.0\n",
            "P209      9.0\n",
            "Q373      9.0\n",
            "Q386      9.0\n",
            "Q753      9.0\n",
            "Q531      8.0\n",
            "K429      8.0\n",
            "P072      8.0\n",
            "P220      8.0\n",
            "P113      8.0\n",
            "Q375      8.0\n",
            "Q301      7.0\n",
            "Q670      7.0\n",
            "Q668      7.0\n",
            "Q249      7.0\n",
            "P050      7.0\n",
            "Q899      7.0\n",
            "P059      7.0\n",
            "Q059      6.0\n",
            "Q709      6.0\n",
            "Q382      6.0\n",
            "Q390      6.0\n",
            "Q000      6.0\n",
            "P969      6.0\n",
            "P121      6.0\n",
            "Q758      6.0\n",
            "Q752      6.0\n",
            "Q355      6.0\n",
            "Q112      6.0\n",
            "P221      6.0\n",
            "Q138      5.0\n",
            "Q532      5.0\n",
            "Q111      5.0\n",
            "Q658      5.0\n",
            "Q750      5.0\n",
            "Q206      5.0\n",
            "P120      5.0\n",
            "Q380      5.0\n",
            "Q351      5.0\n",
            "Q357      4.0\n",
            "Q759      4.0\n",
            "Q243      4.0\n",
            "Q764      4.0\n",
            "Q792      4.0\n",
            "Q549      4.0\n",
            "Q183      4.0\n",
            "Q042      4.0\n",
            "Q870      4.0\n",
            "Q302      4.0\n",
            "Q303      4.0\n",
            "Q674      3.0\n",
            "Q162      3.0\n",
            "Q672      3.0\n",
            "Q164      3.0\n",
            "Q185      3.0\n",
            "Q556      3.0\n",
            "Q681      3.0\n",
            "P545      3.0\n",
            "Q564      3.0\n",
            "Q439      3.0\n",
            "Q878      3.0\n",
            "Q828      3.0\n",
            "Q383      3.0\n",
            "Q793      3.0\n",
            "P159      3.0\n",
            "Q106      3.0\n",
            "P369      3.0\n",
            "P838      3.0\n",
            "P968      3.0\n",
            "Q019      3.0\n",
            "Q031      3.0\n",
            "Q270      3.0\n",
            "Q690      3.0\n",
            "Q743      3.0\n",
            "Q213      2.0\n",
            "Q353      2.0\n",
            "Q388      2.0\n",
            "D180      2.0\n",
            "Q423      2.0\n",
            "7777      2.0\n",
            "Q692      2.0\n",
            "P134      2.0\n",
            "Q790      2.0\n",
            "Q795      2.0\n",
            "P211      2.0\n",
            "P219      2.0\n",
            "Q820      2.0\n",
            "P080      2.0\n",
            "P701      2.0\n",
            "Q748      2.0\n",
            "Q742      2.0\n",
            "P070      2.0\n",
            "Q825      2.0\n",
            "Q829      2.0\n",
            "Q842      2.0\n",
            "P009      2.0\n",
            "Q079      2.0\n",
            "Q898      2.0\n",
            "Q171      2.0\n",
            "Q159      2.0\n",
            "Q969      2.0\n",
            "P138      2.0\n",
            "P002      2.0\n",
            "Q040      2.0\n",
            "Q913      1.0\n",
            "Q968      1.0\n",
            "Q862      1.0\n",
            "Q600      1.0\n",
            "Q999      1.0\n",
            "R160      1.0\n",
            "Q559      1.0\n",
            "Q860      1.0\n",
            "Q620      1.0\n",
            "Q673      1.0\n",
            "Q789      1.0\n",
            "Q704      1.0\n",
            "Q669      1.0\n",
            "Q676      1.0\n",
            "Q682      1.0\n",
            "Q666      1.0\n",
            "Q558      1.0\n",
            "Q700      1.0\n",
            "Q701      1.0\n",
            "Q703      1.0\n",
            "Q712      1.0\n",
            "Q671      1.0\n",
            "Q713      1.0\n",
            "Q659      1.0\n",
            "Q719      1.0\n",
            "Q724      1.0\n",
            "Q730      1.0\n",
            "Q740      1.0\n",
            "Q741      1.0\n",
            "Q751      1.0\n",
            "Q760      1.0\n",
            "Q222      1.0\n",
            "Q552      1.0\n",
            "P284      1.0\n",
            "P122      1.0\n",
            "P141      1.0\n",
            "P143      1.0\n",
            "P148      1.0\n",
            "P154      1.0\n",
            "P201      1.0\n",
            "P285      1.0\n",
            "P052      1.0\n",
            "P288      1.0\n",
            "P291      1.0\n",
            "P299      1.0\n",
            "P362      1.0\n",
            "P598      1.0\n",
            "P702      1.0\n",
            "P111      1.0\n",
            "P051      1.0\n",
            "Q551      1.0\n",
            "K061      1.0\n",
            "D229      1.0\n",
            "D287      1.0\n",
            "D487      1.0\n",
            "E858      1.0\n",
            "H509      1.0\n",
            "K006      1.0\n",
            "L059      1.0\n",
            "P038      1.0\n",
            "L209      1.0\n",
            "P011      1.0\n",
            "P012      1.0\n",
            "P025      1.0\n",
            "P031      1.0\n",
            "P036      1.0\n",
            "P722      1.0\n",
            "P831      1.0\n",
            "P832      1.0\n",
            "Q255      1.0\n",
            "Q186      1.0\n",
            "Q200      1.0\n",
            "Q229      1.0\n",
            "Q234      1.0\n",
            "Q248      1.0\n",
            "Q251      1.0\n",
            "Q259      1.0\n",
            "P839      1.0\n",
            "Q318      1.0\n",
            "Q348      1.0\n",
            "Q399      1.0\n",
            "Q410      1.0\n",
            "Q420      1.0\n",
            "Q541      1.0\n",
            "Q180      1.0\n",
            "Q142      1.0\n",
            "Q130      1.0\n",
            "Q120      1.0\n",
            "Q105      1.0\n",
            "Q101      1.0\n",
            "Q100      1.0\n",
            "Q078      1.0\n",
            "Q058      1.0\n",
            "Q054      1.0\n",
            "Q050      1.0\n",
            "Q045      1.0\n",
            "Q038      1.0\n",
            "P949      1.0\n",
            "P942      1.0\n",
            "P917      1.0\n",
            "P914      1.0\n",
            "R294      1.0\n",
            "dtype: float64\n"
          ]
        }
      ]
    },
    {
      "cell_type": "code",
      "source": [],
      "metadata": {
        "id": "B47_CAO_Ylfi"
      },
      "execution_count": 74,
      "outputs": []
    }
  ]
}